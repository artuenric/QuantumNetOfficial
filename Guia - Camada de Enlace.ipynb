{
 "cells": [
  {
   "cell_type": "markdown",
   "metadata": {},
   "source": [
    "# Guia da Camada de Enlace\n",
    "### IMPORTANDO AS DEPENDÊNCIAS\n",
    "##### O documento tem o objetivo de demostrar o funcionamento da camada de enlace, além de suas funções e ferramentas"
   ]
  },
  {
   "cell_type": "code",
   "execution_count": 1,
   "metadata": {},
   "outputs": [],
   "source": [
    "from quantumnet.components import Network, Host\n",
    "from quantumnet.objects import Qubit, Logger\n",
    "Logger.activate(Logger)"
   ]
  },
  {
   "cell_type": "markdown",
   "metadata": {},
   "source": [
    "##### Instanciando a rede, e setando a topologia."
   ]
  },
  {
   "cell_type": "code",
   "execution_count": 2,
   "metadata": {},
   "outputs": [
    {
     "name": "stderr",
     "output_type": "stream",
     "text": [
      "2024-09-10 16:41:49,939: Qubit 0 adicionado à memória do Host 0.\n",
      "2024-09-10 16:41:49,947: Qubit 0 criado com fidelidade inicial 0.9149564257135194 e adicionado à memória do Host 0.\n",
      "2024-09-10 16:41:49,950: Qubit 1 adicionado à memória do Host 0.\n",
      "2024-09-10 16:41:49,952: Qubit 1 criado com fidelidade inicial 0.9921665474437341 e adicionado à memória do Host 0.\n",
      "2024-09-10 16:41:49,954: Qubit 2 adicionado à memória do Host 0.\n",
      "2024-09-10 16:41:49,968: Qubit 2 criado com fidelidade inicial 0.07799807027599848 e adicionado à memória do Host 0.\n",
      "2024-09-10 16:41:49,969: Qubit 3 adicionado à memória do Host 0.\n",
      "2024-09-10 16:41:49,969: Qubit 3 criado com fidelidade inicial 0.3223698721384157 e adicionado à memória do Host 0.\n",
      "2024-09-10 16:41:49,970: Qubit 4 adicionado à memória do Host 0.\n",
      "2024-09-10 16:41:49,971: Qubit 4 criado com fidelidade inicial 0.332817885703212 e adicionado à memória do Host 0.\n",
      "2024-09-10 16:41:49,973: Qubit 5 adicionado à memória do Host 0.\n",
      "2024-09-10 16:41:49,974: Qubit 5 criado com fidelidade inicial 0.4109220986611082 e adicionado à memória do Host 0.\n",
      "2024-09-10 16:41:49,975: Qubit 6 adicionado à memória do Host 0.\n",
      "2024-09-10 16:41:49,976: Qubit 6 criado com fidelidade inicial 0.32759303617671653 e adicionado à memória do Host 0.\n",
      "2024-09-10 16:41:49,976: Qubit 7 adicionado à memória do Host 0.\n",
      "2024-09-10 16:41:49,979: Qubit 7 criado com fidelidade inicial 0.5465129884241793 e adicionado à memória do Host 0.\n",
      "2024-09-10 16:41:49,984: Qubit 8 adicionado à memória do Host 0.\n",
      "2024-09-10 16:41:49,986: Qubit 8 criado com fidelidade inicial 0.22364551960423074 e adicionado à memória do Host 0.\n",
      "2024-09-10 16:41:49,989: Qubit 9 adicionado à memória do Host 0.\n",
      "2024-09-10 16:41:49,993: Qubit 9 criado com fidelidade inicial 0.5957368786307734 e adicionado à memória do Host 0.\n",
      "2024-09-10 16:41:50,007: Qubit 10 adicionado à memória do Host 1.\n",
      "2024-09-10 16:41:50,008: Qubit 10 criado com fidelidade inicial 0.25359690250322775 e adicionado à memória do Host 1.\n",
      "2024-09-10 16:41:50,009: Qubit 11 adicionado à memória do Host 1.\n",
      "2024-09-10 16:41:50,012: Qubit 11 criado com fidelidade inicial 0.5131389545334795 e adicionado à memória do Host 1.\n",
      "2024-09-10 16:41:50,015: Qubit 12 adicionado à memória do Host 1.\n",
      "2024-09-10 16:41:50,018: Qubit 12 criado com fidelidade inicial 0.965648324824362 e adicionado à memória do Host 1.\n",
      "2024-09-10 16:41:50,019: Qubit 13 adicionado à memória do Host 1.\n",
      "2024-09-10 16:41:50,019: Qubit 13 criado com fidelidade inicial 0.06221296280210731 e adicionado à memória do Host 1.\n",
      "2024-09-10 16:41:50,020: Qubit 14 adicionado à memória do Host 1.\n",
      "2024-09-10 16:41:50,020: Qubit 14 criado com fidelidade inicial 0.5445603445855156 e adicionado à memória do Host 1.\n",
      "2024-09-10 16:41:50,021: Qubit 15 adicionado à memória do Host 1.\n",
      "2024-09-10 16:41:50,021: Qubit 15 criado com fidelidade inicial 0.9013724733347239 e adicionado à memória do Host 1.\n",
      "2024-09-10 16:41:50,022: Qubit 16 adicionado à memória do Host 1.\n",
      "2024-09-10 16:41:50,022: Qubit 16 criado com fidelidade inicial 0.9463789336236147 e adicionado à memória do Host 1.\n",
      "2024-09-10 16:41:50,024: Qubit 17 adicionado à memória do Host 1.\n",
      "2024-09-10 16:41:50,028: Qubit 17 criado com fidelidade inicial 0.41866921472506513 e adicionado à memória do Host 1.\n",
      "2024-09-10 16:41:50,031: Qubit 18 adicionado à memória do Host 1.\n",
      "2024-09-10 16:41:50,034: Qubit 18 criado com fidelidade inicial 0.1731385250465941 e adicionado à memória do Host 1.\n",
      "2024-09-10 16:41:50,038: Qubit 19 adicionado à memória do Host 1.\n",
      "2024-09-10 16:41:50,041: Qubit 19 criado com fidelidade inicial 0.20477734073052778 e adicionado à memória do Host 1.\n",
      "2024-09-10 16:41:50,044: Qubit 20 adicionado à memória do Host 2.\n",
      "2024-09-10 16:41:50,047: Qubit 20 criado com fidelidade inicial 0.957516906039834 e adicionado à memória do Host 2.\n",
      "2024-09-10 16:41:50,049: Qubit 21 adicionado à memória do Host 2.\n",
      "2024-09-10 16:41:50,054: Qubit 21 criado com fidelidade inicial 0.5759400226660627 e adicionado à memória do Host 2.\n",
      "2024-09-10 16:41:50,065: Qubit 22 adicionado à memória do Host 2.\n",
      "2024-09-10 16:41:50,068: Qubit 22 criado com fidelidade inicial 0.6134028494164394 e adicionado à memória do Host 2.\n",
      "2024-09-10 16:41:50,077: Qubit 23 adicionado à memória do Host 2.\n",
      "2024-09-10 16:41:50,082: Qubit 23 criado com fidelidade inicial 0.3103419296008265 e adicionado à memória do Host 2.\n",
      "2024-09-10 16:41:50,085: Qubit 24 adicionado à memória do Host 2.\n",
      "2024-09-10 16:41:50,089: Qubit 24 criado com fidelidade inicial 0.17160587458238608 e adicionado à memória do Host 2.\n",
      "2024-09-10 16:41:50,099: Qubit 25 adicionado à memória do Host 2.\n",
      "2024-09-10 16:41:50,107: Qubit 25 criado com fidelidade inicial 0.35000651274856487 e adicionado à memória do Host 2.\n",
      "2024-09-10 16:41:50,121: Qubit 26 adicionado à memória do Host 2.\n",
      "2024-09-10 16:41:50,126: Qubit 26 criado com fidelidade inicial 0.6012797803789711 e adicionado à memória do Host 2.\n",
      "2024-09-10 16:41:50,132: Qubit 27 adicionado à memória do Host 2.\n",
      "2024-09-10 16:41:50,143: Qubit 27 criado com fidelidade inicial 0.19507382135020213 e adicionado à memória do Host 2.\n",
      "2024-09-10 16:41:50,148: Qubit 28 adicionado à memória do Host 2.\n",
      "2024-09-10 16:41:50,151: Qubit 28 criado com fidelidade inicial 0.09085898003983794 e adicionado à memória do Host 2.\n",
      "2024-09-10 16:41:50,155: Qubit 29 adicionado à memória do Host 2.\n",
      "2024-09-10 16:41:50,162: Qubit 29 criado com fidelidade inicial 0.5004843606469574 e adicionado à memória do Host 2.\n",
      "2024-09-10 16:41:50,168: Qubit 30 adicionado à memória do Host 3.\n",
      "2024-09-10 16:41:50,179: Qubit 30 criado com fidelidade inicial 0.2814296444777844 e adicionado à memória do Host 3.\n",
      "2024-09-10 16:41:50,188: Qubit 31 adicionado à memória do Host 3.\n",
      "2024-09-10 16:41:50,193: Qubit 31 criado com fidelidade inicial 0.32434065296207215 e adicionado à memória do Host 3.\n",
      "2024-09-10 16:41:50,197: Qubit 32 adicionado à memória do Host 3.\n",
      "2024-09-10 16:41:50,204: Qubit 32 criado com fidelidade inicial 0.756875654892035 e adicionado à memória do Host 3.\n",
      "2024-09-10 16:41:50,207: Qubit 33 adicionado à memória do Host 3.\n",
      "2024-09-10 16:41:50,208: Qubit 33 criado com fidelidade inicial 0.37771040937186573 e adicionado à memória do Host 3.\n",
      "2024-09-10 16:41:50,208: Qubit 34 adicionado à memória do Host 3.\n",
      "2024-09-10 16:41:50,209: Qubit 34 criado com fidelidade inicial 0.94189961045895 e adicionado à memória do Host 3.\n",
      "2024-09-10 16:41:50,219: Qubit 35 adicionado à memória do Host 3.\n",
      "2024-09-10 16:41:50,220: Qubit 35 criado com fidelidade inicial 0.9096104695785792 e adicionado à memória do Host 3.\n",
      "2024-09-10 16:41:50,221: Qubit 36 adicionado à memória do Host 3.\n",
      "2024-09-10 16:41:50,223: Qubit 36 criado com fidelidade inicial 0.24753298883939323 e adicionado à memória do Host 3.\n",
      "2024-09-10 16:41:50,227: Qubit 37 adicionado à memória do Host 3.\n",
      "2024-09-10 16:41:50,230: Qubit 37 criado com fidelidade inicial 0.09018575867614242 e adicionado à memória do Host 3.\n",
      "2024-09-10 16:41:50,233: Qubit 38 adicionado à memória do Host 3.\n",
      "2024-09-10 16:41:50,237: Qubit 38 criado com fidelidade inicial 0.8760082508581742 e adicionado à memória do Host 3.\n",
      "2024-09-10 16:41:50,241: Qubit 39 adicionado à memória do Host 3.\n",
      "2024-09-10 16:41:50,244: Qubit 39 criado com fidelidade inicial 0.5834789412485821 e adicionado à memória do Host 3.\n",
      "2024-09-10 16:41:50,250: Qubit 40 adicionado à memória do Host 4.\n",
      "2024-09-10 16:41:50,257: Qubit 40 criado com fidelidade inicial 0.15921694961550104 e adicionado à memória do Host 4.\n",
      "2024-09-10 16:41:50,270: Qubit 41 adicionado à memória do Host 4.\n",
      "2024-09-10 16:41:50,273: Qubit 41 criado com fidelidade inicial 0.5963122187449147 e adicionado à memória do Host 4.\n",
      "2024-09-10 16:41:50,281: Qubit 42 adicionado à memória do Host 4.\n",
      "2024-09-10 16:41:50,286: Qubit 42 criado com fidelidade inicial 0.06935865966485255 e adicionado à memória do Host 4.\n",
      "2024-09-10 16:41:50,287: Qubit 43 adicionado à memória do Host 4.\n",
      "2024-09-10 16:41:50,290: Qubit 43 criado com fidelidade inicial 0.16034603110826295 e adicionado à memória do Host 4.\n",
      "2024-09-10 16:41:50,296: Qubit 44 adicionado à memória do Host 4.\n",
      "2024-09-10 16:41:50,305: Qubit 44 criado com fidelidade inicial 0.7969416617134302 e adicionado à memória do Host 4.\n",
      "2024-09-10 16:41:50,312: Qubit 45 adicionado à memória do Host 4.\n",
      "2024-09-10 16:41:50,321: Qubit 45 criado com fidelidade inicial 0.20523726622817784 e adicionado à memória do Host 4.\n",
      "2024-09-10 16:41:50,326: Qubit 46 adicionado à memória do Host 4.\n",
      "2024-09-10 16:41:50,337: Qubit 46 criado com fidelidade inicial 0.30261747646852566 e adicionado à memória do Host 4.\n",
      "2024-09-10 16:41:50,347: Qubit 47 adicionado à memória do Host 4.\n",
      "2024-09-10 16:41:50,358: Qubit 47 criado com fidelidade inicial 0.7418303830713853 e adicionado à memória do Host 4.\n",
      "2024-09-10 16:41:50,368: Qubit 48 adicionado à memória do Host 4.\n",
      "2024-09-10 16:41:50,374: Qubit 48 criado com fidelidade inicial 0.8486693962523373 e adicionado à memória do Host 4.\n",
      "2024-09-10 16:41:50,376: Qubit 49 adicionado à memória do Host 4.\n",
      "2024-09-10 16:41:50,377: Qubit 49 criado com fidelidade inicial 0.20872631012830956 e adicionado à memória do Host 4.\n",
      "2024-09-10 16:41:50,382: Qubit 50 adicionado à memória do Host 5.\n",
      "2024-09-10 16:41:50,390: Qubit 50 criado com fidelidade inicial 0.25755364861437635 e adicionado à memória do Host 5.\n",
      "2024-09-10 16:41:50,394: Qubit 51 adicionado à memória do Host 5.\n",
      "2024-09-10 16:41:50,397: Qubit 51 criado com fidelidade inicial 0.6282134857366192 e adicionado à memória do Host 5.\n",
      "2024-09-10 16:41:50,402: Qubit 52 adicionado à memória do Host 5.\n",
      "2024-09-10 16:41:50,406: Qubit 52 criado com fidelidade inicial 0.42860148647349106 e adicionado à memória do Host 5.\n",
      "2024-09-10 16:41:50,409: Qubit 53 adicionado à memória do Host 5.\n",
      "2024-09-10 16:41:50,413: Qubit 53 criado com fidelidade inicial 0.7824729624733217 e adicionado à memória do Host 5.\n",
      "2024-09-10 16:41:50,416: Qubit 54 adicionado à memória do Host 5.\n",
      "2024-09-10 16:41:50,420: Qubit 54 criado com fidelidade inicial 0.20650672281604088 e adicionado à memória do Host 5.\n",
      "2024-09-10 16:41:50,422: Qubit 55 adicionado à memória do Host 5.\n",
      "2024-09-10 16:41:50,424: Qubit 55 criado com fidelidade inicial 0.8931940791544768 e adicionado à memória do Host 5.\n",
      "2024-09-10 16:41:50,428: Qubit 56 adicionado à memória do Host 5.\n",
      "2024-09-10 16:41:50,430: Qubit 56 criado com fidelidade inicial 0.03624631450185578 e adicionado à memória do Host 5.\n",
      "2024-09-10 16:41:50,432: Qubit 57 adicionado à memória do Host 5.\n",
      "2024-09-10 16:41:50,435: Qubit 57 criado com fidelidade inicial 0.8223789647143944 e adicionado à memória do Host 5.\n",
      "2024-09-10 16:41:50,435: Qubit 58 adicionado à memória do Host 5.\n",
      "2024-09-10 16:41:50,438: Qubit 58 criado com fidelidade inicial 0.2828675572862077 e adicionado à memória do Host 5.\n",
      "2024-09-10 16:41:50,443: Qubit 59 adicionado à memória do Host 5.\n",
      "2024-09-10 16:41:50,447: Qubit 59 criado com fidelidade inicial 0.5586424012894916 e adicionado à memória do Host 5.\n",
      "2024-09-10 16:41:50,449: Qubit 60 adicionado à memória do Host 6.\n",
      "2024-09-10 16:41:50,461: Qubit 60 criado com fidelidade inicial 0.18504675788558822 e adicionado à memória do Host 6.\n",
      "2024-09-10 16:41:50,473: Qubit 61 adicionado à memória do Host 6.\n",
      "2024-09-10 16:41:50,475: Qubit 61 criado com fidelidade inicial 0.7166353107573424 e adicionado à memória do Host 6.\n",
      "2024-09-10 16:41:50,477: Qubit 62 adicionado à memória do Host 6.\n",
      "2024-09-10 16:41:50,478: Qubit 62 criado com fidelidade inicial 0.4413957363844615 e adicionado à memória do Host 6.\n",
      "2024-09-10 16:41:50,480: Qubit 63 adicionado à memória do Host 6.\n",
      "2024-09-10 16:41:50,482: Qubit 63 criado com fidelidade inicial 0.8398017105613215 e adicionado à memória do Host 6.\n",
      "2024-09-10 16:41:50,489: Qubit 64 adicionado à memória do Host 6.\n",
      "2024-09-10 16:41:50,491: Qubit 64 criado com fidelidade inicial 0.4516507435961937 e adicionado à memória do Host 6.\n",
      "2024-09-10 16:41:50,496: Qubit 65 adicionado à memória do Host 6.\n",
      "2024-09-10 16:41:50,497: Qubit 65 criado com fidelidade inicial 0.1810222024154574 e adicionado à memória do Host 6.\n",
      "2024-09-10 16:41:50,498: Qubit 66 adicionado à memória do Host 6.\n",
      "2024-09-10 16:41:50,509: Qubit 66 criado com fidelidade inicial 0.5053842664919548 e adicionado à memória do Host 6.\n",
      "2024-09-10 16:41:50,520: Qubit 67 adicionado à memória do Host 6.\n",
      "2024-09-10 16:41:50,522: Qubit 67 criado com fidelidade inicial 0.3595410750178989 e adicionado à memória do Host 6.\n",
      "2024-09-10 16:41:50,525: Qubit 68 adicionado à memória do Host 6.\n",
      "2024-09-10 16:41:50,537: Qubit 68 criado com fidelidade inicial 0.5531644158812813 e adicionado à memória do Host 6.\n",
      "2024-09-10 16:41:50,543: Qubit 69 adicionado à memória do Host 6.\n",
      "2024-09-10 16:41:50,546: Qubit 69 criado com fidelidade inicial 0.77270554887155 e adicionado à memória do Host 6.\n",
      "2024-09-10 16:41:50,550: Qubit 70 adicionado à memória do Host 7.\n",
      "2024-09-10 16:41:50,554: Qubit 70 criado com fidelidade inicial 0.2794582028640299 e adicionado à memória do Host 7.\n",
      "2024-09-10 16:41:50,556: Qubit 71 adicionado à memória do Host 7.\n",
      "2024-09-10 16:41:50,560: Qubit 71 criado com fidelidade inicial 0.5093280237045162 e adicionado à memória do Host 7.\n",
      "2024-09-10 16:41:50,564: Qubit 72 adicionado à memória do Host 7.\n",
      "2024-09-10 16:41:50,568: Qubit 72 criado com fidelidade inicial 0.5314765615645975 e adicionado à memória do Host 7.\n",
      "2024-09-10 16:41:50,568: Qubit 73 adicionado à memória do Host 7.\n",
      "2024-09-10 16:41:50,569: Qubit 73 criado com fidelidade inicial 0.7518670620804183 e adicionado à memória do Host 7.\n",
      "2024-09-10 16:41:50,570: Qubit 74 adicionado à memória do Host 7.\n",
      "2024-09-10 16:41:50,571: Qubit 74 criado com fidelidade inicial 0.90800251017838 e adicionado à memória do Host 7.\n",
      "2024-09-10 16:41:50,575: Qubit 75 adicionado à memória do Host 7.\n",
      "2024-09-10 16:41:50,578: Qubit 75 criado com fidelidade inicial 0.9743187911071778 e adicionado à memória do Host 7.\n",
      "2024-09-10 16:41:50,582: Qubit 76 adicionado à memória do Host 7.\n",
      "2024-09-10 16:41:50,584: Qubit 76 criado com fidelidade inicial 0.04267979425864532 e adicionado à memória do Host 7.\n",
      "2024-09-10 16:41:50,585: Qubit 77 adicionado à memória do Host 7.\n",
      "2024-09-10 16:41:50,587: Qubit 77 criado com fidelidade inicial 0.507956627086383 e adicionado à memória do Host 7.\n",
      "2024-09-10 16:41:50,588: Qubit 78 adicionado à memória do Host 7.\n",
      "2024-09-10 16:41:50,589: Qubit 78 criado com fidelidade inicial 0.6089838396412466 e adicionado à memória do Host 7.\n",
      "2024-09-10 16:41:50,591: Qubit 79 adicionado à memória do Host 7.\n",
      "2024-09-10 16:41:50,596: Qubit 79 criado com fidelidade inicial 0.6681199468386624 e adicionado à memória do Host 7.\n",
      "2024-09-10 16:41:50,597: Qubit 80 adicionado à memória do Host 8.\n",
      "2024-09-10 16:41:50,598: Qubit 80 criado com fidelidade inicial 0.23612193911853252 e adicionado à memória do Host 8.\n",
      "2024-09-10 16:41:50,602: Qubit 81 adicionado à memória do Host 8.\n",
      "2024-09-10 16:41:50,603: Qubit 81 criado com fidelidade inicial 0.10981372728681349 e adicionado à memória do Host 8.\n",
      "2024-09-10 16:41:50,604: Qubit 82 adicionado à memória do Host 8.\n",
      "2024-09-10 16:41:50,605: Qubit 82 criado com fidelidade inicial 0.952477320594721 e adicionado à memória do Host 8.\n",
      "2024-09-10 16:41:50,608: Qubit 83 adicionado à memória do Host 8.\n",
      "2024-09-10 16:41:50,610: Qubit 83 criado com fidelidade inicial 0.6779990778968301 e adicionado à memória do Host 8.\n",
      "2024-09-10 16:41:50,613: Qubit 84 adicionado à memória do Host 8.\n",
      "2024-09-10 16:41:50,615: Qubit 84 criado com fidelidade inicial 0.1288561073202562 e adicionado à memória do Host 8.\n",
      "2024-09-10 16:41:50,616: Qubit 85 adicionado à memória do Host 8.\n",
      "2024-09-10 16:41:50,617: Qubit 85 criado com fidelidade inicial 0.9475186995083442 e adicionado à memória do Host 8.\n",
      "2024-09-10 16:41:50,618: Qubit 86 adicionado à memória do Host 8.\n",
      "2024-09-10 16:41:50,618: Qubit 86 criado com fidelidade inicial 0.32138887895304213 e adicionado à memória do Host 8.\n",
      "2024-09-10 16:41:50,619: Qubit 87 adicionado à memória do Host 8.\n",
      "2024-09-10 16:41:50,619: Qubit 87 criado com fidelidade inicial 0.3243097149992882 e adicionado à memória do Host 8.\n",
      "2024-09-10 16:41:50,620: Qubit 88 adicionado à memória do Host 8.\n",
      "2024-09-10 16:41:50,623: Qubit 88 criado com fidelidade inicial 0.18174855088646058 e adicionado à memória do Host 8.\n",
      "2024-09-10 16:41:50,626: Qubit 89 adicionado à memória do Host 8.\n",
      "2024-09-10 16:41:50,628: Qubit 89 criado com fidelidade inicial 0.8531917929376436 e adicionado à memória do Host 8.\n",
      "2024-09-10 16:41:50,630: Par EPR <quantumnet.objects.epr.Epr object at 0x7f0014d56440> adicionado ao canal.\n",
      "2024-09-10 16:41:50,634: Par EPR <quantumnet.objects.epr.Epr object at 0x7f0014d56320> adicionado ao canal.\n",
      "2024-09-10 16:41:50,636: Par EPR <quantumnet.objects.epr.Epr object at 0x7f0014d56560> adicionado ao canal.\n",
      "2024-09-10 16:41:50,638: Par EPR <quantumnet.objects.epr.Epr object at 0x7f0014d56680> adicionado ao canal.\n",
      "2024-09-10 16:41:50,638: Par EPR <quantumnet.objects.epr.Epr object at 0x7f0014d56200> adicionado ao canal.\n",
      "2024-09-10 16:41:50,639: Par EPR <quantumnet.objects.epr.Epr object at 0x7f0014d565c0> adicionado ao canal.\n",
      "2024-09-10 16:41:50,640: Par EPR <quantumnet.objects.epr.Epr object at 0x7f0014d566b0> adicionado ao canal.\n",
      "2024-09-10 16:41:50,640: Par EPR <quantumnet.objects.epr.Epr object at 0x7f0014d560e0> adicionado ao canal.\n",
      "2024-09-10 16:41:50,641: Par EPR <quantumnet.objects.epr.Epr object at 0x7f0014d568f0> adicionado ao canal.\n",
      "2024-09-10 16:41:50,642: Par EPR <quantumnet.objects.epr.Epr object at 0x7f0014d56530> adicionado ao canal.\n",
      "2024-09-10 16:41:50,642: Par EPR <quantumnet.objects.epr.Epr object at 0x7f0014d55fc0> adicionado ao canal.\n",
      "2024-09-10 16:41:50,643: Par EPR <quantumnet.objects.epr.Epr object at 0x7f0014d566e0> adicionado ao canal.\n",
      "2024-09-10 16:41:50,643: Par EPR <quantumnet.objects.epr.Epr object at 0x7f0014d56920> adicionado ao canal.\n",
      "2024-09-10 16:41:50,644: Par EPR <quantumnet.objects.epr.Epr object at 0x7f0014d56b30> adicionado ao canal.\n",
      "2024-09-10 16:41:50,644: Par EPR <quantumnet.objects.epr.Epr object at 0x7f0014d56b90> adicionado ao canal.\n",
      "2024-09-10 16:41:50,645: Par EPR <quantumnet.objects.epr.Epr object at 0x7f0014d56860> adicionado ao canal.\n",
      "2024-09-10 16:41:50,645: Par EPR <quantumnet.objects.epr.Epr object at 0x7f0014d56a70> adicionado ao canal.\n",
      "2024-09-10 16:41:50,646: Par EPR <quantumnet.objects.epr.Epr object at 0x7f0014d56d70> adicionado ao canal.\n",
      "2024-09-10 16:41:50,647: Par EPR <quantumnet.objects.epr.Epr object at 0x7f0014d56da0> adicionado ao canal.\n",
      "2024-09-10 16:41:50,647: Par EPR <quantumnet.objects.epr.Epr object at 0x7f0014d56830> adicionado ao canal.\n",
      "2024-09-10 16:41:50,648: Par EPR <quantumnet.objects.epr.Epr object at 0x7f0014d56980> adicionado ao canal.\n",
      "2024-09-10 16:41:50,650: Par EPR <quantumnet.objects.epr.Epr object at 0x7f0014d56770> adicionado ao canal.\n",
      "2024-09-10 16:41:50,654: Par EPR <quantumnet.objects.epr.Epr object at 0x7f0014d57010> adicionado ao canal.\n",
      "2024-09-10 16:41:50,657: Par EPR <quantumnet.objects.epr.Epr object at 0x7f0014d57070> adicionado ao canal.\n",
      "2024-09-10 16:41:50,661: Par EPR <quantumnet.objects.epr.Epr object at 0x7f0014d57160> adicionado ao canal.\n",
      "2024-09-10 16:41:50,664: Par EPR <quantumnet.objects.epr.Epr object at 0x7f0014d56ec0> adicionado ao canal.\n",
      "2024-09-10 16:41:50,665: Par EPR <quantumnet.objects.epr.Epr object at 0x7f0014d57250> adicionado ao canal.\n",
      "2024-09-10 16:41:50,666: Par EPR <quantumnet.objects.epr.Epr object at 0x7f0014d56e30> adicionado ao canal.\n",
      "2024-09-10 16:41:50,667: Par EPR <quantumnet.objects.epr.Epr object at 0x7f0014d57310> adicionado ao canal.\n",
      "2024-09-10 16:41:50,669: Par EPR <quantumnet.objects.epr.Epr object at 0x7f0014d57370> adicionado ao canal.\n",
      "2024-09-10 16:41:50,671: Par EPR <quantumnet.objects.epr.Epr object at 0x7f0014d56dd0> adicionado ao canal.\n",
      "2024-09-10 16:41:50,672: Par EPR <quantumnet.objects.epr.Epr object at 0x7f0014d57340> adicionado ao canal.\n",
      "2024-09-10 16:41:50,673: Par EPR <quantumnet.objects.epr.Epr object at 0x7f0014d56f50> adicionado ao canal.\n",
      "2024-09-10 16:41:50,673: Par EPR <quantumnet.objects.epr.Epr object at 0x7f0014d57550> adicionado ao canal.\n",
      "2024-09-10 16:41:50,674: Par EPR <quantumnet.objects.epr.Epr object at 0x7f0014d57640> adicionado ao canal.\n",
      "2024-09-10 16:41:50,674: Par EPR <quantumnet.objects.epr.Epr object at 0x7f0014d576a0> adicionado ao canal.\n",
      "2024-09-10 16:41:50,675: Par EPR <quantumnet.objects.epr.Epr object at 0x7f0014d57040> adicionado ao canal.\n",
      "2024-09-10 16:41:50,676: Par EPR <quantumnet.objects.epr.Epr object at 0x7f0014d57670> adicionado ao canal.\n",
      "2024-09-10 16:41:50,677: Par EPR <quantumnet.objects.epr.Epr object at 0x7f0014d57820> adicionado ao canal.\n",
      "2024-09-10 16:41:50,678: Par EPR <quantumnet.objects.epr.Epr object at 0x7f0014d57940> adicionado ao canal.\n",
      "2024-09-10 16:41:50,683: Par EPR <quantumnet.objects.epr.Epr object at 0x7f0014d573d0> adicionado ao canal.\n",
      "2024-09-10 16:41:50,686: Par EPR <quantumnet.objects.epr.Epr object at 0x7f0014d574f0> adicionado ao canal.\n",
      "2024-09-10 16:41:50,688: Par EPR <quantumnet.objects.epr.Epr object at 0x7f0014d57880> adicionado ao canal.\n",
      "2024-09-10 16:41:50,693: Par EPR <quantumnet.objects.epr.Epr object at 0x7f0014d57b50> adicionado ao canal.\n",
      "2024-09-10 16:41:50,701: Par EPR <quantumnet.objects.epr.Epr object at 0x7f0014d57970> adicionado ao canal.\n",
      "2024-09-10 16:41:50,705: Par EPR <quantumnet.objects.epr.Epr object at 0x7f0014d57b20> adicionado ao canal.\n",
      "2024-09-10 16:41:50,706: Par EPR <quantumnet.objects.epr.Epr object at 0x7f0014d57c10> adicionado ao canal.\n",
      "2024-09-10 16:41:50,707: Par EPR <quantumnet.objects.epr.Epr object at 0x7f0014d575b0> adicionado ao canal.\n",
      "2024-09-10 16:41:50,711: Par EPR <quantumnet.objects.epr.Epr object at 0x7f0014d57c40> adicionado ao canal.\n",
      "2024-09-10 16:41:50,714: Par EPR <quantumnet.objects.epr.Epr object at 0x7f0014d57af0> adicionado ao canal.\n",
      "2024-09-10 16:41:50,716: Par EPR <quantumnet.objects.epr.Epr object at 0x7f0014d57280> adicionado ao canal.\n",
      "2024-09-10 16:41:50,717: Par EPR <quantumnet.objects.epr.Epr object at 0x7f0014d57d60> adicionado ao canal.\n",
      "2024-09-10 16:41:50,719: Par EPR <quantumnet.objects.epr.Epr object at 0x7f0014d57dc0> adicionado ao canal.\n",
      "2024-09-10 16:41:50,723: Par EPR <quantumnet.objects.epr.Epr object at 0x7f0014d57a60> adicionado ao canal.\n",
      "2024-09-10 16:41:50,734: Par EPR <quantumnet.objects.epr.Epr object at 0x7f0014d57d00> adicionado ao canal.\n",
      "2024-09-10 16:41:50,737: Par EPR <quantumnet.objects.epr.Epr object at 0x7f0014d57d30> adicionado ao canal.\n",
      "2024-09-10 16:41:50,738: Par EPR <quantumnet.objects.epr.Epr object at 0x7f0014d57fd0> adicionado ao canal.\n",
      "2024-09-10 16:41:50,746: Par EPR <quantumnet.objects.epr.Epr object at 0x7f0014d57e50> adicionado ao canal.\n",
      "2024-09-10 16:41:50,752: Par EPR <quantumnet.objects.epr.Epr object at 0x7f0014d88220> adicionado ao canal.\n",
      "2024-09-10 16:41:50,756: Par EPR <quantumnet.objects.epr.Epr object at 0x7f0014d881c0> adicionado ao canal.\n",
      "2024-09-10 16:41:50,762: Par EPR <quantumnet.objects.epr.Epr object at 0x7f0014d57e20> adicionado ao canal.\n",
      "2024-09-10 16:41:50,764: Par EPR <quantumnet.objects.epr.Epr object at 0x7f0014d88160> adicionado ao canal.\n",
      "2024-09-10 16:41:50,769: Par EPR <quantumnet.objects.epr.Epr object at 0x7f0014d882e0> adicionado ao canal.\n",
      "2024-09-10 16:41:50,773: Par EPR <quantumnet.objects.epr.Epr object at 0x7f0014d882b0> adicionado ao canal.\n",
      "2024-09-10 16:41:50,774: Par EPR <quantumnet.objects.epr.Epr object at 0x7f0014d881f0> adicionado ao canal.\n",
      "2024-09-10 16:41:50,777: Par EPR <quantumnet.objects.epr.Epr object at 0x7f0014d88310> adicionado ao canal.\n",
      "2024-09-10 16:41:50,781: Par EPR <quantumnet.objects.epr.Epr object at 0x7f0014d88190> adicionado ao canal.\n",
      "2024-09-10 16:41:50,783: Par EPR <quantumnet.objects.epr.Epr object at 0x7f0014d885b0> adicionado ao canal.\n",
      "2024-09-10 16:41:50,783: Par EPR <quantumnet.objects.epr.Epr object at 0x7f0014d884c0> adicionado ao canal.\n",
      "2024-09-10 16:41:50,785: Par EPR <quantumnet.objects.epr.Epr object at 0x7f0014d88640> adicionado ao canal.\n",
      "2024-09-10 16:41:50,790: Par EPR <quantumnet.objects.epr.Epr object at 0x7f0014d88370> adicionado ao canal.\n",
      "2024-09-10 16:41:50,792: Par EPR <quantumnet.objects.epr.Epr object at 0x7f0014d88700> adicionado ao canal.\n",
      "2024-09-10 16:41:50,793: Par EPR <quantumnet.objects.epr.Epr object at 0x7f0014d88490> adicionado ao canal.\n",
      "2024-09-10 16:41:50,798: Par EPR <quantumnet.objects.epr.Epr object at 0x7f0014d887c0> adicionado ao canal.\n",
      "2024-09-10 16:41:50,798: Par EPR <quantumnet.objects.epr.Epr object at 0x7f0014d88850> adicionado ao canal.\n",
      "2024-09-10 16:41:50,799: Par EPR <quantumnet.objects.epr.Epr object at 0x7f0014d88760> adicionado ao canal.\n",
      "2024-09-10 16:41:50,801: Par EPR <quantumnet.objects.epr.Epr object at 0x7f0014d88550> adicionado ao canal.\n",
      "2024-09-10 16:41:50,803: Par EPR <quantumnet.objects.epr.Epr object at 0x7f0014d889a0> adicionado ao canal.\n",
      "2024-09-10 16:41:50,809: Par EPR <quantumnet.objects.epr.Epr object at 0x7f0014d888e0> adicionado ao canal.\n",
      "2024-09-10 16:41:50,816: Par EPR <quantumnet.objects.epr.Epr object at 0x7f0014d887f0> adicionado ao canal.\n",
      "2024-09-10 16:41:50,818: Par EPR <quantumnet.objects.epr.Epr object at 0x7f0014d886d0> adicionado ao canal.\n",
      "2024-09-10 16:41:50,826: Par EPR <quantumnet.objects.epr.Epr object at 0x7f0014d88b50> adicionado ao canal.\n",
      "2024-09-10 16:41:50,834: Par EPR <quantumnet.objects.epr.Epr object at 0x7f0014d889d0> adicionado ao canal.\n"
     ]
    },
    {
     "name": "stdout",
     "output_type": "stream",
     "text": [
      "Hosts inicializados\n",
      "Canais inicializados\n"
     ]
    },
    {
     "name": "stderr",
     "output_type": "stream",
     "text": [
      "2024-09-10 16:41:50,840: Par EPR <quantumnet.objects.epr.Epr object at 0x7f0014d88910> adicionado ao canal.\n",
      "2024-09-10 16:41:50,846: Par EPR <quantumnet.objects.epr.Epr object at 0x7f0014d88a30> adicionado ao canal.\n",
      "2024-09-10 16:41:50,859: Par EPR <quantumnet.objects.epr.Epr object at 0x7f0014d88be0> adicionado ao canal.\n",
      "2024-09-10 16:41:50,870: Par EPR <quantumnet.objects.epr.Epr object at 0x7f0014d88cd0> adicionado ao canal.\n",
      "2024-09-10 16:41:50,871: Par EPR <quantumnet.objects.epr.Epr object at 0x7f0014d88670> adicionado ao canal.\n",
      "2024-09-10 16:41:50,876: Par EPR <quantumnet.objects.epr.Epr object at 0x7f0014d88df0> adicionado ao canal.\n",
      "2024-09-10 16:41:50,884: Par EPR <quantumnet.objects.epr.Epr object at 0x7f0014d88400> adicionado ao canal.\n",
      "2024-09-10 16:41:50,890: Par EPR <quantumnet.objects.epr.Epr object at 0x7f0014d88940> adicionado ao canal.\n",
      "2024-09-10 16:41:50,898: Par EPR <quantumnet.objects.epr.Epr object at 0x7f0014d88e80> adicionado ao canal.\n",
      "2024-09-10 16:41:50,902: Par EPR <quantumnet.objects.epr.Epr object at 0x7f0014d88f70> adicionado ao canal.\n",
      "2024-09-10 16:41:50,907: Par EPR <quantumnet.objects.epr.Epr object at 0x7f0014d88f10> adicionado ao canal.\n",
      "2024-09-10 16:41:50,909: Par EPR <quantumnet.objects.epr.Epr object at 0x7f0014d88b20> adicionado ao canal.\n",
      "2024-09-10 16:41:50,914: Par EPR <quantumnet.objects.epr.Epr object at 0x7f0014d88bb0> adicionado ao canal.\n",
      "2024-09-10 16:41:50,916: Par EPR <quantumnet.objects.epr.Epr object at 0x7f0014d88f40> adicionado ao canal.\n",
      "2024-09-10 16:41:50,935: Par EPR <quantumnet.objects.epr.Epr object at 0x7f0014d89150> adicionado ao canal.\n",
      "2024-09-10 16:41:50,938: Par EPR <quantumnet.objects.epr.Epr object at 0x7f0014d88dc0> adicionado ao canal.\n",
      "2024-09-10 16:41:50,939: Par EPR <quantumnet.objects.epr.Epr object at 0x7f0014d88ee0> adicionado ao canal.\n",
      "2024-09-10 16:41:50,950: Par EPR <quantumnet.objects.epr.Epr object at 0x7f0014d88d90> adicionado ao canal.\n",
      "2024-09-10 16:41:50,956: Par EPR <quantumnet.objects.epr.Epr object at 0x7f0014d89120> adicionado ao canal.\n",
      "2024-09-10 16:41:50,957: Par EPR <quantumnet.objects.epr.Epr object at 0x7f0014d88d30> adicionado ao canal.\n",
      "2024-09-10 16:41:50,958: Par EPR <quantumnet.objects.epr.Epr object at 0x7f0014d89300> adicionado ao canal.\n",
      "2024-09-10 16:41:50,962: Par EPR <quantumnet.objects.epr.Epr object at 0x7f0014d891e0> adicionado ao canal.\n",
      "2024-09-10 16:41:50,968: Par EPR <quantumnet.objects.epr.Epr object at 0x7f0014d89480> adicionado ao canal.\n",
      "2024-09-10 16:41:50,969: Par EPR <quantumnet.objects.epr.Epr object at 0x7f0014d893c0> adicionado ao canal.\n",
      "2024-09-10 16:41:50,970: Par EPR <quantumnet.objects.epr.Epr object at 0x7f0014d89450> adicionado ao canal.\n",
      "2024-09-10 16:41:50,970: Par EPR <quantumnet.objects.epr.Epr object at 0x7f0014d89420> adicionado ao canal.\n",
      "2024-09-10 16:41:50,972: Par EPR <quantumnet.objects.epr.Epr object at 0x7f0014d89360> adicionado ao canal.\n",
      "2024-09-10 16:41:50,975: Par EPR <quantumnet.objects.epr.Epr object at 0x7f0014d89090> adicionado ao canal.\n",
      "2024-09-10 16:41:50,984: Par EPR <quantumnet.objects.epr.Epr object at 0x7f0014d89510> adicionado ao canal.\n",
      "2024-09-10 16:41:50,985: Par EPR <quantumnet.objects.epr.Epr object at 0x7f0014d895a0> adicionado ao canal.\n",
      "2024-09-10 16:41:50,989: Par EPR <quantumnet.objects.epr.Epr object at 0x7f0014d89750> adicionado ao canal.\n",
      "2024-09-10 16:41:50,990: Par EPR <quantumnet.objects.epr.Epr object at 0x7f0014d89690> adicionado ao canal.\n",
      "2024-09-10 16:41:50,997: Par EPR <quantumnet.objects.epr.Epr object at 0x7f0014d896c0> adicionado ao canal.\n",
      "2024-09-10 16:41:51,000: Par EPR <quantumnet.objects.epr.Epr object at 0x7f0014d89810> adicionado ao canal.\n",
      "2024-09-10 16:41:51,003: Par EPR <quantumnet.objects.epr.Epr object at 0x7f0014d89780> adicionado ao canal.\n",
      "2024-09-10 16:41:51,009: Par EPR <quantumnet.objects.epr.Epr object at 0x7f0014d89630> adicionado ao canal.\n",
      "2024-09-10 16:41:51,011: Par EPR <quantumnet.objects.epr.Epr object at 0x7f0014d89990> adicionado ao canal.\n"
     ]
    },
    {
     "name": "stdout",
     "output_type": "stream",
     "text": [
      "Pares EPRs adicionados\n"
     ]
    },
    {
     "data": {
      "image/png": "[encoded data removed]",
      "text/plain": [
       "<Figure size 640x480 with 1 Axes>"
      ]
     },
     "metadata": {},
     "output_type": "display_data"
    }
   ],
   "source": [
    "rede = Network()\n",
    "rede.set_ready_topology(\"Grade\", 3,3)\n",
    "rede.draw()"
   ]
  },
  {
   "cell_type": "markdown",
   "metadata": {},
   "source": [
    "##### Definindo os hosts alice e bob nos nós 1 e 2 respectivamente, e definindo os qubits que serão enviados"
   ]
  },
  {
   "cell_type": "code",
   "execution_count": 3,
   "metadata": {},
   "outputs": [],
   "source": [
    "alice = rede.get_host(1)\n",
    "bob = rede.get_host(2)\n",
    "qubit1 = Qubit(1)\n",
    "qubit2 = Qubit(2)\n"
   ]
  },
  {
   "cell_type": "markdown",
   "metadata": {},
   "source": [
    "##### Enviando um request para o servidor, se a fidelidade dos qubits for maior que 0.5, o servidor aceita a conexão e envia a chave para o cliente, se não, é tentado novamente fazer o entrelaçamento, e se falhar novamente, o servidor tenta purificar."
   ]
  },
  {
   "cell_type": "code",
   "execution_count": 4,
   "metadata": {},
   "outputs": [
    {
     "name": "stderr",
     "output_type": "stream",
     "text": [
      "2024-09-10 16:41:53,311: Timeslot 1: Tentativa de emaranhamento entre 1 e 2.\n",
      "2024-09-10 16:41:53,335: Timeslot 2: Par epr criado com fidelidade 0.10248785645050236\n",
      "2024-09-10 16:41:53,341: Timeslot 3: O protocolo de criação de emaranhamento foi bem sucedido, mas com fidelidade baixa.\n",
      "2024-09-10 16:41:53,353: Timeslot 3: Entrelaçamento falhou entre 1 e 2 na tentativa 1.\n",
      "2024-09-10 16:41:53,363: Timeslot 4: Tentativa de emaranhamento entre 1 e 2.\n",
      "2024-09-10 16:41:53,373: Timeslot 5: Par epr criado com fidelidade 0.015731189791335476\n",
      "2024-09-10 16:41:53,380: Timeslot 6: O protocolo de criação de emaranhamento foi bem sucedido, mas com fidelidade baixa.\n",
      "2024-09-10 16:41:53,387: Timeslot 6: Entrelaçamento falhou entre 1 e 2 na tentativa 2.\n",
      "2024-09-10 16:41:53,393: A purificação utilizada foi tipo 1.\n",
      "2024-09-10 16:41:53,398: Timeslot 7: Purificação falhou no canal (1, 2) devido a baixa fidelidade após purificação.\n"
     ]
    },
    {
     "data": {
      "text/plain": [
       "False"
      ]
     },
     "execution_count": 4,
     "metadata": {},
     "output_type": "execute_result"
    }
   ],
   "source": [
    "rede.linklayer.request(1,2)"
   ]
  },
  {
   "cell_type": "markdown",
   "metadata": {},
   "source": [
    "##### Verificando o canal do canal"
   ]
  },
  {
   "cell_type": "code",
   "execution_count": 5,
   "metadata": {},
   "outputs": [
    {
     "name": "stderr",
     "output_type": "stream",
     "text": [
      "2024-09-10 16:41:53,453: A fidelidade média dos EPRs criados na camada de enlace é 0.05910952312091892\n"
     ]
    },
    {
     "name": "stdout",
     "output_type": "stream",
     "text": [
      "Total de EPRs criados na camada de enlace: 2\n",
      "Total de fidelidade dos EPRs criados na camada de enlace: 0.11821904624183784\n"
     ]
    },
    {
     "data": {
      "text/plain": [
       "0.05910952312091892"
      ]
     },
     "execution_count": 5,
     "metadata": {},
     "output_type": "execute_result"
    }
   ],
   "source": [
    "rede.linklayer.avg_fidelity_on_linklayer()"
   ]
  },
  {
   "cell_type": "code",
   "execution_count": 6,
   "metadata": {},
   "outputs": [
    {
     "name": "stderr",
     "output_type": "stream",
     "text": [
      "2024-09-10 16:41:53,579: Eprs usados na camada PhysicalLayer: 2\n",
      "2024-09-10 16:41:53,587: Eprs usados na camada LinkLayer: 2\n",
      "2024-09-10 16:41:53,589: Eprs usados na camada NetworkLayer: 0\n"
     ]
    },
    {
     "data": {
      "text/plain": [
       "4"
      ]
     },
     "execution_count": 6,
     "metadata": {},
     "output_type": "execute_result"
    }
   ],
   "source": [
    "rede.get_total_useds_eprs()"
   ]
  },
  {
   "cell_type": "code",
   "execution_count": 7,
   "metadata": {},
   "outputs": [
    {
     "name": "stderr",
     "output_type": "stream",
     "text": [
      "2024-09-10 16:41:53,683: Qubits usados na camada PhysicalLayer: 4\n",
      "2024-09-10 16:41:53,689: Qubits usados na camada LinkLayer: 0\n",
      "2024-09-10 16:41:53,701: Qubits usados na camada TransportLayer: 0\n",
      "2024-09-10 16:41:53,710: Qubits usados na camada ApplicationLayer: 0\n"
     ]
    },
    {
     "data": {
      "text/plain": [
       "4"
      ]
     },
     "execution_count": 7,
     "metadata": {},
     "output_type": "execute_result"
    }
   ],
   "source": [
    "rede.get_total_useds_qubits()"
   ]
  },
  {
   "cell_type": "code",
   "execution_count": 8,
   "metadata": {},
   "outputs": [
    {
     "data": {
      "text/plain": [
       "[<quantumnet.objects.epr.Epr at 0x7f0014d56dd0>,\n",
       " <quantumnet.objects.epr.Epr at 0x7f0014d57340>,\n",
       " <quantumnet.objects.epr.Epr at 0x7f0014d56f50>,\n",
       " <quantumnet.objects.epr.Epr at 0x7f0014d57550>,\n",
       " <quantumnet.objects.epr.Epr at 0x7f0014d57640>,\n",
       " <quantumnet.objects.epr.Epr at 0x7f0014d576a0>,\n",
       " <quantumnet.objects.epr.Epr at 0x7f0014d57040>,\n",
       " <quantumnet.objects.epr.Epr at 0x7f0014d57670>,\n",
       " <quantumnet.objects.epr.Epr at 0x7f0014d57820>,\n",
       " <quantumnet.objects.epr.Epr at 0x7f0014d57940>,\n",
       " <quantumnet.objects.epr.Epr at 0x7efffdc741f0>,\n",
       " <quantumnet.objects.epr.Epr at 0x7f0014d54610>]"
      ]
     },
     "execution_count": 8,
     "metadata": {},
     "output_type": "execute_result"
    }
   ],
   "source": [
    "rede.get_eprs_from_edge(1,2)"
   ]
  },
  {
   "cell_type": "markdown",
   "metadata": {},
   "source": [
    "##### Verificando todos os canais"
   ]
  },
  {
   "cell_type": "code",
   "execution_count": 9,
   "metadata": {},
   "outputs": [
    {
     "data": {
      "text/plain": [
       "{(0, 3): [<quantumnet.objects.epr.Epr at 0x7f0014d56440>,\n",
       "  <quantumnet.objects.epr.Epr at 0x7f0014d56320>,\n",
       "  <quantumnet.objects.epr.Epr at 0x7f0014d56560>,\n",
       "  <quantumnet.objects.epr.Epr at 0x7f0014d56680>,\n",
       "  <quantumnet.objects.epr.Epr at 0x7f0014d56200>,\n",
       "  <quantumnet.objects.epr.Epr at 0x7f0014d565c0>,\n",
       "  <quantumnet.objects.epr.Epr at 0x7f0014d566b0>,\n",
       "  <quantumnet.objects.epr.Epr at 0x7f0014d560e0>,\n",
       "  <quantumnet.objects.epr.Epr at 0x7f0014d568f0>,\n",
       "  <quantumnet.objects.epr.Epr at 0x7f0014d56530>],\n",
       " (0, 1): [<quantumnet.objects.epr.Epr at 0x7f0014d55fc0>,\n",
       "  <quantumnet.objects.epr.Epr at 0x7f0014d566e0>,\n",
       "  <quantumnet.objects.epr.Epr at 0x7f0014d56920>,\n",
       "  <quantumnet.objects.epr.Epr at 0x7f0014d56b30>,\n",
       "  <quantumnet.objects.epr.Epr at 0x7f0014d56b90>,\n",
       "  <quantumnet.objects.epr.Epr at 0x7f0014d56860>,\n",
       "  <quantumnet.objects.epr.Epr at 0x7f0014d56a70>,\n",
       "  <quantumnet.objects.epr.Epr at 0x7f0014d56d70>,\n",
       "  <quantumnet.objects.epr.Epr at 0x7f0014d56da0>,\n",
       "  <quantumnet.objects.epr.Epr at 0x7f0014d56830>],\n",
       " (1, 4): [<quantumnet.objects.epr.Epr at 0x7f0014d56980>,\n",
       "  <quantumnet.objects.epr.Epr at 0x7f0014d56770>,\n",
       "  <quantumnet.objects.epr.Epr at 0x7f0014d57010>,\n",
       "  <quantumnet.objects.epr.Epr at 0x7f0014d57070>,\n",
       "  <quantumnet.objects.epr.Epr at 0x7f0014d57160>,\n",
       "  <quantumnet.objects.epr.Epr at 0x7f0014d56ec0>,\n",
       "  <quantumnet.objects.epr.Epr at 0x7f0014d57250>,\n",
       "  <quantumnet.objects.epr.Epr at 0x7f0014d56e30>,\n",
       "  <quantumnet.objects.epr.Epr at 0x7f0014d57310>,\n",
       "  <quantumnet.objects.epr.Epr at 0x7f0014d57370>],\n",
       " (1, 2): [<quantumnet.objects.epr.Epr at 0x7f0014d56dd0>,\n",
       "  <quantumnet.objects.epr.Epr at 0x7f0014d57340>,\n",
       "  <quantumnet.objects.epr.Epr at 0x7f0014d56f50>,\n",
       "  <quantumnet.objects.epr.Epr at 0x7f0014d57550>,\n",
       "  <quantumnet.objects.epr.Epr at 0x7f0014d57640>,\n",
       "  <quantumnet.objects.epr.Epr at 0x7f0014d576a0>,\n",
       "  <quantumnet.objects.epr.Epr at 0x7f0014d57040>,\n",
       "  <quantumnet.objects.epr.Epr at 0x7f0014d57670>,\n",
       "  <quantumnet.objects.epr.Epr at 0x7f0014d57820>,\n",
       "  <quantumnet.objects.epr.Epr at 0x7f0014d57940>,\n",
       "  <quantumnet.objects.epr.Epr at 0x7efffdc741f0>,\n",
       "  <quantumnet.objects.epr.Epr at 0x7f0014d54610>],\n",
       " (2, 5): [<quantumnet.objects.epr.Epr at 0x7f0014d573d0>,\n",
       "  <quantumnet.objects.epr.Epr at 0x7f0014d574f0>,\n",
       "  <quantumnet.objects.epr.Epr at 0x7f0014d57880>,\n",
       "  <quantumnet.objects.epr.Epr at 0x7f0014d57b50>,\n",
       "  <quantumnet.objects.epr.Epr at 0x7f0014d57970>,\n",
       "  <quantumnet.objects.epr.Epr at 0x7f0014d57b20>,\n",
       "  <quantumnet.objects.epr.Epr at 0x7f0014d57c10>,\n",
       "  <quantumnet.objects.epr.Epr at 0x7f0014d575b0>,\n",
       "  <quantumnet.objects.epr.Epr at 0x7f0014d57c40>,\n",
       "  <quantumnet.objects.epr.Epr at 0x7f0014d57af0>],\n",
       " (3, 6): [<quantumnet.objects.epr.Epr at 0x7f0014d57280>,\n",
       "  <quantumnet.objects.epr.Epr at 0x7f0014d57d60>,\n",
       "  <quantumnet.objects.epr.Epr at 0x7f0014d57dc0>,\n",
       "  <quantumnet.objects.epr.Epr at 0x7f0014d57a60>,\n",
       "  <quantumnet.objects.epr.Epr at 0x7f0014d57d00>,\n",
       "  <quantumnet.objects.epr.Epr at 0x7f0014d57d30>,\n",
       "  <quantumnet.objects.epr.Epr at 0x7f0014d57fd0>,\n",
       "  <quantumnet.objects.epr.Epr at 0x7f0014d57e50>,\n",
       "  <quantumnet.objects.epr.Epr at 0x7f0014d88220>,\n",
       "  <quantumnet.objects.epr.Epr at 0x7f0014d881c0>],\n",
       " (3, 4): [<quantumnet.objects.epr.Epr at 0x7f0014d57e20>,\n",
       "  <quantumnet.objects.epr.Epr at 0x7f0014d88160>,\n",
       "  <quantumnet.objects.epr.Epr at 0x7f0014d882e0>,\n",
       "  <quantumnet.objects.epr.Epr at 0x7f0014d882b0>,\n",
       "  <quantumnet.objects.epr.Epr at 0x7f0014d881f0>,\n",
       "  <quantumnet.objects.epr.Epr at 0x7f0014d88310>,\n",
       "  <quantumnet.objects.epr.Epr at 0x7f0014d88190>,\n",
       "  <quantumnet.objects.epr.Epr at 0x7f0014d885b0>,\n",
       "  <quantumnet.objects.epr.Epr at 0x7f0014d884c0>,\n",
       "  <quantumnet.objects.epr.Epr at 0x7f0014d88640>],\n",
       " (4, 7): [<quantumnet.objects.epr.Epr at 0x7f0014d88370>,\n",
       "  <quantumnet.objects.epr.Epr at 0x7f0014d88700>,\n",
       "  <quantumnet.objects.epr.Epr at 0x7f0014d88490>,\n",
       "  <quantumnet.objects.epr.Epr at 0x7f0014d887c0>,\n",
       "  <quantumnet.objects.epr.Epr at 0x7f0014d88850>,\n",
       "  <quantumnet.objects.epr.Epr at 0x7f0014d88760>,\n",
       "  <quantumnet.objects.epr.Epr at 0x7f0014d88550>,\n",
       "  <quantumnet.objects.epr.Epr at 0x7f0014d889a0>,\n",
       "  <quantumnet.objects.epr.Epr at 0x7f0014d888e0>,\n",
       "  <quantumnet.objects.epr.Epr at 0x7f0014d887f0>],\n",
       " (4, 5): [<quantumnet.objects.epr.Epr at 0x7f0014d886d0>,\n",
       "  <quantumnet.objects.epr.Epr at 0x7f0014d88b50>,\n",
       "  <quantumnet.objects.epr.Epr at 0x7f0014d889d0>,\n",
       "  <quantumnet.objects.epr.Epr at 0x7f0014d88910>,\n",
       "  <quantumnet.objects.epr.Epr at 0x7f0014d88a30>,\n",
       "  <quantumnet.objects.epr.Epr at 0x7f0014d88be0>,\n",
       "  <quantumnet.objects.epr.Epr at 0x7f0014d88cd0>,\n",
       "  <quantumnet.objects.epr.Epr at 0x7f0014d88670>,\n",
       "  <quantumnet.objects.epr.Epr at 0x7f0014d88df0>,\n",
       "  <quantumnet.objects.epr.Epr at 0x7f0014d88400>],\n",
       " (5, 8): [<quantumnet.objects.epr.Epr at 0x7f0014d88940>,\n",
       "  <quantumnet.objects.epr.Epr at 0x7f0014d88e80>,\n",
       "  <quantumnet.objects.epr.Epr at 0x7f0014d88f70>,\n",
       "  <quantumnet.objects.epr.Epr at 0x7f0014d88f10>,\n",
       "  <quantumnet.objects.epr.Epr at 0x7f0014d88b20>,\n",
       "  <quantumnet.objects.epr.Epr at 0x7f0014d88bb0>,\n",
       "  <quantumnet.objects.epr.Epr at 0x7f0014d88f40>,\n",
       "  <quantumnet.objects.epr.Epr at 0x7f0014d89150>,\n",
       "  <quantumnet.objects.epr.Epr at 0x7f0014d88dc0>,\n",
       "  <quantumnet.objects.epr.Epr at 0x7f0014d88ee0>],\n",
       " (6, 7): [<quantumnet.objects.epr.Epr at 0x7f0014d88d90>,\n",
       "  <quantumnet.objects.epr.Epr at 0x7f0014d89120>,\n",
       "  <quantumnet.objects.epr.Epr at 0x7f0014d88d30>,\n",
       "  <quantumnet.objects.epr.Epr at 0x7f0014d89300>,\n",
       "  <quantumnet.objects.epr.Epr at 0x7f0014d891e0>,\n",
       "  <quantumnet.objects.epr.Epr at 0x7f0014d89480>,\n",
       "  <quantumnet.objects.epr.Epr at 0x7f0014d893c0>,\n",
       "  <quantumnet.objects.epr.Epr at 0x7f0014d89450>,\n",
       "  <quantumnet.objects.epr.Epr at 0x7f0014d89420>,\n",
       "  <quantumnet.objects.epr.Epr at 0x7f0014d89360>],\n",
       " (7, 8): [<quantumnet.objects.epr.Epr at 0x7f0014d89090>,\n",
       "  <quantumnet.objects.epr.Epr at 0x7f0014d89510>,\n",
       "  <quantumnet.objects.epr.Epr at 0x7f0014d895a0>,\n",
       "  <quantumnet.objects.epr.Epr at 0x7f0014d89750>,\n",
       "  <quantumnet.objects.epr.Epr at 0x7f0014d89690>,\n",
       "  <quantumnet.objects.epr.Epr at 0x7f0014d896c0>,\n",
       "  <quantumnet.objects.epr.Epr at 0x7f0014d89810>,\n",
       "  <quantumnet.objects.epr.Epr at 0x7f0014d89780>,\n",
       "  <quantumnet.objects.epr.Epr at 0x7f0014d89630>,\n",
       "  <quantumnet.objects.epr.Epr at 0x7f0014d89990>]}"
      ]
     },
     "execution_count": 9,
     "metadata": {},
     "output_type": "execute_result"
    }
   ],
   "source": [
    "rede.get_eprs()"
   ]
  },
  {
   "cell_type": "code",
   "execution_count": 10,
   "metadata": {},
   "outputs": [
    {
     "data": {
      "text/plain": [
       "7"
      ]
     },
     "execution_count": 10,
     "metadata": {},
     "output_type": "execute_result"
    }
   ],
   "source": [
    "rede.get_timeslot()"
   ]
  },
  {
   "cell_type": "code",
   "execution_count": 11,
   "metadata": {},
   "outputs": [],
   "source": [
    "# rede.total_qubits_on_simulation()"
   ]
  },
  {
   "cell_type": "code",
   "execution_count": 12,
   "metadata": {},
   "outputs": [
    {
     "name": "stderr",
     "output_type": "stream",
     "text": [
      "2024-09-10 16:41:54,337: A fidelidade média dos EPRs criados na camada de enlace é 0.05910952312091892\n"
     ]
    },
    {
     "name": "stdout",
     "output_type": "stream",
     "text": [
      "Total de EPRs criados na camada de enlace: 2\n",
      "Total de fidelidade dos EPRs criados na camada de enlace: 0.11821904624183784\n"
     ]
    },
    {
     "data": {
      "text/plain": [
       "0.05910952312091892"
      ]
     },
     "execution_count": 12,
     "metadata": {},
     "output_type": "execute_result"
    }
   ],
   "source": [
    "rede.linklayer.avg_fidelity_on_linklayer()"
   ]
  }
 ],
 "metadata": {
  "kernelspec": {
   "display_name": "Python 3",
   "language": "python",
   "name": "python3"
  },
  "language_info": {
   "codemirror_mode": {
    "name": "ipython",
    "version": 3
   },
   "file_extension": ".py",
   "mimetype": "text/x-python",
   "name": "python",
   "nbconvert_exporter": "python",
   "pygments_lexer": "ipython3",
   "version": "3.10.12"
  }
 },
 "nbformat": 4,
 "nbformat_minor": 2
}
