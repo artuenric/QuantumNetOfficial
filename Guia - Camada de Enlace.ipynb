{
 "cells": [
  {
   "cell_type": "markdown",
   "metadata": {},
   "source": [
    "# Guia da Camada de Enlace\n",
    "### IMPORTANDO AS DEPENDÊNCIAS\n",
    "##### O documento tem o objetivo de demostrar o funcionamento da camada de enlace, além de suas funções e ferramentas"
   ]
  },
  {
   "cell_type": "code",
   "execution_count": 1,
   "metadata": {},
   "outputs": [],
   "source": [
    "from quantumnet.components import Network, Host\n",
    "from quantumnet.objects import Qubit, Logger\n",
    "Logger.activate(Logger)"
   ]
  },
  {
   "cell_type": "markdown",
   "metadata": {},
   "source": [
    "##### Instanciando a rede, e setando a topologia."
   ]
  },
  {
   "cell_type": "code",
   "execution_count": 2,
   "metadata": {},
   "outputs": [
    {
     "name": "stderr",
     "output_type": "stream",
     "text": [
      "2024-09-05 23:28:51,555: Qubit 0 adicionado à memória do Host 0.\n",
      "2024-09-05 23:28:51,556: Qubit 0 criado com fidelidade inicial 0.4183858240370638 e adicionado à memória do Host 0.\n",
      "2024-09-05 23:28:51,556: Qubit 1 adicionado à memória do Host 0.\n",
      "2024-09-05 23:28:51,557: Qubit 1 criado com fidelidade inicial 0.48400708898158507 e adicionado à memória do Host 0.\n",
      "2024-09-05 23:28:51,557: Qubit 2 adicionado à memória do Host 0.\n",
      "2024-09-05 23:28:51,557: Qubit 2 criado com fidelidade inicial 0.5179535305106496 e adicionado à memória do Host 0.\n",
      "2024-09-05 23:28:51,558: Qubit 3 adicionado à memória do Host 0.\n",
      "2024-09-05 23:28:51,558: Qubit 3 criado com fidelidade inicial 0.7464286788587611 e adicionado à memória do Host 0.\n",
      "2024-09-05 23:28:51,559: Qubit 4 adicionado à memória do Host 0.\n",
      "2024-09-05 23:28:51,559: Qubit 4 criado com fidelidade inicial 0.6419954442248653 e adicionado à memória do Host 0.\n",
      "2024-09-05 23:28:51,559: Qubit 5 adicionado à memória do Host 0.\n",
      "2024-09-05 23:28:51,560: Qubit 5 criado com fidelidade inicial 0.20481597245630845 e adicionado à memória do Host 0.\n",
      "2024-09-05 23:28:51,560: Qubit 6 adicionado à memória do Host 0.\n",
      "2024-09-05 23:28:51,560: Qubit 6 criado com fidelidade inicial 0.8595098321421839 e adicionado à memória do Host 0.\n",
      "2024-09-05 23:28:51,561: Qubit 7 adicionado à memória do Host 0.\n",
      "2024-09-05 23:28:51,561: Qubit 7 criado com fidelidade inicial 0.00895726414498077 e adicionado à memória do Host 0.\n",
      "2024-09-05 23:28:51,561: Qubit 8 adicionado à memória do Host 0.\n",
      "2024-09-05 23:28:51,561: Qubit 8 criado com fidelidade inicial 0.7339110905186699 e adicionado à memória do Host 0.\n",
      "2024-09-05 23:28:51,562: Qubit 9 adicionado à memória do Host 0.\n",
      "2024-09-05 23:28:51,562: Qubit 9 criado com fidelidade inicial 0.5648450170474345 e adicionado à memória do Host 0.\n",
      "2024-09-05 23:28:51,562: Qubit 10 adicionado à memória do Host 1.\n",
      "2024-09-05 23:28:51,563: Qubit 10 criado com fidelidade inicial 0.5785187629297507 e adicionado à memória do Host 1.\n",
      "2024-09-05 23:28:51,563: Qubit 11 adicionado à memória do Host 1.\n",
      "2024-09-05 23:28:51,563: Qubit 11 criado com fidelidade inicial 0.2525253575010351 e adicionado à memória do Host 1.\n",
      "2024-09-05 23:28:51,564: Qubit 12 adicionado à memória do Host 1.\n",
      "2024-09-05 23:28:51,564: Qubit 12 criado com fidelidade inicial 0.4932993699069411 e adicionado à memória do Host 1.\n",
      "2024-09-05 23:28:51,564: Qubit 13 adicionado à memória do Host 1.\n",
      "2024-09-05 23:28:51,565: Qubit 13 criado com fidelidade inicial 0.39895933093714 e adicionado à memória do Host 1.\n",
      "2024-09-05 23:28:51,565: Qubit 14 adicionado à memória do Host 1.\n",
      "2024-09-05 23:28:51,565: Qubit 14 criado com fidelidade inicial 0.007951849039780856 e adicionado à memória do Host 1.\n",
      "2024-09-05 23:28:51,566: Qubit 15 adicionado à memória do Host 1.\n",
      "2024-09-05 23:28:51,566: Qubit 15 criado com fidelidade inicial 0.9849997944570276 e adicionado à memória do Host 1.\n",
      "2024-09-05 23:28:51,566: Qubit 16 adicionado à memória do Host 1.\n",
      "2024-09-05 23:28:51,567: Qubit 16 criado com fidelidade inicial 0.13487474531964705 e adicionado à memória do Host 1.\n",
      "2024-09-05 23:28:51,567: Qubit 17 adicionado à memória do Host 1.\n",
      "2024-09-05 23:28:51,567: Qubit 17 criado com fidelidade inicial 0.6354129367325335 e adicionado à memória do Host 1.\n",
      "2024-09-05 23:28:51,568: Qubit 18 adicionado à memória do Host 1.\n",
      "2024-09-05 23:28:51,568: Qubit 18 criado com fidelidade inicial 0.762425403422279 e adicionado à memória do Host 1.\n",
      "2024-09-05 23:28:51,568: Qubit 19 adicionado à memória do Host 1.\n",
      "2024-09-05 23:28:51,568: Qubit 19 criado com fidelidade inicial 0.5583638726794736 e adicionado à memória do Host 1.\n",
      "2024-09-05 23:28:51,569: Qubit 20 adicionado à memória do Host 2.\n",
      "2024-09-05 23:28:51,569: Qubit 20 criado com fidelidade inicial 0.8834264505122852 e adicionado à memória do Host 2.\n",
      "2024-09-05 23:28:51,569: Qubit 21 adicionado à memória do Host 2.\n",
      "2024-09-05 23:28:51,569: Qubit 21 criado com fidelidade inicial 0.3082166339532878 e adicionado à memória do Host 2.\n",
      "2024-09-05 23:28:51,570: Qubit 22 adicionado à memória do Host 2.\n",
      "2024-09-05 23:28:51,570: Qubit 22 criado com fidelidade inicial 0.7933296455824088 e adicionado à memória do Host 2.\n",
      "2024-09-05 23:28:51,570: Qubit 23 adicionado à memória do Host 2.\n",
      "2024-09-05 23:28:51,571: Qubit 23 criado com fidelidade inicial 0.6918685136966857 e adicionado à memória do Host 2.\n",
      "2024-09-05 23:28:51,571: Qubit 24 adicionado à memória do Host 2.\n",
      "2024-09-05 23:28:51,571: Qubit 24 criado com fidelidade inicial 0.13212722004415534 e adicionado à memória do Host 2.\n",
      "2024-09-05 23:28:51,572: Qubit 25 adicionado à memória do Host 2.\n",
      "2024-09-05 23:28:51,572: Qubit 25 criado com fidelidade inicial 0.9495581211943268 e adicionado à memória do Host 2.\n",
      "2024-09-05 23:28:51,572: Qubit 26 adicionado à memória do Host 2.\n",
      "2024-09-05 23:28:51,573: Qubit 26 criado com fidelidade inicial 0.542275569031691 e adicionado à memória do Host 2.\n",
      "2024-09-05 23:28:51,573: Qubit 27 adicionado à memória do Host 2.\n",
      "2024-09-05 23:28:51,573: Qubit 27 criado com fidelidade inicial 0.24212111805539416 e adicionado à memória do Host 2.\n",
      "2024-09-05 23:28:51,574: Qubit 28 adicionado à memória do Host 2.\n",
      "2024-09-05 23:28:51,574: Qubit 28 criado com fidelidade inicial 0.23729057295369915 e adicionado à memória do Host 2.\n",
      "2024-09-05 23:28:51,574: Qubit 29 adicionado à memória do Host 2.\n",
      "2024-09-05 23:28:51,574: Qubit 29 criado com fidelidade inicial 0.16629807905075855 e adicionado à memória do Host 2.\n",
      "2024-09-05 23:28:51,575: Qubit 30 adicionado à memória do Host 3.\n",
      "2024-09-05 23:28:51,575: Qubit 30 criado com fidelidade inicial 0.6320436014167399 e adicionado à memória do Host 3.\n",
      "2024-09-05 23:28:51,575: Qubit 31 adicionado à memória do Host 3.\n",
      "2024-09-05 23:28:51,576: Qubit 31 criado com fidelidade inicial 0.8101510380979832 e adicionado à memória do Host 3.\n",
      "2024-09-05 23:28:51,576: Qubit 32 adicionado à memória do Host 3.\n",
      "2024-09-05 23:28:51,576: Qubit 32 criado com fidelidade inicial 0.7871222509697358 e adicionado à memória do Host 3.\n",
      "2024-09-05 23:28:51,577: Qubit 33 adicionado à memória do Host 3.\n",
      "2024-09-05 23:28:51,577: Qubit 33 criado com fidelidade inicial 0.15806843035662266 e adicionado à memória do Host 3.\n",
      "2024-09-05 23:28:51,577: Qubit 34 adicionado à memória do Host 3.\n",
      "2024-09-05 23:28:51,578: Qubit 34 criado com fidelidade inicial 0.34856153676210644 e adicionado à memória do Host 3.\n",
      "2024-09-05 23:28:51,578: Qubit 35 adicionado à memória do Host 3.\n",
      "2024-09-05 23:28:51,578: Qubit 35 criado com fidelidade inicial 0.7508144231750671 e adicionado à memória do Host 3.\n",
      "2024-09-05 23:28:51,578: Qubit 36 adicionado à memória do Host 3.\n",
      "2024-09-05 23:28:51,579: Qubit 36 criado com fidelidade inicial 0.4501755094991755 e adicionado à memória do Host 3.\n",
      "2024-09-05 23:28:51,579: Qubit 37 adicionado à memória do Host 3.\n",
      "2024-09-05 23:28:51,579: Qubit 37 criado com fidelidade inicial 0.1742551094561915 e adicionado à memória do Host 3.\n",
      "2024-09-05 23:28:51,580: Qubit 38 adicionado à memória do Host 3.\n",
      "2024-09-05 23:28:51,580: Qubit 38 criado com fidelidade inicial 0.47498121759420575 e adicionado à memória do Host 3.\n",
      "2024-09-05 23:28:51,580: Qubit 39 adicionado à memória do Host 3.\n",
      "2024-09-05 23:28:51,581: Qubit 39 criado com fidelidade inicial 0.758190499038125 e adicionado à memória do Host 3.\n",
      "2024-09-05 23:28:51,581: Qubit 40 adicionado à memória do Host 4.\n",
      "2024-09-05 23:28:51,581: Qubit 40 criado com fidelidade inicial 0.7362627847072493 e adicionado à memória do Host 4.\n",
      "2024-09-05 23:28:51,582: Qubit 41 adicionado à memória do Host 4.\n",
      "2024-09-05 23:28:51,582: Qubit 41 criado com fidelidade inicial 0.793452199127416 e adicionado à memória do Host 4.\n",
      "2024-09-05 23:28:51,582: Qubit 42 adicionado à memória do Host 4.\n",
      "2024-09-05 23:28:51,583: Qubit 42 criado com fidelidade inicial 0.9219295012879822 e adicionado à memória do Host 4.\n",
      "2024-09-05 23:28:51,583: Qubit 43 adicionado à memória do Host 4.\n",
      "2024-09-05 23:28:51,584: Qubit 43 criado com fidelidade inicial 0.26731711382872136 e adicionado à memória do Host 4.\n",
      "2024-09-05 23:28:51,584: Qubit 44 adicionado à memória do Host 4.\n",
      "2024-09-05 23:28:51,584: Qubit 44 criado com fidelidade inicial 0.889496224594721 e adicionado à memória do Host 4.\n",
      "2024-09-05 23:28:51,584: Qubit 45 adicionado à memória do Host 4.\n",
      "2024-09-05 23:28:51,584: Qubit 45 criado com fidelidade inicial 0.4101208282149226 e adicionado à memória do Host 4.\n",
      "2024-09-05 23:28:51,585: Qubit 46 adicionado à memória do Host 4.\n",
      "2024-09-05 23:28:51,586: Qubit 46 criado com fidelidade inicial 0.4266886101289775 e adicionado à memória do Host 4.\n",
      "2024-09-05 23:28:51,586: Qubit 47 adicionado à memória do Host 4.\n",
      "2024-09-05 23:28:51,586: Qubit 47 criado com fidelidade inicial 0.5493750125828957 e adicionado à memória do Host 4.\n",
      "2024-09-05 23:28:51,586: Qubit 48 adicionado à memória do Host 4.\n",
      "2024-09-05 23:28:51,587: Qubit 48 criado com fidelidade inicial 0.7078787738223076 e adicionado à memória do Host 4.\n",
      "2024-09-05 23:28:51,587: Qubit 49 adicionado à memória do Host 4.\n",
      "2024-09-05 23:28:51,587: Qubit 49 criado com fidelidade inicial 0.9712293356618318 e adicionado à memória do Host 4.\n",
      "2024-09-05 23:28:51,588: Qubit 50 adicionado à memória do Host 5.\n",
      "2024-09-05 23:28:51,588: Qubit 50 criado com fidelidade inicial 0.3852971454932067 e adicionado à memória do Host 5.\n",
      "2024-09-05 23:28:51,588: Qubit 51 adicionado à memória do Host 5.\n",
      "2024-09-05 23:28:51,589: Qubit 51 criado com fidelidade inicial 0.5426025470209593 e adicionado à memória do Host 5.\n",
      "2024-09-05 23:28:51,589: Qubit 52 adicionado à memória do Host 5.\n",
      "2024-09-05 23:28:51,589: Qubit 52 criado com fidelidade inicial 0.057262734041125474 e adicionado à memória do Host 5.\n",
      "2024-09-05 23:28:51,590: Qubit 53 adicionado à memória do Host 5.\n",
      "2024-09-05 23:28:51,590: Qubit 53 criado com fidelidade inicial 0.08383140930835054 e adicionado à memória do Host 5.\n",
      "2024-09-05 23:28:51,590: Qubit 54 adicionado à memória do Host 5.\n",
      "2024-09-05 23:28:51,591: Qubit 54 criado com fidelidade inicial 0.3631899965372949 e adicionado à memória do Host 5.\n",
      "2024-09-05 23:28:51,591: Qubit 55 adicionado à memória do Host 5.\n",
      "2024-09-05 23:28:51,592: Qubit 55 criado com fidelidade inicial 0.13584905457638663 e adicionado à memória do Host 5.\n",
      "2024-09-05 23:28:51,592: Qubit 56 adicionado à memória do Host 5.\n",
      "2024-09-05 23:28:51,592: Qubit 56 criado com fidelidade inicial 0.15256056729751188 e adicionado à memória do Host 5.\n",
      "2024-09-05 23:28:51,593: Qubit 57 adicionado à memória do Host 5.\n",
      "2024-09-05 23:28:51,593: Qubit 57 criado com fidelidade inicial 0.9136456329207227 e adicionado à memória do Host 5.\n",
      "2024-09-05 23:28:51,593: Qubit 58 adicionado à memória do Host 5.\n",
      "2024-09-05 23:28:51,595: Qubit 58 criado com fidelidade inicial 0.28307560521062936 e adicionado à memória do Host 5.\n",
      "2024-09-05 23:28:51,595: Qubit 59 adicionado à memória do Host 5.\n",
      "2024-09-05 23:28:51,600: Qubit 59 criado com fidelidade inicial 0.05987218389279614 e adicionado à memória do Host 5.\n",
      "2024-09-05 23:28:51,600: Qubit 60 adicionado à memória do Host 6.\n",
      "2024-09-05 23:28:51,601: Qubit 60 criado com fidelidade inicial 0.06251600753844588 e adicionado à memória do Host 6.\n",
      "2024-09-05 23:28:51,602: Qubit 61 adicionado à memória do Host 6.\n",
      "2024-09-05 23:28:51,605: Qubit 61 criado com fidelidade inicial 0.8386738935492332 e adicionado à memória do Host 6.\n",
      "2024-09-05 23:28:51,606: Qubit 62 adicionado à memória do Host 6.\n",
      "2024-09-05 23:28:51,607: Qubit 62 criado com fidelidade inicial 0.6132148974543248 e adicionado à memória do Host 6.\n",
      "2024-09-05 23:28:51,607: Qubit 63 adicionado à memória do Host 6.\n",
      "2024-09-05 23:28:51,607: Qubit 63 criado com fidelidade inicial 0.8805332008559356 e adicionado à memória do Host 6.\n",
      "2024-09-05 23:28:51,610: Qubit 64 adicionado à memória do Host 6.\n",
      "2024-09-05 23:28:51,610: Qubit 64 criado com fidelidade inicial 0.45532848493918654 e adicionado à memória do Host 6.\n",
      "2024-09-05 23:28:51,611: Qubit 65 adicionado à memória do Host 6.\n",
      "2024-09-05 23:28:51,611: Qubit 65 criado com fidelidade inicial 0.3624210122463212 e adicionado à memória do Host 6.\n",
      "2024-09-05 23:28:51,612: Qubit 66 adicionado à memória do Host 6.\n",
      "2024-09-05 23:28:51,612: Qubit 66 criado com fidelidade inicial 0.26651887095004567 e adicionado à memória do Host 6.\n",
      "2024-09-05 23:28:51,613: Qubit 67 adicionado à memória do Host 6.\n",
      "2024-09-05 23:28:51,614: Qubit 67 criado com fidelidade inicial 0.38133157407109697 e adicionado à memória do Host 6.\n",
      "2024-09-05 23:28:51,614: Qubit 68 adicionado à memória do Host 6.\n",
      "2024-09-05 23:28:51,616: Qubit 68 criado com fidelidade inicial 0.12009248747269807 e adicionado à memória do Host 6.\n",
      "2024-09-05 23:28:51,616: Qubit 69 adicionado à memória do Host 6.\n",
      "2024-09-05 23:28:51,617: Qubit 69 criado com fidelidade inicial 0.9114394187977861 e adicionado à memória do Host 6.\n",
      "2024-09-05 23:28:51,617: Qubit 70 adicionado à memória do Host 7.\n",
      "2024-09-05 23:28:51,618: Qubit 70 criado com fidelidade inicial 0.8394831569124446 e adicionado à memória do Host 7.\n",
      "2024-09-05 23:28:51,619: Qubit 71 adicionado à memória do Host 7.\n",
      "2024-09-05 23:28:51,619: Qubit 71 criado com fidelidade inicial 0.6592636666816504 e adicionado à memória do Host 7.\n",
      "2024-09-05 23:28:51,619: Qubit 72 adicionado à memória do Host 7.\n",
      "2024-09-05 23:28:51,621: Qubit 72 criado com fidelidade inicial 0.9544126084924337 e adicionado à memória do Host 7.\n",
      "2024-09-05 23:28:51,622: Qubit 73 adicionado à memória do Host 7.\n",
      "2024-09-05 23:28:51,623: Qubit 73 criado com fidelidade inicial 0.4981535993821974 e adicionado à memória do Host 7.\n",
      "2024-09-05 23:28:51,626: Qubit 74 adicionado à memória do Host 7.\n",
      "2024-09-05 23:28:51,629: Qubit 74 criado com fidelidade inicial 0.639371275270366 e adicionado à memória do Host 7.\n",
      "2024-09-05 23:28:51,629: Qubit 75 adicionado à memória do Host 7.\n",
      "2024-09-05 23:28:51,630: Qubit 75 criado com fidelidade inicial 0.17942048981636904 e adicionado à memória do Host 7.\n",
      "2024-09-05 23:28:51,630: Qubit 76 adicionado à memória do Host 7.\n",
      "2024-09-05 23:28:51,631: Qubit 76 criado com fidelidade inicial 0.4762136681006077 e adicionado à memória do Host 7.\n",
      "2024-09-05 23:28:51,631: Qubit 77 adicionado à memória do Host 7.\n",
      "2024-09-05 23:28:51,632: Qubit 77 criado com fidelidade inicial 0.40321965089465917 e adicionado à memória do Host 7.\n",
      "2024-09-05 23:28:51,635: Qubit 78 adicionado à memória do Host 7.\n",
      "2024-09-05 23:28:51,636: Qubit 78 criado com fidelidade inicial 0.9441404313433597 e adicionado à memória do Host 7.\n",
      "2024-09-05 23:28:51,636: Qubit 79 adicionado à memória do Host 7.\n",
      "2024-09-05 23:28:51,636: Qubit 79 criado com fidelidade inicial 0.6128071535286244 e adicionado à memória do Host 7.\n",
      "2024-09-05 23:28:51,637: Qubit 80 adicionado à memória do Host 8.\n",
      "2024-09-05 23:28:51,637: Qubit 80 criado com fidelidade inicial 0.6966679150898748 e adicionado à memória do Host 8.\n",
      "2024-09-05 23:28:51,637: Qubit 81 adicionado à memória do Host 8.\n",
      "2024-09-05 23:28:51,637: Qubit 81 criado com fidelidade inicial 0.5464526246158353 e adicionado à memória do Host 8.\n",
      "2024-09-05 23:28:51,638: Qubit 82 adicionado à memória do Host 8.\n",
      "2024-09-05 23:28:51,638: Qubit 82 criado com fidelidade inicial 0.26581513935187295 e adicionado à memória do Host 8.\n",
      "2024-09-05 23:28:51,639: Qubit 83 adicionado à memória do Host 8.\n",
      "2024-09-05 23:28:51,639: Qubit 83 criado com fidelidade inicial 0.709824605456504 e adicionado à memória do Host 8.\n",
      "2024-09-05 23:28:51,639: Qubit 84 adicionado à memória do Host 8.\n",
      "2024-09-05 23:28:51,640: Qubit 84 criado com fidelidade inicial 0.4071786998509779 e adicionado à memória do Host 8.\n",
      "2024-09-05 23:28:51,640: Qubit 85 adicionado à memória do Host 8.\n",
      "2024-09-05 23:28:51,640: Qubit 85 criado com fidelidade inicial 0.02475148398195759 e adicionado à memória do Host 8.\n",
      "2024-09-05 23:28:51,641: Qubit 86 adicionado à memória do Host 8.\n",
      "2024-09-05 23:28:51,641: Qubit 86 criado com fidelidade inicial 0.9757211821704144 e adicionado à memória do Host 8.\n",
      "2024-09-05 23:28:51,641: Qubit 87 adicionado à memória do Host 8.\n",
      "2024-09-05 23:28:51,641: Qubit 87 criado com fidelidade inicial 0.7278125608753915 e adicionado à memória do Host 8.\n",
      "2024-09-05 23:28:51,642: Qubit 88 adicionado à memória do Host 8.\n",
      "2024-09-05 23:28:51,642: Qubit 88 criado com fidelidade inicial 0.8650119614876463 e adicionado à memória do Host 8.\n",
      "2024-09-05 23:28:51,642: Qubit 89 adicionado à memória do Host 8.\n",
      "2024-09-05 23:28:51,642: Qubit 89 criado com fidelidade inicial 0.17168928255654659 e adicionado à memória do Host 8.\n",
      "2024-09-05 23:28:51,643: Par EPR <quantumnet.objects.epr.Epr object at 0x000001CC7E407380> adicionado ao canal.\n",
      "2024-09-05 23:28:51,643: Par EPR <quantumnet.objects.epr.Epr object at 0x000001CC7E23F470> adicionado ao canal.\n",
      "2024-09-05 23:28:51,643: Par EPR <quantumnet.objects.epr.Epr object at 0x000001CC7E2F7230> adicionado ao canal.\n",
      "2024-09-05 23:28:51,644: Par EPR <quantumnet.objects.epr.Epr object at 0x000001CC7DB67530> adicionado ao canal.\n",
      "2024-09-05 23:28:51,644: Par EPR <quantumnet.objects.epr.Epr object at 0x000001CC7E14F6E0> adicionado ao canal.\n",
      "2024-09-05 23:28:51,644: Par EPR <quantumnet.objects.epr.Epr object at 0x000001CC7E39F5F0> adicionado ao canal.\n",
      "2024-09-05 23:28:51,645: Par EPR <quantumnet.objects.epr.Epr object at 0x000001CC7E54E450> adicionado ao canal.\n",
      "2024-09-05 23:28:51,645: Par EPR <quantumnet.objects.epr.Epr object at 0x000001CC7E54F4A0> adicionado ao canal.\n",
      "2024-09-05 23:28:51,645: Par EPR <quantumnet.objects.epr.Epr object at 0x000001CC7E3B3E30> adicionado ao canal.\n",
      "2024-09-05 23:28:51,646: Par EPR <quantumnet.objects.epr.Epr object at 0x000001CC7E4CFA40> adicionado ao canal.\n",
      "2024-09-05 23:28:51,646: Par EPR <quantumnet.objects.epr.Epr object at 0x000001CC7E54F290> adicionado ao canal.\n",
      "2024-09-05 23:28:51,646: Par EPR <quantumnet.objects.epr.Epr object at 0x000001CC7E5209E0> adicionado ao canal.\n",
      "2024-09-05 23:28:51,646: Par EPR <quantumnet.objects.epr.Epr object at 0x000001CC7E3DF8C0> adicionado ao canal.\n",
      "2024-09-05 23:28:51,647: Par EPR <quantumnet.objects.epr.Epr object at 0x000001CC7DFCFBF0> adicionado ao canal.\n",
      "2024-09-05 23:28:51,647: Par EPR <quantumnet.objects.epr.Epr object at 0x000001CC7E54F830> adicionado ao canal.\n",
      "2024-09-05 23:28:51,647: Par EPR <quantumnet.objects.epr.Epr object at 0x000001CC7E5230B0> adicionado ao canal.\n",
      "2024-09-05 23:28:51,648: Par EPR <quantumnet.objects.epr.Epr object at 0x000001CC7E54F9E0> adicionado ao canal.\n",
      "2024-09-05 23:28:51,648: Par EPR <quantumnet.objects.epr.Epr object at 0x000001CC7E54FCE0> adicionado ao canal.\n",
      "2024-09-05 23:28:51,648: Par EPR <quantumnet.objects.epr.Epr object at 0x000001CC7E54EB70> adicionado ao canal.\n",
      "2024-09-05 23:28:51,649: Par EPR <quantumnet.objects.epr.Epr object at 0x000001CC7E521FA0> adicionado ao canal.\n",
      "2024-09-05 23:28:51,649: Par EPR <quantumnet.objects.epr.Epr object at 0x000001CC7DFCFE60> adicionado ao canal.\n",
      "2024-09-05 23:28:51,650: Par EPR <quantumnet.objects.epr.Epr object at 0x000001CC7E54F350> adicionado ao canal.\n",
      "2024-09-05 23:28:51,650: Par EPR <quantumnet.objects.epr.Epr object at 0x000001CC7E54FEF0> adicionado ao canal.\n",
      "2024-09-05 23:28:51,650: Par EPR <quantumnet.objects.epr.Epr object at 0x000001CC7E54FE90> adicionado ao canal.\n",
      "2024-09-05 23:28:51,651: Par EPR <quantumnet.objects.epr.Epr object at 0x000001CC7E54FB90> adicionado ao canal.\n",
      "2024-09-05 23:28:51,652: Par EPR <quantumnet.objects.epr.Epr object at 0x000001CC7E4304A0> adicionado ao canal.\n",
      "2024-09-05 23:28:51,652: Par EPR <quantumnet.objects.epr.Epr object at 0x000001CC7E1FFFE0> adicionado ao canal.\n",
      "2024-09-05 23:28:51,653: Par EPR <quantumnet.objects.epr.Epr object at 0x000001CC7E500530> adicionado ao canal.\n",
      "2024-09-05 23:28:51,653: Par EPR <quantumnet.objects.epr.Epr object at 0x000001CC7E560500> adicionado ao canal.\n",
      "2024-09-05 23:28:51,653: Par EPR <quantumnet.objects.epr.Epr object at 0x000001CC7E522120> adicionado ao canal.\n",
      "2024-09-05 23:28:51,654: Par EPR <quantumnet.objects.epr.Epr object at 0x000001CC7E521F70> adicionado ao canal.\n",
      "2024-09-05 23:28:51,654: Par EPR <quantumnet.objects.epr.Epr object at 0x000001CC7E5607D0> adicionado ao canal.\n",
      "2024-09-05 23:28:51,655: Par EPR <quantumnet.objects.epr.Epr object at 0x000001CC7E560740> adicionado ao canal.\n",
      "2024-09-05 23:28:51,655: Par EPR <quantumnet.objects.epr.Epr object at 0x000001CC7E520AA0> adicionado ao canal.\n",
      "2024-09-05 23:28:51,655: Par EPR <quantumnet.objects.epr.Epr object at 0x000001CC7E458A70> adicionado ao canal.\n",
      "2024-09-05 23:28:51,656: Par EPR <quantumnet.objects.epr.Epr object at 0x000001CC7E560680> adicionado ao canal.\n",
      "2024-09-05 23:28:51,656: Par EPR <quantumnet.objects.epr.Epr object at 0x000001CC7E520B60> adicionado ao canal.\n",
      "2024-09-05 23:28:51,656: Par EPR <quantumnet.objects.epr.Epr object at 0x000001CC7E560BC0> adicionado ao canal.\n",
      "2024-09-05 23:28:51,657: Par EPR <quantumnet.objects.epr.Epr object at 0x000001CC7E560B30> adicionado ao canal.\n",
      "2024-09-05 23:28:51,657: Par EPR <quantumnet.objects.epr.Epr object at 0x000001CC7E260EC0> adicionado ao canal.\n",
      "2024-09-05 23:28:51,658: Par EPR <quantumnet.objects.epr.Epr object at 0x000001CC7E520FB0> adicionado ao canal.\n",
      "2024-09-05 23:28:51,658: Par EPR <quantumnet.objects.epr.Epr object at 0x000001CC7E560CB0> adicionado ao canal.\n",
      "2024-09-05 23:28:51,659: Par EPR <quantumnet.objects.epr.Epr object at 0x000001CC7E5211F0> adicionado ao canal.\n",
      "2024-09-05 23:28:51,659: Par EPR <quantumnet.objects.epr.Epr object at 0x000001CC7E561040> adicionado ao canal.\n",
      "2024-09-05 23:28:51,660: Par EPR <quantumnet.objects.epr.Epr object at 0x000001CC7E521280> adicionado ao canal.\n",
      "2024-09-05 23:28:51,660: Par EPR <quantumnet.objects.epr.Epr object at 0x000001CC7E561160> adicionado ao canal.\n",
      "2024-09-05 23:28:51,660: Par EPR <quantumnet.objects.epr.Epr object at 0x000001CC7E521130> adicionado ao canal.\n",
      "2024-09-05 23:28:51,661: Par EPR <quantumnet.objects.epr.Epr object at 0x000001CC7E561400> adicionado ao canal.\n",
      "2024-09-05 23:28:51,661: Par EPR <quantumnet.objects.epr.Epr object at 0x000001CC7E521550> adicionado ao canal.\n",
      "2024-09-05 23:28:51,661: Par EPR <quantumnet.objects.epr.Epr object at 0x000001CC7E523BF0> adicionado ao canal.\n",
      "2024-09-05 23:28:51,662: Par EPR <quantumnet.objects.epr.Epr object at 0x000001CC7E561520> adicionado ao canal.\n",
      "2024-09-05 23:28:51,662: Par EPR <quantumnet.objects.epr.Epr object at 0x000001CC7E520EF0> adicionado ao canal.\n",
      "2024-09-05 23:28:51,662: Par EPR <quantumnet.objects.epr.Epr object at 0x000001CC7E521760> adicionado ao canal.\n",
      "2024-09-05 23:28:51,662: Par EPR <quantumnet.objects.epr.Epr object at 0x000001CC7E521310> adicionado ao canal.\n",
      "2024-09-05 23:28:51,663: Par EPR <quantumnet.objects.epr.Epr object at 0x000001CC7E521910> adicionado ao canal.\n",
      "2024-09-05 23:28:51,663: Par EPR <quantumnet.objects.epr.Epr object at 0x000001CC7E5224B0> adicionado ao canal.\n",
      "2024-09-05 23:28:51,664: Par EPR <quantumnet.objects.epr.Epr object at 0x000001CC7E5210A0> adicionado ao canal.\n",
      "2024-09-05 23:28:51,664: Par EPR <quantumnet.objects.epr.Epr object at 0x000001CC7E521970> adicionado ao canal.\n",
      "2024-09-05 23:28:51,664: Par EPR <quantumnet.objects.epr.Epr object at 0x000001CC7E522030> adicionado ao canal.\n",
      "2024-09-05 23:28:51,665: Par EPR <quantumnet.objects.epr.Epr object at 0x000001CC7E521A60> adicionado ao canal.\n",
      "2024-09-05 23:28:51,665: Par EPR <quantumnet.objects.epr.Epr object at 0x000001CC7E521C10> adicionado ao canal.\n",
      "2024-09-05 23:28:51,665: Par EPR <quantumnet.objects.epr.Epr object at 0x000001CC7E54D190> adicionado ao canal.\n",
      "2024-09-05 23:28:51,665: Par EPR <quantumnet.objects.epr.Epr object at 0x000001CC7E521A00> adicionado ao canal.\n",
      "2024-09-05 23:28:51,666: Par EPR <quantumnet.objects.epr.Epr object at 0x000001CC7E521DC0> adicionado ao canal.\n",
      "2024-09-05 23:28:51,666: Par EPR <quantumnet.objects.epr.Epr object at 0x000001CC7E521A90> adicionado ao canal.\n",
      "2024-09-05 23:28:51,666: Par EPR <quantumnet.objects.epr.Epr object at 0x000001CC7E561D30> adicionado ao canal.\n",
      "2024-09-05 23:28:51,667: Par EPR <quantumnet.objects.epr.Epr object at 0x000001CC7E561CA0> adicionado ao canal.\n",
      "2024-09-05 23:28:51,667: Par EPR <quantumnet.objects.epr.Epr object at 0x000001CC7E521E50> adicionado ao canal.\n",
      "2024-09-05 23:28:51,667: Par EPR <quantumnet.objects.epr.Epr object at 0x000001CC7E561AF0> adicionado ao canal.\n",
      "2024-09-05 23:28:51,668: Par EPR <quantumnet.objects.epr.Epr object at 0x000001CC7E521EE0> adicionado ao canal.\n",
      "2024-09-05 23:28:51,668: Par EPR <quantumnet.objects.epr.Epr object at 0x000001CC7E5221E0> adicionado ao canal.\n",
      "2024-09-05 23:28:51,668: Par EPR <quantumnet.objects.epr.Epr object at 0x000001CC7E5620C0> adicionado ao canal.\n",
      "2024-09-05 23:28:51,668: Par EPR <quantumnet.objects.epr.Epr object at 0x000001CC7E522180> adicionado ao canal.\n",
      "2024-09-05 23:28:51,669: Par EPR <quantumnet.objects.epr.Epr object at 0x000001CC7E3B2270> adicionado ao canal.\n",
      "2024-09-05 23:28:51,669: Par EPR <quantumnet.objects.epr.Epr object at 0x000001CC7E522480> adicionado ao canal.\n",
      "2024-09-05 23:28:51,669: Par EPR <quantumnet.objects.epr.Epr object at 0x000001CC7E5236E0> adicionado ao canal.\n",
      "2024-09-05 23:28:51,670: Par EPR <quantumnet.objects.epr.Epr object at 0x000001CC7DB8A090> adicionado ao canal.\n",
      "2024-09-05 23:28:51,670: Par EPR <quantumnet.objects.epr.Epr object at 0x000001CC7E5223C0> adicionado ao canal.\n",
      "2024-09-05 23:28:51,670: Par EPR <quantumnet.objects.epr.Epr object at 0x000001CC7E5623F0> adicionado ao canal.\n",
      "2024-09-05 23:28:51,670: Par EPR <quantumnet.objects.epr.Epr object at 0x000001CC7E562600> adicionado ao canal.\n",
      "2024-09-05 23:28:51,671: Par EPR <quantumnet.objects.epr.Epr object at 0x000001CC7E562510> adicionado ao canal.\n",
      "2024-09-05 23:28:51,671: Par EPR <quantumnet.objects.epr.Epr object at 0x000001CC7E562720> adicionado ao canal.\n",
      "2024-09-05 23:28:51,671: Par EPR <quantumnet.objects.epr.Epr object at 0x000001CC7E562870> adicionado ao canal.\n",
      "2024-09-05 23:28:51,672: Par EPR <quantumnet.objects.epr.Epr object at 0x000001CC7E562780> adicionado ao canal.\n",
      "2024-09-05 23:28:51,672: Par EPR <quantumnet.objects.epr.Epr object at 0x000001CC7E458830> adicionado ao canal.\n",
      "2024-09-05 23:28:51,672: Par EPR <quantumnet.objects.epr.Epr object at 0x000001CC7E5629C0> adicionado ao canal.\n",
      "2024-09-05 23:28:51,672: Par EPR <quantumnet.objects.epr.Epr object at 0x000001CC7E5228A0> adicionado ao canal.\n",
      "2024-09-05 23:28:51,673: Par EPR <quantumnet.objects.epr.Epr object at 0x000001CC7E562A50> adicionado ao canal.\n",
      "2024-09-05 23:28:51,673: Par EPR <quantumnet.objects.epr.Epr object at 0x000001CC7E562B10> adicionado ao canal.\n",
      "2024-09-05 23:28:51,673: Par EPR <quantumnet.objects.epr.Epr object at 0x000001CC7E522D20> adicionado ao canal.\n",
      "2024-09-05 23:28:51,673: Par EPR <quantumnet.objects.epr.Epr object at 0x000001CC7E522A20> adicionado ao canal.\n",
      "2024-09-05 23:28:51,674: Par EPR <quantumnet.objects.epr.Epr object at 0x000001CC7E522FC0> adicionado ao canal.\n",
      "2024-09-05 23:28:51,674: Par EPR <quantumnet.objects.epr.Epr object at 0x000001CC7E562C30> adicionado ao canal.\n",
      "2024-09-05 23:28:51,674: Par EPR <quantumnet.objects.epr.Epr object at 0x000001CC7E562F00> adicionado ao canal.\n",
      "2024-09-05 23:28:51,675: Par EPR <quantumnet.objects.epr.Epr object at 0x000001CC7E562CF0> adicionado ao canal.\n",
      "2024-09-05 23:28:51,675: Par EPR <quantumnet.objects.epr.Epr object at 0x000001CC7E563140> adicionado ao canal.\n",
      "2024-09-05 23:28:51,675: Par EPR <quantumnet.objects.epr.Epr object at 0x000001CC7E522ED0> adicionado ao canal.\n",
      "2024-09-05 23:28:51,675: Par EPR <quantumnet.objects.epr.Epr object at 0x000001CC7E523320> adicionado ao canal.\n",
      "2024-09-05 23:28:51,676: Par EPR <quantumnet.objects.epr.Epr object at 0x000001CC7E563020> adicionado ao canal.\n",
      "2024-09-05 23:28:51,676: Par EPR <quantumnet.objects.epr.Epr object at 0x000001CC7E3B3380> adicionado ao canal.\n",
      "2024-09-05 23:28:51,676: Par EPR <quantumnet.objects.epr.Epr object at 0x000001CC7E563290> adicionado ao canal.\n",
      "2024-09-05 23:28:51,676: Par EPR <quantumnet.objects.epr.Epr object at 0x000001CC7E523410> adicionado ao canal.\n",
      "2024-09-05 23:28:51,677: Par EPR <quantumnet.objects.epr.Epr object at 0x000001CC7E5634A0> adicionado ao canal.\n",
      "2024-09-05 23:28:51,677: Par EPR <quantumnet.objects.epr.Epr object at 0x000001CC7E5232C0> adicionado ao canal.\n",
      "2024-09-05 23:28:51,677: Par EPR <quantumnet.objects.epr.Epr object at 0x000001CC7E5632F0> adicionado ao canal.\n",
      "2024-09-05 23:28:51,678: Par EPR <quantumnet.objects.epr.Epr object at 0x000001CC7E523590> adicionado ao canal.\n",
      "2024-09-05 23:28:51,678: Par EPR <quantumnet.objects.epr.Epr object at 0x000001CC7E563710> adicionado ao canal.\n",
      "2024-09-05 23:28:51,678: Par EPR <quantumnet.objects.epr.Epr object at 0x000001CC7E561220> adicionado ao canal.\n",
      "2024-09-05 23:28:51,678: Par EPR <quantumnet.objects.epr.Epr object at 0x000001CC7E5235F0> adicionado ao canal.\n",
      "2024-09-05 23:28:51,679: Par EPR <quantumnet.objects.epr.Epr object at 0x000001CC7E563980> adicionado ao canal.\n",
      "2024-09-05 23:28:51,679: Par EPR <quantumnet.objects.epr.Epr object at 0x000001CC7E523AA0> adicionado ao canal.\n",
      "2024-09-05 23:28:51,679: Par EPR <quantumnet.objects.epr.Epr object at 0x000001CC7E563A40> adicionado ao canal.\n",
      "2024-09-05 23:28:51,679: Par EPR <quantumnet.objects.epr.Epr object at 0x000001CC7E523C50> adicionado ao canal.\n",
      "2024-09-05 23:28:51,680: Par EPR <quantumnet.objects.epr.Epr object at 0x000001CC7E523D10> adicionado ao canal.\n",
      "2024-09-05 23:28:51,680: Par EPR <quantumnet.objects.epr.Epr object at 0x000001CC7E2799A0> adicionado ao canal.\n",
      "2024-09-05 23:28:51,680: Par EPR <quantumnet.objects.epr.Epr object at 0x000001CC7E563A10> adicionado ao canal.\n",
      "2024-09-05 23:28:51,680: Par EPR <quantumnet.objects.epr.Epr object at 0x000001CC7E563E60> adicionado ao canal.\n",
      "2024-09-05 23:28:51,681: Par EPR <quantumnet.objects.epr.Epr object at 0x000001CC7E54C080> adicionado ao canal.\n",
      "2024-09-05 23:28:51,681: Par EPR <quantumnet.objects.epr.Epr object at 0x000001CC7E54C050> adicionado ao canal.\n",
      "2024-09-05 23:28:51,681: Par EPR <quantumnet.objects.epr.Epr object at 0x000001CC7E563F80> adicionado ao canal.\n"
     ]
    },
    {
     "name": "stdout",
     "output_type": "stream",
     "text": [
      "Hosts inicializados\n",
      "Canais inicializados\n",
      "Pares EPRs adicionados\n"
     ]
    },
    {
     "data": {
      "image/png": "[encoded data removed]",
      "text/plain": [
       "<Figure size 640x480 with 1 Axes>"
      ]
     },
     "metadata": {},
     "output_type": "display_data"
    }
   ],
   "source": [
    "rede = Network()\n",
    "rede.set_ready_topology(\"Grade\", 3,3)\n",
    "rede.draw()"
   ]
  },
  {
   "cell_type": "markdown",
   "metadata": {},
   "source": [
    "##### Definindo os hosts alice e bob nos nós 1 e 2 respectivamente, e definindo os qubits que serão enviados"
   ]
  },
  {
   "cell_type": "code",
   "execution_count": 3,
   "metadata": {},
   "outputs": [],
   "source": [
    "alice = rede.get_host(1)\n",
    "bob = rede.get_host(2)\n",
    "qubit1 = Qubit(1)\n",
    "qubit2 = Qubit(2)\n"
   ]
  },
  {
   "cell_type": "markdown",
   "metadata": {},
   "source": [
    "##### Enviando um request para o servidor, se a fidelidade dos qubits for maior que 0.5, o servidor aceita a conexão e envia a chave para o cliente, se não, é tentado novamente fazer o entrelaçamento, e se falhar novamente, o servidor tenta purificar."
   ]
  },
  {
   "cell_type": "code",
   "execution_count": 16,
   "metadata": {},
   "outputs": [
    {
     "name": "stderr",
     "output_type": "stream",
     "text": [
      "2024-09-05 23:28:56,491: Timeslot 15: Par epr criado com fidelidade 0.3913490142942992\n",
      "2024-09-05 23:28:56,492: Timeslot 16: O protocolo de criação de emaranhamento foi bem sucedido, mas com fidelidade baixa.\n",
      "2024-09-05 23:28:56,492: Timeslot 11: Entrelaçamento falhou entre 1 e 2 na tentativa 1.\n",
      "2024-09-05 23:28:56,492: Timeslot 17: Par epr criado com fidelidade 0.07783251567681967\n",
      "2024-09-05 23:28:56,493: Timeslot 18: O protocolo de criação de emaranhamento foi bem sucedido, mas com fidelidade baixa.\n",
      "2024-09-05 23:28:56,493: Timeslot 12: Entrelaçamento falhou entre 1 e 2 na tentativa 2.\n",
      "2024-09-05 23:28:56,493: A purificação utilizada foi tipo 1.\n",
      "2024-09-05 23:28:56,494: Timeslot 13: Purificação falhou no canal (1, 2) devido a baixa fidelidade após purificação.\n"
     ]
    },
    {
     "data": {
      "text/plain": [
       "False"
      ]
     },
     "execution_count": 16,
     "metadata": {},
     "output_type": "execute_result"
    }
   ],
   "source": [
    "rede.linklayer.request(1,2)"
   ]
  },
  {
   "cell_type": "markdown",
   "metadata": {},
   "source": [
    "##### Verificando o canal do canal"
   ]
  },
  {
   "cell_type": "code",
   "execution_count": 17,
   "metadata": {},
   "outputs": [
    {
     "name": "stderr",
     "output_type": "stream",
     "text": [
      "2024-09-05 23:28:57,873: A fidelidade média dos EPRs criados na camada de enlace é 0.24248127882072198\n"
     ]
    },
    {
     "name": "stdout",
     "output_type": "stream",
     "text": [
      "Total de EPRs criados na camada de enlace: 9\n",
      "Total de fidelidade dos EPRs criados na camada de enlace: 2.182331509386498\n"
     ]
    },
    {
     "data": {
      "text/plain": [
       "0.24248127882072198"
      ]
     },
     "execution_count": 17,
     "metadata": {},
     "output_type": "execute_result"
    }
   ],
   "source": [
    "rede.linklayer.avg_fidelity_on_linklayer()"
   ]
  },
  {
   "cell_type": "code",
   "execution_count": 6,
   "metadata": {},
   "outputs": [
    {
     "name": "stderr",
     "output_type": "stream",
     "text": [
      "2024-09-05 23:28:52,264: Eprs usados na camada PhysicalLayer: 2\n",
      "2024-09-05 23:28:52,265: Eprs usados na camada LinkLayer: 2\n",
      "2024-09-05 23:28:52,265: Eprs usados na camada NetworkLayer: 0\n"
     ]
    },
    {
     "data": {
      "text/plain": [
       "4"
      ]
     },
     "execution_count": 6,
     "metadata": {},
     "output_type": "execute_result"
    }
   ],
   "source": [
    "rede.get_total_useds_eprs()"
   ]
  },
  {
   "cell_type": "code",
   "execution_count": 7,
   "metadata": {},
   "outputs": [
    {
     "name": "stderr",
     "output_type": "stream",
     "text": [
      "2024-09-05 23:28:52,272: Qubits usados na camada PhysicalLayer: 4\n",
      "2024-09-05 23:28:52,273: Qubits usados na camada LinkLayer: 0\n",
      "2024-09-05 23:28:52,273: Qubits usados na camada TransportLayer: 0\n",
      "2024-09-05 23:28:52,274: Qubits usados na camada ApplicationLayer: 0\n"
     ]
    },
    {
     "data": {
      "text/plain": [
       "4"
      ]
     },
     "execution_count": 7,
     "metadata": {},
     "output_type": "execute_result"
    }
   ],
   "source": [
    "rede.get_total_useds_qubits()"
   ]
  },
  {
   "cell_type": "code",
   "execution_count": 8,
   "metadata": {},
   "outputs": [
    {
     "data": {
      "text/plain": [
       "[<quantumnet.objects.epr.Epr at 0x1cc7e521f70>,\n",
       " <quantumnet.objects.epr.Epr at 0x1cc7e5607d0>,\n",
       " <quantumnet.objects.epr.Epr at 0x1cc7e560740>,\n",
       " <quantumnet.objects.epr.Epr at 0x1cc7e520aa0>,\n",
       " <quantumnet.objects.epr.Epr at 0x1cc7e458a70>,\n",
       " <quantumnet.objects.epr.Epr at 0x1cc7e560680>,\n",
       " <quantumnet.objects.epr.Epr at 0x1cc7e520b60>,\n",
       " <quantumnet.objects.epr.Epr at 0x1cc7e560bc0>,\n",
       " <quantumnet.objects.epr.Epr at 0x1cc7e560b30>,\n",
       " <quantumnet.objects.epr.Epr at 0x1cc7e260ec0>,\n",
       " <quantumnet.objects.epr.Epr at 0x1cc7e3159a0>,\n",
       " <quantumnet.objects.epr.Epr at 0x1cc7e522540>]"
      ]
     },
     "execution_count": 8,
     "metadata": {},
     "output_type": "execute_result"
    }
   ],
   "source": [
    "rede.get_eprs_from_edge(1,2)"
   ]
  },
  {
   "cell_type": "markdown",
   "metadata": {},
   "source": [
    "##### Verificando todos os canais"
   ]
  },
  {
   "cell_type": "code",
   "execution_count": 9,
   "metadata": {},
   "outputs": [
    {
     "data": {
      "text/plain": [
       "{(0, 3): [<quantumnet.objects.epr.Epr at 0x1cc7e407380>,\n",
       "  <quantumnet.objects.epr.Epr at 0x1cc7e23f470>,\n",
       "  <quantumnet.objects.epr.Epr at 0x1cc7e2f7230>,\n",
       "  <quantumnet.objects.epr.Epr at 0x1cc7db67530>,\n",
       "  <quantumnet.objects.epr.Epr at 0x1cc7e14f6e0>,\n",
       "  <quantumnet.objects.epr.Epr at 0x1cc7e39f5f0>,\n",
       "  <quantumnet.objects.epr.Epr at 0x1cc7e54e450>,\n",
       "  <quantumnet.objects.epr.Epr at 0x1cc7e54f4a0>,\n",
       "  <quantumnet.objects.epr.Epr at 0x1cc7e3b3e30>,\n",
       "  <quantumnet.objects.epr.Epr at 0x1cc7e4cfa40>],\n",
       " (0, 1): [<quantumnet.objects.epr.Epr at 0x1cc7e54f290>,\n",
       "  <quantumnet.objects.epr.Epr at 0x1cc7e5209e0>,\n",
       "  <quantumnet.objects.epr.Epr at 0x1cc7e3df8c0>,\n",
       "  <quantumnet.objects.epr.Epr at 0x1cc7dfcfbf0>,\n",
       "  <quantumnet.objects.epr.Epr at 0x1cc7e54f830>,\n",
       "  <quantumnet.objects.epr.Epr at 0x1cc7e5230b0>,\n",
       "  <quantumnet.objects.epr.Epr at 0x1cc7e54f9e0>,\n",
       "  <quantumnet.objects.epr.Epr at 0x1cc7e54fce0>,\n",
       "  <quantumnet.objects.epr.Epr at 0x1cc7e54eb70>,\n",
       "  <quantumnet.objects.epr.Epr at 0x1cc7e521fa0>],\n",
       " (1, 4): [<quantumnet.objects.epr.Epr at 0x1cc7dfcfe60>,\n",
       "  <quantumnet.objects.epr.Epr at 0x1cc7e54f350>,\n",
       "  <quantumnet.objects.epr.Epr at 0x1cc7e54fef0>,\n",
       "  <quantumnet.objects.epr.Epr at 0x1cc7e54fe90>,\n",
       "  <quantumnet.objects.epr.Epr at 0x1cc7e54fb90>,\n",
       "  <quantumnet.objects.epr.Epr at 0x1cc7e4304a0>,\n",
       "  <quantumnet.objects.epr.Epr at 0x1cc7e1fffe0>,\n",
       "  <quantumnet.objects.epr.Epr at 0x1cc7e500530>,\n",
       "  <quantumnet.objects.epr.Epr at 0x1cc7e560500>,\n",
       "  <quantumnet.objects.epr.Epr at 0x1cc7e522120>],\n",
       " (1, 2): [<quantumnet.objects.epr.Epr at 0x1cc7e521f70>,\n",
       "  <quantumnet.objects.epr.Epr at 0x1cc7e5607d0>,\n",
       "  <quantumnet.objects.epr.Epr at 0x1cc7e560740>,\n",
       "  <quantumnet.objects.epr.Epr at 0x1cc7e520aa0>,\n",
       "  <quantumnet.objects.epr.Epr at 0x1cc7e458a70>,\n",
       "  <quantumnet.objects.epr.Epr at 0x1cc7e560680>,\n",
       "  <quantumnet.objects.epr.Epr at 0x1cc7e520b60>,\n",
       "  <quantumnet.objects.epr.Epr at 0x1cc7e560bc0>,\n",
       "  <quantumnet.objects.epr.Epr at 0x1cc7e560b30>,\n",
       "  <quantumnet.objects.epr.Epr at 0x1cc7e260ec0>,\n",
       "  <quantumnet.objects.epr.Epr at 0x1cc7e3159a0>,\n",
       "  <quantumnet.objects.epr.Epr at 0x1cc7e522540>],\n",
       " (2, 5): [<quantumnet.objects.epr.Epr at 0x1cc7e520fb0>,\n",
       "  <quantumnet.objects.epr.Epr at 0x1cc7e560cb0>,\n",
       "  <quantumnet.objects.epr.Epr at 0x1cc7e5211f0>,\n",
       "  <quantumnet.objects.epr.Epr at 0x1cc7e561040>,\n",
       "  <quantumnet.objects.epr.Epr at 0x1cc7e521280>,\n",
       "  <quantumnet.objects.epr.Epr at 0x1cc7e561160>,\n",
       "  <quantumnet.objects.epr.Epr at 0x1cc7e521130>,\n",
       "  <quantumnet.objects.epr.Epr at 0x1cc7e561400>,\n",
       "  <quantumnet.objects.epr.Epr at 0x1cc7e521550>,\n",
       "  <quantumnet.objects.epr.Epr at 0x1cc7e523bf0>],\n",
       " (3, 6): [<quantumnet.objects.epr.Epr at 0x1cc7e561520>,\n",
       "  <quantumnet.objects.epr.Epr at 0x1cc7e520ef0>,\n",
       "  <quantumnet.objects.epr.Epr at 0x1cc7e521760>,\n",
       "  <quantumnet.objects.epr.Epr at 0x1cc7e521310>,\n",
       "  <quantumnet.objects.epr.Epr at 0x1cc7e521910>,\n",
       "  <quantumnet.objects.epr.Epr at 0x1cc7e5224b0>,\n",
       "  <quantumnet.objects.epr.Epr at 0x1cc7e5210a0>,\n",
       "  <quantumnet.objects.epr.Epr at 0x1cc7e521970>,\n",
       "  <quantumnet.objects.epr.Epr at 0x1cc7e522030>,\n",
       "  <quantumnet.objects.epr.Epr at 0x1cc7e521a60>],\n",
       " (3, 4): [<quantumnet.objects.epr.Epr at 0x1cc7e521c10>,\n",
       "  <quantumnet.objects.epr.Epr at 0x1cc7e54d190>,\n",
       "  <quantumnet.objects.epr.Epr at 0x1cc7e521a00>,\n",
       "  <quantumnet.objects.epr.Epr at 0x1cc7e521dc0>,\n",
       "  <quantumnet.objects.epr.Epr at 0x1cc7e521a90>,\n",
       "  <quantumnet.objects.epr.Epr at 0x1cc7e561d30>,\n",
       "  <quantumnet.objects.epr.Epr at 0x1cc7e561ca0>,\n",
       "  <quantumnet.objects.epr.Epr at 0x1cc7e521e50>,\n",
       "  <quantumnet.objects.epr.Epr at 0x1cc7e561af0>,\n",
       "  <quantumnet.objects.epr.Epr at 0x1cc7e521ee0>],\n",
       " (4, 7): [<quantumnet.objects.epr.Epr at 0x1cc7e5221e0>,\n",
       "  <quantumnet.objects.epr.Epr at 0x1cc7e5620c0>,\n",
       "  <quantumnet.objects.epr.Epr at 0x1cc7e522180>,\n",
       "  <quantumnet.objects.epr.Epr at 0x1cc7e3b2270>,\n",
       "  <quantumnet.objects.epr.Epr at 0x1cc7e522480>,\n",
       "  <quantumnet.objects.epr.Epr at 0x1cc7e5236e0>,\n",
       "  <quantumnet.objects.epr.Epr at 0x1cc7db8a090>,\n",
       "  <quantumnet.objects.epr.Epr at 0x1cc7e5223c0>,\n",
       "  <quantumnet.objects.epr.Epr at 0x1cc7e5623f0>,\n",
       "  <quantumnet.objects.epr.Epr at 0x1cc7e562600>],\n",
       " (4, 5): [<quantumnet.objects.epr.Epr at 0x1cc7e562510>,\n",
       "  <quantumnet.objects.epr.Epr at 0x1cc7e562720>,\n",
       "  <quantumnet.objects.epr.Epr at 0x1cc7e562870>,\n",
       "  <quantumnet.objects.epr.Epr at 0x1cc7e562780>,\n",
       "  <quantumnet.objects.epr.Epr at 0x1cc7e458830>,\n",
       "  <quantumnet.objects.epr.Epr at 0x1cc7e5629c0>,\n",
       "  <quantumnet.objects.epr.Epr at 0x1cc7e5228a0>,\n",
       "  <quantumnet.objects.epr.Epr at 0x1cc7e562a50>,\n",
       "  <quantumnet.objects.epr.Epr at 0x1cc7e562b10>,\n",
       "  <quantumnet.objects.epr.Epr at 0x1cc7e522d20>],\n",
       " (5, 8): [<quantumnet.objects.epr.Epr at 0x1cc7e522a20>,\n",
       "  <quantumnet.objects.epr.Epr at 0x1cc7e522fc0>,\n",
       "  <quantumnet.objects.epr.Epr at 0x1cc7e562c30>,\n",
       "  <quantumnet.objects.epr.Epr at 0x1cc7e562f00>,\n",
       "  <quantumnet.objects.epr.Epr at 0x1cc7e562cf0>,\n",
       "  <quantumnet.objects.epr.Epr at 0x1cc7e563140>,\n",
       "  <quantumnet.objects.epr.Epr at 0x1cc7e522ed0>,\n",
       "  <quantumnet.objects.epr.Epr at 0x1cc7e523320>,\n",
       "  <quantumnet.objects.epr.Epr at 0x1cc7e563020>,\n",
       "  <quantumnet.objects.epr.Epr at 0x1cc7e3b3380>],\n",
       " (6, 7): [<quantumnet.objects.epr.Epr at 0x1cc7e563290>,\n",
       "  <quantumnet.objects.epr.Epr at 0x1cc7e523410>,\n",
       "  <quantumnet.objects.epr.Epr at 0x1cc7e5634a0>,\n",
       "  <quantumnet.objects.epr.Epr at 0x1cc7e5232c0>,\n",
       "  <quantumnet.objects.epr.Epr at 0x1cc7e5632f0>,\n",
       "  <quantumnet.objects.epr.Epr at 0x1cc7e523590>,\n",
       "  <quantumnet.objects.epr.Epr at 0x1cc7e563710>,\n",
       "  <quantumnet.objects.epr.Epr at 0x1cc7e561220>,\n",
       "  <quantumnet.objects.epr.Epr at 0x1cc7e5235f0>,\n",
       "  <quantumnet.objects.epr.Epr at 0x1cc7e563980>],\n",
       " (7, 8): [<quantumnet.objects.epr.Epr at 0x1cc7e523aa0>,\n",
       "  <quantumnet.objects.epr.Epr at 0x1cc7e563a40>,\n",
       "  <quantumnet.objects.epr.Epr at 0x1cc7e523c50>,\n",
       "  <quantumnet.objects.epr.Epr at 0x1cc7e523d10>,\n",
       "  <quantumnet.objects.epr.Epr at 0x1cc7e2799a0>,\n",
       "  <quantumnet.objects.epr.Epr at 0x1cc7e563a10>,\n",
       "  <quantumnet.objects.epr.Epr at 0x1cc7e563e60>,\n",
       "  <quantumnet.objects.epr.Epr at 0x1cc7e54c080>,\n",
       "  <quantumnet.objects.epr.Epr at 0x1cc7e54c050>,\n",
       "  <quantumnet.objects.epr.Epr at 0x1cc7e563f80>]}"
      ]
     },
     "execution_count": 9,
     "metadata": {},
     "output_type": "execute_result"
    }
   ],
   "source": [
    "rede.get_eprs()"
   ]
  },
  {
   "cell_type": "code",
   "execution_count": 10,
   "metadata": {},
   "outputs": [
    {
     "data": {
      "text/plain": [
       "3"
      ]
     },
     "execution_count": 10,
     "metadata": {},
     "output_type": "execute_result"
    }
   ],
   "source": [
    "rede.linklayer.timeslot"
   ]
  },
  {
   "cell_type": "code",
   "execution_count": 11,
   "metadata": {},
   "outputs": [
    {
     "name": "stderr",
     "output_type": "stream",
     "text": [
      "2024-09-05 23:28:52,311: Timeslot atual na camada PhysicalLayer: 4\n",
      "2024-09-05 23:28:52,312: Timeslot atual na camada LinkLayer: 3\n",
      "2024-09-05 23:28:52,312: Timeslot atual na camada NetworkLayer: 0\n",
      "2024-09-05 23:28:52,313: Timeslot atual na camada TransportLayer: 0\n"
     ]
    },
    {
     "data": {
      "text/plain": [
       "7"
      ]
     },
     "execution_count": 11,
     "metadata": {},
     "output_type": "execute_result"
    }
   ],
   "source": [
    "rede.get_total_timeslot()"
   ]
  },
  {
   "cell_type": "code",
   "execution_count": 12,
   "metadata": {},
   "outputs": [
    {
     "ename": "AttributeError",
     "evalue": "'Network' object has no attribute 'total_qubits_on_simulation'",
     "output_type": "error",
     "traceback": [
      "\u001b[1;31m---------------------------------------------------------------------------\u001b[0m",
      "\u001b[1;31mAttributeError\u001b[0m                            Traceback (most recent call last)",
      "Cell \u001b[1;32mIn[12], line 1\u001b[0m\n\u001b[1;32m----> 1\u001b[0m \u001b[43mrede\u001b[49m\u001b[38;5;241;43m.\u001b[39;49m\u001b[43mtotal_qubits_on_simulation\u001b[49m()\n",
      "\u001b[1;31mAttributeError\u001b[0m: 'Network' object has no attribute 'total_qubits_on_simulation'"
     ]
    }
   ],
   "source": [
    "rede.total_qubits_on_simulation()"
   ]
  },
  {
   "cell_type": "code",
   "execution_count": null,
   "metadata": {},
   "outputs": [],
   "source": [
    "rede.linklayer.avg_fidelity_on_linklayer()"
   ]
  }
 ],
 "metadata": {
  "kernelspec": {
   "display_name": "Python 3",
   "language": "python",
   "name": "python3"
  },
  "language_info": {
   "codemirror_mode": {
    "name": "ipython",
    "version": 3
   },
   "file_extension": ".py",
   "mimetype": "text/x-python",
   "name": "python",
   "nbconvert_exporter": "python",
   "pygments_lexer": "ipython3",
   "version": "3.12.1"
  }
 },
 "nbformat": 4,
 "nbformat_minor": 2
}
