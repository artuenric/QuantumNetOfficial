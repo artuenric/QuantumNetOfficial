{
 "cells": [
  {
   "cell_type": "markdown",
   "metadata": {},
   "source": [
    "## Guia da Camada Física\n",
    "##### O documento tem o objetivo de demostrar o funcionamento da camada física, além de suas funções e ferramentas."
   ]
  },
  {
   "cell_type": "code",
   "execution_count": 1,
   "metadata": {},
   "outputs": [],
   "source": [
    "from quantumnet.components import Network, Host\n",
    "from quantumnet.objects import Qubit, Logger\n",
    "import random\n",
    "Logger.activate(Logger)"
   ]
  },
  {
   "cell_type": "markdown",
   "metadata": {},
   "source": [
    "##### Será instaciada a rede e definida a topologia de Grade"
   ]
  },
  {
   "cell_type": "code",
   "execution_count": 2,
   "metadata": {},
   "outputs": [
    {
     "name": "stderr",
     "output_type": "stream",
     "text": [
      "2024-09-11 16:33:00,954: Qubit 0 adicionado à memória do Host 0.\n",
      "2024-09-11 16:33:00,955: Qubit 0 criado com fidelidade inicial 0.05287618235960767 e adicionado à memória do Host 0.\n",
      "2024-09-11 16:33:00,956: Qubit 1 adicionado à memória do Host 0.\n",
      "2024-09-11 16:33:00,956: Qubit 1 criado com fidelidade inicial 0.22883357794572756 e adicionado à memória do Host 0.\n",
      "2024-09-11 16:33:00,957: Qubit 2 adicionado à memória do Host 0.\n",
      "2024-09-11 16:33:00,957: Qubit 2 criado com fidelidade inicial 0.6823053755956179 e adicionado à memória do Host 0.\n",
      "2024-09-11 16:33:00,958: Qubit 3 adicionado à memória do Host 0.\n",
      "2024-09-11 16:33:00,959: Qubit 3 criado com fidelidade inicial 0.5971842103463942 e adicionado à memória do Host 0.\n",
      "2024-09-11 16:33:00,961: Qubit 4 adicionado à memória do Host 0.\n",
      "2024-09-11 16:33:00,962: Qubit 4 criado com fidelidade inicial 0.2452203852628302 e adicionado à memória do Host 0.\n",
      "2024-09-11 16:33:00,962: Qubit 5 adicionado à memória do Host 0.\n",
      "2024-09-11 16:33:00,963: Qubit 5 criado com fidelidade inicial 0.8767089323351922 e adicionado à memória do Host 0.\n",
      "2024-09-11 16:33:00,965: Qubit 6 adicionado à memória do Host 0.\n",
      "2024-09-11 16:33:00,966: Qubit 6 criado com fidelidade inicial 0.3624939690312211 e adicionado à memória do Host 0.\n",
      "2024-09-11 16:33:00,966: Qubit 7 adicionado à memória do Host 0.\n",
      "2024-09-11 16:33:00,967: Qubit 7 criado com fidelidade inicial 0.9718312469991105 e adicionado à memória do Host 0.\n",
      "2024-09-11 16:33:00,967: Qubit 8 adicionado à memória do Host 0.\n",
      "2024-09-11 16:33:00,968: Qubit 8 criado com fidelidade inicial 0.883134936318498 e adicionado à memória do Host 0.\n",
      "2024-09-11 16:33:00,968: Qubit 9 adicionado à memória do Host 0.\n",
      "2024-09-11 16:33:00,969: Qubit 9 criado com fidelidade inicial 0.8592414012519138 e adicionado à memória do Host 0.\n",
      "2024-09-11 16:33:00,970: Qubit 10 adicionado à memória do Host 1.\n",
      "2024-09-11 16:33:00,970: Qubit 10 criado com fidelidade inicial 0.07687779482781765 e adicionado à memória do Host 1.\n",
      "2024-09-11 16:33:00,971: Qubit 11 adicionado à memória do Host 1.\n",
      "2024-09-11 16:33:00,971: Qubit 11 criado com fidelidade inicial 0.13047399236709933 e adicionado à memória do Host 1.\n",
      "2024-09-11 16:33:00,971: Qubit 12 adicionado à memória do Host 1.\n",
      "2024-09-11 16:33:00,972: Qubit 12 criado com fidelidade inicial 0.6808552795021853 e adicionado à memória do Host 1.\n",
      "2024-09-11 16:33:00,972: Qubit 13 adicionado à memória do Host 1.\n",
      "2024-09-11 16:33:00,973: Qubit 13 criado com fidelidade inicial 0.5903160840541375 e adicionado à memória do Host 1.\n",
      "2024-09-11 16:33:00,973: Qubit 14 adicionado à memória do Host 1.\n",
      "2024-09-11 16:33:00,973: Qubit 14 criado com fidelidade inicial 0.5523154005394758 e adicionado à memória do Host 1.\n",
      "2024-09-11 16:33:00,974: Qubit 15 adicionado à memória do Host 1.\n",
      "2024-09-11 16:33:00,974: Qubit 15 criado com fidelidade inicial 0.5220152551130356 e adicionado à memória do Host 1.\n",
      "2024-09-11 16:33:00,974: Qubit 16 adicionado à memória do Host 1.\n",
      "2024-09-11 16:33:00,975: Qubit 16 criado com fidelidade inicial 0.19632622609263994 e adicionado à memória do Host 1.\n",
      "2024-09-11 16:33:00,975: Qubit 17 adicionado à memória do Host 1.\n",
      "2024-09-11 16:33:00,975: Qubit 17 criado com fidelidade inicial 0.5234727283247907 e adicionado à memória do Host 1.\n",
      "2024-09-11 16:33:00,976: Qubit 18 adicionado à memória do Host 1.\n",
      "2024-09-11 16:33:00,976: Qubit 18 criado com fidelidade inicial 0.34834854968580176 e adicionado à memória do Host 1.\n",
      "2024-09-11 16:33:00,976: Qubit 19 adicionado à memória do Host 1.\n",
      "2024-09-11 16:33:00,978: Qubit 19 criado com fidelidade inicial 0.0806878788990728 e adicionado à memória do Host 1.\n",
      "2024-09-11 16:33:00,979: Qubit 20 adicionado à memória do Host 2.\n",
      "2024-09-11 16:33:00,979: Qubit 20 criado com fidelidade inicial 0.5924822168912158 e adicionado à memória do Host 2.\n",
      "2024-09-11 16:33:00,980: Qubit 21 adicionado à memória do Host 2.\n",
      "2024-09-11 16:33:00,981: Qubit 21 criado com fidelidade inicial 0.560557631841359 e adicionado à memória do Host 2.\n",
      "2024-09-11 16:33:00,981: Qubit 22 adicionado à memória do Host 2.\n",
      "2024-09-11 16:33:00,981: Qubit 22 criado com fidelidade inicial 0.057645912749569206 e adicionado à memória do Host 2.\n",
      "2024-09-11 16:33:00,982: Qubit 23 adicionado à memória do Host 2.\n",
      "2024-09-11 16:33:00,982: Qubit 23 criado com fidelidade inicial 0.4554842608883468 e adicionado à memória do Host 2.\n",
      "2024-09-11 16:33:00,982: Qubit 24 adicionado à memória do Host 2.\n",
      "2024-09-11 16:33:00,983: Qubit 24 criado com fidelidade inicial 0.844514913161835 e adicionado à memória do Host 2.\n",
      "2024-09-11 16:33:00,983: Qubit 25 adicionado à memória do Host 2.\n",
      "2024-09-11 16:33:00,983: Qubit 25 criado com fidelidade inicial 0.9871416607608818 e adicionado à memória do Host 2.\n",
      "2024-09-11 16:33:00,984: Qubit 26 adicionado à memória do Host 2.\n",
      "2024-09-11 16:33:00,985: Qubit 26 criado com fidelidade inicial 0.26730142139139623 e adicionado à memória do Host 2.\n",
      "2024-09-11 16:33:00,985: Qubit 27 adicionado à memória do Host 2.\n",
      "2024-09-11 16:33:00,986: Qubit 27 criado com fidelidade inicial 0.02612321096313075 e adicionado à memória do Host 2.\n",
      "2024-09-11 16:33:00,986: Qubit 28 adicionado à memória do Host 2.\n",
      "2024-09-11 16:33:00,986: Qubit 28 criado com fidelidade inicial 0.09522728651148771 e adicionado à memória do Host 2.\n",
      "2024-09-11 16:33:00,987: Qubit 29 adicionado à memória do Host 2.\n",
      "2024-09-11 16:33:00,987: Qubit 29 criado com fidelidade inicial 0.4574146188061935 e adicionado à memória do Host 2.\n",
      "2024-09-11 16:33:00,988: Qubit 30 adicionado à memória do Host 3.\n",
      "2024-09-11 16:33:00,988: Qubit 30 criado com fidelidade inicial 0.43157434638409164 e adicionado à memória do Host 3.\n",
      "2024-09-11 16:33:00,988: Qubit 31 adicionado à memória do Host 3.\n",
      "2024-09-11 16:33:00,989: Qubit 31 criado com fidelidade inicial 0.3314245721488309 e adicionado à memória do Host 3.\n",
      "2024-09-11 16:33:00,989: Qubit 32 adicionado à memória do Host 3.\n",
      "2024-09-11 16:33:00,989: Qubit 32 criado com fidelidade inicial 0.5640411479162295 e adicionado à memória do Host 3.\n",
      "2024-09-11 16:33:00,990: Qubit 33 adicionado à memória do Host 3.\n",
      "2024-09-11 16:33:00,990: Qubit 33 criado com fidelidade inicial 0.850208398114277 e adicionado à memória do Host 3.\n",
      "2024-09-11 16:33:00,990: Qubit 34 adicionado à memória do Host 3.\n",
      "2024-09-11 16:33:00,991: Qubit 34 criado com fidelidade inicial 0.024433625367727196 e adicionado à memória do Host 3.\n",
      "2024-09-11 16:33:00,991: Qubit 35 adicionado à memória do Host 3.\n",
      "2024-09-11 16:33:00,991: Qubit 35 criado com fidelidade inicial 0.22537742073409361 e adicionado à memória do Host 3.\n",
      "2024-09-11 16:33:00,992: Qubit 36 adicionado à memória do Host 3.\n",
      "2024-09-11 16:33:00,992: Qubit 36 criado com fidelidade inicial 0.14810467542611183 e adicionado à memória do Host 3.\n",
      "2024-09-11 16:33:00,992: Qubit 37 adicionado à memória do Host 3.\n",
      "2024-09-11 16:33:00,993: Qubit 37 criado com fidelidade inicial 0.7488908443455001 e adicionado à memória do Host 3.\n",
      "2024-09-11 16:33:00,996: Qubit 38 adicionado à memória do Host 3.\n",
      "2024-09-11 16:33:00,999: Qubit 38 criado com fidelidade inicial 0.4343222486789491 e adicionado à memória do Host 3.\n",
      "2024-09-11 16:33:01,000: Qubit 39 adicionado à memória do Host 3.\n",
      "2024-09-11 16:33:01,000: Qubit 39 criado com fidelidade inicial 0.3529066044318795 e adicionado à memória do Host 3.\n",
      "2024-09-11 16:33:01,001: Qubit 40 adicionado à memória do Host 4.\n",
      "2024-09-11 16:33:01,002: Qubit 40 criado com fidelidade inicial 0.9135216120481381 e adicionado à memória do Host 4.\n",
      "2024-09-11 16:33:01,003: Qubit 41 adicionado à memória do Host 4.\n",
      "2024-09-11 16:33:01,003: Qubit 41 criado com fidelidade inicial 0.536347632558365 e adicionado à memória do Host 4.\n",
      "2024-09-11 16:33:01,005: Qubit 42 adicionado à memória do Host 4.\n",
      "2024-09-11 16:33:01,005: Qubit 42 criado com fidelidade inicial 0.7449948357158692 e adicionado à memória do Host 4.\n",
      "2024-09-11 16:33:01,005: Qubit 43 adicionado à memória do Host 4.\n",
      "2024-09-11 16:33:01,005: Qubit 43 criado com fidelidade inicial 0.22157932430482608 e adicionado à memória do Host 4.\n",
      "2024-09-11 16:33:01,006: Qubit 44 adicionado à memória do Host 4.\n",
      "2024-09-11 16:33:01,006: Qubit 44 criado com fidelidade inicial 0.3824928342718499 e adicionado à memória do Host 4.\n",
      "2024-09-11 16:33:01,006: Qubit 45 adicionado à memória do Host 4.\n",
      "2024-09-11 16:33:01,007: Qubit 45 criado com fidelidade inicial 0.03336314121259654 e adicionado à memória do Host 4.\n",
      "2024-09-11 16:33:01,007: Qubit 46 adicionado à memória do Host 4.\n",
      "2024-09-11 16:33:01,007: Qubit 46 criado com fidelidade inicial 0.4938265149274603 e adicionado à memória do Host 4.\n",
      "2024-09-11 16:33:01,008: Qubit 47 adicionado à memória do Host 4.\n",
      "2024-09-11 16:33:01,008: Qubit 47 criado com fidelidade inicial 0.5944118860845857 e adicionado à memória do Host 4.\n",
      "2024-09-11 16:33:01,008: Qubit 48 adicionado à memória do Host 4.\n",
      "2024-09-11 16:33:01,009: Qubit 48 criado com fidelidade inicial 0.18186582779790816 e adicionado à memória do Host 4.\n",
      "2024-09-11 16:33:01,009: Qubit 49 adicionado à memória do Host 4.\n",
      "2024-09-11 16:33:01,009: Qubit 49 criado com fidelidade inicial 0.5275120082849998 e adicionado à memória do Host 4.\n",
      "2024-09-11 16:33:01,010: Qubit 50 adicionado à memória do Host 5.\n",
      "2024-09-11 16:33:01,012: Qubit 50 criado com fidelidade inicial 0.49564566655798536 e adicionado à memória do Host 5.\n",
      "2024-09-11 16:33:01,014: Qubit 51 adicionado à memória do Host 5.\n",
      "2024-09-11 16:33:01,016: Qubit 51 criado com fidelidade inicial 0.9859355648790888 e adicionado à memória do Host 5.\n",
      "2024-09-11 16:33:01,017: Qubit 52 adicionado à memória do Host 5.\n",
      "2024-09-11 16:33:01,017: Qubit 52 criado com fidelidade inicial 0.3277525970167361 e adicionado à memória do Host 5.\n",
      "2024-09-11 16:33:01,018: Qubit 53 adicionado à memória do Host 5.\n",
      "2024-09-11 16:33:01,019: Qubit 53 criado com fidelidade inicial 0.15572231695355543 e adicionado à memória do Host 5.\n",
      "2024-09-11 16:33:01,019: Qubit 54 adicionado à memória do Host 5.\n",
      "2024-09-11 16:33:01,020: Qubit 54 criado com fidelidade inicial 0.46561995708091886 e adicionado à memória do Host 5.\n",
      "2024-09-11 16:33:01,021: Qubit 55 adicionado à memória do Host 5.\n",
      "2024-09-11 16:33:01,021: Qubit 55 criado com fidelidade inicial 0.9333576539632289 e adicionado à memória do Host 5.\n",
      "2024-09-11 16:33:01,021: Qubit 56 adicionado à memória do Host 5.\n",
      "2024-09-11 16:33:01,022: Qubit 56 criado com fidelidade inicial 0.7764549904621479 e adicionado à memória do Host 5.\n",
      "2024-09-11 16:33:01,022: Qubit 57 adicionado à memória do Host 5.\n",
      "2024-09-11 16:33:01,022: Qubit 57 criado com fidelidade inicial 0.46847046002000314 e adicionado à memória do Host 5.\n",
      "2024-09-11 16:33:01,023: Qubit 58 adicionado à memória do Host 5.\n",
      "2024-09-11 16:33:01,023: Qubit 58 criado com fidelidade inicial 0.7543142546736238 e adicionado à memória do Host 5.\n",
      "2024-09-11 16:33:01,023: Qubit 59 adicionado à memória do Host 5.\n",
      "2024-09-11 16:33:01,023: Qubit 59 criado com fidelidade inicial 0.8385119802251536 e adicionado à memória do Host 5.\n",
      "2024-09-11 16:33:01,024: Qubit 60 adicionado à memória do Host 6.\n",
      "2024-09-11 16:33:01,024: Qubit 60 criado com fidelidade inicial 0.13792788343370188 e adicionado à memória do Host 6.\n",
      "2024-09-11 16:33:01,025: Qubit 61 adicionado à memória do Host 6.\n",
      "2024-09-11 16:33:01,026: Qubit 61 criado com fidelidade inicial 0.729823633397642 e adicionado à memória do Host 6.\n",
      "2024-09-11 16:33:01,027: Qubit 62 adicionado à memória do Host 6.\n",
      "2024-09-11 16:33:01,028: Qubit 62 criado com fidelidade inicial 0.24955467910316143 e adicionado à memória do Host 6.\n",
      "2024-09-11 16:33:01,029: Qubit 63 adicionado à memória do Host 6.\n",
      "2024-09-11 16:33:01,029: Qubit 63 criado com fidelidade inicial 0.26066089724357266 e adicionado à memória do Host 6.\n",
      "2024-09-11 16:33:01,030: Qubit 64 adicionado à memória do Host 6.\n",
      "2024-09-11 16:33:01,031: Qubit 64 criado com fidelidade inicial 0.35008972846863196 e adicionado à memória do Host 6.\n",
      "2024-09-11 16:33:01,032: Qubit 65 adicionado à memória do Host 6.\n",
      "2024-09-11 16:33:01,032: Qubit 65 criado com fidelidade inicial 0.48381240733027686 e adicionado à memória do Host 6.\n",
      "2024-09-11 16:33:01,033: Qubit 66 adicionado à memória do Host 6.\n",
      "2024-09-11 16:33:01,033: Qubit 66 criado com fidelidade inicial 0.44438162535313175 e adicionado à memória do Host 6.\n",
      "2024-09-11 16:33:01,033: Qubit 67 adicionado à memória do Host 6.\n",
      "2024-09-11 16:33:01,034: Qubit 67 criado com fidelidade inicial 0.9359729903821182 e adicionado à memória do Host 6.\n",
      "2024-09-11 16:33:01,035: Qubit 68 adicionado à memória do Host 6.\n",
      "2024-09-11 16:33:01,036: Qubit 68 criado com fidelidade inicial 0.9832578821760963 e adicionado à memória do Host 6.\n",
      "2024-09-11 16:33:01,037: Qubit 69 adicionado à memória do Host 6.\n",
      "2024-09-11 16:33:01,037: Qubit 69 criado com fidelidade inicial 0.5640109294805016 e adicionado à memória do Host 6.\n",
      "2024-09-11 16:33:01,038: Qubit 70 adicionado à memória do Host 7.\n",
      "2024-09-11 16:33:01,038: Qubit 70 criado com fidelidade inicial 0.2668948796046484 e adicionado à memória do Host 7.\n",
      "2024-09-11 16:33:01,039: Qubit 71 adicionado à memória do Host 7.\n",
      "2024-09-11 16:33:01,039: Qubit 71 criado com fidelidade inicial 0.5883520882207398 e adicionado à memória do Host 7.\n",
      "2024-09-11 16:33:01,039: Qubit 72 adicionado à memória do Host 7.\n",
      "2024-09-11 16:33:01,040: Qubit 72 criado com fidelidade inicial 0.6015608211696454 e adicionado à memória do Host 7.\n",
      "2024-09-11 16:33:01,040: Qubit 73 adicionado à memória do Host 7.\n",
      "2024-09-11 16:33:01,040: Qubit 73 criado com fidelidade inicial 0.8305413016150649 e adicionado à memória do Host 7.\n",
      "2024-09-11 16:33:01,041: Qubit 74 adicionado à memória do Host 7.\n",
      "2024-09-11 16:33:01,041: Qubit 74 criado com fidelidade inicial 0.37777398089532066 e adicionado à memória do Host 7.\n",
      "2024-09-11 16:33:01,041: Qubit 75 adicionado à memória do Host 7.\n",
      "2024-09-11 16:33:01,042: Qubit 75 criado com fidelidade inicial 0.5552785770052847 e adicionado à memória do Host 7.\n",
      "2024-09-11 16:33:01,043: Qubit 76 adicionado à memória do Host 7.\n",
      "2024-09-11 16:33:01,043: Qubit 76 criado com fidelidade inicial 0.6889238984115647 e adicionado à memória do Host 7.\n",
      "2024-09-11 16:33:01,044: Qubit 77 adicionado à memória do Host 7.\n",
      "2024-09-11 16:33:01,044: Qubit 77 criado com fidelidade inicial 0.21922546676609755 e adicionado à memória do Host 7.\n",
      "2024-09-11 16:33:01,045: Qubit 78 adicionado à memória do Host 7.\n",
      "2024-09-11 16:33:01,046: Qubit 78 criado com fidelidade inicial 0.6752201216618676 e adicionado à memória do Host 7.\n",
      "2024-09-11 16:33:01,046: Qubit 79 adicionado à memória do Host 7.\n",
      "2024-09-11 16:33:01,047: Qubit 79 criado com fidelidade inicial 0.4169142982972911 e adicionado à memória do Host 7.\n",
      "2024-09-11 16:33:01,048: Qubit 80 adicionado à memória do Host 8.\n",
      "2024-09-11 16:33:01,049: Qubit 80 criado com fidelidade inicial 0.746184922450294 e adicionado à memória do Host 8.\n",
      "2024-09-11 16:33:01,050: Qubit 81 adicionado à memória do Host 8.\n",
      "2024-09-11 16:33:01,050: Qubit 81 criado com fidelidade inicial 0.9621672124646375 e adicionado à memória do Host 8.\n",
      "2024-09-11 16:33:01,051: Qubit 82 adicionado à memória do Host 8.\n",
      "2024-09-11 16:33:01,052: Qubit 82 criado com fidelidade inicial 0.6897359663523045 e adicionado à memória do Host 8.\n",
      "2024-09-11 16:33:01,053: Qubit 83 adicionado à memória do Host 8.\n",
      "2024-09-11 16:33:01,054: Qubit 83 criado com fidelidade inicial 0.8688163587911274 e adicionado à memória do Host 8.\n",
      "2024-09-11 16:33:01,054: Qubit 84 adicionado à memória do Host 8.\n",
      "2024-09-11 16:33:01,055: Qubit 84 criado com fidelidade inicial 0.011596712299790313 e adicionado à memória do Host 8.\n",
      "2024-09-11 16:33:01,055: Qubit 85 adicionado à memória do Host 8.\n",
      "2024-09-11 16:33:01,056: Qubit 85 criado com fidelidade inicial 0.030561328328994386 e adicionado à memória do Host 8.\n",
      "2024-09-11 16:33:01,056: Qubit 86 adicionado à memória do Host 8.\n",
      "2024-09-11 16:33:01,057: Qubit 86 criado com fidelidade inicial 0.49010932253200223 e adicionado à memória do Host 8.\n",
      "2024-09-11 16:33:01,057: Qubit 87 adicionado à memória do Host 8.\n",
      "2024-09-11 16:33:01,058: Qubit 87 criado com fidelidade inicial 0.9507883631231412 e adicionado à memória do Host 8.\n",
      "2024-09-11 16:33:01,059: Qubit 88 adicionado à memória do Host 8.\n",
      "2024-09-11 16:33:01,059: Qubit 88 criado com fidelidade inicial 0.1979731865860378 e adicionado à memória do Host 8.\n",
      "2024-09-11 16:33:01,061: Qubit 89 adicionado à memória do Host 8.\n",
      "2024-09-11 16:33:01,061: Qubit 89 criado com fidelidade inicial 0.9569272650766675 e adicionado à memória do Host 8.\n",
      "2024-09-11 16:33:01,062: Par EPR <quantumnet.objects.epr.Epr object at 0x701bb4daf9b0> adicionado ao canal.\n",
      "2024-09-11 16:33:01,065: Par EPR <quantumnet.objects.epr.Epr object at 0x701bb4dac320> adicionado ao canal.\n",
      "2024-09-11 16:33:01,066: Par EPR <quantumnet.objects.epr.Epr object at 0x701bb4dafaa0> adicionado ao canal.\n",
      "2024-09-11 16:33:01,066: Par EPR <quantumnet.objects.epr.Epr object at 0x701bb4dafce0> adicionado ao canal.\n",
      "2024-09-11 16:33:01,067: Par EPR <quantumnet.objects.epr.Epr object at 0x701bb4dafda0> adicionado ao canal.\n",
      "2024-09-11 16:33:01,067: Par EPR <quantumnet.objects.epr.Epr object at 0x701bb4dafbc0> adicionado ao canal.\n",
      "2024-09-11 16:33:01,067: Par EPR <quantumnet.objects.epr.Epr object at 0x701bb4dafdd0> adicionado ao canal.\n",
      "2024-09-11 16:33:01,068: Par EPR <quantumnet.objects.epr.Epr object at 0x701bb4daff20> adicionado ao canal.\n",
      "2024-09-11 16:33:01,069: Par EPR <quantumnet.objects.epr.Epr object at 0x701bb57a83b0> adicionado ao canal.\n",
      "2024-09-11 16:33:01,070: Par EPR <quantumnet.objects.epr.Epr object at 0x701bb610f3b0> adicionado ao canal.\n",
      "2024-09-11 16:33:01,070: Par EPR <quantumnet.objects.epr.Epr object at 0x701bb4dafa70> adicionado ao canal.\n",
      "2024-09-11 16:33:01,072: Par EPR <quantumnet.objects.epr.Epr object at 0x701bb4dafec0> adicionado ao canal.\n",
      "2024-09-11 16:33:01,072: Par EPR <quantumnet.objects.epr.Epr object at 0x701bb4de81a0> adicionado ao canal.\n",
      "2024-09-11 16:33:01,072: Par EPR <quantumnet.objects.epr.Epr object at 0x701bb4de8200> adicionado ao canal.\n",
      "2024-09-11 16:33:01,073: Par EPR <quantumnet.objects.epr.Epr object at 0x701bb4de8560> adicionado ao canal.\n",
      "2024-09-11 16:33:01,073: Par EPR <quantumnet.objects.epr.Epr object at 0x701bb4de8500> adicionado ao canal.\n",
      "2024-09-11 16:33:01,074: Par EPR <quantumnet.objects.epr.Epr object at 0x701bb4de8470> adicionado ao canal.\n",
      "2024-09-11 16:33:01,074: Par EPR <quantumnet.objects.epr.Epr object at 0x701bb61c07d0> adicionado ao canal.\n",
      "2024-09-11 16:33:01,074: Par EPR <quantumnet.objects.epr.Epr object at 0x701bb4de8800> adicionado ao canal.\n",
      "2024-09-11 16:33:01,075: Par EPR <quantumnet.objects.epr.Epr object at 0x701bb4de8890> adicionado ao canal.\n",
      "2024-09-11 16:33:01,075: Par EPR <quantumnet.objects.epr.Epr object at 0x701bb4daffe0> adicionado ao canal.\n",
      "2024-09-11 16:33:01,075: Par EPR <quantumnet.objects.epr.Epr object at 0x701bb4de8a70> adicionado ao canal.\n",
      "2024-09-11 16:33:01,076: Par EPR <quantumnet.objects.epr.Epr object at 0x701bb4de86b0> adicionado ao canal.\n",
      "2024-09-11 16:33:01,077: Par EPR <quantumnet.objects.epr.Epr object at 0x701bb4de8b60> adicionado ao canal.\n",
      "2024-09-11 16:33:01,078: Par EPR <quantumnet.objects.epr.Epr object at 0x701bb4de8bf0> adicionado ao canal.\n",
      "2024-09-11 16:33:01,078: Par EPR <quantumnet.objects.epr.Epr object at 0x701bb4de8d40> adicionado ao canal.\n",
      "2024-09-11 16:33:01,079: Par EPR <quantumnet.objects.epr.Epr object at 0x701bb4de86e0> adicionado ao canal.\n",
      "2024-09-11 16:33:01,079: Par EPR <quantumnet.objects.epr.Epr object at 0x701bb4de8ec0> adicionado ao canal.\n",
      "2024-09-11 16:33:01,082: Par EPR <quantumnet.objects.epr.Epr object at 0x701bb61e89b0> adicionado ao canal.\n",
      "2024-09-11 16:33:01,085: Par EPR <quantumnet.objects.epr.Epr object at 0x701bb4d90920> adicionado ao canal.\n",
      "2024-09-11 16:33:01,085: Par EPR <quantumnet.objects.epr.Epr object at 0x701bb4de85f0> adicionado ao canal.\n",
      "2024-09-11 16:33:01,087: Par EPR <quantumnet.objects.epr.Epr object at 0x701bb4de90d0> adicionado ao canal.\n",
      "2024-09-11 16:33:01,088: Par EPR <quantumnet.objects.epr.Epr object at 0x701bb4de9190> adicionado ao canal.\n",
      "2024-09-11 16:33:01,088: Par EPR <quantumnet.objects.epr.Epr object at 0x701bb4de9430> adicionado ao canal.\n",
      "2024-09-11 16:33:01,088: Par EPR <quantumnet.objects.epr.Epr object at 0x701bb4de92e0> adicionado ao canal.\n",
      "2024-09-11 16:33:01,089: Par EPR <quantumnet.objects.epr.Epr object at 0x701bb4de95e0> adicionado ao canal.\n",
      "2024-09-11 16:33:01,089: Par EPR <quantumnet.objects.epr.Epr object at 0x701bb4de9820> adicionado ao canal.\n",
      "2024-09-11 16:33:01,089: Par EPR <quantumnet.objects.epr.Epr object at 0x701bb4de9880> adicionado ao canal.\n",
      "2024-09-11 16:33:01,090: Par EPR <quantumnet.objects.epr.Epr object at 0x701bb4de98e0> adicionado ao canal.\n",
      "2024-09-11 16:33:01,090: Par EPR <quantumnet.objects.epr.Epr object at 0x701bb4de9a30> adicionado ao canal.\n",
      "2024-09-11 16:33:01,090: Par EPR <quantumnet.objects.epr.Epr object at 0x701bb4de9010> adicionado ao canal.\n",
      "2024-09-11 16:33:01,091: Par EPR <quantumnet.objects.epr.Epr object at 0x701bb4de9b80> adicionado ao canal.\n",
      "2024-09-11 16:33:01,091: Par EPR <quantumnet.objects.epr.Epr object at 0x701bb4de9c10> adicionado ao canal.\n",
      "2024-09-11 16:33:01,091: Par EPR <quantumnet.objects.epr.Epr object at 0x701bb4de9ca0> adicionado ao canal.\n",
      "2024-09-11 16:33:01,091: Par EPR <quantumnet.objects.epr.Epr object at 0x701bb4de9d30> adicionado ao canal.\n",
      "2024-09-11 16:33:01,093: Par EPR <quantumnet.objects.epr.Epr object at 0x701bb4d91dc0> adicionado ao canal.\n",
      "2024-09-11 16:33:01,094: Par EPR <quantumnet.objects.epr.Epr object at 0x701bb4de9e20> adicionado ao canal.\n",
      "2024-09-11 16:33:01,096: Par EPR <quantumnet.objects.epr.Epr object at 0x701bbe0b1bb0> adicionado ao canal.\n",
      "2024-09-11 16:33:01,099: Par EPR <quantumnet.objects.epr.Epr object at 0x701bb4d91fa0> adicionado ao canal.\n",
      "2024-09-11 16:33:01,100: Par EPR <quantumnet.objects.epr.Epr object at 0x701bb61c1cd0> adicionado ao canal.\n",
      "2024-09-11 16:33:01,100: Par EPR <quantumnet.objects.epr.Epr object at 0x701bb4d92000> adicionado ao canal.\n",
      "2024-09-11 16:33:01,101: Par EPR <quantumnet.objects.epr.Epr object at 0x701bb4d92150> adicionado ao canal.\n",
      "2024-09-11 16:33:01,102: Par EPR <quantumnet.objects.epr.Epr object at 0x701bb4d91eb0> adicionado ao canal.\n",
      "2024-09-11 16:33:01,102: Par EPR <quantumnet.objects.epr.Epr object at 0x701bb4de9b20> adicionado ao canal.\n",
      "2024-09-11 16:33:01,104: Par EPR <quantumnet.objects.epr.Epr object at 0x701bb4d29670> adicionado ao canal.\n",
      "2024-09-11 16:33:01,104: Par EPR <quantumnet.objects.epr.Epr object at 0x701bb4d91850> adicionado ao canal.\n",
      "2024-09-11 16:33:01,105: Par EPR <quantumnet.objects.epr.Epr object at 0x701bb4d92270> adicionado ao canal.\n",
      "2024-09-11 16:33:01,105: Par EPR <quantumnet.objects.epr.Epr object at 0x701bb4dea210> adicionado ao canal.\n",
      "2024-09-11 16:33:01,106: Par EPR <quantumnet.objects.epr.Epr object at 0x701bb4dea420> adicionado ao canal.\n",
      "2024-09-11 16:33:01,106: Par EPR <quantumnet.objects.epr.Epr object at 0x701bb4dea030> adicionado ao canal.\n",
      "2024-09-11 16:33:01,106: Par EPR <quantumnet.objects.epr.Epr object at 0x701bb4d920c0> adicionado ao canal.\n",
      "2024-09-11 16:33:01,107: Par EPR <quantumnet.objects.epr.Epr object at 0x701bb4dea6c0> adicionado ao canal.\n",
      "2024-09-11 16:33:01,107: Par EPR <quantumnet.objects.epr.Epr object at 0x701bb4dea7e0> adicionado ao canal.\n",
      "2024-09-11 16:33:01,108: Par EPR <quantumnet.objects.epr.Epr object at 0x701bb4dea870> adicionado ao canal.\n",
      "2024-09-11 16:33:01,108: Par EPR <quantumnet.objects.epr.Epr object at 0x701bb4dea900> adicionado ao canal.\n",
      "2024-09-11 16:33:01,108: Par EPR <quantumnet.objects.epr.Epr object at 0x701bb4dea750> adicionado ao canal.\n",
      "2024-09-11 16:33:01,109: Par EPR <quantumnet.objects.epr.Epr object at 0x701bb4deaa50> adicionado ao canal.\n",
      "2024-09-11 16:33:01,109: Par EPR <quantumnet.objects.epr.Epr object at 0x701bb4deaab0> adicionado ao canal.\n",
      "2024-09-11 16:33:01,110: Par EPR <quantumnet.objects.epr.Epr object at 0x701bb4d926f0> adicionado ao canal.\n",
      "2024-09-11 16:33:01,110: Par EPR <quantumnet.objects.epr.Epr object at 0x701bb4d92c60> adicionado ao canal.\n",
      "2024-09-11 16:33:01,111: Par EPR <quantumnet.objects.epr.Epr object at 0x701bb4dea4e0> adicionado ao canal.\n",
      "2024-09-11 16:33:01,113: Par EPR <quantumnet.objects.epr.Epr object at 0x701bb4d92930> adicionado ao canal.\n",
      "2024-09-11 16:33:01,114: Par EPR <quantumnet.objects.epr.Epr object at 0x701bb4de9610> adicionado ao canal.\n",
      "2024-09-11 16:33:01,115: Par EPR <quantumnet.objects.epr.Epr object at 0x701bb4de9490> adicionado ao canal.\n",
      "2024-09-11 16:33:01,116: Par EPR <quantumnet.objects.epr.Epr object at 0x701bb4d92ea0> adicionado ao canal.\n",
      "2024-09-11 16:33:01,116: Par EPR <quantumnet.objects.epr.Epr object at 0x701bb4deaa80> adicionado ao canal.\n",
      "2024-09-11 16:33:01,116: Par EPR <quantumnet.objects.epr.Epr object at 0x701bb6b0afc0> adicionado ao canal.\n",
      "2024-09-11 16:33:01,117: Par EPR <quantumnet.objects.epr.Epr object at 0x701bb4deae70> adicionado ao canal.\n",
      "2024-09-11 16:33:01,117: Par EPR <quantumnet.objects.epr.Epr object at 0x701bb4deaf30> adicionado ao canal.\n",
      "2024-09-11 16:33:01,117: Par EPR <quantumnet.objects.epr.Epr object at 0x701bb4d93290> adicionado ao canal.\n",
      "2024-09-11 16:33:01,118: Par EPR <quantumnet.objects.epr.Epr object at 0x701bb4deabd0> adicionado ao canal.\n",
      "2024-09-11 16:33:01,118: Par EPR <quantumnet.objects.epr.Epr object at 0x701bb4deb1a0> adicionado ao canal.\n",
      "2024-09-11 16:33:01,119: Par EPR <quantumnet.objects.epr.Epr object at 0x701bb4d934d0> adicionado ao canal.\n",
      "2024-09-11 16:33:01,120: Par EPR <quantumnet.objects.epr.Epr object at 0x701bb4deb2c0> adicionado ao canal.\n",
      "2024-09-11 16:33:01,120: Par EPR <quantumnet.objects.epr.Epr object at 0x701bb4deb320> adicionado ao canal.\n",
      "2024-09-11 16:33:01,121: Par EPR <quantumnet.objects.epr.Epr object at 0x701bb4deb3e0> adicionado ao canal.\n",
      "2024-09-11 16:33:01,122: Par EPR <quantumnet.objects.epr.Epr object at 0x701bb4d92de0> adicionado ao canal.\n",
      "2024-09-11 16:33:01,123: Par EPR <quantumnet.objects.epr.Epr object at 0x701bb4deb680> adicionado ao canal.\n",
      "2024-09-11 16:33:01,123: Par EPR <quantumnet.objects.epr.Epr object at 0x701bb4deb710> adicionado ao canal.\n",
      "2024-09-11 16:33:01,123: Par EPR <quantumnet.objects.epr.Epr object at 0x701bb6193860> adicionado ao canal.\n",
      "2024-09-11 16:33:01,124: Par EPR <quantumnet.objects.epr.Epr object at 0x701bb4d93980> adicionado ao canal.\n",
      "2024-09-11 16:33:01,125: Par EPR <quantumnet.objects.epr.Epr object at 0x701bb4deb200> adicionado ao canal.\n",
      "2024-09-11 16:33:01,125: Par EPR <quantumnet.objects.epr.Epr object at 0x701bb4d93950> adicionado ao canal.\n",
      "2024-09-11 16:33:01,126: Par EPR <quantumnet.objects.epr.Epr object at 0x701bb61c3830> adicionado ao canal.\n",
      "2024-09-11 16:33:01,126: Par EPR <quantumnet.objects.epr.Epr object at 0x701bb4deb890> adicionado ao canal.\n",
      "2024-09-11 16:33:01,127: Par EPR <quantumnet.objects.epr.Epr object at 0x701bb4d939b0> adicionado ao canal.\n",
      "2024-09-11 16:33:01,128: Par EPR <quantumnet.objects.epr.Epr object at 0x701bb4debb90> adicionado ao canal.\n",
      "2024-09-11 16:33:01,128: Par EPR <quantumnet.objects.epr.Epr object at 0x701bb4debc50> adicionado ao canal.\n",
      "2024-09-11 16:33:01,129: Par EPR <quantumnet.objects.epr.Epr object at 0x701bb4deba10> adicionado ao canal.\n",
      "2024-09-11 16:33:01,129: Par EPR <quantumnet.objects.epr.Epr object at 0x701bb4d93590> adicionado ao canal.\n",
      "2024-09-11 16:33:01,130: Par EPR <quantumnet.objects.epr.Epr object at 0x701bb4d936b0> adicionado ao canal.\n",
      "2024-09-11 16:33:01,130: Par EPR <quantumnet.objects.epr.Epr object at 0x701bb4debe00> adicionado ao canal.\n",
      "2024-09-11 16:33:01,131: Par EPR <quantumnet.objects.epr.Epr object at 0x701bb7fbbe60> adicionado ao canal.\n",
      "2024-09-11 16:33:01,131: Par EPR <quantumnet.objects.epr.Epr object at 0x701bb4debfb0> adicionado ao canal.\n",
      "2024-09-11 16:33:01,132: Par EPR <quantumnet.objects.epr.Epr object at 0x701bb57abec0> adicionado ao canal.\n",
      "2024-09-11 16:33:01,132: Par EPR <quantumnet.objects.epr.Epr object at 0x701bb4dfc0b0> adicionado ao canal.\n",
      "2024-09-11 16:33:01,133: Par EPR <quantumnet.objects.epr.Epr object at 0x701bb4dfc080> adicionado ao canal.\n",
      "2024-09-11 16:33:01,133: Par EPR <quantumnet.objects.epr.Epr object at 0x701bb4dac3e0> adicionado ao canal.\n",
      "2024-09-11 16:33:01,133: Par EPR <quantumnet.objects.epr.Epr object at 0x701bb4dfc290> adicionado ao canal.\n",
      "2024-09-11 16:33:01,134: Par EPR <quantumnet.objects.epr.Epr object at 0x701bb4dac6b0> adicionado ao canal.\n",
      "2024-09-11 16:33:01,135: Par EPR <quantumnet.objects.epr.Epr object at 0x701bb4dac5f0> adicionado ao canal.\n",
      "2024-09-11 16:33:01,135: Par EPR <quantumnet.objects.epr.Epr object at 0x701bb4d93f80> adicionado ao canal.\n",
      "2024-09-11 16:33:01,136: Par EPR <quantumnet.objects.epr.Epr object at 0x701bb4dfc140> adicionado ao canal.\n",
      "2024-09-11 16:33:01,136: Par EPR <quantumnet.objects.epr.Epr object at 0x701bb4dfc650> adicionado ao canal.\n",
      "2024-09-11 16:33:01,137: Par EPR <quantumnet.objects.epr.Epr object at 0x701bb4dfc6e0> adicionado ao canal.\n",
      "2024-09-11 16:33:01,138: Par EPR <quantumnet.objects.epr.Epr object at 0x701bb4dfc830> adicionado ao canal.\n",
      "2024-09-11 16:33:01,138: Par EPR <quantumnet.objects.epr.Epr object at 0x701bb4dfc950> adicionado ao canal.\n",
      "2024-09-11 16:33:01,138: Par EPR <quantumnet.objects.epr.Epr object at 0x701bb4dfc9b0> adicionado ao canal.\n",
      "2024-09-11 16:33:01,139: Par EPR <quantumnet.objects.epr.Epr object at 0x701bb4dacb00> adicionado ao canal.\n",
      "2024-09-11 16:33:01,139: Par EPR <quantumnet.objects.epr.Epr object at 0x701bb4dfc8c0> adicionado ao canal.\n"
     ]
    },
    {
     "name": "stdout",
     "output_type": "stream",
     "text": [
      "Hosts inicializados\n",
      "Canais inicializados\n",
      "Pares EPRs adicionados\n"
     ]
    },
    {
     "data": {
      "image/png": "[encoded data removed]",
      "text/plain": [
       "<Figure size 640x480 with 1 Axes>"
      ]
     },
     "metadata": {},
     "output_type": "display_data"
    }
   ],
   "source": [
    "rede = Network()\n",
    "rede.set_ready_topology(\"Grade\", 3,3)\n",
    "rede.draw()"
   ]
  },
  {
   "cell_type": "markdown",
   "metadata": {},
   "source": [
    "##### Selecionando aleatoriamente uma aresta do grafo da rede e deseguinando quem será Alice e Bob."
   ]
  },
  {
   "cell_type": "code",
   "execution_count": 3,
   "metadata": {},
   "outputs": [],
   "source": [
    "arestas = list(rede.edges)\n",
    "aresta_aleatorias = random.sample(arestas, 1)[0]\n",
    "x,y = aresta_aleatorias\n",
    "\n",
    "alice = rede.get_host(x)\n",
    "bob = rede.get_host(y)"
   ]
  },
  {
   "cell_type": "markdown",
   "metadata": {},
   "source": [
    "##### Adicionando qubits aos hosts."
   ]
  },
  {
   "cell_type": "code",
   "execution_count": 4,
   "metadata": {},
   "outputs": [
    {
     "name": "stderr",
     "output_type": "stream",
     "text": [
      "2024-09-11 16:33:02,134: Qubit 1 adicionado à memória do Host 3.\n",
      "2024-09-11 16:33:02,136: Qubit 2 adicionado à memória do Host 4.\n"
     ]
    }
   ],
   "source": [
    "h1 = Qubit(1)\n",
    "h2 = Qubit(2)\n",
    "\n",
    "alice.add_qubit(h1)\n",
    "bob.add_qubit(h2)"
   ]
  },
  {
   "cell_type": "markdown",
   "metadata": {},
   "source": [
    "##### Acessando a memória dos Hosts."
   ]
  },
  {
   "cell_type": "code",
   "execution_count": 5,
   "metadata": {},
   "outputs": [
    {
     "name": "stdout",
     "output_type": "stream",
     "text": [
      "[<quantumnet.objects.qubit.Qubit object at 0x701bb4d92b40>, <quantumnet.objects.qubit.Qubit object at 0x701bb7feb980>, <quantumnet.objects.qubit.Qubit object at 0x701bb4d93b00>, <quantumnet.objects.qubit.Qubit object at 0x701bb4d93c20>, <quantumnet.objects.qubit.Qubit object at 0x701bb4d93da0>, <quantumnet.objects.qubit.Qubit object at 0x701bb4d93e00>, <quantumnet.objects.qubit.Qubit object at 0x701bb4d93ec0>, <quantumnet.objects.qubit.Qubit object at 0x701bb4d93fe0>, <quantumnet.objects.qubit.Qubit object at 0x701bb5706510>, <quantumnet.objects.qubit.Qubit object at 0x701bbdf23b60>, <quantumnet.objects.qubit.Qubit object at 0x701bbc0e7920>]\n",
      "[<quantumnet.objects.qubit.Qubit object at 0x701bb4d93920>, <quantumnet.objects.qubit.Qubit object at 0x701bb4d91970>, <quantumnet.objects.qubit.Qubit object at 0x701bb6b9c2c0>, <quantumnet.objects.qubit.Qubit object at 0x701bb4dac230>, <quantumnet.objects.qubit.Qubit object at 0x701bb4dac4d0>, <quantumnet.objects.qubit.Qubit object at 0x701bb4d4c650>, <quantumnet.objects.qubit.Qubit object at 0x701bb4dac620>, <quantumnet.objects.qubit.Qubit object at 0x701bb4daca70>, <quantumnet.objects.qubit.Qubit object at 0x701bb4dacbc0>, <quantumnet.objects.qubit.Qubit object at 0x701bb4dacd10>, <quantumnet.objects.qubit.Qubit object at 0x701b9ffb8470>]\n"
     ]
    }
   ],
   "source": [
    "print(alice.memory)\n",
    "print(bob.memory)"
   ]
  },
  {
   "cell_type": "markdown",
   "metadata": {},
   "source": [
    "##### Obtendo o útimo qubit de um dos hosts"
   ]
  },
  {
   "cell_type": "code",
   "execution_count": 6,
   "metadata": {},
   "outputs": [],
   "source": [
    "qub1 = alice.get_last_qubit()\n"
   ]
  },
  {
   "cell_type": "markdown",
   "metadata": {},
   "source": [
    "##### Medindo a fidelidade entre dois qubits\n"
   ]
  },
  {
   "cell_type": "code",
   "execution_count": 7,
   "metadata": {},
   "outputs": [
    {
     "name": "stderr",
     "output_type": "stream",
     "text": [
      "2024-09-11 16:33:02,935: A fidelidade entre o qubit Qubit 1 with state 0 e o qubit Qubit 2 with state 0 é 0.22194868328573997\n"
     ]
    },
    {
     "data": {
      "text/plain": [
       "0.22194868328573997"
      ]
     },
     "execution_count": 7,
     "metadata": {},
     "output_type": "execute_result"
    }
   ],
   "source": [
    "#Pode medir a fidelidade por meio dessa função\n",
    "rede.physical.fidelity_measurement(h1,h2)"
   ]
  },
  {
   "cell_type": "markdown",
   "metadata": {},
   "source": [
    "##### Medindo a fidelidade de um qubit\n"
   ]
  },
  {
   "cell_type": "code",
   "execution_count": 8,
   "metadata": {},
   "outputs": [
    {
     "name": "stderr",
     "output_type": "stream",
     "text": [
      "2024-09-11 16:33:03,060: A fidelidade do qubit Qubit 1 with state 0 é 0.2732237373272288\n"
     ]
    },
    {
     "data": {
      "text/plain": [
       "0.2732237373272288"
      ]
     },
     "execution_count": 8,
     "metadata": {},
     "output_type": "execute_result"
    }
   ],
   "source": [
    "#Pode se medir a fidelidade e acessar de somente um host\n",
    "rede.physical.fidelity_measurement_only_one(h1)\n"
   ]
  },
  {
   "cell_type": "markdown",
   "metadata": {},
   "source": [
    "##### Criação do protocolo de entrelaçamento entre dois qubits"
   ]
  },
  {
   "cell_type": "code",
   "execution_count": 9,
   "metadata": {},
   "outputs": [
    {
     "name": "stderr",
     "output_type": "stream",
     "text": [
      "2024-09-11 16:33:03,142: Timeslot 1: Par epr criado com fidelidade 0.28667771308130496\n",
      "2024-09-11 16:33:03,144: Timeslot 2: O protocolo de criação de emaranhamento foi bem sucedido, mas com fidelidade baixa.\n"
     ]
    },
    {
     "data": {
      "text/plain": [
       "False"
      ]
     },
     "execution_count": 9,
     "metadata": {},
     "output_type": "execute_result"
    }
   ],
   "source": [
    "rede.physical.entanglement_creation_heralding_protocol(alice,bob)"
   ]
  },
  {
   "cell_type": "markdown",
   "metadata": {},
   "source": [
    "##### Realiza-se o primeiro protocolo, on demand, que através da fidelidade inicial e da probabilidade de sucesso do on demand determina o sucesso do ECHP"
   ]
  },
  {
   "cell_type": "code",
   "execution_count": 10,
   "metadata": {},
   "outputs": [
    {
     "name": "stderr",
     "output_type": "stream",
     "text": [
      "2024-09-11 16:33:03,245: A fidelidade do qubit Qubit 29 with state 0 é 0.4574146188061935\n",
      "2024-09-11 16:33:03,262: A fidelidade do qubit Qubit 59 with state 0 é 0.8385119802251536\n",
      "2024-09-11 16:33:03,272: Timeslot 3: A probabilidade de sucesso do ECHP falhou.\n"
     ]
    },
    {
     "data": {
      "text/plain": [
       "False"
      ]
     },
     "execution_count": 10,
     "metadata": {},
     "output_type": "execute_result"
    }
   ],
   "source": [
    "rede.physical.echp_on_demand(2,5)"
   ]
  },
  {
   "cell_type": "markdown",
   "metadata": {},
   "source": [
    "##### Realiza-se, então, o segundo protocolo, on replay, que através da fidelidade inicial e da probabilidade de sucesso do on replay determina o sucesso do ECHP"
   ]
  },
  {
   "cell_type": "code",
   "execution_count": 11,
   "metadata": {},
   "outputs": [
    {
     "name": "stderr",
     "output_type": "stream",
     "text": [
      "2024-09-11 16:33:03,358: A fidelidade do qubit Qubit 28 with state 0 é 0.09522728651148771\n",
      "2024-09-11 16:33:03,362: A fidelidade do qubit Qubit 58 with state 0 é 0.7543142546736238\n",
      "2024-09-11 16:33:03,370: Timeslot 4: A probabilidade de sucesso do ECHP falhou.\n"
     ]
    },
    {
     "data": {
      "text/plain": [
       "False"
      ]
     },
     "execution_count": 11,
     "metadata": {},
     "output_type": "execute_result"
    }
   ],
   "source": [
    "rede.physical.echp_on_replay(2,5)"
   ]
  },
  {
   "cell_type": "code",
   "execution_count": 12,
   "metadata": {},
   "outputs": [
    {
     "name": "stderr",
     "output_type": "stream",
     "text": [
      "2024-09-11 16:33:03,590: Eprs usados na camada PhysicalLayer: 1\n",
      "2024-09-11 16:33:03,592: Eprs usados na camada LinkLayer: 0\n",
      "2024-09-11 16:33:03,592: Eprs usados na camada NetworkLayer: 0\n"
     ]
    },
    {
     "data": {
      "text/plain": [
       "1"
      ]
     },
     "execution_count": 12,
     "metadata": {},
     "output_type": "execute_result"
    }
   ],
   "source": [
    "rede.get_total_useds_eprs()"
   ]
  },
  {
   "cell_type": "code",
   "execution_count": 13,
   "metadata": {},
   "outputs": [
    {
     "name": "stderr",
     "output_type": "stream",
     "text": [
      "2024-09-11 16:33:03,675: Qubits usados na camada PhysicalLayer: 6\n",
      "2024-09-11 16:33:03,676: Qubits usados na camada LinkLayer: 0\n",
      "2024-09-11 16:33:03,677: Qubits usados na camada TransportLayer: 0\n",
      "2024-09-11 16:33:03,679: Qubits usados na camada ApplicationLayer: 0\n"
     ]
    },
    {
     "data": {
      "text/plain": [
       "6"
      ]
     },
     "execution_count": 13,
     "metadata": {},
     "output_type": "execute_result"
    }
   ],
   "source": [
    "rede.get_total_useds_qubits()"
   ]
  },
  {
   "cell_type": "markdown",
   "metadata": {},
   "source": [
    "##### Acessando o canal que mostra as probablidades e os pares eprs\n"
   ]
  },
  {
   "cell_type": "code",
   "execution_count": 14,
   "metadata": {},
   "outputs": [
    {
     "data": {
      "text/plain": [
       "{'prob_on_demand_epr_create': 0.7360473193419637,\n",
       " 'prob_replay_epr_create': 0.27608960532718135,\n",
       " 'eprs': [<quantumnet.objects.epr.Epr at 0x701bb4de9010>,\n",
       "  <quantumnet.objects.epr.Epr at 0x701bb4de9b80>,\n",
       "  <quantumnet.objects.epr.Epr at 0x701bb4de9c10>,\n",
       "  <quantumnet.objects.epr.Epr at 0x701bb4de9ca0>,\n",
       "  <quantumnet.objects.epr.Epr at 0x701bb4de9d30>,\n",
       "  <quantumnet.objects.epr.Epr at 0x701bb4d91dc0>,\n",
       "  <quantumnet.objects.epr.Epr at 0x701bb4de9e20>,\n",
       "  <quantumnet.objects.epr.Epr at 0x701bbe0b1bb0>,\n",
       "  <quantumnet.objects.epr.Epr at 0x701bb4d91fa0>,\n",
       "  <quantumnet.objects.epr.Epr at 0x701bb61c1cd0>]}"
      ]
     },
     "execution_count": 14,
     "metadata": {},
     "output_type": "execute_result"
    }
   ],
   "source": [
    "rede.edges[2,5]"
   ]
  },
  {
   "cell_type": "markdown",
   "metadata": {},
   "source": [
    "##### Acessando o dicionario que contém os pares eprs alocados\n"
   ]
  },
  {
   "cell_type": "code",
   "execution_count": 15,
   "metadata": {},
   "outputs": [
    {
     "data": {
      "text/plain": [
       "{(0, 3): [<quantumnet.objects.epr.Epr at 0x701bb4daf9b0>,\n",
       "  <quantumnet.objects.epr.Epr at 0x701bb4dac320>,\n",
       "  <quantumnet.objects.epr.Epr at 0x701bb4dafaa0>,\n",
       "  <quantumnet.objects.epr.Epr at 0x701bb4dafce0>,\n",
       "  <quantumnet.objects.epr.Epr at 0x701bb4dafda0>,\n",
       "  <quantumnet.objects.epr.Epr at 0x701bb4dafbc0>,\n",
       "  <quantumnet.objects.epr.Epr at 0x701bb4dafdd0>,\n",
       "  <quantumnet.objects.epr.Epr at 0x701bb4daff20>,\n",
       "  <quantumnet.objects.epr.Epr at 0x701bb57a83b0>,\n",
       "  <quantumnet.objects.epr.Epr at 0x701bb610f3b0>],\n",
       " (0, 1): [<quantumnet.objects.epr.Epr at 0x701bb4dafa70>,\n",
       "  <quantumnet.objects.epr.Epr at 0x701bb4dafec0>,\n",
       "  <quantumnet.objects.epr.Epr at 0x701bb4de81a0>,\n",
       "  <quantumnet.objects.epr.Epr at 0x701bb4de8200>,\n",
       "  <quantumnet.objects.epr.Epr at 0x701bb4de8560>,\n",
       "  <quantumnet.objects.epr.Epr at 0x701bb4de8500>,\n",
       "  <quantumnet.objects.epr.Epr at 0x701bb4de8470>,\n",
       "  <quantumnet.objects.epr.Epr at 0x701bb61c07d0>,\n",
       "  <quantumnet.objects.epr.Epr at 0x701bb4de8800>,\n",
       "  <quantumnet.objects.epr.Epr at 0x701bb4de8890>],\n",
       " (1, 4): [<quantumnet.objects.epr.Epr at 0x701bb4daffe0>,\n",
       "  <quantumnet.objects.epr.Epr at 0x701bb4de8a70>,\n",
       "  <quantumnet.objects.epr.Epr at 0x701bb4de86b0>,\n",
       "  <quantumnet.objects.epr.Epr at 0x701bb4de8b60>,\n",
       "  <quantumnet.objects.epr.Epr at 0x701bb4de8bf0>,\n",
       "  <quantumnet.objects.epr.Epr at 0x701bb4de8d40>,\n",
       "  <quantumnet.objects.epr.Epr at 0x701bb4de86e0>,\n",
       "  <quantumnet.objects.epr.Epr at 0x701bb4de8ec0>,\n",
       "  <quantumnet.objects.epr.Epr at 0x701bb61e89b0>,\n",
       "  <quantumnet.objects.epr.Epr at 0x701bb4d90920>],\n",
       " (1, 2): [<quantumnet.objects.epr.Epr at 0x701bb4de85f0>,\n",
       "  <quantumnet.objects.epr.Epr at 0x701bb4de90d0>,\n",
       "  <quantumnet.objects.epr.Epr at 0x701bb4de9190>,\n",
       "  <quantumnet.objects.epr.Epr at 0x701bb4de9430>,\n",
       "  <quantumnet.objects.epr.Epr at 0x701bb4de92e0>,\n",
       "  <quantumnet.objects.epr.Epr at 0x701bb4de95e0>,\n",
       "  <quantumnet.objects.epr.Epr at 0x701bb4de9820>,\n",
       "  <quantumnet.objects.epr.Epr at 0x701bb4de9880>,\n",
       "  <quantumnet.objects.epr.Epr at 0x701bb4de98e0>,\n",
       "  <quantumnet.objects.epr.Epr at 0x701bb4de9a30>],\n",
       " (2, 5): [<quantumnet.objects.epr.Epr at 0x701bb4de9010>,\n",
       "  <quantumnet.objects.epr.Epr at 0x701bb4de9b80>,\n",
       "  <quantumnet.objects.epr.Epr at 0x701bb4de9c10>,\n",
       "  <quantumnet.objects.epr.Epr at 0x701bb4de9ca0>,\n",
       "  <quantumnet.objects.epr.Epr at 0x701bb4de9d30>,\n",
       "  <quantumnet.objects.epr.Epr at 0x701bb4d91dc0>,\n",
       "  <quantumnet.objects.epr.Epr at 0x701bb4de9e20>,\n",
       "  <quantumnet.objects.epr.Epr at 0x701bbe0b1bb0>,\n",
       "  <quantumnet.objects.epr.Epr at 0x701bb4d91fa0>,\n",
       "  <quantumnet.objects.epr.Epr at 0x701bb61c1cd0>],\n",
       " (3, 6): [<quantumnet.objects.epr.Epr at 0x701bb4d92000>,\n",
       "  <quantumnet.objects.epr.Epr at 0x701bb4d92150>,\n",
       "  <quantumnet.objects.epr.Epr at 0x701bb4d91eb0>,\n",
       "  <quantumnet.objects.epr.Epr at 0x701bb4de9b20>,\n",
       "  <quantumnet.objects.epr.Epr at 0x701bb4d29670>,\n",
       "  <quantumnet.objects.epr.Epr at 0x701bb4d91850>,\n",
       "  <quantumnet.objects.epr.Epr at 0x701bb4d92270>,\n",
       "  <quantumnet.objects.epr.Epr at 0x701bb4dea210>,\n",
       "  <quantumnet.objects.epr.Epr at 0x701bb4dea420>,\n",
       "  <quantumnet.objects.epr.Epr at 0x701bb4dea030>],\n",
       " (3, 4): [<quantumnet.objects.epr.Epr at 0x701bb4d920c0>,\n",
       "  <quantumnet.objects.epr.Epr at 0x701bb4dea6c0>,\n",
       "  <quantumnet.objects.epr.Epr at 0x701bb4dea7e0>,\n",
       "  <quantumnet.objects.epr.Epr at 0x701bb4dea870>,\n",
       "  <quantumnet.objects.epr.Epr at 0x701bb4dea900>,\n",
       "  <quantumnet.objects.epr.Epr at 0x701bb4dea750>,\n",
       "  <quantumnet.objects.epr.Epr at 0x701bb4deaa50>,\n",
       "  <quantumnet.objects.epr.Epr at 0x701bb4deaab0>,\n",
       "  <quantumnet.objects.epr.Epr at 0x701bb4d926f0>,\n",
       "  <quantumnet.objects.epr.Epr at 0x701bb4d92c60>,\n",
       "  <quantumnet.objects.epr.Epr at 0x701b9ff43110>],\n",
       " (4, 7): [<quantumnet.objects.epr.Epr at 0x701bb4dea4e0>,\n",
       "  <quantumnet.objects.epr.Epr at 0x701bb4d92930>,\n",
       "  <quantumnet.objects.epr.Epr at 0x701bb4de9610>,\n",
       "  <quantumnet.objects.epr.Epr at 0x701bb4de9490>,\n",
       "  <quantumnet.objects.epr.Epr at 0x701bb4d92ea0>,\n",
       "  <quantumnet.objects.epr.Epr at 0x701bb4deaa80>,\n",
       "  <quantumnet.objects.epr.Epr at 0x701bb6b0afc0>,\n",
       "  <quantumnet.objects.epr.Epr at 0x701bb4deae70>,\n",
       "  <quantumnet.objects.epr.Epr at 0x701bb4deaf30>,\n",
       "  <quantumnet.objects.epr.Epr at 0x701bb4d93290>],\n",
       " (4, 5): [<quantumnet.objects.epr.Epr at 0x701bb4deabd0>,\n",
       "  <quantumnet.objects.epr.Epr at 0x701bb4deb1a0>,\n",
       "  <quantumnet.objects.epr.Epr at 0x701bb4d934d0>,\n",
       "  <quantumnet.objects.epr.Epr at 0x701bb4deb2c0>,\n",
       "  <quantumnet.objects.epr.Epr at 0x701bb4deb320>,\n",
       "  <quantumnet.objects.epr.Epr at 0x701bb4deb3e0>,\n",
       "  <quantumnet.objects.epr.Epr at 0x701bb4d92de0>,\n",
       "  <quantumnet.objects.epr.Epr at 0x701bb4deb680>,\n",
       "  <quantumnet.objects.epr.Epr at 0x701bb4deb710>,\n",
       "  <quantumnet.objects.epr.Epr at 0x701bb6193860>],\n",
       " (5, 8): [<quantumnet.objects.epr.Epr at 0x701bb4d93980>,\n",
       "  <quantumnet.objects.epr.Epr at 0x701bb4deb200>,\n",
       "  <quantumnet.objects.epr.Epr at 0x701bb4d93950>,\n",
       "  <quantumnet.objects.epr.Epr at 0x701bb61c3830>,\n",
       "  <quantumnet.objects.epr.Epr at 0x701bb4deb890>,\n",
       "  <quantumnet.objects.epr.Epr at 0x701bb4d939b0>,\n",
       "  <quantumnet.objects.epr.Epr at 0x701bb4debb90>,\n",
       "  <quantumnet.objects.epr.Epr at 0x701bb4debc50>,\n",
       "  <quantumnet.objects.epr.Epr at 0x701bb4deba10>,\n",
       "  <quantumnet.objects.epr.Epr at 0x701bb4d93590>],\n",
       " (6, 7): [<quantumnet.objects.epr.Epr at 0x701bb4d936b0>,\n",
       "  <quantumnet.objects.epr.Epr at 0x701bb4debe00>,\n",
       "  <quantumnet.objects.epr.Epr at 0x701bb7fbbe60>,\n",
       "  <quantumnet.objects.epr.Epr at 0x701bb4debfb0>,\n",
       "  <quantumnet.objects.epr.Epr at 0x701bb57abec0>,\n",
       "  <quantumnet.objects.epr.Epr at 0x701bb4dfc0b0>,\n",
       "  <quantumnet.objects.epr.Epr at 0x701bb4dfc080>,\n",
       "  <quantumnet.objects.epr.Epr at 0x701bb4dac3e0>,\n",
       "  <quantumnet.objects.epr.Epr at 0x701bb4dfc290>,\n",
       "  <quantumnet.objects.epr.Epr at 0x701bb4dac6b0>],\n",
       " (7, 8): [<quantumnet.objects.epr.Epr at 0x701bb4dac5f0>,\n",
       "  <quantumnet.objects.epr.Epr at 0x701bb4d93f80>,\n",
       "  <quantumnet.objects.epr.Epr at 0x701bb4dfc140>,\n",
       "  <quantumnet.objects.epr.Epr at 0x701bb4dfc650>,\n",
       "  <quantumnet.objects.epr.Epr at 0x701bb4dfc6e0>,\n",
       "  <quantumnet.objects.epr.Epr at 0x701bb4dfc830>,\n",
       "  <quantumnet.objects.epr.Epr at 0x701bb4dfc950>,\n",
       "  <quantumnet.objects.epr.Epr at 0x701bb4dfc9b0>,\n",
       "  <quantumnet.objects.epr.Epr at 0x701bb4dacb00>,\n",
       "  <quantumnet.objects.epr.Epr at 0x701bb4dfc8c0>]}"
      ]
     },
     "execution_count": 15,
     "metadata": {},
     "output_type": "execute_result"
    }
   ],
   "source": [
    "rede.get_eprs()"
   ]
  },
  {
   "cell_type": "code",
   "execution_count": 16,
   "metadata": {},
   "outputs": [
    {
     "data": {
      "text/plain": [
       "4"
      ]
     },
     "execution_count": 16,
     "metadata": {},
     "output_type": "execute_result"
    }
   ],
   "source": [
    "rede.get_timeslot()"
   ]
  }
 ],
 "metadata": {
  "kernelspec": {
   "display_name": "Python 3",
   "language": "python",
   "name": "python3"
  },
  "language_info": {
   "codemirror_mode": {
    "name": "ipython",
    "version": 3
   },
   "file_extension": ".py",
   "mimetype": "text/x-python",
   "name": "python",
   "nbconvert_exporter": "python",
   "pygments_lexer": "ipython3",
   "version": "3.12.3"
  }
 },
 "nbformat": 4,
 "nbformat_minor": 2
}
