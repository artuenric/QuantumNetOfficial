{
 "cells": [
  {
   "cell_type": "markdown",
   "metadata": {},
   "source": [
    "## Guia da Camada Física\n",
    "##### O documento tem o objetivo de demostrar o funcionamento da camada física, além de suas funções e ferramentas."
   ]
  },
  {
   "cell_type": "code",
   "execution_count": 1,
   "metadata": {},
   "outputs": [],
   "source": [
    "from quantumnet.components import Network, Host\n",
    "from quantumnet.objects import Qubit, Logger\n",
    "import random\n",
    "Logger.activate(Logger)"
   ]
  },
  {
   "cell_type": "markdown",
   "metadata": {},
   "source": [
    "##### Será instaciada a rede e definida a topologia de Grade"
   ]
  },
  {
   "cell_type": "code",
   "execution_count": 2,
   "metadata": {},
   "outputs": [
    {
     "name": "stderr",
     "output_type": "stream",
     "text": [
      "2024-08-12 23:16:04,473: Qubit 0 adicionado à memória do Host 0.\n",
      "2024-08-12 23:16:04,474: Qubit 0 criado com fidelidade inicial 0.7530878420276216 e adicionado à memória do Host 0.\n",
      "2024-08-12 23:16:04,474: Qubit 1 adicionado à memória do Host 0.\n",
      "2024-08-12 23:16:04,475: Qubit 1 criado com fidelidade inicial 0.5502810664672918 e adicionado à memória do Host 0.\n",
      "2024-08-12 23:16:04,475: Qubit 2 adicionado à memória do Host 0.\n",
      "2024-08-12 23:16:04,475: Qubit 2 criado com fidelidade inicial 0.9784604844443375 e adicionado à memória do Host 0.\n",
      "2024-08-12 23:16:04,476: Qubit 3 adicionado à memória do Host 0.\n",
      "2024-08-12 23:16:04,476: Qubit 3 criado com fidelidade inicial 0.21536283854195826 e adicionado à memória do Host 0.\n",
      "2024-08-12 23:16:04,476: Qubit 4 adicionado à memória do Host 0.\n",
      "2024-08-12 23:16:04,477: Qubit 4 criado com fidelidade inicial 0.19899136724815536 e adicionado à memória do Host 0.\n",
      "2024-08-12 23:16:04,477: Qubit 5 adicionado à memória do Host 0.\n",
      "2024-08-12 23:16:04,477: Qubit 5 criado com fidelidade inicial 0.5449845389181243 e adicionado à memória do Host 0.\n",
      "2024-08-12 23:16:04,477: Qubit 6 adicionado à memória do Host 0.\n",
      "2024-08-12 23:16:04,478: Qubit 6 criado com fidelidade inicial 0.7468035897452394 e adicionado à memória do Host 0.\n",
      "2024-08-12 23:16:04,478: Qubit 7 adicionado à memória do Host 0.\n",
      "2024-08-12 23:16:04,478: Qubit 7 criado com fidelidade inicial 0.9838233273402475 e adicionado à memória do Host 0.\n",
      "2024-08-12 23:16:04,479: Qubit 8 adicionado à memória do Host 0.\n",
      "2024-08-12 23:16:04,479: Qubit 8 criado com fidelidade inicial 0.256056242341127 e adicionado à memória do Host 0.\n",
      "2024-08-12 23:16:04,479: Qubit 9 adicionado à memória do Host 0.\n",
      "2024-08-12 23:16:04,480: Qubit 9 criado com fidelidade inicial 0.5590486247003148 e adicionado à memória do Host 0.\n",
      "2024-08-12 23:16:04,480: Qubit 10 adicionado à memória do Host 1.\n",
      "2024-08-12 23:16:04,480: Qubit 10 criado com fidelidade inicial 0.8028338589512161 e adicionado à memória do Host 1.\n",
      "2024-08-12 23:16:04,480: Qubit 11 adicionado à memória do Host 1.\n",
      "2024-08-12 23:16:04,481: Qubit 11 criado com fidelidade inicial 0.3844980087980433 e adicionado à memória do Host 1.\n",
      "2024-08-12 23:16:04,481: Qubit 12 adicionado à memória do Host 1.\n",
      "2024-08-12 23:16:04,481: Qubit 12 criado com fidelidade inicial 0.9161104108322793 e adicionado à memória do Host 1.\n",
      "2024-08-12 23:16:04,481: Qubit 13 adicionado à memória do Host 1.\n",
      "2024-08-12 23:16:04,482: Qubit 13 criado com fidelidade inicial 0.0650749956224772 e adicionado à memória do Host 1.\n",
      "2024-08-12 23:16:04,482: Qubit 14 adicionado à memória do Host 1.\n",
      "2024-08-12 23:16:04,483: Qubit 14 criado com fidelidade inicial 0.6484423848098935 e adicionado à memória do Host 1.\n",
      "2024-08-12 23:16:04,483: Qubit 15 adicionado à memória do Host 1.\n",
      "2024-08-12 23:16:04,483: Qubit 15 criado com fidelidade inicial 0.24297021288367393 e adicionado à memória do Host 1.\n",
      "2024-08-12 23:16:04,484: Qubit 16 adicionado à memória do Host 1.\n",
      "2024-08-12 23:16:04,484: Qubit 16 criado com fidelidade inicial 0.37846518894307535 e adicionado à memória do Host 1.\n",
      "2024-08-12 23:16:04,484: Qubit 17 adicionado à memória do Host 1.\n",
      "2024-08-12 23:16:04,485: Qubit 17 criado com fidelidade inicial 0.5972489535110941 e adicionado à memória do Host 1.\n",
      "2024-08-12 23:16:04,485: Qubit 18 adicionado à memória do Host 1.\n",
      "2024-08-12 23:16:04,485: Qubit 18 criado com fidelidade inicial 0.062445904724801826 e adicionado à memória do Host 1.\n",
      "2024-08-12 23:16:04,485: Qubit 19 adicionado à memória do Host 1.\n",
      "2024-08-12 23:16:04,486: Qubit 19 criado com fidelidade inicial 0.6721035461494533 e adicionado à memória do Host 1.\n",
      "2024-08-12 23:16:04,486: Qubit 20 adicionado à memória do Host 2.\n",
      "2024-08-12 23:16:04,486: Qubit 20 criado com fidelidade inicial 0.15921725704797385 e adicionado à memória do Host 2.\n",
      "2024-08-12 23:16:04,487: Qubit 21 adicionado à memória do Host 2.\n",
      "2024-08-12 23:16:04,487: Qubit 21 criado com fidelidade inicial 0.5164515148645837 e adicionado à memória do Host 2.\n",
      "2024-08-12 23:16:04,487: Qubit 22 adicionado à memória do Host 2.\n",
      "2024-08-12 23:16:04,487: Qubit 22 criado com fidelidade inicial 0.21112164624995933 e adicionado à memória do Host 2.\n",
      "2024-08-12 23:16:04,488: Qubit 23 adicionado à memória do Host 2.\n",
      "2024-08-12 23:16:04,488: Qubit 23 criado com fidelidade inicial 0.7309397892865287 e adicionado à memória do Host 2.\n",
      "2024-08-12 23:16:04,488: Qubit 24 adicionado à memória do Host 2.\n",
      "2024-08-12 23:16:04,489: Qubit 24 criado com fidelidade inicial 0.4058957610058047 e adicionado à memória do Host 2.\n",
      "2024-08-12 23:16:04,489: Qubit 25 adicionado à memória do Host 2.\n",
      "2024-08-12 23:16:04,489: Qubit 25 criado com fidelidade inicial 0.10542102553215682 e adicionado à memória do Host 2.\n",
      "2024-08-12 23:16:04,489: Qubit 26 adicionado à memória do Host 2.\n",
      "2024-08-12 23:16:04,490: Qubit 26 criado com fidelidade inicial 0.8540298231068467 e adicionado à memória do Host 2.\n",
      "2024-08-12 23:16:04,490: Qubit 27 adicionado à memória do Host 2.\n",
      "2024-08-12 23:16:04,490: Qubit 27 criado com fidelidade inicial 0.2779375493317565 e adicionado à memória do Host 2.\n",
      "2024-08-12 23:16:04,491: Qubit 28 adicionado à memória do Host 2.\n",
      "2024-08-12 23:16:04,491: Qubit 28 criado com fidelidade inicial 0.154017211398902 e adicionado à memória do Host 2.\n",
      "2024-08-12 23:16:04,491: Qubit 29 adicionado à memória do Host 2.\n",
      "2024-08-12 23:16:04,492: Qubit 29 criado com fidelidade inicial 0.7069527539397144 e adicionado à memória do Host 2.\n",
      "2024-08-12 23:16:04,492: Qubit 30 adicionado à memória do Host 3.\n",
      "2024-08-12 23:16:04,492: Qubit 30 criado com fidelidade inicial 0.3423306237422741 e adicionado à memória do Host 3.\n",
      "2024-08-12 23:16:04,492: Qubit 31 adicionado à memória do Host 3.\n",
      "2024-08-12 23:16:04,493: Qubit 31 criado com fidelidade inicial 0.23370720170520942 e adicionado à memória do Host 3.\n",
      "2024-08-12 23:16:04,493: Qubit 32 adicionado à memória do Host 3.\n",
      "2024-08-12 23:16:04,493: Qubit 32 criado com fidelidade inicial 0.1872908780326431 e adicionado à memória do Host 3.\n",
      "2024-08-12 23:16:04,494: Qubit 33 adicionado à memória do Host 3.\n",
      "2024-08-12 23:16:04,494: Qubit 33 criado com fidelidade inicial 0.8816486419163853 e adicionado à memória do Host 3.\n",
      "2024-08-12 23:16:04,494: Qubit 34 adicionado à memória do Host 3.\n",
      "2024-08-12 23:16:04,494: Qubit 34 criado com fidelidade inicial 0.5840995181383993 e adicionado à memória do Host 3.\n",
      "2024-08-12 23:16:04,495: Qubit 35 adicionado à memória do Host 3.\n",
      "2024-08-12 23:16:04,495: Qubit 35 criado com fidelidade inicial 0.3313330432306659 e adicionado à memória do Host 3.\n",
      "2024-08-12 23:16:04,495: Qubit 36 adicionado à memória do Host 3.\n",
      "2024-08-12 23:16:04,496: Qubit 36 criado com fidelidade inicial 0.01359367945297496 e adicionado à memória do Host 3.\n",
      "2024-08-12 23:16:04,496: Qubit 37 adicionado à memória do Host 3.\n",
      "2024-08-12 23:16:04,496: Qubit 37 criado com fidelidade inicial 0.026709556809429547 e adicionado à memória do Host 3.\n",
      "2024-08-12 23:16:04,497: Qubit 38 adicionado à memória do Host 3.\n",
      "2024-08-12 23:16:04,497: Qubit 38 criado com fidelidade inicial 0.6177170106437188 e adicionado à memória do Host 3.\n",
      "2024-08-12 23:16:04,497: Qubit 39 adicionado à memória do Host 3.\n",
      "2024-08-12 23:16:04,497: Qubit 39 criado com fidelidade inicial 0.2478660668859598 e adicionado à memória do Host 3.\n",
      "2024-08-12 23:16:04,498: Qubit 40 adicionado à memória do Host 4.\n",
      "2024-08-12 23:16:04,498: Qubit 40 criado com fidelidade inicial 0.2922134455012828 e adicionado à memória do Host 4.\n",
      "2024-08-12 23:16:04,499: Qubit 41 adicionado à memória do Host 4.\n",
      "2024-08-12 23:16:04,499: Qubit 41 criado com fidelidade inicial 0.4710767701192875 e adicionado à memória do Host 4.\n",
      "2024-08-12 23:16:04,499: Qubit 42 adicionado à memória do Host 4.\n",
      "2024-08-12 23:16:04,499: Qubit 42 criado com fidelidade inicial 0.48234400151778123 e adicionado à memória do Host 4.\n",
      "2024-08-12 23:16:04,500: Qubit 43 adicionado à memória do Host 4.\n",
      "2024-08-12 23:16:04,500: Qubit 43 criado com fidelidade inicial 0.8137934617956946 e adicionado à memória do Host 4.\n",
      "2024-08-12 23:16:04,500: Qubit 44 adicionado à memória do Host 4.\n",
      "2024-08-12 23:16:04,501: Qubit 44 criado com fidelidade inicial 0.11431295879936343 e adicionado à memória do Host 4.\n",
      "2024-08-12 23:16:04,501: Qubit 45 adicionado à memória do Host 4.\n",
      "2024-08-12 23:16:04,501: Qubit 45 criado com fidelidade inicial 0.1251535743304425 e adicionado à memória do Host 4.\n",
      "2024-08-12 23:16:04,502: Qubit 46 adicionado à memória do Host 4.\n",
      "2024-08-12 23:16:04,502: Qubit 46 criado com fidelidade inicial 0.9385642202495188 e adicionado à memória do Host 4.\n",
      "2024-08-12 23:16:04,502: Qubit 47 adicionado à memória do Host 4.\n",
      "2024-08-12 23:16:04,503: Qubit 47 criado com fidelidade inicial 0.5543088676743199 e adicionado à memória do Host 4.\n",
      "2024-08-12 23:16:04,503: Qubit 48 adicionado à memória do Host 4.\n",
      "2024-08-12 23:16:04,503: Qubit 48 criado com fidelidade inicial 0.3739508763649493 e adicionado à memória do Host 4.\n",
      "2024-08-12 23:16:04,503: Qubit 49 adicionado à memória do Host 4.\n",
      "2024-08-12 23:16:04,504: Qubit 49 criado com fidelidade inicial 0.06604460503298815 e adicionado à memória do Host 4.\n",
      "2024-08-12 23:16:04,504: Qubit 50 adicionado à memória do Host 5.\n",
      "2024-08-12 23:16:04,504: Qubit 50 criado com fidelidade inicial 0.8002419077736631 e adicionado à memória do Host 5.\n",
      "2024-08-12 23:16:04,504: Qubit 51 adicionado à memória do Host 5.\n",
      "2024-08-12 23:16:04,505: Qubit 51 criado com fidelidade inicial 0.4347414897208982 e adicionado à memória do Host 5.\n",
      "2024-08-12 23:16:04,505: Qubit 52 adicionado à memória do Host 5.\n",
      "2024-08-12 23:16:04,505: Qubit 52 criado com fidelidade inicial 0.5474081616474256 e adicionado à memória do Host 5.\n",
      "2024-08-12 23:16:04,505: Qubit 53 adicionado à memória do Host 5.\n",
      "2024-08-12 23:16:04,506: Qubit 53 criado com fidelidade inicial 0.377658977457655 e adicionado à memória do Host 5.\n",
      "2024-08-12 23:16:04,506: Qubit 54 adicionado à memória do Host 5.\n",
      "2024-08-12 23:16:04,506: Qubit 54 criado com fidelidade inicial 0.92024394547994 e adicionado à memória do Host 5.\n",
      "2024-08-12 23:16:04,506: Qubit 55 adicionado à memória do Host 5.\n",
      "2024-08-12 23:16:04,507: Qubit 55 criado com fidelidade inicial 0.14212270140518102 e adicionado à memória do Host 5.\n",
      "2024-08-12 23:16:04,507: Qubit 56 adicionado à memória do Host 5.\n",
      "2024-08-12 23:16:04,507: Qubit 56 criado com fidelidade inicial 0.2573698273041747 e adicionado à memória do Host 5.\n",
      "2024-08-12 23:16:04,507: Qubit 57 adicionado à memória do Host 5.\n",
      "2024-08-12 23:16:04,508: Qubit 57 criado com fidelidade inicial 0.17255976486527103 e adicionado à memória do Host 5.\n",
      "2024-08-12 23:16:04,508: Qubit 58 adicionado à memória do Host 5.\n",
      "2024-08-12 23:16:04,508: Qubit 58 criado com fidelidade inicial 0.4351282092892086 e adicionado à memória do Host 5.\n",
      "2024-08-12 23:16:04,508: Qubit 59 adicionado à memória do Host 5.\n",
      "2024-08-12 23:16:04,509: Qubit 59 criado com fidelidade inicial 0.991991115663641 e adicionado à memória do Host 5.\n",
      "2024-08-12 23:16:04,509: Qubit 60 adicionado à memória do Host 6.\n",
      "2024-08-12 23:16:04,509: Qubit 60 criado com fidelidade inicial 0.32326221963147883 e adicionado à memória do Host 6.\n",
      "2024-08-12 23:16:04,510: Qubit 61 adicionado à memória do Host 6.\n",
      "2024-08-12 23:16:04,510: Qubit 61 criado com fidelidade inicial 0.2702033962992194 e adicionado à memória do Host 6.\n",
      "2024-08-12 23:16:04,510: Qubit 62 adicionado à memória do Host 6.\n",
      "2024-08-12 23:16:04,511: Qubit 62 criado com fidelidade inicial 0.046397505965179664 e adicionado à memória do Host 6.\n",
      "2024-08-12 23:16:04,511: Qubit 63 adicionado à memória do Host 6.\n",
      "2024-08-12 23:16:04,511: Qubit 63 criado com fidelidade inicial 0.24425944176101122 e adicionado à memória do Host 6.\n",
      "2024-08-12 23:16:04,512: Qubit 64 adicionado à memória do Host 6.\n",
      "2024-08-12 23:16:04,512: Qubit 64 criado com fidelidade inicial 0.09576695923980327 e adicionado à memória do Host 6.\n",
      "2024-08-12 23:16:04,512: Qubit 65 adicionado à memória do Host 6.\n",
      "2024-08-12 23:16:04,512: Qubit 65 criado com fidelidade inicial 0.17932806379180222 e adicionado à memória do Host 6.\n",
      "2024-08-12 23:16:04,513: Qubit 66 adicionado à memória do Host 6.\n",
      "2024-08-12 23:16:04,513: Qubit 66 criado com fidelidade inicial 0.19777496730729183 e adicionado à memória do Host 6.\n",
      "2024-08-12 23:16:04,513: Qubit 67 adicionado à memória do Host 6.\n",
      "2024-08-12 23:16:04,514: Qubit 67 criado com fidelidade inicial 0.5273429206433121 e adicionado à memória do Host 6.\n",
      "2024-08-12 23:16:04,514: Qubit 68 adicionado à memória do Host 6.\n",
      "2024-08-12 23:16:04,514: Qubit 68 criado com fidelidade inicial 0.8286259194921589 e adicionado à memória do Host 6.\n",
      "2024-08-12 23:16:04,515: Qubit 69 adicionado à memória do Host 6.\n",
      "2024-08-12 23:16:04,515: Qubit 69 criado com fidelidade inicial 0.617728137033276 e adicionado à memória do Host 6.\n",
      "2024-08-12 23:16:04,515: Qubit 70 adicionado à memória do Host 7.\n",
      "2024-08-12 23:16:04,516: Qubit 70 criado com fidelidade inicial 0.44677024939339716 e adicionado à memória do Host 7.\n",
      "2024-08-12 23:16:04,516: Qubit 71 adicionado à memória do Host 7.\n",
      "2024-08-12 23:16:04,516: Qubit 71 criado com fidelidade inicial 0.45209420570248304 e adicionado à memória do Host 7.\n",
      "2024-08-12 23:16:04,517: Qubit 72 adicionado à memória do Host 7.\n",
      "2024-08-12 23:16:04,517: Qubit 72 criado com fidelidade inicial 0.8519365456177629 e adicionado à memória do Host 7.\n",
      "2024-08-12 23:16:04,517: Qubit 73 adicionado à memória do Host 7.\n",
      "2024-08-12 23:16:04,518: Qubit 73 criado com fidelidade inicial 0.39703562721542374 e adicionado à memória do Host 7.\n",
      "2024-08-12 23:16:04,518: Qubit 74 adicionado à memória do Host 7.\n",
      "2024-08-12 23:16:04,518: Qubit 74 criado com fidelidade inicial 0.9604633058661544 e adicionado à memória do Host 7.\n",
      "2024-08-12 23:16:04,519: Qubit 75 adicionado à memória do Host 7.\n",
      "2024-08-12 23:16:04,519: Qubit 75 criado com fidelidade inicial 0.9324077587129886 e adicionado à memória do Host 7.\n",
      "2024-08-12 23:16:04,519: Qubit 76 adicionado à memória do Host 7.\n",
      "2024-08-12 23:16:04,520: Qubit 76 criado com fidelidade inicial 0.669193157293296 e adicionado à memória do Host 7.\n",
      "2024-08-12 23:16:04,520: Qubit 77 adicionado à memória do Host 7.\n",
      "2024-08-12 23:16:04,521: Qubit 77 criado com fidelidade inicial 0.19679732072225886 e adicionado à memória do Host 7.\n",
      "2024-08-12 23:16:04,521: Qubit 78 adicionado à memória do Host 7.\n",
      "2024-08-12 23:16:04,523: Qubit 78 criado com fidelidade inicial 0.8121288056284929 e adicionado à memória do Host 7.\n",
      "2024-08-12 23:16:04,523: Qubit 79 adicionado à memória do Host 7.\n",
      "2024-08-12 23:16:04,523: Qubit 79 criado com fidelidade inicial 0.874374466509292 e adicionado à memória do Host 7.\n",
      "2024-08-12 23:16:04,524: Qubit 80 adicionado à memória do Host 8.\n",
      "2024-08-12 23:16:04,524: Qubit 80 criado com fidelidade inicial 0.5060391836769021 e adicionado à memória do Host 8.\n",
      "2024-08-12 23:16:04,524: Qubit 81 adicionado à memória do Host 8.\n",
      "2024-08-12 23:16:04,525: Qubit 81 criado com fidelidade inicial 0.0138769919692322 e adicionado à memória do Host 8.\n",
      "2024-08-12 23:16:04,525: Qubit 82 adicionado à memória do Host 8.\n",
      "2024-08-12 23:16:04,525: Qubit 82 criado com fidelidade inicial 0.08110775931732961 e adicionado à memória do Host 8.\n",
      "2024-08-12 23:16:04,525: Qubit 83 adicionado à memória do Host 8.\n",
      "2024-08-12 23:16:04,526: Qubit 83 criado com fidelidade inicial 0.05844589858093985 e adicionado à memória do Host 8.\n",
      "2024-08-12 23:16:04,526: Qubit 84 adicionado à memória do Host 8.\n",
      "2024-08-12 23:16:04,526: Qubit 84 criado com fidelidade inicial 0.3589366977563533 e adicionado à memória do Host 8.\n",
      "2024-08-12 23:16:04,527: Qubit 85 adicionado à memória do Host 8.\n",
      "2024-08-12 23:16:04,527: Qubit 85 criado com fidelidade inicial 0.14944395505981345 e adicionado à memória do Host 8.\n",
      "2024-08-12 23:16:04,528: Qubit 86 adicionado à memória do Host 8.\n",
      "2024-08-12 23:16:04,528: Qubit 86 criado com fidelidade inicial 0.2205103651068212 e adicionado à memória do Host 8.\n",
      "2024-08-12 23:16:04,528: Qubit 87 adicionado à memória do Host 8.\n",
      "2024-08-12 23:16:04,529: Qubit 87 criado com fidelidade inicial 0.22197381760667712 e adicionado à memória do Host 8.\n",
      "2024-08-12 23:16:04,529: Qubit 88 adicionado à memória do Host 8.\n",
      "2024-08-12 23:16:04,529: Qubit 88 criado com fidelidade inicial 0.45049209537697676 e adicionado à memória do Host 8.\n",
      "2024-08-12 23:16:04,530: Qubit 89 adicionado à memória do Host 8.\n",
      "2024-08-12 23:16:04,530: Qubit 89 criado com fidelidade inicial 0.35930102520990803 e adicionado à memória do Host 8.\n",
      "2024-08-12 23:16:04,530: Par EPR <quantumnet.objects.epr.Epr object at 0x00000191A170E8A0> adicionado ao canal.\n",
      "2024-08-12 23:16:04,531: Par EPR <quantumnet.objects.epr.Epr object at 0x00000191A1F93E60> adicionado ao canal.\n",
      "2024-08-12 23:16:04,531: Par EPR <quantumnet.objects.epr.Epr object at 0x00000191A1FB6870> adicionado ao canal.\n",
      "2024-08-12 23:16:04,531: Par EPR <quantumnet.objects.epr.Epr object at 0x00000191A1FB69C0> adicionado ao canal.\n",
      "2024-08-12 23:16:04,531: Par EPR <quantumnet.objects.epr.Epr object at 0x00000191A1FB6720> adicionado ao canal.\n",
      "2024-08-12 23:16:04,532: Par EPR <quantumnet.objects.epr.Epr object at 0x00000191A1FB6750> adicionado ao canal.\n",
      "2024-08-12 23:16:04,532: Par EPR <quantumnet.objects.epr.Epr object at 0x00000191A1FB58E0> adicionado ao canal.\n",
      "2024-08-12 23:16:04,532: Par EPR <quantumnet.objects.epr.Epr object at 0x00000191A170EA80> adicionado ao canal.\n",
      "2024-08-12 23:16:04,533: Par EPR <quantumnet.objects.epr.Epr object at 0x00000191A1FB62A0> adicionado ao canal.\n",
      "2024-08-12 23:16:04,533: Par EPR <quantumnet.objects.epr.Epr object at 0x00000191A1FB6BA0> adicionado ao canal.\n",
      "2024-08-12 23:16:04,533: Par EPR <quantumnet.objects.epr.Epr object at 0x00000191A1DFEDB0> adicionado ao canal.\n",
      "2024-08-12 23:16:04,534: Par EPR <quantumnet.objects.epr.Epr object at 0x00000191A170E840> adicionado ao canal.\n",
      "2024-08-12 23:16:04,534: Par EPR <quantumnet.objects.epr.Epr object at 0x00000191A1EEEEA0> adicionado ao canal.\n",
      "2024-08-12 23:16:04,534: Par EPR <quantumnet.objects.epr.Epr object at 0x00000191A170E5A0> adicionado ao canal.\n",
      "2024-08-12 23:16:04,535: Par EPR <quantumnet.objects.epr.Epr object at 0x00000191A1FB40E0> adicionado ao canal.\n",
      "2024-08-12 23:16:04,535: Par EPR <quantumnet.objects.epr.Epr object at 0x00000191A1FB6FC0> adicionado ao canal.\n",
      "2024-08-12 23:16:04,535: Par EPR <quantumnet.objects.epr.Epr object at 0x00000191A1FB6990> adicionado ao canal.\n",
      "2024-08-12 23:16:04,535: Par EPR <quantumnet.objects.epr.Epr object at 0x00000191A1FB6F30> adicionado ao canal.\n",
      "2024-08-12 23:16:04,536: Par EPR <quantumnet.objects.epr.Epr object at 0x00000191A1FB6F00> adicionado ao canal.\n",
      "2024-08-12 23:16:04,536: Par EPR <quantumnet.objects.epr.Epr object at 0x00000191A1FB70B0> adicionado ao canal.\n",
      "2024-08-12 23:16:04,536: Par EPR <quantumnet.objects.epr.Epr object at 0x00000191A1FCDFD0> adicionado ao canal.\n",
      "2024-08-12 23:16:04,536: Par EPR <quantumnet.objects.epr.Epr object at 0x00000191A1FCC8F0> adicionado ao canal.\n",
      "2024-08-12 23:16:04,537: Par EPR <quantumnet.objects.epr.Epr object at 0x00000191A1FCF080> adicionado ao canal.\n",
      "2024-08-12 23:16:04,537: Par EPR <quantumnet.objects.epr.Epr object at 0x00000191A1FB7290> adicionado ao canal.\n",
      "2024-08-12 23:16:04,537: Par EPR <quantumnet.objects.epr.Epr object at 0x00000191A1FCF1A0> adicionado ao canal.\n",
      "2024-08-12 23:16:04,538: Par EPR <quantumnet.objects.epr.Epr object at 0x00000191A1FCF200> adicionado ao canal.\n",
      "2024-08-12 23:16:04,538: Par EPR <quantumnet.objects.epr.Epr object at 0x00000191A1CEF410> adicionado ao canal.\n",
      "2024-08-12 23:16:04,538: Par EPR <quantumnet.objects.epr.Epr object at 0x00000191A1FCEE10> adicionado ao canal.\n",
      "2024-08-12 23:16:04,538: Par EPR <quantumnet.objects.epr.Epr object at 0x00000191A1C256A0> adicionado ao canal.\n",
      "2024-08-12 23:16:04,539: Par EPR <quantumnet.objects.epr.Epr object at 0x00000191A1FB75F0> adicionado ao canal.\n",
      "2024-08-12 23:16:04,539: Par EPR <quantumnet.objects.epr.Epr object at 0x00000191A1BE7380> adicionado ao canal.\n",
      "2024-08-12 23:16:04,539: Par EPR <quantumnet.objects.epr.Epr object at 0x00000191A176F830> adicionado ao canal.\n",
      "2024-08-12 23:16:04,540: Par EPR <quantumnet.objects.epr.Epr object at 0x00000191A1FCF590> adicionado ao canal.\n",
      "2024-08-12 23:16:04,540: Par EPR <quantumnet.objects.epr.Epr object at 0x00000191A1FB7890> adicionado ao canal.\n",
      "2024-08-12 23:16:04,540: Par EPR <quantumnet.objects.epr.Epr object at 0x00000191A1FCF800> adicionado ao canal.\n",
      "2024-08-12 23:16:04,540: Par EPR <quantumnet.objects.epr.Epr object at 0x00000191A1FB7680> adicionado ao canal.\n",
      "2024-08-12 23:16:04,541: Par EPR <quantumnet.objects.epr.Epr object at 0x00000191A1FB4FE0> adicionado ao canal.\n",
      "2024-08-12 23:16:04,541: Par EPR <quantumnet.objects.epr.Epr object at 0x00000191A1FCF710> adicionado ao canal.\n",
      "2024-08-12 23:16:04,541: Par EPR <quantumnet.objects.epr.Epr object at 0x00000191A1FB78C0> adicionado ao canal.\n",
      "2024-08-12 23:16:04,542: Par EPR <quantumnet.objects.epr.Epr object at 0x00000191A1FB7C20> adicionado ao canal.\n",
      "2024-08-12 23:16:04,542: Par EPR <quantumnet.objects.epr.Epr object at 0x00000191A1FCFBC0> adicionado ao canal.\n",
      "2024-08-12 23:16:04,542: Par EPR <quantumnet.objects.epr.Epr object at 0x00000191A1FB7EC0> adicionado ao canal.\n",
      "2024-08-12 23:16:04,543: Par EPR <quantumnet.objects.epr.Epr object at 0x00000191A1FB7B90> adicionado ao canal.\n",
      "2024-08-12 23:16:04,543: Par EPR <quantumnet.objects.epr.Epr object at 0x00000191A1FCFDA0> adicionado ao canal.\n",
      "2024-08-12 23:16:04,543: Par EPR <quantumnet.objects.epr.Epr object at 0x00000191A1FCFE90> adicionado ao canal.\n",
      "2024-08-12 23:16:04,544: Par EPR <quantumnet.objects.epr.Epr object at 0x00000191A1FCFFB0> adicionado ao canal.\n",
      "2024-08-12 23:16:04,544: Par EPR <quantumnet.objects.epr.Epr object at 0x00000191A1FCEB70> adicionado ao canal.\n",
      "2024-08-12 23:16:04,544: Par EPR <quantumnet.objects.epr.Epr object at 0x00000191A1FCFDD0> adicionado ao canal.\n",
      "2024-08-12 23:16:04,545: Par EPR <quantumnet.objects.epr.Epr object at 0x00000191A1B96420> adicionado ao canal.\n",
      "2024-08-12 23:16:04,545: Par EPR <quantumnet.objects.epr.Epr object at 0x00000191A1FCFCE0> adicionado ao canal.\n",
      "2024-08-12 23:16:04,545: Par EPR <quantumnet.objects.epr.Epr object at 0x00000191A1F90320> adicionado ao canal.\n",
      "2024-08-12 23:16:04,546: Par EPR <quantumnet.objects.epr.Epr object at 0x00000191A1E98620> adicionado ao canal.\n",
      "2024-08-12 23:16:04,546: Par EPR <quantumnet.objects.epr.Epr object at 0x00000191A1FCE1E0> adicionado ao canal.\n",
      "2024-08-12 23:16:04,547: Par EPR <quantumnet.objects.epr.Epr object at 0x00000191A1D084A0> adicionado ao canal.\n",
      "2024-08-12 23:16:04,547: Par EPR <quantumnet.objects.epr.Epr object at 0x00000191A1CA8860> adicionado ao canal.\n",
      "2024-08-12 23:16:04,549: Par EPR <quantumnet.objects.epr.Epr object at 0x00000191A1FB6D20> adicionado ao canal.\n",
      "2024-08-12 23:16:04,550: Par EPR <quantumnet.objects.epr.Epr object at 0x00000191A1FCE5A0> adicionado ao canal.\n",
      "2024-08-12 23:16:04,551: Par EPR <quantumnet.objects.epr.Epr object at 0x00000191A1FCEBA0> adicionado ao canal.\n",
      "2024-08-12 23:16:04,551: Par EPR <quantumnet.objects.epr.Epr object at 0x00000191A1CD02C0> adicionado ao canal.\n",
      "2024-08-12 23:16:04,551: Par EPR <quantumnet.objects.epr.Epr object at 0x00000191A1CA8890> adicionado ao canal.\n",
      "2024-08-12 23:16:04,552: Par EPR <quantumnet.objects.epr.Epr object at 0x00000191A1FE8AD0> adicionado ao canal.\n",
      "2024-08-12 23:16:04,552: Par EPR <quantumnet.objects.epr.Epr object at 0x00000191A1FE8B90> adicionado ao canal.\n",
      "2024-08-12 23:16:04,552: Par EPR <quantumnet.objects.epr.Epr object at 0x00000191A1F91040> adicionado ao canal.\n",
      "2024-08-12 23:16:04,553: Par EPR <quantumnet.objects.epr.Epr object at 0x00000191A1E48950> adicionado ao canal.\n",
      "2024-08-12 23:16:04,553: Par EPR <quantumnet.objects.epr.Epr object at 0x00000191A1FE8FB0> adicionado ao canal.\n",
      "2024-08-12 23:16:04,553: Par EPR <quantumnet.objects.epr.Epr object at 0x00000191A1FE90D0> adicionado ao canal.\n",
      "2024-08-12 23:16:04,554: Par EPR <quantumnet.objects.epr.Epr object at 0x00000191A1FE8B60> adicionado ao canal.\n",
      "2024-08-12 23:16:04,554: Par EPR <quantumnet.objects.epr.Epr object at 0x00000191A1FE9280> adicionado ao canal.\n",
      "2024-08-12 23:16:04,554: Par EPR <quantumnet.objects.epr.Epr object at 0x00000191A1FE9310> adicionado ao canal.\n",
      "2024-08-12 23:16:04,555: Par EPR <quantumnet.objects.epr.Epr object at 0x00000191A1FE93A0> adicionado ao canal.\n",
      "2024-08-12 23:16:04,555: Par EPR <quantumnet.objects.epr.Epr object at 0x00000191A1FE9400> adicionado ao canal.\n",
      "2024-08-12 23:16:04,555: Par EPR <quantumnet.objects.epr.Epr object at 0x00000191A1FE95B0> adicionado ao canal.\n",
      "2024-08-12 23:16:04,556: Par EPR <quantumnet.objects.epr.Epr object at 0x00000191A1C11760> adicionado ao canal.\n",
      "2024-08-12 23:16:04,556: Par EPR <quantumnet.objects.epr.Epr object at 0x00000191A1FE9160> adicionado ao canal.\n",
      "2024-08-12 23:16:04,557: Par EPR <quantumnet.objects.epr.Epr object at 0x00000191A1DD18E0> adicionado ao canal.\n",
      "2024-08-12 23:16:04,557: Par EPR <quantumnet.objects.epr.Epr object at 0x00000191A15996A0> adicionado ao canal.\n",
      "2024-08-12 23:16:04,557: Par EPR <quantumnet.objects.epr.Epr object at 0x00000191A1FE9100> adicionado ao canal.\n",
      "2024-08-12 23:16:04,558: Par EPR <quantumnet.objects.epr.Epr object at 0x00000191A1FE9A60> adicionado ao canal.\n",
      "2024-08-12 23:16:04,558: Par EPR <quantumnet.objects.epr.Epr object at 0x00000191A1DA9B50> adicionado ao canal.\n",
      "2024-08-12 23:16:04,558: Par EPR <quantumnet.objects.epr.Epr object at 0x00000191A1599C70> adicionado ao canal.\n",
      "2024-08-12 23:16:04,559: Par EPR <quantumnet.objects.epr.Epr object at 0x00000191A1FE98B0> adicionado ao canal.\n",
      "2024-08-12 23:16:04,559: Par EPR <quantumnet.objects.epr.Epr object at 0x00000191A1C12660> adicionado ao canal.\n",
      "2024-08-12 23:16:04,559: Par EPR <quantumnet.objects.epr.Epr object at 0x00000191A1FE9D30> adicionado ao canal.\n",
      "2024-08-12 23:16:04,560: Par EPR <quantumnet.objects.epr.Epr object at 0x00000191A1FE9E80> adicionado ao canal.\n",
      "2024-08-12 23:16:04,560: Par EPR <quantumnet.objects.epr.Epr object at 0x00000191A1FE9F10> adicionado ao canal.\n",
      "2024-08-12 23:16:04,560: Par EPR <quantumnet.objects.epr.Epr object at 0x00000191A1FE9FD0> adicionado ao canal.\n",
      "2024-08-12 23:16:04,560: Par EPR <quantumnet.objects.epr.Epr object at 0x00000191A1FEA060> adicionado ao canal.\n",
      "2024-08-12 23:16:04,561: Par EPR <quantumnet.objects.epr.Epr object at 0x00000191A1FEA1B0> adicionado ao canal.\n",
      "2024-08-12 23:16:04,561: Par EPR <quantumnet.objects.epr.Epr object at 0x00000191A1FEA240> adicionado ao canal.\n",
      "2024-08-12 23:16:04,561: Par EPR <quantumnet.objects.epr.Epr object at 0x00000191A1DAA630> adicionado ao canal.\n",
      "2024-08-12 23:16:04,562: Par EPR <quantumnet.objects.epr.Epr object at 0x00000191A1E299A0> adicionado ao canal.\n",
      "2024-08-12 23:16:04,562: Par EPR <quantumnet.objects.epr.Epr object at 0x00000191A1FEA480> adicionado ao canal.\n",
      "2024-08-12 23:16:04,563: Par EPR <quantumnet.objects.epr.Epr object at 0x00000191A1FEA690> adicionado ao canal.\n",
      "2024-08-12 23:16:04,563: Par EPR <quantumnet.objects.epr.Epr object at 0x00000191A1E4A4B0> adicionado ao canal.\n",
      "2024-08-12 23:16:04,564: Par EPR <quantumnet.objects.epr.Epr object at 0x00000191A1D62900> adicionado ao canal.\n",
      "2024-08-12 23:16:04,564: Par EPR <quantumnet.objects.epr.Epr object at 0x00000191A1FEA780> adicionado ao canal.\n",
      "2024-08-12 23:16:04,564: Par EPR <quantumnet.objects.epr.Epr object at 0x00000191A1FEAA80> adicionado ao canal.\n",
      "2024-08-12 23:16:04,565: Par EPR <quantumnet.objects.epr.Epr object at 0x00000191A1FEAB10> adicionado ao canal.\n",
      "2024-08-12 23:16:04,565: Par EPR <quantumnet.objects.epr.Epr object at 0x00000191A1FEABA0> adicionado ao canal.\n",
      "2024-08-12 23:16:04,565: Par EPR <quantumnet.objects.epr.Epr object at 0x00000191A1FEA870> adicionado ao canal.\n",
      "2024-08-12 23:16:04,566: Par EPR <quantumnet.objects.epr.Epr object at 0x00000191A1FEADB0> adicionado ao canal.\n",
      "2024-08-12 23:16:04,566: Par EPR <quantumnet.objects.epr.Epr object at 0x00000191A1FEAED0> adicionado ao canal.\n",
      "2024-08-12 23:16:04,567: Par EPR <quantumnet.objects.epr.Epr object at 0x00000191A1F93C20> adicionado ao canal.\n",
      "2024-08-12 23:16:04,567: Par EPR <quantumnet.objects.epr.Epr object at 0x00000191A1FEAB40> adicionado ao canal.\n",
      "2024-08-12 23:16:04,567: Par EPR <quantumnet.objects.epr.Epr object at 0x00000191A1BBB2F0> adicionado ao canal.\n",
      "2024-08-12 23:16:04,568: Par EPR <quantumnet.objects.epr.Epr object at 0x00000191A1E73200> adicionado ao canal.\n",
      "2024-08-12 23:16:04,568: Par EPR <quantumnet.objects.epr.Epr object at 0x00000191A1F93470> adicionado ao canal.\n",
      "2024-08-12 23:16:04,568: Par EPR <quantumnet.objects.epr.Epr object at 0x00000191A1FEB1A0> adicionado ao canal.\n",
      "2024-08-12 23:16:04,569: Par EPR <quantumnet.objects.epr.Epr object at 0x00000191A1F93860> adicionado ao canal.\n",
      "2024-08-12 23:16:04,569: Par EPR <quantumnet.objects.epr.Epr object at 0x00000191A1FEB140> adicionado ao canal.\n",
      "2024-08-12 23:16:04,569: Par EPR <quantumnet.objects.epr.Epr object at 0x00000191A1C93620> adicionado ao canal.\n",
      "2024-08-12 23:16:04,570: Par EPR <quantumnet.objects.epr.Epr object at 0x00000191A1F93440> adicionado ao canal.\n",
      "2024-08-12 23:16:04,570: Par EPR <quantumnet.objects.epr.Epr object at 0x00000191A1FEB590> adicionado ao canal.\n",
      "2024-08-12 23:16:04,570: Par EPR <quantumnet.objects.epr.Epr object at 0x00000191A1F936B0> adicionado ao canal.\n",
      "2024-08-12 23:16:04,571: Par EPR <quantumnet.objects.epr.Epr object at 0x00000191A1F62CF0> adicionado ao canal.\n",
      "2024-08-12 23:16:04,571: Par EPR <quantumnet.objects.epr.Epr object at 0x00000191A1F93A70> adicionado ao canal.\n",
      "2024-08-12 23:16:04,571: Par EPR <quantumnet.objects.epr.Epr object at 0x00000191A1F934D0> adicionado ao canal.\n",
      "2024-08-12 23:16:04,572: Par EPR <quantumnet.objects.epr.Epr object at 0x00000191A1F93AD0> adicionado ao canal.\n",
      "2024-08-12 23:16:04,572: Par EPR <quantumnet.objects.epr.Epr object at 0x00000191A1FEB8F0> adicionado ao canal.\n",
      "2024-08-12 23:16:04,572: Par EPR <quantumnet.objects.epr.Epr object at 0x00000191A1F93BF0> adicionado ao canal.\n"
     ]
    },
    {
     "name": "stdout",
     "output_type": "stream",
     "text": [
      "Hosts inicializados\n",
      "Canais inicializados\n",
      "Pares EPRs adicionados\n"
     ]
    },
    {
     "data": {
      "image/png": "[encoded data removed]",
      "text/plain": [
       "<Figure size 640x480 with 1 Axes>"
      ]
     },
     "metadata": {},
     "output_type": "display_data"
    }
   ],
   "source": [
    "rede = Network()\n",
    "rede.set_ready_topology(\"Grade\", 3,3)\n",
    "rede.draw()"
   ]
  },
  {
   "cell_type": "markdown",
   "metadata": {},
   "source": [
    "##### Selecionando aleatoriamente uma aresta do grafo da rede e deseguinando quem será Alice e Bob."
   ]
  },
  {
   "cell_type": "code",
   "execution_count": 3,
   "metadata": {},
   "outputs": [],
   "source": [
    "arestas = list(rede.edges)\n",
    "aresta_aleatorias = random.sample(arestas, 1)[0]\n",
    "x,y = aresta_aleatorias\n",
    "\n",
    "alice = rede.get_host(x)\n",
    "bob = rede.get_host(y)"
   ]
  },
  {
   "cell_type": "markdown",
   "metadata": {},
   "source": [
    "##### Adicionando qubits aos hosts."
   ]
  },
  {
   "cell_type": "code",
   "execution_count": 4,
   "metadata": {},
   "outputs": [
    {
     "name": "stderr",
     "output_type": "stream",
     "text": [
      "2024-08-12 23:16:05,316: Qubit 1 adicionado à memória do Host 3.\n",
      "2024-08-12 23:16:05,317: Qubit 2 adicionado à memória do Host 4.\n"
     ]
    }
   ],
   "source": [
    "h1 = Qubit(1)\n",
    "h2 = Qubit(2)\n",
    "\n",
    "alice.add_qubit(h1)\n",
    "bob.add_qubit(h2)"
   ]
  },
  {
   "cell_type": "markdown",
   "metadata": {},
   "source": [
    "##### Acessando a memória dos Hosts."
   ]
  },
  {
   "cell_type": "code",
   "execution_count": 5,
   "metadata": {},
   "outputs": [
    {
     "name": "stdout",
     "output_type": "stream",
     "text": [
      "[<quantumnet.objects.qubit.Qubit object at 0x00000191A1EBD5E0>, <quantumnet.objects.qubit.Qubit object at 0x00000191A1F45820>, <quantumnet.objects.qubit.Qubit object at 0x00000191A1DFD880>, <quantumnet.objects.qubit.Qubit object at 0x00000191A170E9F0>, <quantumnet.objects.qubit.Qubit object at 0x00000191A170EBD0>, <quantumnet.objects.qubit.Qubit object at 0x00000191A1599EB0>, <quantumnet.objects.qubit.Qubit object at 0x00000191A1CED8E0>, <quantumnet.objects.qubit.Qubit object at 0x00000191A1CEE270>, <quantumnet.objects.qubit.Qubit object at 0x00000191A1FB5C70>, <quantumnet.objects.qubit.Qubit object at 0x00000191A170E570>, <quantumnet.objects.qubit.Qubit object at 0x00000191A1D0B230>]\n",
      "[<quantumnet.objects.qubit.Qubit object at 0x00000191A1FB62D0>, <quantumnet.objects.qubit.Qubit object at 0x00000191A1FB64B0>, <quantumnet.objects.qubit.Qubit object at 0x00000191A1FB66F0>, <quantumnet.objects.qubit.Qubit object at 0x00000191A1FB67E0>, <quantumnet.objects.qubit.Qubit object at 0x00000191A170EC30>, <quantumnet.objects.qubit.Qubit object at 0x00000191A170ED20>, <quantumnet.objects.qubit.Qubit object at 0x00000191A1B764E0>, <quantumnet.objects.qubit.Qubit object at 0x00000191A170F0E0>, <quantumnet.objects.qubit.Qubit object at 0x00000191A1FB6CC0>, <quantumnet.objects.qubit.Qubit object at 0x00000191A1BE72F0>, <quantumnet.objects.qubit.Qubit object at 0x00000191BA16B380>]\n"
     ]
    }
   ],
   "source": [
    "print(alice.memory)\n",
    "print(bob.memory)"
   ]
  },
  {
   "cell_type": "markdown",
   "metadata": {},
   "source": [
    "##### Obtendo o útimo qubit de um dos hosts"
   ]
  },
  {
   "cell_type": "code",
   "execution_count": 6,
   "metadata": {},
   "outputs": [],
   "source": [
    "qub1 = alice.get_last_qubit()\n"
   ]
  },
  {
   "cell_type": "markdown",
   "metadata": {},
   "source": [
    "##### Medindo a fidelidade entre dois qubits\n"
   ]
  },
  {
   "cell_type": "code",
   "execution_count": 7,
   "metadata": {},
   "outputs": [
    {
     "name": "stderr",
     "output_type": "stream",
     "text": [
      "2024-08-12 23:16:05,343: A fidelidade entre o qubit Qubit 1 with state None e o qubit Qubit 2 with state None é 0.07987108393928462\n"
     ]
    },
    {
     "data": {
      "text/plain": [
       "0.07987108393928462"
      ]
     },
     "execution_count": 7,
     "metadata": {},
     "output_type": "execute_result"
    }
   ],
   "source": [
    "#Pode medir a fidelidade por meio dessa função\n",
    "rede.physical.fidelity_measurement(h1,h2)"
   ]
  },
  {
   "cell_type": "markdown",
   "metadata": {},
   "source": [
    "##### Medindo a fidelidade de um qubit\n"
   ]
  },
  {
   "cell_type": "code",
   "execution_count": 8,
   "metadata": {},
   "outputs": [
    {
     "name": "stderr",
     "output_type": "stream",
     "text": [
      "2024-08-12 23:16:05,351: A fidelidade do qubit Qubit 1 with state None é 0.2431266060584807\n"
     ]
    },
    {
     "data": {
      "text/plain": [
       "0.2431266060584807"
      ]
     },
     "execution_count": 8,
     "metadata": {},
     "output_type": "execute_result"
    }
   ],
   "source": [
    "#Pode se medir a fidelidade e acessar de somente um host\n",
    "rede.physical.fidelity_measurement_only_one(h1)"
   ]
  },
  {
   "cell_type": "markdown",
   "metadata": {},
   "source": [
    "##### Criação do protocolo de entrelaçamento entre dois qubits"
   ]
  },
  {
   "cell_type": "code",
   "execution_count": 9,
   "metadata": {},
   "outputs": [
    {
     "name": "stderr",
     "output_type": "stream",
     "text": [
      "2024-08-12 23:16:05,364: A fidelidade entre o qubit Qubit 39 with state None e o qubit Qubit 2 with state None é 0.08142807467639664\n",
      "2024-08-12 23:16:05,365: O protocolo de criação de emaranhamento foi bem sucedido, mas com fidelidade baixa.\n"
     ]
    },
    {
     "data": {
      "text/plain": [
       "False"
      ]
     },
     "execution_count": 9,
     "metadata": {},
     "output_type": "execute_result"
    }
   ],
   "source": [
    "rede.physical.entanglement_creation_heralding_protocol(alice,bob)"
   ]
  },
  {
   "cell_type": "markdown",
   "metadata": {},
   "source": [
    "##### Realiza-se o primeiro protocolo, on demand, que através da fidelidade inicial e da probabilidade de sucesso do on demand determina o sucesso do ECHP"
   ]
  },
  {
   "cell_type": "code",
   "execution_count": 10,
   "metadata": {},
   "outputs": [
    {
     "name": "stderr",
     "output_type": "stream",
     "text": [
      "2024-08-12 23:16:05,373: A fidelidade do qubit Qubit 29 with state None é 0.7069527539397144\n",
      "2024-08-12 23:16:05,373: A fidelidade do qubit Qubit 59 with state None é 0.991991115663641\n",
      "2024-08-12 23:16:05,374: A probabilidade de sucesso do ECHP é 0.3419489716840865\n"
     ]
    },
    {
     "data": {
      "text/plain": [
       "True"
      ]
     },
     "execution_count": 10,
     "metadata": {},
     "output_type": "execute_result"
    }
   ],
   "source": [
    "rede.physical.echp_on_demand(2,5)"
   ]
  },
  {
   "cell_type": "markdown",
   "metadata": {},
   "source": [
    "##### Realiza-se, então, o segundo protocolo, on replay, que através da fidelidade inicial e da probabilidade de sucesso do on replay determina o sucesso do ECHP"
   ]
  },
  {
   "cell_type": "code",
   "execution_count": 11,
   "metadata": {},
   "outputs": [
    {
     "name": "stderr",
     "output_type": "stream",
     "text": [
      "2024-08-12 23:16:05,382: A fidelidade do qubit Qubit 28 with state None é 0.154017211398902\n",
      "2024-08-12 23:16:05,383: A fidelidade do qubit Qubit 58 with state None é 0.4351282092892086\n",
      "2024-08-12 23:16:05,383: A probabilidade de sucesso do ECHP falhou.\n"
     ]
    },
    {
     "data": {
      "text/plain": [
       "False"
      ]
     },
     "execution_count": 11,
     "metadata": {},
     "output_type": "execute_result"
    }
   ],
   "source": [
    "rede.physical.echp_on_replay(2,5)"
   ]
  },
  {
   "cell_type": "markdown",
   "metadata": {},
   "source": [
    "##### Acessando o canal que mostra as probablidades e os pares eprs\n"
   ]
  },
  {
   "cell_type": "code",
   "execution_count": 12,
   "metadata": {},
   "outputs": [
    {
     "data": {
      "text/plain": [
       "{'prob_on_demand_epr_create': 0.48759936215720395,\n",
       " 'prob_replay_epr_create': 0.5209007661668168,\n",
       " 'eprs': [<quantumnet.objects.epr.Epr at 0x191a1fcfbc0>,\n",
       "  <quantumnet.objects.epr.Epr at 0x191a1fb7ec0>,\n",
       "  <quantumnet.objects.epr.Epr at 0x191a1fb7b90>,\n",
       "  <quantumnet.objects.epr.Epr at 0x191a1fcfda0>,\n",
       "  <quantumnet.objects.epr.Epr at 0x191a1fcfe90>,\n",
       "  <quantumnet.objects.epr.Epr at 0x191a1fcffb0>,\n",
       "  <quantumnet.objects.epr.Epr at 0x191a1fceb70>,\n",
       "  <quantumnet.objects.epr.Epr at 0x191a1fcfdd0>,\n",
       "  <quantumnet.objects.epr.Epr at 0x191a1b96420>,\n",
       "  <quantumnet.objects.epr.Epr at 0x191a1fcfce0>,\n",
       "  <quantumnet.objects.epr.Epr at 0x191a1e72c60>]}"
      ]
     },
     "execution_count": 12,
     "metadata": {},
     "output_type": "execute_result"
    }
   ],
   "source": [
    "rede.edges[2,5]"
   ]
  },
  {
   "cell_type": "markdown",
   "metadata": {},
   "source": [
    "##### Acessando o dicionario que contém os pares eprs alocados\n"
   ]
  },
  {
   "cell_type": "code",
   "execution_count": 13,
   "metadata": {},
   "outputs": [
    {
     "data": {
      "text/plain": [
       "{(0, 3): [<quantumnet.objects.epr.Epr at 0x191a170e8a0>,\n",
       "  <quantumnet.objects.epr.Epr at 0x191a1f93e60>,\n",
       "  <quantumnet.objects.epr.Epr at 0x191a1fb6870>,\n",
       "  <quantumnet.objects.epr.Epr at 0x191a1fb69c0>,\n",
       "  <quantumnet.objects.epr.Epr at 0x191a1fb6720>,\n",
       "  <quantumnet.objects.epr.Epr at 0x191a1fb6750>,\n",
       "  <quantumnet.objects.epr.Epr at 0x191a1fb58e0>,\n",
       "  <quantumnet.objects.epr.Epr at 0x191a170ea80>,\n",
       "  <quantumnet.objects.epr.Epr at 0x191a1fb62a0>,\n",
       "  <quantumnet.objects.epr.Epr at 0x191a1fb6ba0>],\n",
       " (0, 1): [<quantumnet.objects.epr.Epr at 0x191a1dfedb0>,\n",
       "  <quantumnet.objects.epr.Epr at 0x191a170e840>,\n",
       "  <quantumnet.objects.epr.Epr at 0x191a1eeeea0>,\n",
       "  <quantumnet.objects.epr.Epr at 0x191a170e5a0>,\n",
       "  <quantumnet.objects.epr.Epr at 0x191a1fb40e0>,\n",
       "  <quantumnet.objects.epr.Epr at 0x191a1fb6fc0>,\n",
       "  <quantumnet.objects.epr.Epr at 0x191a1fb6990>,\n",
       "  <quantumnet.objects.epr.Epr at 0x191a1fb6f30>,\n",
       "  <quantumnet.objects.epr.Epr at 0x191a1fb6f00>,\n",
       "  <quantumnet.objects.epr.Epr at 0x191a1fb70b0>],\n",
       " (1, 4): [<quantumnet.objects.epr.Epr at 0x191a1fcdfd0>,\n",
       "  <quantumnet.objects.epr.Epr at 0x191a1fcc8f0>,\n",
       "  <quantumnet.objects.epr.Epr at 0x191a1fcf080>,\n",
       "  <quantumnet.objects.epr.Epr at 0x191a1fb7290>,\n",
       "  <quantumnet.objects.epr.Epr at 0x191a1fcf1a0>,\n",
       "  <quantumnet.objects.epr.Epr at 0x191a1fcf200>,\n",
       "  <quantumnet.objects.epr.Epr at 0x191a1cef410>,\n",
       "  <quantumnet.objects.epr.Epr at 0x191a1fcee10>,\n",
       "  <quantumnet.objects.epr.Epr at 0x191a1c256a0>,\n",
       "  <quantumnet.objects.epr.Epr at 0x191a1fb75f0>],\n",
       " (1, 2): [<quantumnet.objects.epr.Epr at 0x191a1be7380>,\n",
       "  <quantumnet.objects.epr.Epr at 0x191a176f830>,\n",
       "  <quantumnet.objects.epr.Epr at 0x191a1fcf590>,\n",
       "  <quantumnet.objects.epr.Epr at 0x191a1fb7890>,\n",
       "  <quantumnet.objects.epr.Epr at 0x191a1fcf800>,\n",
       "  <quantumnet.objects.epr.Epr at 0x191a1fb7680>,\n",
       "  <quantumnet.objects.epr.Epr at 0x191a1fb4fe0>,\n",
       "  <quantumnet.objects.epr.Epr at 0x191a1fcf710>,\n",
       "  <quantumnet.objects.epr.Epr at 0x191a1fb78c0>,\n",
       "  <quantumnet.objects.epr.Epr at 0x191a1fb7c20>],\n",
       " (2, 5): [<quantumnet.objects.epr.Epr at 0x191a1fcfbc0>,\n",
       "  <quantumnet.objects.epr.Epr at 0x191a1fb7ec0>,\n",
       "  <quantumnet.objects.epr.Epr at 0x191a1fb7b90>,\n",
       "  <quantumnet.objects.epr.Epr at 0x191a1fcfda0>,\n",
       "  <quantumnet.objects.epr.Epr at 0x191a1fcfe90>,\n",
       "  <quantumnet.objects.epr.Epr at 0x191a1fcffb0>,\n",
       "  <quantumnet.objects.epr.Epr at 0x191a1fceb70>,\n",
       "  <quantumnet.objects.epr.Epr at 0x191a1fcfdd0>,\n",
       "  <quantumnet.objects.epr.Epr at 0x191a1b96420>,\n",
       "  <quantumnet.objects.epr.Epr at 0x191a1fcfce0>,\n",
       "  <quantumnet.objects.epr.Epr at 0x191a1e72c60>],\n",
       " (3, 6): [<quantumnet.objects.epr.Epr at 0x191a1f90320>,\n",
       "  <quantumnet.objects.epr.Epr at 0x191a1e98620>,\n",
       "  <quantumnet.objects.epr.Epr at 0x191a1fce1e0>,\n",
       "  <quantumnet.objects.epr.Epr at 0x191a1d084a0>,\n",
       "  <quantumnet.objects.epr.Epr at 0x191a1ca8860>,\n",
       "  <quantumnet.objects.epr.Epr at 0x191a1fb6d20>,\n",
       "  <quantumnet.objects.epr.Epr at 0x191a1fce5a0>,\n",
       "  <quantumnet.objects.epr.Epr at 0x191a1fceba0>,\n",
       "  <quantumnet.objects.epr.Epr at 0x191a1cd02c0>,\n",
       "  <quantumnet.objects.epr.Epr at 0x191a1ca8890>],\n",
       " (3, 4): [<quantumnet.objects.epr.Epr at 0x191a1fe8ad0>,\n",
       "  <quantumnet.objects.epr.Epr at 0x191a1fe8b90>,\n",
       "  <quantumnet.objects.epr.Epr at 0x191a1f91040>,\n",
       "  <quantumnet.objects.epr.Epr at 0x191a1e48950>,\n",
       "  <quantumnet.objects.epr.Epr at 0x191a1fe8fb0>,\n",
       "  <quantumnet.objects.epr.Epr at 0x191a1fe90d0>,\n",
       "  <quantumnet.objects.epr.Epr at 0x191a1fe8b60>,\n",
       "  <quantumnet.objects.epr.Epr at 0x191a1fe9280>,\n",
       "  <quantumnet.objects.epr.Epr at 0x191a1fe9310>,\n",
       "  <quantumnet.objects.epr.Epr at 0x191a1fe93a0>],\n",
       " (4, 7): [<quantumnet.objects.epr.Epr at 0x191a1fe9400>,\n",
       "  <quantumnet.objects.epr.Epr at 0x191a1fe95b0>,\n",
       "  <quantumnet.objects.epr.Epr at 0x191a1c11760>,\n",
       "  <quantumnet.objects.epr.Epr at 0x191a1fe9160>,\n",
       "  <quantumnet.objects.epr.Epr at 0x191a1dd18e0>,\n",
       "  <quantumnet.objects.epr.Epr at 0x191a15996a0>,\n",
       "  <quantumnet.objects.epr.Epr at 0x191a1fe9100>,\n",
       "  <quantumnet.objects.epr.Epr at 0x191a1fe9a60>,\n",
       "  <quantumnet.objects.epr.Epr at 0x191a1da9b50>,\n",
       "  <quantumnet.objects.epr.Epr at 0x191a1599c70>],\n",
       " (4, 5): [<quantumnet.objects.epr.Epr at 0x191a1fe98b0>,\n",
       "  <quantumnet.objects.epr.Epr at 0x191a1c12660>,\n",
       "  <quantumnet.objects.epr.Epr at 0x191a1fe9d30>,\n",
       "  <quantumnet.objects.epr.Epr at 0x191a1fe9e80>,\n",
       "  <quantumnet.objects.epr.Epr at 0x191a1fe9f10>,\n",
       "  <quantumnet.objects.epr.Epr at 0x191a1fe9fd0>,\n",
       "  <quantumnet.objects.epr.Epr at 0x191a1fea060>,\n",
       "  <quantumnet.objects.epr.Epr at 0x191a1fea1b0>,\n",
       "  <quantumnet.objects.epr.Epr at 0x191a1fea240>,\n",
       "  <quantumnet.objects.epr.Epr at 0x191a1daa630>],\n",
       " (5, 8): [<quantumnet.objects.epr.Epr at 0x191a1e299a0>,\n",
       "  <quantumnet.objects.epr.Epr at 0x191a1fea480>,\n",
       "  <quantumnet.objects.epr.Epr at 0x191a1fea690>,\n",
       "  <quantumnet.objects.epr.Epr at 0x191a1e4a4b0>,\n",
       "  <quantumnet.objects.epr.Epr at 0x191a1d62900>,\n",
       "  <quantumnet.objects.epr.Epr at 0x191a1fea780>,\n",
       "  <quantumnet.objects.epr.Epr at 0x191a1feaa80>,\n",
       "  <quantumnet.objects.epr.Epr at 0x191a1feab10>,\n",
       "  <quantumnet.objects.epr.Epr at 0x191a1feaba0>,\n",
       "  <quantumnet.objects.epr.Epr at 0x191a1fea870>],\n",
       " (6, 7): [<quantumnet.objects.epr.Epr at 0x191a1feadb0>,\n",
       "  <quantumnet.objects.epr.Epr at 0x191a1feaed0>,\n",
       "  <quantumnet.objects.epr.Epr at 0x191a1f93c20>,\n",
       "  <quantumnet.objects.epr.Epr at 0x191a1feab40>,\n",
       "  <quantumnet.objects.epr.Epr at 0x191a1bbb2f0>,\n",
       "  <quantumnet.objects.epr.Epr at 0x191a1e73200>,\n",
       "  <quantumnet.objects.epr.Epr at 0x191a1f93470>,\n",
       "  <quantumnet.objects.epr.Epr at 0x191a1feb1a0>,\n",
       "  <quantumnet.objects.epr.Epr at 0x191a1f93860>,\n",
       "  <quantumnet.objects.epr.Epr at 0x191a1feb140>],\n",
       " (7, 8): [<quantumnet.objects.epr.Epr at 0x191a1c93620>,\n",
       "  <quantumnet.objects.epr.Epr at 0x191a1f93440>,\n",
       "  <quantumnet.objects.epr.Epr at 0x191a1feb590>,\n",
       "  <quantumnet.objects.epr.Epr at 0x191a1f936b0>,\n",
       "  <quantumnet.objects.epr.Epr at 0x191a1f62cf0>,\n",
       "  <quantumnet.objects.epr.Epr at 0x191a1f93a70>,\n",
       "  <quantumnet.objects.epr.Epr at 0x191a1f934d0>,\n",
       "  <quantumnet.objects.epr.Epr at 0x191a1f93ad0>,\n",
       "  <quantumnet.objects.epr.Epr at 0x191a1feb8f0>,\n",
       "  <quantumnet.objects.epr.Epr at 0x191a1f93bf0>]}"
      ]
     },
     "execution_count": 13,
     "metadata": {},
     "output_type": "execute_result"
    }
   ],
   "source": [
    "rede.get_eprs()"
   ]
  }
 ],
 "metadata": {
  "kernelspec": {
   "display_name": "Python 3",
   "language": "python",
   "name": "python3"
  },
  "language_info": {
   "codemirror_mode": {
    "name": "ipython",
    "version": 3
   },
   "file_extension": ".py",
   "mimetype": "text/x-python",
   "name": "python",
   "nbconvert_exporter": "python",
   "pygments_lexer": "ipython3",
   "version": "3.12.1"
  }
 },
 "nbformat": 4,
 "nbformat_minor": 2
}
