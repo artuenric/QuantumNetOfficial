Métrica,Valor
Timeslot Total,31
EPRs Usados,6
Qubits Usados,27
Fidelidade na Camada de Transporte,0.0
Fidelidade na Camada de Enlace,0.38919167759765805
Média de Rotas,2.90625
