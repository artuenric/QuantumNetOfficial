{
 "cells": [
  {
   "cell_type": "code",
   "execution_count": 1,
   "metadata": {},
   "outputs": [],
   "source": [
    "from quantumnet.components import Network, Host\n",
    "from quantumnet.objects import Qubit, Logger\n",
    "import random\n",
    "Logger.activate(Logger)"
   ]
  },
  {
   "cell_type": "code",
   "execution_count": 2,
   "metadata": {},
   "outputs": [
    {
     "name": "stderr",
     "output_type": "stream",
     "text": [
      "2024-09-11 15:46:07,731: Qubit 0 adicionado à memória do Host 0.\n",
      "2024-09-11 15:46:07,733: Qubit 0 criado com fidelidade inicial 0.5424268173779072 e adicionado à memória do Host 0.\n",
      "2024-09-11 15:46:07,734: Qubit 1 adicionado à memória do Host 0.\n",
      "2024-09-11 15:46:07,738: Qubit 1 criado com fidelidade inicial 0.5325703288424478 e adicionado à memória do Host 0.\n",
      "2024-09-11 15:46:07,739: Qubit 2 adicionado à memória do Host 0.\n",
      "2024-09-11 15:46:07,740: Qubit 2 criado com fidelidade inicial 0.5782982082631528 e adicionado à memória do Host 0.\n",
      "2024-09-11 15:46:07,742: Qubit 3 adicionado à memória do Host 0.\n",
      "2024-09-11 15:46:07,743: Qubit 3 criado com fidelidade inicial 0.08600529260620171 e adicionado à memória do Host 0.\n",
      "2024-09-11 15:46:07,744: Qubit 4 adicionado à memória do Host 0.\n",
      "2024-09-11 15:46:07,744: Qubit 4 criado com fidelidade inicial 0.1426063839064945 e adicionado à memória do Host 0.\n",
      "2024-09-11 15:46:07,745: Qubit 5 adicionado à memória do Host 0.\n",
      "2024-09-11 15:46:07,745: Qubit 5 criado com fidelidade inicial 0.7903760084454553 e adicionado à memória do Host 0.\n",
      "2024-09-11 15:46:07,746: Qubit 6 adicionado à memória do Host 0.\n",
      "2024-09-11 15:46:07,747: Qubit 6 criado com fidelidade inicial 0.7703937354525615 e adicionado à memória do Host 0.\n",
      "2024-09-11 15:46:07,748: Qubit 7 adicionado à memória do Host 0.\n",
      "2024-09-11 15:46:07,749: Qubit 7 criado com fidelidade inicial 0.9647631116878298 e adicionado à memória do Host 0.\n",
      "2024-09-11 15:46:07,749: Qubit 8 adicionado à memória do Host 0.\n",
      "2024-09-11 15:46:07,750: Qubit 8 criado com fidelidade inicial 0.24812270626612443 e adicionado à memória do Host 0.\n",
      "2024-09-11 15:46:07,751: Qubit 9 adicionado à memória do Host 0.\n",
      "2024-09-11 15:46:07,752: Qubit 9 criado com fidelidade inicial 0.9800556203122388 e adicionado à memória do Host 0.\n",
      "2024-09-11 15:46:07,753: Qubit 10 adicionado à memória do Host 1.\n",
      "2024-09-11 15:46:07,754: Qubit 10 criado com fidelidade inicial 0.8768635861227249 e adicionado à memória do Host 1.\n",
      "2024-09-11 15:46:07,757: Qubit 11 adicionado à memória do Host 1.\n",
      "2024-09-11 15:46:07,759: Qubit 11 criado com fidelidade inicial 0.5117915846131295 e adicionado à memória do Host 1.\n",
      "2024-09-11 15:46:07,760: Qubit 12 adicionado à memória do Host 1.\n",
      "2024-09-11 15:46:07,761: Qubit 12 criado com fidelidade inicial 0.25863574203160034 e adicionado à memória do Host 1.\n",
      "2024-09-11 15:46:07,762: Qubit 13 adicionado à memória do Host 1.\n",
      "2024-09-11 15:46:07,763: Qubit 13 criado com fidelidade inicial 0.46466222469967866 e adicionado à memória do Host 1.\n",
      "2024-09-11 15:46:07,764: Qubit 14 adicionado à memória do Host 1.\n",
      "2024-09-11 15:46:07,765: Qubit 14 criado com fidelidade inicial 0.043483637192849534 e adicionado à memória do Host 1.\n",
      "2024-09-11 15:46:07,766: Qubit 15 adicionado à memória do Host 1.\n",
      "2024-09-11 15:46:07,767: Qubit 15 criado com fidelidade inicial 0.3506344411798873 e adicionado à memória do Host 1.\n",
      "2024-09-11 15:46:07,768: Qubit 16 adicionado à memória do Host 1.\n",
      "2024-09-11 15:46:07,768: Qubit 16 criado com fidelidade inicial 0.39374604161241533 e adicionado à memória do Host 1.\n",
      "2024-09-11 15:46:07,770: Qubit 17 adicionado à memória do Host 1.\n",
      "2024-09-11 15:46:07,770: Qubit 17 criado com fidelidade inicial 0.762157928183436 e adicionado à memória do Host 1.\n",
      "2024-09-11 15:46:07,772: Qubit 18 adicionado à memória do Host 1.\n",
      "2024-09-11 15:46:07,773: Qubit 18 criado com fidelidade inicial 0.6876544632506585 e adicionado à memória do Host 1.\n",
      "2024-09-11 15:46:07,774: Qubit 19 adicionado à memória do Host 1.\n",
      "2024-09-11 15:46:07,776: Qubit 19 criado com fidelidade inicial 0.19933944540459203 e adicionado à memória do Host 1.\n",
      "2024-09-11 15:46:07,777: Qubit 20 adicionado à memória do Host 2.\n",
      "2024-09-11 15:46:07,777: Qubit 20 criado com fidelidade inicial 0.3099589947999859 e adicionado à memória do Host 2.\n",
      "2024-09-11 15:46:07,778: Qubit 21 adicionado à memória do Host 2.\n",
      "2024-09-11 15:46:07,778: Qubit 21 criado com fidelidade inicial 0.8583683040794577 e adicionado à memória do Host 2.\n",
      "2024-09-11 15:46:07,779: Qubit 22 adicionado à memória do Host 2.\n",
      "2024-09-11 15:46:07,779: Qubit 22 criado com fidelidade inicial 0.9574366652473695 e adicionado à memória do Host 2.\n",
      "2024-09-11 15:46:07,779: Qubit 23 adicionado à memória do Host 2.\n",
      "2024-09-11 15:46:07,780: Qubit 23 criado com fidelidade inicial 0.28907052021556634 e adicionado à memória do Host 2.\n",
      "2024-09-11 15:46:07,781: Qubit 24 adicionado à memória do Host 2.\n",
      "2024-09-11 15:46:07,782: Qubit 24 criado com fidelidade inicial 0.5517487980255938 e adicionado à memória do Host 2.\n",
      "2024-09-11 15:46:07,783: Qubit 25 adicionado à memória do Host 2.\n",
      "2024-09-11 15:46:07,783: Qubit 25 criado com fidelidade inicial 0.3322750889104562 e adicionado à memória do Host 2.\n",
      "2024-09-11 15:46:07,785: Qubit 26 adicionado à memória do Host 2.\n",
      "2024-09-11 15:46:07,786: Qubit 26 criado com fidelidade inicial 0.4889181119539304 e adicionado à memória do Host 2.\n",
      "2024-09-11 15:46:07,787: Qubit 27 adicionado à memória do Host 2.\n",
      "2024-09-11 15:46:07,788: Qubit 27 criado com fidelidade inicial 0.16425995061865517 e adicionado à memória do Host 2.\n",
      "2024-09-11 15:46:07,789: Qubit 28 adicionado à memória do Host 2.\n",
      "2024-09-11 15:46:07,794: Qubit 28 criado com fidelidade inicial 0.3184232854242399 e adicionado à memória do Host 2.\n",
      "2024-09-11 15:46:07,795: Qubit 29 adicionado à memória do Host 2.\n",
      "2024-09-11 15:46:07,796: Qubit 29 criado com fidelidade inicial 0.6055063694870765 e adicionado à memória do Host 2.\n",
      "2024-09-11 15:46:07,797: Qubit 30 adicionado à memória do Host 3.\n",
      "2024-09-11 15:46:07,800: Qubit 30 criado com fidelidade inicial 0.5660485401193628 e adicionado à memória do Host 3.\n",
      "2024-09-11 15:46:07,801: Qubit 31 adicionado à memória do Host 3.\n",
      "2024-09-11 15:46:07,801: Qubit 31 criado com fidelidade inicial 0.9818837033196679 e adicionado à memória do Host 3.\n",
      "2024-09-11 15:46:07,802: Qubit 32 adicionado à memória do Host 3.\n",
      "2024-09-11 15:46:07,802: Qubit 32 criado com fidelidade inicial 0.7433019363064403 e adicionado à memória do Host 3.\n",
      "2024-09-11 15:46:07,803: Qubit 33 adicionado à memória do Host 3.\n",
      "2024-09-11 15:46:07,805: Qubit 33 criado com fidelidade inicial 0.06391928952478843 e adicionado à memória do Host 3.\n",
      "2024-09-11 15:46:07,809: Qubit 34 adicionado à memória do Host 3.\n",
      "2024-09-11 15:46:07,810: Qubit 34 criado com fidelidade inicial 0.9767333404235399 e adicionado à memória do Host 3.\n",
      "2024-09-11 15:46:07,811: Qubit 35 adicionado à memória do Host 3.\n",
      "2024-09-11 15:46:07,812: Qubit 35 criado com fidelidade inicial 0.3655469345154758 e adicionado à memória do Host 3.\n",
      "2024-09-11 15:46:07,813: Qubit 36 adicionado à memória do Host 3.\n",
      "2024-09-11 15:46:07,814: Qubit 36 criado com fidelidade inicial 0.2502982183482009 e adicionado à memória do Host 3.\n",
      "2024-09-11 15:46:07,815: Qubit 37 adicionado à memória do Host 3.\n",
      "2024-09-11 15:46:07,816: Qubit 37 criado com fidelidade inicial 0.1322961763280206 e adicionado à memória do Host 3.\n",
      "2024-09-11 15:46:07,817: Qubit 38 adicionado à memória do Host 3.\n",
      "2024-09-11 15:46:07,818: Qubit 38 criado com fidelidade inicial 0.6152289116600298 e adicionado à memória do Host 3.\n",
      "2024-09-11 15:46:07,818: Qubit 39 adicionado à memória do Host 3.\n",
      "2024-09-11 15:46:07,818: Qubit 39 criado com fidelidade inicial 0.6143122333755247 e adicionado à memória do Host 3.\n",
      "2024-09-11 15:46:07,819: Qubit 40 adicionado à memória do Host 4.\n",
      "2024-09-11 15:46:07,820: Qubit 40 criado com fidelidade inicial 0.9234731234146848 e adicionado à memória do Host 4.\n",
      "2024-09-11 15:46:07,821: Qubit 41 adicionado à memória do Host 4.\n",
      "2024-09-11 15:46:07,822: Qubit 41 criado com fidelidade inicial 0.143878728666337 e adicionado à memória do Host 4.\n",
      "2024-09-11 15:46:07,824: Qubit 42 adicionado à memória do Host 4.\n",
      "2024-09-11 15:46:07,825: Qubit 42 criado com fidelidade inicial 0.511658211112222 e adicionado à memória do Host 4.\n",
      "2024-09-11 15:46:07,825: Qubit 43 adicionado à memória do Host 4.\n",
      "2024-09-11 15:46:07,826: Qubit 43 criado com fidelidade inicial 0.4311038932197414 e adicionado à memória do Host 4.\n",
      "2024-09-11 15:46:07,826: Qubit 44 adicionado à memória do Host 4.\n",
      "2024-09-11 15:46:07,827: Qubit 44 criado com fidelidade inicial 0.03130013926976993 e adicionado à memória do Host 4.\n",
      "2024-09-11 15:46:07,828: Qubit 45 adicionado à memória do Host 4.\n",
      "2024-09-11 15:46:07,829: Qubit 45 criado com fidelidade inicial 0.6380828182518409 e adicionado à memória do Host 4.\n",
      "2024-09-11 15:46:07,829: Qubit 46 adicionado à memória do Host 4.\n",
      "2024-09-11 15:46:07,830: Qubit 46 criado com fidelidade inicial 0.84181426174597 e adicionado à memória do Host 4.\n",
      "2024-09-11 15:46:07,830: Qubit 47 adicionado à memória do Host 4.\n",
      "2024-09-11 15:46:07,831: Qubit 47 criado com fidelidade inicial 0.7005977753331971 e adicionado à memória do Host 4.\n",
      "2024-09-11 15:46:07,831: Qubit 48 adicionado à memória do Host 4.\n",
      "2024-09-11 15:46:07,831: Qubit 48 criado com fidelidade inicial 0.08178589482941034 e adicionado à memória do Host 4.\n",
      "2024-09-11 15:46:07,832: Qubit 49 adicionado à memória do Host 4.\n",
      "2024-09-11 15:46:07,832: Qubit 49 criado com fidelidade inicial 0.8514839496995465 e adicionado à memória do Host 4.\n",
      "2024-09-11 15:46:07,832: Qubit 50 adicionado à memória do Host 5.\n",
      "2024-09-11 15:46:07,833: Qubit 50 criado com fidelidade inicial 0.2957799060765489 e adicionado à memória do Host 5.\n",
      "2024-09-11 15:46:07,834: Qubit 51 adicionado à memória do Host 5.\n",
      "2024-09-11 15:46:07,834: Qubit 51 criado com fidelidade inicial 0.4858793015224464 e adicionado à memória do Host 5.\n",
      "2024-09-11 15:46:07,834: Qubit 52 adicionado à memória do Host 5.\n",
      "2024-09-11 15:46:07,836: Qubit 52 criado com fidelidade inicial 0.05111221899194207 e adicionado à memória do Host 5.\n",
      "2024-09-11 15:46:07,837: Qubit 53 adicionado à memória do Host 5.\n",
      "2024-09-11 15:46:07,839: Qubit 53 criado com fidelidade inicial 0.4442193695683885 e adicionado à memória do Host 5.\n",
      "2024-09-11 15:46:07,842: Qubit 54 adicionado à memória do Host 5.\n",
      "2024-09-11 15:46:07,842: Qubit 54 criado com fidelidade inicial 0.8689773211951064 e adicionado à memória do Host 5.\n",
      "2024-09-11 15:46:07,843: Qubit 55 adicionado à memória do Host 5.\n",
      "2024-09-11 15:46:07,843: Qubit 55 criado com fidelidade inicial 0.1786340464254199 e adicionado à memória do Host 5.\n",
      "2024-09-11 15:46:07,844: Qubit 56 adicionado à memória do Host 5.\n",
      "2024-09-11 15:46:07,845: Qubit 56 criado com fidelidade inicial 0.4471192482206855 e adicionado à memória do Host 5.\n",
      "2024-09-11 15:46:07,846: Qubit 57 adicionado à memória do Host 5.\n",
      "2024-09-11 15:46:07,847: Qubit 57 criado com fidelidade inicial 0.7674280269630638 e adicionado à memória do Host 5.\n",
      "2024-09-11 15:46:07,847: Qubit 58 adicionado à memória do Host 5.\n",
      "2024-09-11 15:46:07,847: Qubit 58 criado com fidelidade inicial 0.04165055033468901 e adicionado à memória do Host 5.\n",
      "2024-09-11 15:46:07,848: Qubit 59 adicionado à memória do Host 5.\n",
      "2024-09-11 15:46:07,848: Qubit 59 criado com fidelidade inicial 0.20944973819274693 e adicionado à memória do Host 5.\n",
      "2024-09-11 15:46:07,850: Qubit 60 adicionado à memória do Host 6.\n",
      "2024-09-11 15:46:07,850: Qubit 60 criado com fidelidade inicial 0.9823858138249186 e adicionado à memória do Host 6.\n",
      "2024-09-11 15:46:07,851: Qubit 61 adicionado à memória do Host 6.\n",
      "2024-09-11 15:46:07,851: Qubit 61 criado com fidelidade inicial 0.5733893442665567 e adicionado à memória do Host 6.\n",
      "2024-09-11 15:46:07,852: Qubit 62 adicionado à memória do Host 6.\n",
      "2024-09-11 15:46:07,853: Qubit 62 criado com fidelidade inicial 0.5308076640084904 e adicionado à memória do Host 6.\n",
      "2024-09-11 15:46:07,854: Qubit 63 adicionado à memória do Host 6.\n",
      "2024-09-11 15:46:07,855: Qubit 63 criado com fidelidade inicial 0.13342682343145507 e adicionado à memória do Host 6.\n",
      "2024-09-11 15:46:07,856: Qubit 64 adicionado à memória do Host 6.\n",
      "2024-09-11 15:46:07,857: Qubit 64 criado com fidelidade inicial 0.42966926896512325 e adicionado à memória do Host 6.\n",
      "2024-09-11 15:46:07,857: Qubit 65 adicionado à memória do Host 6.\n",
      "2024-09-11 15:46:07,858: Qubit 65 criado com fidelidade inicial 0.005315779647889873 e adicionado à memória do Host 6.\n",
      "2024-09-11 15:46:07,858: Qubit 66 adicionado à memória do Host 6.\n",
      "2024-09-11 15:46:07,859: Qubit 66 criado com fidelidade inicial 0.027264319871377785 e adicionado à memória do Host 6.\n",
      "2024-09-11 15:46:07,859: Qubit 67 adicionado à memória do Host 6.\n",
      "2024-09-11 15:46:07,859: Qubit 67 criado com fidelidade inicial 0.6135588862180258 e adicionado à memória do Host 6.\n",
      "2024-09-11 15:46:07,860: Qubit 68 adicionado à memória do Host 6.\n",
      "2024-09-11 15:46:07,860: Qubit 68 criado com fidelidade inicial 0.7635658970065926 e adicionado à memória do Host 6.\n",
      "2024-09-11 15:46:07,861: Qubit 69 adicionado à memória do Host 6.\n",
      "2024-09-11 15:46:07,862: Qubit 69 criado com fidelidade inicial 0.976206619478861 e adicionado à memória do Host 6.\n",
      "2024-09-11 15:46:07,862: Qubit 70 adicionado à memória do Host 7.\n",
      "2024-09-11 15:46:07,862: Qubit 70 criado com fidelidade inicial 0.9606280942124827 e adicionado à memória do Host 7.\n",
      "2024-09-11 15:46:07,863: Qubit 71 adicionado à memória do Host 7.\n",
      "2024-09-11 15:46:07,863: Qubit 71 criado com fidelidade inicial 0.3566861749689282 e adicionado à memória do Host 7.\n",
      "2024-09-11 15:46:07,864: Qubit 72 adicionado à memória do Host 7.\n",
      "2024-09-11 15:46:07,864: Qubit 72 criado com fidelidade inicial 0.8032327105897856 e adicionado à memória do Host 7.\n",
      "2024-09-11 15:46:07,865: Qubit 73 adicionado à memória do Host 7.\n",
      "2024-09-11 15:46:07,865: Qubit 73 criado com fidelidade inicial 0.036140279769353856 e adicionado à memória do Host 7.\n",
      "2024-09-11 15:46:07,865: Qubit 74 adicionado à memória do Host 7.\n",
      "2024-09-11 15:46:07,866: Qubit 74 criado com fidelidade inicial 0.8324784059662593 e adicionado à memória do Host 7.\n",
      "2024-09-11 15:46:07,866: Qubit 75 adicionado à memória do Host 7.\n",
      "2024-09-11 15:46:07,866: Qubit 75 criado com fidelidade inicial 0.05019298185715604 e adicionado à memória do Host 7.\n",
      "2024-09-11 15:46:07,867: Qubit 76 adicionado à memória do Host 7.\n",
      "2024-09-11 15:46:07,867: Qubit 76 criado com fidelidade inicial 0.0790617768596803 e adicionado à memória do Host 7.\n",
      "2024-09-11 15:46:07,868: Qubit 77 adicionado à memória do Host 7.\n",
      "2024-09-11 15:46:07,869: Qubit 77 criado com fidelidade inicial 0.9682822298108276 e adicionado à memória do Host 7.\n",
      "2024-09-11 15:46:07,870: Qubit 78 adicionado à memória do Host 7.\n",
      "2024-09-11 15:46:07,871: Qubit 78 criado com fidelidade inicial 0.8903775020957677 e adicionado à memória do Host 7.\n",
      "2024-09-11 15:46:07,872: Qubit 79 adicionado à memória do Host 7.\n",
      "2024-09-11 15:46:07,873: Qubit 79 criado com fidelidade inicial 0.2176767033837148 e adicionado à memória do Host 7.\n",
      "2024-09-11 15:46:07,874: Qubit 80 adicionado à memória do Host 8.\n",
      "2024-09-11 15:46:07,875: Qubit 80 criado com fidelidade inicial 0.6902211641012475 e adicionado à memória do Host 8.\n",
      "2024-09-11 15:46:07,876: Qubit 81 adicionado à memória do Host 8.\n",
      "2024-09-11 15:46:07,876: Qubit 81 criado com fidelidade inicial 0.1873148637112585 e adicionado à memória do Host 8.\n",
      "2024-09-11 15:46:07,877: Qubit 82 adicionado à memória do Host 8.\n",
      "2024-09-11 15:46:07,878: Qubit 82 criado com fidelidade inicial 0.325769310678394 e adicionado à memória do Host 8.\n",
      "2024-09-11 15:46:07,878: Qubit 83 adicionado à memória do Host 8.\n",
      "2024-09-11 15:46:07,878: Qubit 83 criado com fidelidade inicial 0.9560638224502613 e adicionado à memória do Host 8.\n",
      "2024-09-11 15:46:07,879: Qubit 84 adicionado à memória do Host 8.\n",
      "2024-09-11 15:46:07,879: Qubit 84 criado com fidelidade inicial 0.321300451022011 e adicionado à memória do Host 8.\n",
      "2024-09-11 15:46:07,880: Qubit 85 adicionado à memória do Host 8.\n",
      "2024-09-11 15:46:07,881: Qubit 85 criado com fidelidade inicial 0.39535322680353857 e adicionado à memória do Host 8.\n",
      "2024-09-11 15:46:07,882: Qubit 86 adicionado à memória do Host 8.\n",
      "2024-09-11 15:46:07,883: Qubit 86 criado com fidelidade inicial 0.21688665421605047 e adicionado à memória do Host 8.\n",
      "2024-09-11 15:46:07,883: Qubit 87 adicionado à memória do Host 8.\n",
      "2024-09-11 15:46:07,884: Qubit 87 criado com fidelidade inicial 0.7640254682256701 e adicionado à memória do Host 8.\n",
      "2024-09-11 15:46:07,884: Qubit 88 adicionado à memória do Host 8.\n",
      "2024-09-11 15:46:07,884: Qubit 88 criado com fidelidade inicial 0.1603940813593323 e adicionado à memória do Host 8.\n",
      "2024-09-11 15:46:07,885: Qubit 89 adicionado à memória do Host 8.\n",
      "2024-09-11 15:46:07,886: Qubit 89 criado com fidelidade inicial 0.7387481529457184 e adicionado à memória do Host 8.\n",
      "2024-09-11 15:46:07,888: Par EPR <quantumnet.objects.epr.Epr object at 0x7e76783db7d0> adicionado ao canal.\n",
      "2024-09-11 15:46:07,889: Par EPR <quantumnet.objects.epr.Epr object at 0x7e7672b7ee70> adicionado ao canal.\n",
      "2024-09-11 15:46:07,890: Par EPR <quantumnet.objects.epr.Epr object at 0x7e7672b7f6e0> adicionado ao canal.\n",
      "2024-09-11 15:46:07,894: Par EPR <quantumnet.objects.epr.Epr object at 0x7e7672bbe660> adicionado ao canal.\n",
      "2024-09-11 15:46:07,895: Par EPR <quantumnet.objects.epr.Epr object at 0x7e7672bbf560> adicionado ao canal.\n",
      "2024-09-11 15:46:07,897: Par EPR <quantumnet.objects.epr.Epr object at 0x7e7672b7f830> adicionado ao canal.\n",
      "2024-09-11 15:46:07,898: Par EPR <quantumnet.objects.epr.Epr object at 0x7e7672b7f590> adicionado ao canal.\n",
      "2024-09-11 15:46:07,900: Par EPR <quantumnet.objects.epr.Epr object at 0x7e7672bbf3b0> adicionado ao canal.\n",
      "2024-09-11 15:46:07,901: Par EPR <quantumnet.objects.epr.Epr object at 0x7e7672bbf710> adicionado ao canal.\n",
      "2024-09-11 15:46:07,901: Par EPR <quantumnet.objects.epr.Epr object at 0x7e7672bbf9b0> adicionado ao canal.\n",
      "2024-09-11 15:46:07,902: Par EPR <quantumnet.objects.epr.Epr object at 0x7e7672bbd3d0> adicionado ao canal.\n",
      "2024-09-11 15:46:07,903: Par EPR <quantumnet.objects.epr.Epr object at 0x7e7672b7fc80> adicionado ao canal.\n",
      "2024-09-11 15:46:07,904: Par EPR <quantumnet.objects.epr.Epr object at 0x7e7672b7faa0> adicionado ao canal.\n",
      "2024-09-11 15:46:07,905: Par EPR <quantumnet.objects.epr.Epr object at 0x7e7672bbfb00> adicionado ao canal.\n",
      "2024-09-11 15:46:07,906: Par EPR <quantumnet.objects.epr.Epr object at 0x7e7672b7f950> adicionado ao canal.\n",
      "2024-09-11 15:46:07,909: Par EPR <quantumnet.objects.epr.Epr object at 0x7e7672b7fcb0> adicionado ao canal.\n",
      "2024-09-11 15:46:07,909: Par EPR <quantumnet.objects.epr.Epr object at 0x7e7672b7fda0> adicionado ao canal.\n",
      "2024-09-11 15:46:07,910: Par EPR <quantumnet.objects.epr.Epr object at 0x7e7672bbf530> adicionado ao canal.\n",
      "2024-09-11 15:46:07,911: Par EPR <quantumnet.objects.epr.Epr object at 0x7e7672bbfbc0> adicionado ao canal.\n",
      "2024-09-11 15:46:07,913: Par EPR <quantumnet.objects.epr.Epr object at 0x7e7672bbf650> adicionado ao canal.\n",
      "2024-09-11 15:46:07,914: Par EPR <quantumnet.objects.epr.Epr object at 0x7e7672bbf8f0> adicionado ao canal.\n",
      "2024-09-11 15:46:07,914: Par EPR <quantumnet.objects.epr.Epr object at 0x7e7672bbfd70> adicionado ao canal.\n",
      "2024-09-11 15:46:07,914: Par EPR <quantumnet.objects.epr.Epr object at 0x7e7672bbfad0> adicionado ao canal.\n",
      "2024-09-11 15:46:07,915: Par EPR <quantumnet.objects.epr.Epr object at 0x7e7672bbff50> adicionado ao canal.\n",
      "2024-09-11 15:46:07,915: Par EPR <quantumnet.objects.epr.Epr object at 0x7e7672bbfef0> adicionado ao canal.\n",
      "2024-09-11 15:46:07,916: Par EPR <quantumnet.objects.epr.Epr object at 0x7e7672bbff20> adicionado ao canal.\n",
      "2024-09-11 15:46:07,916: Par EPR <quantumnet.objects.epr.Epr object at 0x7e7672bd4170> adicionado ao canal.\n",
      "2024-09-11 15:46:07,917: Par EPR <quantumnet.objects.epr.Epr object at 0x7e7672bbffe0> adicionado ao canal.\n",
      "2024-09-11 15:46:07,918: Par EPR <quantumnet.objects.epr.Epr object at 0x7e7678044440> adicionado ao canal.\n",
      "2024-09-11 15:46:07,918: Par EPR <quantumnet.objects.epr.Epr object at 0x7e7672bbc500> adicionado ao canal.\n",
      "2024-09-11 15:46:07,919: Par EPR <quantumnet.objects.epr.Epr object at 0x7e7672bbfe00> adicionado ao canal.\n",
      "2024-09-11 15:46:07,919: Par EPR <quantumnet.objects.epr.Epr object at 0x7e7672bd43e0> adicionado ao canal.\n",
      "2024-09-11 15:46:07,920: Par EPR <quantumnet.objects.epr.Epr object at 0x7e7672bbc680> adicionado ao canal.\n",
      "2024-09-11 15:46:07,921: Par EPR <quantumnet.objects.epr.Epr object at 0x7e76781f7ce0> adicionado ao canal.\n",
      "2024-09-11 15:46:07,921: Par EPR <quantumnet.objects.epr.Epr object at 0x7e7672bd4710> adicionado ao canal.\n",
      "2024-09-11 15:46:07,923: Par EPR <quantumnet.objects.epr.Epr object at 0x7e7672b64770> adicionado ao canal.\n",
      "2024-09-11 15:46:07,923: Par EPR <quantumnet.objects.epr.Epr object at 0x7e7672bd4860> adicionado ao canal.\n",
      "2024-09-11 15:46:07,924: Par EPR <quantumnet.objects.epr.Epr object at 0x7e7672bd4950> adicionado ao canal.\n",
      "2024-09-11 15:46:07,925: Par EPR <quantumnet.objects.epr.Epr object at 0x7e7672bd4800> adicionado ao canal.\n",
      "2024-09-11 15:46:07,926: Par EPR <quantumnet.objects.epr.Epr object at 0x7e7672bbcb90> adicionado ao canal.\n",
      "2024-09-11 15:46:07,927: Par EPR <quantumnet.objects.epr.Epr object at 0x7e7672bd41d0> adicionado ao canal.\n",
      "2024-09-11 15:46:07,927: Par EPR <quantumnet.objects.epr.Epr object at 0x7e7672b64bc0> adicionado ao canal.\n",
      "2024-09-11 15:46:07,928: Par EPR <quantumnet.objects.epr.Epr object at 0x7e7672bd4c20> adicionado ao canal.\n",
      "2024-09-11 15:46:07,928: Par EPR <quantumnet.objects.epr.Epr object at 0x7e7672bd4d10> adicionado ao canal.\n",
      "2024-09-11 15:46:07,929: Par EPR <quantumnet.objects.epr.Epr object at 0x7e7672bd4590> adicionado ao canal.\n",
      "2024-09-11 15:46:07,929: Par EPR <quantumnet.objects.epr.Epr object at 0x7e7672bd4e90> adicionado ao canal.\n",
      "2024-09-11 15:46:07,930: Par EPR <quantumnet.objects.epr.Epr object at 0x7e7672bd4f50> adicionado ao canal.\n",
      "2024-09-11 15:46:07,930: Par EPR <quantumnet.objects.epr.Epr object at 0x7e7672bd5010> adicionado ao canal.\n",
      "2024-09-11 15:46:07,930: Par EPR <quantumnet.objects.epr.Epr object at 0x7e7672bd5070> adicionado ao canal.\n",
      "2024-09-11 15:46:07,931: Par EPR <quantumnet.objects.epr.Epr object at 0x7e7672bbcb60> adicionado ao canal.\n",
      "2024-09-11 15:46:07,931: Par EPR <quantumnet.objects.epr.Epr object at 0x7e7672bd4ad0> adicionado ao canal.\n",
      "2024-09-11 15:46:07,931: Par EPR <quantumnet.objects.epr.Epr object at 0x7e7672bd4dd0> adicionado ao canal.\n",
      "2024-09-11 15:46:07,932: Par EPR <quantumnet.objects.epr.Epr object at 0x7e7672bd4c80> adicionado ao canal.\n",
      "2024-09-11 15:46:07,932: Par EPR <quantumnet.objects.epr.Epr object at 0x7e7672bd5340> adicionado ao canal.\n",
      "2024-09-11 15:46:07,932: Par EPR <quantumnet.objects.epr.Epr object at 0x7e7672bd5400> adicionado ao canal.\n",
      "2024-09-11 15:46:07,932: Par EPR <quantumnet.objects.epr.Epr object at 0x7e7672bd5460> adicionado ao canal.\n",
      "2024-09-11 15:46:07,933: Par EPR <quantumnet.objects.epr.Epr object at 0x7e7672bd5520> adicionado ao canal.\n",
      "2024-09-11 15:46:07,933: Par EPR <quantumnet.objects.epr.Epr object at 0x7e7672bd5580> adicionado ao canal.\n",
      "2024-09-11 15:46:07,933: Par EPR <quantumnet.objects.epr.Epr object at 0x7e7672bbd370> adicionado ao canal.\n",
      "2024-09-11 15:46:07,934: Par EPR <quantumnet.objects.epr.Epr object at 0x7e7672bd5280> adicionado ao canal.\n",
      "2024-09-11 15:46:07,935: Par EPR <quantumnet.objects.epr.Epr object at 0x7e7672bbd490> adicionado ao canal.\n",
      "2024-09-11 15:46:07,936: Par EPR <quantumnet.objects.epr.Epr object at 0x7e7672bd5730> adicionado ao canal.\n",
      "2024-09-11 15:46:07,937: Par EPR <quantumnet.objects.epr.Epr object at 0x7e7672bd57f0> adicionado ao canal.\n",
      "2024-09-11 15:46:07,938: Par EPR <quantumnet.objects.epr.Epr object at 0x7e7672b657c0> adicionado ao canal.\n",
      "2024-09-11 15:46:07,939: Par EPR <quantumnet.objects.epr.Epr object at 0x7e7672b7d8b0> adicionado ao canal.\n",
      "2024-09-11 15:46:07,940: Par EPR <quantumnet.objects.epr.Epr object at 0x7e7672bd5850> adicionado ao canal.\n",
      "2024-09-11 15:46:07,942: Par EPR <quantumnet.objects.epr.Epr object at 0x7e7672bd5640> adicionado ao canal.\n",
      "2024-09-11 15:46:07,942: Par EPR <quantumnet.objects.epr.Epr object at 0x7e7672bbdbe0> adicionado ao canal.\n",
      "2024-09-11 15:46:07,943: Par EPR <quantumnet.objects.epr.Epr object at 0x7e7672bbdc70> adicionado ao canal.\n",
      "2024-09-11 15:46:07,944: Par EPR <quantumnet.objects.epr.Epr object at 0x7e7672b7dd00> adicionado ao canal.\n",
      "2024-09-11 15:46:07,944: Par EPR <quantumnet.objects.epr.Epr object at 0x7e7672bd44a0> adicionado ao canal.\n",
      "2024-09-11 15:46:07,945: Par EPR <quantumnet.objects.epr.Epr object at 0x7e7672bd5a90> adicionado ao canal.\n",
      "2024-09-11 15:46:07,946: Par EPR <quantumnet.objects.epr.Epr object at 0x7e7672bbdd90> adicionado ao canal.\n",
      "2024-09-11 15:46:07,947: Par EPR <quantumnet.objects.epr.Epr object at 0x7e7672bd5ca0> adicionado ao canal.\n",
      "2024-09-11 15:46:07,947: Par EPR <quantumnet.objects.epr.Epr object at 0x7e7672bd5940> adicionado ao canal.\n",
      "2024-09-11 15:46:07,948: Par EPR <quantumnet.objects.epr.Epr object at 0x7e7672b7dc10> adicionado ao canal.\n",
      "2024-09-11 15:46:07,950: Par EPR <quantumnet.objects.epr.Epr object at 0x7e7672bd5f40> adicionado ao canal.\n",
      "2024-09-11 15:46:07,950: Par EPR <quantumnet.objects.epr.Epr object at 0x7e7672bd5af0> adicionado ao canal.\n",
      "2024-09-11 15:46:07,951: Par EPR <quantumnet.objects.epr.Epr object at 0x7e7672bd6060> adicionado ao canal.\n",
      "2024-09-11 15:46:07,951: Par EPR <quantumnet.objects.epr.Epr object at 0x7e7672bd5fa0> adicionado ao canal.\n",
      "2024-09-11 15:46:07,952: Par EPR <quantumnet.objects.epr.Epr object at 0x7e7672bd5ac0> adicionado ao canal.\n",
      "2024-09-11 15:46:07,952: Par EPR <quantumnet.objects.epr.Epr object at 0x7e7672bd6150> adicionado ao canal.\n",
      "2024-09-11 15:46:07,954: Par EPR <quantumnet.objects.epr.Epr object at 0x7e7672bd61e0> adicionado ao canal.\n",
      "2024-09-11 15:46:07,954: Par EPR <quantumnet.objects.epr.Epr object at 0x7e7672bd6000> adicionado ao canal.\n",
      "2024-09-11 15:46:07,955: Par EPR <quantumnet.objects.epr.Epr object at 0x7e7672bd62a0> adicionado ao canal.\n",
      "2024-09-11 15:46:07,956: Par EPR <quantumnet.objects.epr.Epr object at 0x7e7672b7dfd0> adicionado ao canal.\n",
      "2024-09-11 15:46:07,957: Par EPR <quantumnet.objects.epr.Epr object at 0x7e7672bd6300> adicionado ao canal.\n",
      "2024-09-11 15:46:07,958: Par EPR <quantumnet.objects.epr.Epr object at 0x7e7672bd6360> adicionado ao canal.\n",
      "2024-09-11 15:46:07,959: Par EPR <quantumnet.objects.epr.Epr object at 0x7e7672b7e090> adicionado ao canal.\n",
      "2024-09-11 15:46:07,959: Par EPR <quantumnet.objects.epr.Epr object at 0x7e7672bd63c0> adicionado ao canal.\n",
      "2024-09-11 15:46:07,960: Par EPR <quantumnet.objects.epr.Epr object at 0x7e7672bd5eb0> adicionado ao canal.\n",
      "2024-09-11 15:46:07,960: Par EPR <quantumnet.objects.epr.Epr object at 0x7e7672bd6240> adicionado ao canal.\n",
      "2024-09-11 15:46:07,960: Par EPR <quantumnet.objects.epr.Epr object at 0x7e7672bd6630> adicionado ao canal.\n",
      "2024-09-11 15:46:07,961: Par EPR <quantumnet.objects.epr.Epr object at 0x7e767836e2d0> adicionado ao canal.\n",
      "2024-09-11 15:46:07,961: Par EPR <quantumnet.objects.epr.Epr object at 0x7e7678396180> adicionado ao canal.\n",
      "2024-09-11 15:46:07,961: Par EPR <quantumnet.objects.epr.Epr object at 0x7e7672bd6510> adicionado ao canal.\n",
      "2024-09-11 15:46:07,962: Par EPR <quantumnet.objects.epr.Epr object at 0x7e7672bd6480> adicionado ao canal.\n",
      "2024-09-11 15:46:07,962: Par EPR <quantumnet.objects.epr.Epr object at 0x7e7672bd67e0> adicionado ao canal.\n",
      "2024-09-11 15:46:07,963: Par EPR <quantumnet.objects.epr.Epr object at 0x7e7672b7e7b0> adicionado ao canal.\n",
      "2024-09-11 15:46:07,963: Par EPR <quantumnet.objects.epr.Epr object at 0x7e7672bd6840> adicionado ao canal.\n",
      "2024-09-11 15:46:07,963: Par EPR <quantumnet.objects.epr.Epr object at 0x7e7672bd6390> adicionado ao canal.\n",
      "2024-09-11 15:46:07,964: Par EPR <quantumnet.objects.epr.Epr object at 0x7e7672bd6990> adicionado ao canal.\n",
      "2024-09-11 15:46:07,964: Par EPR <quantumnet.objects.epr.Epr object at 0x7e76783969f0> adicionado ao canal.\n",
      "2024-09-11 15:46:07,965: Par EPR <quantumnet.objects.epr.Epr object at 0x7e7672b7ec60> adicionado ao canal.\n",
      "2024-09-11 15:46:07,965: Par EPR <quantumnet.objects.epr.Epr object at 0x7e7672bd6ae0> adicionado ao canal.\n",
      "2024-09-11 15:46:07,965: Par EPR <quantumnet.objects.epr.Epr object at 0x7e7672bd6ba0> adicionado ao canal.\n",
      "2024-09-11 15:46:07,966: Par EPR <quantumnet.objects.epr.Epr object at 0x7e7672bbee40> adicionado ao canal.\n",
      "2024-09-11 15:46:07,966: Par EPR <quantumnet.objects.epr.Epr object at 0x7e767351edb0> adicionado ao canal.\n",
      "2024-09-11 15:46:07,966: Par EPR <quantumnet.objects.epr.Epr object at 0x7e7672bd6930> adicionado ao canal.\n",
      "2024-09-11 15:46:07,967: Par EPR <quantumnet.objects.epr.Epr object at 0x7e7672bd6a50> adicionado ao canal.\n",
      "2024-09-11 15:46:07,968: Par EPR <quantumnet.objects.epr.Epr object at 0x7e7672bd6720> adicionado ao canal.\n",
      "2024-09-11 15:46:07,968: Par EPR <quantumnet.objects.epr.Epr object at 0x7e7672bd6f60> adicionado ao canal.\n",
      "2024-09-11 15:46:07,970: Par EPR <quantumnet.objects.epr.Epr object at 0x7e7672bbf1a0> adicionado ao canal.\n",
      "2024-09-11 15:46:07,970: Par EPR <quantumnet.objects.epr.Epr object at 0x7e7672b7ea20> adicionado ao canal.\n",
      "2024-09-11 15:46:07,971: Par EPR <quantumnet.objects.epr.Epr object at 0x7e7672bd7110> adicionado ao canal.\n",
      "2024-09-11 15:46:07,972: Par EPR <quantumnet.objects.epr.Epr object at 0x7e7672bd6cf0> adicionado ao canal.\n",
      "2024-09-11 15:46:07,973: Par EPR <quantumnet.objects.epr.Epr object at 0x7e7672bd70b0> adicionado ao canal.\n",
      "2024-09-11 15:46:07,973: Par EPR <quantumnet.objects.epr.Epr object at 0x7e7672bd7260> adicionado ao canal.\n",
      "2024-09-11 15:46:07,974: Par EPR <quantumnet.objects.epr.Epr object at 0x7e7672b7f290> adicionado ao canal.\n",
      "2024-09-11 15:46:07,975: Par EPR <quantumnet.objects.epr.Epr object at 0x7e7672bd72f0> adicionado ao canal.\n"
     ]
    },
    {
     "name": "stdout",
     "output_type": "stream",
     "text": [
      "Hosts inicializados\n",
      "Canais inicializados\n",
      "Pares EPRs adicionados\n"
     ]
    },
    {
     "data": {
      "image/png": "[encoded data removed]",
      "text/plain": [
       "<Figure size 640x480 with 1 Axes>"
      ]
     },
     "metadata": {},
     "output_type": "display_data"
    }
   ],
   "source": [
    "rede = Network()\n",
    "rede.set_ready_topology(\"Grade\", 3,3)\n",
    "rede.draw()"
   ]
  },
  {
   "cell_type": "code",
   "execution_count": 3,
   "metadata": {},
   "outputs": [],
   "source": [
    "alice = rede.get_host(3)\n",
    "bob = rede.get_host(4)"
   ]
  },
  {
   "cell_type": "code",
   "execution_count": 4,
   "metadata": {},
   "outputs": [
    {
     "name": "stderr",
     "output_type": "stream",
     "text": [
      "2024-09-11 15:46:08,841: Timeslot 1: Par epr criado com fidelidade 0.5230770068233414\n",
      "2024-09-11 15:46:08,857: Timeslot 2: O protocolo de criação de emaranhamento foi bem sucedido, mas com fidelidade baixa.\n"
     ]
    },
    {
     "data": {
      "text/plain": [
       "False"
      ]
     },
     "execution_count": 4,
     "metadata": {},
     "output_type": "execute_result"
    }
   ],
   "source": [
    "rede.physical.entanglement_creation_heralding_protocol(alice,bob)"
   ]
  },
  {
   "cell_type": "code",
   "execution_count": 5,
   "metadata": {},
   "outputs": [
    {
     "name": "stderr",
     "output_type": "stream",
     "text": [
      "2024-09-11 15:46:08,951: Timeslot 3: Tentativa de emaranhamento entre 1 e 2.\n",
      "2024-09-11 15:46:08,976: Timeslot 4: Par epr criado com fidelidade 0.12070130388250182\n",
      "2024-09-11 15:46:08,983: Timeslot 5: O protocolo de criação de emaranhamento foi bem sucedido, mas com fidelidade baixa.\n",
      "2024-09-11 15:46:08,984: Timeslot 5: Entrelaçamento falhou entre 1 e 2 na tentativa 1.\n",
      "2024-09-11 15:46:08,984: Timeslot 6: Tentativa de emaranhamento entre 1 e 2.\n",
      "2024-09-11 15:46:08,985: Timeslot 7: Par epr criado com fidelidade 0.21896519342491694\n",
      "2024-09-11 15:46:08,989: Timeslot 8: O protocolo de criação de emaranhamento foi bem sucedido, mas com fidelidade baixa.\n",
      "2024-09-11 15:46:08,993: Timeslot 8: Entrelaçamento falhou entre 1 e 2 na tentativa 2.\n",
      "2024-09-11 15:46:08,994: A purificação utilizada foi tipo 1.\n",
      "2024-09-11 15:46:09,003: Timeslot 9: Purificação falhou no canal (1, 2) devido a baixa fidelidade após purificação.\n"
     ]
    },
    {
     "data": {
      "text/plain": [
       "False"
      ]
     },
     "execution_count": 5,
     "metadata": {},
     "output_type": "execute_result"
    }
   ],
   "source": [
    "rede.linklayer.request(1,2)"
   ]
  },
  {
   "cell_type": "code",
   "execution_count": 6,
   "metadata": {},
   "outputs": [
    {
     "name": "stderr",
     "output_type": "stream",
     "text": [
      "2024-09-11 15:46:09,101: Timeslot 10: Buscando rota válida entre 8 e 0.\n",
      "2024-09-11 15:46:09,110: Rota válida encontrada: [8, 5, 2, 1, 0]\n"
     ]
    },
    {
     "name": "stderr",
     "output_type": "stream",
     "text": [
      "2024-09-11 15:46:09,111: Timeslot 11: Realizando Entanglement Swapping.\n",
      "2024-09-11 15:46:09,114: Par EPR <quantumnet.objects.epr.Epr object at 0x7e766809e5a0> adicionado ao canal (8, 2).\n",
      "2024-09-11 15:46:09,115: Par EPR <quantumnet.objects.epr.Epr object at 0x7e7672bd5eb0> removido do canal (8, 5).\n",
      "2024-09-11 15:46:09,116: Par EPR <quantumnet.objects.epr.Epr object at 0x7e7672bd41d0> removido do canal (5, 2).\n",
      "2024-09-11 15:46:09,119: Timeslot 12: Realizando Entanglement Swapping.\n",
      "2024-09-11 15:46:09,120: Par EPR <quantumnet.objects.epr.Epr object at 0x7e7672bd41d0> adicionado ao canal (8, 1).\n",
      "2024-09-11 15:46:09,123: Par EPR <quantumnet.objects.epr.Epr object at 0x7e766809e5a0> removido do canal (8, 2).\n",
      "2024-09-11 15:46:09,129: Par EPR <quantumnet.objects.epr.Epr object at 0x7e7672bbfe00> removido do canal (2, 1).\n",
      "2024-09-11 15:46:09,130: Timeslot 13: Realizando Entanglement Swapping.\n",
      "2024-09-11 15:46:09,130: Par EPR <quantumnet.objects.epr.Epr object at 0x7e7672bbfe00> adicionado ao canal (8, 0).\n",
      "2024-09-11 15:46:09,132: Par EPR <quantumnet.objects.epr.Epr object at 0x7e7672bd41d0> removido do canal (8, 1).\n",
      "2024-09-11 15:46:09,133: Par EPR <quantumnet.objects.epr.Epr object at 0x7e7672bbd3d0> removido do canal (1, 0).\n",
      "2024-09-11 15:46:09,133: Timeslot 14: Realizando Entanglement Swapping.\n",
      "2024-09-11 15:46:09,134: Entanglement Swapping concluído com sucesso entre 8 e 0\n"
     ]
    },
    {
     "data": {
      "text/plain": [
       "True"
      ]
     },
     "execution_count": 6,
     "metadata": {},
     "output_type": "execute_result"
    }
   ],
   "source": [
    "rede.networklayer.entanglement_swapping(8,0)\n"
   ]
  },
  {
   "cell_type": "code",
   "execution_count": 7,
   "metadata": {},
   "outputs": [
    {
     "name": "stderr",
     "output_type": "stream",
     "text": [
      "2024-09-11 15:46:09,181: -1 qubits criados para Alice (Host 0). Alice agora possui 10 qubits na memória.\n",
      "2024-09-11 15:46:09,183: Timeslot 15: Buscando rota válida entre 0 e 8.\n",
      "2024-09-11 15:46:09,186: Rota válida encontrada: [0, 8]\n",
      "2024-09-11 15:46:09,186: Timeslot 16: Buscando rota válida entre 0 e 8.\n",
      "2024-09-11 15:46:09,187: Rota válida encontrada: [0, 8]\n",
      "2024-09-11 15:46:09,187: Timeslot 17: Buscando rota válida entre 0 e 8.\n",
      "2024-09-11 15:46:09,189: Rota válida encontrada: [0, 8]\n",
      "2024-09-11 15:46:09,190: Timeslot 18: Buscando rota válida entre 0 e 8.\n",
      "2024-09-11 15:46:09,190: Rota válida encontrada: [0, 8]\n",
      "2024-09-11 15:46:09,191: Timeslot 19: Buscando rota válida entre 0 e 8.\n",
      "2024-09-11 15:46:09,192: Rota válida encontrada: [0, 8]\n",
      "2024-09-11 15:46:09,193: Timeslot 20: Buscando rota válida entre 0 e 8.\n",
      "2024-09-11 15:46:09,194: Rota válida encontrada: [0, 8]\n",
      "2024-09-11 15:46:09,194: Timeslot 21: Buscando rota válida entre 0 e 8.\n",
      "2024-09-11 15:46:09,195: Rota válida encontrada: [0, 8]\n",
      "2024-09-11 15:46:09,196: Timeslot 22: Buscando rota válida entre 0 e 8.\n",
      "2024-09-11 15:46:09,198: Rota válida encontrada: [0, 8]\n",
      "2024-09-11 15:46:09,198: Timeslot 23: Buscando rota válida entre 0 e 8.\n",
      "2024-09-11 15:46:09,199: Rota válida encontrada: [0, 8]\n",
      "2024-09-11 15:46:09,199: Teletransporte de qubit de 0 para 8 na rota [0, 8] foi bem-sucedido com fidelidade final de 0.5424268173779072. Timeslot: 24\n",
      "2024-09-11 15:46:09,199: Teletransporte de qubit de 0 para 8 na rota [0, 8] foi bem-sucedido com fidelidade final de 0.5325703288424478. Timeslot: 25\n",
      "2024-09-11 15:46:09,200: Teletransporte de qubit de 0 para 8 na rota [0, 8] foi bem-sucedido com fidelidade final de 0.5782982082631528. Timeslot: 26\n",
      "2024-09-11 15:46:09,201: Teletransporte de qubit de 0 para 8 na rota [0, 8] foi bem-sucedido com fidelidade final de 0.08600529260620171. Timeslot: 27\n",
      "2024-09-11 15:46:09,201: Teletransporte de qubit de 0 para 8 na rota [0, 8] foi bem-sucedido com fidelidade final de 0.1426063839064945. Timeslot: 28\n",
      "2024-09-11 15:46:09,201: Teletransporte de qubit de 0 para 8 na rota [0, 8] foi bem-sucedido com fidelidade final de 0.7903760084454553. Timeslot: 29\n",
      "2024-09-11 15:46:09,202: Teletransporte de qubit de 0 para 8 na rota [0, 8] foi bem-sucedido com fidelidade final de 0.7703937354525615. Timeslot: 30\n",
      "2024-09-11 15:46:09,202: Teletransporte de qubit de 0 para 8 na rota [0, 8] foi bem-sucedido com fidelidade final de 0.9647631116878298. Timeslot: 31\n",
      "2024-09-11 15:46:09,203: Teletransporte de qubit de 0 para 8 na rota [0, 8] foi bem-sucedido com fidelidade final de 0.24812270626612443. Timeslot: 32\n",
      "2024-09-11 15:46:09,203: Transmissão e teletransporte de 9 qubits entre 0 e 8 concluídos com sucesso. Timeslot: 32\n"
     ]
    },
    {
     "data": {
      "text/plain": [
       "True"
      ]
     },
     "execution_count": 7,
     "metadata": {},
     "output_type": "execute_result"
    }
   ],
   "source": [
    "rede.transportlayer.run_transport_layer(0,8,9)"
   ]
  },
  {
   "cell_type": "code",
   "execution_count": 8,
   "metadata": {},
   "outputs": [
    {
     "name": "stderr",
     "output_type": "stream",
     "text": [
      "2024-09-11 15:46:09,264: Iniciando protocolo E91 com 20 qubits.\n",
      "2024-09-11 15:46:09,265: Timeslot incrementado na função prepare_e91_qubits: 33\n",
      "2024-09-11 15:46:09,266: Qubits preparados com a chave: [0, 0, 0, 0, 0, 1, 1, 1, 1, 0, 0, 1, 1, 0, 1, 1, 0, 0, 0, 1] e bases: [0, 1, 0, 1, 0, 0, 1, 0, 1, 0, 1, 1, 0, 1, 1, 1, 0, 0, 1, 1]\n",
      "2024-09-11 15:46:09,267: Timeslot incrementado na função apply_bases_and_measure_e91: 34\n",
      "2024-09-11 15:46:09,267: Resultados das medições: [0, 0, 0, 1, 0, 1, 1, 1, 0, 1, 1, 1, 0, 1, 0, 0, 0, 0, 1, 1] com bases: [0, 0, 1, 1, 0, 1, 0, 0, 1, 1, 0, 0, 1, 0, 1, 0, 0, 1, 0, 0]\n",
      "2024-09-11 15:46:09,268: Índices comuns: [0, 3, 4, 7, 8, 14, 16]\n",
      "2024-09-11 15:46:09,269: Transmitindo 4 qubits coincidentes de Alice (ID 0) para Bob (ID 8).\n",
      "2024-09-11 15:46:09,271: Número insuficiente de qubits na memória de Alice (Host 0). Criando mais qubits para completar os 4 necessários.\n",
      "2024-09-11 15:46:09,272: Timeslot antes da criação do qubit: 35\n",
      "2024-09-11 15:46:09,274: Qubit 90 adicionado à memória do Host 0.\n",
      "2024-09-11 15:46:09,276: Qubit 90 criado com fidelidade inicial 0.18320540459633217 e adicionado à memória do Host 0.\n",
      "2024-09-11 15:46:09,277: Qubit criado para Alice (Host 0) no timeslot: 36\n",
      "2024-09-11 15:46:09,277: Timeslot antes da criação do qubit: 37\n",
      "2024-09-11 15:46:09,278: Qubit 91 adicionado à memória do Host 0.\n",
      "2024-09-11 15:46:09,278: Qubit 91 criado com fidelidade inicial 0.034900304394826276 e adicionado à memória do Host 0.\n",
      "2024-09-11 15:46:09,279: Qubit criado para Alice (Host 0) no timeslot: 38\n",
      "2024-09-11 15:46:09,279: Timeslot antes da criação do qubit: 39\n",
      "2024-09-11 15:46:09,280: Qubit 92 adicionado à memória do Host 0.\n",
      "2024-09-11 15:46:09,280: Qubit 92 criado com fidelidade inicial 0.8208203456218783 e adicionado à memória do Host 0.\n",
      "2024-09-11 15:46:09,280: Qubit criado para Alice (Host 0) no timeslot: 40\n",
      "2024-09-11 15:46:09,281: 3 qubits criados para Alice (Host 0). Alice agora possui 4 qubits na memória.\n",
      "2024-09-11 15:46:09,282: Timeslot 41: Buscando rota válida entre 0 e 8.\n",
      "2024-09-11 15:46:09,283: Rota válida encontrada: [0, 8]\n",
      "2024-09-11 15:46:09,283: Timeslot 42: Buscando rota válida entre 0 e 8.\n",
      "2024-09-11 15:46:09,284: Rota válida encontrada: [0, 8]\n",
      "2024-09-11 15:46:09,284: Timeslot 43: Buscando rota válida entre 0 e 8.\n",
      "2024-09-11 15:46:09,285: Rota válida encontrada: [0, 8]\n",
      "2024-09-11 15:46:09,286: Timeslot 44: Buscando rota válida entre 0 e 8.\n",
      "2024-09-11 15:46:09,286: Rota válida encontrada: [0, 8]\n",
      "2024-09-11 15:46:09,288: Teletransporte de qubit de 0 para 8 na rota [0, 8] foi bem-sucedido com fidelidade final de 0.9800556203122388. Timeslot: 45\n",
      "2024-09-11 15:46:09,291: Teletransporte de qubit de 0 para 8 na rota [0, 8] foi bem-sucedido com fidelidade final de 0.18320540459633217. Timeslot: 46\n",
      "2024-09-11 15:46:09,291: Teletransporte de qubit de 0 para 8 na rota [0, 8] foi bem-sucedido com fidelidade final de 0.034900304394826276. Timeslot: 47\n",
      "2024-09-11 15:46:09,292: Teletransporte de qubit de 0 para 8 na rota [0, 8] foi bem-sucedido com fidelidade final de 0.8208203456218783. Timeslot: 48\n",
      "2024-09-11 15:46:09,292: Transmissão e teletransporte de 4 qubits entre 0 e 8 concluídos com sucesso. Timeslot: 48\n",
      "2024-09-11 15:46:09,292: Timeslot incrementado após transmissão: 49\n",
      "2024-09-11 15:46:09,293: Chaves obtidas até agora: [0, 0, 1, 0]\n",
      "2024-09-11 15:46:09,294: Iniciando protocolo E91 com 12 qubits.\n",
      "2024-09-11 15:46:09,294: Timeslot incrementado na função prepare_e91_qubits: 50\n",
      "2024-09-11 15:46:09,296: Qubits preparados com a chave: [0, 0, 1, 1, 0, 1, 1, 0, 0, 1, 0, 0] e bases: [1, 0, 1, 0, 0, 0, 0, 0, 0, 1, 1, 1]\n",
      "2024-09-11 15:46:09,296: Timeslot incrementado na função apply_bases_and_measure_e91: 51\n",
      "2024-09-11 15:46:09,297: Resultados das medições: [1, 0, 0, 1, 0, 1, 0, 0, 1, 0, 1, 1] com bases: [0, 0, 0, 1, 0, 0, 1, 1, 1, 0, 0, 0]\n",
      "2024-09-11 15:46:09,298: Índices comuns: [1, 4, 5]\n",
      "2024-09-11 15:46:09,299: Transmitindo 7 qubits coincidentes de Alice (ID 0) para Bob (ID 8).\n",
      "2024-09-11 15:46:09,300: Número insuficiente de qubits na memória de Alice (Host 0). Criando mais qubits para completar os 7 necessários.\n",
      "2024-09-11 15:46:09,300: Timeslot antes da criação do qubit: 52\n",
      "2024-09-11 15:46:09,301: Qubit 93 adicionado à memória do Host 0.\n",
      "2024-09-11 15:46:09,301: Qubit 93 criado com fidelidade inicial 0.3434813873014717 e adicionado à memória do Host 0.\n",
      "2024-09-11 15:46:09,302: Qubit criado para Alice (Host 0) no timeslot: 53\n",
      "2024-09-11 15:46:09,302: Timeslot antes da criação do qubit: 54\n",
      "2024-09-11 15:46:09,303: Qubit 94 adicionado à memória do Host 0.\n",
      "2024-09-11 15:46:09,303: Qubit 94 criado com fidelidade inicial 0.36724895717811634 e adicionado à memória do Host 0.\n",
      "2024-09-11 15:46:09,304: Qubit criado para Alice (Host 0) no timeslot: 55\n",
      "2024-09-11 15:46:09,305: Timeslot antes da criação do qubit: 56\n",
      "2024-09-11 15:46:09,306: Qubit 95 adicionado à memória do Host 0.\n",
      "2024-09-11 15:46:09,306: Qubit 95 criado com fidelidade inicial 0.5621872148126241 e adicionado à memória do Host 0.\n",
      "2024-09-11 15:46:09,307: Qubit criado para Alice (Host 0) no timeslot: 57\n",
      "2024-09-11 15:46:09,308: Timeslot antes da criação do qubit: 58\n",
      "2024-09-11 15:46:09,308: Qubit 96 adicionado à memória do Host 0.\n",
      "2024-09-11 15:46:09,309: Qubit 96 criado com fidelidade inicial 0.5564763470837427 e adicionado à memória do Host 0.\n",
      "2024-09-11 15:46:09,310: Qubit criado para Alice (Host 0) no timeslot: 59\n",
      "2024-09-11 15:46:09,310: Timeslot antes da criação do qubit: 60\n",
      "2024-09-11 15:46:09,311: Qubit 97 adicionado à memória do Host 0.\n",
      "2024-09-11 15:46:09,311: Qubit 97 criado com fidelidade inicial 0.2540876364659046 e adicionado à memória do Host 0.\n",
      "2024-09-11 15:46:09,312: Qubit criado para Alice (Host 0) no timeslot: 61\n",
      "2024-09-11 15:46:09,313: Timeslot antes da criação do qubit: 62\n",
      "2024-09-11 15:46:09,313: Qubit 98 adicionado à memória do Host 0.\n",
      "2024-09-11 15:46:09,314: Qubit 98 criado com fidelidade inicial 0.6448322837526356 e adicionado à memória do Host 0.\n",
      "2024-09-11 15:46:09,314: Qubit criado para Alice (Host 0) no timeslot: 63\n",
      "2024-09-11 15:46:09,315: Timeslot antes da criação do qubit: 64\n",
      "2024-09-11 15:46:09,315: Qubit 99 adicionado à memória do Host 0.\n",
      "2024-09-11 15:46:09,316: Qubit 99 criado com fidelidade inicial 0.4242071229898563 e adicionado à memória do Host 0.\n",
      "2024-09-11 15:46:09,316: Qubit criado para Alice (Host 0) no timeslot: 65\n",
      "2024-09-11 15:46:09,317: 7 qubits criados para Alice (Host 0). Alice agora possui 7 qubits na memória.\n",
      "2024-09-11 15:46:09,317: Timeslot 66: Buscando rota válida entre 0 e 8.\n",
      "2024-09-11 15:46:09,318: Rota válida encontrada: [0, 8]\n",
      "2024-09-11 15:46:09,318: Timeslot 67: Buscando rota válida entre 0 e 8.\n",
      "2024-09-11 15:46:09,319: Rota válida encontrada: [0, 8]\n",
      "2024-09-11 15:46:09,319: Timeslot 68: Buscando rota válida entre 0 e 8.\n",
      "2024-09-11 15:46:09,320: Rota válida encontrada: [0, 8]\n",
      "2024-09-11 15:46:09,320: Timeslot 69: Buscando rota válida entre 0 e 8.\n",
      "2024-09-11 15:46:09,321: Rota válida encontrada: [0, 8]\n",
      "2024-09-11 15:46:09,322: Timeslot 70: Buscando rota válida entre 0 e 8.\n",
      "2024-09-11 15:46:09,323: Rota válida encontrada: [0, 8]\n",
      "2024-09-11 15:46:09,324: Timeslot 71: Buscando rota válida entre 0 e 8.\n",
      "2024-09-11 15:46:09,325: Rota válida encontrada: [0, 8]\n",
      "2024-09-11 15:46:09,326: Timeslot 72: Buscando rota válida entre 0 e 8.\n",
      "2024-09-11 15:46:09,326: Rota válida encontrada: [0, 8]\n",
      "2024-09-11 15:46:09,327: Teletransporte de qubit de 0 para 8 na rota [0, 8] foi bem-sucedido com fidelidade final de 0.3434813873014717. Timeslot: 73\n",
      "2024-09-11 15:46:09,327: Teletransporte de qubit de 0 para 8 na rota [0, 8] foi bem-sucedido com fidelidade final de 0.36724895717811634. Timeslot: 74\n",
      "2024-09-11 15:46:09,328: Teletransporte de qubit de 0 para 8 na rota [0, 8] foi bem-sucedido com fidelidade final de 0.5621872148126241. Timeslot: 75\n",
      "2024-09-11 15:46:09,328: Teletransporte de qubit de 0 para 8 na rota [0, 8] foi bem-sucedido com fidelidade final de 0.5564763470837427. Timeslot: 76\n",
      "2024-09-11 15:46:09,329: Teletransporte de qubit de 0 para 8 na rota [0, 8] foi bem-sucedido com fidelidade final de 0.2540876364659046. Timeslot: 77\n",
      "2024-09-11 15:46:09,329: Teletransporte de qubit de 0 para 8 na rota [0, 8] foi bem-sucedido com fidelidade final de 0.6448322837526356. Timeslot: 78\n",
      "2024-09-11 15:46:09,329: Teletransporte de qubit de 0 para 8 na rota [0, 8] foi bem-sucedido com fidelidade final de 0.4242071229898563. Timeslot: 79\n",
      "2024-09-11 15:46:09,330: Transmissão e teletransporte de 7 qubits entre 0 e 8 concluídos com sucesso. Timeslot: 79\n",
      "2024-09-11 15:46:09,330: Timeslot incrementado após transmissão: 80\n",
      "2024-09-11 15:46:09,331: Chaves obtidas até agora: [0, 0, 1, 0, 0, 0, 1]\n",
      "2024-09-11 15:46:09,331: Iniciando protocolo E91 com 6 qubits.\n",
      "2024-09-11 15:46:09,332: Timeslot incrementado na função prepare_e91_qubits: 81\n",
      "2024-09-11 15:46:09,332: Qubits preparados com a chave: [0, 0, 1, 1, 1, 1] e bases: [1, 1, 1, 1, 0, 0]\n",
      "2024-09-11 15:46:09,333: Timeslot incrementado na função apply_bases_and_measure_e91: 82\n",
      "2024-09-11 15:46:09,333: Resultados das medições: [1, 0, 1, 0, 1, 1] com bases: [1, 1, 0, 1, 0, 0]\n",
      "2024-09-11 15:46:09,334: Índices comuns: [0, 1, 3, 4, 5]\n",
      "2024-09-11 15:46:09,335: Transmitindo 10 qubits coincidentes de Alice (ID 0) para Bob (ID 8).\n",
      "2024-09-11 15:46:09,336: Número insuficiente de qubits na memória de Alice (Host 0). Criando mais qubits para completar os 10 necessários.\n",
      "2024-09-11 15:46:09,338: Timeslot antes da criação do qubit: 83\n",
      "2024-09-11 15:46:09,339: Qubit 100 adicionado à memória do Host 0.\n",
      "2024-09-11 15:46:09,341: Qubit 100 criado com fidelidade inicial 0.1894234300649349 e adicionado à memória do Host 0.\n",
      "2024-09-11 15:46:09,343: Qubit criado para Alice (Host 0) no timeslot: 84\n",
      "2024-09-11 15:46:09,344: Timeslot antes da criação do qubit: 85\n",
      "2024-09-11 15:46:09,344: Qubit 101 adicionado à memória do Host 0.\n",
      "2024-09-11 15:46:09,345: Qubit 101 criado com fidelidade inicial 0.7586747455043878 e adicionado à memória do Host 0.\n",
      "2024-09-11 15:46:09,346: Qubit criado para Alice (Host 0) no timeslot: 86\n",
      "2024-09-11 15:46:09,347: Timeslot antes da criação do qubit: 87\n",
      "2024-09-11 15:46:09,348: Qubit 102 adicionado à memória do Host 0.\n",
      "2024-09-11 15:46:09,348: Qubit 102 criado com fidelidade inicial 0.7709916055999381 e adicionado à memória do Host 0.\n",
      "2024-09-11 15:46:09,349: Qubit criado para Alice (Host 0) no timeslot: 88\n",
      "2024-09-11 15:46:09,349: Timeslot antes da criação do qubit: 89\n",
      "2024-09-11 15:46:09,350: Qubit 103 adicionado à memória do Host 0.\n",
      "2024-09-11 15:46:09,350: Qubit 103 criado com fidelidade inicial 0.4493698280827578 e adicionado à memória do Host 0.\n",
      "2024-09-11 15:46:09,351: Qubit criado para Alice (Host 0) no timeslot: 90\n",
      "2024-09-11 15:46:09,351: Timeslot antes da criação do qubit: 91\n",
      "2024-09-11 15:46:09,351: Qubit 104 adicionado à memória do Host 0.\n",
      "2024-09-11 15:46:09,352: Qubit 104 criado com fidelidade inicial 0.41407509658164576 e adicionado à memória do Host 0.\n",
      "2024-09-11 15:46:09,352: Qubit criado para Alice (Host 0) no timeslot: 92\n",
      "2024-09-11 15:46:09,352: Timeslot antes da criação do qubit: 93\n",
      "2024-09-11 15:46:09,353: Qubit 105 adicionado à memória do Host 0.\n",
      "2024-09-11 15:46:09,353: Qubit 105 criado com fidelidade inicial 0.6802267914027986 e adicionado à memória do Host 0.\n",
      "2024-09-11 15:46:09,354: Qubit criado para Alice (Host 0) no timeslot: 94\n",
      "2024-09-11 15:46:09,354: Timeslot antes da criação do qubit: 95\n",
      "2024-09-11 15:46:09,355: Qubit 106 adicionado à memória do Host 0.\n",
      "2024-09-11 15:46:09,355: Qubit 106 criado com fidelidade inicial 0.8720271107299773 e adicionado à memória do Host 0.\n",
      "2024-09-11 15:46:09,357: Qubit criado para Alice (Host 0) no timeslot: 96\n",
      "2024-09-11 15:46:09,358: Timeslot antes da criação do qubit: 97\n",
      "2024-09-11 15:46:09,358: Qubit 107 adicionado à memória do Host 0.\n",
      "2024-09-11 15:46:09,359: Qubit 107 criado com fidelidade inicial 0.34037862258138596 e adicionado à memória do Host 0.\n",
      "2024-09-11 15:46:09,360: Qubit criado para Alice (Host 0) no timeslot: 98\n",
      "2024-09-11 15:46:09,360: Timeslot antes da criação do qubit: 99\n",
      "2024-09-11 15:46:09,361: Qubit 108 adicionado à memória do Host 0.\n",
      "2024-09-11 15:46:09,362: Qubit 108 criado com fidelidade inicial 0.7242065649278139 e adicionado à memória do Host 0.\n",
      "2024-09-11 15:46:09,366: Qubit criado para Alice (Host 0) no timeslot: 100\n",
      "2024-09-11 15:46:09,367: Timeslot antes da criação do qubit: 101\n",
      "2024-09-11 15:46:09,367: Qubit 109 adicionado à memória do Host 0.\n",
      "2024-09-11 15:46:09,368: Qubit 109 criado com fidelidade inicial 0.1618900284094299 e adicionado à memória do Host 0.\n",
      "2024-09-11 15:46:09,369: Qubit criado para Alice (Host 0) no timeslot: 102\n",
      "2024-09-11 15:46:09,369: 10 qubits criados para Alice (Host 0). Alice agora possui 10 qubits na memória.\n",
      "2024-09-11 15:46:09,369: Timeslot 103: Buscando rota válida entre 0 e 8.\n",
      "2024-09-11 15:46:09,370: Rota válida encontrada: [0, 8]\n",
      "2024-09-11 15:46:09,371: Timeslot 104: Buscando rota válida entre 0 e 8.\n",
      "2024-09-11 15:46:09,372: Rota válida encontrada: [0, 8]\n",
      "2024-09-11 15:46:09,373: Timeslot 105: Buscando rota válida entre 0 e 8.\n",
      "2024-09-11 15:46:09,374: Rota válida encontrada: [0, 8]\n",
      "2024-09-11 15:46:09,376: Timeslot 106: Buscando rota válida entre 0 e 8.\n",
      "2024-09-11 15:46:09,377: Rota válida encontrada: [0, 8]\n",
      "2024-09-11 15:46:09,377: Timeslot 107: Buscando rota válida entre 0 e 8.\n",
      "2024-09-11 15:46:09,378: Rota válida encontrada: [0, 8]\n",
      "2024-09-11 15:46:09,379: Timeslot 108: Buscando rota válida entre 0 e 8.\n",
      "2024-09-11 15:46:09,379: Rota válida encontrada: [0, 8]\n",
      "2024-09-11 15:46:09,383: Timeslot 109: Buscando rota válida entre 0 e 8.\n",
      "2024-09-11 15:46:09,384: Rota válida encontrada: [0, 8]\n",
      "2024-09-11 15:46:09,389: Timeslot 110: Buscando rota válida entre 0 e 8.\n",
      "2024-09-11 15:46:09,394: Rota válida encontrada: [0, 8]\n",
      "2024-09-11 15:46:09,394: Timeslot 111: Buscando rota válida entre 0 e 8.\n",
      "2024-09-11 15:46:09,395: Rota válida encontrada: [0, 8]\n",
      "2024-09-11 15:46:09,396: Timeslot 112: Buscando rota válida entre 0 e 8.\n",
      "2024-09-11 15:46:09,398: Rota válida encontrada: [0, 8]\n",
      "2024-09-11 15:46:09,399: Teletransporte de qubit de 0 para 8 na rota [0, 8] foi bem-sucedido com fidelidade final de 0.1894234300649349. Timeslot: 113\n",
      "2024-09-11 15:46:09,401: Teletransporte de qubit de 0 para 8 na rota [0, 8] foi bem-sucedido com fidelidade final de 0.7586747455043878. Timeslot: 114\n",
      "2024-09-11 15:46:09,401: Teletransporte de qubit de 0 para 8 na rota [0, 8] foi bem-sucedido com fidelidade final de 0.7709916055999381. Timeslot: 115\n",
      "2024-09-11 15:46:09,401: Teletransporte de qubit de 0 para 8 na rota [0, 8] foi bem-sucedido com fidelidade final de 0.4493698280827578. Timeslot: 116\n",
      "2024-09-11 15:46:09,402: Teletransporte de qubit de 0 para 8 na rota [0, 8] foi bem-sucedido com fidelidade final de 0.41407509658164576. Timeslot: 117\n",
      "2024-09-11 15:46:09,402: Teletransporte de qubit de 0 para 8 na rota [0, 8] foi bem-sucedido com fidelidade final de 0.6802267914027986. Timeslot: 118\n",
      "2024-09-11 15:46:09,403: Teletransporte de qubit de 0 para 8 na rota [0, 8] foi bem-sucedido com fidelidade final de 0.8720271107299773. Timeslot: 119\n",
      "2024-09-11 15:46:09,403: Teletransporte de qubit de 0 para 8 na rota [0, 8] foi bem-sucedido com fidelidade final de 0.34037862258138596. Timeslot: 120\n",
      "2024-09-11 15:46:09,404: Teletransporte de qubit de 0 para 8 na rota [0, 8] foi bem-sucedido com fidelidade final de 0.7242065649278139. Timeslot: 121\n",
      "2024-09-11 15:46:09,405: Teletransporte de qubit de 0 para 8 na rota [0, 8] foi bem-sucedido com fidelidade final de 0.1618900284094299. Timeslot: 122\n",
      "2024-09-11 15:46:09,405: Transmissão e teletransporte de 10 qubits entre 0 e 8 concluídos com sucesso. Timeslot: 122\n",
      "2024-09-11 15:46:09,406: Timeslot incrementado após transmissão: 123\n",
      "2024-09-11 15:46:09,407: Chaves obtidas até agora: [0, 0, 1, 0, 0, 0, 1, 0, 1, 1]\n",
      "2024-09-11 15:46:09,409: Protocolo E91 bem-sucedido. Chave final compartilhada: [0, 0, 1, 0, 0, 0, 1, 0, 1, 1]\n"
     ]
    },
    {
     "data": {
      "text/plain": [
       "[0, 0, 1, 0, 0, 0, 1, 0, 1, 1]"
      ]
     },
     "execution_count": 8,
     "metadata": {},
     "output_type": "execute_result"
    }
   ],
   "source": [
    "rede.application_layer.run_app(\"QKD_E91\",0,8,10)"
   ]
  },
  {
   "cell_type": "code",
   "execution_count": 9,
   "metadata": {},
   "outputs": [
    {
     "data": {
      "text/plain": [
       "123"
      ]
     },
     "execution_count": 9,
     "metadata": {},
     "output_type": "execute_result"
    }
   ],
   "source": [
    "rede.get_timeslot()"
   ]
  },
  {
   "cell_type": "code",
   "execution_count": 10,
   "metadata": {},
   "outputs": [
    {
     "name": "stderr",
     "output_type": "stream",
     "text": [
      "2024-09-11 15:46:09,570: Eprs usados na camada PhysicalLayer: 3\n",
      "2024-09-11 15:46:09,574: Eprs usados na camada LinkLayer: 2\n",
      "2024-09-11 15:46:09,576: Eprs usados na camada NetworkLayer: 3\n"
     ]
    },
    {
     "data": {
      "text/plain": [
       "8"
      ]
     },
     "execution_count": 10,
     "metadata": {},
     "output_type": "execute_result"
    }
   ],
   "source": [
    "rede.get_total_useds_eprs()"
   ]
  },
  {
   "cell_type": "code",
   "execution_count": 11,
   "metadata": {},
   "outputs": [
    {
     "name": "stderr",
     "output_type": "stream",
     "text": [
      "2024-09-11 15:46:09,642: Qubits usados na camada PhysicalLayer: 26\n",
      "2024-09-11 15:46:09,647: Qubits usados na camada LinkLayer: 4\n",
      "2024-09-11 15:46:09,649: Qubits usados na camada TransportLayer: 30\n",
      "2024-09-11 15:46:09,653: Qubits usados na camada ApplicationLayer: 38\n"
     ]
    },
    {
     "data": {
      "text/plain": [
       "98"
      ]
     },
     "execution_count": 11,
     "metadata": {},
     "output_type": "execute_result"
    }
   ],
   "source": [
    "rede.get_total_useds_qubits()"
   ]
  },
  {
   "cell_type": "code",
   "execution_count": 12,
   "metadata": {},
   "outputs": [
    {
     "name": "stderr",
     "output_type": "stream",
     "text": [
      "2024-09-11 15:46:09,730: A fidelidade média dos EPRs criados na camada de enlace é 0.2875811680435867\n"
     ]
    },
    {
     "name": "stdout",
     "output_type": "stream",
     "text": [
      "Total de EPRs criados na camada de enlace: 3\n",
      "Total de fidelidade dos EPRs criados na camada de enlace: 0.8627435041307601\n"
     ]
    },
    {
     "data": {
      "text/plain": [
       "0.2875811680435867"
      ]
     },
     "execution_count": 12,
     "metadata": {},
     "output_type": "execute_result"
    }
   ],
   "source": [
    "rede.linklayer.avg_fidelity_on_linklayer()"
   ]
  },
  {
   "cell_type": "code",
   "execution_count": 13,
   "metadata": {},
   "outputs": [
    {
     "name": "stderr",
     "output_type": "stream",
     "text": [
      "2024-09-11 15:46:09,799: Nenhum EPR foi utilizado na camada de transporte.\n"
     ]
    },
    {
     "data": {
      "text/plain": [
       "0.0"
      ]
     },
     "execution_count": 13,
     "metadata": {},
     "output_type": "execute_result"
    }
   ],
   "source": [
    "rede.transportlayer.avg_fidelity_on_transportlayer()"
   ]
  },
  {
   "cell_type": "code",
   "execution_count": 14,
   "metadata": {},
   "outputs": [
    {
     "name": "stderr",
     "output_type": "stream",
     "text": [
      "2024-09-11 15:46:09,881: Eprs usados na camada PhysicalLayer: 3\n",
      "2024-09-11 15:46:09,883: Eprs usados na camada LinkLayer: 2\n",
      "2024-09-11 15:46:09,886: Eprs usados na camada NetworkLayer: 3\n",
      "2024-09-11 15:46:09,886: Qubits usados na camada PhysicalLayer: 26\n",
      "2024-09-11 15:46:09,888: Qubits usados na camada LinkLayer: 4\n",
      "2024-09-11 15:46:09,889: Qubits usados na camada TransportLayer: 30\n",
      "2024-09-11 15:46:09,890: Qubits usados na camada ApplicationLayer: 38\n",
      "2024-09-11 15:46:09,893: Nenhum EPR foi utilizado na camada de transporte.\n",
      "2024-09-11 15:46:09,895: A fidelidade média dos EPRs criados na camada de enlace é 0.2875811680435867\n",
      "2024-09-11 15:46:09,897: Nó 0 não tem pelo menos 2 qubits na rota [0, 1]\n",
      "2024-09-11 15:46:09,898: Nenhuma rota válida encontrada.\n",
      "2024-09-11 15:46:09,899: Nó 0 não tem pelo menos 2 qubits na rota [0, 1, 2]\n"
     ]
    },
    {
     "name": "stderr",
     "output_type": "stream",
     "text": [
      "2024-09-11 15:46:09,913: Nó 0 não tem pelo menos 2 qubits na rota [0, 8, 2]\n",
      "2024-09-11 15:46:09,914: Nenhuma rota válida encontrada.\n",
      "2024-09-11 15:46:09,918: Nó 0 não tem pelo menos 2 qubits na rota [0, 3]\n",
      "2024-09-11 15:46:09,919: Nenhuma rota válida encontrada.\n",
      "2024-09-11 15:46:09,921: Nó 0 não tem pelo menos 2 qubits na rota [0, 3, 4]\n",
      "2024-09-11 15:46:09,922: Nó 0 não tem pelo menos 2 qubits na rota [0, 1, 4]\n",
      "2024-09-11 15:46:09,924: Nenhuma rota válida encontrada.\n",
      "2024-09-11 15:46:09,926: Nó 0 não tem pelo menos 2 qubits na rota [0, 8, 5]\n",
      "2024-09-11 15:46:09,927: Nenhuma rota válida encontrada.\n",
      "2024-09-11 15:46:09,927: Nó 0 não tem pelo menos 2 qubits na rota [0, 3, 6]\n",
      "2024-09-11 15:46:09,928: Nenhuma rota válida encontrada.\n",
      "2024-09-11 15:46:09,929: Nó 0 não tem pelo menos 2 qubits na rota [0, 8, 7]\n",
      "2024-09-11 15:46:09,929: Nenhuma rota válida encontrada.\n",
      "2024-09-11 15:46:09,930: Nó 0 não tem pelo menos 2 qubits na rota [0, 8]\n",
      "2024-09-11 15:46:09,930: Nenhuma rota válida encontrada.\n",
      "2024-09-11 15:46:09,931: Rota válida encontrada: [1, 0]\n"
     ]
    },
    {
     "name": "stdout",
     "output_type": "stream",
     "text": [
      "Total de EPRs criados na camada de enlace: 3\n",
      "Total de fidelidade dos EPRs criados na camada de enlace: 0.8627435041307601\n"
     ]
    },
    {
     "name": "stderr",
     "output_type": "stream",
     "text": [
      "2024-09-11 15:46:09,933: Rota válida encontrada: [1, 2]\n",
      "2024-09-11 15:46:09,934: Nó 0 não tem pelo menos 2 qubits na rota [1, 0, 3]\n",
      "2024-09-11 15:46:09,934: Rota válida encontrada: [1, 4, 3]\n",
      "2024-09-11 15:46:09,935: Rota válida encontrada: [1, 4]\n",
      "2024-09-11 15:46:09,936: Rota válida encontrada: [1, 4, 5]\n",
      "2024-09-11 15:46:09,937: Nó 0 não tem pelo menos 2 qubits na rota [1, 0, 3, 6]\n",
      "2024-09-11 15:46:09,938: Rota válida encontrada: [1, 4, 3, 6]\n",
      "2024-09-11 15:46:09,940: Rota válida encontrada: [1, 4, 7]\n",
      "2024-09-11 15:46:09,942: Sem pares EPRs entre 1 e 8 na rota [1, 8]\n",
      "2024-09-11 15:46:09,944: Nenhuma rota válida encontrada.\n",
      "2024-09-11 15:46:09,944: Rota válida encontrada: [2, 1, 0]\n",
      "2024-09-11 15:46:09,945: Rota válida encontrada: [2, 1]\n",
      "2024-09-11 15:46:09,946: Nó 0 não tem pelo menos 2 qubits na rota [2, 1, 0, 3]\n",
      "2024-09-11 15:46:09,946: Sem pares EPRs entre 2 e 8 na rota [2, 8, 0, 3]\n",
      "2024-09-11 15:46:09,947: Rota válida encontrada: [2, 1, 4, 3]\n",
      "2024-09-11 15:46:09,947: Rota válida encontrada: [2, 1, 4]\n",
      "2024-09-11 15:46:09,948: Rota válida encontrada: [2, 5]\n",
      "2024-09-11 15:46:09,948: Sem pares EPRs entre 2 e 8 na rota [2, 8, 7, 6]\n",
      "2024-09-11 15:46:09,949: Nenhuma rota válida encontrada.\n",
      "2024-09-11 15:46:09,950: Sem pares EPRs entre 2 e 8 na rota [2, 8, 7]\n",
      "2024-09-11 15:46:09,951: Nenhuma rota válida encontrada.\n",
      "2024-09-11 15:46:09,951: Sem pares EPRs entre 2 e 8 na rota [2, 8]\n",
      "2024-09-11 15:46:09,952: Nenhuma rota válida encontrada.\n",
      "2024-09-11 15:46:09,953: Rota válida encontrada: [3, 0]\n",
      "2024-09-11 15:46:09,954: Nó 0 não tem pelo menos 2 qubits na rota [3, 0, 1]\n",
      "2024-09-11 15:46:09,956: Rota válida encontrada: [3, 4, 1]\n",
      "2024-09-11 15:46:09,958: Nó 0 não tem pelo menos 2 qubits na rota [3, 0, 1, 2]\n",
      "2024-09-11 15:46:09,964: Rota válida encontrada: [3, 4, 1, 2]\n",
      "2024-09-11 15:46:09,965: Rota válida encontrada: [3, 4]\n",
      "2024-09-11 15:46:09,965: Rota válida encontrada: [3, 4, 5]\n",
      "2024-09-11 15:46:09,969: Rota válida encontrada: [3, 6]\n",
      "2024-09-11 15:46:09,977: Rota válida encontrada: [3, 6, 7]\n",
      "2024-09-11 15:46:09,978: Nó 0 não tem pelo menos 2 qubits na rota [3, 0, 8]\n",
      "2024-09-11 15:46:09,980: Nenhuma rota válida encontrada.\n",
      "2024-09-11 15:46:09,987: Rota válida encontrada: [4, 1, 0]\n",
      "2024-09-11 15:46:09,992: Rota válida encontrada: [4, 1]\n",
      "2024-09-11 15:46:09,993: Rota válida encontrada: [4, 1, 2]\n",
      "2024-09-11 15:46:09,996: Rota válida encontrada: [4, 3]\n",
      "2024-09-11 15:46:09,999: Rota válida encontrada: [4, 5]\n",
      "2024-09-11 15:46:09,999: Rota válida encontrada: [4, 3, 6]\n",
      "2024-09-11 15:46:10,001: Rota válida encontrada: [4, 7]\n",
      "2024-09-11 15:46:10,009: Sem pares EPRs entre 1 e 8 na rota [4, 1, 8]\n",
      "2024-09-11 15:46:10,014: Rota válida encontrada: [4, 7, 8]\n",
      "2024-09-11 15:46:10,025: Rota válida encontrada: [5, 8, 0]\n",
      "2024-09-11 15:46:10,027: Rota válida encontrada: [5, 2, 1]\n",
      "2024-09-11 15:46:10,028: Rota válida encontrada: [5, 2]\n",
      "2024-09-11 15:46:10,028: Rota válida encontrada: [5, 4, 3]\n",
      "2024-09-11 15:46:10,029: Rota válida encontrada: [5, 4]\n",
      "2024-09-11 15:46:10,032: Rota válida encontrada: [5, 4, 3, 6]\n",
      "2024-09-11 15:46:10,033: Rota válida encontrada: [5, 4, 7]\n",
      "2024-09-11 15:46:10,034: Rota válida encontrada: [5, 8]\n",
      "2024-09-11 15:46:10,034: Rota válida encontrada: [6, 3, 0]\n",
      "2024-09-11 15:46:10,035: Nó 0 não tem pelo menos 2 qubits na rota [6, 3, 0, 1]\n",
      "2024-09-11 15:46:10,035: Rota válida encontrada: [6, 3, 4, 1]\n",
      "2024-09-11 15:46:10,036: Sem pares EPRs entre 8 e 2 na rota [6, 7, 8, 2]\n",
      "2024-09-11 15:46:10,036: Nenhuma rota válida encontrada.\n",
      "2024-09-11 15:46:10,037: Rota válida encontrada: [6, 3]\n",
      "2024-09-11 15:46:10,038: Rota válida encontrada: [6, 3, 4]\n",
      "2024-09-11 15:46:10,039: Rota válida encontrada: [6, 3, 4, 5]\n",
      "2024-09-11 15:46:10,041: Rota válida encontrada: [6, 7]\n",
      "2024-09-11 15:46:10,042: Rota válida encontrada: [6, 7, 8]\n",
      "2024-09-11 15:46:10,042: Rota válida encontrada: [7, 8, 0]\n",
      "2024-09-11 15:46:10,043: Rota válida encontrada: [7, 4, 1]\n",
      "2024-09-11 15:46:10,044: Sem pares EPRs entre 8 e 2 na rota [7, 8, 2]\n",
      "2024-09-11 15:46:10,045: Nenhuma rota válida encontrada.\n",
      "2024-09-11 15:46:10,045: Rota válida encontrada: [7, 4, 3]\n",
      "2024-09-11 15:46:10,046: Rota válida encontrada: [7, 4]\n",
      "2024-09-11 15:46:10,047: Rota válida encontrada: [7, 4, 5]\n",
      "2024-09-11 15:46:10,047: Rota válida encontrada: [7, 6]\n",
      "2024-09-11 15:46:10,047: Rota válida encontrada: [7, 8]\n",
      "2024-09-11 15:46:10,050: Rota válida encontrada: [8, 0]\n",
      "2024-09-11 15:46:10,051: Sem pares EPRs entre 8 e 1 na rota [8, 1]\n",
      "2024-09-11 15:46:10,052: Nenhuma rota válida encontrada.\n",
      "2024-09-11 15:46:10,053: Sem pares EPRs entre 8 e 2 na rota [8, 2]\n",
      "2024-09-11 15:46:10,054: Nenhuma rota válida encontrada.\n",
      "2024-09-11 15:46:10,055: Nó 0 não tem pelo menos 2 qubits na rota [8, 0, 3]\n",
      "2024-09-11 15:46:10,056: Nenhuma rota válida encontrada.\n",
      "2024-09-11 15:46:10,057: Rota válida encontrada: [8, 5, 4]\n",
      "2024-09-11 15:46:10,061: Rota válida encontrada: [8, 5]\n",
      "2024-09-11 15:46:10,062: Rota válida encontrada: [8, 7, 6]\n",
      "2024-09-11 15:46:10,064: Rota válida encontrada: [8, 7]\n"
     ]
    },
    {
     "name": "stdout",
     "output_type": "stream",
     "text": [
      "Métricas exportadas com sucesso para /home/polyana/Downloads/QuantumNetOfficial-maintimeslotafuncional/teste.csv\n"
     ]
    }
   ],
   "source": [
    "rede.get_metrics(file_name=\"teste.csv\")"
   ]
  }
 ],
 "metadata": {
  "kernelspec": {
   "display_name": "Python 3",
   "language": "python",
   "name": "python3"
  },
  "language_info": {
   "codemirror_mode": {
    "name": "ipython",
    "version": 3
   },
   "file_extension": ".py",
   "mimetype": "text/x-python",
   "name": "python",
   "nbconvert_exporter": "python",
   "pygments_lexer": "ipython3",
   "version": "3.12.3"
  }
 },
 "nbformat": 4,
 "nbformat_minor": 2
}
