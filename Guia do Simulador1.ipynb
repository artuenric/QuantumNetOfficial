{
 "cells": [
  {
   "cell_type": "code",
   "execution_count": 1,
   "metadata": {},
   "outputs": [],
   "source": [
    "from quantumnet.components import Network, Host\n",
    "from quantumnet.objects import Qubit, Logger\n",
    "import random\n",
    "Logger.activate(Logger)"
   ]
  },
  {
   "cell_type": "code",
   "execution_count": 2,
   "metadata": {},
   "outputs": [
    {
     "name": "stderr",
     "output_type": "stream",
     "text": [
      "2024-09-09 01:28:15,879: Qubit 0 adicionado à memória do Host 0.\n",
      "2024-09-09 01:28:15,881: Qubit 0 criado com fidelidade inicial 0.5754608617069097 e adicionado à memória do Host 0.\n",
      "2024-09-09 01:28:15,881: Qubit 1 adicionado à memória do Host 0.\n",
      "2024-09-09 01:28:15,882: Qubit 1 criado com fidelidade inicial 0.7577819366411099 e adicionado à memória do Host 0.\n",
      "2024-09-09 01:28:15,882: Qubit 2 adicionado à memória do Host 0.\n",
      "2024-09-09 01:28:15,883: Qubit 2 criado com fidelidade inicial 0.7034076051568482 e adicionado à memória do Host 0.\n",
      "2024-09-09 01:28:15,883: Qubit 3 adicionado à memória do Host 0.\n",
      "2024-09-09 01:28:15,883: Qubit 3 criado com fidelidade inicial 0.8179346788173104 e adicionado à memória do Host 0.\n",
      "2024-09-09 01:28:15,885: Qubit 4 adicionado à memória do Host 0.\n",
      "2024-09-09 01:28:15,885: Qubit 4 criado com fidelidade inicial 0.28300393162147175 e adicionado à memória do Host 0.\n",
      "2024-09-09 01:28:15,885: Qubit 5 adicionado à memória do Host 0.\n",
      "2024-09-09 01:28:15,886: Qubit 5 criado com fidelidade inicial 0.4054013107455875 e adicionado à memória do Host 0.\n",
      "2024-09-09 01:28:15,886: Qubit 6 adicionado à memória do Host 0.\n",
      "2024-09-09 01:28:15,886: Qubit 6 criado com fidelidade inicial 0.6193643704999071 e adicionado à memória do Host 0.\n",
      "2024-09-09 01:28:15,887: Qubit 7 adicionado à memória do Host 0.\n",
      "2024-09-09 01:28:15,887: Qubit 7 criado com fidelidade inicial 0.7694134464310125 e adicionado à memória do Host 0.\n",
      "2024-09-09 01:28:15,887: Qubit 8 adicionado à memória do Host 0.\n",
      "2024-09-09 01:28:15,887: Qubit 8 criado com fidelidade inicial 0.4080338469876865 e adicionado à memória do Host 0.\n",
      "2024-09-09 01:28:15,889: Qubit 9 adicionado à memória do Host 0.\n",
      "2024-09-09 01:28:15,889: Qubit 9 criado com fidelidade inicial 0.4149393994892274 e adicionado à memória do Host 0.\n",
      "2024-09-09 01:28:15,889: Qubit 10 adicionado à memória do Host 1.\n",
      "2024-09-09 01:28:15,889: Qubit 10 criado com fidelidade inicial 0.39900190441373484 e adicionado à memória do Host 1.\n",
      "2024-09-09 01:28:15,889: Qubit 11 adicionado à memória do Host 1.\n",
      "2024-09-09 01:28:15,890: Qubit 11 criado com fidelidade inicial 0.685789387300789 e adicionado à memória do Host 1.\n",
      "2024-09-09 01:28:15,890: Qubit 12 adicionado à memória do Host 1.\n",
      "2024-09-09 01:28:15,890: Qubit 12 criado com fidelidade inicial 0.6910755471014727 e adicionado à memória do Host 1.\n",
      "2024-09-09 01:28:15,891: Qubit 13 adicionado à memória do Host 1.\n",
      "2024-09-09 01:28:15,891: Qubit 13 criado com fidelidade inicial 0.15077747653606322 e adicionado à memória do Host 1.\n",
      "2024-09-09 01:28:15,892: Qubit 14 adicionado à memória do Host 1.\n",
      "2024-09-09 01:28:15,892: Qubit 14 criado com fidelidade inicial 0.39206306033384697 e adicionado à memória do Host 1.\n",
      "2024-09-09 01:28:15,892: Qubit 15 adicionado à memória do Host 1.\n",
      "2024-09-09 01:28:15,892: Qubit 15 criado com fidelidade inicial 0.6463393008881252 e adicionado à memória do Host 1.\n",
      "2024-09-09 01:28:15,893: Qubit 16 adicionado à memória do Host 1.\n",
      "2024-09-09 01:28:15,893: Qubit 16 criado com fidelidade inicial 0.42261621826432383 e adicionado à memória do Host 1.\n",
      "2024-09-09 01:28:15,893: Qubit 17 adicionado à memória do Host 1.\n",
      "2024-09-09 01:28:15,893: Qubit 17 criado com fidelidade inicial 0.30694754636039057 e adicionado à memória do Host 1.\n",
      "2024-09-09 01:28:15,895: Qubit 18 adicionado à memória do Host 1.\n",
      "2024-09-09 01:28:15,895: Qubit 18 criado com fidelidade inicial 0.6512909774124722 e adicionado à memória do Host 1.\n",
      "2024-09-09 01:28:15,896: Qubit 19 adicionado à memória do Host 1.\n",
      "2024-09-09 01:28:15,896: Qubit 19 criado com fidelidade inicial 0.5389092867322002 e adicionado à memória do Host 1.\n",
      "2024-09-09 01:28:15,896: Qubit 20 adicionado à memória do Host 2.\n",
      "2024-09-09 01:28:15,897: Qubit 20 criado com fidelidade inicial 0.38973052176326317 e adicionado à memória do Host 2.\n",
      "2024-09-09 01:28:15,897: Qubit 21 adicionado à memória do Host 2.\n",
      "2024-09-09 01:28:15,897: Qubit 21 criado com fidelidade inicial 0.6305309414962498 e adicionado à memória do Host 2.\n",
      "2024-09-09 01:28:15,897: Qubit 22 adicionado à memória do Host 2.\n",
      "2024-09-09 01:28:15,898: Qubit 22 criado com fidelidade inicial 0.5277709643890309 e adicionado à memória do Host 2.\n",
      "2024-09-09 01:28:15,899: Qubit 23 adicionado à memória do Host 2.\n",
      "2024-09-09 01:28:15,899: Qubit 23 criado com fidelidade inicial 0.08168483550800043 e adicionado à memória do Host 2.\n",
      "2024-09-09 01:28:15,899: Qubit 24 adicionado à memória do Host 2.\n",
      "2024-09-09 01:28:15,900: Qubit 24 criado com fidelidade inicial 0.16673813589279662 e adicionado à memória do Host 2.\n",
      "2024-09-09 01:28:15,900: Qubit 25 adicionado à memória do Host 2.\n",
      "2024-09-09 01:28:15,900: Qubit 25 criado com fidelidade inicial 0.21280780457404325 e adicionado à memória do Host 2.\n",
      "2024-09-09 01:28:15,901: Qubit 26 adicionado à memória do Host 2.\n",
      "2024-09-09 01:28:15,901: Qubit 26 criado com fidelidade inicial 0.4696478384939766 e adicionado à memória do Host 2.\n",
      "2024-09-09 01:28:15,901: Qubit 27 adicionado à memória do Host 2.\n",
      "2024-09-09 01:28:15,901: Qubit 27 criado com fidelidade inicial 0.7366984491524997 e adicionado à memória do Host 2.\n",
      "2024-09-09 01:28:15,901: Qubit 28 adicionado à memória do Host 2.\n",
      "2024-09-09 01:28:15,903: Qubit 28 criado com fidelidade inicial 0.89337207810453 e adicionado à memória do Host 2.\n",
      "2024-09-09 01:28:15,903: Qubit 29 adicionado à memória do Host 2.\n",
      "2024-09-09 01:28:15,904: Qubit 29 criado com fidelidade inicial 0.10159924789616104 e adicionado à memória do Host 2.\n",
      "2024-09-09 01:28:15,904: Qubit 30 adicionado à memória do Host 3.\n",
      "2024-09-09 01:28:15,905: Qubit 30 criado com fidelidade inicial 0.5380987617549869 e adicionado à memória do Host 3.\n",
      "2024-09-09 01:28:15,905: Qubit 31 adicionado à memória do Host 3.\n",
      "2024-09-09 01:28:15,906: Qubit 31 criado com fidelidade inicial 0.6214902985397948 e adicionado à memória do Host 3.\n",
      "2024-09-09 01:28:15,906: Qubit 32 adicionado à memória do Host 3.\n",
      "2024-09-09 01:28:15,907: Qubit 32 criado com fidelidade inicial 0.11099450755174267 e adicionado à memória do Host 3.\n",
      "2024-09-09 01:28:15,907: Qubit 33 adicionado à memória do Host 3.\n",
      "2024-09-09 01:28:15,908: Qubit 33 criado com fidelidade inicial 0.6254401140234157 e adicionado à memória do Host 3.\n",
      "2024-09-09 01:28:15,908: Qubit 34 adicionado à memória do Host 3.\n",
      "2024-09-09 01:28:15,908: Qubit 34 criado com fidelidade inicial 0.28826990475168646 e adicionado à memória do Host 3.\n",
      "2024-09-09 01:28:15,909: Qubit 35 adicionado à memória do Host 3.\n",
      "2024-09-09 01:28:15,909: Qubit 35 criado com fidelidade inicial 0.26536754970509846 e adicionado à memória do Host 3.\n",
      "2024-09-09 01:28:15,910: Qubit 36 adicionado à memória do Host 3.\n",
      "2024-09-09 01:28:15,910: Qubit 36 criado com fidelidade inicial 0.34461410298327755 e adicionado à memória do Host 3.\n",
      "2024-09-09 01:28:15,910: Qubit 37 adicionado à memória do Host 3.\n",
      "2024-09-09 01:28:15,911: Qubit 37 criado com fidelidade inicial 0.6647238053011707 e adicionado à memória do Host 3.\n",
      "2024-09-09 01:28:15,911: Qubit 38 adicionado à memória do Host 3.\n",
      "2024-09-09 01:28:15,912: Qubit 38 criado com fidelidade inicial 0.1431960910906589 e adicionado à memória do Host 3.\n",
      "2024-09-09 01:28:15,912: Qubit 39 adicionado à memória do Host 3.\n",
      "2024-09-09 01:28:15,912: Qubit 39 criado com fidelidade inicial 0.1238639261572635 e adicionado à memória do Host 3.\n",
      "2024-09-09 01:28:15,912: Qubit 40 adicionado à memória do Host 4.\n",
      "2024-09-09 01:28:15,913: Qubit 40 criado com fidelidade inicial 0.5174166217523674 e adicionado à memória do Host 4.\n",
      "2024-09-09 01:28:15,914: Qubit 41 adicionado à memória do Host 4.\n",
      "2024-09-09 01:28:15,914: Qubit 41 criado com fidelidade inicial 0.8986049638271307 e adicionado à memória do Host 4.\n",
      "2024-09-09 01:28:15,914: Qubit 42 adicionado à memória do Host 4.\n",
      "2024-09-09 01:28:15,915: Qubit 42 criado com fidelidade inicial 0.04085981543833461 e adicionado à memória do Host 4.\n",
      "2024-09-09 01:28:15,915: Qubit 43 adicionado à memória do Host 4.\n",
      "2024-09-09 01:28:15,915: Qubit 43 criado com fidelidade inicial 0.8495706246346844 e adicionado à memória do Host 4.\n",
      "2024-09-09 01:28:15,916: Qubit 44 adicionado à memória do Host 4.\n",
      "2024-09-09 01:28:15,916: Qubit 44 criado com fidelidade inicial 0.5227847866722153 e adicionado à memória do Host 4.\n",
      "2024-09-09 01:28:15,917: Qubit 45 adicionado à memória do Host 4.\n",
      "2024-09-09 01:28:15,917: Qubit 45 criado com fidelidade inicial 0.13968773502212162 e adicionado à memória do Host 4.\n",
      "2024-09-09 01:28:15,917: Qubit 46 adicionado à memória do Host 4.\n",
      "2024-09-09 01:28:15,918: Qubit 46 criado com fidelidade inicial 0.28460180392769374 e adicionado à memória do Host 4.\n",
      "2024-09-09 01:28:15,918: Qubit 47 adicionado à memória do Host 4.\n",
      "2024-09-09 01:28:15,919: Qubit 47 criado com fidelidade inicial 0.7214051873692173 e adicionado à memória do Host 4.\n",
      "2024-09-09 01:28:15,919: Qubit 48 adicionado à memória do Host 4.\n",
      "2024-09-09 01:28:15,919: Qubit 48 criado com fidelidade inicial 0.004954735157982171 e adicionado à memória do Host 4.\n",
      "2024-09-09 01:28:15,920: Qubit 49 adicionado à memória do Host 4.\n",
      "2024-09-09 01:28:15,920: Qubit 49 criado com fidelidade inicial 0.20812249673706107 e adicionado à memória do Host 4.\n",
      "2024-09-09 01:28:15,920: Qubit 50 adicionado à memória do Host 5.\n",
      "2024-09-09 01:28:15,921: Qubit 50 criado com fidelidade inicial 0.11357368393633105 e adicionado à memória do Host 5.\n",
      "2024-09-09 01:28:15,921: Qubit 51 adicionado à memória do Host 5.\n",
      "2024-09-09 01:28:15,921: Qubit 51 criado com fidelidade inicial 0.20252659456437216 e adicionado à memória do Host 5.\n",
      "2024-09-09 01:28:15,923: Qubit 52 adicionado à memória do Host 5.\n",
      "2024-09-09 01:28:15,923: Qubit 52 criado com fidelidade inicial 0.5700917020501474 e adicionado à memória do Host 5.\n",
      "2024-09-09 01:28:15,924: Qubit 53 adicionado à memória do Host 5.\n",
      "2024-09-09 01:28:15,924: Qubit 53 criado com fidelidade inicial 0.7547011312333616 e adicionado à memória do Host 5.\n",
      "2024-09-09 01:28:15,924: Qubit 54 adicionado à memória do Host 5.\n",
      "2024-09-09 01:28:15,924: Qubit 54 criado com fidelidade inicial 0.492105549182532 e adicionado à memória do Host 5.\n",
      "2024-09-09 01:28:15,926: Qubit 55 adicionado à memória do Host 5.\n",
      "2024-09-09 01:28:15,926: Qubit 55 criado com fidelidade inicial 0.32933807897556633 e adicionado à memória do Host 5.\n",
      "2024-09-09 01:28:15,926: Qubit 56 adicionado à memória do Host 5.\n",
      "2024-09-09 01:28:15,926: Qubit 56 criado com fidelidade inicial 0.5771846956915426 e adicionado à memória do Host 5.\n",
      "2024-09-09 01:28:15,927: Qubit 57 adicionado à memória do Host 5.\n",
      "2024-09-09 01:28:15,927: Qubit 57 criado com fidelidade inicial 0.6352004177710178 e adicionado à memória do Host 5.\n",
      "2024-09-09 01:28:15,927: Qubit 58 adicionado à memória do Host 5.\n",
      "2024-09-09 01:28:15,928: Qubit 58 criado com fidelidade inicial 0.415496551422165 e adicionado à memória do Host 5.\n",
      "2024-09-09 01:28:15,928: Qubit 59 adicionado à memória do Host 5.\n",
      "2024-09-09 01:28:15,928: Qubit 59 criado com fidelidade inicial 0.9358028407959166 e adicionado à memória do Host 5.\n",
      "2024-09-09 01:28:15,928: Qubit 60 adicionado à memória do Host 6.\n",
      "2024-09-09 01:28:15,928: Qubit 60 criado com fidelidade inicial 0.17127582089756432 e adicionado à memória do Host 6.\n",
      "2024-09-09 01:28:15,929: Qubit 61 adicionado à memória do Host 6.\n",
      "2024-09-09 01:28:15,930: Qubit 61 criado com fidelidade inicial 0.2539061184449507 e adicionado à memória do Host 6.\n",
      "2024-09-09 01:28:15,930: Qubit 62 adicionado à memória do Host 6.\n",
      "2024-09-09 01:28:15,930: Qubit 62 criado com fidelidade inicial 0.20135952277003766 e adicionado à memória do Host 6.\n",
      "2024-09-09 01:28:15,931: Qubit 63 adicionado à memória do Host 6.\n",
      "2024-09-09 01:28:15,931: Qubit 63 criado com fidelidade inicial 0.7209452163112627 e adicionado à memória do Host 6.\n",
      "2024-09-09 01:28:15,931: Qubit 64 adicionado à memória do Host 6.\n",
      "2024-09-09 01:28:15,932: Qubit 64 criado com fidelidade inicial 0.7734587236837387 e adicionado à memória do Host 6.\n",
      "2024-09-09 01:28:15,932: Qubit 65 adicionado à memória do Host 6.\n",
      "2024-09-09 01:28:15,932: Qubit 65 criado com fidelidade inicial 0.5778753282123134 e adicionado à memória do Host 6.\n",
      "2024-09-09 01:28:15,932: Qubit 66 adicionado à memória do Host 6.\n",
      "2024-09-09 01:28:15,932: Qubit 66 criado com fidelidade inicial 0.5525724374808385 e adicionado à memória do Host 6.\n",
      "2024-09-09 01:28:15,933: Qubit 67 adicionado à memória do Host 6.\n",
      "2024-09-09 01:28:15,933: Qubit 67 criado com fidelidade inicial 0.6954577698873717 e adicionado à memória do Host 6.\n",
      "2024-09-09 01:28:15,934: Qubit 68 adicionado à memória do Host 6.\n",
      "2024-09-09 01:28:15,934: Qubit 68 criado com fidelidade inicial 0.790790803270611 e adicionado à memória do Host 6.\n",
      "2024-09-09 01:28:15,934: Qubit 69 adicionado à memória do Host 6.\n",
      "2024-09-09 01:28:15,934: Qubit 69 criado com fidelidade inicial 0.7731483439931969 e adicionado à memória do Host 6.\n",
      "2024-09-09 01:28:15,934: Qubit 70 adicionado à memória do Host 7.\n",
      "2024-09-09 01:28:15,934: Qubit 70 criado com fidelidade inicial 0.389784816867764 e adicionado à memória do Host 7.\n",
      "2024-09-09 01:28:15,935: Qubit 71 adicionado à memória do Host 7.\n",
      "2024-09-09 01:28:15,935: Qubit 71 criado com fidelidade inicial 0.08683739606506113 e adicionado à memória do Host 7.\n",
      "2024-09-09 01:28:15,935: Qubit 72 adicionado à memória do Host 7.\n",
      "2024-09-09 01:28:15,935: Qubit 72 criado com fidelidade inicial 0.6525349314446657 e adicionado à memória do Host 7.\n",
      "2024-09-09 01:28:15,936: Qubit 73 adicionado à memória do Host 7.\n",
      "2024-09-09 01:28:15,936: Qubit 73 criado com fidelidade inicial 0.34813512341676833 e adicionado à memória do Host 7.\n",
      "2024-09-09 01:28:15,936: Qubit 74 adicionado à memória do Host 7.\n",
      "2024-09-09 01:28:15,936: Qubit 74 criado com fidelidade inicial 0.7829530510352458 e adicionado à memória do Host 7.\n",
      "2024-09-09 01:28:15,937: Qubit 75 adicionado à memória do Host 7.\n",
      "2024-09-09 01:28:15,937: Qubit 75 criado com fidelidade inicial 0.9353695178037682 e adicionado à memória do Host 7.\n",
      "2024-09-09 01:28:15,937: Qubit 76 adicionado à memória do Host 7.\n",
      "2024-09-09 01:28:15,937: Qubit 76 criado com fidelidade inicial 0.8296413790867492 e adicionado à memória do Host 7.\n",
      "2024-09-09 01:28:15,937: Qubit 77 adicionado à memória do Host 7.\n",
      "2024-09-09 01:28:15,939: Qubit 77 criado com fidelidade inicial 0.09311729319602957 e adicionado à memória do Host 7.\n",
      "2024-09-09 01:28:15,940: Qubit 78 adicionado à memória do Host 7.\n",
      "2024-09-09 01:28:15,940: Qubit 78 criado com fidelidade inicial 0.6910449623734582 e adicionado à memória do Host 7.\n",
      "2024-09-09 01:28:15,940: Qubit 79 adicionado à memória do Host 7.\n",
      "2024-09-09 01:28:15,942: Qubit 79 criado com fidelidade inicial 0.8305051809772904 e adicionado à memória do Host 7.\n",
      "2024-09-09 01:28:15,942: Qubit 80 adicionado à memória do Host 8.\n",
      "2024-09-09 01:28:15,942: Qubit 80 criado com fidelidade inicial 0.01116488160194229 e adicionado à memória do Host 8.\n",
      "2024-09-09 01:28:15,943: Qubit 81 adicionado à memória do Host 8.\n",
      "2024-09-09 01:28:15,943: Qubit 81 criado com fidelidade inicial 0.9949057429153946 e adicionado à memória do Host 8.\n",
      "2024-09-09 01:28:15,943: Qubit 82 adicionado à memória do Host 8.\n",
      "2024-09-09 01:28:15,943: Qubit 82 criado com fidelidade inicial 0.9271062061319788 e adicionado à memória do Host 8.\n",
      "2024-09-09 01:28:15,943: Qubit 83 adicionado à memória do Host 8.\n",
      "2024-09-09 01:28:15,944: Qubit 83 criado com fidelidade inicial 0.17913895378560718 e adicionado à memória do Host 8.\n",
      "2024-09-09 01:28:15,944: Qubit 84 adicionado à memória do Host 8.\n",
      "2024-09-09 01:28:15,944: Qubit 84 criado com fidelidade inicial 0.2917318506362242 e adicionado à memória do Host 8.\n",
      "2024-09-09 01:28:15,945: Qubit 85 adicionado à memória do Host 8.\n",
      "2024-09-09 01:28:15,946: Qubit 85 criado com fidelidade inicial 0.48470597162866536 e adicionado à memória do Host 8.\n",
      "2024-09-09 01:28:15,946: Qubit 86 adicionado à memória do Host 8.\n",
      "2024-09-09 01:28:15,946: Qubit 86 criado com fidelidade inicial 0.40661096047082346 e adicionado à memória do Host 8.\n",
      "2024-09-09 01:28:15,947: Qubit 87 adicionado à memória do Host 8.\n",
      "2024-09-09 01:28:15,948: Qubit 87 criado com fidelidade inicial 0.8584031641913606 e adicionado à memória do Host 8.\n",
      "2024-09-09 01:28:15,948: Qubit 88 adicionado à memória do Host 8.\n",
      "2024-09-09 01:28:15,948: Qubit 88 criado com fidelidade inicial 0.6602294114044721 e adicionado à memória do Host 8.\n",
      "2024-09-09 01:28:15,949: Qubit 89 adicionado à memória do Host 8.\n",
      "2024-09-09 01:28:15,950: Qubit 89 criado com fidelidade inicial 0.6533001001456877 e adicionado à memória do Host 8.\n",
      "2024-09-09 01:28:15,950: Par EPR <quantumnet.objects.epr.Epr object at 0x0000018FE5A985C0> adicionado ao canal.\n",
      "2024-09-09 01:28:15,950: Par EPR <quantumnet.objects.epr.Epr object at 0x0000018FE5A76450> adicionado ao canal.\n",
      "2024-09-09 01:28:15,951: Par EPR <quantumnet.objects.epr.Epr object at 0x0000018FE5A99520> adicionado ao canal.\n",
      "2024-09-09 01:28:15,951: Par EPR <quantumnet.objects.epr.Epr object at 0x0000018FE5A99550> adicionado ao canal.\n",
      "2024-09-09 01:28:15,952: Par EPR <quantumnet.objects.epr.Epr object at 0x0000018FE5A9B110> adicionado ao canal.\n",
      "2024-09-09 01:28:15,952: Par EPR <quantumnet.objects.epr.Epr object at 0x0000018FE58EB800> adicionado ao canal.\n",
      "2024-09-09 01:28:15,953: Par EPR <quantumnet.objects.epr.Epr object at 0x0000018FE5583980> adicionado ao canal.\n",
      "2024-09-09 01:28:15,953: Par EPR <quantumnet.objects.epr.Epr object at 0x0000018FE586B920> adicionado ao canal.\n",
      "2024-09-09 01:28:15,953: Par EPR <quantumnet.objects.epr.Epr object at 0x0000018FE58EB260> adicionado ao canal.\n",
      "2024-09-09 01:28:15,955: Par EPR <quantumnet.objects.epr.Epr object at 0x0000018FE58EB5C0> adicionado ao canal.\n",
      "2024-09-09 01:28:15,955: Par EPR <quantumnet.objects.epr.Epr object at 0x0000018FE5A9B650> adicionado ao canal.\n",
      "2024-09-09 01:28:15,955: Par EPR <quantumnet.objects.epr.Epr object at 0x0000018FE5A9B8F0> adicionado ao canal.\n",
      "2024-09-09 01:28:15,956: Par EPR <quantumnet.objects.epr.Epr object at 0x0000018FE5A9B7A0> adicionado ao canal.\n",
      "2024-09-09 01:28:15,956: Par EPR <quantumnet.objects.epr.Epr object at 0x0000018FE5A98E60> adicionado ao canal.\n",
      "2024-09-09 01:28:15,956: Par EPR <quantumnet.objects.epr.Epr object at 0x0000018FE5A9BB90> adicionado ao canal.\n",
      "2024-09-09 01:28:15,957: Par EPR <quantumnet.objects.epr.Epr object at 0x0000018FE5A9BD70> adicionado ao canal.\n",
      "2024-09-09 01:28:15,957: Par EPR <quantumnet.objects.epr.Epr object at 0x0000018FE5A9BDD0> adicionado ao canal.\n",
      "2024-09-09 01:28:15,957: Par EPR <quantumnet.objects.epr.Epr object at 0x0000018FE5A9BE00> adicionado ao canal.\n",
      "2024-09-09 01:28:15,957: Par EPR <quantumnet.objects.epr.Epr object at 0x0000018FE5A9BFB0> adicionado ao canal.\n",
      "2024-09-09 01:28:15,958: Par EPR <quantumnet.objects.epr.Epr object at 0x0000018FE59841D0> adicionado ao canal.\n",
      "2024-09-09 01:28:15,958: Par EPR <quantumnet.objects.epr.Epr object at 0x0000018FE5A9BB00> adicionado ao canal.\n",
      "2024-09-09 01:28:15,958: Par EPR <quantumnet.objects.epr.Epr object at 0x0000018FE5A9B860> adicionado ao canal.\n",
      "2024-09-09 01:28:15,958: Par EPR <quantumnet.objects.epr.Epr object at 0x0000018FE5A9BEF0> adicionado ao canal.\n",
      "2024-09-09 01:28:15,959: Par EPR <quantumnet.objects.epr.Epr object at 0x0000018FE5A980E0> adicionado ao canal.\n",
      "2024-09-09 01:28:15,959: Par EPR <quantumnet.objects.epr.Epr object at 0x0000018FE5A9BCB0> adicionado ao canal.\n",
      "2024-09-09 01:28:15,959: Par EPR <quantumnet.objects.epr.Epr object at 0x0000018FE5A4C5F0> adicionado ao canal.\n",
      "2024-09-09 01:28:15,960: Par EPR <quantumnet.objects.epr.Epr object at 0x0000018FE5AAC5C0> adicionado ao canal.\n",
      "2024-09-09 01:28:15,960: Par EPR <quantumnet.objects.epr.Epr object at 0x0000018FE5AAC800> adicionado ao canal.\n",
      "2024-09-09 01:28:15,960: Par EPR <quantumnet.objects.epr.Epr object at 0x0000018FE58FC9B0> adicionado ao canal.\n",
      "2024-09-09 01:28:15,960: Par EPR <quantumnet.objects.epr.Epr object at 0x0000018FE57AC260> adicionado ao canal.\n",
      "2024-09-09 01:28:15,961: Par EPR <quantumnet.objects.epr.Epr object at 0x0000018FE5A74CE0> adicionado ao canal.\n",
      "2024-09-09 01:28:15,961: Par EPR <quantumnet.objects.epr.Epr object at 0x0000018FE5A9A660> adicionado ao canal.\n",
      "2024-09-09 01:28:15,962: Par EPR <quantumnet.objects.epr.Epr object at 0x0000018FE5AACBF0> adicionado ao canal.\n",
      "2024-09-09 01:28:15,962: Par EPR <quantumnet.objects.epr.Epr object at 0x0000018FE5A74B90> adicionado ao canal.\n",
      "2024-09-09 01:28:15,962: Par EPR <quantumnet.objects.epr.Epr object at 0x0000018FE5A74DA0> adicionado ao canal.\n",
      "2024-09-09 01:28:15,963: Par EPR <quantumnet.objects.epr.Epr object at 0x0000018FE5AACD40> adicionado ao canal.\n",
      "2024-09-09 01:28:15,963: Par EPR <quantumnet.objects.epr.Epr object at 0x0000018FE5A75070> adicionado ao canal.\n",
      "2024-09-09 01:28:15,963: Par EPR <quantumnet.objects.epr.Epr object at 0x0000018FE5A74F80> adicionado ao canal.\n",
      "2024-09-09 01:28:15,964: Par EPR <quantumnet.objects.epr.Epr object at 0x0000018FE5A751C0> adicionado ao canal.\n",
      "2024-09-09 01:28:15,964: Par EPR <quantumnet.objects.epr.Epr object at 0x0000018FE5AACF50> adicionado ao canal.\n",
      "2024-09-09 01:28:15,964: Par EPR <quantumnet.objects.epr.Epr object at 0x0000018FE5A74DD0> adicionado ao canal.\n",
      "2024-09-09 01:28:15,964: Par EPR <quantumnet.objects.epr.Epr object at 0x0000018FE5A74BC0> adicionado ao canal.\n",
      "2024-09-09 01:28:15,965: Par EPR <quantumnet.objects.epr.Epr object at 0x0000018FE5A75370> adicionado ao canal.\n",
      "2024-09-09 01:28:15,966: Par EPR <quantumnet.objects.epr.Epr object at 0x0000018FE5A74FB0> adicionado ao canal.\n",
      "2024-09-09 01:28:15,966: Par EPR <quantumnet.objects.epr.Epr object at 0x0000018FE5AACB60> adicionado ao canal.\n",
      "2024-09-09 01:28:15,966: Par EPR <quantumnet.objects.epr.Epr object at 0x0000018FE5A74E60> adicionado ao canal.\n",
      "2024-09-09 01:28:15,967: Par EPR <quantumnet.objects.epr.Epr object at 0x0000018FE592D6A0> adicionado ao canal.\n",
      "2024-09-09 01:28:15,967: Par EPR <quantumnet.objects.epr.Epr object at 0x0000018FE5AAD520> adicionado ao canal.\n",
      "2024-09-09 01:28:15,967: Par EPR <quantumnet.objects.epr.Epr object at 0x0000018FE5AAC650> adicionado ao canal.\n",
      "2024-09-09 01:28:15,967: Par EPR <quantumnet.objects.epr.Epr object at 0x0000018FE5A758E0> adicionado ao canal.\n",
      "2024-09-09 01:28:15,967: Par EPR <quantumnet.objects.epr.Epr object at 0x0000018FE5A75A90> adicionado ao canal.\n",
      "2024-09-09 01:28:15,968: Par EPR <quantumnet.objects.epr.Epr object at 0x0000018FE5A75A00> adicionado ao canal.\n",
      "2024-09-09 01:28:15,969: Par EPR <quantumnet.objects.epr.Epr object at 0x0000018FE5A75B20> adicionado ao canal.\n",
      "2024-09-09 01:28:15,969: Par EPR <quantumnet.objects.epr.Epr object at 0x0000018FE5A755E0> adicionado ao canal.\n",
      "2024-09-09 01:28:15,969: Par EPR <quantumnet.objects.epr.Epr object at 0x0000018FE5AAD970> adicionado ao canal.\n",
      "2024-09-09 01:28:15,970: Par EPR <quantumnet.objects.epr.Epr object at 0x0000018FE5A75CA0> adicionado ao canal.\n",
      "2024-09-09 01:28:15,970: Par EPR <quantumnet.objects.epr.Epr object at 0x0000018FE5A75E80> adicionado ao canal.\n",
      "2024-09-09 01:28:15,970: Par EPR <quantumnet.objects.epr.Epr object at 0x0000018FE5A75F40> adicionado ao canal.\n",
      "2024-09-09 01:28:15,970: Par EPR <quantumnet.objects.epr.Epr object at 0x0000018FE5AAD160> adicionado ao canal.\n",
      "2024-09-09 01:28:15,971: Par EPR <quantumnet.objects.epr.Epr object at 0x0000018FE5A75CD0> adicionado ao canal.\n",
      "2024-09-09 01:28:15,971: Par EPR <quantumnet.objects.epr.Epr object at 0x0000018FE5A76150> adicionado ao canal.\n",
      "2024-09-09 01:28:15,971: Par EPR <quantumnet.objects.epr.Epr object at 0x0000018FE5A75FD0> adicionado ao canal.\n",
      "2024-09-09 01:28:15,972: Par EPR <quantumnet.objects.epr.Epr object at 0x0000018FE5A75D30> adicionado ao canal.\n",
      "2024-09-09 01:28:15,972: Par EPR <quantumnet.objects.epr.Epr object at 0x0000018FE5A762A0> adicionado ao canal.\n",
      "2024-09-09 01:28:15,973: Par EPR <quantumnet.objects.epr.Epr object at 0x0000018FE5AAD9A0> adicionado ao canal.\n",
      "2024-09-09 01:28:15,973: Par EPR <quantumnet.objects.epr.Epr object at 0x0000018FE5A76090> adicionado ao canal.\n",
      "2024-09-09 01:28:15,973: Par EPR <quantumnet.objects.epr.Epr object at 0x0000018FE5A76330> adicionado ao canal.\n",
      "2024-09-09 01:28:15,974: Par EPR <quantumnet.objects.epr.Epr object at 0x0000018FE58BE3F0> adicionado ao canal.\n",
      "2024-09-09 01:28:15,974: Par EPR <quantumnet.objects.epr.Epr object at 0x0000018FE5A76540> adicionado ao canal.\n",
      "2024-09-09 01:28:15,974: Par EPR <quantumnet.objects.epr.Epr object at 0x0000018FE5A759D0> adicionado ao canal.\n",
      "2024-09-09 01:28:15,975: Par EPR <quantumnet.objects.epr.Epr object at 0x0000018FE5A76720> adicionado ao canal.\n",
      "2024-09-09 01:28:15,975: Par EPR <quantumnet.objects.epr.Epr object at 0x0000018FE5A76000> adicionado ao canal.\n",
      "2024-09-09 01:28:15,976: Par EPR <quantumnet.objects.epr.Epr object at 0x0000018FE5A76690> adicionado ao canal.\n",
      "2024-09-09 01:28:15,976: Par EPR <quantumnet.objects.epr.Epr object at 0x0000018FE5A76900> adicionado ao canal.\n",
      "2024-09-09 01:28:15,976: Par EPR <quantumnet.objects.epr.Epr object at 0x0000018FE5A765D0> adicionado ao canal.\n",
      "2024-09-09 01:28:15,977: Par EPR <quantumnet.objects.epr.Epr object at 0x0000018FE551EA80> adicionado ao canal.\n",
      "2024-09-09 01:28:15,977: Par EPR <quantumnet.objects.epr.Epr object at 0x0000018FE5A76AE0> adicionado ao canal.\n",
      "2024-09-09 01:28:15,977: Par EPR <quantumnet.objects.epr.Epr object at 0x0000018FE5A768D0> adicionado ao canal.\n",
      "2024-09-09 01:28:15,977: Par EPR <quantumnet.objects.epr.Epr object at 0x0000018FE5A76A20> adicionado ao canal.\n",
      "2024-09-09 01:28:15,978: Par EPR <quantumnet.objects.epr.Epr object at 0x0000018FE5A76D80> adicionado ao canal.\n",
      "2024-09-09 01:28:15,978: Par EPR <quantumnet.objects.epr.Epr object at 0x0000018FE5AAE930> adicionado ao canal.\n",
      "2024-09-09 01:28:15,978: Par EPR <quantumnet.objects.epr.Epr object at 0x0000018FE5A76C90> adicionado ao canal.\n",
      "2024-09-09 01:28:15,978: Par EPR <quantumnet.objects.epr.Epr object at 0x0000018FE5A76870> adicionado ao canal.\n",
      "2024-09-09 01:28:15,979: Par EPR <quantumnet.objects.epr.Epr object at 0x0000018FE5A76F30> adicionado ao canal.\n",
      "2024-09-09 01:28:15,979: Par EPR <quantumnet.objects.epr.Epr object at 0x0000018FE5A76D50> adicionado ao canal.\n",
      "2024-09-09 01:28:15,979: Par EPR <quantumnet.objects.epr.Epr object at 0x0000018FE5A77050> adicionado ao canal.\n",
      "2024-09-09 01:28:15,980: Par EPR <quantumnet.objects.epr.Epr object at 0x0000018FE5A76EA0> adicionado ao canal.\n",
      "2024-09-09 01:28:15,980: Par EPR <quantumnet.objects.epr.Epr object at 0x0000018FE5A77020> adicionado ao canal.\n",
      "2024-09-09 01:28:15,980: Par EPR <quantumnet.objects.epr.Epr object at 0x0000018FE5A770E0> adicionado ao canal.\n",
      "2024-09-09 01:28:15,981: Par EPR <quantumnet.objects.epr.Epr object at 0x0000018FE5A772C0> adicionado ao canal.\n",
      "2024-09-09 01:28:15,981: Par EPR <quantumnet.objects.epr.Epr object at 0x0000018FE5A77230> adicionado ao canal.\n",
      "2024-09-09 01:28:15,981: Par EPR <quantumnet.objects.epr.Epr object at 0x0000018FE5A77200> adicionado ao canal.\n",
      "2024-09-09 01:28:15,981: Par EPR <quantumnet.objects.epr.Epr object at 0x0000018FE5AAF110> adicionado ao canal.\n",
      "2024-09-09 01:28:15,982: Par EPR <quantumnet.objects.epr.Epr object at 0x0000018FE5A77080> adicionado ao canal.\n",
      "2024-09-09 01:28:15,982: Par EPR <quantumnet.objects.epr.Epr object at 0x0000018FE5A77410> adicionado ao canal.\n",
      "2024-09-09 01:28:15,982: Par EPR <quantumnet.objects.epr.Epr object at 0x0000018FE5AAF470> adicionado ao canal.\n",
      "2024-09-09 01:28:15,982: Par EPR <quantumnet.objects.epr.Epr object at 0x0000018FE5A77740> adicionado ao canal.\n",
      "2024-09-09 01:28:15,983: Par EPR <quantumnet.objects.epr.Epr object at 0x0000018FE5AAF680> adicionado ao canal.\n",
      "2024-09-09 01:28:15,983: Par EPR <quantumnet.objects.epr.Epr object at 0x0000018FE5A776B0> adicionado ao canal.\n",
      "2024-09-09 01:28:15,983: Par EPR <quantumnet.objects.epr.Epr object at 0x0000018FE5AAF830> adicionado ao canal.\n",
      "2024-09-09 01:28:15,984: Par EPR <quantumnet.objects.epr.Epr object at 0x0000018FE5A779E0> adicionado ao canal.\n",
      "2024-09-09 01:28:15,984: Par EPR <quantumnet.objects.epr.Epr object at 0x0000018FE551FB60> adicionado ao canal.\n",
      "2024-09-09 01:28:15,985: Par EPR <quantumnet.objects.epr.Epr object at 0x0000018FE5A778F0> adicionado ao canal.\n",
      "2024-09-09 01:28:15,985: Par EPR <quantumnet.objects.epr.Epr object at 0x0000018FE5A77CB0> adicionado ao canal.\n",
      "2024-09-09 01:28:15,985: Par EPR <quantumnet.objects.epr.Epr object at 0x0000018FE50B7C20> adicionado ao canal.\n",
      "2024-09-09 01:28:15,986: Par EPR <quantumnet.objects.epr.Epr object at 0x0000018FE5AAFAD0> adicionado ao canal.\n",
      "2024-09-09 01:28:15,986: Par EPR <quantumnet.objects.epr.Epr object at 0x0000018FE5A77C50> adicionado ao canal.\n",
      "2024-09-09 01:28:15,986: Par EPR <quantumnet.objects.epr.Epr object at 0x0000018FE5A77E90> adicionado ao canal.\n",
      "2024-09-09 01:28:15,987: Par EPR <quantumnet.objects.epr.Epr object at 0x0000018FE5AAFD70> adicionado ao canal.\n",
      "2024-09-09 01:28:15,987: Par EPR <quantumnet.objects.epr.Epr object at 0x0000018FE5A77FE0> adicionado ao canal.\n",
      "2024-09-09 01:28:15,987: Par EPR <quantumnet.objects.epr.Epr object at 0x0000018FE5AAFB00> adicionado ao canal.\n",
      "2024-09-09 01:28:15,987: Par EPR <quantumnet.objects.epr.Epr object at 0x0000018FE5AAFF50> adicionado ao canal.\n",
      "2024-09-09 01:28:15,988: Par EPR <quantumnet.objects.epr.Epr object at 0x0000018FE5AAFF80> adicionado ao canal.\n",
      "2024-09-09 01:28:15,988: Par EPR <quantumnet.objects.epr.Epr object at 0x0000018FE5A77E00> adicionado ao canal.\n",
      "2024-09-09 01:28:15,988: Par EPR <quantumnet.objects.epr.Epr object at 0x0000018FE5AAFE30> adicionado ao canal.\n",
      "2024-09-09 01:28:15,989: Par EPR <quantumnet.objects.epr.Epr object at 0x0000018FE5AAFD40> adicionado ao canal.\n",
      "2024-09-09 01:28:15,989: Par EPR <quantumnet.objects.epr.Epr object at 0x0000018FE5AAFC80> adicionado ao canal.\n",
      "2024-09-09 01:28:15,989: Par EPR <quantumnet.objects.epr.Epr object at 0x0000018FE5A983B0> adicionado ao canal.\n",
      "2024-09-09 01:28:15,989: Par EPR <quantumnet.objects.epr.Epr object at 0x0000018FE5A98620> adicionado ao canal.\n",
      "2024-09-09 01:28:15,990: Par EPR <quantumnet.objects.epr.Epr object at 0x0000018FE5A98320> adicionado ao canal.\n"
     ]
    },
    {
     "name": "stdout",
     "output_type": "stream",
     "text": [
      "Hosts inicializados\n",
      "Canais inicializados\n",
      "Pares EPRs adicionados\n"
     ]
    },
    {
     "data": {
      "image/png": "[encoded data removed]",
      "text/plain": [
       "<Figure size 640x480 with 1 Axes>"
      ]
     },
     "metadata": {},
     "output_type": "display_data"
    }
   ],
   "source": [
    "rede = Network()\n",
    "rede.set_ready_topology(\"Grade\", 3,3)\n",
    "rede.draw()"
   ]
  },
  {
   "cell_type": "code",
   "execution_count": 3,
   "metadata": {},
   "outputs": [],
   "source": [
    "alice = rede.get_host(3)\n",
    "bob = rede.get_host(4)"
   ]
  },
  {
   "cell_type": "code",
   "execution_count": 4,
   "metadata": {},
   "outputs": [
    {
     "name": "stderr",
     "output_type": "stream",
     "text": [
      "2024-09-09 01:28:16,570: Timeslot 1: Par epr criado com fidelidade 0.025778869567504643\n",
      "2024-09-09 01:28:16,571: Timeslot 2: O protocolo de criação de emaranhamento foi bem sucedido, mas com fidelidade baixa.\n"
     ]
    },
    {
     "data": {
      "text/plain": [
       "False"
      ]
     },
     "execution_count": 4,
     "metadata": {},
     "output_type": "execute_result"
    }
   ],
   "source": [
    "rede.physical.entanglement_creation_heralding_protocol(alice,bob)"
   ]
  },
  {
   "cell_type": "code",
   "execution_count": 5,
   "metadata": {},
   "outputs": [
    {
     "name": "stderr",
     "output_type": "stream",
     "text": [
      "2024-09-09 01:28:16,582: Timeslot 3: Par epr criado com fidelidade 0.05475277821624813\n",
      "2024-09-09 01:28:16,582: Timeslot 4: O protocolo de criação de emaranhamento foi bem sucedido, mas com fidelidade baixa.\n",
      "2024-09-09 01:28:16,583: Timeslot 1: Entrelaçamento falhou entre 1 e 2 na tentativa 1.\n",
      "2024-09-09 01:28:16,583: Timeslot 5: Par epr criado com fidelidade 0.5818451739417109\n",
      "2024-09-09 01:28:16,583: Timeslot 6: O protocolo de criação de emaranhamento foi bem sucedido, mas com fidelidade baixa.\n",
      "2024-09-09 01:28:16,583: Timeslot 2: Entrelaçamento falhou entre 1 e 2 na tentativa 2.\n",
      "2024-09-09 01:28:16,583: Timeslot 3: Purificação falhou no canal (1, 2) devido a baixa probabilidade de sucesso da purificação.\n"
     ]
    },
    {
     "data": {
      "text/plain": [
       "False"
      ]
     },
     "execution_count": 5,
     "metadata": {},
     "output_type": "execute_result"
    }
   ],
   "source": [
    "rede.linklayer.request(1,2)"
   ]
  },
  {
   "cell_type": "code",
   "execution_count": 6,
   "metadata": {},
   "outputs": [
    {
     "name": "stderr",
     "output_type": "stream",
     "text": [
      "2024-09-09 01:28:16,594: Rota válida encontrada: [8, 5, 2, 1, 0]\n",
      "2024-09-09 01:28:16,594: Par EPR <quantumnet.objects.epr.Epr object at 0x0000018FE588CBF0> adicionado ao canal (8, 2).\n",
      "2024-09-09 01:28:16,594: Par EPR <quantumnet.objects.epr.Epr object at 0x0000018FE5A77230> removido do canal (8, 5).\n",
      "2024-09-09 01:28:16,595: Par EPR <quantumnet.objects.epr.Epr object at 0x0000018FE5A74DD0> removido do canal (5, 2).\n",
      "2024-09-09 01:28:16,595: Par EPR <quantumnet.objects.epr.Epr object at 0x0000018FE5A74DD0> adicionado ao canal (8, 1).\n",
      "2024-09-09 01:28:16,596: Par EPR <quantumnet.objects.epr.Epr object at 0x0000018FE588CBF0> removido do canal (8, 2).\n",
      "2024-09-09 01:28:16,596: Par EPR <quantumnet.objects.epr.Epr object at 0x0000018FE5A74CE0> removido do canal (2, 1).\n",
      "2024-09-09 01:28:16,596: Par EPR <quantumnet.objects.epr.Epr object at 0x0000018FE588CBF0> adicionado ao canal (8, 0).\n",
      "2024-09-09 01:28:16,596: Par EPR <quantumnet.objects.epr.Epr object at 0x0000018FE5A74DD0> removido do canal (8, 1).\n",
      "2024-09-09 01:28:16,597: Par EPR <quantumnet.objects.epr.Epr object at 0x0000018FE5A9B650> removido do canal (1, 0).\n",
      "2024-09-09 01:28:16,597: Entanglement Swapping concluído com sucesso entre 8 e 0\n"
     ]
    },
    {
     "data": {
      "text/plain": [
       "True"
      ]
     },
     "execution_count": 6,
     "metadata": {},
     "output_type": "execute_result"
    }
   ],
   "source": [
    "rede.networklayer.entanglement_swapping(8,0)\n"
   ]
  },
  {
   "cell_type": "code",
   "execution_count": 7,
   "metadata": {},
   "outputs": [
    {
     "name": "stderr",
     "output_type": "stream",
     "text": [
      "2024-09-09 01:28:16,607: Rota válida encontrada: [0, 8]\n",
      "2024-09-09 01:28:16,607: Rota válida encontrada: [0, 8]\n",
      "2024-09-09 01:28:16,608: Rota válida encontrada: [0, 8]\n",
      "2024-09-09 01:28:16,608: Rota válida encontrada: [0, 8]\n",
      "2024-09-09 01:28:16,609: Rota válida encontrada: [0, 8]\n",
      "2024-09-09 01:28:16,609: Rota válida encontrada: [0, 8]\n",
      "2024-09-09 01:28:16,610: Rota válida encontrada: [0, 8]\n",
      "2024-09-09 01:28:16,610: Rota válida encontrada: [0, 8]\n",
      "2024-09-09 01:28:16,610: Rota válida encontrada: [0, 8]\n",
      "2024-09-09 01:28:16,611: Teletransporte de qubit de 0 para 8 na rota [0, 8] foi bem-sucedido com fidelidade final de 0.5754608617069097. Timeslot: 1\n",
      "2024-09-09 01:28:16,611: Teletransporte de qubit de 0 para 8 na rota [0, 8] foi bem-sucedido com fidelidade final de 0.7577819366411099. Timeslot: 2\n",
      "2024-09-09 01:28:16,612: Teletransporte de qubit de 0 para 8 na rota [0, 8] foi bem-sucedido com fidelidade final de 0.7034076051568482. Timeslot: 3\n",
      "2024-09-09 01:28:16,612: Teletransporte de qubit de 0 para 8 na rota [0, 8] foi bem-sucedido com fidelidade final de 0.8179346788173104. Timeslot: 4\n",
      "2024-09-09 01:28:16,612: Teletransporte de qubit de 0 para 8 na rota [0, 8] foi bem-sucedido com fidelidade final de 0.28300393162147175. Timeslot: 5\n",
      "2024-09-09 01:28:16,612: Teletransporte de qubit de 0 para 8 na rota [0, 8] foi bem-sucedido com fidelidade final de 0.4054013107455875. Timeslot: 6\n",
      "2024-09-09 01:28:16,613: Teletransporte de qubit de 0 para 8 na rota [0, 8] foi bem-sucedido com fidelidade final de 0.6193643704999071. Timeslot: 7\n",
      "2024-09-09 01:28:16,613: Teletransporte de qubit de 0 para 8 na rota [0, 8] foi bem-sucedido com fidelidade final de 0.7694134464310125. Timeslot: 8\n",
      "2024-09-09 01:28:16,613: Teletransporte de qubit de 0 para 8 na rota [0, 8] foi bem-sucedido com fidelidade final de 0.4080338469876865. Timeslot: 9\n",
      "2024-09-09 01:28:16,613: Transmissão e teletransporte de 9 qubits entre 0 e 8 concluídos com sucesso. Timeslot: 9\n"
     ]
    },
    {
     "data": {
      "text/plain": [
       "True"
      ]
     },
     "execution_count": 7,
     "metadata": {},
     "output_type": "execute_result"
    }
   ],
   "source": [
    "rede.transportlayer.run_transport_layer(0,8,9)"
   ]
  },
  {
   "cell_type": "code",
   "execution_count": 8,
   "metadata": {},
   "outputs": [
    {
     "name": "stderr",
     "output_type": "stream",
     "text": [
      "2024-09-09 01:28:16,627: Iniciando protocolo E91 com 20 qubits.\n",
      "2024-09-09 01:28:16,628: Timeslot incrementado na função prepare_e91_qubits: 1\n",
      "2024-09-09 01:28:16,628: Qubits preparados com a chave: [0, 1, 0, 1, 0, 1, 1, 0, 1, 0, 0, 0, 1, 0, 1, 1, 0, 1, 0, 1] e bases: [1, 1, 0, 1, 1, 1, 0, 0, 1, 0, 1, 0, 1, 1, 0, 0, 0, 1, 0, 0]\n",
      "2024-09-09 01:28:16,629: Timeslot incrementado na função apply_bases_and_measure_e91: 2\n",
      "2024-09-09 01:28:16,629: Resultados das medições: [1, 0, 0, 0, 0, 0, 0, 1, 0, 0, 1, 1, 0, 0, 1, 1, 0, 0, 1, 1] com bases: [1, 0, 1, 0, 1, 1, 1, 1, 0, 1, 1, 1, 0, 1, 0, 0, 1, 0, 1, 0]\n",
      "2024-09-09 01:28:16,630: Índices comuns: [0, 4, 5, 10, 13, 14, 15, 19]\n",
      "2024-09-09 01:28:16,630: Transmitindo qubits coincidentes de Alice (ID 0) para Bob (ID 8).\n",
      "2024-09-09 01:28:16,631: Número insuficiente de qubits na memória de Alice (Host 0). Tentando transmitir os 1 qubits disponíveis.\n",
      "2024-09-09 01:28:16,631: Nó 0 não tem pelo menos 2 qubits na rota [0, 8]\n",
      "2024-09-09 01:28:16,632: Nenhuma rota válida encontrada.\n",
      "2024-09-09 01:28:16,632: Não foi possível encontrar uma rota válida na tentativa 1. Timeslot: 9\n",
      "2024-09-09 01:28:16,632: Nó 0 não tem pelo menos 2 qubits na rota [0, 8]\n",
      "2024-09-09 01:28:16,634: Nenhuma rota válida encontrada.\n",
      "2024-09-09 01:28:16,634: Não foi possível encontrar uma rota válida na tentativa 2. Timeslot: 9\n",
      "2024-09-09 01:28:16,634: Falha na transmissão de 1 qubits entre 0 e 8 após 2 tentativas. Timeslot: 9\n",
      "2024-09-09 01:28:16,634: Falha na transmissão dos qubits coincidentes.\n"
     ]
    }
   ],
   "source": [
    "rede.application_layer.qkd_e91_protocol(0,8,10)"
   ]
  },
  {
   "cell_type": "code",
   "execution_count": 9,
   "metadata": {},
   "outputs": [
    {
     "name": "stderr",
     "output_type": "stream",
     "text": [
      "2024-09-09 01:28:16,650: Timeslot atual na camada PhysicalLayer: 6\n",
      "2024-09-09 01:28:16,652: Timeslot atual na camada LinkLayer: 3\n",
      "2024-09-09 01:28:16,653: Timeslot atual na camada NetworkLayer: 4\n",
      "2024-09-09 01:28:16,654: Timeslot atual na camada TransportLayer: 9\n",
      "2024-09-09 01:28:16,654: Timeslot atual na camada ApplicationLayer: 2\n"
     ]
    },
    {
     "data": {
      "text/plain": [
       "24"
      ]
     },
     "execution_count": 9,
     "metadata": {},
     "output_type": "execute_result"
    }
   ],
   "source": [
    "rede.get_total_timeslot()"
   ]
  },
  {
   "cell_type": "code",
   "execution_count": 10,
   "metadata": {},
   "outputs": [
    {
     "name": "stderr",
     "output_type": "stream",
     "text": [
      "2024-09-09 01:28:16,666: Eprs usados na camada PhysicalLayer: 3\n",
      "2024-09-09 01:28:16,667: Eprs usados na camada LinkLayer: 2\n",
      "2024-09-09 01:28:16,667: Eprs usados na camada NetworkLayer: 3\n"
     ]
    },
    {
     "data": {
      "text/plain": [
       "8"
      ]
     },
     "execution_count": 10,
     "metadata": {},
     "output_type": "execute_result"
    }
   ],
   "source": [
    "rede.get_total_useds_eprs()"
   ]
  },
  {
   "cell_type": "code",
   "execution_count": 11,
   "metadata": {},
   "outputs": [
    {
     "data": {
      "text/plain": [
       "<bound method Network.get_total_useds_qubits of <quantumnet.components.network.Network object at 0x0000018FE59A96D0>>"
      ]
     },
     "execution_count": 11,
     "metadata": {},
     "output_type": "execute_result"
    }
   ],
   "source": [
    "rede.get_total_useds_qubits"
   ]
  },
  {
   "cell_type": "code",
   "execution_count": 12,
   "metadata": {},
   "outputs": [
    {
     "name": "stderr",
     "output_type": "stream",
     "text": [
      "2024-09-09 01:28:16,688: A fidelidade média dos EPRs criados na camada de enlace é 0.22079227390848788\n"
     ]
    },
    {
     "name": "stdout",
     "output_type": "stream",
     "text": [
      "Total de EPRs criados na camada de enlace: 3\n",
      "Total de fidelidade dos EPRs criados na camada de enlace: 0.6623768217254636\n"
     ]
    },
    {
     "data": {
      "text/plain": [
       "0.22079227390848788"
      ]
     },
     "execution_count": 12,
     "metadata": {},
     "output_type": "execute_result"
    }
   ],
   "source": [
    "rede.linklayer.avg_fidelity_on_linklayer()"
   ]
  },
  {
   "cell_type": "code",
   "execution_count": 13,
   "metadata": {},
   "outputs": [
    {
     "name": "stderr",
     "output_type": "stream",
     "text": [
      "2024-09-09 01:28:16,699: Nenhum EPR foi utilizado na camada de transporte.\n"
     ]
    },
    {
     "data": {
      "text/plain": [
       "0.0"
      ]
     },
     "execution_count": 13,
     "metadata": {},
     "output_type": "execute_result"
    }
   ],
   "source": [
    "rede.transportlayer.avg_fidelity_on_transportlayer()"
   ]
  },
  {
   "cell_type": "code",
   "execution_count": 14,
   "metadata": {},
   "outputs": [
    {
     "name": "stderr",
     "output_type": "stream",
     "text": [
      "2024-09-09 01:28:16,709: Timeslot atual na camada PhysicalLayer: 6\n",
      "2024-09-09 01:28:16,710: Timeslot atual na camada LinkLayer: 3\n",
      "2024-09-09 01:28:16,710: Timeslot atual na camada NetworkLayer: 4\n",
      "2024-09-09 01:28:16,711: Timeslot atual na camada TransportLayer: 9\n",
      "2024-09-09 01:28:16,711: Timeslot atual na camada ApplicationLayer: 2\n",
      "2024-09-09 01:28:16,712: Eprs usados na camada PhysicalLayer: 3\n",
      "2024-09-09 01:28:16,712: Eprs usados na camada LinkLayer: 2\n",
      "2024-09-09 01:28:16,713: Eprs usados na camada NetworkLayer: 3\n",
      "2024-09-09 01:28:16,713: Qubits usados na camada PhysicalLayer: 6\n",
      "2024-09-09 01:28:16,714: Qubits usados na camada LinkLayer: 0\n",
      "2024-09-09 01:28:16,714: Qubits usados na camada TransportLayer: 9\n",
      "2024-09-09 01:28:16,714: Qubits usados na camada ApplicationLayer: 20\n",
      "2024-09-09 01:28:16,715: Nenhum EPR foi utilizado na camada de transporte.\n",
      "2024-09-09 01:28:16,715: A fidelidade média dos EPRs criados na camada de enlace é 0.22079227390848788\n",
      "2024-09-09 01:28:16,715: Nó 0 não tem pelo menos 2 qubits na rota [0, 1]\n",
      "2024-09-09 01:28:16,716: Nenhuma rota válida encontrada.\n",
      "2024-09-09 01:28:16,716: Nó 0 não tem pelo menos 2 qubits na rota [0, 1, 2]\n",
      "2024-09-09 01:28:16,716: Nó 0 não tem pelo menos 2 qubits na rota [0, 8, 2]\n",
      "2024-09-09 01:28:16,716: Nenhuma rota válida encontrada.\n",
      "2024-09-09 01:28:16,718: Nó 0 não tem pelo menos 2 qubits na rota [0, 3]\n",
      "2024-09-09 01:28:16,718: Nenhuma rota válida encontrada.\n",
      "2024-09-09 01:28:16,718: Nó 0 não tem pelo menos 2 qubits na rota [0, 3, 4]\n",
      "2024-09-09 01:28:16,719: Nó 0 não tem pelo menos 2 qubits na rota [0, 1, 4]\n",
      "2024-09-09 01:28:16,719: Nenhuma rota válida encontrada.\n",
      "2024-09-09 01:28:16,719: Nó 0 não tem pelo menos 2 qubits na rota [0, 8, 5]\n",
      "2024-09-09 01:28:16,720: Nenhuma rota válida encontrada.\n",
      "2024-09-09 01:28:16,720: Nó 0 não tem pelo menos 2 qubits na rota [0, 3, 6]\n",
      "2024-09-09 01:28:16,720: Nenhuma rota válida encontrada.\n",
      "2024-09-09 01:28:16,720: Nó 0 não tem pelo menos 2 qubits na rota [0, 8, 7]\n",
      "2024-09-09 01:28:16,720: Nenhuma rota válida encontrada.\n",
      "2024-09-09 01:28:16,721: Nó 0 não tem pelo menos 2 qubits na rota [0, 8]\n",
      "2024-09-09 01:28:16,721: Nenhuma rota válida encontrada.\n",
      "2024-09-09 01:28:16,721: Rota válida encontrada: [1, 0]\n",
      "2024-09-09 01:28:16,722: Rota válida encontrada: [1, 2]\n",
      "2024-09-09 01:28:16,722: Nó 0 não tem pelo menos 2 qubits na rota [1, 0, 3]\n",
      "2024-09-09 01:28:16,722: Rota válida encontrada: [1, 4, 3]\n",
      "2024-09-09 01:28:16,723: Rota válida encontrada: [1, 4]\n",
      "2024-09-09 01:28:16,723: Rota válida encontrada: [1, 4, 5]\n",
      "2024-09-09 01:28:16,723: Nó 0 não tem pelo menos 2 qubits na rota [1, 0, 3, 6]\n",
      "2024-09-09 01:28:16,724: Rota válida encontrada: [1, 4, 3, 6]\n",
      "2024-09-09 01:28:16,724: Rota válida encontrada: [1, 4, 7]\n",
      "2024-09-09 01:28:16,724: Sem pares EPRs entre 1 e 8 na rota [1, 8]\n",
      "2024-09-09 01:28:16,725: Nenhuma rota válida encontrada.\n",
      "2024-09-09 01:28:16,725: Rota válida encontrada: [2, 1, 0]\n",
      "2024-09-09 01:28:16,725: Rota válida encontrada: [2, 1]\n",
      "2024-09-09 01:28:16,726: Nó 0 não tem pelo menos 2 qubits na rota [2, 1, 0, 3]\n",
      "2024-09-09 01:28:16,726: Sem pares EPRs entre 2 e 8 na rota [2, 8, 0, 3]\n",
      "2024-09-09 01:28:16,726: Rota válida encontrada: [2, 1, 4, 3]\n",
      "2024-09-09 01:28:16,726: Rota válida encontrada: [2, 1, 4]\n",
      "2024-09-09 01:28:16,727: Rota válida encontrada: [2, 5]\n",
      "2024-09-09 01:28:16,727: Sem pares EPRs entre 2 e 8 na rota [2, 8, 7, 6]\n",
      "2024-09-09 01:28:16,727: Nenhuma rota válida encontrada.\n",
      "2024-09-09 01:28:16,728: Sem pares EPRs entre 2 e 8 na rota [2, 8, 7]\n",
      "2024-09-09 01:28:16,728: Nenhuma rota válida encontrada.\n",
      "2024-09-09 01:28:16,728: Sem pares EPRs entre 2 e 8 na rota [2, 8]\n",
      "2024-09-09 01:28:16,729: Nenhuma rota válida encontrada.\n",
      "2024-09-09 01:28:16,729: Rota válida encontrada: [3, 0]\n",
      "2024-09-09 01:28:16,730: Nó 0 não tem pelo menos 2 qubits na rota [3, 0, 1]\n",
      "2024-09-09 01:28:16,730: Rota válida encontrada: [3, 4, 1]\n",
      "2024-09-09 01:28:16,730: Nó 0 não tem pelo menos 2 qubits na rota [3, 0, 1, 2]\n",
      "2024-09-09 01:28:16,731: Rota válida encontrada: [3, 4, 1, 2]\n",
      "2024-09-09 01:28:16,731: Rota válida encontrada: [3, 4]\n",
      "2024-09-09 01:28:16,731: Rota válida encontrada: [3, 4, 5]\n",
      "2024-09-09 01:28:16,732: Rota válida encontrada: [3, 6]\n",
      "2024-09-09 01:28:16,732: Rota válida encontrada: [3, 6, 7]\n",
      "2024-09-09 01:28:16,732: Nó 0 não tem pelo menos 2 qubits na rota [3, 0, 8]\n",
      "2024-09-09 01:28:16,732: Nenhuma rota válida encontrada.\n",
      "2024-09-09 01:28:16,732: Rota válida encontrada: [4, 1, 0]\n",
      "2024-09-09 01:28:16,734: Rota válida encontrada: [4, 1]\n",
      "2024-09-09 01:28:16,734: Rota válida encontrada: [4, 1, 2]\n",
      "2024-09-09 01:28:16,734: Rota válida encontrada: [4, 3]\n",
      "2024-09-09 01:28:16,735: Rota válida encontrada: [4, 5]\n",
      "2024-09-09 01:28:16,735: Rota válida encontrada: [4, 3, 6]\n",
      "2024-09-09 01:28:16,736: Rota válida encontrada: [4, 7]\n",
      "2024-09-09 01:28:16,736: Sem pares EPRs entre 1 e 8 na rota [4, 1, 8]\n",
      "2024-09-09 01:28:16,736: Rota válida encontrada: [4, 7, 8]\n",
      "2024-09-09 01:28:16,737: Rota válida encontrada: [5, 8, 0]\n",
      "2024-09-09 01:28:16,737: Rota válida encontrada: [5, 2, 1]\n",
      "2024-09-09 01:28:16,737: Rota válida encontrada: [5, 2]\n",
      "2024-09-09 01:28:16,738: Rota válida encontrada: [5, 4, 3]\n",
      "2024-09-09 01:28:16,738: Rota válida encontrada: [5, 4]\n",
      "2024-09-09 01:28:16,738: Rota válida encontrada: [5, 4, 3, 6]\n",
      "2024-09-09 01:28:16,739: Rota válida encontrada: [5, 4, 7]\n",
      "2024-09-09 01:28:16,739: Rota válida encontrada: [5, 8]\n",
      "2024-09-09 01:28:16,739: Rota válida encontrada: [6, 3, 0]\n",
      "2024-09-09 01:28:16,740: Nó 0 não tem pelo menos 2 qubits na rota [6, 3, 0, 1]\n",
      "2024-09-09 01:28:16,740: Rota válida encontrada: [6, 3, 4, 1]\n",
      "2024-09-09 01:28:16,740: Sem pares EPRs entre 8 e 2 na rota [6, 7, 8, 2]\n",
      "2024-09-09 01:28:16,740: Nenhuma rota válida encontrada.\n",
      "2024-09-09 01:28:16,741: Rota válida encontrada: [6, 3]\n",
      "2024-09-09 01:28:16,741: Rota válida encontrada: [6, 3, 4]\n",
      "2024-09-09 01:28:16,742: Rota válida encontrada: [6, 3, 4, 5]\n",
      "2024-09-09 01:28:16,742: Rota válida encontrada: [6, 7]\n",
      "2024-09-09 01:28:16,742: Rota válida encontrada: [6, 7, 8]\n",
      "2024-09-09 01:28:16,743: Rota válida encontrada: [7, 8, 0]\n",
      "2024-09-09 01:28:16,743: Rota válida encontrada: [7, 4, 1]\n",
      "2024-09-09 01:28:16,743: Sem pares EPRs entre 8 e 2 na rota [7, 8, 2]\n",
      "2024-09-09 01:28:16,743: Nenhuma rota válida encontrada.\n",
      "2024-09-09 01:28:16,743: Rota válida encontrada: [7, 4, 3]\n",
      "2024-09-09 01:28:16,743: Rota válida encontrada: [7, 4]\n",
      "2024-09-09 01:28:16,743: Rota válida encontrada: [7, 4, 5]\n",
      "2024-09-09 01:28:16,745: Rota válida encontrada: [7, 6]\n",
      "2024-09-09 01:28:16,745: Rota válida encontrada: [7, 8]\n",
      "2024-09-09 01:28:16,745: Rota válida encontrada: [8, 0]\n",
      "2024-09-09 01:28:16,746: Sem pares EPRs entre 8 e 1 na rota [8, 1]\n",
      "2024-09-09 01:28:16,746: Nenhuma rota válida encontrada.\n",
      "2024-09-09 01:28:16,746: Sem pares EPRs entre 8 e 2 na rota [8, 2]\n",
      "2024-09-09 01:28:16,746: Nenhuma rota válida encontrada.\n",
      "2024-09-09 01:28:16,747: Nó 0 não tem pelo menos 2 qubits na rota [8, 0, 3]\n",
      "2024-09-09 01:28:16,747: Nenhuma rota válida encontrada.\n",
      "2024-09-09 01:28:16,747: Rota válida encontrada: [8, 5, 4]\n",
      "2024-09-09 01:28:16,749: Rota válida encontrada: [8, 5]\n",
      "2024-09-09 01:28:16,749: Rota válida encontrada: [8, 7, 6]\n",
      "2024-09-09 01:28:16,749: Rota válida encontrada: [8, 7]\n"
     ]
    },
    {
     "name": "stdout",
     "output_type": "stream",
     "text": [
      "Total de EPRs criados na camada de enlace: 3\n",
      "Total de fidelidade dos EPRs criados na camada de enlace: 0.6623768217254636\n",
      "Métricas exportadas com sucesso para c:\\Users\\Tavares\\Downloads\\QuantumNetOfficialtestmetricasatualizad\\QuantumNetOfficialtestmetrica1.0 (1)\\QuantumNetOfficialtestmetrica\\teste.csv\n"
     ]
    }
   ],
   "source": [
    "rede.get_metrics(file_name=\"teste.csv\")"
   ]
  }
 ],
 "metadata": {
  "kernelspec": {
   "display_name": "Python 3",
   "language": "python",
   "name": "python3"
  },
  "language_info": {
   "codemirror_mode": {
    "name": "ipython",
    "version": 3
   },
   "file_extension": ".py",
   "mimetype": "text/x-python",
   "name": "python",
   "nbconvert_exporter": "python",
   "pygments_lexer": "ipython3",
   "version": "3.12.1"
  }
 },
 "nbformat": 4,
 "nbformat_minor": 2
}
