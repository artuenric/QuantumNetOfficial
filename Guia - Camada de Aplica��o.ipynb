{
 "cells": [
  {
   "cell_type": "markdown",
   "metadata": {},
   "source": [
    "# Guia da Camada de Aplicação\n",
    "### IMPORTANDO AS DEPENDÊNCIAS\n",
    "##### O documento tem o objetivo de demostrar o funcionamento da camada de aplicação, além de suas funções e ferramentas."
   ]
  },
  {
   "cell_type": "code",
   "execution_count": 8,
   "metadata": {},
   "outputs": [],
   "source": [
    "from quantumnet.components import Network, Host\n",
    "from quantumnet.objects import Qubit, Logger\n",
    "Logger.activate(Logger)"
   ]
  },
  {
   "cell_type": "markdown",
   "metadata": {},
   "source": [
    "##### Instanciando a rede, e setando a topologia."
   ]
  },
  {
   "cell_type": "code",
   "execution_count": 9,
   "metadata": {},
   "outputs": [
    {
     "name": "stderr",
     "output_type": "stream",
     "text": [
      "2024-09-06 15:53:35,048: Qubit 0 adicionado à memória do Host 0.\n",
      "2024-09-06 15:53:35,048: Qubit 0 criado com fidelidade inicial 0.4465204382324014 e adicionado à memória do Host 0.\n",
      "2024-09-06 15:53:35,050: Qubit 1 adicionado à memória do Host 0.\n",
      "2024-09-06 15:53:35,053: Qubit 1 criado com fidelidade inicial 0.5899886144116728 e adicionado à memória do Host 0.\n",
      "2024-09-06 15:53:35,056: Qubit 2 adicionado à memória do Host 0.\n",
      "2024-09-06 15:53:35,056: Qubit 2 criado com fidelidade inicial 0.30004159610803116 e adicionado à memória do Host 0.\n",
      "2024-09-06 15:53:35,057: Qubit 3 adicionado à memória do Host 0.\n",
      "2024-09-06 15:53:35,058: Qubit 3 criado com fidelidade inicial 0.04318176661954043 e adicionado à memória do Host 0.\n",
      "2024-09-06 15:53:35,059: Qubit 4 adicionado à memória do Host 0.\n",
      "2024-09-06 15:53:35,060: Qubit 4 criado com fidelidade inicial 0.5382822209340649 e adicionado à memória do Host 0.\n",
      "2024-09-06 15:53:35,060: Qubit 5 adicionado à memória do Host 0.\n",
      "2024-09-06 15:53:35,061: Qubit 5 criado com fidelidade inicial 0.7874187341935092 e adicionado à memória do Host 0.\n",
      "2024-09-06 15:53:35,062: Qubit 6 adicionado à memória do Host 0.\n",
      "2024-09-06 15:53:35,062: Qubit 6 criado com fidelidade inicial 0.14885136754192774 e adicionado à memória do Host 0.\n",
      "2024-09-06 15:53:35,062: Qubit 7 adicionado à memória do Host 0.\n",
      "2024-09-06 15:53:35,063: Qubit 7 criado com fidelidade inicial 0.08490974804226814 e adicionado à memória do Host 0.\n",
      "2024-09-06 15:53:35,064: Qubit 8 adicionado à memória do Host 0.\n",
      "2024-09-06 15:53:35,064: Qubit 8 criado com fidelidade inicial 0.16337870320607684 e adicionado à memória do Host 0.\n",
      "2024-09-06 15:53:35,065: Qubit 9 adicionado à memória do Host 0.\n",
      "2024-09-06 15:53:35,066: Qubit 9 criado com fidelidade inicial 0.11099216026703995 e adicionado à memória do Host 0.\n",
      "2024-09-06 15:53:35,067: Qubit 10 adicionado à memória do Host 1.\n",
      "2024-09-06 15:53:35,068: Qubit 10 criado com fidelidade inicial 0.21016826190948457 e adicionado à memória do Host 1.\n",
      "2024-09-06 15:53:35,071: Qubit 11 adicionado à memória do Host 1.\n",
      "2024-09-06 15:53:35,073: Qubit 11 criado com fidelidade inicial 0.29725804294387514 e adicionado à memória do Host 1.\n",
      "2024-09-06 15:53:35,074: Qubit 12 adicionado à memória do Host 1.\n",
      "2024-09-06 15:53:35,075: Qubit 12 criado com fidelidade inicial 0.10834163268316954 e adicionado à memória do Host 1.\n",
      "2024-09-06 15:53:35,076: Qubit 13 adicionado à memória do Host 1.\n",
      "2024-09-06 15:53:35,077: Qubit 13 criado com fidelidade inicial 0.46132735921771406 e adicionado à memória do Host 1.\n",
      "2024-09-06 15:53:35,078: Qubit 14 adicionado à memória do Host 1.\n",
      "2024-09-06 15:53:35,079: Qubit 14 criado com fidelidade inicial 0.2923865858969449 e adicionado à memória do Host 1.\n",
      "2024-09-06 15:53:35,080: Qubit 15 adicionado à memória do Host 1.\n",
      "2024-09-06 15:53:35,081: Qubit 15 criado com fidelidade inicial 0.9236526268562602 e adicionado à memória do Host 1.\n",
      "2024-09-06 15:53:35,082: Qubit 16 adicionado à memória do Host 1.\n",
      "2024-09-06 15:53:35,082: Qubit 16 criado com fidelidade inicial 0.7767093146335527 e adicionado à memória do Host 1.\n",
      "2024-09-06 15:53:35,082: Qubit 17 adicionado à memória do Host 1.\n",
      "2024-09-06 15:53:35,083: Qubit 17 criado com fidelidade inicial 0.4495862409045088 e adicionado à memória do Host 1.\n",
      "2024-09-06 15:53:35,083: Qubit 18 adicionado à memória do Host 1.\n",
      "2024-09-06 15:53:35,083: Qubit 18 criado com fidelidade inicial 0.2467687656042742 e adicionado à memória do Host 1.\n",
      "2024-09-06 15:53:35,084: Qubit 19 adicionado à memória do Host 1.\n",
      "2024-09-06 15:53:35,084: Qubit 19 criado com fidelidade inicial 0.47654814173710125 e adicionado à memória do Host 1.\n",
      "2024-09-06 15:53:35,084: Qubit 20 adicionado à memória do Host 2.\n",
      "2024-09-06 15:53:35,085: Qubit 20 criado com fidelidade inicial 0.8201772581594937 e adicionado à memória do Host 2.\n",
      "2024-09-06 15:53:35,086: Qubit 21 adicionado à memória do Host 2.\n",
      "2024-09-06 15:53:35,087: Qubit 21 criado com fidelidade inicial 0.8209850050696531 e adicionado à memória do Host 2.\n",
      "2024-09-06 15:53:35,087: Qubit 22 adicionado à memória do Host 2.\n",
      "2024-09-06 15:53:35,089: Qubit 22 criado com fidelidade inicial 0.8594617339617628 e adicionado à memória do Host 2.\n",
      "2024-09-06 15:53:35,091: Qubit 23 adicionado à memória do Host 2.\n",
      "2024-09-06 15:53:35,094: Qubit 23 criado com fidelidade inicial 0.005787814753233977 e adicionado à memória do Host 2.\n",
      "2024-09-06 15:53:35,094: Qubit 24 adicionado à memória do Host 2.\n",
      "2024-09-06 15:53:35,095: Qubit 24 criado com fidelidade inicial 0.08155353088097983 e adicionado à memória do Host 2.\n",
      "2024-09-06 15:53:35,096: Qubit 25 adicionado à memória do Host 2.\n",
      "2024-09-06 15:53:35,097: Qubit 25 criado com fidelidade inicial 0.1504561829418788 e adicionado à memória do Host 2.\n",
      "2024-09-06 15:53:35,098: Qubit 26 adicionado à memória do Host 2.\n",
      "2024-09-06 15:53:35,099: Qubit 26 criado com fidelidade inicial 0.571271087206845 e adicionado à memória do Host 2.\n",
      "2024-09-06 15:53:35,099: Qubit 27 adicionado à memória do Host 2.\n",
      "2024-09-06 15:53:35,100: Qubit 27 criado com fidelidade inicial 0.9089987063323066 e adicionado à memória do Host 2.\n",
      "2024-09-06 15:53:35,101: Qubit 28 adicionado à memória do Host 2.\n",
      "2024-09-06 15:53:35,102: Qubit 28 criado com fidelidade inicial 0.794576111185198 e adicionado à memória do Host 2.\n",
      "2024-09-06 15:53:35,103: Qubit 29 adicionado à memória do Host 2.\n",
      "2024-09-06 15:53:35,103: Qubit 29 criado com fidelidade inicial 0.42564878928010463 e adicionado à memória do Host 2.\n",
      "2024-09-06 15:53:35,104: Qubit 30 adicionado à memória do Host 3.\n",
      "2024-09-06 15:53:35,106: Qubit 30 criado com fidelidade inicial 0.3930517722237601 e adicionado à memória do Host 3.\n",
      "2024-09-06 15:53:35,109: Qubit 31 adicionado à memória do Host 3.\n",
      "2024-09-06 15:53:35,110: Qubit 31 criado com fidelidade inicial 0.8056236079493007 e adicionado à memória do Host 3.\n",
      "2024-09-06 15:53:35,111: Qubit 32 adicionado à memória do Host 3.\n",
      "2024-09-06 15:53:35,112: Qubit 32 criado com fidelidade inicial 0.5874748525687137 e adicionado à memória do Host 3.\n",
      "2024-09-06 15:53:35,113: Qubit 33 adicionado à memória do Host 3.\n",
      "2024-09-06 15:53:35,114: Qubit 33 criado com fidelidade inicial 0.3776140092652578 e adicionado à memória do Host 3.\n",
      "2024-09-06 15:53:35,115: Qubit 34 adicionado à memória do Host 3.\n",
      "2024-09-06 15:53:35,116: Qubit 34 criado com fidelidade inicial 0.4483335600437237 e adicionado à memória do Host 3.\n",
      "2024-09-06 15:53:35,117: Qubit 35 adicionado à memória do Host 3.\n",
      "2024-09-06 15:53:35,118: Qubit 35 criado com fidelidade inicial 0.48070266300441244 e adicionado à memória do Host 3.\n",
      "2024-09-06 15:53:35,120: Qubit 36 adicionado à memória do Host 3.\n",
      "2024-09-06 15:53:35,121: Qubit 36 criado com fidelidade inicial 0.8854409348207639 e adicionado à memória do Host 3.\n",
      "2024-09-06 15:53:35,124: Qubit 37 adicionado à memória do Host 3.\n",
      "2024-09-06 15:53:35,126: Qubit 37 criado com fidelidade inicial 0.9879324007032033 e adicionado à memória do Host 3.\n",
      "2024-09-06 15:53:35,128: Qubit 38 adicionado à memória do Host 3.\n",
      "2024-09-06 15:53:35,130: Qubit 38 criado com fidelidade inicial 0.20468493926385634 e adicionado à memória do Host 3.\n",
      "2024-09-06 15:53:35,131: Qubit 39 adicionado à memória do Host 3.\n",
      "2024-09-06 15:53:35,132: Qubit 39 criado com fidelidade inicial 0.3194070791507757 e adicionado à memória do Host 3.\n",
      "2024-09-06 15:53:35,133: Qubit 40 adicionado à memória do Host 4.\n",
      "2024-09-06 15:53:35,135: Qubit 40 criado com fidelidade inicial 0.7836551174829447 e adicionado à memória do Host 4.\n",
      "2024-09-06 15:53:35,137: Qubit 41 adicionado à memória do Host 4.\n",
      "2024-09-06 15:53:35,139: Qubit 41 criado com fidelidade inicial 0.7901187357292532 e adicionado à memória do Host 4.\n",
      "2024-09-06 15:53:35,143: Qubit 42 adicionado à memória do Host 4.\n",
      "2024-09-06 15:53:35,144: Qubit 42 criado com fidelidade inicial 0.7605573789238975 e adicionado à memória do Host 4.\n",
      "2024-09-06 15:53:35,146: Qubit 43 adicionado à memória do Host 4.\n",
      "2024-09-06 15:53:35,146: Qubit 43 criado com fidelidade inicial 0.7240816787985049 e adicionado à memória do Host 4.\n",
      "2024-09-06 15:53:35,147: Qubit 44 adicionado à memória do Host 4.\n",
      "2024-09-06 15:53:35,148: Qubit 44 criado com fidelidade inicial 0.1380191507387507 e adicionado à memória do Host 4.\n",
      "2024-09-06 15:53:35,149: Qubit 45 adicionado à memória do Host 4.\n",
      "2024-09-06 15:53:35,150: Qubit 45 criado com fidelidade inicial 0.46967768302724 e adicionado à memória do Host 4.\n",
      "2024-09-06 15:53:35,150: Qubit 46 adicionado à memória do Host 4.\n",
      "2024-09-06 15:53:35,151: Qubit 46 criado com fidelidade inicial 0.5898895939280816 e adicionado à memória do Host 4.\n",
      "2024-09-06 15:53:35,151: Qubit 47 adicionado à memória do Host 4.\n",
      "2024-09-06 15:53:35,153: Qubit 47 criado com fidelidade inicial 0.7013450088007446 e adicionado à memória do Host 4.\n",
      "2024-09-06 15:53:35,158: Qubit 48 adicionado à memória do Host 4.\n",
      "2024-09-06 15:53:35,160: Qubit 48 criado com fidelidade inicial 0.9133778961533697 e adicionado à memória do Host 4.\n",
      "2024-09-06 15:53:35,162: Qubit 49 adicionado à memória do Host 4.\n",
      "2024-09-06 15:53:35,163: Qubit 49 criado com fidelidade inicial 0.13753011271318671 e adicionado à memória do Host 4.\n",
      "2024-09-06 15:53:35,164: Qubit 50 adicionado à memória do Host 5.\n",
      "2024-09-06 15:53:35,166: Qubit 50 criado com fidelidade inicial 0.10187924589648578 e adicionado à memória do Host 5.\n",
      "2024-09-06 15:53:35,166: Qubit 51 adicionado à memória do Host 5.\n",
      "2024-09-06 15:53:35,167: Qubit 51 criado com fidelidade inicial 0.13359748796780413 e adicionado à memória do Host 5.\n",
      "2024-09-06 15:53:35,169: Qubit 52 adicionado à memória do Host 5.\n",
      "2024-09-06 15:53:35,170: Qubit 52 criado com fidelidade inicial 0.5585953615348587 e adicionado à memória do Host 5.\n",
      "2024-09-06 15:53:35,172: Qubit 53 adicionado à memória do Host 5.\n",
      "2024-09-06 15:53:35,176: Qubit 53 criado com fidelidade inicial 0.7303934766504786 e adicionado à memória do Host 5.\n",
      "2024-09-06 15:53:35,179: Qubit 54 adicionado à memória do Host 5.\n",
      "2024-09-06 15:53:35,182: Qubit 54 criado com fidelidade inicial 0.28579693653717175 e adicionado à memória do Host 5.\n",
      "2024-09-06 15:53:35,182: Qubit 55 adicionado à memória do Host 5.\n",
      "2024-09-06 15:53:35,183: Qubit 55 criado com fidelidade inicial 0.5076704608699565 e adicionado à memória do Host 5.\n",
      "2024-09-06 15:53:35,184: Qubit 56 adicionado à memória do Host 5.\n",
      "2024-09-06 15:53:35,184: Qubit 56 criado com fidelidade inicial 0.3121407310503862 e adicionado à memória do Host 5.\n",
      "2024-09-06 15:53:35,185: Qubit 57 adicionado à memória do Host 5.\n",
      "2024-09-06 15:53:35,186: Qubit 57 criado com fidelidade inicial 0.23782590114719393 e adicionado à memória do Host 5.\n",
      "2024-09-06 15:53:35,187: Qubit 58 adicionado à memória do Host 5.\n",
      "2024-09-06 15:53:35,190: Qubit 58 criado com fidelidade inicial 0.7337830002574356 e adicionado à memória do Host 5.\n",
      "2024-09-06 15:53:35,192: Qubit 59 adicionado à memória do Host 5.\n",
      "2024-09-06 15:53:35,194: Qubit 59 criado com fidelidade inicial 0.7497163874687638 e adicionado à memória do Host 5.\n",
      "2024-09-06 15:53:35,196: Qubit 60 adicionado à memória do Host 6.\n",
      "2024-09-06 15:53:35,199: Qubit 60 criado com fidelidade inicial 0.7583127450491021 e adicionado à memória do Host 6.\n",
      "2024-09-06 15:53:35,199: Qubit 61 adicionado à memória do Host 6.\n",
      "2024-09-06 15:53:35,200: Qubit 61 criado com fidelidade inicial 0.2705752334492423 e adicionado à memória do Host 6.\n",
      "2024-09-06 15:53:35,203: Qubit 62 adicionado à memória do Host 6.\n",
      "2024-09-06 15:53:35,205: Qubit 62 criado com fidelidade inicial 0.7942706993395026 e adicionado à memória do Host 6.\n",
      "2024-09-06 15:53:35,210: Qubit 63 adicionado à memória do Host 6.\n",
      "2024-09-06 15:53:35,213: Qubit 63 criado com fidelidade inicial 0.30656747476510304 e adicionado à memória do Host 6.\n",
      "2024-09-06 15:53:35,215: Qubit 64 adicionado à memória do Host 6.\n",
      "2024-09-06 15:53:35,216: Qubit 64 criado com fidelidade inicial 0.973970110758214 e adicionado à memória do Host 6.\n",
      "2024-09-06 15:53:35,216: Qubit 65 adicionado à memória do Host 6.\n",
      "2024-09-06 15:53:35,217: Qubit 65 criado com fidelidade inicial 0.18436406219281332 e adicionado à memória do Host 6.\n",
      "2024-09-06 15:53:35,217: Qubit 66 adicionado à memória do Host 6.\n",
      "2024-09-06 15:53:35,218: Qubit 66 criado com fidelidade inicial 0.06538913865243345 e adicionado à memória do Host 6.\n",
      "2024-09-06 15:53:35,219: Qubit 67 adicionado à memória do Host 6.\n",
      "2024-09-06 15:53:35,220: Qubit 67 criado com fidelidade inicial 0.48171751361934945 e adicionado à memória do Host 6.\n",
      "2024-09-06 15:53:35,222: Qubit 68 adicionado à memória do Host 6.\n",
      "2024-09-06 15:53:35,223: Qubit 68 criado com fidelidade inicial 0.20406836732190137 e adicionado à memória do Host 6.\n",
      "2024-09-06 15:53:35,226: Qubit 69 adicionado à memória do Host 6.\n",
      "2024-09-06 15:53:35,226: Qubit 69 criado com fidelidade inicial 0.42653254061769397 e adicionado à memória do Host 6.\n",
      "2024-09-06 15:53:35,227: Qubit 70 adicionado à memória do Host 7.\n",
      "2024-09-06 15:53:35,228: Qubit 70 criado com fidelidade inicial 0.9190391731703121 e adicionado à memória do Host 7.\n",
      "2024-09-06 15:53:35,228: Qubit 71 adicionado à memória do Host 7.\n",
      "2024-09-06 15:53:35,230: Qubit 71 criado com fidelidade inicial 0.6525284972573552 e adicionado à memória do Host 7.\n",
      "2024-09-06 15:53:35,232: Qubit 72 adicionado à memória do Host 7.\n",
      "2024-09-06 15:53:35,233: Qubit 72 criado com fidelidade inicial 0.09548825009041562 e adicionado à memória do Host 7.\n",
      "2024-09-06 15:53:35,235: Qubit 73 adicionado à memória do Host 7.\n",
      "2024-09-06 15:53:35,236: Qubit 73 criado com fidelidade inicial 0.4090829052082494 e adicionado à memória do Host 7.\n",
      "2024-09-06 15:53:35,236: Qubit 74 adicionado à memória do Host 7.\n",
      "2024-09-06 15:53:35,237: Qubit 74 criado com fidelidade inicial 0.7101466659981518 e adicionado à memória do Host 7.\n",
      "2024-09-06 15:53:35,249: Qubit 75 adicionado à memória do Host 7.\n",
      "2024-09-06 15:53:35,250: Qubit 75 criado com fidelidade inicial 0.863288917871966 e adicionado à memória do Host 7.\n",
      "2024-09-06 15:53:35,253: Qubit 76 adicionado à memória do Host 7.\n",
      "2024-09-06 15:53:35,254: Qubit 76 criado com fidelidade inicial 0.7220160219440406 e adicionado à memória do Host 7.\n",
      "2024-09-06 15:53:35,256: Qubit 77 adicionado à memória do Host 7.\n",
      "2024-09-06 15:53:35,257: Qubit 77 criado com fidelidade inicial 0.8061432515145097 e adicionado à memória do Host 7.\n",
      "2024-09-06 15:53:35,259: Qubit 78 adicionado à memória do Host 7.\n",
      "2024-09-06 15:53:35,263: Qubit 78 criado com fidelidade inicial 0.16126284271249025 e adicionado à memória do Host 7.\n",
      "2024-09-06 15:53:35,263: Qubit 79 adicionado à memória do Host 7.\n",
      "2024-09-06 15:53:35,264: Qubit 79 criado com fidelidade inicial 0.9084617167903984 e adicionado à memória do Host 7.\n",
      "2024-09-06 15:53:35,265: Qubit 80 adicionado à memória do Host 8.\n",
      "2024-09-06 15:53:35,265: Qubit 80 criado com fidelidade inicial 0.5344763924455205 e adicionado à memória do Host 8.\n",
      "2024-09-06 15:53:35,266: Qubit 81 adicionado à memória do Host 8.\n",
      "2024-09-06 15:53:35,266: Qubit 81 criado com fidelidade inicial 0.25456862587371587 e adicionado à memória do Host 8.\n",
      "2024-09-06 15:53:35,267: Qubit 82 adicionado à memória do Host 8.\n",
      "2024-09-06 15:53:35,268: Qubit 82 criado com fidelidade inicial 0.9509121630388143 e adicionado à memória do Host 8.\n",
      "2024-09-06 15:53:35,269: Qubit 83 adicionado à memória do Host 8.\n",
      "2024-09-06 15:53:35,270: Qubit 83 criado com fidelidade inicial 0.26582683991053113 e adicionado à memória do Host 8.\n",
      "2024-09-06 15:53:35,271: Qubit 84 adicionado à memória do Host 8.\n",
      "2024-09-06 15:53:35,271: Qubit 84 criado com fidelidade inicial 0.22675658842471913 e adicionado à memória do Host 8.\n",
      "2024-09-06 15:53:35,272: Qubit 85 adicionado à memória do Host 8.\n",
      "2024-09-06 15:53:35,278: Qubit 85 criado com fidelidade inicial 0.2818175146125259 e adicionado à memória do Host 8.\n",
      "2024-09-06 15:53:35,281: Qubit 86 adicionado à memória do Host 8.\n",
      "2024-09-06 15:53:35,282: Qubit 86 criado com fidelidade inicial 0.03670280230794931 e adicionado à memória do Host 8.\n",
      "2024-09-06 15:53:35,285: Qubit 87 adicionado à memória do Host 8.\n",
      "2024-09-06 15:53:35,286: Qubit 87 criado com fidelidade inicial 0.5650189037135974 e adicionado à memória do Host 8.\n",
      "2024-09-06 15:53:35,286: Qubit 88 adicionado à memória do Host 8.\n",
      "2024-09-06 15:53:35,287: Qubit 88 criado com fidelidade inicial 0.1491085744323084 e adicionado à memória do Host 8.\n",
      "2024-09-06 15:53:35,287: Qubit 89 adicionado à memória do Host 8.\n",
      "2024-09-06 15:53:35,288: Qubit 89 criado com fidelidade inicial 0.894277094214738 e adicionado à memória do Host 8.\n",
      "2024-09-06 15:53:35,291: Par EPR <quantumnet.objects.epr.Epr object at 0x77d13e5cd790> adicionado ao canal.\n",
      "2024-09-06 15:53:35,294: Par EPR <quantumnet.objects.epr.Epr object at 0x77d13e5cd670> adicionado ao canal.\n",
      "2024-09-06 15:53:35,295: Par EPR <quantumnet.objects.epr.Epr object at 0x77d13da0dcd0> adicionado ao canal.\n",
      "2024-09-06 15:53:35,296: Par EPR <quantumnet.objects.epr.Epr object at 0x77d13da0dee0> adicionado ao canal.\n",
      "2024-09-06 15:53:35,296: Par EPR <quantumnet.objects.epr.Epr object at 0x77d13e5cdd60> adicionado ao canal.\n",
      "2024-09-06 15:53:35,297: Par EPR <quantumnet.objects.epr.Epr object at 0x77d13e5cca40> adicionado ao canal.\n",
      "2024-09-06 15:53:35,297: Par EPR <quantumnet.objects.epr.Epr object at 0x77d13da0e450> adicionado ao canal.\n",
      "2024-09-06 15:53:35,298: Par EPR <quantumnet.objects.epr.Epr object at 0x77d13e5ce060> adicionado ao canal.\n",
      "2024-09-06 15:53:35,298: Par EPR <quantumnet.objects.epr.Epr object at 0x77d13e5cdbe0> adicionado ao canal.\n",
      "2024-09-06 15:53:35,298: Par EPR <quantumnet.objects.epr.Epr object at 0x77d13e5ce0c0> adicionado ao canal.\n",
      "2024-09-06 15:53:35,298: Par EPR <quantumnet.objects.epr.Epr object at 0x77d13e5cd490> adicionado ao canal.\n",
      "2024-09-06 15:53:35,299: Par EPR <quantumnet.objects.epr.Epr object at 0x77d13da0dac0> adicionado ao canal.\n",
      "2024-09-06 15:53:35,300: Par EPR <quantumnet.objects.epr.Epr object at 0x77d13e5ce3c0> adicionado ao canal.\n",
      "2024-09-06 15:53:35,300: Par EPR <quantumnet.objects.epr.Epr object at 0x77d13e5ce2d0> adicionado ao canal.\n",
      "2024-09-06 15:53:35,300: Par EPR <quantumnet.objects.epr.Epr object at 0x77d13e5cea20> adicionado ao canal.\n",
      "2024-09-06 15:53:35,301: Par EPR <quantumnet.objects.epr.Epr object at 0x77d13e5cde20> adicionado ao canal.\n",
      "2024-09-06 15:53:35,302: Par EPR <quantumnet.objects.epr.Epr object at 0x77d13da0e300> adicionado ao canal.\n",
      "2024-09-06 15:53:35,303: Par EPR <quantumnet.objects.epr.Epr object at 0x77d13da0e720> adicionado ao canal.\n",
      "2024-09-06 15:53:35,305: Par EPR <quantumnet.objects.epr.Epr object at 0x77d13e5ce8d0> adicionado ao canal.\n",
      "2024-09-06 15:53:35,306: Par EPR <quantumnet.objects.epr.Epr object at 0x77d13e5ce780> adicionado ao canal.\n",
      "2024-09-06 15:53:35,307: Par EPR <quantumnet.objects.epr.Epr object at 0x77d13e5ccd10> adicionado ao canal.\n",
      "2024-09-06 15:53:35,308: Par EPR <quantumnet.objects.epr.Epr object at 0x77d13da0ed50> adicionado ao canal.\n",
      "2024-09-06 15:53:35,308: Par EPR <quantumnet.objects.epr.Epr object at 0x77d13e5cedb0> adicionado ao canal.\n",
      "2024-09-06 15:53:35,309: Par EPR <quantumnet.objects.epr.Epr object at 0x77d13e5cc8c0> adicionado ao canal.\n",
      "2024-09-06 15:53:35,310: Par EPR <quantumnet.objects.epr.Epr object at 0x77d13da0f1d0> adicionado ao canal.\n",
      "2024-09-06 15:53:35,311: Par EPR <quantumnet.objects.epr.Epr object at 0x77d13e5cf3e0> adicionado ao canal.\n",
      "2024-09-06 15:53:35,311: Par EPR <quantumnet.objects.epr.Epr object at 0x77d13e5cec60> adicionado ao canal.\n",
      "2024-09-06 15:53:35,312: Par EPR <quantumnet.objects.epr.Epr object at 0x77d13e5ceb70> adicionado ao canal.\n",
      "2024-09-06 15:53:35,313: Par EPR <quantumnet.objects.epr.Epr object at 0x77d13e5cf0e0> adicionado ao canal.\n",
      "2024-09-06 15:53:35,314: Par EPR <quantumnet.objects.epr.Epr object at 0x77d13e5cf290> adicionado ao canal.\n",
      "2024-09-06 15:53:35,314: Par EPR <quantumnet.objects.epr.Epr object at 0x77d13e5ce9c0> adicionado ao canal.\n",
      "2024-09-06 15:53:35,315: Par EPR <quantumnet.objects.epr.Epr object at 0x77d13e5cf140> adicionado ao canal.\n",
      "2024-09-06 15:53:35,317: Par EPR <quantumnet.objects.epr.Epr object at 0x77d13e5cf6e0> adicionado ao canal.\n",
      "2024-09-06 15:53:35,322: Par EPR <quantumnet.objects.epr.Epr object at 0x77d13da0dfa0> adicionado ao canal.\n",
      "2024-09-06 15:53:35,323: Par EPR <quantumnet.objects.epr.Epr object at 0x77d13e5cf620> adicionado ao canal.\n",
      "2024-09-06 15:53:35,330: Par EPR <quantumnet.objects.epr.Epr object at 0x77d13e5ceb10> adicionado ao canal.\n",
      "2024-09-06 15:53:35,332: Par EPR <quantumnet.objects.epr.Epr object at 0x77d13e5ce180> adicionado ao canal.\n",
      "2024-09-06 15:53:35,333: Par EPR <quantumnet.objects.epr.Epr object at 0x77d13e5cf410> adicionado ao canal.\n",
      "2024-09-06 15:53:35,335: Par EPR <quantumnet.objects.epr.Epr object at 0x77d156bd6330> adicionado ao canal.\n",
      "2024-09-06 15:53:35,336: Par EPR <quantumnet.objects.epr.Epr object at 0x77d13e5cf530> adicionado ao canal.\n",
      "2024-09-06 15:53:35,337: Par EPR <quantumnet.objects.epr.Epr object at 0x77d13e5ce570> adicionado ao canal.\n",
      "2024-09-06 15:53:35,338: Par EPR <quantumnet.objects.epr.Epr object at 0x77d13da0f500> adicionado ao canal.\n",
      "2024-09-06 15:53:35,339: Par EPR <quantumnet.objects.epr.Epr object at 0x77d13e5cfa10> adicionado ao canal.\n",
      "2024-09-06 15:53:35,341: Par EPR <quantumnet.objects.epr.Epr object at 0x77d13e5cef60> adicionado ao canal.\n",
      "2024-09-06 15:53:35,342: Par EPR <quantumnet.objects.epr.Epr object at 0x77d13e5cfc20> adicionado ao canal.\n",
      "2024-09-06 15:53:35,344: Par EPR <quantumnet.objects.epr.Epr object at 0x77d13da0fd40> adicionado ao canal.\n",
      "2024-09-06 15:53:35,345: Par EPR <quantumnet.objects.epr.Epr object at 0x77d13e5cffe0> adicionado ao canal.\n",
      "2024-09-06 15:53:35,345: Par EPR <quantumnet.objects.epr.Epr object at 0x77d13e5cfb90> adicionado ao canal.\n",
      "2024-09-06 15:53:35,345: Par EPR <quantumnet.objects.epr.Epr object at 0x77d13e5cf770> adicionado ao canal.\n",
      "2024-09-06 15:53:35,346: Par EPR <quantumnet.objects.epr.Epr object at 0x77d13e5cff80> adicionado ao canal.\n",
      "2024-09-06 15:53:35,346: Par EPR <quantumnet.objects.epr.Epr object at 0x77d13da0f260> adicionado ao canal.\n",
      "2024-09-06 15:53:35,347: Par EPR <quantumnet.objects.epr.Epr object at 0x77d13e5cee70> adicionado ao canal.\n",
      "2024-09-06 15:53:35,348: Par EPR <quantumnet.objects.epr.Epr object at 0x77d13e5ce120> adicionado ao canal.\n",
      "2024-09-06 15:53:35,348: Par EPR <quantumnet.objects.epr.Epr object at 0x77d13e5cfe90> adicionado ao canal.\n",
      "2024-09-06 15:53:35,349: Par EPR <quantumnet.objects.epr.Epr object at 0x77d13e5cd940> adicionado ao canal.\n",
      "2024-09-06 15:53:35,349: Par EPR <quantumnet.objects.epr.Epr object at 0x77d13e5cd4f0> adicionado ao canal.\n",
      "2024-09-06 15:53:35,349: Par EPR <quantumnet.objects.epr.Epr object at 0x77d13da0f8c0> adicionado ao canal.\n",
      "2024-09-06 15:53:35,350: Par EPR <quantumnet.objects.epr.Epr object at 0x77d13e5cd1f0> adicionado ao canal.\n",
      "2024-09-06 15:53:35,351: Par EPR <quantumnet.objects.epr.Epr object at 0x77d13e5ce4b0> adicionado ao canal.\n",
      "2024-09-06 15:53:35,351: Par EPR <quantumnet.objects.epr.Epr object at 0x77d13e5cc500> adicionado ao canal.\n",
      "2024-09-06 15:53:35,351: Par EPR <quantumnet.objects.epr.Epr object at 0x77d13e5ceed0> adicionado ao canal.\n",
      "2024-09-06 15:53:35,352: Par EPR <quantumnet.objects.epr.Epr object at 0x77d13d9dd3a0> adicionado ao canal.\n",
      "2024-09-06 15:53:35,352: Par EPR <quantumnet.objects.epr.Epr object at 0x77d13e5cc530> adicionado ao canal.\n",
      "2024-09-06 15:53:35,352: Par EPR <quantumnet.objects.epr.Epr object at 0x77d13da0de50> adicionado ao canal.\n",
      "2024-09-06 15:53:35,353: Par EPR <quantumnet.objects.epr.Epr object at 0x77d13d9dcc80> adicionado ao canal.\n",
      "2024-09-06 15:53:35,354: Par EPR <quantumnet.objects.epr.Epr object at 0x77d13ef59790> adicionado ao canal.\n",
      "2024-09-06 15:53:35,356: Par EPR <quantumnet.objects.epr.Epr object at 0x77d13e5cd0a0> adicionado ao canal.\n",
      "2024-09-06 15:53:35,357: Par EPR <quantumnet.objects.epr.Epr object at 0x77d13d9dc950> adicionado ao canal.\n",
      "2024-09-06 15:53:35,358: Par EPR <quantumnet.objects.epr.Epr object at 0x77d13d9dcda0> adicionado ao canal.\n",
      "2024-09-06 15:53:35,359: Par EPR <quantumnet.objects.epr.Epr object at 0x77d13da0fce0> adicionado ao canal.\n",
      "2024-09-06 15:53:35,360: Par EPR <quantumnet.objects.epr.Epr object at 0x77d13e5cf5f0> adicionado ao canal.\n",
      "2024-09-06 15:53:35,361: Par EPR <quantumnet.objects.epr.Epr object at 0x77d13f975400> adicionado ao canal.\n",
      "2024-09-06 15:53:35,363: Par EPR <quantumnet.objects.epr.Epr object at 0x77d13d9dd010> adicionado ao canal.\n",
      "2024-09-06 15:53:35,364: Par EPR <quantumnet.objects.epr.Epr object at 0x77d13e5cd580> adicionado ao canal.\n",
      "2024-09-06 15:53:35,365: Par EPR <quantumnet.objects.epr.Epr object at 0x77d13e564d10> adicionado ao canal.\n",
      "2024-09-06 15:53:35,366: Par EPR <quantumnet.objects.epr.Epr object at 0x77d13e5654c0> adicionado ao canal.\n",
      "2024-09-06 15:53:35,367: Par EPR <quantumnet.objects.epr.Epr object at 0x77d13e565310> adicionado ao canal.\n",
      "2024-09-06 15:53:35,367: Par EPR <quantumnet.objects.epr.Epr object at 0x77d13e565d90> adicionado ao canal.\n",
      "2024-09-06 15:53:35,368: Par EPR <quantumnet.objects.epr.Epr object at 0x77d13e5ccec0> adicionado ao canal.\n",
      "2024-09-06 15:53:35,370: Par EPR <quantumnet.objects.epr.Epr object at 0x77d13da0ec90> adicionado ao canal.\n",
      "2024-09-06 15:53:35,371: Par EPR <quantumnet.objects.epr.Epr object at 0x77d13e5cdd30> adicionado ao canal.\n",
      "2024-09-06 15:53:35,372: Par EPR <quantumnet.objects.epr.Epr object at 0x77d13e5cd130> adicionado ao canal.\n",
      "2024-09-06 15:53:35,373: Par EPR <quantumnet.objects.epr.Epr object at 0x77d13e5650d0> adicionado ao canal.\n",
      "2024-09-06 15:53:35,373: Par EPR <quantumnet.objects.epr.Epr object at 0x77d13e5652e0> adicionado ao canal.\n",
      "2024-09-06 15:53:35,374: Par EPR <quantumnet.objects.epr.Epr object at 0x77d13e5642f0> adicionado ao canal.\n",
      "2024-09-06 15:53:35,374: Par EPR <quantumnet.objects.epr.Epr object at 0x77d13e5642c0> adicionado ao canal.\n",
      "2024-09-06 15:53:35,375: Par EPR <quantumnet.objects.epr.Epr object at 0x77d13e5cd010> adicionado ao canal.\n",
      "2024-09-06 15:53:35,376: Par EPR <quantumnet.objects.epr.Epr object at 0x77d13d9de120> adicionado ao canal.\n",
      "2024-09-06 15:53:35,377: Par EPR <quantumnet.objects.epr.Epr object at 0x77d13e567830> adicionado ao canal.\n",
      "2024-09-06 15:53:35,377: Par EPR <quantumnet.objects.epr.Epr object at 0x77d13e567890> adicionado ao canal.\n",
      "2024-09-06 15:53:35,378: Par EPR <quantumnet.objects.epr.Epr object at 0x77d13e5cca70> adicionado ao canal.\n",
      "2024-09-06 15:53:35,380: Par EPR <quantumnet.objects.epr.Epr object at 0x77d156bd56a0> adicionado ao canal.\n",
      "2024-09-06 15:53:35,380: Par EPR <quantumnet.objects.epr.Epr object at 0x77d13e566c30> adicionado ao canal.\n",
      "2024-09-06 15:53:35,381: Par EPR <quantumnet.objects.epr.Epr object at 0x77d13e566b40> adicionado ao canal.\n",
      "2024-09-06 15:53:35,381: Par EPR <quantumnet.objects.epr.Epr object at 0x77d13e5652b0> adicionado ao canal.\n",
      "2024-09-06 15:53:35,381: Par EPR <quantumnet.objects.epr.Epr object at 0x77d13e566b70> adicionado ao canal.\n",
      "2024-09-06 15:53:35,382: Par EPR <quantumnet.objects.epr.Epr object at 0x77d13da0f530> adicionado ao canal.\n",
      "2024-09-06 15:53:35,383: Par EPR <quantumnet.objects.epr.Epr object at 0x77d13da0e5a0> adicionado ao canal.\n",
      "2024-09-06 15:53:35,384: Par EPR <quantumnet.objects.epr.Epr object at 0x77d13e5cd520> adicionado ao canal.\n",
      "2024-09-06 15:53:35,385: Par EPR <quantumnet.objects.epr.Epr object at 0x77d13e566a50> adicionado ao canal.\n",
      "2024-09-06 15:53:35,386: Par EPR <quantumnet.objects.epr.Epr object at 0x77d13da0ff50> adicionado ao canal.\n",
      "2024-09-06 15:53:35,387: Par EPR <quantumnet.objects.epr.Epr object at 0x77d13da0ea80> adicionado ao canal.\n",
      "2024-09-06 15:53:35,387: Par EPR <quantumnet.objects.epr.Epr object at 0x77d13d9de720> adicionado ao canal.\n",
      "2024-09-06 15:53:35,388: Par EPR <quantumnet.objects.epr.Epr object at 0x77d13e564c20> adicionado ao canal.\n",
      "2024-09-06 15:53:35,388: Par EPR <quantumnet.objects.epr.Epr object at 0x77d13e566cc0> adicionado ao canal.\n",
      "2024-09-06 15:53:35,388: Par EPR <quantumnet.objects.epr.Epr object at 0x77d13e567440> adicionado ao canal.\n",
      "2024-09-06 15:53:35,389: Par EPR <quantumnet.objects.epr.Epr object at 0x77d13e5675c0> adicionado ao canal.\n",
      "2024-09-06 15:53:35,390: Par EPR <quantumnet.objects.epr.Epr object at 0x77d13da0f410> adicionado ao canal.\n",
      "2024-09-06 15:53:35,390: Par EPR <quantumnet.objects.epr.Epr object at 0x77d13e5674d0> adicionado ao canal.\n",
      "2024-09-06 15:53:35,391: Par EPR <quantumnet.objects.epr.Epr object at 0x77d13e5ccbf0> adicionado ao canal.\n",
      "2024-09-06 15:53:35,392: Par EPR <quantumnet.objects.epr.Epr object at 0x77d13da0db50> adicionado ao canal.\n",
      "2024-09-06 15:53:35,393: Par EPR <quantumnet.objects.epr.Epr object at 0x77d13e565490> adicionado ao canal.\n",
      "2024-09-06 15:53:35,394: Par EPR <quantumnet.objects.epr.Epr object at 0x77d13e565550> adicionado ao canal.\n",
      "2024-09-06 15:53:35,394: Par EPR <quantumnet.objects.epr.Epr object at 0x77d13e5670e0> adicionado ao canal.\n",
      "2024-09-06 15:53:35,395: Par EPR <quantumnet.objects.epr.Epr object at 0x77d13e567020> adicionado ao canal.\n",
      "2024-09-06 15:53:35,395: Par EPR <quantumnet.objects.epr.Epr object at 0x77d13e566ff0> adicionado ao canal.\n",
      "2024-09-06 15:53:35,396: Par EPR <quantumnet.objects.epr.Epr object at 0x77d13e5647d0> adicionado ao canal.\n",
      "2024-09-06 15:53:35,396: Par EPR <quantumnet.objects.epr.Epr object at 0x77d13da0eed0> adicionado ao canal.\n",
      "2024-09-06 15:53:35,397: Par EPR <quantumnet.objects.epr.Epr object at 0x77d13e5ccfe0> adicionado ao canal.\n",
      "2024-09-06 15:53:35,397: Par EPR <quantumnet.objects.epr.Epr object at 0x77d13e566f60> adicionado ao canal.\n"
     ]
    },
    {
     "name": "stdout",
     "output_type": "stream",
     "text": [
      "Hosts inicializados\n",
      "Canais inicializados\n",
      "Pares EPRs adicionados\n"
     ]
    },
    {
     "data": {
      "image/png": "[encoded data removed]",
      "text/plain": [
       "<Figure size 640x480 with 1 Axes>"
      ]
     },
     "metadata": {},
     "output_type": "display_data"
    }
   ],
   "source": [
    "rede = Network()\n",
    "rede.set_ready_topology(\"Grade\", 3,3)\n",
    "rede.draw()"
   ]
  },
  {
   "cell_type": "markdown",
   "metadata": {},
   "source": [
    "##### Definindo os hosts alice e bob nos nós 1 e 2 respectivamente."
   ]
  },
  {
   "cell_type": "code",
   "execution_count": 10,
   "metadata": {},
   "outputs": [],
   "source": [
    "alice = rede.get_host(0)\n",
    "bob = rede.get_host(8)"
   ]
  },
  {
   "cell_type": "markdown",
   "metadata": {},
   "source": [
    "##### Por meio da chamada da função qks_e91_protocol, passando os argumentos do ID de Alice, ID de Bob e o número de chaves que é pedido nessa requisição. Houve a transmissão das chaves. "
   ]
  },
  {
   "cell_type": "code",
   "execution_count": 11,
   "metadata": {},
   "outputs": [
    {
     "name": "stderr",
     "output_type": "stream",
     "text": [
      "2024-09-06 15:53:35,681: Iniciando protocolo E91 com 20 qubits.\n",
      "2024-09-06 15:53:35,682: Qubits preparados com a chave: [1, 1, 1, 0, 1, 0, 0, 0, 0, 1, 1, 0, 1, 1, 1, 0, 1, 0, 0, 0] e bases: [1, 0, 0, 0, 0, 1, 1, 1, 0, 0, 1, 1, 0, 1, 0, 1, 0, 1, 1, 0]\n",
      "2024-09-06 15:53:35,683: Resultados das medições: [0, 1, 1, 0, 1, 1, 1, 1, 0, 1, 0, 1, 1, 0, 1, 0, 1, 1, 0, 0] com bases: [0, 1, 0, 1, 0, 0, 0, 0, 0, 1, 1, 1, 1, 0, 0, 0, 0, 1, 1, 0]\n",
      "2024-09-06 15:53:35,684: Índices comuns: [2, 4, 8, 10, 11, 14, 16, 17, 18, 19]\n",
      "2024-09-06 15:53:35,684: Transmitindo qubits coincidentes de Alice (ID 0) para Bob (ID 8).\n",
      "2024-09-06 15:53:35,685: Rota válida encontrada: [0, 3, 6, 7, 8]\n",
      "2024-09-06 15:53:35,685: Rota válida encontrada: [0, 3, 6, 7, 8]\n",
      "2024-09-06 15:53:35,687: Rota válida encontrada: [0, 3, 6, 7, 8]\n",
      "2024-09-06 15:53:35,690: Rota válida encontrada: [0, 3, 6, 7, 8]\n",
      "2024-09-06 15:53:35,693: Rota válida encontrada: [0, 3, 6, 7, 8]\n",
      "2024-09-06 15:53:35,694: Rota válida encontrada: [0, 3, 6, 7, 8]\n",
      "2024-09-06 15:53:35,695: Rota válida encontrada: [0, 3, 6, 7, 8]\n",
      "2024-09-06 15:53:35,695: Teletransporte de qubit de 0 para 8 na rota [0, 3, 6, 7, 8] foi bem-sucedido com fidelidade final de 0.4465204382324014. Timeslot: 1\n",
      "2024-09-06 15:53:35,696: Teletransporte de qubit de 0 para 8 na rota [0, 3, 6, 7, 8] foi bem-sucedido com fidelidade final de 0.5899886144116728. Timeslot: 2\n",
      "2024-09-06 15:53:35,698: Teletransporte de qubit de 0 para 8 na rota [0, 3, 6, 7, 8] foi bem-sucedido com fidelidade final de 0.30004159610803116. Timeslot: 3\n",
      "2024-09-06 15:53:35,700: Teletransporte de qubit de 0 para 8 na rota [0, 3, 6, 7, 8] foi bem-sucedido com fidelidade final de 0.04318176661954043. Timeslot: 4\n",
      "2024-09-06 15:53:35,702: Teletransporte de qubit de 0 para 8 na rota [0, 3, 6, 7, 8] foi bem-sucedido com fidelidade final de 0.5382822209340649. Timeslot: 5\n",
      "2024-09-06 15:53:35,703: Teletransporte de qubit de 0 para 8 na rota [0, 3, 6, 7, 8] foi bem-sucedido com fidelidade final de 0.7874187341935092. Timeslot: 6\n",
      "2024-09-06 15:53:35,705: Teletransporte de qubit de 0 para 8 na rota [0, 3, 6, 7, 8] foi bem-sucedido com fidelidade final de 0.14885136754192774. Timeslot: 7\n",
      "2024-09-06 15:53:35,706: Transmissão e teletransporte de 7 qubits entre 0 e 8 concluídos com sucesso. Timeslot: 7\n",
      "2024-09-06 15:53:35,708: Chaves obtidas até agora: [1, 1, 0, 1, 1, 0, 0]\n",
      "2024-09-06 15:53:35,712: Iniciando protocolo E91 com 6 qubits.\n",
      "2024-09-06 15:53:35,715: Qubits preparados com a chave: [1, 1, 1, 0, 1, 1] e bases: [1, 0, 0, 1, 1, 0]\n",
      "2024-09-06 15:53:35,716: Resultados das medições: [1, 1, 1, 1, 0, 1] com bases: [1, 0, 0, 0, 1, 0]\n",
      "2024-09-06 15:53:35,717: Índices comuns: [0, 1, 2, 4, 5]\n",
      "2024-09-06 15:53:35,718: Transmitindo qubits coincidentes de Alice (ID 0) para Bob (ID 8).\n",
      "2024-09-06 15:53:35,722: Número insuficiente de qubits na memória de Alice (Host 0). Tentando transmitir os 3 qubits disponíveis.\n",
      "2024-09-06 15:53:35,723: Rota válida encontrada: [0, 3, 6, 7, 8]\n",
      "2024-09-06 15:53:35,725: Rota válida encontrada: [0, 3, 6, 7, 8]\n",
      "2024-09-06 15:53:35,727: Rota válida encontrada: [0, 3, 6, 7, 8]\n",
      "2024-09-06 15:53:35,732: Teletransporte de qubit de 0 para 8 na rota [0, 3, 6, 7, 8] foi bem-sucedido com fidelidade final de 0.08490974804226814. Timeslot: 8\n",
      "2024-09-06 15:53:35,734: Teletransporte de qubit de 0 para 8 na rota [0, 3, 6, 7, 8] foi bem-sucedido com fidelidade final de 0.16337870320607684. Timeslot: 9\n",
      "2024-09-06 15:53:35,735: Teletransporte de qubit de 0 para 8 na rota [0, 3, 6, 7, 8] foi bem-sucedido com fidelidade final de 0.11099216026703995. Timeslot: 10\n",
      "2024-09-06 15:53:35,737: Transmissão e teletransporte de 3 qubits entre 0 e 8 concluídos com sucesso. Timeslot: 10\n",
      "2024-09-06 15:53:35,737: Chaves obtidas até agora: [1, 1, 0, 1, 1, 0, 0, 1, 1, 1, 1]\n",
      "2024-09-06 15:53:35,738: Protocolo E91 bem-sucedido. Chave final compartilhada: [1, 1, 0, 1, 1, 0, 0, 1, 1, 1]\n"
     ]
    },
    {
     "data": {
      "text/plain": [
       "[1, 1, 0, 1, 1, 0, 0, 1, 1, 1]"
      ]
     },
     "execution_count": 11,
     "metadata": {},
     "output_type": "execute_result"
    }
   ],
   "source": [
    "rede.application_layer.qkd_e91_protocol(0,8,10)"
   ]
  },
  {
   "cell_type": "code",
   "execution_count": 12,
   "metadata": {},
   "outputs": [
    {
     "data": {
      "text/plain": [
       "[]"
      ]
     },
     "execution_count": 12,
     "metadata": {},
     "output_type": "execute_result"
    }
   ],
   "source": [
    "rede.transportlayer.get_teleported_qubits()"
   ]
  },
  {
   "cell_type": "code",
   "execution_count": 13,
   "metadata": {},
   "outputs": [
    {
     "name": "stderr",
     "output_type": "stream",
     "text": [
      "2024-09-06 15:53:35,887: Timeslot atual na camada PhysicalLayer: 0\n",
      "2024-09-06 15:53:35,893: Timeslot atual na camada LinkLayer: 0\n",
      "2024-09-06 15:53:35,894: Timeslot atual na camada NetworkLayer: 0\n",
      "2024-09-06 15:53:35,895: Timeslot atual na camada TransportLayer: 10\n",
      "2024-09-06 15:53:35,895: Timeslot atual na camada ApplicationLayer: 0\n"
     ]
    },
    {
     "data": {
      "text/plain": [
       "10"
      ]
     },
     "execution_count": 13,
     "metadata": {},
     "output_type": "execute_result"
    }
   ],
   "source": [
    "rede.get_total_timeslot()"
   ]
  },
  {
   "cell_type": "code",
   "execution_count": 14,
   "metadata": {},
   "outputs": [
    {
     "name": "stderr",
     "output_type": "stream",
     "text": [
      "2024-09-06 15:53:35,981: Qubits usados na camada PhysicalLayer: 0\n",
      "2024-09-06 15:53:35,983: Qubits usados na camada LinkLayer: 0\n",
      "2024-09-06 15:53:35,985: Qubits usados na camada TransportLayer: 10\n",
      "2024-09-06 15:53:35,986: Qubits usados na camada ApplicationLayer: 20\n"
     ]
    },
    {
     "data": {
      "text/plain": [
       "30"
      ]
     },
     "execution_count": 14,
     "metadata": {},
     "output_type": "execute_result"
    }
   ],
   "source": [
    "rede.get_total_useds_qubits()"
   ]
  }
 ],
 "metadata": {
  "kernelspec": {
   "display_name": "Python 3",
   "language": "python",
   "name": "python3"
  },
  "language_info": {
   "codemirror_mode": {
    "name": "ipython",
    "version": 3
   },
   "file_extension": ".py",
   "mimetype": "text/x-python",
   "name": "python",
   "nbconvert_exporter": "python",
   "pygments_lexer": "ipython3",
   "version": "3.12.3"
  }
 },
 "nbformat": 4,
 "nbformat_minor": 2
}
