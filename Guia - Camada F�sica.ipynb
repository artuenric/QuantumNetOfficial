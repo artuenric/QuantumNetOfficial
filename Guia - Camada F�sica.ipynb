{
 "cells": [
  {
   "cell_type": "markdown",
   "metadata": {},
   "source": [
    "## Guia da Camada Física\n",
    "##### O documento tem o objetivo de demostrar o funcionamento da camada física, além de suas funções e ferramentas."
   ]
  },
  {
   "cell_type": "code",
   "execution_count": 1,
   "metadata": {},
   "outputs": [],
   "source": [
    "from quantumnet.components import Network, Host\n",
    "from quantumnet.objects import Qubit, Logger\n",
    "import random\n",
    "Logger.activate(Logger)"
   ]
  },
  {
   "cell_type": "markdown",
   "metadata": {},
   "source": [
    "##### Será instaciada a rede e definida a topologia de Grade"
   ]
  },
  {
   "cell_type": "code",
   "execution_count": 2,
   "metadata": {},
   "outputs": [
    {
     "name": "stderr",
     "output_type": "stream",
     "text": [
      "2024-09-05 11:05:44,156: Qubit 0 adicionado à memória do Host 0.\n",
      "2024-09-05 11:05:44,156: Qubit 0 criado com fidelidade inicial 0.46864902516870666 e adicionado à memória do Host 0.\n",
      "2024-09-05 11:05:44,159: Qubit 1 adicionado à memória do Host 0.\n",
      "2024-09-05 11:05:44,159: Qubit 1 criado com fidelidade inicial 0.6213848367699315 e adicionado à memória do Host 0.\n",
      "2024-09-05 11:05:44,159: Qubit 2 adicionado à memória do Host 0.\n",
      "2024-09-05 11:05:44,159: Qubit 2 criado com fidelidade inicial 0.8886199797487632 e adicionado à memória do Host 0.\n",
      "2024-09-05 11:05:44,159: Qubit 3 adicionado à memória do Host 0.\n",
      "2024-09-05 11:05:44,159: Qubit 3 criado com fidelidade inicial 0.5217109457984702 e adicionado à memória do Host 0.\n",
      "2024-09-05 11:05:44,159: Qubit 4 adicionado à memória do Host 0.\n",
      "2024-09-05 11:05:44,159: Qubit 4 criado com fidelidade inicial 0.5941538242702579 e adicionado à memória do Host 0.\n",
      "2024-09-05 11:05:44,159: Qubit 5 adicionado à memória do Host 0.\n",
      "2024-09-05 11:05:44,167: Qubit 5 criado com fidelidade inicial 0.6609115866129246 e adicionado à memória do Host 0.\n",
      "2024-09-05 11:05:44,167: Qubit 6 adicionado à memória do Host 0.\n",
      "2024-09-05 11:05:44,167: Qubit 6 criado com fidelidade inicial 0.04789424455917057 e adicionado à memória do Host 0.\n",
      "2024-09-05 11:05:44,167: Qubit 7 adicionado à memória do Host 0.\n",
      "2024-09-05 11:05:44,167: Qubit 7 criado com fidelidade inicial 0.576456347438344 e adicionado à memória do Host 0.\n",
      "2024-09-05 11:05:44,169: Qubit 8 adicionado à memória do Host 0.\n",
      "2024-09-05 11:05:44,169: Qubit 8 criado com fidelidade inicial 0.4106989397732608 e adicionado à memória do Host 0.\n",
      "2024-09-05 11:05:44,169: Qubit 9 adicionado à memória do Host 0.\n",
      "2024-09-05 11:05:44,169: Qubit 9 criado com fidelidade inicial 0.3409813509142168 e adicionado à memória do Host 0.\n",
      "2024-09-05 11:05:44,169: Qubit 10 adicionado à memória do Host 1.\n",
      "2024-09-05 11:05:44,169: Qubit 10 criado com fidelidade inicial 0.026431328918319896 e adicionado à memória do Host 1.\n",
      "2024-09-05 11:05:44,169: Qubit 11 adicionado à memória do Host 1.\n",
      "2024-09-05 11:05:44,169: Qubit 11 criado com fidelidade inicial 0.4765701879374844 e adicionado à memória do Host 1.\n",
      "2024-09-05 11:05:44,169: Qubit 12 adicionado à memória do Host 1.\n",
      "2024-09-05 11:05:44,174: Qubit 12 criado com fidelidade inicial 0.980250847972216 e adicionado à memória do Host 1.\n",
      "2024-09-05 11:05:44,174: Qubit 13 adicionado à memória do Host 1.\n",
      "2024-09-05 11:05:44,174: Qubit 13 criado com fidelidade inicial 0.8610301441818345 e adicionado à memória do Host 1.\n",
      "2024-09-05 11:05:44,174: Qubit 14 adicionado à memória do Host 1.\n",
      "2024-09-05 11:05:44,174: Qubit 14 criado com fidelidade inicial 0.1224893873160422 e adicionado à memória do Host 1.\n",
      "2024-09-05 11:05:44,174: Qubit 15 adicionado à memória do Host 1.\n",
      "2024-09-05 11:05:44,174: Qubit 15 criado com fidelidade inicial 0.7781412952387617 e adicionado à memória do Host 1.\n",
      "2024-09-05 11:05:44,179: Qubit 16 adicionado à memória do Host 1.\n",
      "2024-09-05 11:05:44,179: Qubit 16 criado com fidelidade inicial 0.007397121776804849 e adicionado à memória do Host 1.\n",
      "2024-09-05 11:05:44,179: Qubit 17 adicionado à memória do Host 1.\n",
      "2024-09-05 11:05:44,179: Qubit 17 criado com fidelidade inicial 0.2072402949942712 e adicionado à memória do Host 1.\n",
      "2024-09-05 11:05:44,179: Qubit 18 adicionado à memória do Host 1.\n",
      "2024-09-05 11:05:44,182: Qubit 18 criado com fidelidade inicial 0.65549334619592 e adicionado à memória do Host 1.\n",
      "2024-09-05 11:05:44,182: Qubit 19 adicionado à memória do Host 1.\n",
      "2024-09-05 11:05:44,182: Qubit 19 criado com fidelidade inicial 0.22092369498247622 e adicionado à memória do Host 1.\n",
      "2024-09-05 11:05:44,182: Qubit 20 adicionado à memória do Host 2.\n",
      "2024-09-05 11:05:44,182: Qubit 20 criado com fidelidade inicial 0.09380278350365956 e adicionado à memória do Host 2.\n",
      "2024-09-05 11:05:44,182: Qubit 21 adicionado à memória do Host 2.\n",
      "2024-09-05 11:05:44,182: Qubit 21 criado com fidelidade inicial 0.37988744308874833 e adicionado à memória do Host 2.\n",
      "2024-09-05 11:05:44,185: Qubit 22 adicionado à memória do Host 2.\n",
      "2024-09-05 11:05:44,185: Qubit 22 criado com fidelidade inicial 0.9303222129323191 e adicionado à memória do Host 2.\n",
      "2024-09-05 11:05:44,185: Qubit 23 adicionado à memória do Host 2.\n",
      "2024-09-05 11:05:44,185: Qubit 23 criado com fidelidade inicial 0.6787060924110999 e adicionado à memória do Host 2.\n",
      "2024-09-05 11:05:44,185: Qubit 24 adicionado à memória do Host 2.\n",
      "2024-09-05 11:05:44,185: Qubit 24 criado com fidelidade inicial 0.9530403307556641 e adicionado à memória do Host 2.\n",
      "2024-09-05 11:05:44,185: Qubit 25 adicionado à memória do Host 2.\n",
      "2024-09-05 11:05:44,185: Qubit 25 criado com fidelidade inicial 0.33174821695946033 e adicionado à memória do Host 2.\n",
      "2024-09-05 11:05:44,189: Qubit 26 adicionado à memória do Host 2.\n",
      "2024-09-05 11:05:44,189: Qubit 26 criado com fidelidade inicial 0.17389674567560132 e adicionado à memória do Host 2.\n",
      "2024-09-05 11:05:44,189: Qubit 27 adicionado à memória do Host 2.\n",
      "2024-09-05 11:05:44,189: Qubit 27 criado com fidelidade inicial 0.034917092039938535 e adicionado à memória do Host 2.\n",
      "2024-09-05 11:05:44,191: Qubit 28 adicionado à memória do Host 2.\n",
      "2024-09-05 11:05:44,192: Qubit 28 criado com fidelidade inicial 0.11215448209078394 e adicionado à memória do Host 2.\n",
      "2024-09-05 11:05:44,192: Qubit 29 adicionado à memória do Host 2.\n",
      "2024-09-05 11:05:44,192: Qubit 29 criado com fidelidade inicial 0.6893711726748502 e adicionado à memória do Host 2.\n",
      "2024-09-05 11:05:44,192: Qubit 30 adicionado à memória do Host 3.\n",
      "2024-09-05 11:05:44,192: Qubit 30 criado com fidelidade inicial 0.42204192643606775 e adicionado à memória do Host 3.\n",
      "2024-09-05 11:05:44,192: Qubit 31 adicionado à memória do Host 3.\n",
      "2024-09-05 11:05:44,192: Qubit 31 criado com fidelidade inicial 0.4238976135129343 e adicionado à memória do Host 3.\n",
      "2024-09-05 11:05:44,192: Qubit 32 adicionado à memória do Host 3.\n",
      "2024-09-05 11:05:44,192: Qubit 32 criado com fidelidade inicial 0.9823850523118487 e adicionado à memória do Host 3.\n",
      "2024-09-05 11:05:44,192: Qubit 33 adicionado à memória do Host 3.\n",
      "2024-09-05 11:05:44,192: Qubit 33 criado com fidelidade inicial 0.16083336112221636 e adicionado à memória do Host 3.\n",
      "2024-09-05 11:05:44,192: Qubit 34 adicionado à memória do Host 3.\n",
      "2024-09-05 11:05:44,199: Qubit 34 criado com fidelidade inicial 0.5884012049441327 e adicionado à memória do Host 3.\n",
      "2024-09-05 11:05:44,199: Qubit 35 adicionado à memória do Host 3.\n",
      "2024-09-05 11:05:44,199: Qubit 35 criado com fidelidade inicial 0.11011297700688483 e adicionado à memória do Host 3.\n",
      "2024-09-05 11:05:44,208: Qubit 36 adicionado à memória do Host 3.\n",
      "2024-09-05 11:05:44,209: Qubit 36 criado com fidelidade inicial 0.3902261821974685 e adicionado à memória do Host 3.\n",
      "2024-09-05 11:05:44,209: Qubit 37 adicionado à memória do Host 3.\n",
      "2024-09-05 11:05:44,209: Qubit 37 criado com fidelidade inicial 0.7470994289090769 e adicionado à memória do Host 3.\n",
      "2024-09-05 11:05:44,213: Qubit 38 adicionado à memória do Host 3.\n",
      "2024-09-05 11:05:44,213: Qubit 38 criado com fidelidade inicial 0.21982681181773067 e adicionado à memória do Host 3.\n",
      "2024-09-05 11:05:44,213: Qubit 39 adicionado à memória do Host 3.\n",
      "2024-09-05 11:05:44,215: Qubit 39 criado com fidelidade inicial 0.35038278567096903 e adicionado à memória do Host 3.\n",
      "2024-09-05 11:05:44,215: Qubit 40 adicionado à memória do Host 4.\n",
      "2024-09-05 11:05:44,219: Qubit 40 criado com fidelidade inicial 0.11449131730062756 e adicionado à memória do Host 4.\n",
      "2024-09-05 11:05:44,223: Qubit 41 adicionado à memória do Host 4.\n",
      "2024-09-05 11:05:44,223: Qubit 41 criado com fidelidade inicial 0.2000716733654656 e adicionado à memória do Host 4.\n",
      "2024-09-05 11:05:44,223: Qubit 42 adicionado à memória do Host 4.\n",
      "2024-09-05 11:05:44,229: Qubit 42 criado com fidelidade inicial 0.42170079353371825 e adicionado à memória do Host 4.\n",
      "2024-09-05 11:05:44,231: Qubit 43 adicionado à memória do Host 4.\n",
      "2024-09-05 11:05:44,231: Qubit 43 criado com fidelidade inicial 0.694276197790752 e adicionado à memória do Host 4.\n",
      "2024-09-05 11:05:44,231: Qubit 44 adicionado à memória do Host 4.\n",
      "2024-09-05 11:05:44,239: Qubit 44 criado com fidelidade inicial 0.13231969982376846 e adicionado à memória do Host 4.\n",
      "2024-09-05 11:05:44,239: Qubit 45 adicionado à memória do Host 4.\n",
      "2024-09-05 11:05:44,244: Qubit 45 criado com fidelidade inicial 0.34718242129311716 e adicionado à memória do Host 4.\n",
      "2024-09-05 11:05:44,244: Qubit 46 adicionado à memória do Host 4.\n",
      "2024-09-05 11:05:44,247: Qubit 46 criado com fidelidade inicial 0.9433799079257843 e adicionado à memória do Host 4.\n",
      "2024-09-05 11:05:44,247: Qubit 47 adicionado à memória do Host 4.\n",
      "2024-09-05 11:05:44,249: Qubit 47 criado com fidelidade inicial 0.7264025455087425 e adicionado à memória do Host 4.\n",
      "2024-09-05 11:05:44,249: Qubit 48 adicionado à memória do Host 4.\n",
      "2024-09-05 11:05:44,249: Qubit 48 criado com fidelidade inicial 0.6175991364952247 e adicionado à memória do Host 4.\n",
      "2024-09-05 11:05:44,249: Qubit 49 adicionado à memória do Host 4.\n",
      "2024-09-05 11:05:44,249: Qubit 49 criado com fidelidade inicial 0.8271765089480209 e adicionado à memória do Host 4.\n",
      "2024-09-05 11:05:44,249: Qubit 50 adicionado à memória do Host 5.\n",
      "2024-09-05 11:05:44,249: Qubit 50 criado com fidelidade inicial 0.010711344073222162 e adicionado à memória do Host 5.\n",
      "2024-09-05 11:05:44,255: Qubit 51 adicionado à memória do Host 5.\n",
      "2024-09-05 11:05:44,255: Qubit 51 criado com fidelidade inicial 0.12805054569165142 e adicionado à memória do Host 5.\n",
      "2024-09-05 11:05:44,255: Qubit 52 adicionado à memória do Host 5.\n",
      "2024-09-05 11:05:44,255: Qubit 52 criado com fidelidade inicial 0.4248009370620903 e adicionado à memória do Host 5.\n",
      "2024-09-05 11:05:44,255: Qubit 53 adicionado à memória do Host 5.\n",
      "2024-09-05 11:05:44,255: Qubit 53 criado com fidelidade inicial 0.33149875876221957 e adicionado à memória do Host 5.\n",
      "2024-09-05 11:05:44,255: Qubit 54 adicionado à memória do Host 5.\n",
      "2024-09-05 11:05:44,259: Qubit 54 criado com fidelidade inicial 0.9801760893399099 e adicionado à memória do Host 5.\n",
      "2024-09-05 11:05:44,259: Qubit 55 adicionado à memória do Host 5.\n",
      "2024-09-05 11:05:44,259: Qubit 55 criado com fidelidade inicial 0.383824868615563 e adicionado à memória do Host 5.\n",
      "2024-09-05 11:05:44,259: Qubit 56 adicionado à memória do Host 5.\n",
      "2024-09-05 11:05:44,259: Qubit 56 criado com fidelidade inicial 0.5292880431409235 e adicionado à memória do Host 5.\n",
      "2024-09-05 11:05:44,259: Qubit 57 adicionado à memória do Host 5.\n",
      "2024-09-05 11:05:44,259: Qubit 57 criado com fidelidade inicial 0.8176012315386324 e adicionado à memória do Host 5.\n",
      "2024-09-05 11:05:44,264: Qubit 58 adicionado à memória do Host 5.\n",
      "2024-09-05 11:05:44,264: Qubit 58 criado com fidelidade inicial 0.6960471494062431 e adicionado à memória do Host 5.\n",
      "2024-09-05 11:05:44,265: Qubit 59 adicionado à memória do Host 5.\n",
      "2024-09-05 11:05:44,265: Qubit 59 criado com fidelidade inicial 0.8231710489588067 e adicionado à memória do Host 5.\n",
      "2024-09-05 11:05:44,266: Qubit 60 adicionado à memória do Host 6.\n",
      "2024-09-05 11:05:44,266: Qubit 60 criado com fidelidade inicial 0.7893931575734104 e adicionado à memória do Host 6.\n",
      "2024-09-05 11:05:44,267: Qubit 61 adicionado à memória do Host 6.\n",
      "2024-09-05 11:05:44,268: Qubit 61 criado com fidelidade inicial 0.09353965624225968 e adicionado à memória do Host 6.\n",
      "2024-09-05 11:05:44,268: Qubit 62 adicionado à memória do Host 6.\n",
      "2024-09-05 11:05:44,268: Qubit 62 criado com fidelidade inicial 0.07325304493739948 e adicionado à memória do Host 6.\n",
      "2024-09-05 11:05:44,269: Qubit 63 adicionado à memória do Host 6.\n",
      "2024-09-05 11:05:44,269: Qubit 63 criado com fidelidade inicial 0.9086181358824456 e adicionado à memória do Host 6.\n",
      "2024-09-05 11:05:44,270: Qubit 64 adicionado à memória do Host 6.\n",
      "2024-09-05 11:05:44,271: Qubit 64 criado com fidelidade inicial 0.552907007863743 e adicionado à memória do Host 6.\n",
      "2024-09-05 11:05:44,271: Qubit 65 adicionado à memória do Host 6.\n",
      "2024-09-05 11:05:44,271: Qubit 65 criado com fidelidade inicial 0.5913802588263449 e adicionado à memória do Host 6.\n",
      "2024-09-05 11:05:44,272: Qubit 66 adicionado à memória do Host 6.\n",
      "2024-09-05 11:05:44,272: Qubit 66 criado com fidelidade inicial 0.12661214524514397 e adicionado à memória do Host 6.\n",
      "2024-09-05 11:05:44,272: Qubit 67 adicionado à memória do Host 6.\n",
      "2024-09-05 11:05:44,273: Qubit 67 criado com fidelidade inicial 0.1373250115607142 e adicionado à memória do Host 6.\n",
      "2024-09-05 11:05:44,273: Qubit 68 adicionado à memória do Host 6.\n",
      "2024-09-05 11:05:44,273: Qubit 68 criado com fidelidade inicial 0.6747578080067038 e adicionado à memória do Host 6.\n",
      "2024-09-05 11:05:44,273: Qubit 69 adicionado à memória do Host 6.\n",
      "2024-09-05 11:05:44,273: Qubit 69 criado com fidelidade inicial 0.26510436836282103 e adicionado à memória do Host 6.\n",
      "2024-09-05 11:05:44,273: Qubit 70 adicionado à memória do Host 7.\n",
      "2024-09-05 11:05:44,273: Qubit 70 criado com fidelidade inicial 0.5018717667408353 e adicionado à memória do Host 7.\n",
      "2024-09-05 11:05:44,273: Qubit 71 adicionado à memória do Host 7.\n",
      "2024-09-05 11:05:44,273: Qubit 71 criado com fidelidade inicial 0.2566906955542585 e adicionado à memória do Host 7.\n",
      "2024-09-05 11:05:44,273: Qubit 72 adicionado à memória do Host 7.\n",
      "2024-09-05 11:05:44,273: Qubit 72 criado com fidelidade inicial 0.33222570086283665 e adicionado à memória do Host 7.\n",
      "2024-09-05 11:05:44,273: Qubit 73 adicionado à memória do Host 7.\n",
      "2024-09-05 11:05:44,273: Qubit 73 criado com fidelidade inicial 0.20995945445503217 e adicionado à memória do Host 7.\n",
      "2024-09-05 11:05:44,279: Qubit 74 adicionado à memória do Host 7.\n",
      "2024-09-05 11:05:44,279: Qubit 74 criado com fidelidade inicial 0.6190117623780814 e adicionado à memória do Host 7.\n",
      "2024-09-05 11:05:44,279: Qubit 75 adicionado à memória do Host 7.\n",
      "2024-09-05 11:05:44,279: Qubit 75 criado com fidelidade inicial 0.8495102212546005 e adicionado à memória do Host 7.\n",
      "2024-09-05 11:05:44,279: Qubit 76 adicionado à memória do Host 7.\n",
      "2024-09-05 11:05:44,279: Qubit 76 criado com fidelidade inicial 0.9667738612685474 e adicionado à memória do Host 7.\n",
      "2024-09-05 11:05:44,279: Qubit 77 adicionado à memória do Host 7.\n",
      "2024-09-05 11:05:44,279: Qubit 77 criado com fidelidade inicial 0.4839738027091307 e adicionado à memória do Host 7.\n",
      "2024-09-05 11:05:44,279: Qubit 78 adicionado à memória do Host 7.\n",
      "2024-09-05 11:05:44,279: Qubit 78 criado com fidelidade inicial 0.3010185702985282 e adicionado à memória do Host 7.\n",
      "2024-09-05 11:05:44,279: Qubit 79 adicionado à memória do Host 7.\n",
      "2024-09-05 11:05:44,279: Qubit 79 criado com fidelidade inicial 0.6778809622508539 e adicionado à memória do Host 7.\n",
      "2024-09-05 11:05:44,287: Qubit 80 adicionado à memória do Host 8.\n",
      "2024-09-05 11:05:44,287: Qubit 80 criado com fidelidade inicial 0.21806483979352054 e adicionado à memória do Host 8.\n",
      "2024-09-05 11:05:44,287: Qubit 81 adicionado à memória do Host 8.\n",
      "2024-09-05 11:05:44,287: Qubit 81 criado com fidelidade inicial 0.8037185953244796 e adicionado à memória do Host 8.\n",
      "2024-09-05 11:05:44,289: Qubit 82 adicionado à memória do Host 8.\n",
      "2024-09-05 11:05:44,289: Qubit 82 criado com fidelidade inicial 0.35074565527275336 e adicionado à memória do Host 8.\n",
      "2024-09-05 11:05:44,289: Qubit 83 adicionado à memória do Host 8.\n",
      "2024-09-05 11:05:44,289: Qubit 83 criado com fidelidade inicial 0.15966637453287724 e adicionado à memória do Host 8.\n",
      "2024-09-05 11:05:44,289: Qubit 84 adicionado à memória do Host 8.\n",
      "2024-09-05 11:05:44,289: Qubit 84 criado com fidelidade inicial 0.9695197159352958 e adicionado à memória do Host 8.\n",
      "2024-09-05 11:05:44,289: Qubit 85 adicionado à memória do Host 8.\n",
      "2024-09-05 11:05:44,289: Qubit 85 criado com fidelidade inicial 0.21904471199284026 e adicionado à memória do Host 8.\n",
      "2024-09-05 11:05:44,289: Qubit 86 adicionado à memória do Host 8.\n",
      "2024-09-05 11:05:44,289: Qubit 86 criado com fidelidade inicial 0.4127349424371277 e adicionado à memória do Host 8.\n",
      "2024-09-05 11:05:44,296: Qubit 87 adicionado à memória do Host 8.\n",
      "2024-09-05 11:05:44,296: Qubit 87 criado com fidelidade inicial 0.5736316701574521 e adicionado à memória do Host 8.\n",
      "2024-09-05 11:05:44,296: Qubit 88 adicionado à memória do Host 8.\n",
      "2024-09-05 11:05:44,296: Qubit 88 criado com fidelidade inicial 0.9190349162875049 e adicionado à memória do Host 8.\n",
      "2024-09-05 11:05:44,296: Qubit 89 adicionado à memória do Host 8.\n",
      "2024-09-05 11:05:44,296: Qubit 89 criado com fidelidade inicial 0.11084454546109423 e adicionado à memória do Host 8.\n",
      "2024-09-05 11:05:44,296: Par EPR <quantumnet.objects.epr.Epr object at 0x0000024EDE474310> adicionado ao canal.\n",
      "2024-09-05 11:05:44,296: Par EPR <quantumnet.objects.epr.Epr object at 0x0000024EDE468A90> adicionado ao canal.\n",
      "2024-09-05 11:05:44,299: Par EPR <quantumnet.objects.epr.Epr object at 0x0000024EDE46BD50> adicionado ao canal.\n",
      "2024-09-05 11:05:44,299: Par EPR <quantumnet.objects.epr.Epr object at 0x0000024EDE45CA10> adicionado ao canal.\n",
      "2024-09-05 11:05:44,299: Par EPR <quantumnet.objects.epr.Epr object at 0x0000024EDE45CB10> adicionado ao canal.\n",
      "2024-09-05 11:05:44,299: Par EPR <quantumnet.objects.epr.Epr object at 0x0000024EDE46FED0> adicionado ao canal.\n",
      "2024-09-05 11:05:44,299: Par EPR <quantumnet.objects.epr.Epr object at 0x0000024EDE46C5D0> adicionado ao canal.\n",
      "2024-09-05 11:05:44,299: Par EPR <quantumnet.objects.epr.Epr object at 0x0000024EDE46FCD0> adicionado ao canal.\n",
      "2024-09-05 11:05:44,299: Par EPR <quantumnet.objects.epr.Epr object at 0x0000024EDE46D110> adicionado ao canal.\n",
      "2024-09-05 11:05:44,299: Par EPR <quantumnet.objects.epr.Epr object at 0x0000024EDE46CA90> adicionado ao canal.\n",
      "2024-09-05 11:05:44,299: Par EPR <quantumnet.objects.epr.Epr object at 0x0000024EDE45F590> adicionado ao canal.\n",
      "2024-09-05 11:05:44,299: Par EPR <quantumnet.objects.epr.Epr object at 0x0000024EDE456A10> adicionado ao canal.\n",
      "2024-09-05 11:05:44,299: Par EPR <quantumnet.objects.epr.Epr object at 0x0000024EDE45D690> adicionado ao canal.\n",
      "2024-09-05 11:05:44,304: Par EPR <quantumnet.objects.epr.Epr object at 0x0000024EDE45EC10> adicionado ao canal.\n",
      "2024-09-05 11:05:44,304: Par EPR <quantumnet.objects.epr.Epr object at 0x0000024EDE45DA10> adicionado ao canal.\n",
      "2024-09-05 11:05:44,304: Par EPR <quantumnet.objects.epr.Epr object at 0x0000024EDE45D350> adicionado ao canal.\n",
      "2024-09-05 11:05:44,304: Par EPR <quantumnet.objects.epr.Epr object at 0x0000024EDE46E210> adicionado ao canal.\n",
      "2024-09-05 11:05:44,304: Par EPR <quantumnet.objects.epr.Epr object at 0x0000024EDE45E690> adicionado ao canal.\n",
      "2024-09-05 11:05:44,304: Par EPR <quantumnet.objects.epr.Epr object at 0x0000024EDE45E190> adicionado ao canal.\n",
      "2024-09-05 11:05:44,304: Par EPR <quantumnet.objects.epr.Epr object at 0x0000024EDE45E750> adicionado ao canal.\n",
      "2024-09-05 11:05:44,304: Par EPR <quantumnet.objects.epr.Epr object at 0x0000024EDE46E650> adicionado ao canal.\n",
      "2024-09-05 11:05:44,359: Par EPR <quantumnet.objects.epr.Epr object at 0x0000024EDE455310> adicionado ao canal.\n",
      "2024-09-05 11:05:44,359: Par EPR <quantumnet.objects.epr.Epr object at 0x0000024EDE436190> adicionado ao canal.\n",
      "2024-09-05 11:05:44,359: Par EPR <quantumnet.objects.epr.Epr object at 0x0000024EDD93DB10> adicionado ao canal.\n",
      "2024-09-05 11:05:44,359: Par EPR <quantumnet.objects.epr.Epr object at 0x0000024EDD90F410> adicionado ao canal.\n",
      "2024-09-05 11:05:44,359: Par EPR <quantumnet.objects.epr.Epr object at 0x0000024EDE468AD0> adicionado ao canal.\n",
      "2024-09-05 11:05:44,359: Par EPR <quantumnet.objects.epr.Epr object at 0x0000024EDE462BD0> adicionado ao canal.\n",
      "2024-09-05 11:05:44,359: Par EPR <quantumnet.objects.epr.Epr object at 0x0000024EDE460C10> adicionado ao canal.\n",
      "2024-09-05 11:05:44,359: Par EPR <quantumnet.objects.epr.Epr object at 0x0000024EDE45F910> adicionado ao canal.\n",
      "2024-09-05 11:05:44,359: Par EPR <quantumnet.objects.epr.Epr object at 0x0000024EDE468810> adicionado ao canal.\n",
      "2024-09-05 11:05:44,359: Par EPR <quantumnet.objects.epr.Epr object at 0x0000024EDE46F510> adicionado ao canal.\n",
      "2024-09-05 11:05:44,359: Par EPR <quantumnet.objects.epr.Epr object at 0x0000024EDD93DE10> adicionado ao canal.\n",
      "2024-09-05 11:05:44,359: Par EPR <quantumnet.objects.epr.Epr object at 0x0000024EDE459E50> adicionado ao canal.\n",
      "2024-09-05 11:05:44,359: Par EPR <quantumnet.objects.epr.Epr object at 0x0000024EDE459B10> adicionado ao canal.\n",
      "2024-09-05 11:05:44,359: Par EPR <quantumnet.objects.epr.Epr object at 0x0000024EDE46EDD0> adicionado ao canal.\n",
      "2024-09-05 11:05:44,359: Par EPR <quantumnet.objects.epr.Epr object at 0x0000024EDE45A0D0> adicionado ao canal.\n",
      "2024-09-05 11:05:44,359: Par EPR <quantumnet.objects.epr.Epr object at 0x0000024EDE459810> adicionado ao canal.\n",
      "2024-09-05 11:05:44,359: Par EPR <quantumnet.objects.epr.Epr object at 0x0000024EDE46C2D0> adicionado ao canal.\n",
      "2024-09-05 11:05:44,359: Par EPR <quantumnet.objects.epr.Epr object at 0x0000024EDE456490> adicionado ao canal.\n",
      "2024-09-05 11:05:44,359: Par EPR <quantumnet.objects.epr.Epr object at 0x0000024EDE458E90> adicionado ao canal.\n",
      "2024-09-05 11:05:44,367: Par EPR <quantumnet.objects.epr.Epr object at 0x0000024EDE45F510> adicionado ao canal.\n",
      "2024-09-05 11:05:44,367: Par EPR <quantumnet.objects.epr.Epr object at 0x0000024EDD940610> adicionado ao canal.\n",
      "2024-09-05 11:05:44,367: Par EPR <quantumnet.objects.epr.Epr object at 0x0000024EDD914A50> adicionado ao canal.\n",
      "2024-09-05 11:05:44,375: Par EPR <quantumnet.objects.epr.Epr object at 0x0000024EDE462090> adicionado ao canal.\n",
      "2024-09-05 11:05:44,379: Par EPR <quantumnet.objects.epr.Epr object at 0x0000024EDE46B3D0> adicionado ao canal.\n",
      "2024-09-05 11:05:44,379: Par EPR <quantumnet.objects.epr.Epr object at 0x0000024EDE462890> adicionado ao canal.\n",
      "2024-09-05 11:05:44,379: Par EPR <quantumnet.objects.epr.Epr object at 0x0000024EDE46B610> adicionado ao canal.\n",
      "2024-09-05 11:05:44,379: Par EPR <quantumnet.objects.epr.Epr object at 0x0000024EDE468890> adicionado ao canal.\n",
      "2024-09-05 11:05:44,384: Par EPR <quantumnet.objects.epr.Epr object at 0x0000024EDE46B090> adicionado ao canal.\n",
      "2024-09-05 11:05:44,385: Par EPR <quantumnet.objects.epr.Epr object at 0x0000024EDE469BD0> adicionado ao canal.\n",
      "2024-09-05 11:05:44,385: Par EPR <quantumnet.objects.epr.Epr object at 0x0000024EDE45BF10> adicionado ao canal.\n",
      "2024-09-05 11:05:44,386: Par EPR <quantumnet.objects.epr.Epr object at 0x0000024EDE458D50> adicionado ao canal.\n",
      "2024-09-05 11:05:44,386: Par EPR <quantumnet.objects.epr.Epr object at 0x0000024EDDDFE250> adicionado ao canal.\n",
      "2024-09-05 11:05:44,387: Par EPR <quantumnet.objects.epr.Epr object at 0x0000024EDE456990> adicionado ao canal.\n",
      "2024-09-05 11:05:44,387: Par EPR <quantumnet.objects.epr.Epr object at 0x0000024EDE455650> adicionado ao canal.\n",
      "2024-09-05 11:05:44,388: Par EPR <quantumnet.objects.epr.Epr object at 0x0000024EDE46F2D0> adicionado ao canal.\n",
      "2024-09-05 11:05:44,388: Par EPR <quantumnet.objects.epr.Epr object at 0x0000024EDE46F490> adicionado ao canal.\n",
      "2024-09-05 11:05:44,388: Par EPR <quantumnet.objects.epr.Epr object at 0x0000024EDE46FF10> adicionado ao canal.\n",
      "2024-09-05 11:05:44,389: Par EPR <quantumnet.objects.epr.Epr object at 0x0000024EDE46DB90> adicionado ao canal.\n",
      "2024-09-05 11:05:44,389: Par EPR <quantumnet.objects.epr.Epr object at 0x0000024EDE455BD0> adicionado ao canal.\n",
      "2024-09-05 11:05:44,389: Par EPR <quantumnet.objects.epr.Epr object at 0x0000024EDE455E10> adicionado ao canal.\n",
      "2024-09-05 11:05:44,390: Par EPR <quantumnet.objects.epr.Epr object at 0x0000024EDE454F90> adicionado ao canal.\n",
      "2024-09-05 11:05:44,390: Par EPR <quantumnet.objects.epr.Epr object at 0x0000024EDE45D390> adicionado ao canal.\n",
      "2024-09-05 11:05:44,391: Par EPR <quantumnet.objects.epr.Epr object at 0x0000024EDE45E3D0> adicionado ao canal.\n",
      "2024-09-05 11:05:44,392: Par EPR <quantumnet.objects.epr.Epr object at 0x0000024EDE46CB50> adicionado ao canal.\n",
      "2024-09-05 11:05:44,393: Par EPR <quantumnet.objects.epr.Epr object at 0x0000024EDE45EF50> adicionado ao canal.\n",
      "2024-09-05 11:05:44,393: Par EPR <quantumnet.objects.epr.Epr object at 0x0000024EDE45E650> adicionado ao canal.\n",
      "2024-09-05 11:05:44,393: Par EPR <quantumnet.objects.epr.Epr object at 0x0000024EDE45CE10> adicionado ao canal.\n",
      "2024-09-05 11:05:44,393: Par EPR <quantumnet.objects.epr.Epr object at 0x0000024EDE477FD0> adicionado ao canal.\n",
      "2024-09-05 11:05:44,393: Par EPR <quantumnet.objects.epr.Epr object at 0x0000024EDE477F50> adicionado ao canal.\n",
      "2024-09-05 11:05:44,393: Par EPR <quantumnet.objects.epr.Epr object at 0x0000024EDE45B310> adicionado ao canal.\n",
      "2024-09-05 11:05:44,393: Par EPR <quantumnet.objects.epr.Epr object at 0x0000024EDE46CDD0> adicionado ao canal.\n",
      "2024-09-05 11:05:44,393: Par EPR <quantumnet.objects.epr.Epr object at 0x0000024EDE46CE10> adicionado ao canal.\n",
      "2024-09-05 11:05:44,393: Par EPR <quantumnet.objects.epr.Epr object at 0x0000024EDE45F1D0> adicionado ao canal.\n",
      "2024-09-05 11:05:44,393: Par EPR <quantumnet.objects.epr.Epr object at 0x0000024EDE45D950> adicionado ao canal.\n",
      "2024-09-05 11:05:44,393: Par EPR <quantumnet.objects.epr.Epr object at 0x0000024EDE460590> adicionado ao canal.\n",
      "2024-09-05 11:05:44,399: Par EPR <quantumnet.objects.epr.Epr object at 0x0000024EDE46BF10> adicionado ao canal.\n",
      "2024-09-05 11:05:44,417: Par EPR <quantumnet.objects.epr.Epr object at 0x0000024EDE468A50> adicionado ao canal.\n",
      "2024-09-05 11:05:44,422: Par EPR <quantumnet.objects.epr.Epr object at 0x0000024EDD941610> adicionado ao canal.\n",
      "2024-09-05 11:05:44,423: Par EPR <quantumnet.objects.epr.Epr object at 0x0000024EDE455DD0> adicionado ao canal.\n",
      "2024-09-05 11:05:44,424: Par EPR <quantumnet.objects.epr.Epr object at 0x0000024EDE474910> adicionado ao canal.\n",
      "2024-09-05 11:05:44,425: Par EPR <quantumnet.objects.epr.Epr object at 0x0000024EDE477090> adicionado ao canal.\n",
      "2024-09-05 11:05:44,425: Par EPR <quantumnet.objects.epr.Epr object at 0x0000024EDE457F10> adicionado ao canal.\n",
      "2024-09-05 11:05:44,429: Par EPR <quantumnet.objects.epr.Epr object at 0x0000024EDE457AD0> adicionado ao canal.\n",
      "2024-09-05 11:05:44,429: Par EPR <quantumnet.objects.epr.Epr object at 0x0000024EDE457C50> adicionado ao canal.\n",
      "2024-09-05 11:05:44,429: Par EPR <quantumnet.objects.epr.Epr object at 0x0000024EDE458350> adicionado ao canal.\n",
      "2024-09-05 11:05:44,429: Par EPR <quantumnet.objects.epr.Epr object at 0x0000024EDE468250> adicionado ao canal.\n",
      "2024-09-05 11:05:44,429: Par EPR <quantumnet.objects.epr.Epr object at 0x0000024EDE45A090> adicionado ao canal.\n",
      "2024-09-05 11:05:44,429: Par EPR <quantumnet.objects.epr.Epr object at 0x0000024EDE463810> adicionado ao canal.\n",
      "2024-09-05 11:05:44,429: Par EPR <quantumnet.objects.epr.Epr object at 0x0000024EDE459910> adicionado ao canal.\n",
      "2024-09-05 11:05:44,429: Par EPR <quantumnet.objects.epr.Epr object at 0x0000024EDE46BE50> adicionado ao canal.\n",
      "2024-09-05 11:05:44,434: Par EPR <quantumnet.objects.epr.Epr object at 0x0000024EDDE0CB10> adicionado ao canal.\n",
      "2024-09-05 11:05:44,434: Par EPR <quantumnet.objects.epr.Epr object at 0x0000024EDD940290> adicionado ao canal.\n",
      "2024-09-05 11:05:44,434: Par EPR <quantumnet.objects.epr.Epr object at 0x0000024EDE458910> adicionado ao canal.\n",
      "2024-09-05 11:05:44,434: Par EPR <quantumnet.objects.epr.Epr object at 0x0000024EDE459D90> adicionado ao canal.\n",
      "2024-09-05 11:05:44,434: Par EPR <quantumnet.objects.epr.Epr object at 0x0000024EDE45ADD0> adicionado ao canal.\n",
      "2024-09-05 11:05:44,434: Par EPR <quantumnet.objects.epr.Epr object at 0x0000024EDE45A550> adicionado ao canal.\n",
      "2024-09-05 11:05:44,434: Par EPR <quantumnet.objects.epr.Epr object at 0x0000024EDE45F390> adicionado ao canal.\n",
      "2024-09-05 11:05:44,434: Par EPR <quantumnet.objects.epr.Epr object at 0x0000024EDE45A150> adicionado ao canal.\n",
      "2024-09-05 11:05:44,434: Par EPR <quantumnet.objects.epr.Epr object at 0x0000024EDE469310> adicionado ao canal.\n",
      "2024-09-05 11:05:44,434: Par EPR <quantumnet.objects.epr.Epr object at 0x0000024EDE45A5D0> adicionado ao canal.\n",
      "2024-09-05 11:05:44,434: Par EPR <quantumnet.objects.epr.Epr object at 0x0000024EDE4595D0> adicionado ao canal.\n",
      "2024-09-05 11:05:44,434: Par EPR <quantumnet.objects.epr.Epr object at 0x0000024EDE45A690> adicionado ao canal.\n",
      "2024-09-05 11:05:44,439: Par EPR <quantumnet.objects.epr.Epr object at 0x0000024EDE458FD0> adicionado ao canal.\n",
      "2024-09-05 11:05:44,439: Par EPR <quantumnet.objects.epr.Epr object at 0x0000024EDE4603D0> adicionado ao canal.\n",
      "2024-09-05 11:05:44,439: Par EPR <quantumnet.objects.epr.Epr object at 0x0000024EDE469A50> adicionado ao canal.\n",
      "2024-09-05 11:05:44,439: Par EPR <quantumnet.objects.epr.Epr object at 0x0000024EDE46AFD0> adicionado ao canal.\n",
      "2024-09-05 11:05:44,439: Par EPR <quantumnet.objects.epr.Epr object at 0x0000024EDE459CD0> adicionado ao canal.\n",
      "2024-09-05 11:05:44,442: Par EPR <quantumnet.objects.epr.Epr object at 0x0000024EDE4592D0> adicionado ao canal.\n",
      "2024-09-05 11:05:44,442: Par EPR <quantumnet.objects.epr.Epr object at 0x0000024EDE463A10> adicionado ao canal.\n",
      "2024-09-05 11:05:44,442: Par EPR <quantumnet.objects.epr.Epr object at 0x0000024EDE46A890> adicionado ao canal.\n",
      "2024-09-05 11:05:44,442: Par EPR <quantumnet.objects.epr.Epr object at 0x0000024EDE46A750> adicionado ao canal.\n",
      "2024-09-05 11:05:44,442: Par EPR <quantumnet.objects.epr.Epr object at 0x0000024EDE4623D0> adicionado ao canal.\n",
      "2024-09-05 11:05:44,442: Par EPR <quantumnet.objects.epr.Epr object at 0x0000024EDE459550> adicionado ao canal.\n",
      "2024-09-05 11:05:44,442: Par EPR <quantumnet.objects.epr.Epr object at 0x0000024EDE4616D0> adicionado ao canal.\n",
      "2024-09-05 11:05:44,442: Par EPR <quantumnet.objects.epr.Epr object at 0x0000024EDE462010> adicionado ao canal.\n",
      "2024-09-05 11:05:44,442: Par EPR <quantumnet.objects.epr.Epr object at 0x0000024EDE46AE90> adicionado ao canal.\n",
      "2024-09-05 11:05:44,442: Par EPR <quantumnet.objects.epr.Epr object at 0x0000024EDE462C10> adicionado ao canal.\n",
      "2024-09-05 11:05:44,442: Par EPR <quantumnet.objects.epr.Epr object at 0x0000024EDE45B350> adicionado ao canal.\n",
      "2024-09-05 11:05:44,442: Par EPR <quantumnet.objects.epr.Epr object at 0x0000024EDE462AD0> adicionado ao canal.\n"
     ]
    },
    {
     "name": "stdout",
     "output_type": "stream",
     "text": [
      "Hosts inicializados\n",
      "Canais inicializados\n",
      "Pares EPRs adicionados\n"
     ]
    },
    {
     "data": {
      "image/png": "[encoded data removed]",
      "text/plain": [
       "<Figure size 640x480 with 1 Axes>"
      ]
     },
     "metadata": {},
     "output_type": "display_data"
    }
   ],
   "source": [
    "rede = Network()\n",
    "rede.set_ready_topology(\"Grade\", 3,3)\n",
    "rede.draw()"
   ]
  },
  {
   "cell_type": "markdown",
   "metadata": {},
   "source": [
    "##### Selecionando aleatoriamente uma aresta do grafo da rede e deseguinando quem será Alice e Bob."
   ]
  },
  {
   "cell_type": "code",
   "execution_count": 3,
   "metadata": {},
   "outputs": [],
   "source": [
    "arestas = list(rede.edges)\n",
    "aresta_aleatorias = random.sample(arestas, 1)[0]\n",
    "x,y = aresta_aleatorias\n",
    "\n",
    "alice = rede.get_host(x)\n",
    "bob = rede.get_host(y)"
   ]
  },
  {
   "cell_type": "markdown",
   "metadata": {},
   "source": [
    "##### Adicionando qubits aos hosts."
   ]
  },
  {
   "cell_type": "code",
   "execution_count": 4,
   "metadata": {},
   "outputs": [
    {
     "name": "stderr",
     "output_type": "stream",
     "text": [
      "2024-09-05 11:05:45,165: Qubit 1 adicionado à memória do Host 1.\n",
      "2024-09-05 11:05:45,165: Qubit 2 adicionado à memória do Host 2.\n"
     ]
    }
   ],
   "source": [
    "h1 = Qubit(1)\n",
    "h2 = Qubit(2)\n",
    "\n",
    "alice.add_qubit(h1)\n",
    "bob.add_qubit(h2)"
   ]
  },
  {
   "cell_type": "markdown",
   "metadata": {},
   "source": [
    "##### Acessando a memória dos Hosts."
   ]
  },
  {
   "cell_type": "code",
   "execution_count": 5,
   "metadata": {},
   "outputs": [
    {
     "name": "stdout",
     "output_type": "stream",
     "text": [
      "[<quantumnet.objects.qubit.Qubit object at 0x0000024EDE4560D0>, <quantumnet.objects.qubit.Qubit object at 0x0000024EDE4561D0>, <quantumnet.objects.qubit.Qubit object at 0x0000024EDE456D10>, <quantumnet.objects.qubit.Qubit object at 0x0000024EDE457110>, <quantumnet.objects.qubit.Qubit object at 0x0000024EDD961010>, <quantumnet.objects.qubit.Qubit object at 0x0000024EDE456C10>, <quantumnet.objects.qubit.Qubit object at 0x0000024EDE457E10>, <quantumnet.objects.qubit.Qubit object at 0x0000024EDD942CD0>, <quantumnet.objects.qubit.Qubit object at 0x0000024EDE458DD0>, <quantumnet.objects.qubit.Qubit object at 0x0000024EDE4573D0>, <quantumnet.objects.qubit.Qubit object at 0x0000024EED55FDD0>]\n",
      "[<quantumnet.objects.qubit.Qubit object at 0x0000024EDD943010>, <quantumnet.objects.qubit.Qubit object at 0x0000024EDE45A1D0>, <quantumnet.objects.qubit.Qubit object at 0x0000024EDE459890>, <quantumnet.objects.qubit.Qubit object at 0x0000024EDE4596D0>, <quantumnet.objects.qubit.Qubit object at 0x0000024EDE45AD50>, <quantumnet.objects.qubit.Qubit object at 0x0000024EDE45B410>, <quantumnet.objects.qubit.Qubit object at 0x0000024EDE45B110>, <quantumnet.objects.qubit.Qubit object at 0x0000024EDE458750>, <quantumnet.objects.qubit.Qubit object at 0x0000024EDE45BC90>, <quantumnet.objects.qubit.Qubit object at 0x0000024EDE45AE10>, <quantumnet.objects.qubit.Qubit object at 0x0000024EEE82C4D0>]\n"
     ]
    }
   ],
   "source": [
    "print(alice.memory)\n",
    "print(bob.memory)"
   ]
  },
  {
   "cell_type": "markdown",
   "metadata": {},
   "source": [
    "##### Obtendo o útimo qubit de um dos hosts"
   ]
  },
  {
   "cell_type": "code",
   "execution_count": 6,
   "metadata": {},
   "outputs": [],
   "source": [
    "qub1 = alice.get_last_qubit()\n"
   ]
  },
  {
   "cell_type": "markdown",
   "metadata": {},
   "source": [
    "##### Medindo a fidelidade entre dois qubits\n"
   ]
  },
  {
   "cell_type": "code",
   "execution_count": 7,
   "metadata": {},
   "outputs": [
    {
     "name": "stderr",
     "output_type": "stream",
     "text": [
      "2024-09-05 11:05:45,190: A fidelidade entre o qubit Qubit 1 with state 0 e o qubit Qubit 2 with state 0 é 0.489968615053279\n"
     ]
    },
    {
     "data": {
      "text/plain": [
       "0.489968615053279"
      ]
     },
     "execution_count": 7,
     "metadata": {},
     "output_type": "execute_result"
    }
   ],
   "source": [
    "#Pode medir a fidelidade por meio dessa função\n",
    "rede.physical.fidelity_measurement(h1,h2)"
   ]
  },
  {
   "cell_type": "markdown",
   "metadata": {},
   "source": [
    "##### Medindo a fidelidade de um qubit\n"
   ]
  },
  {
   "cell_type": "code",
   "execution_count": 8,
   "metadata": {},
   "outputs": [
    {
     "name": "stderr",
     "output_type": "stream",
     "text": [
      "2024-09-05 11:05:45,204: A fidelidade do qubit Qubit 1 with state 0 é 0.6515594928031153\n"
     ]
    },
    {
     "data": {
      "text/plain": [
       "0.6515594928031153"
      ]
     },
     "execution_count": 8,
     "metadata": {},
     "output_type": "execute_result"
    }
   ],
   "source": [
    "#Pode se medir a fidelidade e acessar de somente um host\n",
    "rede.physical.fidelity_measurement_only_one(h1)"
   ]
  },
  {
   "cell_type": "markdown",
   "metadata": {},
   "source": [
    "##### Criação do protocolo de entrelaçamento entre dois qubits"
   ]
  },
  {
   "cell_type": "code",
   "execution_count": 9,
   "metadata": {},
   "outputs": [
    {
     "name": "stderr",
     "output_type": "stream",
     "text": [
      "2024-09-05 11:05:45,219: Timeslot 1: Par epr criado com fidelidade 0.16613322046360854\n",
      "2024-09-05 11:05:45,219: Timeslot 2: O protocolo de criação de emaranhamento foi bem sucedido, mas com fidelidade baixa.\n"
     ]
    },
    {
     "data": {
      "text/plain": [
       "False"
      ]
     },
     "execution_count": 9,
     "metadata": {},
     "output_type": "execute_result"
    }
   ],
   "source": [
    "rede.physical.entanglement_creation_heralding_protocol(alice,bob)"
   ]
  },
  {
   "cell_type": "markdown",
   "metadata": {},
   "source": [
    "##### Realiza-se o primeiro protocolo, on demand, que através da fidelidade inicial e da probabilidade de sucesso do on demand determina o sucesso do ECHP"
   ]
  },
  {
   "cell_type": "code",
   "execution_count": 10,
   "metadata": {},
   "outputs": [
    {
     "name": "stderr",
     "output_type": "stream",
     "text": [
      "2024-09-05 11:05:45,231: A fidelidade do qubit Qubit 29 with state 0 é 0.6893711726748502\n",
      "2024-09-05 11:05:45,231: A fidelidade do qubit Qubit 59 with state 0 é 0.8231710489588067\n",
      "2024-09-05 11:05:45,231: Timeslot 3: A probabilidade de sucesso do ECHP falhou.\n"
     ]
    },
    {
     "data": {
      "text/plain": [
       "False"
      ]
     },
     "execution_count": 10,
     "metadata": {},
     "output_type": "execute_result"
    }
   ],
   "source": [
    "rede.physical.echp_on_demand(2,5)"
   ]
  },
  {
   "cell_type": "markdown",
   "metadata": {},
   "source": [
    "##### Realiza-se, então, o segundo protocolo, on replay, que através da fidelidade inicial e da probabilidade de sucesso do on replay determina o sucesso do ECHP"
   ]
  },
  {
   "cell_type": "code",
   "execution_count": 11,
   "metadata": {},
   "outputs": [
    {
     "name": "stderr",
     "output_type": "stream",
     "text": [
      "2024-09-05 11:05:45,247: A fidelidade do qubit Qubit 28 with state 0 é 0.11215448209078394\n",
      "2024-09-05 11:05:45,249: A fidelidade do qubit Qubit 58 with state 0 é 0.6960471494062431\n",
      "2024-09-05 11:05:45,249: Timeslot 4: A probabilidade de sucesso do ECHP falhou.\n"
     ]
    },
    {
     "data": {
      "text/plain": [
       "False"
      ]
     },
     "execution_count": 11,
     "metadata": {},
     "output_type": "execute_result"
    }
   ],
   "source": [
    "rede.physical.echp_on_replay(2,5)"
   ]
  },
  {
   "cell_type": "code",
   "execution_count": 12,
   "metadata": {},
   "outputs": [
    {
     "name": "stderr",
     "output_type": "stream",
     "text": [
      "2024-09-05 11:05:45,269: Eprs usados na camada PhysicalLayer: 1\n",
      "2024-09-05 11:05:45,269: Eprs usados na camada LinkLayer: 0\n",
      "2024-09-05 11:05:45,271: Eprs usados na camada NetworkLayer: 0\n"
     ]
    },
    {
     "data": {
      "text/plain": [
       "1"
      ]
     },
     "execution_count": 12,
     "metadata": {},
     "output_type": "execute_result"
    }
   ],
   "source": [
    "rede.get_total_useds_eprs()"
   ]
  },
  {
   "cell_type": "code",
   "execution_count": 13,
   "metadata": {},
   "outputs": [
    {
     "name": "stderr",
     "output_type": "stream",
     "text": [
      "2024-09-05 11:05:45,324: Qubits usados na camada PhysicalLayer: 6\n"
     ]
    },
    {
     "data": {
      "text/plain": [
       "6"
      ]
     },
     "execution_count": 13,
     "metadata": {},
     "output_type": "execute_result"
    }
   ],
   "source": [
    "rede.get_total_useds_qubits()"
   ]
  },
  {
   "cell_type": "markdown",
   "metadata": {},
   "source": [
    "##### Acessando o canal que mostra as probablidades e os pares eprs\n"
   ]
  },
  {
   "cell_type": "code",
   "execution_count": 14,
   "metadata": {},
   "outputs": [
    {
     "data": {
      "text/plain": [
       "{'prob_on_demand_epr_create': 0.4706873986587901,\n",
       " 'prob_replay_epr_create': 0.5828743785396703,\n",
       " 'eprs': [<quantumnet.objects.epr.Epr at 0x24ede45f510>,\n",
       "  <quantumnet.objects.epr.Epr at 0x24edd940610>,\n",
       "  <quantumnet.objects.epr.Epr at 0x24edd914a50>,\n",
       "  <quantumnet.objects.epr.Epr at 0x24ede462090>,\n",
       "  <quantumnet.objects.epr.Epr at 0x24ede46b3d0>,\n",
       "  <quantumnet.objects.epr.Epr at 0x24ede462890>,\n",
       "  <quantumnet.objects.epr.Epr at 0x24ede46b610>,\n",
       "  <quantumnet.objects.epr.Epr at 0x24ede468890>,\n",
       "  <quantumnet.objects.epr.Epr at 0x24ede46b090>,\n",
       "  <quantumnet.objects.epr.Epr at 0x24ede469bd0>]}"
      ]
     },
     "execution_count": 14,
     "metadata": {},
     "output_type": "execute_result"
    }
   ],
   "source": [
    "rede.edges[2,5]"
   ]
  },
  {
   "cell_type": "markdown",
   "metadata": {},
   "source": [
    "##### Acessando o dicionario que contém os pares eprs alocados\n"
   ]
  },
  {
   "cell_type": "code",
   "execution_count": 15,
   "metadata": {},
   "outputs": [
    {
     "data": {
      "text/plain": [
       "{(0, 3): [<quantumnet.objects.epr.Epr at 0x24ede474310>,\n",
       "  <quantumnet.objects.epr.Epr at 0x24ede468a90>,\n",
       "  <quantumnet.objects.epr.Epr at 0x24ede46bd50>,\n",
       "  <quantumnet.objects.epr.Epr at 0x24ede45ca10>,\n",
       "  <quantumnet.objects.epr.Epr at 0x24ede45cb10>,\n",
       "  <quantumnet.objects.epr.Epr at 0x24ede46fed0>,\n",
       "  <quantumnet.objects.epr.Epr at 0x24ede46c5d0>,\n",
       "  <quantumnet.objects.epr.Epr at 0x24ede46fcd0>,\n",
       "  <quantumnet.objects.epr.Epr at 0x24ede46d110>,\n",
       "  <quantumnet.objects.epr.Epr at 0x24ede46ca90>],\n",
       " (0, 1): [<quantumnet.objects.epr.Epr at 0x24ede45f590>,\n",
       "  <quantumnet.objects.epr.Epr at 0x24ede456a10>,\n",
       "  <quantumnet.objects.epr.Epr at 0x24ede45d690>,\n",
       "  <quantumnet.objects.epr.Epr at 0x24ede45ec10>,\n",
       "  <quantumnet.objects.epr.Epr at 0x24ede45da10>,\n",
       "  <quantumnet.objects.epr.Epr at 0x24ede45d350>,\n",
       "  <quantumnet.objects.epr.Epr at 0x24ede46e210>,\n",
       "  <quantumnet.objects.epr.Epr at 0x24ede45e690>,\n",
       "  <quantumnet.objects.epr.Epr at 0x24ede45e190>,\n",
       "  <quantumnet.objects.epr.Epr at 0x24ede45e750>],\n",
       " (1, 4): [<quantumnet.objects.epr.Epr at 0x24ede46e650>,\n",
       "  <quantumnet.objects.epr.Epr at 0x24ede455310>,\n",
       "  <quantumnet.objects.epr.Epr at 0x24ede436190>,\n",
       "  <quantumnet.objects.epr.Epr at 0x24edd93db10>,\n",
       "  <quantumnet.objects.epr.Epr at 0x24edd90f410>,\n",
       "  <quantumnet.objects.epr.Epr at 0x24ede468ad0>,\n",
       "  <quantumnet.objects.epr.Epr at 0x24ede462bd0>,\n",
       "  <quantumnet.objects.epr.Epr at 0x24ede460c10>,\n",
       "  <quantumnet.objects.epr.Epr at 0x24ede45f910>,\n",
       "  <quantumnet.objects.epr.Epr at 0x24ede468810>],\n",
       " (1, 2): [<quantumnet.objects.epr.Epr at 0x24ede46f510>,\n",
       "  <quantumnet.objects.epr.Epr at 0x24edd93de10>,\n",
       "  <quantumnet.objects.epr.Epr at 0x24ede459e50>,\n",
       "  <quantumnet.objects.epr.Epr at 0x24ede459b10>,\n",
       "  <quantumnet.objects.epr.Epr at 0x24ede46edd0>,\n",
       "  <quantumnet.objects.epr.Epr at 0x24ede45a0d0>,\n",
       "  <quantumnet.objects.epr.Epr at 0x24ede459810>,\n",
       "  <quantumnet.objects.epr.Epr at 0x24ede46c2d0>,\n",
       "  <quantumnet.objects.epr.Epr at 0x24ede456490>,\n",
       "  <quantumnet.objects.epr.Epr at 0x24ede458e90>],\n",
       " (2, 5): [<quantumnet.objects.epr.Epr at 0x24ede45f510>,\n",
       "  <quantumnet.objects.epr.Epr at 0x24edd940610>,\n",
       "  <quantumnet.objects.epr.Epr at 0x24edd914a50>,\n",
       "  <quantumnet.objects.epr.Epr at 0x24ede462090>,\n",
       "  <quantumnet.objects.epr.Epr at 0x24ede46b3d0>,\n",
       "  <quantumnet.objects.epr.Epr at 0x24ede462890>,\n",
       "  <quantumnet.objects.epr.Epr at 0x24ede46b610>,\n",
       "  <quantumnet.objects.epr.Epr at 0x24ede468890>,\n",
       "  <quantumnet.objects.epr.Epr at 0x24ede46b090>,\n",
       "  <quantumnet.objects.epr.Epr at 0x24ede469bd0>],\n",
       " (3, 6): [<quantumnet.objects.epr.Epr at 0x24ede45bf10>,\n",
       "  <quantumnet.objects.epr.Epr at 0x24ede458d50>,\n",
       "  <quantumnet.objects.epr.Epr at 0x24edddfe250>,\n",
       "  <quantumnet.objects.epr.Epr at 0x24ede456990>,\n",
       "  <quantumnet.objects.epr.Epr at 0x24ede455650>,\n",
       "  <quantumnet.objects.epr.Epr at 0x24ede46f2d0>,\n",
       "  <quantumnet.objects.epr.Epr at 0x24ede46f490>,\n",
       "  <quantumnet.objects.epr.Epr at 0x24ede46ff10>,\n",
       "  <quantumnet.objects.epr.Epr at 0x24ede46db90>,\n",
       "  <quantumnet.objects.epr.Epr at 0x24ede455bd0>],\n",
       " (3, 4): [<quantumnet.objects.epr.Epr at 0x24ede455e10>,\n",
       "  <quantumnet.objects.epr.Epr at 0x24ede454f90>,\n",
       "  <quantumnet.objects.epr.Epr at 0x24ede45d390>,\n",
       "  <quantumnet.objects.epr.Epr at 0x24ede45e3d0>,\n",
       "  <quantumnet.objects.epr.Epr at 0x24ede46cb50>,\n",
       "  <quantumnet.objects.epr.Epr at 0x24ede45ef50>,\n",
       "  <quantumnet.objects.epr.Epr at 0x24ede45e650>,\n",
       "  <quantumnet.objects.epr.Epr at 0x24ede45ce10>,\n",
       "  <quantumnet.objects.epr.Epr at 0x24ede477fd0>,\n",
       "  <quantumnet.objects.epr.Epr at 0x24ede477f50>],\n",
       " (4, 7): [<quantumnet.objects.epr.Epr at 0x24ede45b310>,\n",
       "  <quantumnet.objects.epr.Epr at 0x24ede46cdd0>,\n",
       "  <quantumnet.objects.epr.Epr at 0x24ede46ce10>,\n",
       "  <quantumnet.objects.epr.Epr at 0x24ede45f1d0>,\n",
       "  <quantumnet.objects.epr.Epr at 0x24ede45d950>,\n",
       "  <quantumnet.objects.epr.Epr at 0x24ede460590>,\n",
       "  <quantumnet.objects.epr.Epr at 0x24ede46bf10>,\n",
       "  <quantumnet.objects.epr.Epr at 0x24ede468a50>,\n",
       "  <quantumnet.objects.epr.Epr at 0x24edd941610>,\n",
       "  <quantumnet.objects.epr.Epr at 0x24ede455dd0>],\n",
       " (4, 5): [<quantumnet.objects.epr.Epr at 0x24ede474910>,\n",
       "  <quantumnet.objects.epr.Epr at 0x24ede477090>,\n",
       "  <quantumnet.objects.epr.Epr at 0x24ede457f10>,\n",
       "  <quantumnet.objects.epr.Epr at 0x24ede457ad0>,\n",
       "  <quantumnet.objects.epr.Epr at 0x24ede457c50>,\n",
       "  <quantumnet.objects.epr.Epr at 0x24ede458350>,\n",
       "  <quantumnet.objects.epr.Epr at 0x24ede468250>,\n",
       "  <quantumnet.objects.epr.Epr at 0x24ede45a090>,\n",
       "  <quantumnet.objects.epr.Epr at 0x24ede463810>,\n",
       "  <quantumnet.objects.epr.Epr at 0x24ede459910>],\n",
       " (5, 8): [<quantumnet.objects.epr.Epr at 0x24ede46be50>,\n",
       "  <quantumnet.objects.epr.Epr at 0x24edde0cb10>,\n",
       "  <quantumnet.objects.epr.Epr at 0x24edd940290>,\n",
       "  <quantumnet.objects.epr.Epr at 0x24ede458910>,\n",
       "  <quantumnet.objects.epr.Epr at 0x24ede459d90>,\n",
       "  <quantumnet.objects.epr.Epr at 0x24ede45add0>,\n",
       "  <quantumnet.objects.epr.Epr at 0x24ede45a550>,\n",
       "  <quantumnet.objects.epr.Epr at 0x24ede45f390>,\n",
       "  <quantumnet.objects.epr.Epr at 0x24ede45a150>,\n",
       "  <quantumnet.objects.epr.Epr at 0x24ede469310>],\n",
       " (6, 7): [<quantumnet.objects.epr.Epr at 0x24ede45a5d0>,\n",
       "  <quantumnet.objects.epr.Epr at 0x24ede4595d0>,\n",
       "  <quantumnet.objects.epr.Epr at 0x24ede45a690>,\n",
       "  <quantumnet.objects.epr.Epr at 0x24ede458fd0>,\n",
       "  <quantumnet.objects.epr.Epr at 0x24ede4603d0>,\n",
       "  <quantumnet.objects.epr.Epr at 0x24ede469a50>,\n",
       "  <quantumnet.objects.epr.Epr at 0x24ede46afd0>,\n",
       "  <quantumnet.objects.epr.Epr at 0x24ede459cd0>,\n",
       "  <quantumnet.objects.epr.Epr at 0x24ede4592d0>,\n",
       "  <quantumnet.objects.epr.Epr at 0x24ede463a10>],\n",
       " (7, 8): [<quantumnet.objects.epr.Epr at 0x24ede46a890>,\n",
       "  <quantumnet.objects.epr.Epr at 0x24ede46a750>,\n",
       "  <quantumnet.objects.epr.Epr at 0x24ede4623d0>,\n",
       "  <quantumnet.objects.epr.Epr at 0x24ede459550>,\n",
       "  <quantumnet.objects.epr.Epr at 0x24ede4616d0>,\n",
       "  <quantumnet.objects.epr.Epr at 0x24ede462010>,\n",
       "  <quantumnet.objects.epr.Epr at 0x24ede46ae90>,\n",
       "  <quantumnet.objects.epr.Epr at 0x24ede462c10>,\n",
       "  <quantumnet.objects.epr.Epr at 0x24ede45b350>,\n",
       "  <quantumnet.objects.epr.Epr at 0x24ede462ad0>]}"
      ]
     },
     "execution_count": 15,
     "metadata": {},
     "output_type": "execute_result"
    }
   ],
   "source": [
    "rede.get_eprs()"
   ]
  },
  {
   "cell_type": "code",
   "execution_count": 16,
   "metadata": {},
   "outputs": [
    {
     "name": "stderr",
     "output_type": "stream",
     "text": [
      "2024-09-05 11:05:45,393: Timeslot atual na camada PhysicalLayer: 4\n",
      "2024-09-05 11:05:45,393: Timeslot atual na camada LinkLayer: 0\n",
      "2024-09-05 11:05:45,393: Timeslot atual na camada NetworkLayer: 0\n",
      "2024-09-05 11:05:45,393: Timeslot atual na camada TransportLayer: 0\n"
     ]
    },
    {
     "data": {
      "text/plain": [
       "4"
      ]
     },
     "execution_count": 16,
     "metadata": {},
     "output_type": "execute_result"
    }
   ],
   "source": [
    "rede.get_total_timeslot()"
   ]
  }
 ],
 "metadata": {
  "kernelspec": {
   "display_name": "Python 3",
   "language": "python",
   "name": "python3"
  },
  "language_info": {
   "codemirror_mode": {
    "name": "ipython",
    "version": 3
   },
   "file_extension": ".py",
   "mimetype": "text/x-python",
   "name": "python",
   "nbconvert_exporter": "python",
   "pygments_lexer": "ipython3",
   "version": "3.11.4"
  }
 },
 "nbformat": 4,
 "nbformat_minor": 2
}
