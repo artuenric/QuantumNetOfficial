{
 "cells": [
  {
   "cell_type": "markdown",
   "metadata": {},
   "source": [
    "# Guia da Camada de Transporte\n",
    "### IMPORTANDO AS DEPENDÊNCIAS\n",
    "##### O documento tem o objetivo de demostrar o funcionamento da camada de transporte, além de suas funções e ferramentas.\n"
   ]
  },
  {
   "cell_type": "code",
   "execution_count": 1,
   "metadata": {},
   "outputs": [],
   "source": [
    "from quantumnet.components import Network, Host\n",
    "from quantumnet.objects import Qubit, Logger\n",
    "Logger.activate(Logger)"
   ]
  },
  {
   "cell_type": "markdown",
   "metadata": {},
   "source": [
    "##### Instanciando a rede, e setando a topologia."
   ]
  },
  {
   "cell_type": "code",
   "execution_count": 2,
   "metadata": {},
   "outputs": [
    {
     "name": "stderr",
     "output_type": "stream",
     "text": [
      "2024-08-16 11:58:20,950: Qubit 0 adicionado à memória do Host 0.\n",
      "2024-08-16 11:58:20,951: Qubit 0 criado com fidelidade inicial 0.3699786760068696 e adicionado à memória do Host 0.\n",
      "2024-08-16 11:58:20,952: Qubit 1 adicionado à memória do Host 0.\n",
      "2024-08-16 11:58:20,952: Qubit 1 criado com fidelidade inicial 0.7932435773444613 e adicionado à memória do Host 0.\n",
      "2024-08-16 11:58:20,953: Qubit 2 adicionado à memória do Host 0.\n",
      "2024-08-16 11:58:20,954: Qubit 2 criado com fidelidade inicial 0.8010513219897764 e adicionado à memória do Host 0.\n",
      "2024-08-16 11:58:20,955: Qubit 3 adicionado à memória do Host 0.\n",
      "2024-08-16 11:58:20,957: Qubit 3 criado com fidelidade inicial 0.08774908576364515 e adicionado à memória do Host 0.\n",
      "2024-08-16 11:58:20,957: Qubit 4 adicionado à memória do Host 0.\n",
      "2024-08-16 11:58:20,958: Qubit 4 criado com fidelidade inicial 0.3482455423926457 e adicionado à memória do Host 0.\n",
      "2024-08-16 11:58:20,958: Qubit 5 adicionado à memória do Host 0.\n",
      "2024-08-16 11:58:20,959: Qubit 5 criado com fidelidade inicial 0.3737116775144683 e adicionado à memória do Host 0.\n",
      "2024-08-16 11:58:20,959: Qubit 6 adicionado à memória do Host 0.\n",
      "2024-08-16 11:58:20,959: Qubit 6 criado com fidelidade inicial 0.8133333763284593 e adicionado à memória do Host 0.\n",
      "2024-08-16 11:58:20,960: Qubit 7 adicionado à memória do Host 0.\n",
      "2024-08-16 11:58:20,961: Qubit 7 criado com fidelidade inicial 0.2837653193454387 e adicionado à memória do Host 0.\n",
      "2024-08-16 11:58:20,962: Qubit 8 adicionado à memória do Host 0.\n",
      "2024-08-16 11:58:20,962: Qubit 8 criado com fidelidade inicial 0.6689845576062763 e adicionado à memória do Host 0.\n",
      "2024-08-16 11:58:20,963: Qubit 9 adicionado à memória do Host 0.\n",
      "2024-08-16 11:58:20,963: Qubit 9 criado com fidelidade inicial 0.9800923702972216 e adicionado à memória do Host 0.\n",
      "2024-08-16 11:58:20,964: Qubit 10 adicionado à memória do Host 1.\n",
      "2024-08-16 11:58:20,964: Qubit 10 criado com fidelidade inicial 0.7834103953549273 e adicionado à memória do Host 1.\n",
      "2024-08-16 11:58:20,964: Qubit 11 adicionado à memória do Host 1.\n",
      "2024-08-16 11:58:20,965: Qubit 11 criado com fidelidade inicial 0.9298213446375156 e adicionado à memória do Host 1.\n",
      "2024-08-16 11:58:20,965: Qubit 12 adicionado à memória do Host 1.\n",
      "2024-08-16 11:58:20,966: Qubit 12 criado com fidelidade inicial 0.38537557163469127 e adicionado à memória do Host 1.\n",
      "2024-08-16 11:58:20,966: Qubit 13 adicionado à memória do Host 1.\n",
      "2024-08-16 11:58:20,967: Qubit 13 criado com fidelidade inicial 0.09518817214356357 e adicionado à memória do Host 1.\n",
      "2024-08-16 11:58:20,968: Qubit 14 adicionado à memória do Host 1.\n",
      "2024-08-16 11:58:20,969: Qubit 14 criado com fidelidade inicial 0.11789579198637479 e adicionado à memória do Host 1.\n",
      "2024-08-16 11:58:20,969: Qubit 15 adicionado à memória do Host 1.\n",
      "2024-08-16 11:58:20,970: Qubit 15 criado com fidelidade inicial 0.9652792106019044 e adicionado à memória do Host 1.\n",
      "2024-08-16 11:58:20,971: Qubit 16 adicionado à memória do Host 1.\n",
      "2024-08-16 11:58:20,971: Qubit 16 criado com fidelidade inicial 0.09824735336692147 e adicionado à memória do Host 1.\n",
      "2024-08-16 11:58:20,972: Qubit 17 adicionado à memória do Host 1.\n",
      "2024-08-16 11:58:20,973: Qubit 17 criado com fidelidade inicial 0.5447698219581079 e adicionado à memória do Host 1.\n",
      "2024-08-16 11:58:20,974: Qubit 18 adicionado à memória do Host 1.\n",
      "2024-08-16 11:58:20,974: Qubit 18 criado com fidelidade inicial 0.6131968633962571 e adicionado à memória do Host 1.\n",
      "2024-08-16 11:58:20,975: Qubit 19 adicionado à memória do Host 1.\n",
      "2024-08-16 11:58:20,976: Qubit 19 criado com fidelidade inicial 0.7549028362755069 e adicionado à memória do Host 1.\n",
      "2024-08-16 11:58:20,976: Qubit 20 adicionado à memória do Host 2.\n",
      "2024-08-16 11:58:20,977: Qubit 20 criado com fidelidade inicial 0.8745422603217864 e adicionado à memória do Host 2.\n",
      "2024-08-16 11:58:20,977: Qubit 21 adicionado à memória do Host 2.\n",
      "2024-08-16 11:58:20,977: Qubit 21 criado com fidelidade inicial 0.3377810032629994 e adicionado à memória do Host 2.\n",
      "2024-08-16 11:58:20,978: Qubit 22 adicionado à memória do Host 2.\n",
      "2024-08-16 11:58:20,978: Qubit 22 criado com fidelidade inicial 0.3614681692742949 e adicionado à memória do Host 2.\n",
      "2024-08-16 11:58:20,979: Qubit 23 adicionado à memória do Host 2.\n",
      "2024-08-16 11:58:20,980: Qubit 23 criado com fidelidade inicial 0.37742831329188453 e adicionado à memória do Host 2.\n",
      "2024-08-16 11:58:20,980: Qubit 24 adicionado à memória do Host 2.\n",
      "2024-08-16 11:58:20,980: Qubit 24 criado com fidelidade inicial 0.9560771150515294 e adicionado à memória do Host 2.\n",
      "2024-08-16 11:58:20,981: Qubit 25 adicionado à memória do Host 2.\n",
      "2024-08-16 11:58:20,981: Qubit 25 criado com fidelidade inicial 0.863219153395367 e adicionado à memória do Host 2.\n",
      "2024-08-16 11:58:20,982: Qubit 26 adicionado à memória do Host 2.\n",
      "2024-08-16 11:58:20,982: Qubit 26 criado com fidelidade inicial 0.1866014062203324 e adicionado à memória do Host 2.\n",
      "2024-08-16 11:58:20,983: Qubit 27 adicionado à memória do Host 2.\n",
      "2024-08-16 11:58:20,983: Qubit 27 criado com fidelidade inicial 0.10293444493034609 e adicionado à memória do Host 2.\n",
      "2024-08-16 11:58:20,984: Qubit 28 adicionado à memória do Host 2.\n",
      "2024-08-16 11:58:20,984: Qubit 28 criado com fidelidade inicial 0.15221672916882123 e adicionado à memória do Host 2.\n",
      "2024-08-16 11:58:20,985: Qubit 29 adicionado à memória do Host 2.\n",
      "2024-08-16 11:58:20,986: Qubit 29 criado com fidelidade inicial 0.5318289008506728 e adicionado à memória do Host 2.\n",
      "2024-08-16 11:58:20,987: Qubit 30 adicionado à memória do Host 3.\n",
      "2024-08-16 11:58:20,987: Qubit 30 criado com fidelidade inicial 0.8147141885900131 e adicionado à memória do Host 3.\n",
      "2024-08-16 11:58:20,988: Qubit 31 adicionado à memória do Host 3.\n",
      "2024-08-16 11:58:20,988: Qubit 31 criado com fidelidade inicial 0.7299424224559455 e adicionado à memória do Host 3.\n",
      "2024-08-16 11:58:20,989: Qubit 32 adicionado à memória do Host 3.\n",
      "2024-08-16 11:58:20,989: Qubit 32 criado com fidelidade inicial 0.18405918193857151 e adicionado à memória do Host 3.\n",
      "2024-08-16 11:58:20,990: Qubit 33 adicionado à memória do Host 3.\n",
      "2024-08-16 11:58:20,990: Qubit 33 criado com fidelidade inicial 0.3399125600856644 e adicionado à memória do Host 3.\n",
      "2024-08-16 11:58:20,991: Qubit 34 adicionado à memória do Host 3.\n",
      "2024-08-16 11:58:20,992: Qubit 34 criado com fidelidade inicial 0.8461078785327026 e adicionado à memória do Host 3.\n",
      "2024-08-16 11:58:20,992: Qubit 35 adicionado à memória do Host 3.\n",
      "2024-08-16 11:58:20,993: Qubit 35 criado com fidelidade inicial 0.5295103185713516 e adicionado à memória do Host 3.\n",
      "2024-08-16 11:58:20,993: Qubit 36 adicionado à memória do Host 3.\n",
      "2024-08-16 11:58:20,994: Qubit 36 criado com fidelidade inicial 0.08251198582281005 e adicionado à memória do Host 3.\n",
      "2024-08-16 11:58:20,995: Qubit 37 adicionado à memória do Host 3.\n",
      "2024-08-16 11:58:20,995: Qubit 37 criado com fidelidade inicial 0.21569563840746275 e adicionado à memória do Host 3.\n",
      "2024-08-16 11:58:20,996: Qubit 38 adicionado à memória do Host 3.\n",
      "2024-08-16 11:58:20,996: Qubit 38 criado com fidelidade inicial 0.7205713710331624 e adicionado à memória do Host 3.\n",
      "2024-08-16 11:58:20,997: Qubit 39 adicionado à memória do Host 3.\n",
      "2024-08-16 11:58:20,998: Qubit 39 criado com fidelidade inicial 0.7772040849712539 e adicionado à memória do Host 3.\n",
      "2024-08-16 11:58:20,999: Qubit 40 adicionado à memória do Host 4.\n",
      "2024-08-16 11:58:20,999: Qubit 40 criado com fidelidade inicial 0.41845171421098903 e adicionado à memória do Host 4.\n",
      "2024-08-16 11:58:21,000: Qubit 41 adicionado à memória do Host 4.\n",
      "2024-08-16 11:58:21,000: Qubit 41 criado com fidelidade inicial 0.8424281156615921 e adicionado à memória do Host 4.\n",
      "2024-08-16 11:58:21,001: Qubit 42 adicionado à memória do Host 4.\n",
      "2024-08-16 11:58:21,002: Qubit 42 criado com fidelidade inicial 0.1550865782451244 e adicionado à memória do Host 4.\n",
      "2024-08-16 11:58:21,002: Qubit 43 adicionado à memória do Host 4.\n",
      "2024-08-16 11:58:21,003: Qubit 43 criado com fidelidade inicial 0.7476411114387679 e adicionado à memória do Host 4.\n",
      "2024-08-16 11:58:21,003: Qubit 44 adicionado à memória do Host 4.\n",
      "2024-08-16 11:58:21,004: Qubit 44 criado com fidelidade inicial 0.5328381551618112 e adicionado à memória do Host 4.\n",
      "2024-08-16 11:58:21,005: Qubit 45 adicionado à memória do Host 4.\n",
      "2024-08-16 11:58:21,006: Qubit 45 criado com fidelidade inicial 0.048000562810443625 e adicionado à memória do Host 4.\n",
      "2024-08-16 11:58:21,006: Qubit 46 adicionado à memória do Host 4.\n",
      "2024-08-16 11:58:21,006: Qubit 46 criado com fidelidade inicial 0.43615137759148104 e adicionado à memória do Host 4.\n",
      "2024-08-16 11:58:21,007: Qubit 47 adicionado à memória do Host 4.\n",
      "2024-08-16 11:58:21,007: Qubit 47 criado com fidelidade inicial 0.8526448484130132 e adicionado à memória do Host 4.\n",
      "2024-08-16 11:58:21,008: Qubit 48 adicionado à memória do Host 4.\n",
      "2024-08-16 11:58:21,009: Qubit 48 criado com fidelidade inicial 0.8968818535077544 e adicionado à memória do Host 4.\n",
      "2024-08-16 11:58:21,010: Qubit 49 adicionado à memória do Host 4.\n",
      "2024-08-16 11:58:21,011: Qubit 49 criado com fidelidade inicial 0.24907530462784377 e adicionado à memória do Host 4.\n",
      "2024-08-16 11:58:21,011: Qubit 50 adicionado à memória do Host 5.\n",
      "2024-08-16 11:58:21,012: Qubit 50 criado com fidelidade inicial 0.7749759321817912 e adicionado à memória do Host 5.\n",
      "2024-08-16 11:58:21,012: Qubit 51 adicionado à memória do Host 5.\n",
      "2024-08-16 11:58:21,013: Qubit 51 criado com fidelidade inicial 0.7348520433795441 e adicionado à memória do Host 5.\n",
      "2024-08-16 11:58:21,013: Qubit 52 adicionado à memória do Host 5.\n",
      "2024-08-16 11:58:21,014: Qubit 52 criado com fidelidade inicial 0.8671495369651536 e adicionado à memória do Host 5.\n",
      "2024-08-16 11:58:21,015: Qubit 53 adicionado à memória do Host 5.\n",
      "2024-08-16 11:58:21,016: Qubit 53 criado com fidelidade inicial 0.15852900825706728 e adicionado à memória do Host 5.\n",
      "2024-08-16 11:58:21,016: Qubit 54 adicionado à memória do Host 5.\n",
      "2024-08-16 11:58:21,017: Qubit 54 criado com fidelidade inicial 0.01255870406265469 e adicionado à memória do Host 5.\n",
      "2024-08-16 11:58:21,017: Qubit 55 adicionado à memória do Host 5.\n",
      "2024-08-16 11:58:21,018: Qubit 55 criado com fidelidade inicial 0.6936618453808251 e adicionado à memória do Host 5.\n",
      "2024-08-16 11:58:21,018: Qubit 56 adicionado à memória do Host 5.\n",
      "2024-08-16 11:58:21,019: Qubit 56 criado com fidelidade inicial 0.40814801244030474 e adicionado à memória do Host 5.\n",
      "2024-08-16 11:58:21,019: Qubit 57 adicionado à memória do Host 5.\n",
      "2024-08-16 11:58:21,020: Qubit 57 criado com fidelidade inicial 0.06673617326784953 e adicionado à memória do Host 5.\n",
      "2024-08-16 11:58:21,021: Qubit 58 adicionado à memória do Host 5.\n",
      "2024-08-16 11:58:21,022: Qubit 58 criado com fidelidade inicial 0.6847391193318049 e adicionado à memória do Host 5.\n",
      "2024-08-16 11:58:21,022: Qubit 59 adicionado à memória do Host 5.\n",
      "2024-08-16 11:58:21,023: Qubit 59 criado com fidelidade inicial 0.6795542812375128 e adicionado à memória do Host 5.\n",
      "2024-08-16 11:58:21,023: Qubit 60 adicionado à memória do Host 6.\n",
      "2024-08-16 11:58:21,024: Qubit 60 criado com fidelidade inicial 0.13309019890738916 e adicionado à memória do Host 6.\n",
      "2024-08-16 11:58:21,024: Qubit 61 adicionado à memória do Host 6.\n",
      "2024-08-16 11:58:21,025: Qubit 61 criado com fidelidade inicial 0.525525989693226 e adicionado à memória do Host 6.\n",
      "2024-08-16 11:58:21,025: Qubit 62 adicionado à memória do Host 6.\n",
      "2024-08-16 11:58:21,026: Qubit 62 criado com fidelidade inicial 0.02103231181124665 e adicionado à memória do Host 6.\n",
      "2024-08-16 11:58:21,027: Qubit 63 adicionado à memória do Host 6.\n",
      "2024-08-16 11:58:21,028: Qubit 63 criado com fidelidade inicial 0.2309272675622852 e adicionado à memória do Host 6.\n",
      "2024-08-16 11:58:21,028: Qubit 64 adicionado à memória do Host 6.\n",
      "2024-08-16 11:58:21,029: Qubit 64 criado com fidelidade inicial 0.15134540723471834 e adicionado à memória do Host 6.\n",
      "2024-08-16 11:58:21,029: Qubit 65 adicionado à memória do Host 6.\n",
      "2024-08-16 11:58:21,030: Qubit 65 criado com fidelidade inicial 0.9692520552318509 e adicionado à memória do Host 6.\n",
      "2024-08-16 11:58:21,030: Qubit 66 adicionado à memória do Host 6.\n",
      "2024-08-16 11:58:21,031: Qubit 66 criado com fidelidade inicial 0.7344544598255037 e adicionado à memória do Host 6.\n",
      "2024-08-16 11:58:21,031: Qubit 67 adicionado à memória do Host 6.\n",
      "2024-08-16 11:58:21,032: Qubit 67 criado com fidelidade inicial 0.7874341858193258 e adicionado à memória do Host 6.\n",
      "2024-08-16 11:58:21,033: Qubit 68 adicionado à memória do Host 6.\n",
      "2024-08-16 11:58:21,033: Qubit 68 criado com fidelidade inicial 0.6947059059191294 e adicionado à memória do Host 6.\n",
      "2024-08-16 11:58:21,034: Qubit 69 adicionado à memória do Host 6.\n",
      "2024-08-16 11:58:21,035: Qubit 69 criado com fidelidade inicial 0.7107903766087469 e adicionado à memória do Host 6.\n",
      "2024-08-16 11:58:21,035: Qubit 70 adicionado à memória do Host 7.\n",
      "2024-08-16 11:58:21,036: Qubit 70 criado com fidelidade inicial 0.6844890785582705 e adicionado à memória do Host 7.\n",
      "2024-08-16 11:58:21,036: Qubit 71 adicionado à memória do Host 7.\n",
      "2024-08-16 11:58:21,037: Qubit 71 criado com fidelidade inicial 0.8373721626469306 e adicionado à memória do Host 7.\n",
      "2024-08-16 11:58:21,037: Qubit 72 adicionado à memória do Host 7.\n",
      "2024-08-16 11:58:21,038: Qubit 72 criado com fidelidade inicial 0.17658707931457862 e adicionado à memória do Host 7.\n",
      "2024-08-16 11:58:21,039: Qubit 73 adicionado à memória do Host 7.\n",
      "2024-08-16 11:58:21,039: Qubit 73 criado com fidelidade inicial 0.9381245953041455 e adicionado à memória do Host 7.\n",
      "2024-08-16 11:58:21,040: Qubit 74 adicionado à memória do Host 7.\n",
      "2024-08-16 11:58:21,040: Qubit 74 criado com fidelidade inicial 0.6622135592583073 e adicionado à memória do Host 7.\n",
      "2024-08-16 11:58:21,041: Qubit 75 adicionado à memória do Host 7.\n",
      "2024-08-16 11:58:21,041: Qubit 75 criado com fidelidade inicial 0.7311697030209352 e adicionado à memória do Host 7.\n",
      "2024-08-16 11:58:21,042: Qubit 76 adicionado à memória do Host 7.\n",
      "2024-08-16 11:58:21,043: Qubit 76 criado com fidelidade inicial 0.37428840522611495 e adicionado à memória do Host 7.\n",
      "2024-08-16 11:58:21,043: Qubit 77 adicionado à memória do Host 7.\n",
      "2024-08-16 11:58:21,044: Qubit 77 criado com fidelidade inicial 0.9462690213629471 e adicionado à memória do Host 7.\n",
      "2024-08-16 11:58:21,045: Qubit 78 adicionado à memória do Host 7.\n",
      "2024-08-16 11:58:21,045: Qubit 78 criado com fidelidade inicial 0.7383048254117288 e adicionado à memória do Host 7.\n",
      "2024-08-16 11:58:21,046: Qubit 79 adicionado à memória do Host 7.\n",
      "2024-08-16 11:58:21,047: Qubit 79 criado com fidelidade inicial 0.20758713414390328 e adicionado à memória do Host 7.\n",
      "2024-08-16 11:58:21,047: Qubit 80 adicionado à memória do Host 8.\n",
      "2024-08-16 11:58:21,047: Qubit 80 criado com fidelidade inicial 0.9524132267883172 e adicionado à memória do Host 8.\n",
      "2024-08-16 11:58:21,048: Qubit 81 adicionado à memória do Host 8.\n",
      "2024-08-16 11:58:21,048: Qubit 81 criado com fidelidade inicial 0.058214331231299266 e adicionado à memória do Host 8.\n",
      "2024-08-16 11:58:21,049: Qubit 82 adicionado à memória do Host 8.\n",
      "2024-08-16 11:58:21,049: Qubit 82 criado com fidelidade inicial 0.29722793130003555 e adicionado à memória do Host 8.\n",
      "2024-08-16 11:58:21,050: Qubit 83 adicionado à memória do Host 8.\n",
      "2024-08-16 11:58:21,050: Qubit 83 criado com fidelidade inicial 0.026352248596619998 e adicionado à memória do Host 8.\n",
      "2024-08-16 11:58:21,051: Qubit 84 adicionado à memória do Host 8.\n",
      "2024-08-16 11:58:21,052: Qubit 84 criado com fidelidade inicial 0.9813217820789004 e adicionado à memória do Host 8.\n",
      "2024-08-16 11:58:21,053: Qubit 85 adicionado à memória do Host 8.\n",
      "2024-08-16 11:58:21,053: Qubit 85 criado com fidelidade inicial 0.2790883491552081 e adicionado à memória do Host 8.\n",
      "2024-08-16 11:58:21,054: Qubit 86 adicionado à memória do Host 8.\n",
      "2024-08-16 11:58:21,054: Qubit 86 criado com fidelidade inicial 0.8938331568998797 e adicionado à memória do Host 8.\n",
      "2024-08-16 11:58:21,055: Qubit 87 adicionado à memória do Host 8.\n",
      "2024-08-16 11:58:21,055: Qubit 87 criado com fidelidade inicial 0.28084424840951216 e adicionado à memória do Host 8.\n",
      "2024-08-16 11:58:21,056: Qubit 88 adicionado à memória do Host 8.\n",
      "2024-08-16 11:58:21,056: Qubit 88 criado com fidelidade inicial 0.6104612879438863 e adicionado à memória do Host 8.\n",
      "2024-08-16 11:58:21,056: Qubit 89 adicionado à memória do Host 8.\n",
      "2024-08-16 11:58:21,057: Qubit 89 criado com fidelidade inicial 0.40188781576697774 e adicionado à memória do Host 8.\n",
      "2024-08-16 11:58:21,058: Par EPR <quantumnet.objects.epr.Epr object at 0x0000021074D8F610> adicionado ao canal.\n",
      "2024-08-16 11:58:21,059: Par EPR <quantumnet.objects.epr.Epr object at 0x0000021074D84910> adicionado ao canal.\n",
      "2024-08-16 11:58:21,059: Par EPR <quantumnet.objects.epr.Epr object at 0x0000021074D8F690> adicionado ao canal.\n",
      "2024-08-16 11:58:21,060: Par EPR <quantumnet.objects.epr.Epr object at 0x0000021074D84C50> adicionado ao canal.\n",
      "2024-08-16 11:58:21,060: Par EPR <quantumnet.objects.epr.Epr object at 0x0000021074D8F6D0> adicionado ao canal.\n",
      "2024-08-16 11:58:21,061: Par EPR <quantumnet.objects.epr.Epr object at 0x0000021074D84190> adicionado ao canal.\n",
      "2024-08-16 11:58:21,061: Par EPR <quantumnet.objects.epr.Epr object at 0x0000021074D87810> adicionado ao canal.\n",
      "2024-08-16 11:58:21,062: Par EPR <quantumnet.objects.epr.Epr object at 0x0000021074D7FF10> adicionado ao canal.\n",
      "2024-08-16 11:58:21,062: Par EPR <quantumnet.objects.epr.Epr object at 0x0000021074D8F750> adicionado ao canal.\n",
      "2024-08-16 11:58:21,062: Par EPR <quantumnet.objects.epr.Epr object at 0x0000021074D87AD0> adicionado ao canal.\n",
      "2024-08-16 11:58:21,063: Par EPR <quantumnet.objects.epr.Epr object at 0x0000021074D8F710> adicionado ao canal.\n",
      "2024-08-16 11:58:21,065: Par EPR <quantumnet.objects.epr.Epr object at 0x0000021074D8C950> adicionado ao canal.\n",
      "2024-08-16 11:58:21,065: Par EPR <quantumnet.objects.epr.Epr object at 0x0000021074D8FD90> adicionado ao canal.\n",
      "2024-08-16 11:58:21,066: Par EPR <quantumnet.objects.epr.Epr object at 0x0000021074D8F790> adicionado ao canal.\n",
      "2024-08-16 11:58:21,067: Par EPR <quantumnet.objects.epr.Epr object at 0x000002107453E350> adicionado ao canal.\n",
      "2024-08-16 11:58:21,067: Par EPR <quantumnet.objects.epr.Epr object at 0x0000021074D7D350> adicionado ao canal.\n",
      "2024-08-16 11:58:21,068: Par EPR <quantumnet.objects.epr.Epr object at 0x0000021074D8D010> adicionado ao canal.\n",
      "2024-08-16 11:58:21,068: Par EPR <quantumnet.objects.epr.Epr object at 0x0000021074D7E450> adicionado ao canal.\n",
      "2024-08-16 11:58:21,070: Par EPR <quantumnet.objects.epr.Epr object at 0x0000021074D85750> adicionado ao canal.\n",
      "2024-08-16 11:58:21,070: Par EPR <quantumnet.objects.epr.Epr object at 0x0000021074D850D0> adicionado ao canal.\n",
      "2024-08-16 11:58:21,071: Par EPR <quantumnet.objects.epr.Epr object at 0x0000021074D8C9D0> adicionado ao canal.\n",
      "2024-08-16 11:58:21,071: Par EPR <quantumnet.objects.epr.Epr object at 0x0000021074D860D0> adicionado ao canal.\n",
      "2024-08-16 11:58:21,072: Par EPR <quantumnet.objects.epr.Epr object at 0x0000021074D8DD10> adicionado ao canal.\n",
      "2024-08-16 11:58:21,072: Par EPR <quantumnet.objects.epr.Epr object at 0x0000021074D8D2D0> adicionado ao canal.\n",
      "2024-08-16 11:58:21,073: Par EPR <quantumnet.objects.epr.Epr object at 0x0000021074D7E4D0> adicionado ao canal.\n",
      "2024-08-16 11:58:21,073: Par EPR <quantumnet.objects.epr.Epr object at 0x0000021074D86E10> adicionado ao canal.\n",
      "2024-08-16 11:58:21,074: Par EPR <quantumnet.objects.epr.Epr object at 0x0000021074D7D5D0> adicionado ao canal.\n",
      "2024-08-16 11:58:21,074: Par EPR <quantumnet.objects.epr.Epr object at 0x0000021074D8DFD0> adicionado ao canal.\n",
      "2024-08-16 11:58:21,076: Par EPR <quantumnet.objects.epr.Epr object at 0x0000021074D86690> adicionado ao canal.\n",
      "2024-08-16 11:58:21,077: Par EPR <quantumnet.objects.epr.Epr object at 0x0000021074D7E150> adicionado ao canal.\n",
      "2024-08-16 11:58:21,078: Par EPR <quantumnet.objects.epr.Epr object at 0x0000021074D8E490> adicionado ao canal.\n",
      "2024-08-16 11:58:21,078: Par EPR <quantumnet.objects.epr.Epr object at 0x0000021074D85990> adicionado ao canal.\n",
      "2024-08-16 11:58:21,078: Par EPR <quantumnet.objects.epr.Epr object at 0x0000021074D8C150> adicionado ao canal.\n",
      "2024-08-16 11:58:21,079: Par EPR <quantumnet.objects.epr.Epr object at 0x0000021074D8EF50> adicionado ao canal.\n",
      "2024-08-16 11:58:21,079: Par EPR <quantumnet.objects.epr.Epr object at 0x0000021074D8F010> adicionado ao canal.\n",
      "2024-08-16 11:58:21,080: Par EPR <quantumnet.objects.epr.Epr object at 0x0000021074D86E90> adicionado ao canal.\n",
      "2024-08-16 11:58:21,080: Par EPR <quantumnet.objects.epr.Epr object at 0x0000021074D7F9D0> adicionado ao canal.\n",
      "2024-08-16 11:58:21,080: Par EPR <quantumnet.objects.epr.Epr object at 0x0000021074D86AD0> adicionado ao canal.\n",
      "2024-08-16 11:58:21,081: Par EPR <quantumnet.objects.epr.Epr object at 0x0000021074D7F950> adicionado ao canal.\n",
      "2024-08-16 11:58:21,082: Par EPR <quantumnet.objects.epr.Epr object at 0x0000021074D85650> adicionado ao canal.\n",
      "2024-08-16 11:58:21,083: Par EPR <quantumnet.objects.epr.Epr object at 0x0000021074D84610> adicionado ao canal.\n",
      "2024-08-16 11:58:21,083: Par EPR <quantumnet.objects.epr.Epr object at 0x0000021074D7F590> adicionado ao canal.\n",
      "2024-08-16 11:58:21,084: Par EPR <quantumnet.objects.epr.Epr object at 0x0000021074D87E50> adicionado ao canal.\n",
      "2024-08-16 11:58:21,084: Par EPR <quantumnet.objects.epr.Epr object at 0x0000021074D80110> adicionado ao canal.\n",
      "2024-08-16 11:58:21,085: Par EPR <quantumnet.objects.epr.Epr object at 0x0000021074D7B310> adicionado ao canal.\n",
      "2024-08-16 11:58:21,085: Par EPR <quantumnet.objects.epr.Epr object at 0x0000021074D87690> adicionado ao canal.\n",
      "2024-08-16 11:58:21,086: Par EPR <quantumnet.objects.epr.Epr object at 0x0000021074D87CD0> adicionado ao canal.\n",
      "2024-08-16 11:58:21,086: Par EPR <quantumnet.objects.epr.Epr object at 0x0000021074D97A90> adicionado ao canal.\n",
      "2024-08-16 11:58:21,087: Par EPR <quantumnet.objects.epr.Epr object at 0x0000021074D97ED0> adicionado ao canal.\n",
      "2024-08-16 11:58:21,089: Par EPR <quantumnet.objects.epr.Epr object at 0x0000021074D87850> adicionado ao canal.\n",
      "2024-08-16 11:58:21,089: Par EPR <quantumnet.objects.epr.Epr object at 0x0000021074078C50> adicionado ao canal.\n",
      "2024-08-16 11:58:21,089: Par EPR <quantumnet.objects.epr.Epr object at 0x0000021074D73490> adicionado ao canal.\n",
      "2024-08-16 11:58:21,090: Par EPR <quantumnet.objects.epr.Epr object at 0x0000021074D807D0> adicionado ao canal.\n",
      "2024-08-16 11:58:21,090: Par EPR <quantumnet.objects.epr.Epr object at 0x0000021074D820D0> adicionado ao canal.\n",
      "2024-08-16 11:58:21,091: Par EPR <quantumnet.objects.epr.Epr object at 0x0000021074D7A310> adicionado ao canal.\n",
      "2024-08-16 11:58:21,091: Par EPR <quantumnet.objects.epr.Epr object at 0x0000021074D79090> adicionado ao canal.\n",
      "2024-08-16 11:58:21,091: Par EPR <quantumnet.objects.epr.Epr object at 0x0000021074D81650> adicionado ao canal.\n",
      "2024-08-16 11:58:21,092: Par EPR <quantumnet.objects.epr.Epr object at 0x0000021074D72A10> adicionado ao canal.\n",
      "2024-08-16 11:58:21,093: Par EPR <quantumnet.objects.epr.Epr object at 0x0000021074D726D0> adicionado ao canal.\n",
      "2024-08-16 11:58:21,093: Par EPR <quantumnet.objects.epr.Epr object at 0x0000021074D82B90> adicionado ao canal.\n",
      "2024-08-16 11:58:21,105: Par EPR <quantumnet.objects.epr.Epr object at 0x0000021074D7A050> adicionado ao canal.\n",
      "2024-08-16 11:58:21,134: Par EPR <quantumnet.objects.epr.Epr object at 0x0000021074089FD0> adicionado ao canal.\n",
      "2024-08-16 11:58:21,135: Par EPR <quantumnet.objects.epr.Epr object at 0x000002107454C450> adicionado ao canal.\n",
      "2024-08-16 11:58:21,137: Par EPR <quantumnet.objects.epr.Epr object at 0x0000021074D8D9D0> adicionado ao canal.\n",
      "2024-08-16 11:58:21,138: Par EPR <quantumnet.objects.epr.Epr object at 0x0000021074D8EC90> adicionado ao canal.\n",
      "2024-08-16 11:58:21,138: Par EPR <quantumnet.objects.epr.Epr object at 0x0000021074D79E90> adicionado ao canal.\n",
      "2024-08-16 11:58:21,139: Par EPR <quantumnet.objects.epr.Epr object at 0x0000021074D835D0> adicionado ao canal.\n",
      "2024-08-16 11:58:21,149: Par EPR <quantumnet.objects.epr.Epr object at 0x0000021074082910> adicionado ao canal.\n",
      "2024-08-16 11:58:21,151: Par EPR <quantumnet.objects.epr.Epr object at 0x0000021074D82CD0> adicionado ao canal.\n",
      "2024-08-16 11:58:21,156: Par EPR <quantumnet.objects.epr.Epr object at 0x0000021074080E50> adicionado ao canal.\n",
      "2024-08-16 11:58:21,157: Par EPR <quantumnet.objects.epr.Epr object at 0x0000021074D81910> adicionado ao canal.\n",
      "2024-08-16 11:58:21,158: Par EPR <quantumnet.objects.epr.Epr object at 0x0000021074D821D0> adicionado ao canal.\n",
      "2024-08-16 11:58:21,159: Par EPR <quantumnet.objects.epr.Epr object at 0x0000021074D80650> adicionado ao canal.\n",
      "2024-08-16 11:58:21,160: Par EPR <quantumnet.objects.epr.Epr object at 0x0000021074D71F10> adicionado ao canal.\n",
      "2024-08-16 11:58:21,162: Par EPR <quantumnet.objects.epr.Epr object at 0x0000021074D71590> adicionado ao canal.\n",
      "2024-08-16 11:58:21,163: Par EPR <quantumnet.objects.epr.Epr object at 0x0000021074D70FD0> adicionado ao canal.\n",
      "2024-08-16 11:58:21,163: Par EPR <quantumnet.objects.epr.Epr object at 0x000002107454C950> adicionado ao canal.\n",
      "2024-08-16 11:58:21,164: Par EPR <quantumnet.objects.epr.Epr object at 0x000002107454C590> adicionado ao canal.\n",
      "2024-08-16 11:58:21,165: Par EPR <quantumnet.objects.epr.Epr object at 0x0000021074D72E90> adicionado ao canal.\n",
      "2024-08-16 11:58:21,167: Par EPR <quantumnet.objects.epr.Epr object at 0x0000021074D8F7D0> adicionado ao canal.\n",
      "2024-08-16 11:58:21,177: Par EPR <quantumnet.objects.epr.Epr object at 0x00000210740541D0> adicionado ao canal.\n",
      "2024-08-16 11:58:21,178: Par EPR <quantumnet.objects.epr.Epr object at 0x0000021074D71790> adicionado ao canal.\n",
      "2024-08-16 11:58:21,179: Par EPR <quantumnet.objects.epr.Epr object at 0x0000021074D734D0> adicionado ao canal.\n",
      "2024-08-16 11:58:21,180: Par EPR <quantumnet.objects.epr.Epr object at 0x0000021074D71490> adicionado ao canal.\n",
      "2024-08-16 11:58:21,181: Par EPR <quantumnet.objects.epr.Epr object at 0x0000021074D95510> adicionado ao canal.\n",
      "2024-08-16 11:58:21,181: Par EPR <quantumnet.objects.epr.Epr object at 0x000002107453DFD0> adicionado ao canal.\n",
      "2024-08-16 11:58:21,182: Par EPR <quantumnet.objects.epr.Epr object at 0x0000021074D7CD50> adicionado ao canal.\n",
      "2024-08-16 11:58:21,182: Par EPR <quantumnet.objects.epr.Epr object at 0x0000021074D7C850> adicionado ao canal.\n",
      "2024-08-16 11:58:21,183: Par EPR <quantumnet.objects.epr.Epr object at 0x0000021074D7D4D0> adicionado ao canal.\n",
      "2024-08-16 11:58:21,184: Par EPR <quantumnet.objects.epr.Epr object at 0x0000021074D70E10> adicionado ao canal.\n",
      "2024-08-16 11:58:21,185: Par EPR <quantumnet.objects.epr.Epr object at 0x0000021074D8FE50> adicionado ao canal.\n",
      "2024-08-16 11:58:21,186: Par EPR <quantumnet.objects.epr.Epr object at 0x0000021074D94F10> adicionado ao canal.\n",
      "2024-08-16 11:58:21,186: Par EPR <quantumnet.objects.epr.Epr object at 0x0000021074D7CC90> adicionado ao canal.\n",
      "2024-08-16 11:58:21,187: Par EPR <quantumnet.objects.epr.Epr object at 0x0000021074D7E210> adicionado ao canal.\n",
      "2024-08-16 11:58:21,187: Par EPR <quantumnet.objects.epr.Epr object at 0x0000021074D7EF90> adicionado ao canal.\n",
      "2024-08-16 11:58:21,188: Par EPR <quantumnet.objects.epr.Epr object at 0x0000021074D7FB50> adicionado ao canal.\n",
      "2024-08-16 11:58:21,188: Par EPR <quantumnet.objects.epr.Epr object at 0x0000021074D7F510> adicionado ao canal.\n",
      "2024-08-16 11:58:21,189: Par EPR <quantumnet.objects.epr.Epr object at 0x0000021074D80990> adicionado ao canal.\n",
      "2024-08-16 11:58:21,189: Par EPR <quantumnet.objects.epr.Epr object at 0x0000021074D83E10> adicionado ao canal.\n",
      "2024-08-16 11:58:21,190: Par EPR <quantumnet.objects.epr.Epr object at 0x0000021074D7EF10> adicionado ao canal.\n",
      "2024-08-16 11:58:21,190: Par EPR <quantumnet.objects.epr.Epr object at 0x0000021074D83810> adicionado ao canal.\n",
      "2024-08-16 11:58:21,191: Par EPR <quantumnet.objects.epr.Epr object at 0x0000021074D79910> adicionado ao canal.\n",
      "2024-08-16 11:58:21,192: Par EPR <quantumnet.objects.epr.Epr object at 0x0000021074D7A990> adicionado ao canal.\n",
      "2024-08-16 11:58:21,193: Par EPR <quantumnet.objects.epr.Epr object at 0x0000021074D79990> adicionado ao canal.\n",
      "2024-08-16 11:58:21,193: Par EPR <quantumnet.objects.epr.Epr object at 0x0000021074D728D0> adicionado ao canal.\n",
      "2024-08-16 11:58:21,194: Par EPR <quantumnet.objects.epr.Epr object at 0x0000021074D73B50> adicionado ao canal.\n",
      "2024-08-16 11:58:21,199: Par EPR <quantumnet.objects.epr.Epr object at 0x0000021074D73590> adicionado ao canal.\n",
      "2024-08-16 11:58:21,200: Par EPR <quantumnet.objects.epr.Epr object at 0x0000021074D71350> adicionado ao canal.\n",
      "2024-08-16 11:58:21,201: Par EPR <quantumnet.objects.epr.Epr object at 0x0000021074D727D0> adicionado ao canal.\n",
      "2024-08-16 11:58:21,206: Par EPR <quantumnet.objects.epr.Epr object at 0x0000021074D85310> adicionado ao canal.\n",
      "2024-08-16 11:58:21,208: Par EPR <quantumnet.objects.epr.Epr object at 0x0000021074D730D0> adicionado ao canal.\n",
      "2024-08-16 11:58:21,211: Par EPR <quantumnet.objects.epr.Epr object at 0x0000021074D73950> adicionado ao canal.\n",
      "2024-08-16 11:58:21,212: Par EPR <quantumnet.objects.epr.Epr object at 0x0000021074D856D0> adicionado ao canal.\n",
      "2024-08-16 11:58:21,213: Par EPR <quantumnet.objects.epr.Epr object at 0x0000021074D96710> adicionado ao canal.\n",
      "2024-08-16 11:58:21,214: Par EPR <quantumnet.objects.epr.Epr object at 0x0000021074D85810> adicionado ao canal.\n",
      "2024-08-16 11:58:21,214: Par EPR <quantumnet.objects.epr.Epr object at 0x0000021074D84E50> adicionado ao canal.\n",
      "2024-08-16 11:58:21,215: Par EPR <quantumnet.objects.epr.Epr object at 0x0000021074D95090> adicionado ao canal.\n",
      "2024-08-16 11:58:21,216: Par EPR <quantumnet.objects.epr.Epr object at 0x0000021074D84F90> adicionado ao canal.\n",
      "2024-08-16 11:58:21,216: Par EPR <quantumnet.objects.epr.Epr object at 0x0000021074D84FD0> adicionado ao canal.\n",
      "2024-08-16 11:58:21,217: Par EPR <quantumnet.objects.epr.Epr object at 0x0000021074D84B50> adicionado ao canal.\n"
     ]
    },
    {
     "name": "stdout",
     "output_type": "stream",
     "text": [
      "Hosts inicializados\n",
      "Canais inicializados\n",
      "Pares EPRs adicionados\n"
     ]
    },
    {
     "data": {
      "image/png": "[encoded data removed]",
      "text/plain": [
       "<Figure size 640x480 with 1 Axes>"
      ]
     },
     "metadata": {},
     "output_type": "display_data"
    }
   ],
   "source": [
    "rede = Network()\n",
    "rede.set_ready_topology(\"Grade\", 3,3)\n",
    "rede.draw()"
   ]
  },
  {
   "cell_type": "markdown",
   "metadata": {},
   "source": [
    "##### Definindo os hosts alice e bob nos nós 1 e 2 respectivamente."
   ]
  },
  {
   "cell_type": "code",
   "execution_count": 3,
   "metadata": {},
   "outputs": [],
   "source": [
    "alice = rede.get_host(0)\n",
    "bob = rede.get_host(8)"
   ]
  },
  {
   "cell_type": "markdown",
   "metadata": {},
   "source": [
    "##### Verificação da memória de Alice e Bob."
   ]
  },
  {
   "cell_type": "code",
   "execution_count": 4,
   "metadata": {},
   "outputs": [
    {
     "name": "stdout",
     "output_type": "stream",
     "text": [
      "memoria de alice: [<quantumnet.objects.qubit.Qubit object at 0x0000021074D70490>, <quantumnet.objects.qubit.Qubit object at 0x000002107453E250>, <quantumnet.objects.qubit.Qubit object at 0x0000021074D5D490>, <quantumnet.objects.qubit.Qubit object at 0x0000021074082690>, <quantumnet.objects.qubit.Qubit object at 0x0000021074D5D6D0>, <quantumnet.objects.qubit.Qubit object at 0x0000021074D5E9D0>, <quantumnet.objects.qubit.Qubit object at 0x0000021074D5FE90>, <quantumnet.objects.qubit.Qubit object at 0x0000021074D5E090>, <quantumnet.objects.qubit.Qubit object at 0x0000021074D5E510>, <quantumnet.objects.qubit.Qubit object at 0x0000021074D5D5D0>]\n",
      "memoria de bob: [<quantumnet.objects.qubit.Qubit object at 0x000002107404D190>, <quantumnet.objects.qubit.Qubit object at 0x0000021074D87F10>, <quantumnet.objects.qubit.Qubit object at 0x0000021074D86B90>, <quantumnet.objects.qubit.Qubit object at 0x0000021074D7EB10>, <quantumnet.objects.qubit.Qubit object at 0x0000021074D87B50>, <quantumnet.objects.qubit.Qubit object at 0x0000021074D84C90>, <quantumnet.objects.qubit.Qubit object at 0x0000021074D86ED0>, <quantumnet.objects.qubit.Qubit object at 0x0000021074D85FD0>, <quantumnet.objects.qubit.Qubit object at 0x000002107453E4D0>, <quantumnet.objects.qubit.Qubit object at 0x000002107453E910>]\n"
     ]
    }
   ],
   "source": [
    "print('memoria de alice:',(alice.memory))\n",
    "print('memoria de bob:',(bob.memory))"
   ]
  },
  {
   "cell_type": "markdown",
   "metadata": {},
   "source": [
    "##### Nesse função, é enviado um request para a rede, solicitando uma rota para a transmissão de 2 qubits de Alice(0) para Bob(8)."
   ]
  },
  {
   "cell_type": "code",
   "execution_count": 5,
   "metadata": {},
   "outputs": [
    {
     "name": "stderr",
     "output_type": "stream",
     "text": [
      "2024-08-16 11:58:22,233: Rota válida encontrada: [0, 3, 6, 7, 8]\n",
      "2024-08-16 11:58:22,234: Rota válida encontrada: [0, 3, 6, 7, 8]\n",
      "2024-08-16 11:58:22,235: Transmissão de 2 qubits entre 0 e 8 concluída com sucesso.\n"
     ]
    },
    {
     "data": {
      "text/plain": [
       "True"
      ]
     },
     "execution_count": 5,
     "metadata": {},
     "output_type": "execute_result"
    }
   ],
   "source": [
    "rede.transportlayer.request_transmission(0,8, 2)"
   ]
  },
  {
   "cell_type": "markdown",
   "metadata": {},
   "source": [
    "##### o protocolo de teletrnasporte realiza a transmissão de Alice para Bob."
   ]
  },
  {
   "cell_type": "code",
   "execution_count": 6,
   "metadata": {},
   "outputs": [
    {
     "name": "stderr",
     "output_type": "stream",
     "text": [
      "2024-08-16 11:58:22,249: Rota válida encontrada: [0, 3, 6, 7, 8]\n",
      "2024-08-16 11:58:22,250: Teletransporte de qubit de 0 para 8 foi bem-sucedido com fidelidade final de 0.14868992198075917.\n"
     ]
    },
    {
     "data": {
      "text/plain": [
       "True"
      ]
     },
     "execution_count": 6,
     "metadata": {},
     "output_type": "execute_result"
    }
   ],
   "source": [
    "rede.transportlayer.teleportation_protocol(0,8)"
   ]
  },
  {
   "cell_type": "code",
   "execution_count": 7,
   "metadata": {},
   "outputs": [
    {
     "name": "stdout",
     "output_type": "stream",
     "text": [
      "memoria de alice: [<quantumnet.objects.qubit.Qubit object at 0x000002107453E250>, <quantumnet.objects.qubit.Qubit object at 0x0000021074D5D490>, <quantumnet.objects.qubit.Qubit object at 0x0000021074082690>, <quantumnet.objects.qubit.Qubit object at 0x0000021074D5D6D0>, <quantumnet.objects.qubit.Qubit object at 0x0000021074D5E9D0>, <quantumnet.objects.qubit.Qubit object at 0x0000021074D5FE90>, <quantumnet.objects.qubit.Qubit object at 0x0000021074D5E090>, <quantumnet.objects.qubit.Qubit object at 0x0000021074D5E510>, <quantumnet.objects.qubit.Qubit object at 0x0000021074D5D5D0>]\n",
      "memoria de bob: [<quantumnet.objects.qubit.Qubit object at 0x000002107404D190>, <quantumnet.objects.qubit.Qubit object at 0x0000021074D87F10>, <quantumnet.objects.qubit.Qubit object at 0x0000021074D86B90>, <quantumnet.objects.qubit.Qubit object at 0x0000021074D7EB10>, <quantumnet.objects.qubit.Qubit object at 0x0000021074D87B50>, <quantumnet.objects.qubit.Qubit object at 0x0000021074D84C90>, <quantumnet.objects.qubit.Qubit object at 0x0000021074D86ED0>, <quantumnet.objects.qubit.Qubit object at 0x0000021074D85FD0>, <quantumnet.objects.qubit.Qubit object at 0x000002107453E4D0>, <quantumnet.objects.qubit.Qubit object at 0x0000021074D70490>]\n"
     ]
    }
   ],
   "source": [
    "print('memoria de alice:',(alice.memory))\n",
    "print('memoria de bob:',(bob.memory))"
   ]
  },
  {
   "cell_type": "markdown",
   "metadata": {},
   "source": [
    "##### A função a seguir é chamada para que seja realizada a requesição de uma rota para que haja a transmissão de n qubits necessários. Ela vai executar toda a camada de transporte."
   ]
  },
  {
   "cell_type": "code",
   "execution_count": 8,
   "metadata": {},
   "outputs": [
    {
     "name": "stderr",
     "output_type": "stream",
     "text": [
      "2024-08-16 11:58:22,272: Rota válida encontrada: [0, 3, 6, 7, 8]\n",
      "2024-08-16 11:58:22,273: Rota válida encontrada: [0, 3, 6, 7, 8]\n",
      "2024-08-16 11:58:22,274: Rota válida encontrada: [0, 3, 6, 7, 8]\n",
      "2024-08-16 11:58:22,274: Rota válida encontrada: [0, 3, 6, 7, 8]\n",
      "2024-08-16 11:58:22,275: Rota válida encontrada: [0, 3, 6, 7, 8]\n",
      "2024-08-16 11:58:22,276: Teletransporte de qubit de 0 para 8 foi bem-sucedido com fidelidade final de 0.7554956751277464.\n",
      "2024-08-16 11:58:22,276: Teletransporte de qubit de 0 para 8 foi bem-sucedido com fidelidade final de 0.046632666991583.\n",
      "2024-08-16 11:58:22,277: Teletransporte de qubit de 0 para 8 foi bem-sucedido com fidelidade final de 0.026081479234997648.\n",
      "2024-08-16 11:58:22,278: Teletransporte de qubit de 0 para 8 foi bem-sucedido com fidelidade final de 0.009177053105795767.\n",
      "2024-08-16 11:58:22,279: Teletransporte de qubit de 0 para 8 foi bem-sucedido com fidelidade final de 0.3667314093621934.\n",
      "2024-08-16 11:58:22,279: Transmissão e teletransporte de 5 qubits entre 0 e 8 concluídos com sucesso.\n"
     ]
    },
    {
     "data": {
      "text/plain": [
       "True"
      ]
     },
     "execution_count": 8,
     "metadata": {},
     "output_type": "execute_result"
    }
   ],
   "source": [
    "rede.transportlayer.run_transport_layer(0,8,5)"
   ]
  },
  {
   "cell_type": "markdown",
   "metadata": {},
   "source": [
    "##### Essa função apresenta uma lista de métricas do transmissão dos qubits."
   ]
  },
  {
   "cell_type": "code",
   "execution_count": 9,
   "metadata": {},
   "outputs": [
    {
     "data": {
      "text/plain": [
       "[{'route': [0, 3, 6, 7, 8], 'alice_id': 0, 'bob_id': 8},\n",
       " {'route': [0, 3, 6, 7, 8], 'alice_id': 0, 'bob_id': 8},\n",
       " {'alice_id': 0,\n",
       "  'bob_id': 8,\n",
       "  'route': [0, 3, 6, 7, 8],\n",
       "  'fidelity_alice': 0.3699786760068696,\n",
       "  'fidelity_bob': 0.40188781576697774,\n",
       "  'fidelity_route': 1.0,\n",
       "  'F_final': 0.14868992198075917,\n",
       "  'qubit_alice': <quantumnet.objects.qubit.Qubit at 0x21074d70490>,\n",
       "  'qubit_bob': <quantumnet.objects.qubit.Qubit at 0x2107453e910>,\n",
       "  'success': True},\n",
       " {'alice_id': 0,\n",
       "  'bob_id': 8,\n",
       "  'route': [0, 3, 6, 7, 8],\n",
       "  'fidelity_alice': 0.7932435773444613,\n",
       "  'fidelity_bob': 0.9524132267883172,\n",
       "  'fidelity_route': 1.0,\n",
       "  'F_final': 0.7554956751277464,\n",
       "  'qubit_alice': <quantumnet.objects.qubit.Qubit at 0x2107453e250>,\n",
       "  'qubit_bob': <quantumnet.objects.qubit.Qubit at 0x2107404d190>,\n",
       "  'success': True},\n",
       " {'alice_id': 0,\n",
       "  'bob_id': 8,\n",
       "  'route': [0, 3, 6, 7, 8],\n",
       "  'fidelity_alice': 0.8010513219897764,\n",
       "  'fidelity_bob': 0.058214331231299266,\n",
       "  'fidelity_route': 1.0,\n",
       "  'F_final': 0.046632666991583,\n",
       "  'qubit_alice': <quantumnet.objects.qubit.Qubit at 0x21074d5d490>,\n",
       "  'qubit_bob': <quantumnet.objects.qubit.Qubit at 0x21074d87f10>,\n",
       "  'success': True},\n",
       " {'alice_id': 0,\n",
       "  'bob_id': 8,\n",
       "  'route': [0, 3, 6, 7, 8],\n",
       "  'fidelity_alice': 0.08774908576364515,\n",
       "  'fidelity_bob': 0.29722793130003555,\n",
       "  'fidelity_route': 1.0,\n",
       "  'F_final': 0.026081479234997648,\n",
       "  'qubit_alice': <quantumnet.objects.qubit.Qubit at 0x21074082690>,\n",
       "  'qubit_bob': <quantumnet.objects.qubit.Qubit at 0x21074d86b90>,\n",
       "  'success': True},\n",
       " {'alice_id': 0,\n",
       "  'bob_id': 8,\n",
       "  'route': [0, 3, 6, 7, 8],\n",
       "  'fidelity_alice': 0.3482455423926457,\n",
       "  'fidelity_bob': 0.026352248596619998,\n",
       "  'fidelity_route': 1.0,\n",
       "  'F_final': 0.009177053105795767,\n",
       "  'qubit_alice': <quantumnet.objects.qubit.Qubit at 0x21074d5d6d0>,\n",
       "  'qubit_bob': <quantumnet.objects.qubit.Qubit at 0x21074d7eb10>,\n",
       "  'success': True},\n",
       " {'alice_id': 0,\n",
       "  'bob_id': 8,\n",
       "  'route': [0, 3, 6, 7, 8],\n",
       "  'fidelity_alice': 0.3737116775144683,\n",
       "  'fidelity_bob': 0.9813217820789004,\n",
       "  'fidelity_route': 1.0,\n",
       "  'F_final': 0.3667314093621934,\n",
       "  'qubit_alice': <quantumnet.objects.qubit.Qubit at 0x21074d5e9d0>,\n",
       "  'qubit_bob': <quantumnet.objects.qubit.Qubit at 0x21074d87b50>,\n",
       "  'success': True}]"
      ]
     },
     "execution_count": 9,
     "metadata": {},
     "output_type": "execute_result"
    }
   ],
   "source": [
    "rede.transportlayer.get_teleported_qubits()"
   ]
  }
 ],
 "metadata": {
  "kernelspec": {
   "display_name": "Python 3",
   "language": "python",
   "name": "python3"
  },
  "language_info": {
   "codemirror_mode": {
    "name": "ipython",
    "version": 3
   },
   "file_extension": ".py",
   "mimetype": "text/x-python",
   "name": "python",
   "nbconvert_exporter": "python",
   "pygments_lexer": "ipython3",
   "version": "3.11.4"
  }
 },
 "nbformat": 4,
 "nbformat_minor": 2
}
