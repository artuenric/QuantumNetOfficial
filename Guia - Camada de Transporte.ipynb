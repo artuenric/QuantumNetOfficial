{
 "cells": [
  {
   "cell_type": "markdown",
   "metadata": {},
   "source": [
    "# Guia da Camada de Transporte\n",
    "### IMPORTANDO AS DEPENDÊNCIAS\n",
    "##### O documento tem o objetivo de demostrar o funcionamento da camada de transporte, além de suas funções e ferramentas.\n"
   ]
  },
  {
   "cell_type": "code",
   "execution_count": 1,
   "metadata": {},
   "outputs": [],
   "source": [
    "from quantumnet.components import Network, Host\n",
    "from quantumnet.objects import Qubit, Logger\n",
    "Logger.activate(Logger)"
   ]
  },
  {
   "cell_type": "markdown",
   "metadata": {},
   "source": [
    "##### Instanciando a rede, e setando a topologia."
   ]
  },
  {
   "cell_type": "code",
   "execution_count": 2,
   "metadata": {},
   "outputs": [
    {
     "name": "stderr",
     "output_type": "stream",
     "text": [
      "2024-09-10 17:02:54,376: Qubit 0 adicionado à memória do Host 0.\n",
      "2024-09-10 17:02:54,383: Qubit 0 criado com fidelidade inicial 0.6689645502734226 e adicionado à memória do Host 0.\n",
      "2024-09-10 17:02:54,391: Qubit 1 adicionado à memória do Host 0.\n",
      "2024-09-10 17:02:54,397: Qubit 1 criado com fidelidade inicial 0.03798430499913652 e adicionado à memória do Host 0.\n",
      "2024-09-10 17:02:54,404: Qubit 2 adicionado à memória do Host 0.\n",
      "2024-09-10 17:02:54,411: Qubit 2 criado com fidelidade inicial 0.7507479304922922 e adicionado à memória do Host 0.\n",
      "2024-09-10 17:02:54,431: Qubit 3 adicionado à memória do Host 0.\n",
      "2024-09-10 17:02:54,444: Qubit 3 criado com fidelidade inicial 0.3323591655904147 e adicionado à memória do Host 0.\n",
      "2024-09-10 17:02:54,448: Qubit 4 adicionado à memória do Host 0.\n",
      "2024-09-10 17:02:54,463: Qubit 4 criado com fidelidade inicial 0.6210329208689557 e adicionado à memória do Host 0.\n",
      "2024-09-10 17:02:54,480: Qubit 5 adicionado à memória do Host 0.\n",
      "2024-09-10 17:02:54,491: Qubit 5 criado com fidelidade inicial 0.5419995605451978 e adicionado à memória do Host 0.\n",
      "2024-09-10 17:02:54,500: Qubit 6 adicionado à memória do Host 0.\n",
      "2024-09-10 17:02:54,505: Qubit 6 criado com fidelidade inicial 0.9874675364284256 e adicionado à memória do Host 0.\n",
      "2024-09-10 17:02:54,515: Qubit 7 adicionado à memória do Host 0.\n",
      "2024-09-10 17:02:54,519: Qubit 7 criado com fidelidade inicial 0.5092643835231403 e adicionado à memória do Host 0.\n",
      "2024-09-10 17:02:54,523: Qubit 8 adicionado à memória do Host 0.\n",
      "2024-09-10 17:02:54,525: Qubit 8 criado com fidelidade inicial 0.3038803484765624 e adicionado à memória do Host 0.\n",
      "2024-09-10 17:02:54,529: Qubit 9 adicionado à memória do Host 0.\n",
      "2024-09-10 17:02:54,534: Qubit 9 criado com fidelidade inicial 0.6320602001970286 e adicionado à memória do Host 0.\n",
      "2024-09-10 17:02:54,537: Qubit 10 adicionado à memória do Host 1.\n",
      "2024-09-10 17:02:54,556: Qubit 10 criado com fidelidade inicial 0.5132905029253028 e adicionado à memória do Host 1.\n",
      "2024-09-10 17:02:54,564: Qubit 11 adicionado à memória do Host 1.\n",
      "2024-09-10 17:02:54,575: Qubit 11 criado com fidelidade inicial 0.6551033620955968 e adicionado à memória do Host 1.\n",
      "2024-09-10 17:02:54,580: Qubit 12 adicionado à memória do Host 1.\n",
      "2024-09-10 17:02:54,586: Qubit 12 criado com fidelidade inicial 0.90700416112534 e adicionado à memória do Host 1.\n",
      "2024-09-10 17:02:54,595: Qubit 13 adicionado à memória do Host 1.\n",
      "2024-09-10 17:02:54,601: Qubit 13 criado com fidelidade inicial 0.7182864834311193 e adicionado à memória do Host 1.\n",
      "2024-09-10 17:02:54,607: Qubit 14 adicionado à memória do Host 1.\n",
      "2024-09-10 17:02:54,612: Qubit 14 criado com fidelidade inicial 0.8737766542546609 e adicionado à memória do Host 1.\n",
      "2024-09-10 17:02:54,615: Qubit 15 adicionado à memória do Host 1.\n",
      "2024-09-10 17:02:54,623: Qubit 15 criado com fidelidade inicial 0.2464786291265163 e adicionado à memória do Host 1.\n",
      "2024-09-10 17:02:54,628: Qubit 16 adicionado à memória do Host 1.\n",
      "2024-09-10 17:02:54,631: Qubit 16 criado com fidelidade inicial 0.7625443014319649 e adicionado à memória do Host 1.\n",
      "2024-09-10 17:02:54,636: Qubit 17 adicionado à memória do Host 1.\n",
      "2024-09-10 17:02:54,638: Qubit 17 criado com fidelidade inicial 0.8071862847168718 e adicionado à memória do Host 1.\n",
      "2024-09-10 17:02:54,643: Qubit 18 adicionado à memória do Host 1.\n",
      "2024-09-10 17:02:54,646: Qubit 18 criado com fidelidade inicial 0.1707048387519925 e adicionado à memória do Host 1.\n",
      "2024-09-10 17:02:54,649: Qubit 19 adicionado à memória do Host 1.\n",
      "2024-09-10 17:02:54,652: Qubit 19 criado com fidelidade inicial 0.564353310591971 e adicionado à memória do Host 1.\n",
      "2024-09-10 17:02:54,656: Qubit 20 adicionado à memória do Host 2.\n",
      "2024-09-10 17:02:54,660: Qubit 20 criado com fidelidade inicial 0.06778572577276465 e adicionado à memória do Host 2.\n",
      "2024-09-10 17:02:54,663: Qubit 21 adicionado à memória do Host 2.\n",
      "2024-09-10 17:02:54,667: Qubit 21 criado com fidelidade inicial 0.4834772282482489 e adicionado à memória do Host 2.\n",
      "2024-09-10 17:02:54,668: Qubit 22 adicionado à memória do Host 2.\n",
      "2024-09-10 17:02:54,669: Qubit 22 criado com fidelidade inicial 0.38295012179161425 e adicionado à memória do Host 2.\n",
      "2024-09-10 17:02:54,673: Qubit 23 adicionado à memória do Host 2.\n",
      "2024-09-10 17:02:54,676: Qubit 23 criado com fidelidade inicial 0.7461944369439707 e adicionado à memória do Host 2.\n",
      "2024-09-10 17:02:54,679: Qubit 24 adicionado à memória do Host 2.\n",
      "2024-09-10 17:02:54,683: Qubit 24 criado com fidelidade inicial 0.4776682900014386 e adicionado à memória do Host 2.\n",
      "2024-09-10 17:02:54,686: Qubit 25 adicionado à memória do Host 2.\n",
      "2024-09-10 17:02:54,694: Qubit 25 criado com fidelidade inicial 0.8868901681292071 e adicionado à memória do Host 2.\n",
      "2024-09-10 17:02:54,699: Qubit 26 adicionado à memória do Host 2.\n",
      "2024-09-10 17:02:54,701: Qubit 26 criado com fidelidade inicial 0.34508464715634424 e adicionado à memória do Host 2.\n",
      "2024-09-10 17:02:54,706: Qubit 27 adicionado à memória do Host 2.\n",
      "2024-09-10 17:02:54,711: Qubit 27 criado com fidelidade inicial 0.9971428482102851 e adicionado à memória do Host 2.\n",
      "2024-09-10 17:02:54,715: Qubit 28 adicionado à memória do Host 2.\n",
      "2024-09-10 17:02:54,721: Qubit 28 criado com fidelidade inicial 0.4309874557774097 e adicionado à memória do Host 2.\n",
      "2024-09-10 17:02:54,725: Qubit 29 adicionado à memória do Host 2.\n",
      "2024-09-10 17:02:54,732: Qubit 29 criado com fidelidade inicial 0.1396062125607791 e adicionado à memória do Host 2.\n",
      "2024-09-10 17:02:54,736: Qubit 30 adicionado à memória do Host 3.\n",
      "2024-09-10 17:02:54,739: Qubit 30 criado com fidelidade inicial 0.332107434281423 e adicionado à memória do Host 3.\n",
      "2024-09-10 17:02:54,743: Qubit 31 adicionado à memória do Host 3.\n",
      "2024-09-10 17:02:54,746: Qubit 31 criado com fidelidade inicial 0.833638140858155 e adicionado à memória do Host 3.\n",
      "2024-09-10 17:02:54,749: Qubit 32 adicionado à memória do Host 3.\n",
      "2024-09-10 17:02:54,754: Qubit 32 criado com fidelidade inicial 0.4855111819795842 e adicionado à memória do Host 3.\n",
      "2024-09-10 17:02:54,760: Qubit 33 adicionado à memória do Host 3.\n",
      "2024-09-10 17:02:54,767: Qubit 33 criado com fidelidade inicial 0.8173416237669788 e adicionado à memória do Host 3.\n",
      "2024-09-10 17:02:54,770: Qubit 34 adicionado à memória do Host 3.\n",
      "2024-09-10 17:02:54,776: Qubit 34 criado com fidelidade inicial 0.8099193210839652 e adicionado à memória do Host 3.\n",
      "2024-09-10 17:02:54,782: Qubit 35 adicionado à memória do Host 3.\n",
      "2024-09-10 17:02:54,784: Qubit 35 criado com fidelidade inicial 0.8670410260036171 e adicionado à memória do Host 3.\n",
      "2024-09-10 17:02:54,785: Qubit 36 adicionado à memória do Host 3.\n",
      "2024-09-10 17:02:54,786: Qubit 36 criado com fidelidade inicial 0.8780438996074236 e adicionado à memória do Host 3.\n",
      "2024-09-10 17:02:54,786: Qubit 37 adicionado à memória do Host 3.\n",
      "2024-09-10 17:02:54,788: Qubit 37 criado com fidelidade inicial 0.15528632592444747 e adicionado à memória do Host 3.\n",
      "2024-09-10 17:02:54,805: Qubit 38 adicionado à memória do Host 3.\n",
      "2024-09-10 17:02:54,820: Qubit 38 criado com fidelidade inicial 0.6447727065607539 e adicionado à memória do Host 3.\n",
      "2024-09-10 17:02:54,823: Qubit 39 adicionado à memória do Host 3.\n",
      "2024-09-10 17:02:54,826: Qubit 39 criado com fidelidade inicial 0.32654085996302407 e adicionado à memória do Host 3.\n",
      "2024-09-10 17:02:54,828: Qubit 40 adicionado à memória do Host 4.\n",
      "2024-09-10 17:02:54,830: Qubit 40 criado com fidelidade inicial 0.1478277255241255 e adicionado à memória do Host 4.\n",
      "2024-09-10 17:02:54,832: Qubit 41 adicionado à memória do Host 4.\n",
      "2024-09-10 17:02:54,833: Qubit 41 criado com fidelidade inicial 0.15902441280624569 e adicionado à memória do Host 4.\n",
      "2024-09-10 17:02:54,836: Qubit 42 adicionado à memória do Host 4.\n",
      "2024-09-10 17:02:54,839: Qubit 42 criado com fidelidade inicial 0.33524821979751374 e adicionado à memória do Host 4.\n",
      "2024-09-10 17:02:54,842: Qubit 43 adicionado à memória do Host 4.\n",
      "2024-09-10 17:02:54,846: Qubit 43 criado com fidelidade inicial 0.34510573708292824 e adicionado à memória do Host 4.\n",
      "2024-09-10 17:02:54,858: Qubit 44 adicionado à memória do Host 4.\n",
      "2024-09-10 17:02:54,863: Qubit 44 criado com fidelidade inicial 0.2694785186789155 e adicionado à memória do Host 4.\n",
      "2024-09-10 17:02:54,866: Qubit 45 adicionado à memória do Host 4.\n",
      "2024-09-10 17:02:54,871: Qubit 45 criado com fidelidade inicial 0.1509980791335589 e adicionado à memória do Host 4.\n",
      "2024-09-10 17:02:54,877: Qubit 46 adicionado à memória do Host 4.\n",
      "2024-09-10 17:02:54,880: Qubit 46 criado com fidelidade inicial 0.054317183250232715 e adicionado à memória do Host 4.\n",
      "2024-09-10 17:02:54,886: Qubit 47 adicionado à memória do Host 4.\n",
      "2024-09-10 17:02:54,889: Qubit 47 criado com fidelidade inicial 0.780447819761056 e adicionado à memória do Host 4.\n",
      "2024-09-10 17:02:54,892: Qubit 48 adicionado à memória do Host 4.\n",
      "2024-09-10 17:02:54,898: Qubit 48 criado com fidelidade inicial 0.47657257665919106 e adicionado à memória do Host 4.\n",
      "2024-09-10 17:02:54,901: Qubit 49 adicionado à memória do Host 4.\n",
      "2024-09-10 17:02:54,904: Qubit 49 criado com fidelidade inicial 0.4189640501291847 e adicionado à memória do Host 4.\n",
      "2024-09-10 17:02:54,908: Qubit 50 adicionado à memória do Host 5.\n",
      "2024-09-10 17:02:54,915: Qubit 50 criado com fidelidade inicial 0.40374010063782817 e adicionado à memória do Host 5.\n",
      "2024-09-10 17:02:54,920: Qubit 51 adicionado à memória do Host 5.\n",
      "2024-09-10 17:02:54,924: Qubit 51 criado com fidelidade inicial 0.2435777559747101 e adicionado à memória do Host 5.\n",
      "2024-09-10 17:02:54,929: Qubit 52 adicionado à memória do Host 5.\n",
      "2024-09-10 17:02:54,934: Qubit 52 criado com fidelidade inicial 0.40844405885034174 e adicionado à memória do Host 5.\n",
      "2024-09-10 17:02:54,936: Qubit 53 adicionado à memória do Host 5.\n",
      "2024-09-10 17:02:54,938: Qubit 53 criado com fidelidade inicial 0.8787621207406392 e adicionado à memória do Host 5.\n",
      "2024-09-10 17:02:54,941: Qubit 54 adicionado à memória do Host 5.\n",
      "2024-09-10 17:02:54,948: Qubit 54 criado com fidelidade inicial 0.30618698797234634 e adicionado à memória do Host 5.\n",
      "2024-09-10 17:02:54,952: Qubit 55 adicionado à memória do Host 5.\n",
      "2024-09-10 17:02:54,956: Qubit 55 criado com fidelidade inicial 0.23047170562272767 e adicionado à memória do Host 5.\n",
      "2024-09-10 17:02:54,958: Qubit 56 adicionado à memória do Host 5.\n",
      "2024-09-10 17:02:54,962: Qubit 56 criado com fidelidade inicial 0.4482382308970345 e adicionado à memória do Host 5.\n",
      "2024-09-10 17:02:54,963: Qubit 57 adicionado à memória do Host 5.\n",
      "2024-09-10 17:02:54,967: Qubit 57 criado com fidelidade inicial 0.3127884058845166 e adicionado à memória do Host 5.\n",
      "2024-09-10 17:02:54,971: Qubit 58 adicionado à memória do Host 5.\n",
      "2024-09-10 17:02:54,975: Qubit 58 criado com fidelidade inicial 0.3017590333922402 e adicionado à memória do Host 5.\n",
      "2024-09-10 17:02:54,978: Qubit 59 adicionado à memória do Host 5.\n",
      "2024-09-10 17:02:54,984: Qubit 59 criado com fidelidade inicial 0.585373306818753 e adicionado à memória do Host 5.\n",
      "2024-09-10 17:02:54,993: Qubit 60 adicionado à memória do Host 6.\n",
      "2024-09-10 17:02:54,996: Qubit 60 criado com fidelidade inicial 0.44630232061353137 e adicionado à memória do Host 6.\n",
      "2024-09-10 17:02:55,003: Qubit 61 adicionado à memória do Host 6.\n",
      "2024-09-10 17:02:55,016: Qubit 61 criado com fidelidade inicial 0.17294114449852227 e adicionado à memória do Host 6.\n",
      "2024-09-10 17:02:55,030: Qubit 62 adicionado à memória do Host 6.\n",
      "2024-09-10 17:02:55,040: Qubit 62 criado com fidelidade inicial 0.7748906020909925 e adicionado à memória do Host 6.\n",
      "2024-09-10 17:02:55,044: Qubit 63 adicionado à memória do Host 6.\n",
      "2024-09-10 17:02:55,048: Qubit 63 criado com fidelidade inicial 0.718657371329118 e adicionado à memória do Host 6.\n",
      "2024-09-10 17:02:55,051: Qubit 64 adicionado à memória do Host 6.\n",
      "2024-09-10 17:02:55,054: Qubit 64 criado com fidelidade inicial 0.42800353224947096 e adicionado à memória do Host 6.\n",
      "2024-09-10 17:02:55,057: Qubit 65 adicionado à memória do Host 6.\n",
      "2024-09-10 17:02:55,059: Qubit 65 criado com fidelidade inicial 0.9776234164420752 e adicionado à memória do Host 6.\n",
      "2024-09-10 17:02:55,061: Qubit 66 adicionado à memória do Host 6.\n",
      "2024-09-10 17:02:55,063: Qubit 66 criado com fidelidade inicial 0.7904338152906627 e adicionado à memória do Host 6.\n",
      "2024-09-10 17:02:55,065: Qubit 67 adicionado à memória do Host 6.\n",
      "2024-09-10 17:02:55,067: Qubit 67 criado com fidelidade inicial 0.6789942332805933 e adicionado à memória do Host 6.\n",
      "2024-09-10 17:02:55,070: Qubit 68 adicionado à memória do Host 6.\n",
      "2024-09-10 17:02:55,072: Qubit 68 criado com fidelidade inicial 0.057330215275900986 e adicionado à memória do Host 6.\n",
      "2024-09-10 17:02:55,075: Qubit 69 adicionado à memória do Host 6.\n",
      "2024-09-10 17:02:55,077: Qubit 69 criado com fidelidade inicial 0.5478476883113826 e adicionado à memória do Host 6.\n",
      "2024-09-10 17:02:55,079: Qubit 70 adicionado à memória do Host 7.\n",
      "2024-09-10 17:02:55,082: Qubit 70 criado com fidelidade inicial 0.18978013450672349 e adicionado à memória do Host 7.\n",
      "2024-09-10 17:02:55,084: Qubit 71 adicionado à memória do Host 7.\n",
      "2024-09-10 17:02:55,086: Qubit 71 criado com fidelidade inicial 0.47492909487634494 e adicionado à memória do Host 7.\n",
      "2024-09-10 17:02:55,089: Qubit 72 adicionado à memória do Host 7.\n",
      "2024-09-10 17:02:55,091: Qubit 72 criado com fidelidade inicial 0.803693881626698 e adicionado à memória do Host 7.\n",
      "2024-09-10 17:02:55,093: Qubit 73 adicionado à memória do Host 7.\n",
      "2024-09-10 17:02:55,094: Qubit 73 criado com fidelidade inicial 0.8926379335003166 e adicionado à memória do Host 7.\n",
      "2024-09-10 17:02:55,096: Qubit 74 adicionado à memória do Host 7.\n",
      "2024-09-10 17:02:55,098: Qubit 74 criado com fidelidade inicial 0.955936278394303 e adicionado à memória do Host 7.\n",
      "2024-09-10 17:02:55,100: Qubit 75 adicionado à memória do Host 7.\n",
      "2024-09-10 17:02:55,102: Qubit 75 criado com fidelidade inicial 0.7239443180797399 e adicionado à memória do Host 7.\n",
      "2024-09-10 17:02:55,103: Qubit 76 adicionado à memória do Host 7.\n",
      "2024-09-10 17:02:55,104: Qubit 76 criado com fidelidade inicial 0.08348439077893755 e adicionado à memória do Host 7.\n",
      "2024-09-10 17:02:55,105: Qubit 77 adicionado à memória do Host 7.\n",
      "2024-09-10 17:02:55,108: Qubit 77 criado com fidelidade inicial 0.7447730568659969 e adicionado à memória do Host 7.\n",
      "2024-09-10 17:02:55,109: Qubit 78 adicionado à memória do Host 7.\n",
      "2024-09-10 17:02:55,112: Qubit 78 criado com fidelidade inicial 0.12911807939983966 e adicionado à memória do Host 7.\n",
      "2024-09-10 17:02:55,113: Qubit 79 adicionado à memória do Host 7.\n",
      "2024-09-10 17:02:55,115: Qubit 79 criado com fidelidade inicial 0.6763168496686637 e adicionado à memória do Host 7.\n",
      "2024-09-10 17:02:55,116: Qubit 80 adicionado à memória do Host 8.\n",
      "2024-09-10 17:02:55,119: Qubit 80 criado com fidelidade inicial 0.6348039458361487 e adicionado à memória do Host 8.\n",
      "2024-09-10 17:02:55,120: Qubit 81 adicionado à memória do Host 8.\n",
      "2024-09-10 17:02:55,121: Qubit 81 criado com fidelidade inicial 0.02790002570128336 e adicionado à memória do Host 8.\n",
      "2024-09-10 17:02:55,123: Qubit 82 adicionado à memória do Host 8.\n",
      "2024-09-10 17:02:55,125: Qubit 82 criado com fidelidade inicial 0.37796364021072415 e adicionado à memória do Host 8.\n",
      "2024-09-10 17:02:55,127: Qubit 83 adicionado à memória do Host 8.\n",
      "2024-09-10 17:02:55,130: Qubit 83 criado com fidelidade inicial 0.1940187172017369 e adicionado à memória do Host 8.\n",
      "2024-09-10 17:02:55,131: Qubit 84 adicionado à memória do Host 8.\n",
      "2024-09-10 17:02:55,133: Qubit 84 criado com fidelidade inicial 0.24199953490503423 e adicionado à memória do Host 8.\n",
      "2024-09-10 17:02:55,135: Qubit 85 adicionado à memória do Host 8.\n",
      "2024-09-10 17:02:55,137: Qubit 85 criado com fidelidade inicial 0.18152268679540773 e adicionado à memória do Host 8.\n",
      "2024-09-10 17:02:55,139: Qubit 86 adicionado à memória do Host 8.\n",
      "2024-09-10 17:02:55,142: Qubit 86 criado com fidelidade inicial 0.29801580413105655 e adicionado à memória do Host 8.\n",
      "2024-09-10 17:02:55,144: Qubit 87 adicionado à memória do Host 8.\n",
      "2024-09-10 17:02:55,146: Qubit 87 criado com fidelidade inicial 0.35133622062999026 e adicionado à memória do Host 8.\n",
      "2024-09-10 17:02:55,150: Qubit 88 adicionado à memória do Host 8.\n",
      "2024-09-10 17:02:55,170: Qubit 88 criado com fidelidade inicial 0.7654683380845033 e adicionado à memória do Host 8.\n",
      "2024-09-10 17:02:55,191: Qubit 89 adicionado à memória do Host 8.\n",
      "2024-09-10 17:02:55,194: Qubit 89 criado com fidelidade inicial 0.20629958180459673 e adicionado à memória do Host 8.\n",
      "2024-09-10 17:02:55,201: Par EPR <quantumnet.objects.epr.Epr object at 0x74cbb96f63b0> adicionado ao canal.\n",
      "2024-09-10 17:02:55,210: Par EPR <quantumnet.objects.epr.Epr object at 0x74cbb96f65c0> adicionado ao canal.\n",
      "2024-09-10 17:02:55,215: Par EPR <quantumnet.objects.epr.Epr object at 0x74cbb96f6560> adicionado ao canal.\n",
      "2024-09-10 17:02:55,221: Par EPR <quantumnet.objects.epr.Epr object at 0x74cbb96f6650> adicionado ao canal.\n",
      "2024-09-10 17:02:55,223: Par EPR <quantumnet.objects.epr.Epr object at 0x74cbb96f5f30> adicionado ao canal.\n",
      "2024-09-10 17:02:55,227: Par EPR <quantumnet.objects.epr.Epr object at 0x74cbb96f67d0> adicionado ao canal.\n",
      "2024-09-10 17:02:55,230: Par EPR <quantumnet.objects.epr.Epr object at 0x74cbb96f66e0> adicionado ao canal.\n",
      "2024-09-10 17:02:55,235: Par EPR <quantumnet.objects.epr.Epr object at 0x74cbb96f5ea0> adicionado ao canal.\n",
      "2024-09-10 17:02:55,241: Par EPR <quantumnet.objects.epr.Epr object at 0x74cbb96f68c0> adicionado ao canal.\n",
      "2024-09-10 17:02:55,246: Par EPR <quantumnet.objects.epr.Epr object at 0x74cbb96f6530> adicionado ao canal.\n",
      "2024-09-10 17:02:55,250: Par EPR <quantumnet.objects.epr.Epr object at 0x74cbb96f65f0> adicionado ao canal.\n",
      "2024-09-10 17:02:55,257: Par EPR <quantumnet.objects.epr.Epr object at 0x74cbb96f6770> adicionado ao canal.\n",
      "2024-09-10 17:02:55,264: Par EPR <quantumnet.objects.epr.Epr object at 0x74cbb96f6a10> adicionado ao canal.\n",
      "2024-09-10 17:02:55,272: Par EPR <quantumnet.objects.epr.Epr object at 0x74cbb96f60e0> adicionado ao canal.\n",
      "2024-09-10 17:02:55,277: Par EPR <quantumnet.objects.epr.Epr object at 0x74cbb96f6b30> adicionado ao canal.\n",
      "2024-09-10 17:02:55,279: Par EPR <quantumnet.objects.epr.Epr object at 0x74cbb96f6aa0> adicionado ao canal.\n",
      "2024-09-10 17:02:55,283: Par EPR <quantumnet.objects.epr.Epr object at 0x74cbb96f6b90> adicionado ao canal.\n",
      "2024-09-10 17:02:55,290: Par EPR <quantumnet.objects.epr.Epr object at 0x74cbb96f6c80> adicionado ao canal.\n",
      "2024-09-10 17:02:55,296: Par EPR <quantumnet.objects.epr.Epr object at 0x74cbb96f6cb0> adicionado ao canal.\n",
      "2024-09-10 17:02:55,304: Par EPR <quantumnet.objects.epr.Epr object at 0x74cbb96f6980> adicionado ao canal.\n",
      "2024-09-10 17:02:55,309: Par EPR <quantumnet.objects.epr.Epr object at 0x74cbb96f69b0> adicionado ao canal.\n",
      "2024-09-10 17:02:55,313: Par EPR <quantumnet.objects.epr.Epr object at 0x74cbb96f6a70> adicionado ao canal.\n",
      "2024-09-10 17:02:55,317: Par EPR <quantumnet.objects.epr.Epr object at 0x74cbb96f6b00> adicionado ao canal.\n",
      "2024-09-10 17:02:55,321: Par EPR <quantumnet.objects.epr.Epr object at 0x74cbb96f6950> adicionado ao canal.\n",
      "2024-09-10 17:02:55,325: Par EPR <quantumnet.objects.epr.Epr object at 0x74cbb96f6ef0> adicionado ao canal.\n",
      "2024-09-10 17:02:55,328: Par EPR <quantumnet.objects.epr.Epr object at 0x74cbb96f6d40> adicionado ao canal.\n",
      "2024-09-10 17:02:55,333: Par EPR <quantumnet.objects.epr.Epr object at 0x74cbb96f6dd0> adicionado ao canal.\n",
      "2024-09-10 17:02:55,334: Par EPR <quantumnet.objects.epr.Epr object at 0x74cbb96f6590> adicionado ao canal.\n",
      "2024-09-10 17:02:55,340: Par EPR <quantumnet.objects.epr.Epr object at 0x74cbb96f6f80> adicionado ao canal.\n",
      "2024-09-10 17:02:55,342: Par EPR <quantumnet.objects.epr.Epr object at 0x74cbb96f6710> adicionado ao canal.\n",
      "2024-09-10 17:02:55,345: Par EPR <quantumnet.objects.epr.Epr object at 0x74cbb96f6c50> adicionado ao canal.\n",
      "2024-09-10 17:02:55,347: Par EPR <quantumnet.objects.epr.Epr object at 0x74cbb96f7010> adicionado ao canal.\n",
      "2024-09-10 17:02:55,352: Par EPR <quantumnet.objects.epr.Epr object at 0x74cbb96f6fe0> adicionado ao canal.\n",
      "2024-09-10 17:02:55,354: Par EPR <quantumnet.objects.epr.Epr object at 0x74cbb96f7280> adicionado ao canal.\n",
      "2024-09-10 17:02:55,358: Par EPR <quantumnet.objects.epr.Epr object at 0x74cbb96f6d70> adicionado ao canal.\n",
      "2024-09-10 17:02:55,360: Par EPR <quantumnet.objects.epr.Epr object at 0x74cbb96f7160> adicionado ao canal.\n",
      "2024-09-10 17:02:55,363: Par EPR <quantumnet.objects.epr.Epr object at 0x74cbb96f7340> adicionado ao canal.\n",
      "2024-09-10 17:02:55,368: Par EPR <quantumnet.objects.epr.Epr object at 0x74cbb96f7370> adicionado ao canal.\n",
      "2024-09-10 17:02:55,370: Par EPR <quantumnet.objects.epr.Epr object at 0x74cbb96f7460> adicionado ao canal.\n",
      "2024-09-10 17:02:55,373: Par EPR <quantumnet.objects.epr.Epr object at 0x74cbb96f6e60> adicionado ao canal.\n",
      "2024-09-10 17:02:55,376: Par EPR <quantumnet.objects.epr.Epr object at 0x74cbb96f7130> adicionado ao canal.\n",
      "2024-09-10 17:02:55,380: Par EPR <quantumnet.objects.epr.Epr object at 0x74cbb96f73d0> adicionado ao canal.\n",
      "2024-09-10 17:02:55,382: Par EPR <quantumnet.objects.epr.Epr object at 0x74cbb96f6ec0> adicionado ao canal.\n",
      "2024-09-10 17:02:55,385: Par EPR <quantumnet.objects.epr.Epr object at 0x74cbb96f7610> adicionado ao canal.\n",
      "2024-09-10 17:02:55,388: Par EPR <quantumnet.objects.epr.Epr object at 0x74cbb96f74c0> adicionado ao canal.\n",
      "2024-09-10 17:02:55,390: Par EPR <quantumnet.objects.epr.Epr object at 0x74cbb96f7520> adicionado ao canal.\n",
      "2024-09-10 17:02:55,393: Par EPR <quantumnet.objects.epr.Epr object at 0x74cbb96f70a0> adicionado ao canal.\n",
      "2024-09-10 17:02:55,394: Par EPR <quantumnet.objects.epr.Epr object at 0x74cbb96f76a0> adicionado ao canal.\n",
      "2024-09-10 17:02:55,396: Par EPR <quantumnet.objects.epr.Epr object at 0x74cbb96f7580> adicionado ao canal.\n",
      "2024-09-10 17:02:55,400: Par EPR <quantumnet.objects.epr.Epr object at 0x74cbb96f7820> adicionado ao canal.\n",
      "2024-09-10 17:02:55,403: Par EPR <quantumnet.objects.epr.Epr object at 0x74cbb96f72b0> adicionado ao canal.\n"
     ]
    },
    {
     "name": "stdout",
     "output_type": "stream",
     "text": [
      "Hosts inicializados\n",
      "Canais inicializados\n"
     ]
    },
    {
     "name": "stderr",
     "output_type": "stream",
     "text": [
      "2024-09-10 17:02:55,407: Par EPR <quantumnet.objects.epr.Epr object at 0x74cbb96f7910> adicionado ao canal.\n",
      "2024-09-10 17:02:55,409: Par EPR <quantumnet.objects.epr.Epr object at 0x74cbb96f75e0> adicionado ao canal.\n",
      "2024-09-10 17:02:55,412: Par EPR <quantumnet.objects.epr.Epr object at 0x74cbb96f7970> adicionado ao canal.\n",
      "2024-09-10 17:02:55,414: Par EPR <quantumnet.objects.epr.Epr object at 0x74cbb96f7a00> adicionado ao canal.\n",
      "2024-09-10 17:02:55,417: Par EPR <quantumnet.objects.epr.Epr object at 0x74cbb96f7760> adicionado ao canal.\n",
      "2024-09-10 17:02:55,421: Par EPR <quantumnet.objects.epr.Epr object at 0x74cbb96f7670> adicionado ao canal.\n",
      "2024-09-10 17:02:55,423: Par EPR <quantumnet.objects.epr.Epr object at 0x74cbb96f79d0> adicionado ao canal.\n",
      "2024-09-10 17:02:55,427: Par EPR <quantumnet.objects.epr.Epr object at 0x74cbb96f7b80> adicionado ao canal.\n",
      "2024-09-10 17:02:55,430: Par EPR <quantumnet.objects.epr.Epr object at 0x74cbb96f7c70> adicionado ao canal.\n",
      "2024-09-10 17:02:55,439: Par EPR <quantumnet.objects.epr.Epr object at 0x74cbb96f78e0> adicionado ao canal.\n",
      "2024-09-10 17:02:55,445: Par EPR <quantumnet.objects.epr.Epr object at 0x74cbb96f7ca0> adicionado ao canal.\n",
      "2024-09-10 17:02:55,450: Par EPR <quantumnet.objects.epr.Epr object at 0x74cbb96f7d30> adicionado ao canal.\n",
      "2024-09-10 17:02:55,462: Par EPR <quantumnet.objects.epr.Epr object at 0x74cbb96f7d00> adicionado ao canal.\n",
      "2024-09-10 17:02:55,473: Par EPR <quantumnet.objects.epr.Epr object at 0x74cbb96f7dc0> adicionado ao canal.\n",
      "2024-09-10 17:02:55,488: Par EPR <quantumnet.objects.epr.Epr object at 0x74cbb96f7e50> adicionado ao canal.\n",
      "2024-09-10 17:02:55,491: Par EPR <quantumnet.objects.epr.Epr object at 0x74cbb96f7f70> adicionado ao canal.\n",
      "2024-09-10 17:02:55,498: Par EPR <quantumnet.objects.epr.Epr object at 0x74cbb96f7e80> adicionado ao canal.\n",
      "2024-09-10 17:02:55,502: Par EPR <quantumnet.objects.epr.Epr object at 0x74cbb96f7eb0> adicionado ao canal.\n",
      "2024-09-10 17:02:55,506: Par EPR <quantumnet.objects.epr.Epr object at 0x74cbb96f7f40> adicionado ao canal.\n",
      "2024-09-10 17:02:55,509: Par EPR <quantumnet.objects.epr.Epr object at 0x74cbb96f7a30> adicionado ao canal.\n",
      "2024-09-10 17:02:55,513: Par EPR <quantumnet.objects.epr.Epr object at 0x74cbb96f7d90> adicionado ao canal.\n",
      "2024-09-10 17:02:55,516: Par EPR <quantumnet.objects.epr.Epr object at 0x74cbb96f7c10> adicionado ao canal.\n",
      "2024-09-10 17:02:55,521: Par EPR <quantumnet.objects.epr.Epr object at 0x74cbb97281c0> adicionado ao canal.\n",
      "2024-09-10 17:02:55,525: Par EPR <quantumnet.objects.epr.Epr object at 0x74cbb97280a0> adicionado ao canal.\n",
      "2024-09-10 17:02:55,528: Par EPR <quantumnet.objects.epr.Epr object at 0x74cbb9728250> adicionado ao canal.\n",
      "2024-09-10 17:02:55,530: Par EPR <quantumnet.objects.epr.Epr object at 0x74cbb9728310> adicionado ao canal.\n",
      "2024-09-10 17:02:55,533: Par EPR <quantumnet.objects.epr.Epr object at 0x74cbb9728070> adicionado ao canal.\n",
      "2024-09-10 17:02:55,536: Par EPR <quantumnet.objects.epr.Epr object at 0x74cbb9728460> adicionado ao canal.\n",
      "2024-09-10 17:02:55,539: Par EPR <quantumnet.objects.epr.Epr object at 0x74cbb97282b0> adicionado ao canal.\n",
      "2024-09-10 17:02:55,542: Par EPR <quantumnet.objects.epr.Epr object at 0x74cbb96f7fa0> adicionado ao canal.\n",
      "2024-09-10 17:02:55,544: Par EPR <quantumnet.objects.epr.Epr object at 0x74cbb9728400> adicionado ao canal.\n",
      "2024-09-10 17:02:55,547: Par EPR <quantumnet.objects.epr.Epr object at 0x74cbb97283a0> adicionado ao canal.\n",
      "2024-09-10 17:02:55,549: Par EPR <quantumnet.objects.epr.Epr object at 0x74cbb9728370> adicionado ao canal.\n",
      "2024-09-10 17:02:55,551: Par EPR <quantumnet.objects.epr.Epr object at 0x74cbb9728490> adicionado ao canal.\n",
      "2024-09-10 17:02:55,554: Par EPR <quantumnet.objects.epr.Epr object at 0x74cbb9728700> adicionado ao canal.\n",
      "2024-09-10 17:02:55,556: Par EPR <quantumnet.objects.epr.Epr object at 0x74cbb97286a0> adicionado ao canal.\n",
      "2024-09-10 17:02:55,558: Par EPR <quantumnet.objects.epr.Epr object at 0x74cbb9728220> adicionado ao canal.\n",
      "2024-09-10 17:02:55,562: Par EPR <quantumnet.objects.epr.Epr object at 0x74cbb97285e0> adicionado ao canal.\n",
      "2024-09-10 17:02:55,564: Par EPR <quantumnet.objects.epr.Epr object at 0x74cbb9728520> adicionado ao canal.\n",
      "2024-09-10 17:02:55,566: Par EPR <quantumnet.objects.epr.Epr object at 0x74cbb9728130> adicionado ao canal.\n",
      "2024-09-10 17:02:55,568: Par EPR <quantumnet.objects.epr.Epr object at 0x74cbb97287f0> adicionado ao canal.\n",
      "2024-09-10 17:02:55,569: Par EPR <quantumnet.objects.epr.Epr object at 0x74cbb97288b0> adicionado ao canal.\n",
      "2024-09-10 17:02:55,571: Par EPR <quantumnet.objects.epr.Epr object at 0x74cbb97287c0> adicionado ao canal.\n",
      "2024-09-10 17:02:55,573: Par EPR <quantumnet.objects.epr.Epr object at 0x74cbb97286d0> adicionado ao canal.\n",
      "2024-09-10 17:02:55,575: Par EPR <quantumnet.objects.epr.Epr object at 0x74cbb9728820> adicionado ao canal.\n",
      "2024-09-10 17:02:55,577: Par EPR <quantumnet.objects.epr.Epr object at 0x74cbb9728580> adicionado ao canal.\n",
      "2024-09-10 17:02:55,579: Par EPR <quantumnet.objects.epr.Epr object at 0x74cbb9728b50> adicionado ao canal.\n",
      "2024-09-10 17:02:55,581: Par EPR <quantumnet.objects.epr.Epr object at 0x74cbb9728a90> adicionado ao canal.\n",
      "2024-09-10 17:02:55,583: Par EPR <quantumnet.objects.epr.Epr object at 0x74cbb9728a60> adicionado ao canal.\n",
      "2024-09-10 17:02:55,586: Par EPR <quantumnet.objects.epr.Epr object at 0x74cbb9728670> adicionado ao canal.\n",
      "2024-09-10 17:02:55,587: Par EPR <quantumnet.objects.epr.Epr object at 0x74cbb9728970> adicionado ao canal.\n",
      "2024-09-10 17:02:55,590: Par EPR <quantumnet.objects.epr.Epr object at 0x74cbb9728cd0> adicionado ao canal.\n",
      "2024-09-10 17:02:55,591: Par EPR <quantumnet.objects.epr.Epr object at 0x74cbb9728ac0> adicionado ao canal.\n",
      "2024-09-10 17:02:55,595: Par EPR <quantumnet.objects.epr.Epr object at 0x74cbb9728df0> adicionado ao canal.\n",
      "2024-09-10 17:02:55,597: Par EPR <quantumnet.objects.epr.Epr object at 0x74cbb9728880> adicionado ao canal.\n",
      "2024-09-10 17:02:55,601: Par EPR <quantumnet.objects.epr.Epr object at 0x74cbb9728dc0> adicionado ao canal.\n",
      "2024-09-10 17:02:55,604: Par EPR <quantumnet.objects.epr.Epr object at 0x74cbb9728d60> adicionado ao canal.\n",
      "2024-09-10 17:02:55,607: Par EPR <quantumnet.objects.epr.Epr object at 0x74cbb9728c10> adicionado ao canal.\n",
      "2024-09-10 17:02:55,610: Par EPR <quantumnet.objects.epr.Epr object at 0x74cbb9728e80> adicionado ao canal.\n",
      "2024-09-10 17:02:55,616: Par EPR <quantumnet.objects.epr.Epr object at 0x74cbb9728b20> adicionado ao canal.\n",
      "2024-09-10 17:02:55,625: Par EPR <quantumnet.objects.epr.Epr object at 0x74cbb9728f70> adicionado ao canal.\n",
      "2024-09-10 17:02:55,637: Par EPR <quantumnet.objects.epr.Epr object at 0x74cbb97290f0> adicionado ao canal.\n",
      "2024-09-10 17:02:55,649: Par EPR <quantumnet.objects.epr.Epr object at 0x74cbb9729000> adicionado ao canal.\n",
      "2024-09-10 17:02:55,662: Par EPR <quantumnet.objects.epr.Epr object at 0x74cbb9729120> adicionado ao canal.\n",
      "2024-09-10 17:02:55,672: Par EPR <quantumnet.objects.epr.Epr object at 0x74cbb97290c0> adicionado ao canal.\n",
      "2024-09-10 17:02:55,678: Par EPR <quantumnet.objects.epr.Epr object at 0x74cbb9728fa0> adicionado ao canal.\n",
      "2024-09-10 17:02:55,682: Par EPR <quantumnet.objects.epr.Epr object at 0x74cbb9729180> adicionado ao canal.\n",
      "2024-09-10 17:02:55,686: Par EPR <quantumnet.objects.epr.Epr object at 0x74cbb9729330> adicionado ao canal.\n",
      "2024-09-10 17:02:55,688: Par EPR <quantumnet.objects.epr.Epr object at 0x74cbb97293c0> adicionado ao canal.\n"
     ]
    },
    {
     "name": "stdout",
     "output_type": "stream",
     "text": [
      "Pares EPRs adicionados\n"
     ]
    },
    {
     "data": {
      "image/png": "[encoded data removed]",
      "text/plain": [
       "<Figure size 640x480 with 1 Axes>"
      ]
     },
     "metadata": {},
     "output_type": "display_data"
    }
   ],
   "source": [
    "rede = Network()\n",
    "rede.set_ready_topology(\"Grade\", 3,3)\n",
    "rede.draw()"
   ]
  },
  {
   "cell_type": "markdown",
   "metadata": {},
   "source": [
    "##### Definindo os hosts alice e bob nos nós 1 e 2 respectivamente."
   ]
  },
  {
   "cell_type": "code",
   "execution_count": 3,
   "metadata": {},
   "outputs": [],
   "source": [
    "alice = rede.get_host(0)\n",
    "bob = rede.get_host(8)"
   ]
  },
  {
   "cell_type": "markdown",
   "metadata": {},
   "source": [
    "##### Verificação da memória de Alice e Bob."
   ]
  },
  {
   "cell_type": "code",
   "execution_count": 4,
   "metadata": {},
   "outputs": [
    {
     "name": "stdout",
     "output_type": "stream",
     "text": [
      "memoria de alice: [<quantumnet.objects.qubit.Qubit object at 0x74cbb96b7f40>, <quantumnet.objects.qubit.Qubit object at 0x74cbb96b7760>, <quantumnet.objects.qubit.Qubit object at 0x74cbb96b7e20>, <quantumnet.objects.qubit.Qubit object at 0x74cbb96b7c70>, <quantumnet.objects.qubit.Qubit object at 0x74cbb96b7b20>, <quantumnet.objects.qubit.Qubit object at 0x74cbb96b7eb0>, <quantumnet.objects.qubit.Qubit object at 0x74cbb96b7970>, <quantumnet.objects.qubit.Qubit object at 0x74cbb96b7880>, <quantumnet.objects.qubit.Qubit object at 0x74cbb96b7f10>, <quantumnet.objects.qubit.Qubit object at 0x74cbb96b7940>]\n",
      "memoria de bob: [<quantumnet.objects.qubit.Qubit object at 0x74cbb96f5a80>, <quantumnet.objects.qubit.Qubit object at 0x74cbb96f5cc0>, <quantumnet.objects.qubit.Qubit object at 0x74cbb96f5f60>, <quantumnet.objects.qubit.Qubit object at 0x74cbb96f5e70>, <quantumnet.objects.qubit.Qubit object at 0x74cbb96f6110>, <quantumnet.objects.qubit.Qubit object at 0x74cbb96f62f0>, <quantumnet.objects.qubit.Qubit object at 0x74cbb96f6260>, <quantumnet.objects.qubit.Qubit object at 0x74cbb96f5d50>, <quantumnet.objects.qubit.Qubit object at 0x74cbb96f64a0>, <quantumnet.objects.qubit.Qubit object at 0x74cbb96f61a0>]\n"
     ]
    }
   ],
   "source": [
    "print('memoria de alice:',(alice.memory))\n",
    "print('memoria de bob:',(bob.memory))"
   ]
  },
  {
   "cell_type": "markdown",
   "metadata": {},
   "source": [
    "##### Nesse função, é enviado um request para a rede, solicitando uma rota para a transmissão de 2 qubits de Alice(0) para Bob(8)."
   ]
  },
  {
   "cell_type": "code",
   "execution_count": 5,
   "metadata": {},
   "outputs": [
    {
     "name": "stderr",
     "output_type": "stream",
     "text": [
      "2024-09-10 17:02:57,485: Timeslot 1: Tentativa de transmissão 1 entre 0 e 8.\n",
      "2024-09-10 17:02:57,509: Timeslot 2: Buscando rota válida entre 0 e 8.\n",
      "2024-09-10 17:02:57,531: Rota válida encontrada: [0, 3, 6, 7, 8]\n",
      "2024-09-10 17:02:57,548: Timeslot 3: Buscando rota válida entre 0 e 8.\n",
      "2024-09-10 17:02:57,556: Rota válida encontrada: [0, 3, 6, 7, 8]\n",
      "2024-09-10 17:02:57,559: Transmissão de 2 qubits entre 0 e 8 concluída com sucesso. Timeslot: 3\n"
     ]
    },
    {
     "data": {
      "text/plain": [
       "True"
      ]
     },
     "execution_count": 5,
     "metadata": {},
     "output_type": "execute_result"
    }
   ],
   "source": [
    "rede.transportlayer.request_transmission(0,8, 2)"
   ]
  },
  {
   "cell_type": "markdown",
   "metadata": {},
   "source": [
    "##### o protocolo de teletrnasporte realiza a transmissão de Alice para Bob."
   ]
  },
  {
   "cell_type": "code",
   "execution_count": 6,
   "metadata": {},
   "outputs": [
    {
     "name": "stderr",
     "output_type": "stream",
     "text": [
      "2024-09-10 17:02:57,662: Timeslot 4: Iniciando teletransporte entre 0 e 8.\n",
      "2024-09-10 17:02:57,671: Timeslot 5: Buscando rota válida entre 0 e 8.\n",
      "2024-09-10 17:02:57,677: Rota válida encontrada: [0, 3, 6, 7, 8]\n",
      "2024-09-10 17:02:57,679: Teletransporte de qubit de 0 para 8 foi bem-sucedido com fidelidade final de 0.1380071069635072. Timeslot: 5\n"
     ]
    },
    {
     "data": {
      "text/plain": [
       "True"
      ]
     },
     "execution_count": 6,
     "metadata": {},
     "output_type": "execute_result"
    }
   ],
   "source": [
    "rede.transportlayer.teleportation_protocol(0,8)"
   ]
  },
  {
   "cell_type": "code",
   "execution_count": 7,
   "metadata": {},
   "outputs": [
    {
     "name": "stdout",
     "output_type": "stream",
     "text": [
      "memoria de alice: [<quantumnet.objects.qubit.Qubit object at 0x74cbb96b7760>, <quantumnet.objects.qubit.Qubit object at 0x74cbb96b7e20>, <quantumnet.objects.qubit.Qubit object at 0x74cbb96b7c70>, <quantumnet.objects.qubit.Qubit object at 0x74cbb96b7b20>, <quantumnet.objects.qubit.Qubit object at 0x74cbb96b7eb0>, <quantumnet.objects.qubit.Qubit object at 0x74cbb96b7970>, <quantumnet.objects.qubit.Qubit object at 0x74cbb96b7880>, <quantumnet.objects.qubit.Qubit object at 0x74cbb96b7f10>, <quantumnet.objects.qubit.Qubit object at 0x74cbb96b7940>]\n",
      "memoria de bob: [<quantumnet.objects.qubit.Qubit object at 0x74cbb96f5a80>, <quantumnet.objects.qubit.Qubit object at 0x74cbb96f5cc0>, <quantumnet.objects.qubit.Qubit object at 0x74cbb96f5f60>, <quantumnet.objects.qubit.Qubit object at 0x74cbb96f5e70>, <quantumnet.objects.qubit.Qubit object at 0x74cbb96f6110>, <quantumnet.objects.qubit.Qubit object at 0x74cbb96f62f0>, <quantumnet.objects.qubit.Qubit object at 0x74cbb96f6260>, <quantumnet.objects.qubit.Qubit object at 0x74cbb96f5d50>, <quantumnet.objects.qubit.Qubit object at 0x74cbb96f64a0>, <quantumnet.objects.qubit.Qubit object at 0x74cbb96b7f40>]\n"
     ]
    }
   ],
   "source": [
    "print('memoria de alice:',(alice.memory))\n",
    "print('memoria de bob:',(bob.memory))"
   ]
  },
  {
   "cell_type": "markdown",
   "metadata": {},
   "source": [
    "##### A função a seguir é chamada para que seja realizada a requesição de uma rota para que haja a transmissão de n qubits necessários. Ela vai executar toda a camada de transporte."
   ]
  },
  {
   "cell_type": "code",
   "execution_count": 8,
   "metadata": {},
   "outputs": [
    {
     "name": "stderr",
     "output_type": "stream",
     "text": [
      "2024-09-10 17:02:58,052: Número insuficiente de qubits na memória de Alice (Host 0). Criando mais qubits para completar os 11 necessários.\n",
      "2024-09-10 17:02:58,060: Timeslot antes da criação do qubit: 6\n",
      "2024-09-10 17:02:58,065: Qubit 90 adicionado à memória do Host 0.\n",
      "2024-09-10 17:02:58,069: Qubit 90 criado com fidelidade inicial 0.7363776796588904 e adicionado à memória do Host 0.\n",
      "2024-09-10 17:02:58,074: Qubit criado para Alice (Host 0) no timeslot: 7\n",
      "2024-09-10 17:02:58,078: Timeslot antes da criação do qubit: 8\n",
      "2024-09-10 17:02:58,083: Qubit 91 adicionado à memória do Host 0.\n",
      "2024-09-10 17:02:58,086: Qubit 91 criado com fidelidade inicial 0.08705460655467101 e adicionado à memória do Host 0.\n",
      "2024-09-10 17:02:58,088: Qubit criado para Alice (Host 0) no timeslot: 9\n",
      "2024-09-10 17:02:58,092: 2 qubits criados para Alice (Host 0). Alice agora possui 11 qubits na memória.\n",
      "2024-09-10 17:02:58,097: Timeslot 10: Buscando rota válida entre 0 e 8.\n",
      "2024-09-10 17:02:58,104: Rota válida encontrada: [0, 3, 6, 7, 8]\n",
      "2024-09-10 17:02:58,110: Timeslot 11: Buscando rota válida entre 0 e 8.\n",
      "2024-09-10 17:02:58,115: Rota válida encontrada: [0, 3, 6, 7, 8]\n",
      "2024-09-10 17:02:58,119: Timeslot 12: Buscando rota válida entre 0 e 8.\n",
      "2024-09-10 17:02:58,122: Rota válida encontrada: [0, 3, 6, 7, 8]\n",
      "2024-09-10 17:02:58,125: Timeslot 13: Buscando rota válida entre 0 e 8.\n",
      "2024-09-10 17:02:58,128: Rota válida encontrada: [0, 3, 6, 7, 8]\n",
      "2024-09-10 17:02:58,131: Timeslot 14: Buscando rota válida entre 0 e 8.\n",
      "2024-09-10 17:02:58,136: Rota válida encontrada: [0, 3, 6, 7, 8]\n",
      "2024-09-10 17:02:58,140: Timeslot 15: Buscando rota válida entre 0 e 8.\n",
      "2024-09-10 17:02:58,143: Rota válida encontrada: [0, 3, 6, 7, 8]\n",
      "2024-09-10 17:02:58,146: Timeslot 16: Buscando rota válida entre 0 e 8.\n",
      "2024-09-10 17:02:58,150: Rota válida encontrada: [0, 3, 6, 7, 8]\n",
      "2024-09-10 17:02:58,156: Timeslot 17: Buscando rota válida entre 0 e 8.\n",
      "2024-09-10 17:02:58,163: Rota válida encontrada: [0, 3, 6, 7, 8]\n",
      "2024-09-10 17:02:58,167: Timeslot 18: Buscando rota válida entre 0 e 8.\n",
      "2024-09-10 17:02:58,170: Rota válida encontrada: [0, 3, 6, 7, 8]\n",
      "2024-09-10 17:02:58,170: Timeslot 19: Buscando rota válida entre 0 e 8.\n",
      "2024-09-10 17:02:58,177: Rota válida encontrada: [0, 3, 6, 7, 8]\n",
      "2024-09-10 17:02:58,180: Timeslot 20: Buscando rota válida entre 0 e 8.\n",
      "2024-09-10 17:02:58,184: Rota válida encontrada: [0, 3, 6, 7, 8]\n",
      "2024-09-10 17:02:58,190: Teletransporte de qubit de 0 para 8 na rota [0, 3, 6, 7, 8] foi bem-sucedido com fidelidade final de 0.03798430499913652. Timeslot: 21\n",
      "2024-09-10 17:02:58,193: Teletransporte de qubit de 0 para 8 na rota [0, 3, 6, 7, 8] foi bem-sucedido com fidelidade final de 0.7507479304922922. Timeslot: 22\n",
      "2024-09-10 17:02:58,198: Teletransporte de qubit de 0 para 8 na rota [0, 3, 6, 7, 8] foi bem-sucedido com fidelidade final de 0.3323591655904147. Timeslot: 23\n",
      "2024-09-10 17:02:58,201: Teletransporte de qubit de 0 para 8 na rota [0, 3, 6, 7, 8] foi bem-sucedido com fidelidade final de 0.6210329208689557. Timeslot: 24\n",
      "2024-09-10 17:02:58,205: Teletransporte de qubit de 0 para 8 na rota [0, 3, 6, 7, 8] foi bem-sucedido com fidelidade final de 0.5419995605451978. Timeslot: 25\n",
      "2024-09-10 17:02:58,208: Teletransporte de qubit de 0 para 8 na rota [0, 3, 6, 7, 8] foi bem-sucedido com fidelidade final de 0.9874675364284256. Timeslot: 26\n",
      "2024-09-10 17:02:58,211: Teletransporte de qubit de 0 para 8 na rota [0, 3, 6, 7, 8] foi bem-sucedido com fidelidade final de 0.5092643835231403. Timeslot: 27\n",
      "2024-09-10 17:02:58,216: Teletransporte de qubit de 0 para 8 na rota [0, 3, 6, 7, 8] foi bem-sucedido com fidelidade final de 0.3038803484765624. Timeslot: 28\n",
      "2024-09-10 17:02:58,220: Teletransporte de qubit de 0 para 8 na rota [0, 3, 6, 7, 8] foi bem-sucedido com fidelidade final de 0.6320602001970286. Timeslot: 29\n",
      "2024-09-10 17:02:58,223: Teletransporte de qubit de 0 para 8 na rota [0, 3, 6, 7, 8] foi bem-sucedido com fidelidade final de 0.7363776796588904. Timeslot: 30\n",
      "2024-09-10 17:02:58,226: Teletransporte de qubit de 0 para 8 na rota [0, 3, 6, 7, 8] foi bem-sucedido com fidelidade final de 0.08705460655467101. Timeslot: 31\n",
      "2024-09-10 17:02:58,230: Transmissão e teletransporte de 11 qubits entre 0 e 8 concluídos com sucesso. Timeslot: 31\n"
     ]
    },
    {
     "data": {
      "text/plain": [
       "True"
      ]
     },
     "execution_count": 8,
     "metadata": {},
     "output_type": "execute_result"
    }
   ],
   "source": [
    "rede.transportlayer.run_transport_layer(0,8,11)"
   ]
  },
  {
   "cell_type": "code",
   "execution_count": 9,
   "metadata": {},
   "outputs": [
    {
     "name": "stderr",
     "output_type": "stream",
     "text": [
      "2024-09-10 17:02:58,307: Qubits usados na camada PhysicalLayer: 2\n",
      "2024-09-10 17:02:58,324: Qubits usados na camada LinkLayer: 0\n",
      "2024-09-10 17:02:58,342: Qubits usados na camada TransportLayer: 11\n",
      "2024-09-10 17:02:58,358: Qubits usados na camada ApplicationLayer: 0\n"
     ]
    },
    {
     "data": {
      "text/plain": [
       "13"
      ]
     },
     "execution_count": 9,
     "metadata": {},
     "output_type": "execute_result"
    }
   ],
   "source": [
    "rede.get_total_useds_qubits()"
   ]
  },
  {
   "cell_type": "code",
   "execution_count": 10,
   "metadata": {},
   "outputs": [
    {
     "name": "stdout",
     "output_type": "stream",
     "text": [
      "memoria de alice: []\n",
      "memoria de bob: [<quantumnet.objects.qubit.Qubit object at 0x74cbb96f5a80>, <quantumnet.objects.qubit.Qubit object at 0x74cbb96f5cc0>, <quantumnet.objects.qubit.Qubit object at 0x74cbb96f5f60>, <quantumnet.objects.qubit.Qubit object at 0x74cbb96f5e70>, <quantumnet.objects.qubit.Qubit object at 0x74cbb96f6110>, <quantumnet.objects.qubit.Qubit object at 0x74cbb96f62f0>, <quantumnet.objects.qubit.Qubit object at 0x74cbb96f6260>, <quantumnet.objects.qubit.Qubit object at 0x74cbb96f5d50>, <quantumnet.objects.qubit.Qubit object at 0x74cbb96f64a0>, <quantumnet.objects.qubit.Qubit object at 0x74cbb96b7f40>, <quantumnet.objects.qubit.Qubit object at 0x74cbb96b7760>, <quantumnet.objects.qubit.Qubit object at 0x74cbb96b7e20>, <quantumnet.objects.qubit.Qubit object at 0x74cbb96b7c70>, <quantumnet.objects.qubit.Qubit object at 0x74cbb96b7b20>, <quantumnet.objects.qubit.Qubit object at 0x74cbb96b7eb0>, <quantumnet.objects.qubit.Qubit object at 0x74cbb96b7970>, <quantumnet.objects.qubit.Qubit object at 0x74cbb96b7880>, <quantumnet.objects.qubit.Qubit object at 0x74cbb96b7f10>, <quantumnet.objects.qubit.Qubit object at 0x74cbb96b7940>, <quantumnet.objects.qubit.Qubit object at 0x74cbb614b940>, <quantumnet.objects.qubit.Qubit object at 0x74cbb96b7130>]\n"
     ]
    }
   ],
   "source": [
    "print('memoria de alice:',(alice.memory))\n",
    "print('memoria de bob:',(bob.memory))"
   ]
  },
  {
   "cell_type": "markdown",
   "metadata": {},
   "source": [
    "##### Essa função apresenta uma lista de métricas do transmissão dos qubits."
   ]
  },
  {
   "cell_type": "code",
   "execution_count": 11,
   "metadata": {},
   "outputs": [
    {
     "data": {
      "text/plain": [
       "[{'route': [0, 3, 6, 7, 8], 'alice_id': 0, 'bob_id': 8},\n",
       " {'route': [0, 3, 6, 7, 8], 'alice_id': 0, 'bob_id': 8},\n",
       " {'alice_id': 0,\n",
       "  'bob_id': 8,\n",
       "  'route': [0, 3, 6, 7, 8],\n",
       "  'fidelity_alice': 0.6689645502734226,\n",
       "  'fidelity_bob': 0.20629958180459673,\n",
       "  'fidelity_route': 1.0,\n",
       "  'F_final': 0.1380071069635072,\n",
       "  'qubit_alice': <quantumnet.objects.qubit.Qubit at 0x74cbb96b7f40>,\n",
       "  'qubit_bob': <quantumnet.objects.qubit.Qubit at 0x74cbb96f61a0>,\n",
       "  'success': True}]"
      ]
     },
     "execution_count": 11,
     "metadata": {},
     "output_type": "execute_result"
    }
   ],
   "source": [
    "rede.transportlayer.get_teleported_qubits()"
   ]
  },
  {
   "cell_type": "code",
   "execution_count": 12,
   "metadata": {},
   "outputs": [
    {
     "name": "stderr",
     "output_type": "stream",
     "text": [
      "2024-09-10 17:02:58,837: Fidelidade do EPR na rota 0 -> 3: 1.0\n",
      "2024-09-10 17:02:58,838: Fidelidade do EPR na rota 0 -> 3: 1.0\n",
      "2024-09-10 17:02:58,839: Fidelidade do EPR na rota 0 -> 3: 1.0\n",
      "2024-09-10 17:02:58,840: Fidelidade do EPR na rota 0 -> 3: 1.0\n",
      "2024-09-10 17:02:58,841: Fidelidade do EPR na rota 0 -> 3: 1.0\n",
      "2024-09-10 17:02:58,842: Fidelidade do EPR na rota 0 -> 3: 1.0\n",
      "2024-09-10 17:02:58,843: Fidelidade do EPR na rota 0 -> 3: 1.0\n",
      "2024-09-10 17:02:58,843: Fidelidade do EPR na rota 0 -> 3: 1.0\n",
      "2024-09-10 17:02:58,844: Fidelidade do EPR na rota 0 -> 3: 1.0\n",
      "2024-09-10 17:02:58,844: Fidelidade do EPR na rota 3 -> 6: 1.0\n",
      "2024-09-10 17:02:58,845: Fidelidade do EPR na rota 3 -> 6: 1.0\n",
      "2024-09-10 17:02:58,845: Fidelidade do EPR na rota 3 -> 6: 1.0\n",
      "2024-09-10 17:02:58,846: Fidelidade do EPR na rota 3 -> 6: 1.0\n",
      "2024-09-10 17:02:58,847: Fidelidade do EPR na rota 3 -> 6: 1.0\n",
      "2024-09-10 17:02:58,848: Fidelidade do EPR na rota 3 -> 6: 1.0\n",
      "2024-09-10 17:02:58,848: Fidelidade do EPR na rota 3 -> 6: 1.0\n",
      "2024-09-10 17:02:58,849: Fidelidade do EPR na rota 3 -> 6: 1.0\n",
      "2024-09-10 17:02:58,849: Fidelidade do EPR na rota 3 -> 6: 1.0\n",
      "2024-09-10 17:02:58,850: Fidelidade do EPR na rota 6 -> 7: 1.0\n",
      "2024-09-10 17:02:58,850: Fidelidade do EPR na rota 6 -> 7: 1.0\n",
      "2024-09-10 17:02:58,851: Fidelidade do EPR na rota 6 -> 7: 1.0\n",
      "2024-09-10 17:02:58,852: Fidelidade do EPR na rota 6 -> 7: 1.0\n",
      "2024-09-10 17:02:58,854: Fidelidade do EPR na rota 6 -> 7: 1.0\n",
      "2024-09-10 17:02:58,854: Fidelidade do EPR na rota 6 -> 7: 1.0\n",
      "2024-09-10 17:02:58,855: Fidelidade do EPR na rota 6 -> 7: 1.0\n",
      "2024-09-10 17:02:58,856: Fidelidade do EPR na rota 6 -> 7: 1.0\n",
      "2024-09-10 17:02:58,856: Fidelidade do EPR na rota 6 -> 7: 1.0\n",
      "2024-09-10 17:02:58,857: Fidelidade do EPR na rota 7 -> 8: 1.0\n",
      "2024-09-10 17:02:58,858: Fidelidade do EPR na rota 7 -> 8: 1.0\n",
      "2024-09-10 17:02:58,858: Fidelidade do EPR na rota 7 -> 8: 1.0\n",
      "2024-09-10 17:02:58,859: Fidelidade do EPR na rota 7 -> 8: 1.0\n",
      "2024-09-10 17:02:58,860: Fidelidade do EPR na rota 7 -> 8: 1.0\n",
      "2024-09-10 17:02:58,860: Fidelidade do EPR na rota 7 -> 8: 1.0\n",
      "2024-09-10 17:02:58,861: Fidelidade do EPR na rota 7 -> 8: 1.0\n",
      "2024-09-10 17:02:58,866: Fidelidade do EPR na rota 7 -> 8: 1.0\n",
      "2024-09-10 17:02:58,873: Fidelidade do EPR na rota 7 -> 8: 1.0\n",
      "2024-09-10 17:02:58,876: Fidelidade do EPR na rota 0 -> 3: 1.0\n",
      "2024-09-10 17:02:58,881: Fidelidade do EPR na rota 0 -> 3: 1.0\n",
      "2024-09-10 17:02:58,883: Fidelidade do EPR na rota 0 -> 3: 1.0\n",
      "2024-09-10 17:02:58,884: Fidelidade do EPR na rota 0 -> 3: 1.0\n",
      "2024-09-10 17:02:58,884: Fidelidade do EPR na rota 0 -> 3: 1.0\n",
      "2024-09-10 17:02:58,885: Fidelidade do EPR na rota 0 -> 3: 1.0\n",
      "2024-09-10 17:02:58,886: Fidelidade do EPR na rota 0 -> 3: 1.0\n",
      "2024-09-10 17:02:58,886: Fidelidade do EPR na rota 0 -> 3: 1.0\n",
      "2024-09-10 17:02:58,887: Fidelidade do EPR na rota 0 -> 3: 1.0\n",
      "2024-09-10 17:02:58,891: Fidelidade do EPR na rota 3 -> 6: 1.0\n",
      "2024-09-10 17:02:58,894: Fidelidade do EPR na rota 3 -> 6: 1.0\n",
      "2024-09-10 17:02:58,898: Fidelidade do EPR na rota 3 -> 6: 1.0\n",
      "2024-09-10 17:02:58,899: Fidelidade do EPR na rota 3 -> 6: 1.0\n",
      "2024-09-10 17:02:58,903: Fidelidade do EPR na rota 3 -> 6: 1.0\n",
      "2024-09-10 17:02:58,904: Fidelidade do EPR na rota 3 -> 6: 1.0\n",
      "2024-09-10 17:02:58,905: Fidelidade do EPR na rota 3 -> 6: 1.0\n",
      "2024-09-10 17:02:58,910: Fidelidade do EPR na rota 3 -> 6: 1.0\n",
      "2024-09-10 17:02:58,914: Fidelidade do EPR na rota 3 -> 6: 1.0\n",
      "2024-09-10 17:02:58,920: Fidelidade do EPR na rota 6 -> 7: 1.0\n",
      "2024-09-10 17:02:58,923: Fidelidade do EPR na rota 6 -> 7: 1.0\n",
      "2024-09-10 17:02:58,925: Fidelidade do EPR na rota 6 -> 7: 1.0\n",
      "2024-09-10 17:02:58,927: Fidelidade do EPR na rota 6 -> 7: 1.0\n",
      "2024-09-10 17:02:58,929: Fidelidade do EPR na rota 6 -> 7: 1.0\n",
      "2024-09-10 17:02:58,930: Fidelidade do EPR na rota 6 -> 7: 1.0\n",
      "2024-09-10 17:02:58,932: Fidelidade do EPR na rota 6 -> 7: 1.0\n",
      "2024-09-10 17:02:58,935: Fidelidade do EPR na rota 6 -> 7: 1.0\n",
      "2024-09-10 17:02:58,939: Fidelidade do EPR na rota 6 -> 7: 1.0\n",
      "2024-09-10 17:02:58,942: Fidelidade do EPR na rota 7 -> 8: 1.0\n",
      "2024-09-10 17:02:58,946: Fidelidade do EPR na rota 7 -> 8: 1.0\n",
      "2024-09-10 17:02:58,949: Fidelidade do EPR na rota 7 -> 8: 1.0\n",
      "2024-09-10 17:02:58,953: Fidelidade do EPR na rota 7 -> 8: 1.0\n",
      "2024-09-10 17:02:58,957: Fidelidade do EPR na rota 7 -> 8: 1.0\n",
      "2024-09-10 17:02:58,960: Fidelidade do EPR na rota 7 -> 8: 1.0\n",
      "2024-09-10 17:02:58,964: Fidelidade do EPR na rota 7 -> 8: 1.0\n",
      "2024-09-10 17:02:58,969: Fidelidade do EPR na rota 7 -> 8: 1.0\n",
      "2024-09-10 17:02:58,973: Fidelidade do EPR na rota 7 -> 8: 1.0\n",
      "2024-09-10 17:02:58,974: Fidelidade do EPR na rota 0 -> 3: 1.0\n",
      "2024-09-10 17:02:58,976: Fidelidade do EPR na rota 0 -> 3: 1.0\n",
      "2024-09-10 17:02:58,978: Fidelidade do EPR na rota 0 -> 3: 1.0\n",
      "2024-09-10 17:02:58,979: Fidelidade do EPR na rota 0 -> 3: 1.0\n",
      "2024-09-10 17:02:58,983: Fidelidade do EPR na rota 0 -> 3: 1.0\n",
      "2024-09-10 17:02:58,988: Fidelidade do EPR na rota 0 -> 3: 1.0\n",
      "2024-09-10 17:02:58,991: Fidelidade do EPR na rota 0 -> 3: 1.0\n",
      "2024-09-10 17:02:58,995: Fidelidade do EPR na rota 0 -> 3: 1.0\n",
      "2024-09-10 17:02:58,998: Fidelidade do EPR na rota 0 -> 3: 1.0\n",
      "2024-09-10 17:02:58,999: Fidelidade do EPR na rota 3 -> 6: 1.0\n",
      "2024-09-10 17:02:59,002: Fidelidade do EPR na rota 3 -> 6: 1.0\n",
      "2024-09-10 17:02:59,005: Fidelidade do EPR na rota 3 -> 6: 1.0\n",
      "2024-09-10 17:02:59,008: Fidelidade do EPR na rota 3 -> 6: 1.0\n",
      "2024-09-10 17:02:59,009: Fidelidade do EPR na rota 3 -> 6: 1.0\n",
      "2024-09-10 17:02:59,010: Fidelidade do EPR na rota 3 -> 6: 1.0\n",
      "2024-09-10 17:02:59,012: Fidelidade do EPR na rota 3 -> 6: 1.0\n",
      "2024-09-10 17:02:59,014: Fidelidade do EPR na rota 3 -> 6: 1.0\n",
      "2024-09-10 17:02:59,017: Fidelidade do EPR na rota 3 -> 6: 1.0\n",
      "2024-09-10 17:02:59,021: Fidelidade do EPR na rota 6 -> 7: 1.0\n",
      "2024-09-10 17:02:59,024: Fidelidade do EPR na rota 6 -> 7: 1.0\n",
      "2024-09-10 17:02:59,025: Fidelidade do EPR na rota 6 -> 7: 1.0\n",
      "2024-09-10 17:02:59,028: Fidelidade do EPR na rota 6 -> 7: 1.0\n",
      "2024-09-10 17:02:59,029: Fidelidade do EPR na rota 6 -> 7: 1.0\n",
      "2024-09-10 17:02:59,031: Fidelidade do EPR na rota 6 -> 7: 1.0\n",
      "2024-09-10 17:02:59,033: Fidelidade do EPR na rota 6 -> 7: 1.0\n",
      "2024-09-10 17:02:59,038: Fidelidade do EPR na rota 6 -> 7: 1.0\n",
      "2024-09-10 17:02:59,040: Fidelidade do EPR na rota 6 -> 7: 1.0\n",
      "2024-09-10 17:02:59,044: Fidelidade do EPR na rota 7 -> 8: 1.0\n",
      "2024-09-10 17:02:59,047: Fidelidade do EPR na rota 7 -> 8: 1.0\n",
      "2024-09-10 17:02:59,048: Fidelidade do EPR na rota 7 -> 8: 1.0\n",
      "2024-09-10 17:02:59,049: Fidelidade do EPR na rota 7 -> 8: 1.0\n",
      "2024-09-10 17:02:59,054: Fidelidade do EPR na rota 7 -> 8: 1.0\n",
      "2024-09-10 17:02:59,058: Fidelidade do EPR na rota 7 -> 8: 1.0\n",
      "2024-09-10 17:02:59,059: Fidelidade do EPR na rota 7 -> 8: 1.0\n",
      "2024-09-10 17:02:59,062: Fidelidade do EPR na rota 7 -> 8: 1.0\n",
      "2024-09-10 17:02:59,067: Fidelidade do EPR na rota 7 -> 8: 1.0\n",
      "2024-09-10 17:02:59,071: A fidelidade média dos EPRs na camada de transporte é 1.0\n"
     ]
    },
    {
     "data": {
      "text/plain": [
       "1.0"
      ]
     },
     "execution_count": 12,
     "metadata": {},
     "output_type": "execute_result"
    }
   ],
   "source": [
    "rede.transportlayer.avg_fidelity_on_transportlayer()"
   ]
  },
  {
   "cell_type": "code",
   "execution_count": 13,
   "metadata": {},
   "outputs": [
    {
     "data": {
      "text/plain": [
       "31"
      ]
     },
     "execution_count": 13,
     "metadata": {},
     "output_type": "execute_result"
    }
   ],
   "source": [
    "rede.get_timeslot()"
   ]
  }
 ],
 "metadata": {
  "kernelspec": {
   "display_name": "Python 3",
   "language": "python",
   "name": "python3"
  },
  "language_info": {
   "codemirror_mode": {
    "name": "ipython",
    "version": 3
   },
   "file_extension": ".py",
   "mimetype": "text/x-python",
   "name": "python",
   "nbconvert_exporter": "python",
   "pygments_lexer": "ipython3",
   "version": "3.10.12"
  }
 },
 "nbformat": 4,
 "nbformat_minor": 2
}
