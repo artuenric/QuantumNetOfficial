{
 "cells": [
  {
   "cell_type": "markdown",
   "metadata": {},
   "source": [
    "# Guia da Camada de Transporte\n",
    "### IMPORTANDO AS DEPENDÊNCIAS\n",
    "##### O documento tem o objetivo de demostrar o funcionamento da camada de transporte, além de suas funções e ferramentas.\n"
   ]
  },
  {
   "cell_type": "code",
   "execution_count": 1,
   "metadata": {},
   "outputs": [],
   "source": [
    "from quantumnet.components import Network, Host\n",
    "from quantumnet.objects import Qubit, Logger\n",
    "Logger.activate(Logger)"
   ]
  },
  {
   "cell_type": "markdown",
   "metadata": {},
   "source": [
    "##### Instanciando a rede, e setando a topologia."
   ]
  },
  {
   "cell_type": "code",
   "execution_count": 2,
   "metadata": {},
   "outputs": [
    {
     "name": "stderr",
     "output_type": "stream",
     "text": [
      "2024-09-06 15:53:16,185: Qubit 0 adicionado à memória do Host 0.\n",
      "2024-09-06 15:53:16,187: Qubit 0 criado com fidelidade inicial 0.8630440269948967 e adicionado à memória do Host 0.\n",
      "2024-09-06 15:53:16,187: Qubit 1 adicionado à memória do Host 0.\n",
      "2024-09-06 15:53:16,188: Qubit 1 criado com fidelidade inicial 0.2728578497672314 e adicionado à memória do Host 0.\n",
      "2024-09-06 15:53:16,189: Qubit 2 adicionado à memória do Host 0.\n",
      "2024-09-06 15:53:16,189: Qubit 2 criado com fidelidade inicial 0.33147356354443835 e adicionado à memória do Host 0.\n",
      "2024-09-06 15:53:16,189: Qubit 3 adicionado à memória do Host 0.\n",
      "2024-09-06 15:53:16,190: Qubit 3 criado com fidelidade inicial 0.392698465160332 e adicionado à memória do Host 0.\n",
      "2024-09-06 15:53:16,191: Qubit 4 adicionado à memória do Host 0.\n",
      "2024-09-06 15:53:16,193: Qubit 4 criado com fidelidade inicial 0.8346452667864227 e adicionado à memória do Host 0.\n",
      "2024-09-06 15:53:16,194: Qubit 5 adicionado à memória do Host 0.\n",
      "2024-09-06 15:53:16,194: Qubit 5 criado com fidelidade inicial 0.7421804850856258 e adicionado à memória do Host 0.\n",
      "2024-09-06 15:53:16,195: Qubit 6 adicionado à memória do Host 0.\n",
      "2024-09-06 15:53:16,195: Qubit 6 criado com fidelidade inicial 0.8373752331244302 e adicionado à memória do Host 0.\n",
      "2024-09-06 15:53:16,196: Qubit 7 adicionado à memória do Host 0.\n",
      "2024-09-06 15:53:16,197: Qubit 7 criado com fidelidade inicial 0.307178169139553 e adicionado à memória do Host 0.\n",
      "2024-09-06 15:53:16,198: Qubit 8 adicionado à memória do Host 0.\n",
      "2024-09-06 15:53:16,199: Qubit 8 criado com fidelidade inicial 0.3532549100433249 e adicionado à memória do Host 0.\n",
      "2024-09-06 15:53:16,200: Qubit 9 adicionado à memória do Host 0.\n",
      "2024-09-06 15:53:16,201: Qubit 9 criado com fidelidade inicial 0.1750066026101924 e adicionado à memória do Host 0.\n",
      "2024-09-06 15:53:16,202: Qubit 10 adicionado à memória do Host 1.\n",
      "2024-09-06 15:53:16,203: Qubit 10 criado com fidelidade inicial 0.9612168090302533 e adicionado à memória do Host 1.\n",
      "2024-09-06 15:53:16,204: Qubit 11 adicionado à memória do Host 1.\n",
      "2024-09-06 15:53:16,204: Qubit 11 criado com fidelidade inicial 0.2755277113543909 e adicionado à memória do Host 1.\n",
      "2024-09-06 15:53:16,205: Qubit 12 adicionado à memória do Host 1.\n",
      "2024-09-06 15:53:16,208: Qubit 12 criado com fidelidade inicial 0.28279028635150427 e adicionado à memória do Host 1.\n",
      "2024-09-06 15:53:16,212: Qubit 13 adicionado à memória do Host 1.\n",
      "2024-09-06 15:53:16,212: Qubit 13 criado com fidelidade inicial 0.46178640884273336 e adicionado à memória do Host 1.\n",
      "2024-09-06 15:53:16,213: Qubit 14 adicionado à memória do Host 1.\n",
      "2024-09-06 15:53:16,214: Qubit 14 criado com fidelidade inicial 0.3156939119838098 e adicionado à memória do Host 1.\n",
      "2024-09-06 15:53:16,214: Qubit 15 adicionado à memória do Host 1.\n",
      "2024-09-06 15:53:16,216: Qubit 15 criado com fidelidade inicial 0.10026067245894521 e adicionado à memória do Host 1.\n",
      "2024-09-06 15:53:16,217: Qubit 16 adicionado à memória do Host 1.\n",
      "2024-09-06 15:53:16,217: Qubit 16 criado com fidelidade inicial 0.39480511479158675 e adicionado à memória do Host 1.\n",
      "2024-09-06 15:53:16,218: Qubit 17 adicionado à memória do Host 1.\n",
      "2024-09-06 15:53:16,219: Qubit 17 criado com fidelidade inicial 0.18216261177020998 e adicionado à memória do Host 1.\n",
      "2024-09-06 15:53:16,219: Qubit 18 adicionado à memória do Host 1.\n",
      "2024-09-06 15:53:16,220: Qubit 18 criado com fidelidade inicial 0.08764882764559845 e adicionado à memória do Host 1.\n",
      "2024-09-06 15:53:16,221: Qubit 19 adicionado à memória do Host 1.\n",
      "2024-09-06 15:53:16,222: Qubit 19 criado com fidelidade inicial 0.6156723216699862 e adicionado à memória do Host 1.\n",
      "2024-09-06 15:53:16,223: Qubit 20 adicionado à memória do Host 2.\n",
      "2024-09-06 15:53:16,224: Qubit 20 criado com fidelidade inicial 0.07463834236108646 e adicionado à memória do Host 2.\n",
      "2024-09-06 15:53:16,224: Qubit 21 adicionado à memória do Host 2.\n",
      "2024-09-06 15:53:16,225: Qubit 21 criado com fidelidade inicial 0.48957914418523996 e adicionado à memória do Host 2.\n",
      "2024-09-06 15:53:16,226: Qubit 22 adicionado à memória do Host 2.\n",
      "2024-09-06 15:53:16,227: Qubit 22 criado com fidelidade inicial 0.012520462130889531 e adicionado à memória do Host 2.\n",
      "2024-09-06 15:53:16,227: Qubit 23 adicionado à memória do Host 2.\n",
      "2024-09-06 15:53:16,227: Qubit 23 criado com fidelidade inicial 0.666761427343757 e adicionado à memória do Host 2.\n",
      "2024-09-06 15:53:16,228: Qubit 24 adicionado à memória do Host 2.\n",
      "2024-09-06 15:53:16,228: Qubit 24 criado com fidelidade inicial 0.25250682708994243 e adicionado à memória do Host 2.\n",
      "2024-09-06 15:53:16,229: Qubit 25 adicionado à memória do Host 2.\n",
      "2024-09-06 15:53:16,233: Qubit 25 criado com fidelidade inicial 0.8781540110738035 e adicionado à memória do Host 2.\n",
      "2024-09-06 15:53:16,234: Qubit 26 adicionado à memória do Host 2.\n",
      "2024-09-06 15:53:16,235: Qubit 26 criado com fidelidade inicial 0.3735705916126627 e adicionado à memória do Host 2.\n",
      "2024-09-06 15:53:16,236: Qubit 27 adicionado à memória do Host 2.\n",
      "2024-09-06 15:53:16,236: Qubit 27 criado com fidelidade inicial 0.4755105416026403 e adicionado à memória do Host 2.\n",
      "2024-09-06 15:53:16,237: Qubit 28 adicionado à memória do Host 2.\n",
      "2024-09-06 15:53:16,237: Qubit 28 criado com fidelidade inicial 0.6618035746608616 e adicionado à memória do Host 2.\n",
      "2024-09-06 15:53:16,238: Qubit 29 adicionado à memória do Host 2.\n",
      "2024-09-06 15:53:16,239: Qubit 29 criado com fidelidade inicial 0.5438031574684145 e adicionado à memória do Host 2.\n",
      "2024-09-06 15:53:16,239: Qubit 30 adicionado à memória do Host 3.\n",
      "2024-09-06 15:53:16,240: Qubit 30 criado com fidelidade inicial 0.11962323276124198 e adicionado à memória do Host 3.\n",
      "2024-09-06 15:53:16,241: Qubit 31 adicionado à memória do Host 3.\n",
      "2024-09-06 15:53:16,241: Qubit 31 criado com fidelidade inicial 0.5010580294965183 e adicionado à memória do Host 3.\n",
      "2024-09-06 15:53:16,242: Qubit 32 adicionado à memória do Host 3.\n",
      "2024-09-06 15:53:16,242: Qubit 32 criado com fidelidade inicial 0.62192099427337 e adicionado à memória do Host 3.\n",
      "2024-09-06 15:53:16,243: Qubit 33 adicionado à memória do Host 3.\n",
      "2024-09-06 15:53:16,245: Qubit 33 criado com fidelidade inicial 0.09337252212078251 e adicionado à memória do Host 3.\n",
      "2024-09-06 15:53:16,247: Qubit 34 adicionado à memória do Host 3.\n",
      "2024-09-06 15:53:16,250: Qubit 34 criado com fidelidade inicial 0.5274612627825509 e adicionado à memória do Host 3.\n",
      "2024-09-06 15:53:16,251: Qubit 35 adicionado à memória do Host 3.\n",
      "2024-09-06 15:53:16,252: Qubit 35 criado com fidelidade inicial 0.309185921469156 e adicionado à memória do Host 3.\n",
      "2024-09-06 15:53:16,253: Qubit 36 adicionado à memória do Host 3.\n",
      "2024-09-06 15:53:16,255: Qubit 36 criado com fidelidade inicial 0.09246301489086561 e adicionado à memória do Host 3.\n",
      "2024-09-06 15:53:16,258: Qubit 37 adicionado à memória do Host 3.\n",
      "2024-09-06 15:53:16,259: Qubit 37 criado com fidelidade inicial 0.293960063938315 e adicionado à memória do Host 3.\n",
      "2024-09-06 15:53:16,259: Qubit 38 adicionado à memória do Host 3.\n",
      "2024-09-06 15:53:16,260: Qubit 38 criado com fidelidade inicial 0.6121812790805398 e adicionado à memória do Host 3.\n",
      "2024-09-06 15:53:16,263: Qubit 39 adicionado à memória do Host 3.\n",
      "2024-09-06 15:53:16,265: Qubit 39 criado com fidelidade inicial 0.36710877574572054 e adicionado à memória do Host 3.\n",
      "2024-09-06 15:53:16,266: Qubit 40 adicionado à memória do Host 4.\n",
      "2024-09-06 15:53:16,268: Qubit 40 criado com fidelidade inicial 0.7398437488587892 e adicionado à memória do Host 4.\n",
      "2024-09-06 15:53:16,272: Qubit 41 adicionado à memória do Host 4.\n",
      "2024-09-06 15:53:16,275: Qubit 41 criado com fidelidade inicial 0.625935004816546 e adicionado à memória do Host 4.\n",
      "2024-09-06 15:53:16,276: Qubit 42 adicionado à memória do Host 4.\n",
      "2024-09-06 15:53:16,278: Qubit 42 criado com fidelidade inicial 0.5793985747869784 e adicionado à memória do Host 4.\n",
      "2024-09-06 15:53:16,278: Qubit 43 adicionado à memória do Host 4.\n",
      "2024-09-06 15:53:16,280: Qubit 43 criado com fidelidade inicial 0.6161028928232813 e adicionado à memória do Host 4.\n",
      "2024-09-06 15:53:16,281: Qubit 44 adicionado à memória do Host 4.\n",
      "2024-09-06 15:53:16,281: Qubit 44 criado com fidelidade inicial 0.016290540597765024 e adicionado à memória do Host 4.\n",
      "2024-09-06 15:53:16,282: Qubit 45 adicionado à memória do Host 4.\n",
      "2024-09-06 15:53:16,283: Qubit 45 criado com fidelidade inicial 0.5567090868635943 e adicionado à memória do Host 4.\n",
      "2024-09-06 15:53:16,285: Qubit 46 adicionado à memória do Host 4.\n",
      "2024-09-06 15:53:16,288: Qubit 46 criado com fidelidade inicial 0.22399224839692222 e adicionado à memória do Host 4.\n",
      "2024-09-06 15:53:16,290: Qubit 47 adicionado à memória do Host 4.\n",
      "2024-09-06 15:53:16,292: Qubit 47 criado com fidelidade inicial 0.3771689042999462 e adicionado à memória do Host 4.\n",
      "2024-09-06 15:53:16,293: Qubit 48 adicionado à memória do Host 4.\n",
      "2024-09-06 15:53:16,295: Qubit 48 criado com fidelidade inicial 0.8892083226317896 e adicionado à memória do Host 4.\n",
      "2024-09-06 15:53:16,296: Qubit 49 adicionado à memória do Host 4.\n",
      "2024-09-06 15:53:16,297: Qubit 49 criado com fidelidade inicial 0.4902146979599802 e adicionado à memória do Host 4.\n",
      "2024-09-06 15:53:16,298: Qubit 50 adicionado à memória do Host 5.\n",
      "2024-09-06 15:53:16,299: Qubit 50 criado com fidelidade inicial 0.5912961553852191 e adicionado à memória do Host 5.\n",
      "2024-09-06 15:53:16,301: Qubit 51 adicionado à memória do Host 5.\n",
      "2024-09-06 15:53:16,303: Qubit 51 criado com fidelidade inicial 0.645653834729763 e adicionado à memória do Host 5.\n",
      "2024-09-06 15:53:16,304: Qubit 52 adicionado à memória do Host 5.\n",
      "2024-09-06 15:53:16,305: Qubit 52 criado com fidelidade inicial 0.054813418020425275 e adicionado à memória do Host 5.\n",
      "2024-09-06 15:53:16,306: Qubit 53 adicionado à memória do Host 5.\n",
      "2024-09-06 15:53:16,308: Qubit 53 criado com fidelidade inicial 0.4682126294658616 e adicionado à memória do Host 5.\n",
      "2024-09-06 15:53:16,309: Qubit 54 adicionado à memória do Host 5.\n",
      "2024-09-06 15:53:16,310: Qubit 54 criado com fidelidade inicial 0.09965977308116358 e adicionado à memória do Host 5.\n",
      "2024-09-06 15:53:16,311: Qubit 55 adicionado à memória do Host 5.\n",
      "2024-09-06 15:53:16,311: Qubit 55 criado com fidelidade inicial 0.15410394227430146 e adicionado à memória do Host 5.\n",
      "2024-09-06 15:53:16,313: Qubit 56 adicionado à memória do Host 5.\n",
      "2024-09-06 15:53:16,314: Qubit 56 criado com fidelidade inicial 0.6646631687580652 e adicionado à memória do Host 5.\n",
      "2024-09-06 15:53:16,314: Qubit 57 adicionado à memória do Host 5.\n",
      "2024-09-06 15:53:16,317: Qubit 57 criado com fidelidade inicial 0.9253687302048683 e adicionado à memória do Host 5.\n",
      "2024-09-06 15:53:16,319: Qubit 58 adicionado à memória do Host 5.\n",
      "2024-09-06 15:53:16,320: Qubit 58 criado com fidelidade inicial 0.1847174724711116 e adicionado à memória do Host 5.\n",
      "2024-09-06 15:53:16,321: Qubit 59 adicionado à memória do Host 5.\n",
      "2024-09-06 15:53:16,323: Qubit 59 criado com fidelidade inicial 0.5846330684269931 e adicionado à memória do Host 5.\n",
      "2024-09-06 15:53:16,325: Qubit 60 adicionado à memória do Host 6.\n",
      "2024-09-06 15:53:16,326: Qubit 60 criado com fidelidade inicial 0.02761595989405674 e adicionado à memória do Host 6.\n",
      "2024-09-06 15:53:16,326: Qubit 61 adicionado à memória do Host 6.\n",
      "2024-09-06 15:53:16,326: Qubit 61 criado com fidelidade inicial 0.5086438489852568 e adicionado à memória do Host 6.\n",
      "2024-09-06 15:53:16,327: Qubit 62 adicionado à memória do Host 6.\n",
      "2024-09-06 15:53:16,327: Qubit 62 criado com fidelidade inicial 0.7693817814154049 e adicionado à memória do Host 6.\n",
      "2024-09-06 15:53:16,327: Qubit 63 adicionado à memória do Host 6.\n",
      "2024-09-06 15:53:16,328: Qubit 63 criado com fidelidade inicial 0.08218794884792402 e adicionado à memória do Host 6.\n",
      "2024-09-06 15:53:16,329: Qubit 64 adicionado à memória do Host 6.\n",
      "2024-09-06 15:53:16,329: Qubit 64 criado com fidelidade inicial 0.017628027906479105 e adicionado à memória do Host 6.\n",
      "2024-09-06 15:53:16,330: Qubit 65 adicionado à memória do Host 6.\n",
      "2024-09-06 15:53:16,331: Qubit 65 criado com fidelidade inicial 0.7973556014482323 e adicionado à memória do Host 6.\n",
      "2024-09-06 15:53:16,335: Qubit 66 adicionado à memória do Host 6.\n",
      "2024-09-06 15:53:16,337: Qubit 66 criado com fidelidade inicial 0.5960058807781057 e adicionado à memória do Host 6.\n",
      "2024-09-06 15:53:16,338: Qubit 67 adicionado à memória do Host 6.\n",
      "2024-09-06 15:53:16,340: Qubit 67 criado com fidelidade inicial 0.2196645076271111 e adicionado à memória do Host 6.\n",
      "2024-09-06 15:53:16,342: Qubit 68 adicionado à memória do Host 6.\n",
      "2024-09-06 15:53:16,343: Qubit 68 criado com fidelidade inicial 0.5541275646672037 e adicionado à memória do Host 6.\n",
      "2024-09-06 15:53:16,343: Qubit 69 adicionado à memória do Host 6.\n",
      "2024-09-06 15:53:16,344: Qubit 69 criado com fidelidade inicial 0.18608867015999397 e adicionado à memória do Host 6.\n",
      "2024-09-06 15:53:16,345: Qubit 70 adicionado à memória do Host 7.\n",
      "2024-09-06 15:53:16,350: Qubit 70 criado com fidelidade inicial 0.5715739393863406 e adicionado à memória do Host 7.\n",
      "2024-09-06 15:53:16,353: Qubit 71 adicionado à memória do Host 7.\n",
      "2024-09-06 15:53:16,355: Qubit 71 criado com fidelidade inicial 0.37398971840536477 e adicionado à memória do Host 7.\n",
      "2024-09-06 15:53:16,356: Qubit 72 adicionado à memória do Host 7.\n",
      "2024-09-06 15:53:16,357: Qubit 72 criado com fidelidade inicial 0.9434837768576725 e adicionado à memória do Host 7.\n",
      "2024-09-06 15:53:16,357: Qubit 73 adicionado à memória do Host 7.\n",
      "2024-09-06 15:53:16,358: Qubit 73 criado com fidelidade inicial 0.813430309242885 e adicionado à memória do Host 7.\n",
      "2024-09-06 15:53:16,359: Qubit 74 adicionado à memória do Host 7.\n",
      "2024-09-06 15:53:16,359: Qubit 74 criado com fidelidade inicial 0.794037152349458 e adicionado à memória do Host 7.\n",
      "2024-09-06 15:53:16,360: Qubit 75 adicionado à memória do Host 7.\n",
      "2024-09-06 15:53:16,360: Qubit 75 criado com fidelidade inicial 0.8245925651974615 e adicionado à memória do Host 7.\n",
      "2024-09-06 15:53:16,360: Qubit 76 adicionado à memória do Host 7.\n",
      "2024-09-06 15:53:16,361: Qubit 76 criado com fidelidade inicial 0.9102284433664852 e adicionado à memória do Host 7.\n",
      "2024-09-06 15:53:16,361: Qubit 77 adicionado à memória do Host 7.\n",
      "2024-09-06 15:53:16,361: Qubit 77 criado com fidelidade inicial 0.8879340123008662 e adicionado à memória do Host 7.\n",
      "2024-09-06 15:53:16,362: Qubit 78 adicionado à memória do Host 7.\n",
      "2024-09-06 15:53:16,362: Qubit 78 criado com fidelidade inicial 0.19131233078098764 e adicionado à memória do Host 7.\n",
      "2024-09-06 15:53:16,364: Qubit 79 adicionado à memória do Host 7.\n",
      "2024-09-06 15:53:16,365: Qubit 79 criado com fidelidade inicial 0.6126754858537513 e adicionado à memória do Host 7.\n",
      "2024-09-06 15:53:16,367: Qubit 80 adicionado à memória do Host 8.\n",
      "2024-09-06 15:53:16,368: Qubit 80 criado com fidelidade inicial 0.17594623377461727 e adicionado à memória do Host 8.\n",
      "2024-09-06 15:53:16,370: Qubit 81 adicionado à memória do Host 8.\n",
      "2024-09-06 15:53:16,370: Qubit 81 criado com fidelidade inicial 0.845745240148598 e adicionado à memória do Host 8.\n",
      "2024-09-06 15:53:16,372: Qubit 82 adicionado à memória do Host 8.\n",
      "2024-09-06 15:53:16,373: Qubit 82 criado com fidelidade inicial 0.0560554046913504 e adicionado à memória do Host 8.\n",
      "2024-09-06 15:53:16,373: Qubit 83 adicionado à memória do Host 8.\n",
      "2024-09-06 15:53:16,374: Qubit 83 criado com fidelidade inicial 0.2572105537770283 e adicionado à memória do Host 8.\n",
      "2024-09-06 15:53:16,375: Qubit 84 adicionado à memória do Host 8.\n",
      "2024-09-06 15:53:16,376: Qubit 84 criado com fidelidade inicial 0.42718905568381205 e adicionado à memória do Host 8.\n",
      "2024-09-06 15:53:16,377: Qubit 85 adicionado à memória do Host 8.\n",
      "2024-09-06 15:53:16,377: Qubit 85 criado com fidelidade inicial 0.9733255243035488 e adicionado à memória do Host 8.\n",
      "2024-09-06 15:53:16,378: Qubit 86 adicionado à memória do Host 8.\n",
      "2024-09-06 15:53:16,378: Qubit 86 criado com fidelidade inicial 0.3686123605013987 e adicionado à memória do Host 8.\n",
      "2024-09-06 15:53:16,379: Qubit 87 adicionado à memória do Host 8.\n",
      "2024-09-06 15:53:16,381: Qubit 87 criado com fidelidade inicial 0.6392534064989963 e adicionado à memória do Host 8.\n",
      "2024-09-06 15:53:16,381: Qubit 88 adicionado à memória do Host 8.\n",
      "2024-09-06 15:53:16,383: Qubit 88 criado com fidelidade inicial 0.9623861059181167 e adicionado à memória do Host 8.\n",
      "2024-09-06 15:53:16,384: Qubit 89 adicionado à memória do Host 8.\n",
      "2024-09-06 15:53:16,386: Qubit 89 criado com fidelidade inicial 0.7693468523208623 e adicionado à memória do Host 8.\n",
      "2024-09-06 15:53:16,387: Par EPR <quantumnet.objects.epr.Epr object at 0x7817835afd70> adicionado ao canal.\n",
      "2024-09-06 15:53:16,388: Par EPR <quantumnet.objects.epr.Epr object at 0x7817835976e0> adicionado ao canal.\n",
      "2024-09-06 15:53:16,389: Par EPR <quantumnet.objects.epr.Epr object at 0x7817835978c0> adicionado ao canal.\n",
      "2024-09-06 15:53:16,390: Par EPR <quantumnet.objects.epr.Epr object at 0x7817835afe30> adicionado ao canal.\n",
      "2024-09-06 15:53:16,390: Par EPR <quantumnet.objects.epr.Epr object at 0x7817835afe60> adicionado ao canal.\n",
      "2024-09-06 15:53:16,391: Par EPR <quantumnet.objects.epr.Epr object at 0x7817835afad0> adicionado ao canal.\n",
      "2024-09-06 15:53:16,391: Par EPR <quantumnet.objects.epr.Epr object at 0x7817835aff20> adicionado ao canal.\n",
      "2024-09-06 15:53:16,392: Par EPR <quantumnet.objects.epr.Epr object at 0x7817835af950> adicionado ao canal.\n",
      "2024-09-06 15:53:16,393: Par EPR <quantumnet.objects.epr.Epr object at 0x7817835af650> adicionado ao canal.\n",
      "2024-09-06 15:53:16,393: Par EPR <quantumnet.objects.epr.Epr object at 0x7817835afe90> adicionado ao canal.\n",
      "2024-09-06 15:53:16,394: Par EPR <quantumnet.objects.epr.Epr object at 0x7817835afda0> adicionado ao canal.\n",
      "2024-09-06 15:53:16,394: Par EPR <quantumnet.objects.epr.Epr object at 0x7817835aff50> adicionado ao canal.\n",
      "2024-09-06 15:53:16,394: Par EPR <quantumnet.objects.epr.Epr object at 0x7817835e40b0> adicionado ao canal.\n",
      "2024-09-06 15:53:16,395: Par EPR <quantumnet.objects.epr.Epr object at 0x7817835ac290> adicionado ao canal.\n",
      "2024-09-06 15:53:16,395: Par EPR <quantumnet.objects.epr.Epr object at 0x7817835e4140> adicionado ao canal.\n",
      "2024-09-06 15:53:16,397: Par EPR <quantumnet.objects.epr.Epr object at 0x7817835ac1d0> adicionado ao canal.\n",
      "2024-09-06 15:53:16,400: Par EPR <quantumnet.objects.epr.Epr object at 0x7817835affe0> adicionado ao canal.\n",
      "2024-09-06 15:53:16,401: Par EPR <quantumnet.objects.epr.Epr object at 0x7817835ac050> adicionado ao canal.\n",
      "2024-09-06 15:53:16,403: Par EPR <quantumnet.objects.epr.Epr object at 0x7817835affb0> adicionado ao canal.\n",
      "2024-09-06 15:53:16,406: Par EPR <quantumnet.objects.epr.Epr object at 0x7817835ac320> adicionado ao canal.\n",
      "2024-09-06 15:53:16,407: Par EPR <quantumnet.objects.epr.Epr object at 0x7817835af830> adicionado ao canal.\n",
      "2024-09-06 15:53:16,408: Par EPR <quantumnet.objects.epr.Epr object at 0x7817835ac380> adicionado ao canal.\n",
      "2024-09-06 15:53:16,409: Par EPR <quantumnet.objects.epr.Epr object at 0x7817835ac1a0> adicionado ao canal.\n",
      "2024-09-06 15:53:16,409: Par EPR <quantumnet.objects.epr.Epr object at 0x7817835ac0e0> adicionado ao canal.\n",
      "2024-09-06 15:53:16,410: Par EPR <quantumnet.objects.epr.Epr object at 0x7817835ac350> adicionado ao canal.\n",
      "2024-09-06 15:53:16,410: Par EPR <quantumnet.objects.epr.Epr object at 0x7817835e4260> adicionado ao canal.\n",
      "2024-09-06 15:53:16,411: Par EPR <quantumnet.objects.epr.Epr object at 0x7817835e4530> adicionado ao canal.\n",
      "2024-09-06 15:53:16,411: Par EPR <quantumnet.objects.epr.Epr object at 0x7817835ac3e0> adicionado ao canal.\n",
      "2024-09-06 15:53:16,411: Par EPR <quantumnet.objects.epr.Epr object at 0x7817835e4650> adicionado ao canal.\n",
      "2024-09-06 15:53:16,411: Par EPR <quantumnet.objects.epr.Epr object at 0x7817835e4620> adicionado ao canal.\n",
      "2024-09-06 15:53:16,413: Par EPR <quantumnet.objects.epr.Epr object at 0x7817835ac200> adicionado ao canal.\n",
      "2024-09-06 15:53:16,415: Par EPR <quantumnet.objects.epr.Epr object at 0x7817835e4770> adicionado ao canal.\n",
      "2024-09-06 15:53:16,417: Par EPR <quantumnet.objects.epr.Epr object at 0x7817835ac860> adicionado ao canal.\n",
      "2024-09-06 15:53:16,418: Par EPR <quantumnet.objects.epr.Epr object at 0x7817835e4800> adicionado ao canal.\n",
      "2024-09-06 15:53:16,420: Par EPR <quantumnet.objects.epr.Epr object at 0x7817835e45f0> adicionado ao canal.\n",
      "2024-09-06 15:53:16,421: Par EPR <quantumnet.objects.epr.Epr object at 0x7817835e4560> adicionado ao canal.\n",
      "2024-09-06 15:53:16,421: Par EPR <quantumnet.objects.epr.Epr object at 0x7817835e4a10> adicionado ao canal.\n",
      "2024-09-06 15:53:16,422: Par EPR <quantumnet.objects.epr.Epr object at 0x7817835acaa0> adicionado ao canal.\n",
      "2024-09-06 15:53:16,423: Par EPR <quantumnet.objects.epr.Epr object at 0x7817835e4b60> adicionado ao canal.\n",
      "2024-09-06 15:53:16,423: Par EPR <quantumnet.objects.epr.Epr object at 0x7817835e4ad0> adicionado ao canal.\n",
      "2024-09-06 15:53:16,423: Par EPR <quantumnet.objects.epr.Epr object at 0x7817835ac3b0> adicionado ao canal.\n",
      "2024-09-06 15:53:16,424: Par EPR <quantumnet.objects.epr.Epr object at 0x7817835e4c50> adicionado ao canal.\n",
      "2024-09-06 15:53:16,424: Par EPR <quantumnet.objects.epr.Epr object at 0x7817835e4ce0> adicionado ao canal.\n",
      "2024-09-06 15:53:16,424: Par EPR <quantumnet.objects.epr.Epr object at 0x7817835e4d70> adicionado ao canal.\n",
      "2024-09-06 15:53:16,425: Par EPR <quantumnet.objects.epr.Epr object at 0x7817835e4e30> adicionado ao canal.\n",
      "2024-09-06 15:53:16,426: Par EPR <quantumnet.objects.epr.Epr object at 0x7817835acda0> adicionado ao canal.\n",
      "2024-09-06 15:53:16,426: Par EPR <quantumnet.objects.epr.Epr object at 0x7817835e4ef0> adicionado ao canal.\n",
      "2024-09-06 15:53:16,427: Par EPR <quantumnet.objects.epr.Epr object at 0x7817835e4920> adicionado ao canal.\n",
      "2024-09-06 15:53:16,428: Par EPR <quantumnet.objects.epr.Epr object at 0x7817835e4bf0> adicionado ao canal.\n",
      "2024-09-06 15:53:16,428: Par EPR <quantumnet.objects.epr.Epr object at 0x7817835e5070> adicionado ao canal.\n",
      "2024-09-06 15:53:16,429: Par EPR <quantumnet.objects.epr.Epr object at 0x7817835e49e0> adicionado ao canal.\n",
      "2024-09-06 15:53:16,429: Par EPR <quantumnet.objects.epr.Epr object at 0x7817835e5100> adicionado ao canal.\n",
      "2024-09-06 15:53:16,430: Par EPR <quantumnet.objects.epr.Epr object at 0x7817835e4f20> adicionado ao canal.\n",
      "2024-09-06 15:53:16,431: Par EPR <quantumnet.objects.epr.Epr object at 0x7817835e5010> adicionado ao canal.\n",
      "2024-09-06 15:53:16,432: Par EPR <quantumnet.objects.epr.Epr object at 0x78178356d2e0> adicionado ao canal.\n",
      "2024-09-06 15:53:16,433: Par EPR <quantumnet.objects.epr.Epr object at 0x7817835e50a0> adicionado ao canal.\n",
      "2024-09-06 15:53:16,433: Par EPR <quantumnet.objects.epr.Epr object at 0x7817835e5220> adicionado ao canal.\n",
      "2024-09-06 15:53:16,434: Par EPR <quantumnet.objects.epr.Epr object at 0x7817835e5310> adicionado ao canal.\n",
      "2024-09-06 15:53:16,435: Par EPR <quantumnet.objects.epr.Epr object at 0x7817835e5400> adicionado ao canal.\n",
      "2024-09-06 15:53:16,435: Par EPR <quantumnet.objects.epr.Epr object at 0x7817835e5430> adicionado ao canal.\n",
      "2024-09-06 15:53:16,437: Par EPR <quantumnet.objects.epr.Epr object at 0x781783525460> adicionado ao canal.\n",
      "2024-09-06 15:53:16,438: Par EPR <quantumnet.objects.epr.Epr object at 0x7817835e5520> adicionado ao canal.\n",
      "2024-09-06 15:53:16,439: Par EPR <quantumnet.objects.epr.Epr object at 0x7817835e5040> adicionado ao canal.\n",
      "2024-09-06 15:53:16,440: Par EPR <quantumnet.objects.epr.Epr object at 0x7817835e56a0> adicionado ao canal.\n",
      "2024-09-06 15:53:16,441: Par EPR <quantumnet.objects.epr.Epr object at 0x7817835e55b0> adicionado ao canal.\n",
      "2024-09-06 15:53:16,441: Par EPR <quantumnet.objects.epr.Epr object at 0x7817835e5760> adicionado ao canal.\n",
      "2024-09-06 15:53:16,442: Par EPR <quantumnet.objects.epr.Epr object at 0x7817835e5730> adicionado ao canal.\n",
      "2024-09-06 15:53:16,442: Par EPR <quantumnet.objects.epr.Epr object at 0x7817835e54f0> adicionado ao canal.\n",
      "2024-09-06 15:53:16,443: Par EPR <quantumnet.objects.epr.Epr object at 0x7817835e5970> adicionado ao canal.\n",
      "2024-09-06 15:53:16,443: Par EPR <quantumnet.objects.epr.Epr object at 0x7817835e5820> adicionado ao canal.\n",
      "2024-09-06 15:53:16,443: Par EPR <quantumnet.objects.epr.Epr object at 0x7817835e4dd0> adicionado ao canal.\n",
      "2024-09-06 15:53:16,445: Par EPR <quantumnet.objects.epr.Epr object at 0x7817835e5ac0> adicionado ao canal.\n",
      "2024-09-06 15:53:16,445: Par EPR <quantumnet.objects.epr.Epr object at 0x7817835e5b50> adicionado ao canal.\n",
      "2024-09-06 15:53:16,448: Par EPR <quantumnet.objects.epr.Epr object at 0x7817835ad1c0> adicionado ao canal.\n",
      "2024-09-06 15:53:16,448: Par EPR <quantumnet.objects.epr.Epr object at 0x7817835e5bb0> adicionado ao canal.\n",
      "2024-09-06 15:53:16,449: Par EPR <quantumnet.objects.epr.Epr object at 0x7817835e5790> adicionado ao canal.\n",
      "2024-09-06 15:53:16,451: Par EPR <quantumnet.objects.epr.Epr object at 0x7817835e5c40> adicionado ao canal.\n",
      "2024-09-06 15:53:16,452: Par EPR <quantumnet.objects.epr.Epr object at 0x7817835add30> adicionado ao canal.\n",
      "2024-09-06 15:53:16,453: Par EPR <quantumnet.objects.epr.Epr object at 0x7817835e5af0> adicionado ao canal.\n",
      "2024-09-06 15:53:16,454: Par EPR <quantumnet.objects.epr.Epr object at 0x7817835e5cd0> adicionado ao canal.\n",
      "2024-09-06 15:53:16,455: Par EPR <quantumnet.objects.epr.Epr object at 0x7817835e5a60> adicionado ao canal.\n",
      "2024-09-06 15:53:16,456: Par EPR <quantumnet.objects.epr.Epr object at 0x7817835addf0> adicionado ao canal.\n",
      "2024-09-06 15:53:16,457: Par EPR <quantumnet.objects.epr.Epr object at 0x7817835e5c10> adicionado ao canal.\n",
      "2024-09-06 15:53:16,458: Par EPR <quantumnet.objects.epr.Epr object at 0x7817835e5ca0> adicionado ao canal.\n",
      "2024-09-06 15:53:16,458: Par EPR <quantumnet.objects.epr.Epr object at 0x7817835e5f10> adicionado ao canal.\n",
      "2024-09-06 15:53:16,460: Par EPR <quantumnet.objects.epr.Epr object at 0x7817835ad5e0> adicionado ao canal.\n",
      "2024-09-06 15:53:16,460: Par EPR <quantumnet.objects.epr.Epr object at 0x7817835e53a0> adicionado ao canal.\n",
      "2024-09-06 15:53:16,461: Par EPR <quantumnet.objects.epr.Epr object at 0x7817835e6000> adicionado ao canal.\n",
      "2024-09-06 15:53:16,461: Par EPR <quantumnet.objects.epr.Epr object at 0x7817835e5f40> adicionado ao canal.\n",
      "2024-09-06 15:53:16,461: Par EPR <quantumnet.objects.epr.Epr object at 0x7817835e5fa0> adicionado ao canal.\n",
      "2024-09-06 15:53:16,461: Par EPR <quantumnet.objects.epr.Epr object at 0x7817835e5dc0> adicionado ao canal.\n",
      "2024-09-06 15:53:16,462: Par EPR <quantumnet.objects.epr.Epr object at 0x7817835e5d00> adicionado ao canal.\n",
      "2024-09-06 15:53:16,463: Par EPR <quantumnet.objects.epr.Epr object at 0x781788be6300> adicionado ao canal.\n",
      "2024-09-06 15:53:16,463: Par EPR <quantumnet.objects.epr.Epr object at 0x7817835e6240> adicionado ao canal.\n",
      "2024-09-06 15:53:16,465: Par EPR <quantumnet.objects.epr.Epr object at 0x7817835e61b0> adicionado ao canal.\n",
      "2024-09-06 15:53:16,465: Par EPR <quantumnet.objects.epr.Epr object at 0x7817835e6360> adicionado ao canal.\n",
      "2024-09-06 15:53:16,466: Par EPR <quantumnet.objects.epr.Epr object at 0x7817835e6390> adicionado ao canal.\n",
      "2024-09-06 15:53:16,468: Par EPR <quantumnet.objects.epr.Epr object at 0x781788be6570> adicionado ao canal.\n",
      "2024-09-06 15:53:16,468: Par EPR <quantumnet.objects.epr.Epr object at 0x7817835e6420> adicionado ao canal.\n",
      "2024-09-06 15:53:16,469: Par EPR <quantumnet.objects.epr.Epr object at 0x7817835e6660> adicionado ao canal.\n",
      "2024-09-06 15:53:16,470: Par EPR <quantumnet.objects.epr.Epr object at 0x7817835e6090> adicionado ao canal.\n",
      "2024-09-06 15:53:16,471: Par EPR <quantumnet.objects.epr.Epr object at 0x7817835ae7e0> adicionado ao canal.\n",
      "2024-09-06 15:53:16,471: Par EPR <quantumnet.objects.epr.Epr object at 0x7817835e64e0> adicionado ao canal.\n",
      "2024-09-06 15:53:16,472: Par EPR <quantumnet.objects.epr.Epr object at 0x781783596510> adicionado ao canal.\n",
      "2024-09-06 15:53:16,472: Par EPR <quantumnet.objects.epr.Epr object at 0x7817835e6870> adicionado ao canal.\n",
      "2024-09-06 15:53:16,473: Par EPR <quantumnet.objects.epr.Epr object at 0x7817835e69c0> adicionado ao canal.\n",
      "2024-09-06 15:53:16,473: Par EPR <quantumnet.objects.epr.Epr object at 0x7817835e6750> adicionado ao canal.\n",
      "2024-09-06 15:53:16,474: Par EPR <quantumnet.objects.epr.Epr object at 0x7817835e6840> adicionado ao canal.\n",
      "2024-09-06 15:53:16,475: Par EPR <quantumnet.objects.epr.Epr object at 0x7817835ae5a0> adicionado ao canal.\n",
      "2024-09-06 15:53:16,477: Par EPR <quantumnet.objects.epr.Epr object at 0x781783596b40> adicionado ao canal.\n",
      "2024-09-06 15:53:16,479: Par EPR <quantumnet.objects.epr.Epr object at 0x7817835e6540> adicionado ao canal.\n",
      "2024-09-06 15:53:16,480: Par EPR <quantumnet.objects.epr.Epr object at 0x781783596690> adicionado ao canal.\n",
      "2024-09-06 15:53:16,482: Par EPR <quantumnet.objects.epr.Epr object at 0x781783596d80> adicionado ao canal.\n",
      "2024-09-06 15:53:16,484: Par EPR <quantumnet.objects.epr.Epr object at 0x7817835e6a20> adicionado ao canal.\n",
      "2024-09-06 15:53:16,488: Par EPR <quantumnet.objects.epr.Epr object at 0x7817835aed20> adicionado ao canal.\n",
      "2024-09-06 15:53:16,489: Par EPR <quantumnet.objects.epr.Epr object at 0x7817835e6de0> adicionado ao canal.\n",
      "2024-09-06 15:53:16,489: Par EPR <quantumnet.objects.epr.Epr object at 0x781783596e10> adicionado ao canal.\n",
      "2024-09-06 15:53:16,490: Par EPR <quantumnet.objects.epr.Epr object at 0x7817835e6f00> adicionado ao canal.\n",
      "2024-09-06 15:53:16,494: Par EPR <quantumnet.objects.epr.Epr object at 0x7817835e6f30> adicionado ao canal.\n",
      "2024-09-06 15:53:16,496: Par EPR <quantumnet.objects.epr.Epr object at 0x78178800eff0> adicionado ao canal.\n"
     ]
    },
    {
     "name": "stdout",
     "output_type": "stream",
     "text": [
      "Hosts inicializados\n",
      "Canais inicializados\n",
      "Pares EPRs adicionados\n"
     ]
    },
    {
     "data": {
      "image/png": "[encoded data removed]",
      "text/plain": [
       "<Figure size 640x480 with 1 Axes>"
      ]
     },
     "metadata": {},
     "output_type": "display_data"
    }
   ],
   "source": [
    "rede = Network()\n",
    "rede.set_ready_topology(\"Grade\", 3,3)\n",
    "rede.draw()"
   ]
  },
  {
   "cell_type": "markdown",
   "metadata": {},
   "source": [
    "##### Definindo os hosts alice e bob nos nós 1 e 2 respectivamente."
   ]
  },
  {
   "cell_type": "code",
   "execution_count": 3,
   "metadata": {},
   "outputs": [],
   "source": [
    "alice = rede.get_host(0)\n",
    "bob = rede.get_host(8)"
   ]
  },
  {
   "cell_type": "markdown",
   "metadata": {},
   "source": [
    "##### Verificação da memória de Alice e Bob."
   ]
  },
  {
   "cell_type": "code",
   "execution_count": 4,
   "metadata": {},
   "outputs": [
    {
     "name": "stdout",
     "output_type": "stream",
     "text": [
      "memoria de alice: [<quantumnet.objects.qubit.Qubit object at 0x78178c777440>, <quantumnet.objects.qubit.Qubit object at 0x781789feae70>, <quantumnet.objects.qubit.Qubit object at 0x781789feab70>, <quantumnet.objects.qubit.Qubit object at 0x781789fe9400>, <quantumnet.objects.qubit.Qubit object at 0x781789fe9130>, <quantumnet.objects.qubit.Qubit object at 0x78178804e1b0>, <quantumnet.objects.qubit.Qubit object at 0x781788172ba0>, <quantumnet.objects.qubit.Qubit object at 0x781783f86600>, <quantumnet.objects.qubit.Qubit object at 0x781783526360>, <quantumnet.objects.qubit.Qubit object at 0x78178806e7e0>]\n",
      "memoria de bob: [<quantumnet.objects.qubit.Qubit object at 0x7817835adf10>, <quantumnet.objects.qubit.Qubit object at 0x7817835af5c0>, <quantumnet.objects.qubit.Qubit object at 0x7817880bf530>, <quantumnet.objects.qubit.Qubit object at 0x7817835af680>, <quantumnet.objects.qubit.Qubit object at 0x7817835af7d0>, <quantumnet.objects.qubit.Qubit object at 0x7817835af620>, <quantumnet.objects.qubit.Qubit object at 0x7817835af890>, <quantumnet.objects.qubit.Qubit object at 0x781783596cc0>, <quantumnet.objects.qubit.Qubit object at 0x7817835af3b0>, <quantumnet.objects.qubit.Qubit object at 0x7817835afbf0>]\n"
     ]
    }
   ],
   "source": [
    "print('memoria de alice:',(alice.memory))\n",
    "print('memoria de bob:',(bob.memory))"
   ]
  },
  {
   "cell_type": "markdown",
   "metadata": {},
   "source": [
    "##### Nesse função, é enviado um request para a rede, solicitando uma rota para a transmissão de 2 qubits de Alice(0) para Bob(8)."
   ]
  },
  {
   "cell_type": "code",
   "execution_count": 5,
   "metadata": {},
   "outputs": [
    {
     "name": "stderr",
     "output_type": "stream",
     "text": [
      "2024-09-06 15:53:17,498: Rota válida encontrada: [0, 3, 6, 7, 8]\n",
      "2024-09-06 15:53:17,500: Rota válida encontrada: [0, 3, 6, 7, 8]\n",
      "2024-09-06 15:53:17,502: Transmissão de 2 qubits entre 0 e 8 concluída com sucesso. Timeslot: 1\n"
     ]
    },
    {
     "data": {
      "text/plain": [
       "True"
      ]
     },
     "execution_count": 5,
     "metadata": {},
     "output_type": "execute_result"
    }
   ],
   "source": [
    "rede.transportlayer.request_transmission(0,8, 2)"
   ]
  },
  {
   "cell_type": "markdown",
   "metadata": {},
   "source": [
    "##### o protocolo de teletrnasporte realiza a transmissão de Alice para Bob."
   ]
  },
  {
   "cell_type": "code",
   "execution_count": 6,
   "metadata": {},
   "outputs": [
    {
     "name": "stderr",
     "output_type": "stream",
     "text": [
      "2024-09-06 15:53:17,572: Rota válida encontrada: [0, 3, 6, 7, 8]\n",
      "2024-09-06 15:53:17,573: Teletransporte de qubit de 0 para 8 foi bem-sucedido com fidelidade final de 0.6639802055828451. Timeslot: 2\n"
     ]
    },
    {
     "data": {
      "text/plain": [
       "True"
      ]
     },
     "execution_count": 6,
     "metadata": {},
     "output_type": "execute_result"
    }
   ],
   "source": [
    "rede.transportlayer.teleportation_protocol(0,8)"
   ]
  },
  {
   "cell_type": "code",
   "execution_count": 7,
   "metadata": {},
   "outputs": [
    {
     "name": "stdout",
     "output_type": "stream",
     "text": [
      "memoria de alice: [<quantumnet.objects.qubit.Qubit object at 0x781789feae70>, <quantumnet.objects.qubit.Qubit object at 0x781789feab70>, <quantumnet.objects.qubit.Qubit object at 0x781789fe9400>, <quantumnet.objects.qubit.Qubit object at 0x781789fe9130>, <quantumnet.objects.qubit.Qubit object at 0x78178804e1b0>, <quantumnet.objects.qubit.Qubit object at 0x781788172ba0>, <quantumnet.objects.qubit.Qubit object at 0x781783f86600>, <quantumnet.objects.qubit.Qubit object at 0x781783526360>, <quantumnet.objects.qubit.Qubit object at 0x78178806e7e0>]\n",
      "memoria de bob: [<quantumnet.objects.qubit.Qubit object at 0x7817835adf10>, <quantumnet.objects.qubit.Qubit object at 0x7817835af5c0>, <quantumnet.objects.qubit.Qubit object at 0x7817880bf530>, <quantumnet.objects.qubit.Qubit object at 0x7817835af680>, <quantumnet.objects.qubit.Qubit object at 0x7817835af7d0>, <quantumnet.objects.qubit.Qubit object at 0x7817835af620>, <quantumnet.objects.qubit.Qubit object at 0x7817835af890>, <quantumnet.objects.qubit.Qubit object at 0x781783596cc0>, <quantumnet.objects.qubit.Qubit object at 0x7817835af3b0>, <quantumnet.objects.qubit.Qubit object at 0x78178c777440>]\n"
     ]
    }
   ],
   "source": [
    "print('memoria de alice:',(alice.memory))\n",
    "print('memoria de bob:',(bob.memory))"
   ]
  },
  {
   "cell_type": "markdown",
   "metadata": {},
   "source": [
    "##### A função a seguir é chamada para que seja realizada a requesição de uma rota para que haja a transmissão de n qubits necessários. Ela vai executar toda a camada de transporte."
   ]
  },
  {
   "cell_type": "code",
   "execution_count": 8,
   "metadata": {},
   "outputs": [
    {
     "name": "stderr",
     "output_type": "stream",
     "text": [
      "2024-09-06 15:53:17,723: Rota válida encontrada: [0, 3, 6, 7, 8]\n",
      "2024-09-06 15:53:17,724: Rota válida encontrada: [0, 3, 6, 7, 8]\n",
      "2024-09-06 15:53:17,726: Rota válida encontrada: [0, 3, 6, 7, 8]\n",
      "2024-09-06 15:53:17,727: Rota válida encontrada: [0, 3, 6, 7, 8]\n",
      "2024-09-06 15:53:17,728: Rota válida encontrada: [0, 3, 6, 7, 8]\n",
      "2024-09-06 15:53:17,729: Rota válida encontrada: [0, 3, 6, 7, 8]\n",
      "2024-09-06 15:53:17,730: Rota válida encontrada: [0, 3, 6, 7, 8]\n",
      "2024-09-06 15:53:17,731: Rota válida encontrada: [0, 3, 6, 7, 8]\n",
      "2024-09-06 15:53:17,732: Rota válida encontrada: [0, 3, 6, 7, 8]\n",
      "2024-09-06 15:53:17,733: Teletransporte de qubit de 0 para 8 na rota [0, 3, 6, 7, 8] foi bem-sucedido com fidelidade final de 0.2728578497672314. Timeslot: 3\n",
      "2024-09-06 15:53:17,736: Teletransporte de qubit de 0 para 8 na rota [0, 3, 6, 7, 8] foi bem-sucedido com fidelidade final de 0.33147356354443835. Timeslot: 4\n",
      "2024-09-06 15:53:17,737: Teletransporte de qubit de 0 para 8 na rota [0, 3, 6, 7, 8] foi bem-sucedido com fidelidade final de 0.392698465160332. Timeslot: 5\n",
      "2024-09-06 15:53:17,737: Teletransporte de qubit de 0 para 8 na rota [0, 3, 6, 7, 8] foi bem-sucedido com fidelidade final de 0.8346452667864227. Timeslot: 6\n",
      "2024-09-06 15:53:17,738: Teletransporte de qubit de 0 para 8 na rota [0, 3, 6, 7, 8] foi bem-sucedido com fidelidade final de 0.7421804850856258. Timeslot: 7\n",
      "2024-09-06 15:53:17,739: Teletransporte de qubit de 0 para 8 na rota [0, 3, 6, 7, 8] foi bem-sucedido com fidelidade final de 0.8373752331244302. Timeslot: 8\n",
      "2024-09-06 15:53:17,740: Teletransporte de qubit de 0 para 8 na rota [0, 3, 6, 7, 8] foi bem-sucedido com fidelidade final de 0.307178169139553. Timeslot: 9\n",
      "2024-09-06 15:53:17,741: Teletransporte de qubit de 0 para 8 na rota [0, 3, 6, 7, 8] foi bem-sucedido com fidelidade final de 0.3532549100433249. Timeslot: 10\n",
      "2024-09-06 15:53:17,742: Teletransporte de qubit de 0 para 8 na rota [0, 3, 6, 7, 8] foi bem-sucedido com fidelidade final de 0.1750066026101924. Timeslot: 11\n",
      "2024-09-06 15:53:17,743: Transmissão e teletransporte de 9 qubits entre 0 e 8 concluídos com sucesso. Timeslot: 11\n"
     ]
    },
    {
     "data": {
      "text/plain": [
       "True"
      ]
     },
     "execution_count": 8,
     "metadata": {},
     "output_type": "execute_result"
    }
   ],
   "source": [
    "rede.transportlayer.run_transport_layer(0,8,9)"
   ]
  },
  {
   "cell_type": "code",
   "execution_count": 9,
   "metadata": {},
   "outputs": [
    {
     "name": "stderr",
     "output_type": "stream",
     "text": [
      "2024-09-06 15:53:17,797: Qubits usados na camada PhysicalLayer: 0\n",
      "2024-09-06 15:53:17,798: Qubits usados na camada LinkLayer: 0\n",
      "2024-09-06 15:53:17,799: Qubits usados na camada TransportLayer: 9\n",
      "2024-09-06 15:53:17,799: Qubits usados na camada ApplicationLayer: 0\n"
     ]
    },
    {
     "data": {
      "text/plain": [
       "9"
      ]
     },
     "execution_count": 9,
     "metadata": {},
     "output_type": "execute_result"
    }
   ],
   "source": [
    "rede.get_total_useds_qubits()"
   ]
  },
  {
   "cell_type": "code",
   "execution_count": 10,
   "metadata": {},
   "outputs": [
    {
     "name": "stdout",
     "output_type": "stream",
     "text": [
      "memoria de alice: []\n",
      "memoria de bob: [<quantumnet.objects.qubit.Qubit object at 0x7817835adf10>, <quantumnet.objects.qubit.Qubit object at 0x7817835af5c0>, <quantumnet.objects.qubit.Qubit object at 0x7817880bf530>, <quantumnet.objects.qubit.Qubit object at 0x7817835af680>, <quantumnet.objects.qubit.Qubit object at 0x7817835af7d0>, <quantumnet.objects.qubit.Qubit object at 0x7817835af620>, <quantumnet.objects.qubit.Qubit object at 0x7817835af890>, <quantumnet.objects.qubit.Qubit object at 0x781783596cc0>, <quantumnet.objects.qubit.Qubit object at 0x7817835af3b0>, <quantumnet.objects.qubit.Qubit object at 0x78178c777440>, <quantumnet.objects.qubit.Qubit object at 0x781789feae70>, <quantumnet.objects.qubit.Qubit object at 0x781789feab70>, <quantumnet.objects.qubit.Qubit object at 0x781789fe9400>, <quantumnet.objects.qubit.Qubit object at 0x781789fe9130>, <quantumnet.objects.qubit.Qubit object at 0x78178804e1b0>, <quantumnet.objects.qubit.Qubit object at 0x781788172ba0>, <quantumnet.objects.qubit.Qubit object at 0x781783f86600>, <quantumnet.objects.qubit.Qubit object at 0x781783526360>, <quantumnet.objects.qubit.Qubit object at 0x78178806e7e0>]\n"
     ]
    }
   ],
   "source": [
    "print('memoria de alice:',(alice.memory))\n",
    "print('memoria de bob:',(bob.memory))"
   ]
  },
  {
   "cell_type": "markdown",
   "metadata": {},
   "source": [
    "##### Essa função apresenta uma lista de métricas do transmissão dos qubits."
   ]
  },
  {
   "cell_type": "code",
   "execution_count": 11,
   "metadata": {},
   "outputs": [
    {
     "data": {
      "text/plain": [
       "[{'route': [0, 3, 6, 7, 8], 'alice_id': 0, 'bob_id': 8},\n",
       " {'route': [0, 3, 6, 7, 8], 'alice_id': 0, 'bob_id': 8},\n",
       " {'alice_id': 0,\n",
       "  'bob_id': 8,\n",
       "  'route': [0, 3, 6, 7, 8],\n",
       "  'fidelity_alice': 0.8630440269948967,\n",
       "  'fidelity_bob': 0.7693468523208623,\n",
       "  'fidelity_route': 1.0,\n",
       "  'F_final': 0.6639802055828451,\n",
       "  'qubit_alice': <quantumnet.objects.qubit.Qubit at 0x78178c777440>,\n",
       "  'qubit_bob': <quantumnet.objects.qubit.Qubit at 0x7817835afbf0>,\n",
       "  'success': True}]"
      ]
     },
     "execution_count": 11,
     "metadata": {},
     "output_type": "execute_result"
    }
   ],
   "source": [
    "rede.transportlayer.get_teleported_qubits()"
   ]
  },
  {
   "cell_type": "code",
   "execution_count": 12,
   "metadata": {},
   "outputs": [
    {
     "data": {
      "text/plain": [
       "11"
      ]
     },
     "execution_count": 12,
     "metadata": {},
     "output_type": "execute_result"
    }
   ],
   "source": [
    "rede.transportlayer.timeslot"
   ]
  },
  {
   "cell_type": "code",
   "execution_count": 13,
   "metadata": {},
   "outputs": [
    {
     "name": "stderr",
     "output_type": "stream",
     "text": [
      "2024-09-06 15:53:18,166: A fidelidade média dos EPRs na camada de transporte é 1.0\n"
     ]
    },
    {
     "data": {
      "text/plain": [
       "1.0"
      ]
     },
     "execution_count": 13,
     "metadata": {},
     "output_type": "execute_result"
    }
   ],
   "source": [
    "rede.transportlayer.avg_fidelity_on_transportlayer()"
   ]
  },
  {
   "cell_type": "code",
   "execution_count": 14,
   "metadata": {},
   "outputs": [
    {
     "name": "stderr",
     "output_type": "stream",
     "text": [
      "2024-09-06 15:53:18,248: Timeslot atual na camada PhysicalLayer: 0\n",
      "2024-09-06 15:53:18,251: Timeslot atual na camada LinkLayer: 0\n",
      "2024-09-06 15:53:18,253: Timeslot atual na camada NetworkLayer: 0\n",
      "2024-09-06 15:53:18,254: Timeslot atual na camada TransportLayer: 11\n",
      "2024-09-06 15:53:18,255: Timeslot atual na camada ApplicationLayer: 0\n"
     ]
    },
    {
     "data": {
      "text/plain": [
       "11"
      ]
     },
     "execution_count": 14,
     "metadata": {},
     "output_type": "execute_result"
    }
   ],
   "source": [
    "rede.get_total_timeslot()"
   ]
  }
 ],
 "metadata": {
  "kernelspec": {
   "display_name": "Python 3",
   "language": "python",
   "name": "python3"
  },
  "language_info": {
   "codemirror_mode": {
    "name": "ipython",
    "version": 3
   },
   "file_extension": ".py",
   "mimetype": "text/x-python",
   "name": "python",
   "nbconvert_exporter": "python",
   "pygments_lexer": "ipython3",
   "version": "3.12.3"
  }
 },
 "nbformat": 4,
 "nbformat_minor": 2
}
