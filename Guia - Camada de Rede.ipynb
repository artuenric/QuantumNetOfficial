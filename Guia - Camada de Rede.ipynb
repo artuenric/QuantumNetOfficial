{
 "cells": [
  {
   "cell_type": "markdown",
   "metadata": {},
   "source": [
    "# Guia da Camada de Rede\n",
    "### A camada de rede serve para o cliente pedir uma requisição de rota entre dois pontos (Alice e Bob) e que seja atendida por uma rota escolhida e adequada."
   ]
  },
  {
   "cell_type": "markdown",
   "metadata": {},
   "source": [
    "#### IMPORTANDO AS DEPENDÊNCIAS\n",
    "##### Este documento tem como objetivo demostrar a execução da camada de rede, além de suas funcionalidades. "
   ]
  },
  {
   "cell_type": "code",
   "execution_count": 1,
   "metadata": {},
   "outputs": [],
   "source": [
    "from quantumnet.components import Network, Host\n",
    "from quantumnet.objects import Qubit, Logger\n",
    "Logger.activate(Logger)"
   ]
  },
  {
   "cell_type": "markdown",
   "metadata": {},
   "source": [
    "#### Ao importar as dependências, vamos instaciar a rede com 20 qubits em cada host e 10 pares EPRS em cada canal da topologia. "
   ]
  },
  {
   "cell_type": "code",
   "execution_count": 2,
   "metadata": {},
   "outputs": [
    {
     "name": "stderr",
     "output_type": "stream",
     "text": [
      "2024-08-14 14:47:55,218: Qubit 0 adicionado à memória do Host 0.\n",
      "2024-08-14 14:47:55,218: Qubit 0 criado com fidelidade inicial 0.716997281073096 e adicionado à memória do Host 0.\n",
      "2024-08-14 14:47:55,219: Qubit 1 adicionado à memória do Host 0.\n",
      "2024-08-14 14:47:55,219: Qubit 1 criado com fidelidade inicial 0.35436840012939885 e adicionado à memória do Host 0.\n",
      "2024-08-14 14:47:55,220: Qubit 2 adicionado à memória do Host 0.\n",
      "2024-08-14 14:47:55,220: Qubit 2 criado com fidelidade inicial 0.8827319317766296 e adicionado à memória do Host 0.\n",
      "2024-08-14 14:47:55,220: Qubit 3 adicionado à memória do Host 0.\n",
      "2024-08-14 14:47:55,221: Qubit 3 criado com fidelidade inicial 0.3521737921070941 e adicionado à memória do Host 0.\n",
      "2024-08-14 14:47:55,221: Qubit 4 adicionado à memória do Host 0.\n",
      "2024-08-14 14:47:55,221: Qubit 4 criado com fidelidade inicial 0.508997028051129 e adicionado à memória do Host 0.\n",
      "2024-08-14 14:47:55,221: Qubit 5 adicionado à memória do Host 0.\n",
      "2024-08-14 14:47:55,222: Qubit 5 criado com fidelidade inicial 0.1077742446025376 e adicionado à memória do Host 0.\n",
      "2024-08-14 14:47:55,222: Qubit 6 adicionado à memória do Host 0.\n",
      "2024-08-14 14:47:55,222: Qubit 6 criado com fidelidade inicial 0.5047052795053191 e adicionado à memória do Host 0.\n",
      "2024-08-14 14:47:55,223: Qubit 7 adicionado à memória do Host 0.\n",
      "2024-08-14 14:47:55,223: Qubit 7 criado com fidelidade inicial 0.4390644716619839 e adicionado à memória do Host 0.\n",
      "2024-08-14 14:47:55,224: Qubit 8 adicionado à memória do Host 0.\n",
      "2024-08-14 14:47:55,224: Qubit 8 criado com fidelidade inicial 0.14654092519024176 e adicionado à memória do Host 0.\n",
      "2024-08-14 14:47:55,224: Qubit 9 adicionado à memória do Host 0.\n",
      "2024-08-14 14:47:55,224: Qubit 9 criado com fidelidade inicial 0.9026728117085798 e adicionado à memória do Host 0.\n",
      "2024-08-14 14:47:55,225: Qubit 10 adicionado à memória do Host 1.\n",
      "2024-08-14 14:47:55,225: Qubit 10 criado com fidelidade inicial 0.6405430481774484 e adicionado à memória do Host 1.\n",
      "2024-08-14 14:47:55,225: Qubit 11 adicionado à memória do Host 1.\n",
      "2024-08-14 14:47:55,226: Qubit 11 criado com fidelidade inicial 0.7752035984748046 e adicionado à memória do Host 1.\n",
      "2024-08-14 14:47:55,226: Qubit 12 adicionado à memória do Host 1.\n",
      "2024-08-14 14:47:55,226: Qubit 12 criado com fidelidade inicial 0.7385541937326192 e adicionado à memória do Host 1.\n",
      "2024-08-14 14:47:55,226: Qubit 13 adicionado à memória do Host 1.\n",
      "2024-08-14 14:47:55,227: Qubit 13 criado com fidelidade inicial 0.2923439873473037 e adicionado à memória do Host 1.\n",
      "2024-08-14 14:47:55,227: Qubit 14 adicionado à memória do Host 1.\n",
      "2024-08-14 14:47:55,227: Qubit 14 criado com fidelidade inicial 0.29268611623067087 e adicionado à memória do Host 1.\n",
      "2024-08-14 14:47:55,227: Qubit 15 adicionado à memória do Host 1.\n",
      "2024-08-14 14:47:55,228: Qubit 15 criado com fidelidade inicial 0.2986450521385472 e adicionado à memória do Host 1.\n",
      "2024-08-14 14:47:55,228: Qubit 16 adicionado à memória do Host 1.\n",
      "2024-08-14 14:47:55,228: Qubit 16 criado com fidelidade inicial 0.7669108196746547 e adicionado à memória do Host 1.\n",
      "2024-08-14 14:47:55,229: Qubit 17 adicionado à memória do Host 1.\n",
      "2024-08-14 14:47:55,229: Qubit 17 criado com fidelidade inicial 0.24767030146825864 e adicionado à memória do Host 1.\n",
      "2024-08-14 14:47:55,229: Qubit 18 adicionado à memória do Host 1.\n",
      "2024-08-14 14:47:55,229: Qubit 18 criado com fidelidade inicial 0.6196014165520708 e adicionado à memória do Host 1.\n",
      "2024-08-14 14:47:55,230: Qubit 19 adicionado à memória do Host 1.\n",
      "2024-08-14 14:47:55,230: Qubit 19 criado com fidelidade inicial 0.4383684651340608 e adicionado à memória do Host 1.\n",
      "2024-08-14 14:47:55,230: Qubit 20 adicionado à memória do Host 2.\n",
      "2024-08-14 14:47:55,230: Qubit 20 criado com fidelidade inicial 0.7223851989049435 e adicionado à memória do Host 2.\n",
      "2024-08-14 14:47:55,231: Qubit 21 adicionado à memória do Host 2.\n",
      "2024-08-14 14:47:55,231: Qubit 21 criado com fidelidade inicial 0.9772916452335929 e adicionado à memória do Host 2.\n",
      "2024-08-14 14:47:55,231: Qubit 22 adicionado à memória do Host 2.\n",
      "2024-08-14 14:47:55,232: Qubit 22 criado com fidelidade inicial 0.3899064941853311 e adicionado à memória do Host 2.\n",
      "2024-08-14 14:47:55,232: Qubit 23 adicionado à memória do Host 2.\n",
      "2024-08-14 14:47:55,232: Qubit 23 criado com fidelidade inicial 0.2570225631832229 e adicionado à memória do Host 2.\n",
      "2024-08-14 14:47:55,232: Qubit 24 adicionado à memória do Host 2.\n",
      "2024-08-14 14:47:55,233: Qubit 24 criado com fidelidade inicial 0.5536523674934548 e adicionado à memória do Host 2.\n",
      "2024-08-14 14:47:55,233: Qubit 25 adicionado à memória do Host 2.\n",
      "2024-08-14 14:47:55,233: Qubit 25 criado com fidelidade inicial 0.5019374005274847 e adicionado à memória do Host 2.\n",
      "2024-08-14 14:47:55,233: Qubit 26 adicionado à memória do Host 2.\n",
      "2024-08-14 14:47:55,234: Qubit 26 criado com fidelidade inicial 0.14151561841714666 e adicionado à memória do Host 2.\n",
      "2024-08-14 14:47:55,234: Qubit 27 adicionado à memória do Host 2.\n",
      "2024-08-14 14:47:55,234: Qubit 27 criado com fidelidade inicial 0.14902270007015006 e adicionado à memória do Host 2.\n",
      "2024-08-14 14:47:55,234: Qubit 28 adicionado à memória do Host 2.\n",
      "2024-08-14 14:47:55,235: Qubit 28 criado com fidelidade inicial 0.5360901664194666 e adicionado à memória do Host 2.\n",
      "2024-08-14 14:47:55,235: Qubit 29 adicionado à memória do Host 2.\n",
      "2024-08-14 14:47:55,235: Qubit 29 criado com fidelidade inicial 0.46378918753378784 e adicionado à memória do Host 2.\n",
      "2024-08-14 14:47:55,235: Qubit 30 adicionado à memória do Host 3.\n",
      "2024-08-14 14:47:55,236: Qubit 30 criado com fidelidade inicial 0.04465763035646808 e adicionado à memória do Host 3.\n",
      "2024-08-14 14:47:55,236: Qubit 31 adicionado à memória do Host 3.\n",
      "2024-08-14 14:47:55,236: Qubit 31 criado com fidelidade inicial 0.534264903906537 e adicionado à memória do Host 3.\n",
      "2024-08-14 14:47:55,236: Qubit 32 adicionado à memória do Host 3.\n",
      "2024-08-14 14:47:55,237: Qubit 32 criado com fidelidade inicial 0.354970768014077 e adicionado à memória do Host 3.\n",
      "2024-08-14 14:47:55,237: Qubit 33 adicionado à memória do Host 3.\n",
      "2024-08-14 14:47:55,237: Qubit 33 criado com fidelidade inicial 0.3148984641517629 e adicionado à memória do Host 3.\n",
      "2024-08-14 14:47:55,238: Qubit 34 adicionado à memória do Host 3.\n",
      "2024-08-14 14:47:55,238: Qubit 34 criado com fidelidade inicial 0.2617480266153698 e adicionado à memória do Host 3.\n",
      "2024-08-14 14:47:55,238: Qubit 35 adicionado à memória do Host 3.\n",
      "2024-08-14 14:47:55,239: Qubit 35 criado com fidelidade inicial 0.4885869334428393 e adicionado à memória do Host 3.\n",
      "2024-08-14 14:47:55,239: Qubit 36 adicionado à memória do Host 3.\n",
      "2024-08-14 14:47:55,239: Qubit 36 criado com fidelidade inicial 0.14303009044418769 e adicionado à memória do Host 3.\n",
      "2024-08-14 14:47:55,239: Qubit 37 adicionado à memória do Host 3.\n",
      "2024-08-14 14:47:55,240: Qubit 37 criado com fidelidade inicial 0.9511222887246792 e adicionado à memória do Host 3.\n",
      "2024-08-14 14:47:55,240: Qubit 38 adicionado à memória do Host 3.\n",
      "2024-08-14 14:47:55,240: Qubit 38 criado com fidelidade inicial 0.8851684601070798 e adicionado à memória do Host 3.\n",
      "2024-08-14 14:47:55,241: Qubit 39 adicionado à memória do Host 3.\n",
      "2024-08-14 14:47:55,241: Qubit 39 criado com fidelidade inicial 0.6585485937048939 e adicionado à memória do Host 3.\n",
      "2024-08-14 14:47:55,241: Qubit 40 adicionado à memória do Host 4.\n",
      "2024-08-14 14:47:55,241: Qubit 40 criado com fidelidade inicial 0.8755472985919021 e adicionado à memória do Host 4.\n",
      "2024-08-14 14:47:55,242: Qubit 41 adicionado à memória do Host 4.\n",
      "2024-08-14 14:47:55,242: Qubit 41 criado com fidelidade inicial 0.3275896858358063 e adicionado à memória do Host 4.\n",
      "2024-08-14 14:47:55,242: Qubit 42 adicionado à memória do Host 4.\n",
      "2024-08-14 14:47:55,243: Qubit 42 criado com fidelidade inicial 0.5100029184460322 e adicionado à memória do Host 4.\n",
      "2024-08-14 14:47:55,243: Qubit 43 adicionado à memória do Host 4.\n",
      "2024-08-14 14:47:55,243: Qubit 43 criado com fidelidade inicial 0.4303528849268009 e adicionado à memória do Host 4.\n",
      "2024-08-14 14:47:55,244: Qubit 44 adicionado à memória do Host 4.\n",
      "2024-08-14 14:47:55,244: Qubit 44 criado com fidelidade inicial 0.4319498055112382 e adicionado à memória do Host 4.\n",
      "2024-08-14 14:47:55,244: Qubit 45 adicionado à memória do Host 4.\n",
      "2024-08-14 14:47:55,245: Qubit 45 criado com fidelidade inicial 0.3054595529381495 e adicionado à memória do Host 4.\n",
      "2024-08-14 14:47:55,245: Qubit 46 adicionado à memória do Host 4.\n",
      "2024-08-14 14:47:55,245: Qubit 46 criado com fidelidade inicial 0.913436073687615 e adicionado à memória do Host 4.\n",
      "2024-08-14 14:47:55,246: Qubit 47 adicionado à memória do Host 4.\n",
      "2024-08-14 14:47:55,246: Qubit 47 criado com fidelidade inicial 0.07449185180815254 e adicionado à memória do Host 4.\n",
      "2024-08-14 14:47:55,246: Qubit 48 adicionado à memória do Host 4.\n",
      "2024-08-14 14:47:55,247: Qubit 48 criado com fidelidade inicial 0.8452230166721225 e adicionado à memória do Host 4.\n",
      "2024-08-14 14:47:55,247: Qubit 49 adicionado à memória do Host 4.\n",
      "2024-08-14 14:47:55,247: Qubit 49 criado com fidelidade inicial 0.5155382760047896 e adicionado à memória do Host 4.\n",
      "2024-08-14 14:47:55,247: Qubit 50 adicionado à memória do Host 5.\n",
      "2024-08-14 14:47:55,248: Qubit 50 criado com fidelidade inicial 0.6120095453960716 e adicionado à memória do Host 5.\n",
      "2024-08-14 14:47:55,248: Qubit 51 adicionado à memória do Host 5.\n",
      "2024-08-14 14:47:55,248: Qubit 51 criado com fidelidade inicial 0.7161707101416315 e adicionado à memória do Host 5.\n",
      "2024-08-14 14:47:55,249: Qubit 52 adicionado à memória do Host 5.\n",
      "2024-08-14 14:47:55,249: Qubit 52 criado com fidelidade inicial 0.8937430679483118 e adicionado à memória do Host 5.\n",
      "2024-08-14 14:47:55,249: Qubit 53 adicionado à memória do Host 5.\n",
      "2024-08-14 14:47:55,250: Qubit 53 criado com fidelidade inicial 0.3060205487271964 e adicionado à memória do Host 5.\n",
      "2024-08-14 14:47:55,250: Qubit 54 adicionado à memória do Host 5.\n",
      "2024-08-14 14:47:55,250: Qubit 54 criado com fidelidade inicial 0.5845896896961031 e adicionado à memória do Host 5.\n",
      "2024-08-14 14:47:55,250: Qubit 55 adicionado à memória do Host 5.\n",
      "2024-08-14 14:47:55,251: Qubit 55 criado com fidelidade inicial 0.67915699477912 e adicionado à memória do Host 5.\n",
      "2024-08-14 14:47:55,251: Qubit 56 adicionado à memória do Host 5.\n",
      "2024-08-14 14:47:55,251: Qubit 56 criado com fidelidade inicial 0.16004900172124936 e adicionado à memória do Host 5.\n",
      "2024-08-14 14:47:55,252: Qubit 57 adicionado à memória do Host 5.\n",
      "2024-08-14 14:47:55,252: Qubit 57 criado com fidelidade inicial 0.8085143539209836 e adicionado à memória do Host 5.\n",
      "2024-08-14 14:47:55,252: Qubit 58 adicionado à memória do Host 5.\n",
      "2024-08-14 14:47:55,252: Qubit 58 criado com fidelidade inicial 0.18099153847241212 e adicionado à memória do Host 5.\n",
      "2024-08-14 14:47:55,252: Qubit 59 adicionado à memória do Host 5.\n",
      "2024-08-14 14:47:55,252: Qubit 59 criado com fidelidade inicial 0.6865449397414385 e adicionado à memória do Host 5.\n",
      "2024-08-14 14:47:55,252: Qubit 60 adicionado à memória do Host 6.\n",
      "2024-08-14 14:47:55,253: Qubit 60 criado com fidelidade inicial 0.19021384363357763 e adicionado à memória do Host 6.\n",
      "2024-08-14 14:47:55,253: Qubit 61 adicionado à memória do Host 6.\n",
      "2024-08-14 14:47:55,253: Qubit 61 criado com fidelidade inicial 0.5013262436357548 e adicionado à memória do Host 6.\n",
      "2024-08-14 14:47:55,254: Qubit 62 adicionado à memória do Host 6.\n",
      "2024-08-14 14:47:55,254: Qubit 62 criado com fidelidade inicial 0.44755290157178884 e adicionado à memória do Host 6.\n",
      "2024-08-14 14:47:55,254: Qubit 63 adicionado à memória do Host 6.\n",
      "2024-08-14 14:47:55,255: Qubit 63 criado com fidelidade inicial 0.9136696927715 e adicionado à memória do Host 6.\n",
      "2024-08-14 14:47:55,255: Qubit 64 adicionado à memória do Host 6.\n",
      "2024-08-14 14:47:55,255: Qubit 64 criado com fidelidade inicial 0.21420608750647285 e adicionado à memória do Host 6.\n",
      "2024-08-14 14:47:55,255: Qubit 65 adicionado à memória do Host 6.\n",
      "2024-08-14 14:47:55,256: Qubit 65 criado com fidelidade inicial 0.46929098241844214 e adicionado à memória do Host 6.\n",
      "2024-08-14 14:47:55,256: Qubit 66 adicionado à memória do Host 6.\n",
      "2024-08-14 14:47:55,256: Qubit 66 criado com fidelidade inicial 0.10519163688647781 e adicionado à memória do Host 6.\n",
      "2024-08-14 14:47:55,257: Qubit 67 adicionado à memória do Host 6.\n",
      "2024-08-14 14:47:55,257: Qubit 67 criado com fidelidade inicial 0.15391070128204187 e adicionado à memória do Host 6.\n",
      "2024-08-14 14:47:55,257: Qubit 68 adicionado à memória do Host 6.\n",
      "2024-08-14 14:47:55,257: Qubit 68 criado com fidelidade inicial 0.6528929304272411 e adicionado à memória do Host 6.\n",
      "2024-08-14 14:47:55,258: Qubit 69 adicionado à memória do Host 6.\n",
      "2024-08-14 14:47:55,258: Qubit 69 criado com fidelidade inicial 0.1862629039217546 e adicionado à memória do Host 6.\n",
      "2024-08-14 14:47:55,258: Qubit 70 adicionado à memória do Host 7.\n",
      "2024-08-14 14:47:55,259: Qubit 70 criado com fidelidade inicial 0.47630721819475863 e adicionado à memória do Host 7.\n",
      "2024-08-14 14:47:55,259: Qubit 71 adicionado à memória do Host 7.\n",
      "2024-08-14 14:47:55,259: Qubit 71 criado com fidelidade inicial 0.1880853106848226 e adicionado à memória do Host 7.\n",
      "2024-08-14 14:47:55,259: Qubit 72 adicionado à memória do Host 7.\n",
      "2024-08-14 14:47:55,260: Qubit 72 criado com fidelidade inicial 0.9120865890302239 e adicionado à memória do Host 7.\n",
      "2024-08-14 14:47:55,260: Qubit 73 adicionado à memória do Host 7.\n",
      "2024-08-14 14:47:55,260: Qubit 73 criado com fidelidade inicial 0.9666483318468375 e adicionado à memória do Host 7.\n",
      "2024-08-14 14:47:55,260: Qubit 74 adicionado à memória do Host 7.\n",
      "2024-08-14 14:47:55,261: Qubit 74 criado com fidelidade inicial 0.38979845364087007 e adicionado à memória do Host 7.\n",
      "2024-08-14 14:47:55,261: Qubit 75 adicionado à memória do Host 7.\n",
      "2024-08-14 14:47:55,261: Qubit 75 criado com fidelidade inicial 0.27183171024638575 e adicionado à memória do Host 7.\n",
      "2024-08-14 14:47:55,262: Qubit 76 adicionado à memória do Host 7.\n",
      "2024-08-14 14:47:55,262: Qubit 76 criado com fidelidade inicial 0.05106456742072396 e adicionado à memória do Host 7.\n",
      "2024-08-14 14:47:55,262: Qubit 77 adicionado à memória do Host 7.\n",
      "2024-08-14 14:47:55,262: Qubit 77 criado com fidelidade inicial 0.4485470173618388 e adicionado à memória do Host 7.\n",
      "2024-08-14 14:47:55,263: Qubit 78 adicionado à memória do Host 7.\n",
      "2024-08-14 14:47:55,264: Qubit 78 criado com fidelidade inicial 0.9253595940338406 e adicionado à memória do Host 7.\n",
      "2024-08-14 14:47:55,264: Qubit 79 adicionado à memória do Host 7.\n",
      "2024-08-14 14:47:55,264: Qubit 79 criado com fidelidade inicial 0.5985841023441356 e adicionado à memória do Host 7.\n",
      "2024-08-14 14:47:55,264: Qubit 80 adicionado à memória do Host 8.\n",
      "2024-08-14 14:47:55,265: Qubit 80 criado com fidelidade inicial 0.9188221678303677 e adicionado à memória do Host 8.\n",
      "2024-08-14 14:47:55,265: Qubit 81 adicionado à memória do Host 8.\n",
      "2024-08-14 14:47:55,265: Qubit 81 criado com fidelidade inicial 0.18875003927998002 e adicionado à memória do Host 8.\n",
      "2024-08-14 14:47:55,266: Qubit 82 adicionado à memória do Host 8.\n",
      "2024-08-14 14:47:55,266: Qubit 82 criado com fidelidade inicial 0.03315077003629541 e adicionado à memória do Host 8.\n",
      "2024-08-14 14:47:55,266: Qubit 83 adicionado à memória do Host 8.\n",
      "2024-08-14 14:47:55,266: Qubit 83 criado com fidelidade inicial 0.15350522826083812 e adicionado à memória do Host 8.\n",
      "2024-08-14 14:47:55,267: Qubit 84 adicionado à memória do Host 8.\n",
      "2024-08-14 14:47:55,267: Qubit 84 criado com fidelidade inicial 0.48669317812355517 e adicionado à memória do Host 8.\n",
      "2024-08-14 14:47:55,268: Qubit 85 adicionado à memória do Host 8.\n",
      "2024-08-14 14:47:55,268: Qubit 85 criado com fidelidade inicial 0.5443028135064523 e adicionado à memória do Host 8.\n",
      "2024-08-14 14:47:55,268: Qubit 86 adicionado à memória do Host 8.\n",
      "2024-08-14 14:47:55,268: Qubit 86 criado com fidelidade inicial 0.7767304270452989 e adicionado à memória do Host 8.\n",
      "2024-08-14 14:47:55,269: Qubit 87 adicionado à memória do Host 8.\n",
      "2024-08-14 14:47:55,269: Qubit 87 criado com fidelidade inicial 0.32476581915666447 e adicionado à memória do Host 8.\n",
      "2024-08-14 14:47:55,269: Qubit 88 adicionado à memória do Host 8.\n",
      "2024-08-14 14:47:55,269: Qubit 88 criado com fidelidade inicial 0.8374646621984835 e adicionado à memória do Host 8.\n",
      "2024-08-14 14:47:55,270: Qubit 89 adicionado à memória do Host 8.\n",
      "2024-08-14 14:47:55,270: Qubit 89 criado com fidelidade inicial 0.2673852526249437 e adicionado à memória do Host 8.\n",
      "2024-08-14 14:47:55,270: Par EPR <quantumnet.objects.epr.Epr object at 0x000001D8C6A680E0> adicionado ao canal.\n",
      "2024-08-14 14:47:55,271: Par EPR <quantumnet.objects.epr.Epr object at 0x000001D8C6A43E60> adicionado ao canal.\n",
      "2024-08-14 14:47:55,271: Par EPR <quantumnet.objects.epr.Epr object at 0x000001D8C6A69880> adicionado ao canal.\n",
      "2024-08-14 14:47:55,271: Par EPR <quantumnet.objects.epr.Epr object at 0x000001D8C6A696A0> adicionado ao canal.\n",
      "2024-08-14 14:47:55,272: Par EPR <quantumnet.objects.epr.Epr object at 0x000001D8C6A7D400> adicionado ao canal.\n",
      "2024-08-14 14:47:55,272: Par EPR <quantumnet.objects.epr.Epr object at 0x000001D8C673D460> adicionado ao canal.\n",
      "2024-08-14 14:47:55,272: Par EPR <quantumnet.objects.epr.Epr object at 0x000001D8C6A7C620> adicionado ao canal.\n",
      "2024-08-14 14:47:55,273: Par EPR <quantumnet.objects.epr.Epr object at 0x000001D8C691D070> adicionado ao canal.\n",
      "2024-08-14 14:47:55,273: Par EPR <quantumnet.objects.epr.Epr object at 0x000001D8C6A6A5A0> adicionado ao canal.\n",
      "2024-08-14 14:47:55,273: Par EPR <quantumnet.objects.epr.Epr object at 0x000001D8C66FDB20> adicionado ao canal.\n",
      "2024-08-14 14:47:55,273: Par EPR <quantumnet.objects.epr.Epr object at 0x000001D8C6A7D730> adicionado ao canal.\n",
      "2024-08-14 14:47:55,274: Par EPR <quantumnet.objects.epr.Epr object at 0x000001D8C6A7D5E0> adicionado ao canal.\n",
      "2024-08-14 14:47:55,274: Par EPR <quantumnet.objects.epr.Epr object at 0x000001D8C6A7D430> adicionado ao canal.\n",
      "2024-08-14 14:47:55,274: Par EPR <quantumnet.objects.epr.Epr object at 0x000001D8C6A7D760> adicionado ao canal.\n",
      "2024-08-14 14:47:55,275: Par EPR <quantumnet.objects.epr.Epr object at 0x000001D8C6A7DC70> adicionado ao canal.\n",
      "2024-08-14 14:47:55,275: Par EPR <quantumnet.objects.epr.Epr object at 0x000001D8C6A7DCD0> adicionado ao canal.\n",
      "2024-08-14 14:47:55,275: Par EPR <quantumnet.objects.epr.Epr object at 0x000001D8C6A7DD00> adicionado ao canal.\n",
      "2024-08-14 14:47:55,276: Par EPR <quantumnet.objects.epr.Epr object at 0x000001D8C6A7DD30> adicionado ao canal.\n",
      "2024-08-14 14:47:55,276: Par EPR <quantumnet.objects.epr.Epr object at 0x000001D8C6A7DDC0> adicionado ao canal.\n",
      "2024-08-14 14:47:55,277: Par EPR <quantumnet.objects.epr.Epr object at 0x000001D8C67A5A60> adicionado ao canal.\n",
      "2024-08-14 14:47:55,277: Par EPR <quantumnet.objects.epr.Epr object at 0x000001D8C6A7DE50> adicionado ao canal.\n",
      "2024-08-14 14:47:55,278: Par EPR <quantumnet.objects.epr.Epr object at 0x000001D8C6A6B560> adicionado ao canal.\n",
      "2024-08-14 14:47:55,280: Par EPR <quantumnet.objects.epr.Epr object at 0x000001D8C650E240> adicionado ao canal.\n",
      "2024-08-14 14:47:55,281: Par EPR <quantumnet.objects.epr.Epr object at 0x000001D8C66DB620> adicionado ao canal.\n",
      "2024-08-14 14:47:55,281: Par EPR <quantumnet.objects.epr.Epr object at 0x000001D8C6A7DEE0> adicionado ao canal.\n",
      "2024-08-14 14:47:55,282: Par EPR <quantumnet.objects.epr.Epr object at 0x000001D8C6A7DAF0> adicionado ao canal.\n",
      "2024-08-14 14:47:55,282: Par EPR <quantumnet.objects.epr.Epr object at 0x000001D8C6A7E2D0> adicionado ao canal.\n",
      "2024-08-14 14:47:55,283: Par EPR <quantumnet.objects.epr.Epr object at 0x000001D8C6A7DCA0> adicionado ao canal.\n",
      "2024-08-14 14:47:55,283: Par EPR <quantumnet.objects.epr.Epr object at 0x000001D8C6A7E330> adicionado ao canal.\n",
      "2024-08-14 14:47:55,284: Par EPR <quantumnet.objects.epr.Epr object at 0x000001D8C6573C20> adicionado ao canal.\n",
      "2024-08-14 14:47:55,284: Par EPR <quantumnet.objects.epr.Epr object at 0x000001D8C6A7E360> adicionado ao canal.\n",
      "2024-08-14 14:47:55,285: Par EPR <quantumnet.objects.epr.Epr object at 0x000001D8C6A7E690> adicionado ao canal.\n",
      "2024-08-14 14:47:55,285: Par EPR <quantumnet.objects.epr.Epr object at 0x000001D8C650E900> adicionado ao canal.\n",
      "2024-08-14 14:47:55,286: Par EPR <quantumnet.objects.epr.Epr object at 0x000001D8C6A7DA30> adicionado ao canal.\n",
      "2024-08-14 14:47:55,286: Par EPR <quantumnet.objects.epr.Epr object at 0x000001D8C67BEA50> adicionado ao canal.\n",
      "2024-08-14 14:47:55,286: Par EPR <quantumnet.objects.epr.Epr object at 0x000001D8C6A7E840> adicionado ao canal.\n",
      "2024-08-14 14:47:55,286: Par EPR <quantumnet.objects.epr.Epr object at 0x000001D8C6A7E960> adicionado ao canal.\n",
      "2024-08-14 14:47:55,287: Par EPR <quantumnet.objects.epr.Epr object at 0x000001D8C6976810> adicionado ao canal.\n",
      "2024-08-14 14:47:55,287: Par EPR <quantumnet.objects.epr.Epr object at 0x000001D8C6A7E7B0> adicionado ao canal.\n",
      "2024-08-14 14:47:55,287: Par EPR <quantumnet.objects.epr.Epr object at 0x000001D8C694EDB0> adicionado ao canal.\n",
      "2024-08-14 14:47:55,288: Par EPR <quantumnet.objects.epr.Epr object at 0x000001D8C691EB40> adicionado ao canal.\n",
      "2024-08-14 14:47:55,288: Par EPR <quantumnet.objects.epr.Epr object at 0x000001D8C67EEF00> adicionado ao canal.\n",
      "2024-08-14 14:47:55,288: Par EPR <quantumnet.objects.epr.Epr object at 0x000001D8C691EF90> adicionado ao canal.\n",
      "2024-08-14 14:47:55,289: Par EPR <quantumnet.objects.epr.Epr object at 0x000001D8C6A7EA80> adicionado ao canal.\n",
      "2024-08-14 14:47:55,289: Par EPR <quantumnet.objects.epr.Epr object at 0x000001D8C6A7EEA0> adicionado ao canal.\n",
      "2024-08-14 14:47:55,290: Par EPR <quantumnet.objects.epr.Epr object at 0x000001D8C6A7E870> adicionado ao canal.\n",
      "2024-08-14 14:47:55,290: Par EPR <quantumnet.objects.epr.Epr object at 0x000001D8C6977260> adicionado ao canal.\n",
      "2024-08-14 14:47:55,291: Par EPR <quantumnet.objects.epr.Epr object at 0x000001D8C6A7EB70> adicionado ao canal.\n",
      "2024-08-14 14:47:55,292: Par EPR <quantumnet.objects.epr.Epr object at 0x000001D8C6A7EE10> adicionado ao canal.\n",
      "2024-08-14 14:47:55,292: Par EPR <quantumnet.objects.epr.Epr object at 0x000001D8C650F470> adicionado ao canal.\n",
      "2024-08-14 14:47:55,292: Par EPR <quantumnet.objects.epr.Epr object at 0x000001D8C694F500> adicionado ao canal.\n",
      "2024-08-14 14:47:55,293: Par EPR <quantumnet.objects.epr.Epr object at 0x000001D8C60A7140> adicionado ao canal.\n",
      "2024-08-14 14:47:55,293: Par EPR <quantumnet.objects.epr.Epr object at 0x000001D8C6A7F230> adicionado ao canal.\n",
      "2024-08-14 14:47:55,294: Par EPR <quantumnet.objects.epr.Epr object at 0x000001D8C6A7F380> adicionado ao canal.\n",
      "2024-08-14 14:47:55,294: Par EPR <quantumnet.objects.epr.Epr object at 0x000001D8C6A7F5F0> adicionado ao canal.\n",
      "2024-08-14 14:47:55,294: Par EPR <quantumnet.objects.epr.Epr object at 0x000001D8C6A7F650> adicionado ao canal.\n",
      "2024-08-14 14:47:55,295: Par EPR <quantumnet.objects.epr.Epr object at 0x000001D8C6A7EE40> adicionado ao canal.\n",
      "2024-08-14 14:47:55,295: Par EPR <quantumnet.objects.epr.Epr object at 0x000001D8C6A7F860> adicionado ao canal.\n",
      "2024-08-14 14:47:55,295: Par EPR <quantumnet.objects.epr.Epr object at 0x000001D8C6A7D8E0> adicionado ao canal.\n",
      "2024-08-14 14:47:55,296: Par EPR <quantumnet.objects.epr.Epr object at 0x000001D8C6A7F950> adicionado ao canal.\n",
      "2024-08-14 14:47:55,296: Par EPR <quantumnet.objects.epr.Epr object at 0x000001D8C650FC20> adicionado ao canal.\n",
      "2024-08-14 14:47:55,296: Par EPR <quantumnet.objects.epr.Epr object at 0x000001D8C6A7F7A0> adicionado ao canal.\n",
      "2024-08-14 14:47:55,297: Par EPR <quantumnet.objects.epr.Epr object at 0x000001D8C675FD40> adicionado ao canal.\n",
      "2024-08-14 14:47:55,297: Par EPR <quantumnet.objects.epr.Epr object at 0x000001D8C6A7FB60> adicionado ao canal.\n",
      "2024-08-14 14:47:55,298: Par EPR <quantumnet.objects.epr.Epr object at 0x000001D8C6A7FBF0> adicionado ao canal.\n",
      "2024-08-14 14:47:55,298: Par EPR <quantumnet.objects.epr.Epr object at 0x000001D8C60A5FA0> adicionado ao canal.\n",
      "2024-08-14 14:47:55,298: Par EPR <quantumnet.objects.epr.Epr object at 0x000001D8C6A7F8C0> adicionado ao canal.\n",
      "2024-08-14 14:47:55,299: Par EPR <quantumnet.objects.epr.Epr object at 0x000001D8C6A7FF20> adicionado ao canal.\n",
      "2024-08-14 14:47:55,299: Par EPR <quantumnet.objects.epr.Epr object at 0x000001D8C6A7FF80> adicionado ao canal.\n",
      "2024-08-14 14:47:55,299: Par EPR <quantumnet.objects.epr.Epr object at 0x000001D8C6A68530> adicionado ao canal.\n",
      "2024-08-14 14:47:55,299: Par EPR <quantumnet.objects.epr.Epr object at 0x000001D8C6A7FCB0> adicionado ao canal.\n",
      "2024-08-14 14:47:55,300: Par EPR <quantumnet.objects.epr.Epr object at 0x000001D8C6A7FE60> adicionado ao canal.\n",
      "2024-08-14 14:47:55,300: Par EPR <quantumnet.objects.epr.Epr object at 0x000001D8C6A68650> adicionado ao canal.\n",
      "2024-08-14 14:47:55,300: Par EPR <quantumnet.objects.epr.Epr object at 0x000001D8C6A7F9E0> adicionado ao canal.\n",
      "2024-08-14 14:47:55,302: Par EPR <quantumnet.objects.epr.Epr object at 0x000001D8C6A886B0> adicionado ao canal.\n",
      "2024-08-14 14:47:55,302: Par EPR <quantumnet.objects.epr.Epr object at 0x000001D8C6A88740> adicionado ao canal.\n",
      "2024-08-14 14:47:55,302: Par EPR <quantumnet.objects.epr.Epr object at 0x000001D8C6A88950> adicionado ao canal.\n",
      "2024-08-14 14:47:55,303: Par EPR <quantumnet.objects.epr.Epr object at 0x000001D8C6A68B00> adicionado ao canal.\n",
      "2024-08-14 14:47:55,303: Par EPR <quantumnet.objects.epr.Epr object at 0x000001D8C6A68BC0> adicionado ao canal.\n",
      "2024-08-14 14:47:55,303: Par EPR <quantumnet.objects.epr.Epr object at 0x000001D8C6858CE0> adicionado ao canal.\n",
      "2024-08-14 14:47:55,304: Par EPR <quantumnet.objects.epr.Epr object at 0x000001D8C6A68860> adicionado ao canal.\n",
      "2024-08-14 14:47:55,304: Par EPR <quantumnet.objects.epr.Epr object at 0x000001D8C6A88980> adicionado ao canal.\n",
      "2024-08-14 14:47:55,305: Par EPR <quantumnet.objects.epr.Epr object at 0x000001D8C6A68A70> adicionado ao canal.\n",
      "2024-08-14 14:47:55,305: Par EPR <quantumnet.objects.epr.Epr object at 0x000001D8C6A68F80> adicionado ao canal.\n",
      "2024-08-14 14:47:55,305: Par EPR <quantumnet.objects.epr.Epr object at 0x000001D8C6A88DA0> adicionado ao canal.\n",
      "2024-08-14 14:47:55,305: Par EPR <quantumnet.objects.epr.Epr object at 0x000001D8C6A88590> adicionado ao canal.\n",
      "2024-08-14 14:47:55,305: Par EPR <quantumnet.objects.epr.Epr object at 0x000001D8C6A88AA0> adicionado ao canal.\n",
      "2024-08-14 14:47:55,306: Par EPR <quantumnet.objects.epr.Epr object at 0x000001D8C60C9250> adicionado ao canal.\n",
      "2024-08-14 14:47:55,306: Par EPR <quantumnet.objects.epr.Epr object at 0x000001D8C6A88DD0> adicionado ao canal.\n",
      "2024-08-14 14:47:55,306: Par EPR <quantumnet.objects.epr.Epr object at 0x000001D8C6A693D0> adicionado ao canal.\n",
      "2024-08-14 14:47:55,306: Par EPR <quantumnet.objects.epr.Epr object at 0x000001D8C6A891F0> adicionado ao canal.\n",
      "2024-08-14 14:47:55,307: Par EPR <quantumnet.objects.epr.Epr object at 0x000001D8C6A892B0> adicionado ao canal.\n",
      "2024-08-14 14:47:55,307: Par EPR <quantumnet.objects.epr.Epr object at 0x000001D8C6A695B0> adicionado ao canal.\n",
      "2024-08-14 14:47:55,307: Par EPR <quantumnet.objects.epr.Epr object at 0x000001D8C6A89220> adicionado ao canal.\n",
      "2024-08-14 14:47:55,308: Par EPR <quantumnet.objects.epr.Epr object at 0x000001D8C6A894C0> adicionado ao canal.\n",
      "2024-08-14 14:47:55,308: Par EPR <quantumnet.objects.epr.Epr object at 0x000001D8C6A89640> adicionado ao canal.\n",
      "2024-08-14 14:47:55,308: Par EPR <quantumnet.objects.epr.Epr object at 0x000001D8C6A896A0> adicionado ao canal.\n",
      "2024-08-14 14:47:55,308: Par EPR <quantumnet.objects.epr.Epr object at 0x000001D8C6A89730> adicionado ao canal.\n",
      "2024-08-14 14:47:55,309: Par EPR <quantumnet.objects.epr.Epr object at 0x000001D8C6A89790> adicionado ao canal.\n",
      "2024-08-14 14:47:55,309: Par EPR <quantumnet.objects.epr.Epr object at 0x000001D8C6A88F50> adicionado ao canal.\n",
      "2024-08-14 14:47:55,309: Par EPR <quantumnet.objects.epr.Epr object at 0x000001D8C6A69070> adicionado ao canal.\n",
      "2024-08-14 14:47:55,310: Par EPR <quantumnet.objects.epr.Epr object at 0x000001D8C6A696D0> adicionado ao canal.\n",
      "2024-08-14 14:47:55,310: Par EPR <quantumnet.objects.epr.Epr object at 0x000001D8C6A89670> adicionado ao canal.\n",
      "2024-08-14 14:47:55,311: Par EPR <quantumnet.objects.epr.Epr object at 0x000001D8C6A89B50> adicionado ao canal.\n",
      "2024-08-14 14:47:55,312: Par EPR <quantumnet.objects.epr.Epr object at 0x000001D8C6A89D00> adicionado ao canal.\n",
      "2024-08-14 14:47:55,312: Par EPR <quantumnet.objects.epr.Epr object at 0x000001D8C6A69A90> adicionado ao canal.\n",
      "2024-08-14 14:47:55,312: Par EPR <quantumnet.objects.epr.Epr object at 0x000001D8C6A89DF0> adicionado ao canal.\n",
      "2024-08-14 14:47:55,313: Par EPR <quantumnet.objects.epr.Epr object at 0x000001D8C6571E80> adicionado ao canal.\n",
      "2024-08-14 14:47:55,313: Par EPR <quantumnet.objects.epr.Epr object at 0x000001D8C6A6A120> adicionado ao canal.\n",
      "2024-08-14 14:47:55,313: Par EPR <quantumnet.objects.epr.Epr object at 0x000001D8C6A89F40> adicionado ao canal.\n",
      "2024-08-14 14:47:55,314: Par EPR <quantumnet.objects.epr.Epr object at 0x000001D8C6A6A1B0> adicionado ao canal.\n",
      "2024-08-14 14:47:55,314: Par EPR <quantumnet.objects.epr.Epr object at 0x000001D8C6A6A060> adicionado ao canal.\n",
      "2024-08-14 14:47:55,314: Par EPR <quantumnet.objects.epr.Epr object at 0x000001D8C6A89D60> adicionado ao canal.\n",
      "2024-08-14 14:47:55,315: Par EPR <quantumnet.objects.epr.Epr object at 0x000001D8C6A6A390> adicionado ao canal.\n",
      "2024-08-14 14:47:55,315: Par EPR <quantumnet.objects.epr.Epr object at 0x000001D8C6A42510> adicionado ao canal.\n",
      "2024-08-14 14:47:55,315: Par EPR <quantumnet.objects.epr.Epr object at 0x000001D8C6A8A330> adicionado ao canal.\n",
      "2024-08-14 14:47:55,316: Par EPR <quantumnet.objects.epr.Epr object at 0x000001D8C6A6A570> adicionado ao canal.\n",
      "2024-08-14 14:47:55,316: Par EPR <quantumnet.objects.epr.Epr object at 0x000001D8C6A6A4E0> adicionado ao canal.\n",
      "2024-08-14 14:47:55,316: Par EPR <quantumnet.objects.epr.Epr object at 0x000001D8C6A8A4B0> adicionado ao canal.\n",
      "2024-08-14 14:47:55,317: Par EPR <quantumnet.objects.epr.Epr object at 0x000001D8C6A8A0F0> adicionado ao canal.\n"
     ]
    },
    {
     "name": "stdout",
     "output_type": "stream",
     "text": [
      "Hosts inicializados\n",
      "Canais inicializados\n",
      "Pares EPRs adicionados\n"
     ]
    },
    {
     "data": {
      "image/png": "[encoded data removed]",
      "text/plain": [
       "<Figure size 640x480 with 1 Axes>"
      ]
     },
     "metadata": {},
     "output_type": "display_data"
    }
   ],
   "source": [
    "rede = Network()\n",
    "rede.set_ready_topology(\"Grade\", 3,3)\n",
    "rede.draw()"
   ]
  },
  {
   "cell_type": "code",
   "execution_count": 3,
   "metadata": {},
   "outputs": [],
   "source": [
    "alice = rede.get_host(6)\n",
    "bob = rede.get_host(1)"
   ]
  },
  {
   "cell_type": "markdown",
   "metadata": {},
   "source": [
    "##### Nesse sentido, primeiramente precisa-se escolher a melhor rota e seus critérios são dados pela rota com menor caminho. Para verificar isso usaremos a função short_route_valid, que irá entregar uma rota válida entre Alice e Bob. "
   ]
  },
  {
   "cell_type": "code",
   "execution_count": 4,
   "metadata": {},
   "outputs": [
    {
     "name": "stderr",
     "output_type": "stream",
     "text": [
      "2024-08-14 14:47:56,273: Rota válida encontrada: [8, 5, 2, 1, 0]\n"
     ]
    },
    {
     "data": {
      "text/plain": [
       "[8, 5, 2, 1, 0]"
      ]
     },
     "execution_count": 4,
     "metadata": {},
     "output_type": "execute_result"
    }
   ],
   "source": [
    "rede.networklayer.short_route_valid(8,0)"
   ]
  },
  {
   "cell_type": "markdown",
   "metadata": {},
   "source": [
    "##### Para a rota ser válida, precisa-se verificar se cada canal da rede tem peloo menos 1 par EPR e se nó tem 2 qubits. Através dessas funções podemos verificar."
   ]
  },
  {
   "cell_type": "code",
   "execution_count": 5,
   "metadata": {},
   "outputs": [
    {
     "name": "stderr",
     "output_type": "stream",
     "text": [
      "2024-08-14 14:47:56,280: Há pelo menos 1 par EPR nesses canais\n",
      "2024-08-14 14:47:56,281: Todos os nós possuem pelo menos 2 qubits\n"
     ]
    },
    {
     "data": {
      "text/plain": [
       "True"
      ]
     },
     "execution_count": 5,
     "metadata": {},
     "output_type": "execute_result"
    }
   ],
   "source": [
    "rede.networklayer.verify_channels()\n",
    "rede.networklayer.verify_nodes()"
   ]
  },
  {
   "cell_type": "markdown",
   "metadata": {},
   "source": [
    "##### Dessa forma, vamos realizar o entanglement swapping entre Alice e Bob, o que permite criar um par de qubits emaranhados entre dois nós que não têm uma conexão direta de emaranhamento, utilizando pares intermediários."
   ]
  },
  {
   "cell_type": "code",
   "execution_count": 6,
   "metadata": {},
   "outputs": [
    {
     "name": "stderr",
     "output_type": "stream",
     "text": [
      "2024-08-14 14:47:56,287: Rota válida encontrada: [8, 5, 2, 1, 0]\n",
      "2024-08-14 14:47:56,287: Par EPR <quantumnet.objects.epr.Epr object at 0x000001D8C691E1E0> adicionado ao canal (8, 2).\n",
      "2024-08-14 14:47:56,288: Par EPR <quantumnet.objects.epr.Epr object at 0x000001D8C6A891F0> removido do canal (8, 5).\n",
      "2024-08-14 14:47:56,288: Par EPR <quantumnet.objects.epr.Epr object at 0x000001D8C691EB40> removido do canal (5, 2).\n",
      "2024-08-14 14:47:56,288: Par EPR <quantumnet.objects.epr.Epr object at 0x000001D8C691EB40> adicionado ao canal (8, 1).\n",
      "2024-08-14 14:47:56,289: Par EPR <quantumnet.objects.epr.Epr object at 0x000001D8C691E1E0> removido do canal (8, 2).\n",
      "2024-08-14 14:47:56,289: Par EPR <quantumnet.objects.epr.Epr object at 0x000001D8C6A7E360> removido do canal (2, 1).\n",
      "2024-08-14 14:47:56,289: Par EPR <quantumnet.objects.epr.Epr object at 0x000001D8C6A7E360> adicionado ao canal (8, 0).\n",
      "2024-08-14 14:47:56,290: Par EPR <quantumnet.objects.epr.Epr object at 0x000001D8C691EB40> removido do canal (8, 1).\n",
      "2024-08-14 14:47:56,290: Par EPR <quantumnet.objects.epr.Epr object at 0x000001D8C6A7D730> removido do canal (1, 0).\n",
      "2024-08-14 14:47:56,290: Entanglement Swapping concluído com sucesso entre 8 e 0\n"
     ]
    },
    {
     "data": {
      "text/plain": [
       "True"
      ]
     },
     "execution_count": 6,
     "metadata": {},
     "output_type": "execute_result"
    }
   ],
   "source": [
    "rede.networklayer.entanglement_swapping(8,0)"
   ]
  },
  {
   "cell_type": "code",
   "execution_count": 7,
   "metadata": {},
   "outputs": [
    {
     "data": {
      "text/plain": [
       "[<quantumnet.objects.epr.Epr at 0x1d8c6a7e360>]"
      ]
     },
     "execution_count": 7,
     "metadata": {},
     "output_type": "execute_result"
    }
   ],
   "source": [
    "rede.get_eprs_from_edge(8,0)"
   ]
  }
 ],
 "metadata": {
  "kernelspec": {
   "display_name": "Python 3",
   "language": "python",
   "name": "python3"
  },
  "language_info": {
   "codemirror_mode": {
    "name": "ipython",
    "version": 3
   },
   "file_extension": ".py",
   "mimetype": "text/x-python",
   "name": "python",
   "nbconvert_exporter": "python",
   "pygments_lexer": "ipython3",
   "version": "3.12.1"
  }
 },
 "nbformat": 4,
 "nbformat_minor": 2
}
