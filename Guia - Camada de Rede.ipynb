{
 "cells": [
  {
   "cell_type": "markdown",
   "metadata": {},
   "source": [
    "# Guia da Camada de Rede\n",
    "### A camada de rede serve para o cliente pedir uma requisição de rota entre dois pontos (Alice e Bob) e que seja atendida por uma rota escolhida e adequada."
   ]
  },
  {
   "cell_type": "markdown",
   "metadata": {},
   "source": [
    "#### IMPORTANDO AS DEPENDÊNCIAS\n",
    "##### Este documento tem como objetivo demostrar a execução da camada de rede, além de suas funcionalidades. "
   ]
  },
  {
   "cell_type": "code",
   "execution_count": 1,
   "metadata": {},
   "outputs": [],
   "source": [
    "from quantumnet.components import Network, Host\n",
    "from quantumnet.objects import Qubit, Logger\n",
    "Logger.activate(Logger)"
   ]
  },
  {
   "cell_type": "markdown",
   "metadata": {},
   "source": [
    "#### Ao importar as dependências, vamos instaciar a rede com 20 qubits em cada host e 10 pares EPRS em cada canal da topologia. "
   ]
  },
  {
   "cell_type": "code",
   "execution_count": 2,
   "metadata": {},
   "outputs": [
    {
     "name": "stderr",
     "output_type": "stream",
     "text": [
      "2024-09-06 15:52:44,913: Qubit 0 adicionado à memória do Host 0.\n",
      "2024-09-06 15:52:44,916: Qubit 0 criado com fidelidade inicial 0.4340514527348496 e adicionado à memória do Host 0.\n",
      "2024-09-06 15:52:44,918: Qubit 1 adicionado à memória do Host 0.\n",
      "2024-09-06 15:52:44,920: Qubit 1 criado com fidelidade inicial 0.4830871273131552 e adicionado à memória do Host 0.\n",
      "2024-09-06 15:52:44,922: Qubit 2 adicionado à memória do Host 0.\n",
      "2024-09-06 15:52:44,923: Qubit 2 criado com fidelidade inicial 0.009782217504632151 e adicionado à memória do Host 0.\n",
      "2024-09-06 15:52:44,924: Qubit 3 adicionado à memória do Host 0.\n",
      "2024-09-06 15:52:44,924: Qubit 3 criado com fidelidade inicial 0.2754778104034641 e adicionado à memória do Host 0.\n",
      "2024-09-06 15:52:44,925: Qubit 4 adicionado à memória do Host 0.\n",
      "2024-09-06 15:52:44,926: Qubit 4 criado com fidelidade inicial 0.2375325720449113 e adicionado à memória do Host 0.\n",
      "2024-09-06 15:52:44,927: Qubit 5 adicionado à memória do Host 0.\n",
      "2024-09-06 15:52:44,928: Qubit 5 criado com fidelidade inicial 0.08586473807826889 e adicionado à memória do Host 0.\n",
      "2024-09-06 15:52:44,929: Qubit 6 adicionado à memória do Host 0.\n",
      "2024-09-06 15:52:44,933: Qubit 6 criado com fidelidade inicial 0.5702935451074652 e adicionado à memória do Host 0.\n",
      "2024-09-06 15:52:44,935: Qubit 7 adicionado à memória do Host 0.\n",
      "2024-09-06 15:52:44,936: Qubit 7 criado com fidelidade inicial 0.6835548619588364 e adicionado à memória do Host 0.\n",
      "2024-09-06 15:52:44,943: Qubit 8 adicionado à memória do Host 0.\n",
      "2024-09-06 15:52:44,944: Qubit 8 criado com fidelidade inicial 0.41484014141292047 e adicionado à memória do Host 0.\n",
      "2024-09-06 15:52:44,948: Qubit 9 adicionado à memória do Host 0.\n",
      "2024-09-06 15:52:44,949: Qubit 9 criado com fidelidade inicial 0.07946062969683709 e adicionado à memória do Host 0.\n",
      "2024-09-06 15:52:44,950: Qubit 10 adicionado à memória do Host 1.\n",
      "2024-09-06 15:52:44,954: Qubit 10 criado com fidelidade inicial 0.5673276247361919 e adicionado à memória do Host 1.\n",
      "2024-09-06 15:52:44,954: Qubit 11 adicionado à memória do Host 1.\n",
      "2024-09-06 15:52:44,955: Qubit 11 criado com fidelidade inicial 0.407121464328429 e adicionado à memória do Host 1.\n",
      "2024-09-06 15:52:44,956: Qubit 12 adicionado à memória do Host 1.\n",
      "2024-09-06 15:52:44,964: Qubit 12 criado com fidelidade inicial 0.044763549450523854 e adicionado à memória do Host 1.\n",
      "2024-09-06 15:52:44,969: Qubit 13 adicionado à memória do Host 1.\n",
      "2024-09-06 15:52:44,974: Qubit 13 criado com fidelidade inicial 0.6792921414580018 e adicionado à memória do Host 1.\n",
      "2024-09-06 15:52:44,981: Qubit 14 adicionado à memória do Host 1.\n",
      "2024-09-06 15:52:44,981: Qubit 14 criado com fidelidade inicial 0.8944098436516851 e adicionado à memória do Host 1.\n",
      "2024-09-06 15:52:44,988: Qubit 15 adicionado à memória do Host 1.\n",
      "2024-09-06 15:52:44,998: Qubit 15 criado com fidelidade inicial 0.6934737749087053 e adicionado à memória do Host 1.\n",
      "2024-09-06 15:52:45,005: Qubit 16 adicionado à memória do Host 1.\n",
      "2024-09-06 15:52:45,007: Qubit 16 criado com fidelidade inicial 0.549599891505141 e adicionado à memória do Host 1.\n",
      "2024-09-06 15:52:45,013: Qubit 17 adicionado à memória do Host 1.\n",
      "2024-09-06 15:52:45,013: Qubit 17 criado com fidelidade inicial 0.9097036596094034 e adicionado à memória do Host 1.\n",
      "2024-09-06 15:52:45,014: Qubit 18 adicionado à memória do Host 1.\n",
      "2024-09-06 15:52:45,014: Qubit 18 criado com fidelidade inicial 0.09503241479238034 e adicionado à memória do Host 1.\n",
      "2024-09-06 15:52:45,015: Qubit 19 adicionado à memória do Host 1.\n",
      "2024-09-06 15:52:45,015: Qubit 19 criado com fidelidade inicial 0.46542123152436465 e adicionado à memória do Host 1.\n",
      "2024-09-06 15:52:45,017: Qubit 20 adicionado à memória do Host 2.\n",
      "2024-09-06 15:52:45,018: Qubit 20 criado com fidelidade inicial 0.9358436198487322 e adicionado à memória do Host 2.\n",
      "2024-09-06 15:52:45,019: Qubit 21 adicionado à memória do Host 2.\n",
      "2024-09-06 15:52:45,019: Qubit 21 criado com fidelidade inicial 0.17111941144990095 e adicionado à memória do Host 2.\n",
      "2024-09-06 15:52:45,020: Qubit 22 adicionado à memória do Host 2.\n",
      "2024-09-06 15:52:45,021: Qubit 22 criado com fidelidade inicial 0.607450930540928 e adicionado à memória do Host 2.\n",
      "2024-09-06 15:52:45,021: Qubit 23 adicionado à memória do Host 2.\n",
      "2024-09-06 15:52:45,022: Qubit 23 criado com fidelidade inicial 0.934654329712426 e adicionado à memória do Host 2.\n",
      "2024-09-06 15:52:45,023: Qubit 24 adicionado à memória do Host 2.\n",
      "2024-09-06 15:52:45,024: Qubit 24 criado com fidelidade inicial 0.4729712871260042 e adicionado à memória do Host 2.\n",
      "2024-09-06 15:52:45,025: Qubit 25 adicionado à memória do Host 2.\n",
      "2024-09-06 15:52:45,026: Qubit 25 criado com fidelidade inicial 0.501577686310023 e adicionado à memória do Host 2.\n",
      "2024-09-06 15:52:45,027: Qubit 26 adicionado à memória do Host 2.\n",
      "2024-09-06 15:52:45,028: Qubit 26 criado com fidelidade inicial 0.05542754428269836 e adicionado à memória do Host 2.\n",
      "2024-09-06 15:52:45,029: Qubit 27 adicionado à memória do Host 2.\n",
      "2024-09-06 15:52:45,029: Qubit 27 criado com fidelidade inicial 0.8784511101227283 e adicionado à memória do Host 2.\n",
      "2024-09-06 15:52:45,030: Qubit 28 adicionado à memória do Host 2.\n",
      "2024-09-06 15:52:45,030: Qubit 28 criado com fidelidade inicial 0.8684490757456693 e adicionado à memória do Host 2.\n",
      "2024-09-06 15:52:45,030: Qubit 29 adicionado à memória do Host 2.\n",
      "2024-09-06 15:52:45,031: Qubit 29 criado com fidelidade inicial 0.4083581482055678 e adicionado à memória do Host 2.\n",
      "2024-09-06 15:52:45,031: Qubit 30 adicionado à memória do Host 3.\n",
      "2024-09-06 15:52:45,032: Qubit 30 criado com fidelidade inicial 0.8137418427022617 e adicionado à memória do Host 3.\n",
      "2024-09-06 15:52:45,032: Qubit 31 adicionado à memória do Host 3.\n",
      "2024-09-06 15:52:45,032: Qubit 31 criado com fidelidade inicial 0.6858507266808689 e adicionado à memória do Host 3.\n",
      "2024-09-06 15:52:45,033: Qubit 32 adicionado à memória do Host 3.\n",
      "2024-09-06 15:52:45,033: Qubit 32 criado com fidelidade inicial 0.4603697418765964 e adicionado à memória do Host 3.\n",
      "2024-09-06 15:52:45,034: Qubit 33 adicionado à memória do Host 3.\n",
      "2024-09-06 15:52:45,035: Qubit 33 criado com fidelidade inicial 0.730163567313557 e adicionado à memória do Host 3.\n",
      "2024-09-06 15:52:45,035: Qubit 34 adicionado à memória do Host 3.\n",
      "2024-09-06 15:52:45,035: Qubit 34 criado com fidelidade inicial 0.6659697084347524 e adicionado à memória do Host 3.\n",
      "2024-09-06 15:52:45,036: Qubit 35 adicionado à memória do Host 3.\n",
      "2024-09-06 15:52:45,036: Qubit 35 criado com fidelidade inicial 0.04008482925954304 e adicionado à memória do Host 3.\n",
      "2024-09-06 15:52:45,037: Qubit 36 adicionado à memória do Host 3.\n",
      "2024-09-06 15:52:45,037: Qubit 36 criado com fidelidade inicial 0.958269764143498 e adicionado à memória do Host 3.\n",
      "2024-09-06 15:52:45,037: Qubit 37 adicionado à memória do Host 3.\n",
      "2024-09-06 15:52:45,038: Qubit 37 criado com fidelidade inicial 0.2732997368132164 e adicionado à memória do Host 3.\n",
      "2024-09-06 15:52:45,038: Qubit 38 adicionado à memória do Host 3.\n",
      "2024-09-06 15:52:45,039: Qubit 38 criado com fidelidade inicial 0.12735224988665972 e adicionado à memória do Host 3.\n",
      "2024-09-06 15:52:45,040: Qubit 39 adicionado à memória do Host 3.\n",
      "2024-09-06 15:52:45,041: Qubit 39 criado com fidelidade inicial 0.7447881098721821 e adicionado à memória do Host 3.\n",
      "2024-09-06 15:52:45,042: Qubit 40 adicionado à memória do Host 4.\n",
      "2024-09-06 15:52:45,043: Qubit 40 criado com fidelidade inicial 0.7767922260140244 e adicionado à memória do Host 4.\n",
      "2024-09-06 15:52:45,043: Qubit 41 adicionado à memória do Host 4.\n",
      "2024-09-06 15:52:45,044: Qubit 41 criado com fidelidade inicial 0.5060292099021174 e adicionado à memória do Host 4.\n",
      "2024-09-06 15:52:45,045: Qubit 42 adicionado à memória do Host 4.\n",
      "2024-09-06 15:52:45,047: Qubit 42 criado com fidelidade inicial 0.5408790306825382 e adicionado à memória do Host 4.\n",
      "2024-09-06 15:52:45,047: Qubit 43 adicionado à memória do Host 4.\n",
      "2024-09-06 15:52:45,051: Qubit 43 criado com fidelidade inicial 0.5781624487567358 e adicionado à memória do Host 4.\n",
      "2024-09-06 15:52:45,052: Qubit 44 adicionado à memória do Host 4.\n",
      "2024-09-06 15:52:45,052: Qubit 44 criado com fidelidade inicial 0.12271827017900261 e adicionado à memória do Host 4.\n",
      "2024-09-06 15:52:45,053: Qubit 45 adicionado à memória do Host 4.\n",
      "2024-09-06 15:52:45,055: Qubit 45 criado com fidelidade inicial 0.9325398280565326 e adicionado à memória do Host 4.\n",
      "2024-09-06 15:52:45,057: Qubit 46 adicionado à memória do Host 4.\n",
      "2024-09-06 15:52:45,058: Qubit 46 criado com fidelidade inicial 0.6062599639969117 e adicionado à memória do Host 4.\n",
      "2024-09-06 15:52:45,058: Qubit 47 adicionado à memória do Host 4.\n",
      "2024-09-06 15:52:45,058: Qubit 47 criado com fidelidade inicial 0.7865759092325602 e adicionado à memória do Host 4.\n",
      "2024-09-06 15:52:45,059: Qubit 48 adicionado à memória do Host 4.\n",
      "2024-09-06 15:52:45,059: Qubit 48 criado com fidelidade inicial 0.20556731859924993 e adicionado à memória do Host 4.\n",
      "2024-09-06 15:52:45,060: Qubit 49 adicionado à memória do Host 4.\n",
      "2024-09-06 15:52:45,062: Qubit 49 criado com fidelidade inicial 0.9818108099404979 e adicionado à memória do Host 4.\n",
      "2024-09-06 15:52:45,063: Qubit 50 adicionado à memória do Host 5.\n",
      "2024-09-06 15:52:45,064: Qubit 50 criado com fidelidade inicial 0.2519339111761856 e adicionado à memória do Host 5.\n",
      "2024-09-06 15:52:45,064: Qubit 51 adicionado à memória do Host 5.\n",
      "2024-09-06 15:52:45,066: Qubit 51 criado com fidelidade inicial 0.7615158153946356 e adicionado à memória do Host 5.\n",
      "2024-09-06 15:52:45,066: Qubit 52 adicionado à memória do Host 5.\n",
      "2024-09-06 15:52:45,067: Qubit 52 criado com fidelidade inicial 0.005657661002647529 e adicionado à memória do Host 5.\n",
      "2024-09-06 15:52:45,068: Qubit 53 adicionado à memória do Host 5.\n",
      "2024-09-06 15:52:45,068: Qubit 53 criado com fidelidade inicial 0.846079237042352 e adicionado à memória do Host 5.\n",
      "2024-09-06 15:52:45,070: Qubit 54 adicionado à memória do Host 5.\n",
      "2024-09-06 15:52:45,070: Qubit 54 criado com fidelidade inicial 0.8514336639018412 e adicionado à memória do Host 5.\n",
      "2024-09-06 15:52:45,070: Qubit 55 adicionado à memória do Host 5.\n",
      "2024-09-06 15:52:45,071: Qubit 55 criado com fidelidade inicial 0.8044513768359439 e adicionado à memória do Host 5.\n",
      "2024-09-06 15:52:45,071: Qubit 56 adicionado à memória do Host 5.\n",
      "2024-09-06 15:52:45,072: Qubit 56 criado com fidelidade inicial 0.9357846567340095 e adicionado à memória do Host 5.\n",
      "2024-09-06 15:52:45,072: Qubit 57 adicionado à memória do Host 5.\n",
      "2024-09-06 15:52:45,073: Qubit 57 criado com fidelidade inicial 0.670199080561077 e adicionado à memória do Host 5.\n",
      "2024-09-06 15:52:45,074: Qubit 58 adicionado à memória do Host 5.\n",
      "2024-09-06 15:52:45,074: Qubit 58 criado com fidelidade inicial 0.6992080849368564 e adicionado à memória do Host 5.\n",
      "2024-09-06 15:52:45,075: Qubit 59 adicionado à memória do Host 5.\n",
      "2024-09-06 15:52:45,076: Qubit 59 criado com fidelidade inicial 0.07361851491227633 e adicionado à memória do Host 5.\n",
      "2024-09-06 15:52:45,077: Qubit 60 adicionado à memória do Host 6.\n",
      "2024-09-06 15:52:45,077: Qubit 60 criado com fidelidade inicial 0.05573525679796165 e adicionado à memória do Host 6.\n",
      "2024-09-06 15:52:45,079: Qubit 61 adicionado à memória do Host 6.\n",
      "2024-09-06 15:52:45,080: Qubit 61 criado com fidelidade inicial 0.21362048183758486 e adicionado à memória do Host 6.\n",
      "2024-09-06 15:52:45,081: Qubit 62 adicionado à memória do Host 6.\n",
      "2024-09-06 15:52:45,083: Qubit 62 criado com fidelidade inicial 0.7960964470693597 e adicionado à memória do Host 6.\n",
      "2024-09-06 15:52:45,083: Qubit 63 adicionado à memória do Host 6.\n",
      "2024-09-06 15:52:45,084: Qubit 63 criado com fidelidade inicial 0.14550737089899823 e adicionado à memória do Host 6.\n",
      "2024-09-06 15:52:45,085: Qubit 64 adicionado à memória do Host 6.\n",
      "2024-09-06 15:52:45,087: Qubit 64 criado com fidelidade inicial 0.5112003124149266 e adicionado à memória do Host 6.\n",
      "2024-09-06 15:52:45,090: Qubit 65 adicionado à memória do Host 6.\n",
      "2024-09-06 15:52:45,096: Qubit 65 criado com fidelidade inicial 0.13259506639559537 e adicionado à memória do Host 6.\n",
      "2024-09-06 15:52:45,098: Qubit 66 adicionado à memória do Host 6.\n",
      "2024-09-06 15:52:45,098: Qubit 66 criado com fidelidade inicial 0.09846626630633226 e adicionado à memória do Host 6.\n",
      "2024-09-06 15:52:45,099: Qubit 67 adicionado à memória do Host 6.\n",
      "2024-09-06 15:52:45,099: Qubit 67 criado com fidelidade inicial 0.20544952954980134 e adicionado à memória do Host 6.\n",
      "2024-09-06 15:52:45,100: Qubit 68 adicionado à memória do Host 6.\n",
      "2024-09-06 15:52:45,101: Qubit 68 criado com fidelidade inicial 0.19113259833331542 e adicionado à memória do Host 6.\n",
      "2024-09-06 15:52:45,102: Qubit 69 adicionado à memória do Host 6.\n",
      "2024-09-06 15:52:45,107: Qubit 69 criado com fidelidade inicial 0.39800838644399916 e adicionado à memória do Host 6.\n",
      "2024-09-06 15:52:45,109: Qubit 70 adicionado à memória do Host 7.\n",
      "2024-09-06 15:52:45,114: Qubit 70 criado com fidelidade inicial 0.36580123417937926 e adicionado à memória do Host 7.\n",
      "2024-09-06 15:52:45,120: Qubit 71 adicionado à memória do Host 7.\n",
      "2024-09-06 15:52:45,126: Qubit 71 criado com fidelidade inicial 0.2381000973079841 e adicionado à memória do Host 7.\n",
      "2024-09-06 15:52:45,130: Qubit 72 adicionado à memória do Host 7.\n",
      "2024-09-06 15:52:45,133: Qubit 72 criado com fidelidade inicial 0.3433427950729929 e adicionado à memória do Host 7.\n",
      "2024-09-06 15:52:45,133: Qubit 73 adicionado à memória do Host 7.\n",
      "2024-09-06 15:52:45,134: Qubit 73 criado com fidelidade inicial 0.9566140831180625 e adicionado à memória do Host 7.\n",
      "2024-09-06 15:52:45,136: Qubit 74 adicionado à memória do Host 7.\n",
      "2024-09-06 15:52:45,137: Qubit 74 criado com fidelidade inicial 0.7326976011818916 e adicionado à memória do Host 7.\n",
      "2024-09-06 15:52:45,137: Qubit 75 adicionado à memória do Host 7.\n",
      "2024-09-06 15:52:45,138: Qubit 75 criado com fidelidade inicial 0.4380740684822919 e adicionado à memória do Host 7.\n",
      "2024-09-06 15:52:45,140: Qubit 76 adicionado à memória do Host 7.\n",
      "2024-09-06 15:52:45,142: Qubit 76 criado com fidelidade inicial 0.35394661248777104 e adicionado à memória do Host 7.\n",
      "2024-09-06 15:52:45,143: Qubit 77 adicionado à memória do Host 7.\n",
      "2024-09-06 15:52:45,144: Qubit 77 criado com fidelidade inicial 0.044114418636518216 e adicionado à memória do Host 7.\n",
      "2024-09-06 15:52:45,145: Qubit 78 adicionado à memória do Host 7.\n",
      "2024-09-06 15:52:45,146: Qubit 78 criado com fidelidade inicial 0.11203344856017428 e adicionado à memória do Host 7.\n",
      "2024-09-06 15:52:45,147: Qubit 79 adicionado à memória do Host 7.\n",
      "2024-09-06 15:52:45,149: Qubit 79 criado com fidelidade inicial 0.9224325913913158 e adicionado à memória do Host 7.\n",
      "2024-09-06 15:52:45,152: Qubit 80 adicionado à memória do Host 8.\n",
      "2024-09-06 15:52:45,159: Qubit 80 criado com fidelidade inicial 0.5069387098707251 e adicionado à memória do Host 8.\n",
      "2024-09-06 15:52:45,160: Qubit 81 adicionado à memória do Host 8.\n",
      "2024-09-06 15:52:45,161: Qubit 81 criado com fidelidade inicial 0.794921804201709 e adicionado à memória do Host 8.\n",
      "2024-09-06 15:52:45,161: Qubit 82 adicionado à memória do Host 8.\n",
      "2024-09-06 15:52:45,162: Qubit 82 criado com fidelidade inicial 0.9435588755712944 e adicionado à memória do Host 8.\n",
      "2024-09-06 15:52:45,163: Qubit 83 adicionado à memória do Host 8.\n",
      "2024-09-06 15:52:45,164: Qubit 83 criado com fidelidade inicial 0.37319678130047695 e adicionado à memória do Host 8.\n",
      "2024-09-06 15:52:45,165: Qubit 84 adicionado à memória do Host 8.\n",
      "2024-09-06 15:52:45,165: Qubit 84 criado com fidelidade inicial 0.7316636526450538 e adicionado à memória do Host 8.\n",
      "2024-09-06 15:52:45,167: Qubit 85 adicionado à memória do Host 8.\n",
      "2024-09-06 15:52:45,168: Qubit 85 criado com fidelidade inicial 0.7529787459404326 e adicionado à memória do Host 8.\n",
      "2024-09-06 15:52:45,169: Qubit 86 adicionado à memória do Host 8.\n",
      "2024-09-06 15:52:45,170: Qubit 86 criado com fidelidade inicial 0.30562018633152266 e adicionado à memória do Host 8.\n",
      "2024-09-06 15:52:45,171: Qubit 87 adicionado à memória do Host 8.\n",
      "2024-09-06 15:52:45,174: Qubit 87 criado com fidelidade inicial 0.2870077894617883 e adicionado à memória do Host 8.\n",
      "2024-09-06 15:52:45,186: Qubit 88 adicionado à memória do Host 8.\n",
      "2024-09-06 15:52:45,190: Qubit 88 criado com fidelidade inicial 0.12217617300603356 e adicionado à memória do Host 8.\n",
      "2024-09-06 15:52:45,196: Qubit 89 adicionado à memória do Host 8.\n",
      "2024-09-06 15:52:45,201: Qubit 89 criado com fidelidade inicial 0.021903296141401185 e adicionado à memória do Host 8.\n",
      "2024-09-06 15:52:45,204: Par EPR <quantumnet.objects.epr.Epr object at 0x78b2cbf8f7a0> adicionado ao canal.\n",
      "2024-09-06 15:52:45,205: Par EPR <quantumnet.objects.epr.Epr object at 0x78b2cbf8e750> adicionado ao canal.\n",
      "2024-09-06 15:52:45,211: Par EPR <quantumnet.objects.epr.Epr object at 0x78b2d009f5c0> adicionado ao canal.\n",
      "2024-09-06 15:52:45,216: Par EPR <quantumnet.objects.epr.Epr object at 0x78b2cbfc6e70> adicionado ao canal.\n",
      "2024-09-06 15:52:45,220: Par EPR <quantumnet.objects.epr.Epr object at 0x78b2d059f8f0> adicionado ao canal.\n",
      "2024-09-06 15:52:45,221: Par EPR <quantumnet.objects.epr.Epr object at 0x78b2d059f6b0> adicionado ao canal.\n",
      "2024-09-06 15:52:45,222: Par EPR <quantumnet.objects.epr.Epr object at 0x78b2cbf3f920> adicionado ao canal.\n",
      "2024-09-06 15:52:45,223: Par EPR <quantumnet.objects.epr.Epr object at 0x78b2cbfc76e0> adicionado ao canal.\n",
      "2024-09-06 15:52:45,225: Par EPR <quantumnet.objects.epr.Epr object at 0x78b2cbfc7740> adicionado ao canal.\n",
      "2024-09-06 15:52:45,229: Par EPR <quantumnet.objects.epr.Epr object at 0x78b2cbf8fa40> adicionado ao canal.\n",
      "2024-09-06 15:52:45,231: Par EPR <quantumnet.objects.epr.Epr object at 0x78b2cbfc74d0> adicionado ao canal.\n",
      "2024-09-06 15:52:45,231: Par EPR <quantumnet.objects.epr.Epr object at 0x78b2cbfc7860> adicionado ao canal.\n",
      "2024-09-06 15:52:45,234: Par EPR <quantumnet.objects.epr.Epr object at 0x78b2cbf8fb90> adicionado ao canal.\n",
      "2024-09-06 15:52:45,236: Par EPR <quantumnet.objects.epr.Epr object at 0x78b2cbfc7800> adicionado ao canal.\n",
      "2024-09-06 15:52:45,238: Par EPR <quantumnet.objects.epr.Epr object at 0x78b2cbf8fbf0> adicionado ao canal.\n",
      "2024-09-06 15:52:45,239: Par EPR <quantumnet.objects.epr.Epr object at 0x78b2cbf8fa10> adicionado ao canal.\n",
      "2024-09-06 15:52:45,248: Par EPR <quantumnet.objects.epr.Epr object at 0x78b2d028fbc0> adicionado ao canal.\n",
      "2024-09-06 15:52:45,249: Par EPR <quantumnet.objects.epr.Epr object at 0x78b2cbfc7aa0> adicionado ao canal.\n",
      "2024-09-06 15:52:45,251: Par EPR <quantumnet.objects.epr.Epr object at 0x78b2cbf8fce0> adicionado ao canal.\n",
      "2024-09-06 15:52:45,252: Par EPR <quantumnet.objects.epr.Epr object at 0x78b2d0207b60> adicionado ao canal.\n",
      "2024-09-06 15:52:45,253: Par EPR <quantumnet.objects.epr.Epr object at 0x78b2cbf8fb30> adicionado ao canal.\n",
      "2024-09-06 15:52:45,253: Par EPR <quantumnet.objects.epr.Epr object at 0x78b2cbfc79b0> adicionado ao canal.\n",
      "2024-09-06 15:52:45,254: Par EPR <quantumnet.objects.epr.Epr object at 0x78b2cbfc7890> adicionado ao canal.\n",
      "2024-09-06 15:52:45,254: Par EPR <quantumnet.objects.epr.Epr object at 0x78b2cbfc7350> adicionado ao canal.\n",
      "2024-09-06 15:52:45,254: Par EPR <quantumnet.objects.epr.Epr object at 0x78b2cbfc7c20> adicionado ao canal.\n",
      "2024-09-06 15:52:45,255: Par EPR <quantumnet.objects.epr.Epr object at 0x78b2d0187e60> adicionado ao canal.\n",
      "2024-09-06 15:52:45,255: Par EPR <quantumnet.objects.epr.Epr object at 0x78b2cbfc7a70> adicionado ao canal.\n",
      "2024-09-06 15:52:45,256: Par EPR <quantumnet.objects.epr.Epr object at 0x78b2d03dff50> adicionado ao canal.\n",
      "2024-09-06 15:52:45,257: Par EPR <quantumnet.objects.epr.Epr object at 0x78b2cbfc7e90> adicionado ao canal.\n",
      "2024-09-06 15:52:45,261: Par EPR <quantumnet.objects.epr.Epr object at 0x78b2d0417e00> adicionado ao canal.\n",
      "2024-09-06 15:52:45,262: Par EPR <quantumnet.objects.epr.Epr object at 0x78b2cbfc7620> adicionado ao canal.\n",
      "2024-09-06 15:52:45,263: Par EPR <quantumnet.objects.epr.Epr object at 0x78b2cbfc7f20> adicionado ao canal.\n",
      "2024-09-06 15:52:45,263: Par EPR <quantumnet.objects.epr.Epr object at 0x78b2cbfc7ad0> adicionado ao canal.\n",
      "2024-09-06 15:52:45,263: Par EPR <quantumnet.objects.epr.Epr object at 0x78b2d02dc0b0> adicionado ao canal.\n",
      "2024-09-06 15:52:45,264: Par EPR <quantumnet.objects.epr.Epr object at 0x78b2cbfc4260> adicionado ao canal.\n",
      "2024-09-06 15:52:45,264: Par EPR <quantumnet.objects.epr.Epr object at 0x78b2cbfdc1a0> adicionado ao canal.\n",
      "2024-09-06 15:52:45,265: Par EPR <quantumnet.objects.epr.Epr object at 0x78b2cbfc43b0> adicionado ao canal.\n",
      "2024-09-06 15:52:45,265: Par EPR <quantumnet.objects.epr.Epr object at 0x78b2d004ffb0> adicionado ao canal.\n",
      "2024-09-06 15:52:45,265: Par EPR <quantumnet.objects.epr.Epr object at 0x78b2cbfc4320> adicionado ao canal.\n",
      "2024-09-06 15:52:45,266: Par EPR <quantumnet.objects.epr.Epr object at 0x78b2cbfdc170> adicionado ao canal.\n",
      "2024-09-06 15:52:45,266: Par EPR <quantumnet.objects.epr.Epr object at 0x78b2cbfc7b00> adicionado ao canal.\n",
      "2024-09-06 15:52:45,266: Par EPR <quantumnet.objects.epr.Epr object at 0x78b2cbfc4680> adicionado ao canal.\n",
      "2024-09-06 15:52:45,267: Par EPR <quantumnet.objects.epr.Epr object at 0x78b2cbfdc470> adicionado ao canal.\n",
      "2024-09-06 15:52:45,267: Par EPR <quantumnet.objects.epr.Epr object at 0x78b2cbfc46e0> adicionado ao canal.\n",
      "2024-09-06 15:52:45,267: Par EPR <quantumnet.objects.epr.Epr object at 0x78b2cbfc4110> adicionado ao canal.\n",
      "2024-09-06 15:52:45,268: Par EPR <quantumnet.objects.epr.Epr object at 0x78b2cbfc4830> adicionado ao canal.\n",
      "2024-09-06 15:52:45,268: Par EPR <quantumnet.objects.epr.Epr object at 0x78b2cbfdc5f0> adicionado ao canal.\n",
      "2024-09-06 15:52:45,269: Par EPR <quantumnet.objects.epr.Epr object at 0x78b2cbfc44a0> adicionado ao canal.\n",
      "2024-09-06 15:52:45,269: Par EPR <quantumnet.objects.epr.Epr object at 0x78b2cbfdc4d0> adicionado ao canal.\n",
      "2024-09-06 15:52:45,269: Par EPR <quantumnet.objects.epr.Epr object at 0x78b2cbfc49b0> adicionado ao canal.\n",
      "2024-09-06 15:52:45,270: Par EPR <quantumnet.objects.epr.Epr object at 0x78b2cbfdc380> adicionado ao canal.\n",
      "2024-09-06 15:52:45,270: Par EPR <quantumnet.objects.epr.Epr object at 0x78b2cbfc4650> adicionado ao canal.\n",
      "2024-09-06 15:52:45,271: Par EPR <quantumnet.objects.epr.Epr object at 0x78b2cbfdc980> adicionado ao canal.\n",
      "2024-09-06 15:52:45,271: Par EPR <quantumnet.objects.epr.Epr object at 0x78b2cbfdca70> adicionado ao canal.\n",
      "2024-09-06 15:52:45,273: Par EPR <quantumnet.objects.epr.Epr object at 0x78b2cbfc4c50> adicionado ao canal.\n",
      "2024-09-06 15:52:45,274: Par EPR <quantumnet.objects.epr.Epr object at 0x78b2cbfdcb00> adicionado ao canal.\n",
      "2024-09-06 15:52:45,274: Par EPR <quantumnet.objects.epr.Epr object at 0x78b2cbfdcad0> adicionado ao canal.\n",
      "2024-09-06 15:52:45,275: Par EPR <quantumnet.objects.epr.Epr object at 0x78b2cbfc4c80> adicionado ao canal.\n",
      "2024-09-06 15:52:45,275: Par EPR <quantumnet.objects.epr.Epr object at 0x78b2cbfdca10> adicionado ao canal.\n",
      "2024-09-06 15:52:45,278: Par EPR <quantumnet.objects.epr.Epr object at 0x78b2cbfc4bc0> adicionado ao canal.\n",
      "2024-09-06 15:52:45,279: Par EPR <quantumnet.objects.epr.Epr object at 0x78b2cbfdc890> adicionado ao canal.\n",
      "2024-09-06 15:52:45,280: Par EPR <quantumnet.objects.epr.Epr object at 0x78b2cbfc4e00> adicionado ao canal.\n",
      "2024-09-06 15:52:45,281: Par EPR <quantumnet.objects.epr.Epr object at 0x78b2cbfdcd40> adicionado ao canal.\n",
      "2024-09-06 15:52:45,282: Par EPR <quantumnet.objects.epr.Epr object at 0x78b2cbfdcda0> adicionado ao canal.\n",
      "2024-09-06 15:52:45,282: Par EPR <quantumnet.objects.epr.Epr object at 0x78b2cbfdce90> adicionado ao canal.\n",
      "2024-09-06 15:52:45,283: Par EPR <quantumnet.objects.epr.Epr object at 0x78b2cbfdcf50> adicionado ao canal.\n",
      "2024-09-06 15:52:45,283: Par EPR <quantumnet.objects.epr.Epr object at 0x78b2cbfdcf20> adicionado ao canal.\n",
      "2024-09-06 15:52:45,283: Par EPR <quantumnet.objects.epr.Epr object at 0x78b2cbfdd070> adicionado ao canal.\n",
      "2024-09-06 15:52:45,284: Par EPR <quantumnet.objects.epr.Epr object at 0x78b2cbfdd0a0> adicionado ao canal.\n",
      "2024-09-06 15:52:45,284: Par EPR <quantumnet.objects.epr.Epr object at 0x78b2cbfdd130> adicionado ao canal.\n",
      "2024-09-06 15:52:45,284: Par EPR <quantumnet.objects.epr.Epr object at 0x78b2cbfc5040> adicionado ao canal.\n",
      "2024-09-06 15:52:45,285: Par EPR <quantumnet.objects.epr.Epr object at 0x78b2cbfc5310> adicionado ao canal.\n",
      "2024-09-06 15:52:45,285: Par EPR <quantumnet.objects.epr.Epr object at 0x78b2cbfc4ce0> adicionado ao canal.\n",
      "2024-09-06 15:52:45,286: Par EPR <quantumnet.objects.epr.Epr object at 0x78b2cbfdd280> adicionado ao canal.\n",
      "2024-09-06 15:52:45,286: Par EPR <quantumnet.objects.epr.Epr object at 0x78b2cbfc4ec0> adicionado ao canal.\n",
      "2024-09-06 15:52:45,287: Par EPR <quantumnet.objects.epr.Epr object at 0x78b2cbfc52b0> adicionado ao canal.\n",
      "2024-09-06 15:52:45,287: Par EPR <quantumnet.objects.epr.Epr object at 0x78b2cbfdd2e0> adicionado ao canal.\n",
      "2024-09-06 15:52:45,289: Par EPR <quantumnet.objects.epr.Epr object at 0x78b2cbfdd0d0> adicionado ao canal.\n",
      "2024-09-06 15:52:45,290: Par EPR <quantumnet.objects.epr.Epr object at 0x78b2cbfdd3d0> adicionado ao canal.\n",
      "2024-09-06 15:52:45,291: Par EPR <quantumnet.objects.epr.Epr object at 0x78b2cbfdd580> adicionado ao canal.\n",
      "2024-09-06 15:52:45,291: Par EPR <quantumnet.objects.epr.Epr object at 0x78b2cbfdccb0> adicionado ao canal.\n",
      "2024-09-06 15:52:45,293: Par EPR <quantumnet.objects.epr.Epr object at 0x78b2cbfdd640> adicionado ao canal.\n",
      "2024-09-06 15:52:45,296: Par EPR <quantumnet.objects.epr.Epr object at 0x78b2cbfdd730> adicionado ao canal.\n",
      "2024-09-06 15:52:45,297: Par EPR <quantumnet.objects.epr.Epr object at 0x78b2d004d880> adicionado ao canal.\n",
      "2024-09-06 15:52:45,298: Par EPR <quantumnet.objects.epr.Epr object at 0x78b2cbfc58b0> adicionado ao canal.\n",
      "2024-09-06 15:52:45,299: Par EPR <quantumnet.objects.epr.Epr object at 0x78b2cbfdd7c0> adicionado ao canal.\n",
      "2024-09-06 15:52:45,299: Par EPR <quantumnet.objects.epr.Epr object at 0x78b2cbfdd820> adicionado ao canal.\n",
      "2024-09-06 15:52:45,299: Par EPR <quantumnet.objects.epr.Epr object at 0x78b2cbfdd670> adicionado ao canal.\n",
      "2024-09-06 15:52:45,300: Par EPR <quantumnet.objects.epr.Epr object at 0x78b2cbfc5970> adicionado ao canal.\n",
      "2024-09-06 15:52:45,300: Par EPR <quantumnet.objects.epr.Epr object at 0x78b2cbfdda00> adicionado ao canal.\n",
      "2024-09-06 15:52:45,300: Par EPR <quantumnet.objects.epr.Epr object at 0x78b2cbfdd2b0> adicionado ao canal.\n",
      "2024-09-06 15:52:45,301: Par EPR <quantumnet.objects.epr.Epr object at 0x78b2cbfdd790> adicionado ao canal.\n",
      "2024-09-06 15:52:45,301: Par EPR <quantumnet.objects.epr.Epr object at 0x78b2cbfc59d0> adicionado ao canal.\n",
      "2024-09-06 15:52:45,301: Par EPR <quantumnet.objects.epr.Epr object at 0x78b2cbfddb20> adicionado ao canal.\n",
      "2024-09-06 15:52:45,302: Par EPR <quantumnet.objects.epr.Epr object at 0x78b2cbfddbb0> adicionado ao canal.\n",
      "2024-09-06 15:52:45,302: Par EPR <quantumnet.objects.epr.Epr object at 0x78b2cbfdd910> adicionado ao canal.\n",
      "2024-09-06 15:52:45,302: Par EPR <quantumnet.objects.epr.Epr object at 0x78b2cbfc5b80> adicionado ao canal.\n",
      "2024-09-06 15:52:45,303: Par EPR <quantumnet.objects.epr.Epr object at 0x78b2cbfddcd0> adicionado ao canal.\n",
      "2024-09-06 15:52:45,304: Par EPR <quantumnet.objects.epr.Epr object at 0x78b2cbfc5ca0> adicionado ao canal.\n",
      "2024-09-06 15:52:45,305: Par EPR <quantumnet.objects.epr.Epr object at 0x78b2cbfddb50> adicionado ao canal.\n",
      "2024-09-06 15:52:45,305: Par EPR <quantumnet.objects.epr.Epr object at 0x78b2cbfdda30> adicionado ao canal.\n",
      "2024-09-06 15:52:45,306: Par EPR <quantumnet.objects.epr.Epr object at 0x78b2cbfc5fd0> adicionado ao canal.\n",
      "2024-09-06 15:52:45,306: Par EPR <quantumnet.objects.epr.Epr object at 0x78b2cbfc5f70> adicionado ao canal.\n",
      "2024-09-06 15:52:45,308: Par EPR <quantumnet.objects.epr.Epr object at 0x78b2cbf3e0f0> adicionado ao canal.\n",
      "2024-09-06 15:52:45,308: Par EPR <quantumnet.objects.epr.Epr object at 0x78b2cbfddee0> adicionado ao canal.\n",
      "2024-09-06 15:52:45,309: Par EPR <quantumnet.objects.epr.Epr object at 0x78b2cbfdde80> adicionado ao canal.\n",
      "2024-09-06 15:52:45,309: Par EPR <quantumnet.objects.epr.Epr object at 0x78b2cbfddf10> adicionado ao canal.\n",
      "2024-09-06 15:52:45,310: Par EPR <quantumnet.objects.epr.Epr object at 0x78b2cbfde090> adicionado ao canal.\n",
      "2024-09-06 15:52:45,312: Par EPR <quantumnet.objects.epr.Epr object at 0x78b2d004e0c0> adicionado ao canal.\n",
      "2024-09-06 15:52:45,312: Par EPR <quantumnet.objects.epr.Epr object at 0x78b2cbfddd60> adicionado ao canal.\n",
      "2024-09-06 15:52:45,313: Par EPR <quantumnet.objects.epr.Epr object at 0x78b2cbfdd850> adicionado ao canal.\n",
      "2024-09-06 15:52:45,314: Par EPR <quantumnet.objects.epr.Epr object at 0x78b2cbfc6270> adicionado ao canal.\n",
      "2024-09-06 15:52:45,315: Par EPR <quantumnet.objects.epr.Epr object at 0x78b2cbfddf40> adicionado ao canal.\n",
      "2024-09-06 15:52:45,315: Par EPR <quantumnet.objects.epr.Epr object at 0x78b2cbfde3c0> adicionado ao canal.\n",
      "2024-09-06 15:52:45,315: Par EPR <quantumnet.objects.epr.Epr object at 0x78b2cbfde420> adicionado ao canal.\n",
      "2024-09-06 15:52:45,316: Par EPR <quantumnet.objects.epr.Epr object at 0x78b2cbfde240> adicionado ao canal.\n",
      "2024-09-06 15:52:45,316: Par EPR <quantumnet.objects.epr.Epr object at 0x78b2cbfde540> adicionado ao canal.\n",
      "2024-09-06 15:52:45,316: Par EPR <quantumnet.objects.epr.Epr object at 0x78b2cbfde5a0> adicionado ao canal.\n",
      "2024-09-06 15:52:45,317: Par EPR <quantumnet.objects.epr.Epr object at 0x78b2cbfde480> adicionado ao canal.\n",
      "2024-09-06 15:52:45,318: Par EPR <quantumnet.objects.epr.Epr object at 0x78b2cbfde510> adicionado ao canal.\n"
     ]
    },
    {
     "name": "stdout",
     "output_type": "stream",
     "text": [
      "Hosts inicializados\n",
      "Canais inicializados\n",
      "Pares EPRs adicionados\n"
     ]
    },
    {
     "data": {
      "image/png": "[encoded data removed]",
      "text/plain": [
       "<Figure size 640x480 with 1 Axes>"
      ]
     },
     "metadata": {},
     "output_type": "display_data"
    }
   ],
   "source": [
    "rede = Network()\n",
    "rede.set_ready_topology(\"Grade\", 3,3)\n",
    "rede.draw()"
   ]
  },
  {
   "cell_type": "code",
   "execution_count": 3,
   "metadata": {},
   "outputs": [],
   "source": [
    "alice = rede.get_host(6)\n",
    "bob = rede.get_host(1)"
   ]
  },
  {
   "cell_type": "markdown",
   "metadata": {},
   "source": [
    "##### Nesse sentido, primeiramente precisa-se escolher a melhor rota e seus critérios são dados pela rota com menor caminho. Para verificar isso usaremos a função short_route_valid, que irá entregar uma rota válida entre Alice e Bob. "
   ]
  },
  {
   "cell_type": "code",
   "execution_count": 4,
   "metadata": {},
   "outputs": [
    {
     "name": "stderr",
     "output_type": "stream",
     "text": [
      "2024-09-06 15:52:46,419: Rota válida encontrada: [8, 5, 2, 1, 0]\n"
     ]
    },
    {
     "data": {
      "text/plain": [
       "[8, 5, 2, 1, 0]"
      ]
     },
     "execution_count": 4,
     "metadata": {},
     "output_type": "execute_result"
    }
   ],
   "source": [
    "rede.networklayer.short_route_valid(8,0)"
   ]
  },
  {
   "cell_type": "code",
   "execution_count": 5,
   "metadata": {},
   "outputs": [
    {
     "name": "stderr",
     "output_type": "stream",
     "text": [
      "2024-09-06 15:52:46,508: Rota válida encontrada: [0, 1]\n",
      "2024-09-06 15:52:46,524: Rota válida encontrada: [0, 1, 2]\n",
      "2024-09-06 15:52:46,536: Rota válida encontrada: [0, 3]\n",
      "2024-09-06 15:52:46,540: Rota válida encontrada: [0, 3, 4]\n",
      "2024-09-06 15:52:46,543: Rota válida encontrada: [0, 3, 4, 5]\n",
      "2024-09-06 15:52:46,547: Rota válida encontrada: [0, 3, 6]\n",
      "2024-09-06 15:52:46,548: Rota válida encontrada: [0, 3, 6, 7]\n",
      "2024-09-06 15:52:46,548: Rota válida encontrada: [0, 3, 6, 7, 8]\n",
      "2024-09-06 15:52:46,549: Rota válida encontrada: [1, 0]\n",
      "2024-09-06 15:52:46,549: Rota válida encontrada: [1, 2]\n",
      "2024-09-06 15:52:46,549: Rota válida encontrada: [1, 0, 3]\n",
      "2024-09-06 15:52:46,550: Rota válida encontrada: [1, 4]\n",
      "2024-09-06 15:52:46,551: Rota válida encontrada: [1, 4, 5]\n",
      "2024-09-06 15:52:46,551: Rota válida encontrada: [1, 0, 3, 6]\n",
      "2024-09-06 15:52:46,555: Rota válida encontrada: [1, 4, 7]\n",
      "2024-09-06 15:52:46,556: Rota válida encontrada: [1, 4, 7, 8]\n",
      "2024-09-06 15:52:46,557: Rota válida encontrada: [2, 1, 0]\n",
      "2024-09-06 15:52:46,559: Rota válida encontrada: [2, 1]\n",
      "2024-09-06 15:52:46,565: Rota válida encontrada: [2, 1, 0, 3]\n",
      "2024-09-06 15:52:46,566: Rota válida encontrada: [2, 1, 4]\n",
      "2024-09-06 15:52:46,570: Rota válida encontrada: [2, 5]\n",
      "2024-09-06 15:52:46,575: Rota válida encontrada: [2, 1, 0, 3, 6]\n",
      "2024-09-06 15:52:46,583: Rota válida encontrada: [2, 1, 4, 7]\n",
      "2024-09-06 15:52:46,587: Rota válida encontrada: [2, 5, 8]\n",
      "2024-09-06 15:52:46,588: Rota válida encontrada: [3, 0]\n",
      "2024-09-06 15:52:46,591: Rota válida encontrada: [3, 0, 1]\n",
      "2024-09-06 15:52:46,599: Rota válida encontrada: [3, 0, 1, 2]\n",
      "2024-09-06 15:52:46,611: Rota válida encontrada: [3, 4]\n",
      "2024-09-06 15:52:46,617: Rota válida encontrada: [3, 4, 5]\n",
      "2024-09-06 15:52:46,617: Rota válida encontrada: [3, 6]\n",
      "2024-09-06 15:52:46,625: Rota válida encontrada: [3, 6, 7]\n",
      "2024-09-06 15:52:46,631: Rota válida encontrada: [3, 6, 7, 8]\n",
      "2024-09-06 15:52:46,633: Rota válida encontrada: [4, 1, 0]\n",
      "2024-09-06 15:52:46,637: Rota válida encontrada: [4, 1]\n",
      "2024-09-06 15:52:46,638: Rota válida encontrada: [4, 1, 2]\n",
      "2024-09-06 15:52:46,644: Rota válida encontrada: [4, 3]\n",
      "2024-09-06 15:52:46,647: Rota válida encontrada: [4, 5]\n",
      "2024-09-06 15:52:46,649: Rota válida encontrada: [4, 3, 6]\n",
      "2024-09-06 15:52:46,650: Rota válida encontrada: [4, 7]\n",
      "2024-09-06 15:52:46,659: Rota válida encontrada: [4, 7, 8]\n",
      "2024-09-06 15:52:46,667: Rota válida encontrada: [5, 2, 1, 0]\n",
      "2024-09-06 15:52:46,676: Rota válida encontrada: [5, 2, 1]\n",
      "2024-09-06 15:52:46,691: Rota válida encontrada: [5, 2]\n",
      "2024-09-06 15:52:46,709: Rota válida encontrada: [5, 4, 3]\n",
      "2024-09-06 15:52:46,725: Rota válida encontrada: [5, 4]\n",
      "2024-09-06 15:52:46,737: Rota válida encontrada: [5, 4, 3, 6]\n",
      "2024-09-06 15:52:46,749: Rota válida encontrada: [5, 4, 7]\n",
      "2024-09-06 15:52:46,751: Rota válida encontrada: [5, 8]\n",
      "2024-09-06 15:52:46,753: Rota válida encontrada: [6, 3, 0]\n",
      "2024-09-06 15:52:46,754: Rota válida encontrada: [6, 3, 0, 1]\n",
      "2024-09-06 15:52:46,756: Rota válida encontrada: [6, 3, 0, 1, 2]\n",
      "2024-09-06 15:52:46,759: Rota válida encontrada: [6, 3]\n",
      "2024-09-06 15:52:46,761: Rota válida encontrada: [6, 3, 4]\n",
      "2024-09-06 15:52:46,762: Rota válida encontrada: [6, 3, 4, 5]\n",
      "2024-09-06 15:52:46,765: Rota válida encontrada: [6, 7]\n",
      "2024-09-06 15:52:46,766: Rota válida encontrada: [6, 7, 8]\n",
      "2024-09-06 15:52:46,767: Rota válida encontrada: [7, 4, 1, 0]\n",
      "2024-09-06 15:52:46,770: Rota válida encontrada: [7, 4, 1]\n",
      "2024-09-06 15:52:46,773: Rota válida encontrada: [7, 4, 1, 2]\n",
      "2024-09-06 15:52:46,777: Rota válida encontrada: [7, 4, 3]\n",
      "2024-09-06 15:52:46,782: Rota válida encontrada: [7, 4]\n",
      "2024-09-06 15:52:46,783: Rota válida encontrada: [7, 4, 5]\n",
      "2024-09-06 15:52:46,783: Rota válida encontrada: [7, 6]\n",
      "2024-09-06 15:52:46,785: Rota válida encontrada: [7, 8]\n",
      "2024-09-06 15:52:46,786: Rota válida encontrada: [8, 5, 2, 1, 0]\n",
      "2024-09-06 15:52:46,787: Rota válida encontrada: [8, 5, 2, 1]\n",
      "2024-09-06 15:52:46,787: Rota válida encontrada: [8, 5, 2]\n",
      "2024-09-06 15:52:46,788: Rota válida encontrada: [8, 5, 4, 3]\n",
      "2024-09-06 15:52:46,788: Rota válida encontrada: [8, 5, 4]\n",
      "2024-09-06 15:52:46,791: Rota válida encontrada: [8, 5]\n",
      "2024-09-06 15:52:46,794: Rota válida encontrada: [8, 7, 6]\n",
      "2024-09-06 15:52:46,797: Rota válida encontrada: [8, 7]\n"
     ]
    },
    {
     "data": {
      "text/plain": [
       "3.0"
      ]
     },
     "execution_count": 5,
     "metadata": {},
     "output_type": "execute_result"
    }
   ],
   "source": [
    "rede.networklayer.get_avg_size_routes()"
   ]
  },
  {
   "cell_type": "markdown",
   "metadata": {},
   "source": [
    "##### Para a rota ser válida, precisa-se verificar se cada canal da rede tem peloo menos 1 par EPR e se nó tem 2 qubits. Através dessas funções podemos verificar."
   ]
  },
  {
   "cell_type": "markdown",
   "metadata": {},
   "source": [
    "##### Dessa forma, vamos realizar o entanglement swapping entre Alice e Bob, o que permite criar um par de qubits emaranhados entre dois nós que não têm uma conexão direta de emaranhamento, utilizando pares intermediários."
   ]
  },
  {
   "cell_type": "code",
   "execution_count": 6,
   "metadata": {},
   "outputs": [
    {
     "name": "stderr",
     "output_type": "stream",
     "text": [
      "2024-09-06 15:52:46,824: Rota válida encontrada: [8, 5, 2, 1, 0]\n",
      "2024-09-06 15:52:46,830: Par EPR <quantumnet.objects.epr.Epr object at 0x78b2bcbdd220> adicionado ao canal (8, 2).\n",
      "2024-09-06 15:52:46,830: Par EPR <quantumnet.objects.epr.Epr object at 0x78b2cbfdd2b0> removido do canal (8, 5).\n",
      "2024-09-06 15:52:46,831: Par EPR <quantumnet.objects.epr.Epr object at 0x78b2cbfc7b00> removido do canal (5, 2).\n",
      "2024-09-06 15:52:46,831: Par EPR <quantumnet.objects.epr.Epr object at 0x78b2cbfc7b00> adicionado ao canal (8, 1).\n",
      "2024-09-06 15:52:46,831: Par EPR <quantumnet.objects.epr.Epr object at 0x78b2bcbdd220> removido do canal (8, 2).\n",
      "2024-09-06 15:52:46,832: Par EPR <quantumnet.objects.epr.Epr object at 0x78b2cbfc7620> removido do canal (2, 1).\n",
      "2024-09-06 15:52:46,834: Par EPR <quantumnet.objects.epr.Epr object at 0x78b2cbfc7620> adicionado ao canal (8, 0).\n",
      "2024-09-06 15:52:46,835: Par EPR <quantumnet.objects.epr.Epr object at 0x78b2cbfc7b00> removido do canal (8, 1).\n",
      "2024-09-06 15:52:46,837: Par EPR <quantumnet.objects.epr.Epr object at 0x78b2cbfc74d0> removido do canal (1, 0).\n",
      "2024-09-06 15:52:46,837: Entanglement Swapping concluído com sucesso entre 8 e 0\n"
     ]
    },
    {
     "data": {
      "text/plain": [
       "True"
      ]
     },
     "execution_count": 6,
     "metadata": {},
     "output_type": "execute_result"
    }
   ],
   "source": [
    "rede.networklayer.entanglement_swapping(8,0)"
   ]
  },
  {
   "cell_type": "code",
   "execution_count": 7,
   "metadata": {},
   "outputs": [
    {
     "name": "stderr",
     "output_type": "stream",
     "text": [
      "2024-09-06 15:52:46,898: Rota válida encontrada: [0, 1]\n",
      "2024-09-06 15:52:46,900: Rota válida encontrada: [0, 1, 2]\n",
      "2024-09-06 15:52:46,901: Rota válida encontrada: [0, 3]\n",
      "2024-09-06 15:52:46,903: Rota válida encontrada: [0, 3, 4]\n",
      "2024-09-06 15:52:46,904: Rota válida encontrada: [0, 8, 5]\n",
      "2024-09-06 15:52:46,907: Rota válida encontrada: [0, 3, 6]\n",
      "2024-09-06 15:52:46,908: Rota válida encontrada: [0, 8, 7]\n",
      "2024-09-06 15:52:46,909: Rota válida encontrada: [0, 8]\n",
      "2024-09-06 15:52:46,911: Rota válida encontrada: [1, 0]\n",
      "2024-09-06 15:52:46,913: Rota válida encontrada: [1, 2]\n",
      "2024-09-06 15:52:46,914: Rota válida encontrada: [1, 0, 3]\n",
      "2024-09-06 15:52:46,916: Rota válida encontrada: [1, 4]\n",
      "2024-09-06 15:52:46,917: Rota válida encontrada: [1, 4, 5]\n",
      "2024-09-06 15:52:46,919: Rota válida encontrada: [1, 0, 3, 6]\n",
      "2024-09-06 15:52:46,921: Rota válida encontrada: [1, 4, 7]\n",
      "2024-09-06 15:52:46,922: Sem pares EPRs entre 1 e 8 na rota [1, 8]\n",
      "2024-09-06 15:52:46,924: Nenhuma rota válida encontrada.\n",
      "2024-09-06 15:52:46,925: Rota válida encontrada: [2, 1, 0]\n",
      "2024-09-06 15:52:46,926: Rota válida encontrada: [2, 1]\n",
      "2024-09-06 15:52:46,927: Rota válida encontrada: [2, 1, 0, 3]\n",
      "2024-09-06 15:52:46,929: Rota válida encontrada: [2, 1, 4]\n",
      "2024-09-06 15:52:46,929: Rota válida encontrada: [2, 5]\n",
      "2024-09-06 15:52:46,934: Sem pares EPRs entre 2 e 8 na rota [2, 8, 7, 6]\n",
      "2024-09-06 15:52:46,936: Nenhuma rota válida encontrada.\n",
      "2024-09-06 15:52:46,937: Sem pares EPRs entre 2 e 8 na rota [2, 8, 7]\n",
      "2024-09-06 15:52:46,938: Nenhuma rota válida encontrada.\n",
      "2024-09-06 15:52:46,942: Sem pares EPRs entre 2 e 8 na rota [2, 8]\n",
      "2024-09-06 15:52:46,944: Nenhuma rota válida encontrada.\n",
      "2024-09-06 15:52:46,945: Rota válida encontrada: [3, 0]\n",
      "2024-09-06 15:52:46,946: Rota válida encontrada: [3, 0, 1]\n",
      "2024-09-06 15:52:46,951: Rota válida encontrada: [3, 0, 1, 2]\n",
      "2024-09-06 15:52:46,952: Rota válida encontrada: [3, 4]\n",
      "2024-09-06 15:52:46,952: Rota válida encontrada: [3, 4, 5]\n",
      "2024-09-06 15:52:46,953: Rota válida encontrada: [3, 6]\n",
      "2024-09-06 15:52:46,953: Rota válida encontrada: [3, 6, 7]\n",
      "2024-09-06 15:52:46,959: Rota válida encontrada: [3, 0, 8]\n",
      "2024-09-06 15:52:46,961: Rota válida encontrada: [4, 1, 0]\n",
      "2024-09-06 15:52:46,969: Rota válida encontrada: [4, 1]\n",
      "2024-09-06 15:52:46,976: Rota válida encontrada: [4, 1, 2]\n",
      "2024-09-06 15:52:46,985: Rota válida encontrada: [4, 3]\n",
      "2024-09-06 15:52:46,988: Rota válida encontrada: [4, 5]\n",
      "2024-09-06 15:52:46,989: Rota válida encontrada: [4, 3, 6]\n",
      "2024-09-06 15:52:46,997: Rota válida encontrada: [4, 7]\n",
      "2024-09-06 15:52:46,998: Sem pares EPRs entre 1 e 8 na rota [4, 1, 8]\n",
      "2024-09-06 15:52:46,999: Rota válida encontrada: [4, 7, 8]\n",
      "2024-09-06 15:52:47,000: Rota válida encontrada: [5, 8, 0]\n",
      "2024-09-06 15:52:47,001: Rota válida encontrada: [5, 2, 1]\n",
      "2024-09-06 15:52:47,001: Rota válida encontrada: [5, 2]\n",
      "2024-09-06 15:52:47,002: Rota válida encontrada: [5, 4, 3]\n",
      "2024-09-06 15:52:47,004: Rota válida encontrada: [5, 4]\n",
      "2024-09-06 15:52:47,005: Rota válida encontrada: [5, 4, 3, 6]\n",
      "2024-09-06 15:52:47,007: Rota válida encontrada: [5, 4, 7]\n",
      "2024-09-06 15:52:47,009: Rota válida encontrada: [5, 8]\n",
      "2024-09-06 15:52:47,013: Rota válida encontrada: [6, 3, 0]\n",
      "2024-09-06 15:52:47,013: Rota válida encontrada: [6, 3, 0, 1]\n",
      "2024-09-06 15:52:47,014: Sem pares EPRs entre 8 e 2 na rota [6, 7, 8, 2]\n",
      "2024-09-06 15:52:47,015: Nenhuma rota válida encontrada.\n",
      "2024-09-06 15:52:47,017: Rota válida encontrada: [6, 3]\n",
      "2024-09-06 15:52:47,019: Rota válida encontrada: [6, 3, 4]\n",
      "2024-09-06 15:52:47,021: Rota válida encontrada: [6, 3, 4, 5]\n",
      "2024-09-06 15:52:47,022: Rota válida encontrada: [6, 7]\n",
      "2024-09-06 15:52:47,024: Rota válida encontrada: [6, 7, 8]\n",
      "2024-09-06 15:52:47,025: Rota válida encontrada: [7, 8, 0]\n",
      "2024-09-06 15:52:47,027: Rota válida encontrada: [7, 4, 1]\n",
      "2024-09-06 15:52:47,030: Sem pares EPRs entre 8 e 2 na rota [7, 8, 2]\n",
      "2024-09-06 15:52:47,031: Nenhuma rota válida encontrada.\n",
      "2024-09-06 15:52:47,032: Rota válida encontrada: [7, 4, 3]\n",
      "2024-09-06 15:52:47,032: Rota válida encontrada: [7, 4]\n",
      "2024-09-06 15:52:47,032: Rota válida encontrada: [7, 4, 5]\n",
      "2024-09-06 15:52:47,033: Rota válida encontrada: [7, 6]\n",
      "2024-09-06 15:52:47,034: Rota válida encontrada: [7, 8]\n",
      "2024-09-06 15:52:47,034: Rota válida encontrada: [8, 0]\n",
      "2024-09-06 15:52:47,035: Sem pares EPRs entre 8 e 1 na rota [8, 1]\n",
      "2024-09-06 15:52:47,035: Nenhuma rota válida encontrada.\n",
      "2024-09-06 15:52:47,036: Sem pares EPRs entre 8 e 2 na rota [8, 2]\n",
      "2024-09-06 15:52:47,036: Nenhuma rota válida encontrada.\n",
      "2024-09-06 15:52:47,036: Rota válida encontrada: [8, 0, 3]\n",
      "2024-09-06 15:52:47,037: Rota válida encontrada: [8, 5, 4]\n",
      "2024-09-06 15:52:47,037: Rota válida encontrada: [8, 5]\n",
      "2024-09-06 15:52:47,038: Rota válida encontrada: [8, 7, 6]\n",
      "2024-09-06 15:52:47,040: Rota válida encontrada: [8, 7]\n"
     ]
    },
    {
     "data": {
      "text/plain": [
       "2.6875"
      ]
     },
     "execution_count": 7,
     "metadata": {},
     "output_type": "execute_result"
    }
   ],
   "source": [
    "rede.networklayer.get_avg_size_routes()"
   ]
  },
  {
   "cell_type": "code",
   "execution_count": 8,
   "metadata": {},
   "outputs": [
    {
     "name": "stderr",
     "output_type": "stream",
     "text": [
      "2024-09-06 15:52:47,057: Eprs usados na camada PhysicalLayer: 0\n",
      "2024-09-06 15:52:47,058: Eprs usados na camada LinkLayer: 0\n",
      "2024-09-06 15:52:47,059: Eprs usados na camada NetworkLayer: 3\n"
     ]
    },
    {
     "data": {
      "text/plain": [
       "3"
      ]
     },
     "execution_count": 8,
     "metadata": {},
     "output_type": "execute_result"
    }
   ],
   "source": [
    "rede.get_total_useds_eprs()"
   ]
  },
  {
   "cell_type": "code",
   "execution_count": 9,
   "metadata": {},
   "outputs": [
    {
     "data": {
      "text/plain": [
       "[<quantumnet.objects.epr.Epr at 0x78b2cbfc7620>]"
      ]
     },
     "execution_count": 9,
     "metadata": {},
     "output_type": "execute_result"
    }
   ],
   "source": [
    "rede.get_eprs_from_edge(8,0)"
   ]
  }
 ],
 "metadata": {
  "kernelspec": {
   "display_name": "Python 3",
   "language": "python",
   "name": "python3"
  },
  "language_info": {
   "codemirror_mode": {
    "name": "ipython",
    "version": 3
   },
   "file_extension": ".py",
   "mimetype": "text/x-python",
   "name": "python",
   "nbconvert_exporter": "python",
   "pygments_lexer": "ipython3",
   "version": "3.12.3"
  }
 },
 "nbformat": 4,
 "nbformat_minor": 2
}
