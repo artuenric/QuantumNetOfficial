{
 "cells": [
  {
   "cell_type": "markdown",
   "metadata": {},
   "source": [
    "# Guia da Camada de Rede\n",
    "### A camada de rede serve para o cliente pedir uma requisição de rota entre dois pontos (Alice e Bob) e que seja atendida por uma rota escolhida e adequada."
   ]
  },
  {
   "cell_type": "markdown",
   "metadata": {},
   "source": [
    "#### IMPORTANDO AS DEPENDÊNCIAS\n",
    "##### Este documento tem como objetivo demostrar a execução da camada de rede, além de suas funcionalidades. "
   ]
  },
  {
   "cell_type": "code",
   "execution_count": 1,
   "metadata": {},
   "outputs": [],
   "source": [
    "from quantumnet.components import Network, Host\n",
    "from quantumnet.objects import Qubit, Logger\n",
    "Logger.activate(Logger)"
   ]
  },
  {
   "cell_type": "markdown",
   "metadata": {},
   "source": [
    "#### Ao importar as dependências, vamos instaciar a rede com 20 qubits em cada host e 10 pares EPRS em cada canal da topologia. "
   ]
  },
  {
   "cell_type": "code",
   "execution_count": 2,
   "metadata": {},
   "outputs": [
    {
     "name": "stderr",
     "output_type": "stream",
     "text": [
      "2024-09-10 16:40:35,414: Qubit 0 adicionado à memória do Host 0.\n",
      "2024-09-10 16:40:35,422: Qubit 0 criado com fidelidade inicial 0.4208638568633515 e adicionado à memória do Host 0.\n",
      "2024-09-10 16:40:35,436: Qubit 1 adicionado à memória do Host 0.\n",
      "2024-09-10 16:40:35,440: Qubit 1 criado com fidelidade inicial 0.5470646759250539 e adicionado à memória do Host 0.\n",
      "2024-09-10 16:40:35,445: Qubit 2 adicionado à memória do Host 0.\n",
      "2024-09-10 16:40:35,455: Qubit 2 criado com fidelidade inicial 0.4758316766918478 e adicionado à memória do Host 0.\n",
      "2024-09-10 16:40:35,462: Qubit 3 adicionado à memória do Host 0.\n",
      "2024-09-10 16:40:35,468: Qubit 3 criado com fidelidade inicial 0.17920896854097224 e adicionado à memória do Host 0.\n",
      "2024-09-10 16:40:35,469: Qubit 4 adicionado à memória do Host 0.\n",
      "2024-09-10 16:40:35,469: Qubit 4 criado com fidelidade inicial 0.9954739070979196 e adicionado à memória do Host 0.\n",
      "2024-09-10 16:40:35,470: Qubit 5 adicionado à memória do Host 0.\n",
      "2024-09-10 16:40:35,471: Qubit 5 criado com fidelidade inicial 0.5853695981109162 e adicionado à memória do Host 0.\n",
      "2024-09-10 16:40:35,472: Qubit 6 adicionado à memória do Host 0.\n",
      "2024-09-10 16:40:35,473: Qubit 6 criado com fidelidade inicial 0.9847336846534291 e adicionado à memória do Host 0.\n",
      "2024-09-10 16:40:35,475: Qubit 7 adicionado à memória do Host 0.\n",
      "2024-09-10 16:40:35,524: Qubit 7 criado com fidelidade inicial 0.4501884810959633 e adicionado à memória do Host 0.\n",
      "2024-09-10 16:40:35,527: Qubit 8 adicionado à memória do Host 0.\n",
      "2024-09-10 16:40:35,533: Qubit 8 criado com fidelidade inicial 0.5790198979686687 e adicionado à memória do Host 0.\n",
      "2024-09-10 16:40:35,538: Qubit 9 adicionado à memória do Host 0.\n",
      "2024-09-10 16:40:35,543: Qubit 9 criado com fidelidade inicial 0.08443416926475023 e adicionado à memória do Host 0.\n"
     ]
    },
    {
     "name": "stderr",
     "output_type": "stream",
     "text": [
      "2024-09-10 16:40:35,567: Qubit 10 adicionado à memória do Host 1.\n",
      "2024-09-10 16:40:35,586: Qubit 10 criado com fidelidade inicial 0.060768066709120605 e adicionado à memória do Host 1.\n",
      "2024-09-10 16:40:35,588: Qubit 11 adicionado à memória do Host 1.\n",
      "2024-09-10 16:40:35,590: Qubit 11 criado com fidelidade inicial 0.5627441587751053 e adicionado à memória do Host 1.\n",
      "2024-09-10 16:40:35,590: Qubit 12 adicionado à memória do Host 1.\n",
      "2024-09-10 16:40:35,591: Qubit 12 criado com fidelidade inicial 0.6666047444845234 e adicionado à memória do Host 1.\n",
      "2024-09-10 16:40:35,592: Qubit 13 adicionado à memória do Host 1.\n",
      "2024-09-10 16:40:35,593: Qubit 13 criado com fidelidade inicial 0.17470715240130053 e adicionado à memória do Host 1.\n",
      "2024-09-10 16:40:35,597: Qubit 14 adicionado à memória do Host 1.\n",
      "2024-09-10 16:40:35,598: Qubit 14 criado com fidelidade inicial 0.4515179450442858 e adicionado à memória do Host 1.\n",
      "2024-09-10 16:40:35,599: Qubit 15 adicionado à memória do Host 1.\n",
      "2024-09-10 16:40:35,602: Qubit 15 criado com fidelidade inicial 0.7485958715949604 e adicionado à memória do Host 1.\n",
      "2024-09-10 16:40:35,603: Qubit 16 adicionado à memória do Host 1.\n",
      "2024-09-10 16:40:35,603: Qubit 16 criado com fidelidade inicial 0.6689060696594111 e adicionado à memória do Host 1.\n",
      "2024-09-10 16:40:35,605: Qubit 17 adicionado à memória do Host 1.\n",
      "2024-09-10 16:40:35,607: Qubit 17 criado com fidelidade inicial 0.5916062170397636 e adicionado à memória do Host 1.\n",
      "2024-09-10 16:40:35,613: Qubit 18 adicionado à memória do Host 1.\n",
      "2024-09-10 16:40:35,618: Qubit 18 criado com fidelidade inicial 0.9952182431949195 e adicionado à memória do Host 1.\n",
      "2024-09-10 16:40:35,620: Qubit 19 adicionado à memória do Host 1.\n",
      "2024-09-10 16:40:35,623: Qubit 19 criado com fidelidade inicial 0.5254042672499836 e adicionado à memória do Host 1.\n",
      "2024-09-10 16:40:35,624: Qubit 20 adicionado à memória do Host 2.\n",
      "2024-09-10 16:40:35,624: Qubit 20 criado com fidelidade inicial 0.26352757190516485 e adicionado à memória do Host 2.\n",
      "2024-09-10 16:40:35,625: Qubit 21 adicionado à memória do Host 2.\n",
      "2024-09-10 16:40:35,626: Qubit 21 criado com fidelidade inicial 0.9517347159200109 e adicionado à memória do Host 2.\n",
      "2024-09-10 16:40:35,626: Qubit 22 adicionado à memória do Host 2.\n",
      "2024-09-10 16:40:35,628: Qubit 22 criado com fidelidade inicial 0.7659392854877985 e adicionado à memória do Host 2.\n",
      "2024-09-10 16:40:35,629: Qubit 23 adicionado à memória do Host 2.\n",
      "2024-09-10 16:40:35,630: Qubit 23 criado com fidelidade inicial 0.6931112529687763 e adicionado à memória do Host 2.\n",
      "2024-09-10 16:40:35,631: Qubit 24 adicionado à memória do Host 2.\n",
      "2024-09-10 16:40:35,631: Qubit 24 criado com fidelidade inicial 0.6600283864501564 e adicionado à memória do Host 2.\n",
      "2024-09-10 16:40:35,634: Qubit 25 adicionado à memória do Host 2.\n",
      "2024-09-10 16:40:35,637: Qubit 25 criado com fidelidade inicial 0.8789075424629293 e adicionado à memória do Host 2.\n",
      "2024-09-10 16:40:35,640: Qubit 26 adicionado à memória do Host 2.\n",
      "2024-09-10 16:40:35,643: Qubit 26 criado com fidelidade inicial 0.5386266165571935 e adicionado à memória do Host 2.\n",
      "2024-09-10 16:40:35,646: Qubit 27 adicionado à memória do Host 2.\n",
      "2024-09-10 16:40:35,648: Qubit 27 criado com fidelidade inicial 0.983867516240853 e adicionado à memória do Host 2.\n",
      "2024-09-10 16:40:35,649: Qubit 28 adicionado à memória do Host 2.\n",
      "2024-09-10 16:40:35,650: Qubit 28 criado com fidelidade inicial 0.2935137529443219 e adicionado à memória do Host 2.\n",
      "2024-09-10 16:40:35,653: Qubit 29 adicionado à memória do Host 2.\n",
      "2024-09-10 16:40:35,653: Qubit 29 criado com fidelidade inicial 0.08409788116682271 e adicionado à memória do Host 2.\n",
      "2024-09-10 16:40:35,655: Qubit 30 adicionado à memória do Host 3.\n",
      "2024-09-10 16:40:35,655: Qubit 30 criado com fidelidade inicial 0.4343613495363625 e adicionado à memória do Host 3.\n",
      "2024-09-10 16:40:35,657: Qubit 31 adicionado à memória do Host 3.\n",
      "2024-09-10 16:40:35,657: Qubit 31 criado com fidelidade inicial 0.7931477856244845 e adicionado à memória do Host 3.\n",
      "2024-09-10 16:40:35,658: Qubit 32 adicionado à memória do Host 3.\n",
      "2024-09-10 16:40:35,660: Qubit 32 criado com fidelidade inicial 0.2389795992621736 e adicionado à memória do Host 3.\n",
      "2024-09-10 16:40:35,662: Qubit 33 adicionado à memória do Host 3.\n",
      "2024-09-10 16:40:35,665: Qubit 33 criado com fidelidade inicial 0.5334550371237462 e adicionado à memória do Host 3.\n",
      "2024-09-10 16:40:35,667: Qubit 34 adicionado à memória do Host 3.\n",
      "2024-09-10 16:40:35,669: Qubit 34 criado com fidelidade inicial 0.6090078221479749 e adicionado à memória do Host 3.\n",
      "2024-09-10 16:40:35,674: Qubit 35 adicionado à memória do Host 3.\n",
      "2024-09-10 16:40:35,675: Qubit 35 criado com fidelidade inicial 0.11406686291000379 e adicionado à memória do Host 3.\n",
      "2024-09-10 16:40:35,679: Qubit 36 adicionado à memória do Host 3.\n",
      "2024-09-10 16:40:35,679: Qubit 36 criado com fidelidade inicial 0.38964116329123755 e adicionado à memória do Host 3.\n",
      "2024-09-10 16:40:35,680: Qubit 37 adicionado à memória do Host 3.\n",
      "2024-09-10 16:40:35,684: Qubit 37 criado com fidelidade inicial 0.5842736998557532 e adicionado à memória do Host 3.\n",
      "2024-09-10 16:40:35,687: Qubit 38 adicionado à memória do Host 3.\n",
      "2024-09-10 16:40:35,693: Qubit 38 criado com fidelidade inicial 0.05408307598433948 e adicionado à memória do Host 3.\n",
      "2024-09-10 16:40:35,698: Qubit 39 adicionado à memória do Host 3.\n",
      "2024-09-10 16:40:35,702: Qubit 39 criado com fidelidade inicial 0.7395985347930178 e adicionado à memória do Host 3.\n",
      "2024-09-10 16:40:35,703: Qubit 40 adicionado à memória do Host 4.\n",
      "2024-09-10 16:40:35,706: Qubit 40 criado com fidelidade inicial 0.5322833854943498 e adicionado à memória do Host 4.\n",
      "2024-09-10 16:40:35,710: Qubit 41 adicionado à memória do Host 4.\n",
      "2024-09-10 16:40:35,715: Qubit 41 criado com fidelidade inicial 0.7613890187836391 e adicionado à memória do Host 4.\n",
      "2024-09-10 16:40:35,717: Qubit 42 adicionado à memória do Host 4.\n",
      "2024-09-10 16:40:35,720: Qubit 42 criado com fidelidade inicial 0.8909433268498769 e adicionado à memória do Host 4.\n",
      "2024-09-10 16:40:35,725: Qubit 43 adicionado à memória do Host 4.\n",
      "2024-09-10 16:40:35,729: Qubit 43 criado com fidelidade inicial 0.21800078441010862 e adicionado à memória do Host 4.\n",
      "2024-09-10 16:40:35,733: Qubit 44 adicionado à memória do Host 4.\n",
      "2024-09-10 16:40:35,736: Qubit 44 criado com fidelidade inicial 0.8745666666241362 e adicionado à memória do Host 4.\n",
      "2024-09-10 16:40:35,738: Qubit 45 adicionado à memória do Host 4.\n",
      "2024-09-10 16:40:35,741: Qubit 45 criado com fidelidade inicial 0.9346622757678887 e adicionado à memória do Host 4.\n",
      "2024-09-10 16:40:35,741: Qubit 46 adicionado à memória do Host 4.\n",
      "2024-09-10 16:40:35,743: Qubit 46 criado com fidelidade inicial 0.7243771436564569 e adicionado à memória do Host 4.\n",
      "2024-09-10 16:40:35,748: Qubit 47 adicionado à memória do Host 4.\n",
      "2024-09-10 16:40:35,751: Qubit 47 criado com fidelidade inicial 0.5318654901065468 e adicionado à memória do Host 4.\n",
      "2024-09-10 16:40:35,755: Qubit 48 adicionado à memória do Host 4.\n",
      "2024-09-10 16:40:35,759: Qubit 48 criado com fidelidade inicial 0.10505872940071548 e adicionado à memória do Host 4.\n",
      "2024-09-10 16:40:35,761: Qubit 49 adicionado à memória do Host 4.\n",
      "2024-09-10 16:40:35,761: Qubit 49 criado com fidelidade inicial 0.5262076991946445 e adicionado à memória do Host 4.\n",
      "2024-09-10 16:40:35,762: Qubit 50 adicionado à memória do Host 5.\n",
      "2024-09-10 16:40:35,765: Qubit 50 criado com fidelidade inicial 0.15023059414988293 e adicionado à memória do Host 5.\n",
      "2024-09-10 16:40:35,770: Qubit 51 adicionado à memória do Host 5.\n",
      "2024-09-10 16:40:35,772: Qubit 51 criado com fidelidade inicial 0.5617814754803209 e adicionado à memória do Host 5.\n",
      "2024-09-10 16:40:35,773: Qubit 52 adicionado à memória do Host 5.\n",
      "2024-09-10 16:40:35,778: Qubit 52 criado com fidelidade inicial 0.03084109584721484 e adicionado à memória do Host 5.\n",
      "2024-09-10 16:40:35,784: Qubit 53 adicionado à memória do Host 5.\n",
      "2024-09-10 16:40:35,788: Qubit 53 criado com fidelidade inicial 0.034565185560811895 e adicionado à memória do Host 5.\n",
      "2024-09-10 16:40:35,789: Qubit 54 adicionado à memória do Host 5.\n",
      "2024-09-10 16:40:35,793: Qubit 54 criado com fidelidade inicial 0.9120840996608502 e adicionado à memória do Host 5.\n",
      "2024-09-10 16:40:35,794: Qubit 55 adicionado à memória do Host 5.\n",
      "2024-09-10 16:40:35,805: Qubit 55 criado com fidelidade inicial 0.5526760668161855 e adicionado à memória do Host 5.\n",
      "2024-09-10 16:40:35,811: Qubit 56 adicionado à memória do Host 5.\n",
      "2024-09-10 16:40:35,814: Qubit 56 criado com fidelidade inicial 0.6511195893108734 e adicionado à memória do Host 5.\n",
      "2024-09-10 16:40:35,819: Qubit 57 adicionado à memória do Host 5.\n",
      "2024-09-10 16:40:35,822: Qubit 57 criado com fidelidade inicial 0.8052093052764433 e adicionado à memória do Host 5.\n",
      "2024-09-10 16:40:35,824: Qubit 58 adicionado à memória do Host 5.\n",
      "2024-09-10 16:40:35,829: Qubit 58 criado com fidelidade inicial 0.37344218029145027 e adicionado à memória do Host 5.\n",
      "2024-09-10 16:40:35,833: Qubit 59 adicionado à memória do Host 5.\n",
      "2024-09-10 16:40:35,838: Qubit 59 criado com fidelidade inicial 0.5113384891971388 e adicionado à memória do Host 5.\n",
      "2024-09-10 16:40:35,842: Qubit 60 adicionado à memória do Host 6.\n",
      "2024-09-10 16:40:35,843: Qubit 60 criado com fidelidade inicial 0.05939482207788871 e adicionado à memória do Host 6.\n",
      "2024-09-10 16:40:35,845: Qubit 61 adicionado à memória do Host 6.\n",
      "2024-09-10 16:40:35,852: Qubit 61 criado com fidelidade inicial 0.683012445874598 e adicionado à memória do Host 6.\n",
      "2024-09-10 16:40:35,854: Qubit 62 adicionado à memória do Host 6.\n",
      "2024-09-10 16:40:35,857: Qubit 62 criado com fidelidade inicial 0.4503098739347805 e adicionado à memória do Host 6.\n",
      "2024-09-10 16:40:35,866: Qubit 63 adicionado à memória do Host 6.\n",
      "2024-09-10 16:40:35,869: Qubit 63 criado com fidelidade inicial 0.7477630195405288 e adicionado à memória do Host 6.\n",
      "2024-09-10 16:40:35,872: Qubit 64 adicionado à memória do Host 6.\n",
      "2024-09-10 16:40:35,873: Qubit 64 criado com fidelidade inicial 0.6603427195887976 e adicionado à memória do Host 6.\n",
      "2024-09-10 16:40:35,879: Qubit 65 adicionado à memória do Host 6.\n",
      "2024-09-10 16:40:35,882: Qubit 65 criado com fidelidade inicial 0.6376660076300568 e adicionado à memória do Host 6.\n",
      "2024-09-10 16:40:35,886: Qubit 66 adicionado à memória do Host 6.\n",
      "2024-09-10 16:40:35,889: Qubit 66 criado com fidelidade inicial 0.32048295091274703 e adicionado à memória do Host 6.\n",
      "2024-09-10 16:40:35,891: Qubit 67 adicionado à memória do Host 6.\n",
      "2024-09-10 16:40:35,892: Qubit 67 criado com fidelidade inicial 0.004076262375893758 e adicionado à memória do Host 6.\n",
      "2024-09-10 16:40:35,893: Qubit 68 adicionado à memória do Host 6.\n",
      "2024-09-10 16:40:35,896: Qubit 68 criado com fidelidade inicial 0.2720710310461779 e adicionado à memória do Host 6.\n",
      "2024-09-10 16:40:35,900: Qubit 69 adicionado à memória do Host 6.\n",
      "2024-09-10 16:40:35,902: Qubit 69 criado com fidelidade inicial 0.11332571169401362 e adicionado à memória do Host 6.\n",
      "2024-09-10 16:40:35,903: Qubit 70 adicionado à memória do Host 7.\n",
      "2024-09-10 16:40:35,905: Qubit 70 criado com fidelidade inicial 0.9777272114144068 e adicionado à memória do Host 7.\n",
      "2024-09-10 16:40:35,908: Qubit 71 adicionado à memória do Host 7.\n",
      "2024-09-10 16:40:35,917: Qubit 71 criado com fidelidade inicial 0.3500766527063327 e adicionado à memória do Host 7.\n",
      "2024-09-10 16:40:35,924: Qubit 72 adicionado à memória do Host 7.\n",
      "2024-09-10 16:40:35,928: Qubit 72 criado com fidelidade inicial 0.3614681594004664 e adicionado à memória do Host 7.\n",
      "2024-09-10 16:40:35,931: Qubit 73 adicionado à memória do Host 7.\n",
      "2024-09-10 16:40:35,936: Qubit 73 criado com fidelidade inicial 0.660204746859195 e adicionado à memória do Host 7.\n",
      "2024-09-10 16:40:35,937: Qubit 74 adicionado à memória do Host 7.\n",
      "2024-09-10 16:40:35,940: Qubit 74 criado com fidelidade inicial 0.484122596878796 e adicionado à memória do Host 7.\n",
      "2024-09-10 16:40:35,942: Qubit 75 adicionado à memória do Host 7.\n",
      "2024-09-10 16:40:35,945: Qubit 75 criado com fidelidade inicial 0.37343187151228063 e adicionado à memória do Host 7.\n",
      "2024-09-10 16:40:35,949: Qubit 76 adicionado à memória do Host 7.\n",
      "2024-09-10 16:40:35,951: Qubit 76 criado com fidelidade inicial 0.019957452914022955 e adicionado à memória do Host 7.\n",
      "2024-09-10 16:40:35,954: Qubit 77 adicionado à memória do Host 7.\n",
      "2024-09-10 16:40:35,958: Qubit 77 criado com fidelidade inicial 0.10946860622022092 e adicionado à memória do Host 7.\n",
      "2024-09-10 16:40:35,960: Qubit 78 adicionado à memória do Host 7.\n",
      "2024-09-10 16:40:35,960: Qubit 78 criado com fidelidade inicial 0.028073172963206994 e adicionado à memória do Host 7.\n",
      "2024-09-10 16:40:35,961: Qubit 79 adicionado à memória do Host 7.\n",
      "2024-09-10 16:40:35,963: Qubit 79 criado com fidelidade inicial 0.6217918967272449 e adicionado à memória do Host 7.\n",
      "2024-09-10 16:40:35,966: Qubit 80 adicionado à memória do Host 8.\n",
      "2024-09-10 16:40:35,970: Qubit 80 criado com fidelidade inicial 0.5718767192767398 e adicionado à memória do Host 8.\n",
      "2024-09-10 16:40:35,972: Qubit 81 adicionado à memória do Host 8.\n",
      "2024-09-10 16:40:35,979: Qubit 81 criado com fidelidade inicial 0.3293134284674295 e adicionado à memória do Host 8.\n",
      "2024-09-10 16:40:35,982: Qubit 82 adicionado à memória do Host 8.\n",
      "2024-09-10 16:40:35,987: Qubit 82 criado com fidelidade inicial 0.7456609947011554 e adicionado à memória do Host 8.\n",
      "2024-09-10 16:40:35,989: Qubit 83 adicionado à memória do Host 8.\n",
      "2024-09-10 16:40:35,990: Qubit 83 criado com fidelidade inicial 0.43692875876939374 e adicionado à memória do Host 8.\n",
      "2024-09-10 16:40:35,990: Qubit 84 adicionado à memória do Host 8.\n",
      "2024-09-10 16:40:35,991: Qubit 84 criado com fidelidade inicial 0.3213019733523169 e adicionado à memória do Host 8.\n",
      "2024-09-10 16:40:36,000: Qubit 85 adicionado à memória do Host 8.\n",
      "2024-09-10 16:40:36,005: Qubit 85 criado com fidelidade inicial 0.22550307636061806 e adicionado à memória do Host 8.\n",
      "2024-09-10 16:40:36,009: Qubit 86 adicionado à memória do Host 8.\n",
      "2024-09-10 16:40:36,012: Qubit 86 criado com fidelidade inicial 0.2938731170194848 e adicionado à memória do Host 8.\n",
      "2024-09-10 16:40:36,016: Qubit 87 adicionado à memória do Host 8.\n",
      "2024-09-10 16:40:36,020: Qubit 87 criado com fidelidade inicial 0.5441521866139019 e adicionado à memória do Host 8.\n",
      "2024-09-10 16:40:36,021: Qubit 88 adicionado à memória do Host 8.\n",
      "2024-09-10 16:40:36,022: Qubit 88 criado com fidelidade inicial 0.9255624755993375 e adicionado à memória do Host 8.\n",
      "2024-09-10 16:40:36,024: Qubit 89 adicionado à memória do Host 8.\n",
      "2024-09-10 16:40:36,028: Qubit 89 criado com fidelidade inicial 0.6132509267622628 e adicionado à memória do Host 8.\n",
      "2024-09-10 16:40:36,034: Par EPR <quantumnet.objects.epr.Epr object at 0x72e83418ac80> adicionado ao canal.\n",
      "2024-09-10 16:40:36,039: Par EPR <quantumnet.objects.epr.Epr object at 0x72e8341c4100> adicionado ao canal.\n",
      "2024-09-10 16:40:36,041: Par EPR <quantumnet.objects.epr.Epr object at 0x72e83418a7d0> adicionado ao canal.\n",
      "2024-09-10 16:40:36,042: Par EPR <quantumnet.objects.epr.Epr object at 0x72e83418abc0> adicionado ao canal.\n",
      "2024-09-10 16:40:36,046: Par EPR <quantumnet.objects.epr.Epr object at 0x72e83418b0d0> adicionado ao canal.\n",
      "2024-09-10 16:40:36,051: Par EPR <quantumnet.objects.epr.Epr object at 0x72e83418afb0> adicionado ao canal.\n",
      "2024-09-10 16:40:36,053: Par EPR <quantumnet.objects.epr.Epr object at 0x72e83418b790> adicionado ao canal.\n",
      "2024-09-10 16:40:36,054: Par EPR <quantumnet.objects.epr.Epr object at 0x72e83418ac20> adicionado ao canal.\n",
      "2024-09-10 16:40:36,055: Par EPR <quantumnet.objects.epr.Epr object at 0x72e83418b850> adicionado ao canal.\n",
      "2024-09-10 16:40:36,055: Par EPR <quantumnet.objects.epr.Epr object at 0x72e83418a7a0> adicionado ao canal.\n",
      "2024-09-10 16:40:36,057: Par EPR <quantumnet.objects.epr.Epr object at 0x72e83418a890> adicionado ao canal.\n",
      "2024-09-10 16:40:36,062: Par EPR <quantumnet.objects.epr.Epr object at 0x72e83418b9a0> adicionado ao canal.\n",
      "2024-09-10 16:40:36,065: Par EPR <quantumnet.objects.epr.Epr object at 0x72e83418b940> adicionado ao canal.\n",
      "2024-09-10 16:40:36,068: Par EPR <quantumnet.objects.epr.Epr object at 0x72e83418b8b0> adicionado ao canal.\n",
      "2024-09-10 16:40:36,071: Par EPR <quantumnet.objects.epr.Epr object at 0x72e83418b820> adicionado ao canal.\n",
      "2024-09-10 16:40:36,074: Par EPR <quantumnet.objects.epr.Epr object at 0x72e83418beb0> adicionado ao canal.\n",
      "2024-09-10 16:40:36,075: Par EPR <quantumnet.objects.epr.Epr object at 0x72e83418bf10> adicionado ao canal.\n",
      "2024-09-10 16:40:36,075: Par EPR <quantumnet.objects.epr.Epr object at 0x72e83418bfd0> adicionado ao canal.\n",
      "2024-09-10 16:40:36,076: Par EPR <quantumnet.objects.epr.Epr object at 0x72e83418bf70> adicionado ao canal.\n",
      "2024-09-10 16:40:36,077: Par EPR <quantumnet.objects.epr.Epr object at 0x72e83418b8e0> adicionado ao canal.\n",
      "2024-09-10 16:40:36,078: Par EPR <quantumnet.objects.epr.Epr object at 0x72e83418a9b0> adicionado ao canal.\n",
      "2024-09-10 16:40:36,081: Par EPR <quantumnet.objects.epr.Epr object at 0x72e83418bdf0> adicionado ao canal.\n",
      "2024-09-10 16:40:36,086: Par EPR <quantumnet.objects.epr.Epr object at 0x72e83418a6e0> adicionado ao canal.\n",
      "2024-09-10 16:40:36,088: Par EPR <quantumnet.objects.epr.Epr object at 0x72e83418bbb0> adicionado ao canal.\n",
      "2024-09-10 16:40:36,089: Par EPR <quantumnet.objects.epr.Epr object at 0x72e83418bc40> adicionado ao canal.\n",
      "2024-09-10 16:40:36,090: Par EPR <quantumnet.objects.epr.Epr object at 0x72e83418bb20> adicionado ao canal.\n",
      "2024-09-10 16:40:36,090: Par EPR <quantumnet.objects.epr.Epr object at 0x72e83418ba90> adicionado ao canal.\n",
      "2024-09-10 16:40:36,091: Par EPR <quantumnet.objects.epr.Epr object at 0x72e83418bbe0> adicionado ao canal.\n",
      "2024-09-10 16:40:36,091: Par EPR <quantumnet.objects.epr.Epr object at 0x72e83418b730> adicionado ao canal.\n",
      "2024-09-10 16:40:36,092: Par EPR <quantumnet.objects.epr.Epr object at 0x72e83418bd00> adicionado ao canal.\n",
      "2024-09-10 16:40:36,096: Par EPR <quantumnet.objects.epr.Epr object at 0x72e83418bcd0> adicionado ao canal.\n",
      "2024-09-10 16:40:36,097: Par EPR <quantumnet.objects.epr.Epr object at 0x72e83418b640> adicionado ao canal.\n",
      "2024-09-10 16:40:36,099: Par EPR <quantumnet.objects.epr.Epr object at 0x72e83418b6a0> adicionado ao canal.\n",
      "2024-09-10 16:40:36,102: Par EPR <quantumnet.objects.epr.Epr object at 0x72e83418b700> adicionado ao canal.\n",
      "2024-09-10 16:40:36,102: Par EPR <quantumnet.objects.epr.Epr object at 0x72e83418bc10> adicionado ao canal.\n",
      "2024-09-10 16:40:36,104: Par EPR <quantumnet.objects.epr.Epr object at 0x72e83418b5b0> adicionado ao canal.\n",
      "2024-09-10 16:40:36,106: Par EPR <quantumnet.objects.epr.Epr object at 0x72e83418b5e0> adicionado ao canal.\n",
      "2024-09-10 16:40:36,109: Par EPR <quantumnet.objects.epr.Epr object at 0x72e83418b460> adicionado ao canal.\n",
      "2024-09-10 16:40:36,113: Par EPR <quantumnet.objects.epr.Epr object at 0x72e83418b370> adicionado ao canal.\n",
      "2024-09-10 16:40:36,116: Par EPR <quantumnet.objects.epr.Epr object at 0x72e83418b310> adicionado ao canal.\n",
      "2024-09-10 16:40:36,118: Par EPR <quantumnet.objects.epr.Epr object at 0x72e83418b760> adicionado ao canal.\n",
      "2024-09-10 16:40:36,121: Par EPR <quantumnet.objects.epr.Epr object at 0x72e83418b280> adicionado ao canal.\n",
      "2024-09-10 16:40:36,124: Par EPR <quantumnet.objects.epr.Epr object at 0x72e83418be50> adicionado ao canal.\n",
      "2024-09-10 16:40:36,127: Par EPR <quantumnet.objects.epr.Epr object at 0x72e83418b340> adicionado ao canal.\n",
      "2024-09-10 16:40:36,130: Par EPR <quantumnet.objects.epr.Epr object at 0x72e83418b1f0> adicionado ao canal.\n",
      "2024-09-10 16:40:36,133: Par EPR <quantumnet.objects.epr.Epr object at 0x72e83418b3a0> adicionado ao canal.\n",
      "2024-09-10 16:40:36,137: Par EPR <quantumnet.objects.epr.Epr object at 0x72e83418b400> adicionado ao canal.\n",
      "2024-09-10 16:40:36,140: Par EPR <quantumnet.objects.epr.Epr object at 0x72e8341c4220> adicionado ao canal.\n",
      "2024-09-10 16:40:36,147: Par EPR <quantumnet.objects.epr.Epr object at 0x72e83418b550> adicionado ao canal.\n",
      "2024-09-10 16:40:36,150: Par EPR <quantumnet.objects.epr.Epr object at 0x72e83418af50> adicionado ao canal.\n",
      "2024-09-10 16:40:36,157: Par EPR <quantumnet.objects.epr.Epr object at 0x72e83418b4f0> adicionado ao canal.\n",
      "2024-09-10 16:40:36,160: Par EPR <quantumnet.objects.epr.Epr object at 0x72e83418ab60> adicionado ao canal.\n",
      "2024-09-10 16:40:36,160: Par EPR <quantumnet.objects.epr.Epr object at 0x72e83418af80> adicionado ao canal.\n",
      "2024-09-10 16:40:36,161: Par EPR <quantumnet.objects.epr.Epr object at 0x72e83418acb0> adicionado ao canal.\n",
      "2024-09-10 16:40:36,166: Par EPR <quantumnet.objects.epr.Epr object at 0x72e83418aa40> adicionado ao canal.\n",
      "2024-09-10 16:40:36,172: Par EPR <quantumnet.objects.epr.Epr object at 0x72e83418aad0> adicionado ao canal.\n",
      "2024-09-10 16:40:36,173: Par EPR <quantumnet.objects.epr.Epr object at 0x72e83418ada0> adicionado ao canal.\n",
      "2024-09-10 16:40:36,176: Par EPR <quantumnet.objects.epr.Epr object at 0x72e83418a950> adicionado ao canal.\n",
      "2024-09-10 16:40:36,180: Par EPR <quantumnet.objects.epr.Epr object at 0x72e83418ab00> adicionado ao canal.\n",
      "2024-09-10 16:40:36,182: Par EPR <quantumnet.objects.epr.Epr object at 0x72e83418a980> adicionado ao canal.\n",
      "2024-09-10 16:40:36,185: Par EPR <quantumnet.objects.epr.Epr object at 0x72e83418ae90> adicionado ao canal.\n",
      "2024-09-10 16:40:36,188: Par EPR <quantumnet.objects.epr.Epr object at 0x72e83418a830> adicionado ao canal.\n",
      "2024-09-10 16:40:36,191: Par EPR <quantumnet.objects.epr.Epr object at 0x72e83418ae60> adicionado ao canal.\n",
      "2024-09-10 16:40:36,191: Par EPR <quantumnet.objects.epr.Epr object at 0x72e834200160> adicionado ao canal.\n",
      "2024-09-10 16:40:36,193: Par EPR <quantumnet.objects.epr.Epr object at 0x72e8342000a0> adicionado ao canal.\n",
      "2024-09-10 16:40:36,197: Par EPR <quantumnet.objects.epr.Epr object at 0x72e834200070> adicionado ao canal.\n",
      "2024-09-10 16:40:36,199: Par EPR <quantumnet.objects.epr.Epr object at 0x72e8342002e0> adicionado ao canal.\n",
      "2024-09-10 16:40:36,203: Par EPR <quantumnet.objects.epr.Epr object at 0x72e83418a860> adicionado ao canal.\n",
      "2024-09-10 16:40:36,207: Par EPR <quantumnet.objects.epr.Epr object at 0x72e8342001c0> adicionado ao canal.\n",
      "2024-09-10 16:40:36,209: Par EPR <quantumnet.objects.epr.Epr object at 0x72e834200310> adicionado ao canal.\n",
      "2024-09-10 16:40:36,210: Par EPR <quantumnet.objects.epr.Epr object at 0x72e83418a920> adicionado ao canal.\n",
      "2024-09-10 16:40:36,212: Par EPR <quantumnet.objects.epr.Epr object at 0x72e834200400> adicionado ao canal.\n",
      "2024-09-10 16:40:36,215: Par EPR <quantumnet.objects.epr.Epr object at 0x72e834200520> adicionado ao canal.\n",
      "2024-09-10 16:40:36,219: Par EPR <quantumnet.objects.epr.Epr object at 0x72e8342003d0> adicionado ao canal.\n",
      "2024-09-10 16:40:36,220: Par EPR <quantumnet.objects.epr.Epr object at 0x72e834200460> adicionado ao canal.\n",
      "2024-09-10 16:40:36,221: Par EPR <quantumnet.objects.epr.Epr object at 0x72e834200250> adicionado ao canal.\n",
      "2024-09-10 16:40:36,221: Par EPR <quantumnet.objects.epr.Epr object at 0x72e8342005e0> adicionado ao canal.\n",
      "2024-09-10 16:40:36,222: Par EPR <quantumnet.objects.epr.Epr object at 0x72e834200730> adicionado ao canal.\n",
      "2024-09-10 16:40:36,229: Par EPR <quantumnet.objects.epr.Epr object at 0x72e834200760> adicionado ao canal.\n"
     ]
    },
    {
     "name": "stdout",
     "output_type": "stream",
     "text": [
      "Hosts inicializados\n",
      "Canais inicializados\n"
     ]
    },
    {
     "name": "stderr",
     "output_type": "stream",
     "text": [
      "2024-09-10 16:40:36,241: Par EPR <quantumnet.objects.epr.Epr object at 0x72e834200490> adicionado ao canal.\n",
      "2024-09-10 16:40:36,245: Par EPR <quantumnet.objects.epr.Epr object at 0x72e834200430> adicionado ao canal.\n",
      "2024-09-10 16:40:36,249: Par EPR <quantumnet.objects.epr.Epr object at 0x72e8342007c0> adicionado ao canal.\n",
      "2024-09-10 16:40:36,256: Par EPR <quantumnet.objects.epr.Epr object at 0x72e834200820> adicionado ao canal.\n",
      "2024-09-10 16:40:36,259: Par EPR <quantumnet.objects.epr.Epr object at 0x72e8342006d0> adicionado ao canal.\n",
      "2024-09-10 16:40:36,265: Par EPR <quantumnet.objects.epr.Epr object at 0x72e8342008e0> adicionado ao canal.\n",
      "2024-09-10 16:40:36,270: Par EPR <quantumnet.objects.epr.Epr object at 0x72e8342009a0> adicionado ao canal.\n",
      "2024-09-10 16:40:36,271: Par EPR <quantumnet.objects.epr.Epr object at 0x72e834200af0> adicionado ao canal.\n",
      "2024-09-10 16:40:36,273: Par EPR <quantumnet.objects.epr.Epr object at 0x72e834200a00> adicionado ao canal.\n",
      "2024-09-10 16:40:36,280: Par EPR <quantumnet.objects.epr.Epr object at 0x72e834200ac0> adicionado ao canal.\n",
      "2024-09-10 16:40:36,285: Par EPR <quantumnet.objects.epr.Epr object at 0x72e834200b20> adicionado ao canal.\n",
      "2024-09-10 16:40:36,287: Par EPR <quantumnet.objects.epr.Epr object at 0x72e834200880> adicionado ao canal.\n",
      "2024-09-10 16:40:36,291: Par EPR <quantumnet.objects.epr.Epr object at 0x72e834200c10> adicionado ao canal.\n",
      "2024-09-10 16:40:36,300: Par EPR <quantumnet.objects.epr.Epr object at 0x72e834200d00> adicionado ao canal.\n",
      "2024-09-10 16:40:36,306: Par EPR <quantumnet.objects.epr.Epr object at 0x72e834200a90> adicionado ao canal.\n",
      "2024-09-10 16:40:36,309: Par EPR <quantumnet.objects.epr.Epr object at 0x72e834200cd0> adicionado ao canal.\n",
      "2024-09-10 16:40:36,310: Par EPR <quantumnet.objects.epr.Epr object at 0x72e834200be0> adicionado ao canal.\n",
      "2024-09-10 16:40:36,315: Par EPR <quantumnet.objects.epr.Epr object at 0x72e834200df0> adicionado ao canal.\n",
      "2024-09-10 16:40:36,319: Par EPR <quantumnet.objects.epr.Epr object at 0x72e834200d90> adicionado ao canal.\n",
      "2024-09-10 16:40:36,322: Par EPR <quantumnet.objects.epr.Epr object at 0x72e834200e80> adicionado ao canal.\n",
      "2024-09-10 16:40:36,323: Par EPR <quantumnet.objects.epr.Epr object at 0x72e834200e20> adicionado ao canal.\n",
      "2024-09-10 16:40:36,324: Par EPR <quantumnet.objects.epr.Epr object at 0x72e8342009d0> adicionado ao canal.\n",
      "2024-09-10 16:40:36,328: Par EPR <quantumnet.objects.epr.Epr object at 0x72e834201090> adicionado ao canal.\n",
      "2024-09-10 16:40:36,333: Par EPR <quantumnet.objects.epr.Epr object at 0x72e834200d60> adicionado ao canal.\n",
      "2024-09-10 16:40:36,338: Par EPR <quantumnet.objects.epr.Epr object at 0x72e834200a60> adicionado ao canal.\n",
      "2024-09-10 16:40:36,340: Par EPR <quantumnet.objects.epr.Epr object at 0x72e834201030> adicionado ao canal.\n",
      "2024-09-10 16:40:36,342: Par EPR <quantumnet.objects.epr.Epr object at 0x72e834200fa0> adicionado ao canal.\n",
      "2024-09-10 16:40:36,344: Par EPR <quantumnet.objects.epr.Epr object at 0x72e83418a710> adicionado ao canal.\n",
      "2024-09-10 16:40:36,349: Par EPR <quantumnet.objects.epr.Epr object at 0x72e834201270> adicionado ao canal.\n",
      "2024-09-10 16:40:36,351: Par EPR <quantumnet.objects.epr.Epr object at 0x72e834201300> adicionado ao canal.\n",
      "2024-09-10 16:40:36,356: Par EPR <quantumnet.objects.epr.Epr object at 0x72e834200fd0> adicionado ao canal.\n",
      "2024-09-10 16:40:36,365: Par EPR <quantumnet.objects.epr.Epr object at 0x72e834200ee0> adicionado ao canal.\n",
      "2024-09-10 16:40:36,371: Par EPR <quantumnet.objects.epr.Epr object at 0x72e834201120> adicionado ao canal.\n",
      "2024-09-10 16:40:36,375: Par EPR <quantumnet.objects.epr.Epr object at 0x72e834201480> adicionado ao canal.\n",
      "2024-09-10 16:40:36,379: Par EPR <quantumnet.objects.epr.Epr object at 0x72e834201510> adicionado ao canal.\n",
      "2024-09-10 16:40:36,382: Par EPR <quantumnet.objects.epr.Epr object at 0x72e8342012a0> adicionado ao canal.\n",
      "2024-09-10 16:40:36,384: Par EPR <quantumnet.objects.epr.Epr object at 0x72e8342011e0> adicionado ao canal.\n",
      "2024-09-10 16:40:36,387: Par EPR <quantumnet.objects.epr.Epr object at 0x72e834201600> adicionado ao canal.\n",
      "2024-09-10 16:40:36,390: Par EPR <quantumnet.objects.epr.Epr object at 0x72e834201360> adicionado ao canal.\n",
      "2024-09-10 16:40:36,392: Par EPR <quantumnet.objects.epr.Epr object at 0x72e834201330> adicionado ao canal.\n",
      "2024-09-10 16:40:36,394: Par EPR <quantumnet.objects.epr.Epr object at 0x72e834201390> adicionado ao canal.\n"
     ]
    },
    {
     "name": "stdout",
     "output_type": "stream",
     "text": [
      "Pares EPRs adicionados\n"
     ]
    },
    {
     "data": {
      "image/png": "[encoded data removed]",
      "text/plain": [
       "<Figure size 640x480 with 1 Axes>"
      ]
     },
     "metadata": {},
     "output_type": "display_data"
    }
   ],
   "source": [
    "rede = Network()\n",
    "rede.set_ready_topology(\"Grade\", 3,3)\n",
    "rede.draw()"
   ]
  },
  {
   "cell_type": "code",
   "execution_count": 3,
   "metadata": {},
   "outputs": [],
   "source": [
    "alice = rede.get_host(6)\n",
    "bob = rede.get_host(1)"
   ]
  },
  {
   "cell_type": "markdown",
   "metadata": {},
   "source": [
    "##### Nesse sentido, primeiramente precisa-se escolher a melhor rota e seus critérios são dados pela rota com menor caminho. Para verificar isso usaremos a função short_route_valid, que irá entregar uma rota válida entre Alice e Bob. "
   ]
  },
  {
   "cell_type": "code",
   "execution_count": 4,
   "metadata": {},
   "outputs": [
    {
     "name": "stderr",
     "output_type": "stream",
     "text": [
      "2024-09-10 16:40:38,968: Timeslot 1: Buscando rota válida entre 8 e 0.\n"
     ]
    },
    {
     "name": "stderr",
     "output_type": "stream",
     "text": [
      "2024-09-10 16:40:39,000: Rota válida encontrada: [8, 5, 2, 1, 0]\n"
     ]
    },
    {
     "data": {
      "text/plain": [
       "[8, 5, 2, 1, 0]"
      ]
     },
     "execution_count": 4,
     "metadata": {},
     "output_type": "execute_result"
    }
   ],
   "source": [
    "rede.networklayer.short_route_valid(8,0)"
   ]
  },
  {
   "cell_type": "code",
   "execution_count": 5,
   "metadata": {},
   "outputs": [],
   "source": [
    "# rede.networklayer.get_avg_size_routes()"
   ]
  },
  {
   "cell_type": "markdown",
   "metadata": {},
   "source": [
    "##### Para a rota ser válida, precisa-se verificar se cada canal da rede tem peloo menos 1 par EPR e se nó tem 2 qubits. Através dessas funções podemos verificar."
   ]
  },
  {
   "cell_type": "markdown",
   "metadata": {},
   "source": [
    "##### Dessa forma, vamos realizar o entanglement swapping entre Alice e Bob, o que permite criar um par de qubits emaranhados entre dois nós que não têm uma conexão direta de emaranhamento, utilizando pares intermediários."
   ]
  },
  {
   "cell_type": "code",
   "execution_count": 6,
   "metadata": {},
   "outputs": [
    {
     "name": "stderr",
     "output_type": "stream",
     "text": [
      "2024-09-10 16:40:39,226: Timeslot 2: Buscando rota válida entre 8 e 0.\n",
      "2024-09-10 16:40:39,239: Rota válida encontrada: [8, 5, 2, 1, 0]\n",
      "2024-09-10 16:40:39,240: Timeslot 3: Realizando Entanglement Swapping.\n",
      "2024-09-10 16:40:39,240: Par EPR <quantumnet.objects.epr.Epr object at 0x72e81c53bf10> adicionado ao canal (8, 2).\n",
      "2024-09-10 16:40:39,250: Par EPR <quantumnet.objects.epr.Epr object at 0x72e834200880> removido do canal (8, 5).\n",
      "2024-09-10 16:40:39,253: Par EPR <quantumnet.objects.epr.Epr object at 0x72e83418b760> removido do canal (5, 2).\n",
      "2024-09-10 16:40:39,253: Timeslot 4: Realizando Entanglement Swapping.\n",
      "2024-09-10 16:40:39,255: Par EPR <quantumnet.objects.epr.Epr object at 0x72e83418b760> adicionado ao canal (8, 1).\n",
      "2024-09-10 16:40:39,255: Par EPR <quantumnet.objects.epr.Epr object at 0x72e81c53bf10> removido do canal (8, 2).\n",
      "2024-09-10 16:40:39,256: Par EPR <quantumnet.objects.epr.Epr object at 0x72e83418bcd0> removido do canal (2, 1).\n",
      "2024-09-10 16:40:39,257: Timeslot 5: Realizando Entanglement Swapping.\n",
      "2024-09-10 16:40:39,269: Par EPR <quantumnet.objects.epr.Epr object at 0x72e83418bcd0> adicionado ao canal (8, 0).\n",
      "2024-09-10 16:40:39,279: Par EPR <quantumnet.objects.epr.Epr object at 0x72e83418b760> removido do canal (8, 1).\n",
      "2024-09-10 16:40:39,285: Par EPR <quantumnet.objects.epr.Epr object at 0x72e83418a890> removido do canal (1, 0).\n",
      "2024-09-10 16:40:39,287: Timeslot 6: Realizando Entanglement Swapping.\n",
      "2024-09-10 16:40:39,287: Entanglement Swapping concluído com sucesso entre 8 e 0\n"
     ]
    },
    {
     "data": {
      "text/plain": [
       "True"
      ]
     },
     "execution_count": 6,
     "metadata": {},
     "output_type": "execute_result"
    }
   ],
   "source": [
    "rede.networklayer.entanglement_swapping(8,0)"
   ]
  },
  {
   "cell_type": "code",
   "execution_count": 7,
   "metadata": {},
   "outputs": [
    {
     "name": "stderr",
     "output_type": "stream",
     "text": [
      "2024-09-10 16:40:39,440: Rota válida encontrada: [0, 1]\n",
      "2024-09-10 16:40:39,461: Rota válida encontrada: [0, 1, 2]\n",
      "2024-09-10 16:40:39,491: Rota válida encontrada: [0, 3]\n",
      "2024-09-10 16:40:39,514: Rota válida encontrada: [0, 3, 4]\n",
      "2024-09-10 16:40:39,529: Rota válida encontrada: [0, 8, 5]\n",
      "2024-09-10 16:40:39,565: Rota válida encontrada: [0, 3, 6]\n",
      "2024-09-10 16:40:39,571: Rota válida encontrada: [0, 8, 7]\n",
      "2024-09-10 16:40:39,572: Rota válida encontrada: [0, 8]\n",
      "2024-09-10 16:40:39,572: Rota válida encontrada: [1, 0]\n",
      "2024-09-10 16:40:39,573: Rota válida encontrada: [1, 2]\n",
      "2024-09-10 16:40:39,574: Rota válida encontrada: [1, 0, 3]\n",
      "2024-09-10 16:40:39,575: Rota válida encontrada: [1, 4]\n",
      "2024-09-10 16:40:39,580: Rota válida encontrada: [1, 4, 5]\n",
      "2024-09-10 16:40:39,587: Rota válida encontrada: [1, 0, 3, 6]\n",
      "2024-09-10 16:40:39,588: Rota válida encontrada: [1, 4, 7]\n",
      "2024-09-10 16:40:39,589: Sem pares EPRs entre 1 e 8 na rota [1, 8]\n",
      "2024-09-10 16:40:39,590: Nenhuma rota válida encontrada.\n",
      "2024-09-10 16:40:39,590: Rota válida encontrada: [2, 1, 0]\n",
      "2024-09-10 16:40:39,591: Rota válida encontrada: [2, 1]\n",
      "2024-09-10 16:40:39,593: Rota válida encontrada: [2, 1, 0, 3]\n",
      "2024-09-10 16:40:39,605: Rota válida encontrada: [2, 1, 4]\n",
      "2024-09-10 16:40:39,638: Rota válida encontrada: [2, 5]\n",
      "2024-09-10 16:40:39,679: Sem pares EPRs entre 2 e 8 na rota [2, 8, 7, 6]\n",
      "2024-09-10 16:40:39,694: Nenhuma rota válida encontrada.\n",
      "2024-09-10 16:40:39,714: Sem pares EPRs entre 2 e 8 na rota [2, 8, 7]\n",
      "2024-09-10 16:40:39,726: Nenhuma rota válida encontrada.\n",
      "2024-09-10 16:40:39,730: Sem pares EPRs entre 2 e 8 na rota [2, 8]\n",
      "2024-09-10 16:40:39,735: Nenhuma rota válida encontrada.\n",
      "2024-09-10 16:40:39,739: Rota válida encontrada: [3, 0]\n",
      "2024-09-10 16:40:39,742: Rota válida encontrada: [3, 0, 1]\n",
      "2024-09-10 16:40:39,748: Rota válida encontrada: [3, 0, 1, 2]\n",
      "2024-09-10 16:40:39,751: Rota válida encontrada: [3, 4]\n",
      "2024-09-10 16:40:39,755: Rota válida encontrada: [3, 4, 5]\n",
      "2024-09-10 16:40:39,758: Rota válida encontrada: [3, 6]\n",
      "2024-09-10 16:40:39,759: Rota válida encontrada: [3, 6, 7]\n",
      "2024-09-10 16:40:39,762: Rota válida encontrada: [3, 0, 8]\n",
      "2024-09-10 16:40:39,766: Rota válida encontrada: [4, 1, 0]\n",
      "2024-09-10 16:40:39,769: Rota válida encontrada: [4, 1]\n",
      "2024-09-10 16:40:39,772: Rota válida encontrada: [4, 1, 2]\n",
      "2024-09-10 16:40:39,774: Rota válida encontrada: [4, 3]\n",
      "2024-09-10 16:40:39,777: Rota válida encontrada: [4, 5]\n",
      "2024-09-10 16:40:39,777: Rota válida encontrada: [4, 3, 6]\n",
      "2024-09-10 16:40:39,781: Rota válida encontrada: [4, 7]\n",
      "2024-09-10 16:40:39,783: Sem pares EPRs entre 1 e 8 na rota [4, 1, 8]\n",
      "2024-09-10 16:40:39,785: Rota válida encontrada: [4, 7, 8]\n",
      "2024-09-10 16:40:39,787: Rota válida encontrada: [5, 8, 0]\n",
      "2024-09-10 16:40:39,788: Rota válida encontrada: [5, 2, 1]\n",
      "2024-09-10 16:40:39,789: Rota válida encontrada: [5, 2]\n",
      "2024-09-10 16:40:39,790: Rota válida encontrada: [5, 4, 3]\n",
      "2024-09-10 16:40:39,791: Rota válida encontrada: [5, 4]\n",
      "2024-09-10 16:40:39,791: Rota válida encontrada: [5, 4, 3, 6]\n",
      "2024-09-10 16:40:39,792: Rota válida encontrada: [5, 4, 7]\n",
      "2024-09-10 16:40:39,795: Rota válida encontrada: [5, 8]\n",
      "2024-09-10 16:40:39,797: Rota válida encontrada: [6, 3, 0]\n",
      "2024-09-10 16:40:39,798: Rota válida encontrada: [6, 3, 0, 1]\n",
      "2024-09-10 16:40:39,801: Sem pares EPRs entre 8 e 2 na rota [6, 7, 8, 2]\n",
      "2024-09-10 16:40:39,802: Nenhuma rota válida encontrada.\n",
      "2024-09-10 16:40:39,802: Rota válida encontrada: [6, 3]\n",
      "2024-09-10 16:40:39,803: Rota válida encontrada: [6, 3, 4]\n",
      "2024-09-10 16:40:39,804: Rota válida encontrada: [6, 3, 4, 5]\n",
      "2024-09-10 16:40:39,805: Rota válida encontrada: [6, 7]\n",
      "2024-09-10 16:40:39,806: Rota válida encontrada: [6, 7, 8]\n",
      "2024-09-10 16:40:39,809: Rota válida encontrada: [7, 8, 0]\n",
      "2024-09-10 16:40:39,811: Rota válida encontrada: [7, 4, 1]\n",
      "2024-09-10 16:40:39,814: Sem pares EPRs entre 8 e 2 na rota [7, 8, 2]\n",
      "2024-09-10 16:40:39,817: Nenhuma rota válida encontrada.\n",
      "2024-09-10 16:40:39,819: Rota válida encontrada: [7, 4, 3]\n",
      "2024-09-10 16:40:39,821: Rota válida encontrada: [7, 4]\n",
      "2024-09-10 16:40:39,824: Rota válida encontrada: [7, 4, 5]\n",
      "2024-09-10 16:40:39,824: Rota válida encontrada: [7, 6]\n",
      "2024-09-10 16:40:39,826: Rota válida encontrada: [7, 8]\n",
      "2024-09-10 16:40:39,826: Rota válida encontrada: [8, 0]\n",
      "2024-09-10 16:40:39,829: Sem pares EPRs entre 8 e 1 na rota [8, 1]\n",
      "2024-09-10 16:40:39,833: Nenhuma rota válida encontrada.\n",
      "2024-09-10 16:40:39,836: Sem pares EPRs entre 8 e 2 na rota [8, 2]\n",
      "2024-09-10 16:40:39,837: Nenhuma rota válida encontrada.\n",
      "2024-09-10 16:40:39,838: Rota válida encontrada: [8, 0, 3]\n",
      "2024-09-10 16:40:39,838: Rota válida encontrada: [8, 5, 4]\n",
      "2024-09-10 16:40:39,839: Rota válida encontrada: [8, 5]\n",
      "2024-09-10 16:40:39,841: Rota válida encontrada: [8, 7, 6]\n",
      "2024-09-10 16:40:39,844: Rota válida encontrada: [8, 7]\n"
     ]
    },
    {
     "data": {
      "text/plain": [
       "2.6875"
      ]
     },
     "execution_count": 7,
     "metadata": {},
     "output_type": "execute_result"
    }
   ],
   "source": [
    "rede.networklayer.get_avg_size_routes()"
   ]
  },
  {
   "cell_type": "code",
   "execution_count": 8,
   "metadata": {},
   "outputs": [
    {
     "name": "stderr",
     "output_type": "stream",
     "text": [
      "2024-09-10 16:40:39,933: Eprs usados na camada PhysicalLayer: 0\n",
      "2024-09-10 16:40:39,956: Eprs usados na camada LinkLayer: 0\n",
      "2024-09-10 16:40:39,972: Eprs usados na camada NetworkLayer: 3\n"
     ]
    },
    {
     "data": {
      "text/plain": [
       "3"
      ]
     },
     "execution_count": 8,
     "metadata": {},
     "output_type": "execute_result"
    }
   ],
   "source": [
    "rede.get_total_useds_eprs()"
   ]
  },
  {
   "cell_type": "code",
   "execution_count": 9,
   "metadata": {},
   "outputs": [
    {
     "data": {
      "text/plain": [
       "[<quantumnet.objects.epr.Epr at 0x72e83418bcd0>]"
      ]
     },
     "execution_count": 9,
     "metadata": {},
     "output_type": "execute_result"
    }
   ],
   "source": [
    "rede.get_eprs_from_edge(8,0)"
   ]
  },
  {
   "cell_type": "code",
   "execution_count": 10,
   "metadata": {},
   "outputs": [
    {
     "data": {
      "text/plain": [
       "6"
      ]
     },
     "execution_count": 10,
     "metadata": {},
     "output_type": "execute_result"
    }
   ],
   "source": [
    "rede.get_timeslot()"
   ]
  }
 ],
 "metadata": {
  "kernelspec": {
   "display_name": "Python 3",
   "language": "python",
   "name": "python3"
  },
  "language_info": {
   "codemirror_mode": {
    "name": "ipython",
    "version": 3
   },
   "file_extension": ".py",
   "mimetype": "text/x-python",
   "name": "python",
   "nbconvert_exporter": "python",
   "pygments_lexer": "ipython3",
   "version": "3.10.12"
  }
 },
 "nbformat": 4,
 "nbformat_minor": 2
}
