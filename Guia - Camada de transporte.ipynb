{
 "cells": [
  {
   "cell_type": "code",
   "execution_count": 1,
   "metadata": {},
   "outputs": [],
   "source": [
    "from quantumnet.components import Network, Host\n",
    "from quantumnet.objects import Qubit, Logger\n",
    "Logger.activate(Logger)"
   ]
  },
  {
   "cell_type": "code",
   "execution_count": 2,
   "metadata": {},
   "outputs": [
    {
     "name": "stderr",
     "output_type": "stream",
     "text": [
      "2024-08-06 13:44:06,146: Qubit 0 adicionado à memória do Host 0.\n",
      "2024-08-06 13:44:06,149: Qubit 0 criado com fidelidade inicial 0.22236666327330223 e adicionado à memória do Host 0.\n",
      "2024-08-06 13:44:06,150: Qubit 1 adicionado à memória do Host 0.\n",
      "2024-08-06 13:44:06,151: Qubit 1 criado com fidelidade inicial 0.03546463361229679 e adicionado à memória do Host 0.\n",
      "2024-08-06 13:44:06,151: Qubit 2 adicionado à memória do Host 0.\n",
      "2024-08-06 13:44:06,152: Qubit 2 criado com fidelidade inicial 0.48591155831936306 e adicionado à memória do Host 0.\n",
      "2024-08-06 13:44:06,153: Qubit 3 adicionado à memória do Host 0.\n",
      "2024-08-06 13:44:06,154: Qubit 3 criado com fidelidade inicial 0.6307432889409371 e adicionado à memória do Host 0.\n",
      "2024-08-06 13:44:06,155: Qubit 4 adicionado à memória do Host 0.\n",
      "2024-08-06 13:44:06,156: Qubit 4 criado com fidelidade inicial 0.8757484921736599 e adicionado à memória do Host 0.\n",
      "2024-08-06 13:44:06,157: Qubit 5 adicionado à memória do Host 0.\n",
      "2024-08-06 13:44:06,157: Qubit 5 criado com fidelidade inicial 0.8420997139275198 e adicionado à memória do Host 0.\n",
      "2024-08-06 13:44:06,158: Qubit 6 adicionado à memória do Host 0.\n",
      "2024-08-06 13:44:06,159: Qubit 6 criado com fidelidade inicial 0.16856713140018187 e adicionado à memória do Host 0.\n",
      "2024-08-06 13:44:06,160: Qubit 7 adicionado à memória do Host 0.\n",
      "2024-08-06 13:44:06,161: Qubit 7 criado com fidelidade inicial 0.42231009024166966 e adicionado à memória do Host 0.\n",
      "2024-08-06 13:44:06,161: Qubit 8 adicionado à memória do Host 0.\n",
      "2024-08-06 13:44:06,162: Qubit 8 criado com fidelidade inicial 0.6030458653626366 e adicionado à memória do Host 0.\n",
      "2024-08-06 13:44:06,162: Qubit 9 adicionado à memória do Host 0.\n",
      "2024-08-06 13:44:06,163: Qubit 9 criado com fidelidade inicial 0.9641381659666302 e adicionado à memória do Host 0.\n",
      "2024-08-06 13:44:06,163: Qubit 10 adicionado à memória do Host 1.\n",
      "2024-08-06 13:44:06,164: Qubit 10 criado com fidelidade inicial 0.890678402219295 e adicionado à memória do Host 1.\n",
      "2024-08-06 13:44:06,164: Qubit 11 adicionado à memória do Host 1.\n",
      "2024-08-06 13:44:06,165: Qubit 11 criado com fidelidade inicial 0.4130438382790791 e adicionado à memória do Host 1.\n",
      "2024-08-06 13:44:06,165: Qubit 12 adicionado à memória do Host 1.\n",
      "2024-08-06 13:44:06,165: Qubit 12 criado com fidelidade inicial 0.5446492724053758 e adicionado à memória do Host 1.\n",
      "2024-08-06 13:44:06,167: Qubit 13 adicionado à memória do Host 1.\n",
      "2024-08-06 13:44:06,167: Qubit 13 criado com fidelidade inicial 0.6745784316029023 e adicionado à memória do Host 1.\n",
      "2024-08-06 13:44:06,168: Qubit 14 adicionado à memória do Host 1.\n",
      "2024-08-06 13:44:06,168: Qubit 14 criado com fidelidade inicial 0.8688732239503528 e adicionado à memória do Host 1.\n",
      "2024-08-06 13:44:06,170: Qubit 15 adicionado à memória do Host 1.\n",
      "2024-08-06 13:44:06,171: Qubit 15 criado com fidelidade inicial 0.7090806788294062 e adicionado à memória do Host 1.\n",
      "2024-08-06 13:44:06,172: Qubit 16 adicionado à memória do Host 1.\n",
      "2024-08-06 13:44:06,173: Qubit 16 criado com fidelidade inicial 0.49703236804877715 e adicionado à memória do Host 1.\n",
      "2024-08-06 13:44:06,173: Qubit 17 adicionado à memória do Host 1.\n",
      "2024-08-06 13:44:06,174: Qubit 17 criado com fidelidade inicial 0.6425486721804966 e adicionado à memória do Host 1.\n",
      "2024-08-06 13:44:06,175: Qubit 18 adicionado à memória do Host 1.\n",
      "2024-08-06 13:44:06,176: Qubit 18 criado com fidelidade inicial 0.4798381514728438 e adicionado à memória do Host 1.\n",
      "2024-08-06 13:44:06,177: Qubit 19 adicionado à memória do Host 1.\n",
      "2024-08-06 13:44:06,177: Qubit 19 criado com fidelidade inicial 0.33073219536191734 e adicionado à memória do Host 1.\n",
      "2024-08-06 13:44:06,178: Qubit 20 adicionado à memória do Host 2.\n",
      "2024-08-06 13:44:06,179: Qubit 20 criado com fidelidade inicial 0.8566509028883975 e adicionado à memória do Host 2.\n",
      "2024-08-06 13:44:06,180: Qubit 21 adicionado à memória do Host 2.\n",
      "2024-08-06 13:44:06,180: Qubit 21 criado com fidelidade inicial 0.9955554668133895 e adicionado à memória do Host 2.\n",
      "2024-08-06 13:44:06,181: Qubit 22 adicionado à memória do Host 2.\n",
      "2024-08-06 13:44:06,182: Qubit 22 criado com fidelidade inicial 0.04132275430737009 e adicionado à memória do Host 2.\n",
      "2024-08-06 13:44:06,182: Qubit 23 adicionado à memória do Host 2.\n",
      "2024-08-06 13:44:06,182: Qubit 23 criado com fidelidade inicial 0.3670899209841132 e adicionado à memória do Host 2.\n",
      "2024-08-06 13:44:06,183: Qubit 24 adicionado à memória do Host 2.\n",
      "2024-08-06 13:44:06,184: Qubit 24 criado com fidelidade inicial 0.15005230096187028 e adicionado à memória do Host 2.\n",
      "2024-08-06 13:44:06,186: Qubit 25 adicionado à memória do Host 2.\n",
      "2024-08-06 13:44:06,186: Qubit 25 criado com fidelidade inicial 0.35479073041880627 e adicionado à memória do Host 2.\n",
      "2024-08-06 13:44:06,187: Qubit 26 adicionado à memória do Host 2.\n",
      "2024-08-06 13:44:06,188: Qubit 26 criado com fidelidade inicial 0.1350147319087961 e adicionado à memória do Host 2.\n",
      "2024-08-06 13:44:06,191: Qubit 27 adicionado à memória do Host 2.\n",
      "2024-08-06 13:44:06,192: Qubit 27 criado com fidelidade inicial 0.8830272096802079 e adicionado à memória do Host 2.\n",
      "2024-08-06 13:44:06,193: Qubit 28 adicionado à memória do Host 2.\n",
      "2024-08-06 13:44:06,194: Qubit 28 criado com fidelidade inicial 0.33119025711353867 e adicionado à memória do Host 2.\n",
      "2024-08-06 13:44:06,194: Qubit 29 adicionado à memória do Host 2.\n",
      "2024-08-06 13:44:06,196: Qubit 29 criado com fidelidade inicial 0.7083975451125809 e adicionado à memória do Host 2.\n",
      "2024-08-06 13:44:06,199: Qubit 30 adicionado à memória do Host 3.\n",
      "2024-08-06 13:44:06,200: Qubit 30 criado com fidelidade inicial 0.3329310810909848 e adicionado à memória do Host 3.\n",
      "2024-08-06 13:44:06,201: Qubit 31 adicionado à memória do Host 3.\n",
      "2024-08-06 13:44:06,201: Qubit 31 criado com fidelidade inicial 0.607869715600637 e adicionado à memória do Host 3.\n",
      "2024-08-06 13:44:06,202: Qubit 32 adicionado à memória do Host 3.\n",
      "2024-08-06 13:44:06,204: Qubit 32 criado com fidelidade inicial 0.2845061246114735 e adicionado à memória do Host 3.\n",
      "2024-08-06 13:44:06,205: Qubit 33 adicionado à memória do Host 3.\n",
      "2024-08-06 13:44:06,206: Qubit 33 criado com fidelidade inicial 0.30022222308861835 e adicionado à memória do Host 3.\n",
      "2024-08-06 13:44:06,208: Qubit 34 adicionado à memória do Host 3.\n",
      "2024-08-06 13:44:06,210: Qubit 34 criado com fidelidade inicial 0.6434175072974467 e adicionado à memória do Host 3.\n",
      "2024-08-06 13:44:06,211: Qubit 35 adicionado à memória do Host 3.\n",
      "2024-08-06 13:44:06,212: Qubit 35 criado com fidelidade inicial 0.6074411538042108 e adicionado à memória do Host 3.\n",
      "2024-08-06 13:44:06,213: Qubit 36 adicionado à memória do Host 3.\n",
      "2024-08-06 13:44:06,213: Qubit 36 criado com fidelidade inicial 0.224245523077505 e adicionado à memória do Host 3.\n",
      "2024-08-06 13:44:06,219: Qubit 37 adicionado à memória do Host 3.\n",
      "2024-08-06 13:44:06,221: Qubit 37 criado com fidelidade inicial 0.2664688076377848 e adicionado à memória do Host 3.\n",
      "2024-08-06 13:44:06,222: Qubit 38 adicionado à memória do Host 3.\n",
      "2024-08-06 13:44:06,222: Qubit 38 criado com fidelidade inicial 0.2856915670058914 e adicionado à memória do Host 3.\n",
      "2024-08-06 13:44:06,223: Qubit 39 adicionado à memória do Host 3.\n",
      "2024-08-06 13:44:06,224: Qubit 39 criado com fidelidade inicial 0.18170263035685996 e adicionado à memória do Host 3.\n",
      "2024-08-06 13:44:06,225: Qubit 40 adicionado à memória do Host 4.\n",
      "2024-08-06 13:44:06,225: Qubit 40 criado com fidelidade inicial 0.11876022096957184 e adicionado à memória do Host 4.\n",
      "2024-08-06 13:44:06,226: Qubit 41 adicionado à memória do Host 4.\n",
      "2024-08-06 13:44:06,228: Qubit 41 criado com fidelidade inicial 0.5077253124320259 e adicionado à memória do Host 4.\n",
      "2024-08-06 13:44:06,230: Qubit 42 adicionado à memória do Host 4.\n",
      "2024-08-06 13:44:06,232: Qubit 42 criado com fidelidade inicial 0.9364211785042457 e adicionado à memória do Host 4.\n",
      "2024-08-06 13:44:06,233: Qubit 43 adicionado à memória do Host 4.\n",
      "2024-08-06 13:44:06,237: Qubit 43 criado com fidelidade inicial 0.8505256497152488 e adicionado à memória do Host 4.\n",
      "2024-08-06 13:44:06,239: Qubit 44 adicionado à memória do Host 4.\n",
      "2024-08-06 13:44:06,240: Qubit 44 criado com fidelidade inicial 0.3413982715026729 e adicionado à memória do Host 4.\n",
      "2024-08-06 13:44:06,242: Qubit 45 adicionado à memória do Host 4.\n",
      "2024-08-06 13:44:06,245: Qubit 45 criado com fidelidade inicial 0.3666098242746031 e adicionado à memória do Host 4.\n",
      "2024-08-06 13:44:06,246: Qubit 46 adicionado à memória do Host 4.\n",
      "2024-08-06 13:44:06,248: Qubit 46 criado com fidelidade inicial 0.4450899720173117 e adicionado à memória do Host 4.\n",
      "2024-08-06 13:44:06,249: Qubit 47 adicionado à memória do Host 4.\n",
      "2024-08-06 13:44:06,250: Qubit 47 criado com fidelidade inicial 0.48193435426720754 e adicionado à memória do Host 4.\n",
      "2024-08-06 13:44:06,251: Qubit 48 adicionado à memória do Host 4.\n",
      "2024-08-06 13:44:06,252: Qubit 48 criado com fidelidade inicial 0.180115529190623 e adicionado à memória do Host 4.\n",
      "2024-08-06 13:44:06,253: Qubit 49 adicionado à memória do Host 4.\n",
      "2024-08-06 13:44:06,255: Qubit 49 criado com fidelidade inicial 0.22104811848811523 e adicionado à memória do Host 4.\n",
      "2024-08-06 13:44:06,257: Qubit 50 adicionado à memória do Host 5.\n",
      "2024-08-06 13:44:06,259: Qubit 50 criado com fidelidade inicial 0.014851019472574167 e adicionado à memória do Host 5.\n",
      "2024-08-06 13:44:06,262: Qubit 51 adicionado à memória do Host 5.\n",
      "2024-08-06 13:44:06,264: Qubit 51 criado com fidelidade inicial 0.19174008844070778 e adicionado à memória do Host 5.\n",
      "2024-08-06 13:44:06,267: Qubit 52 adicionado à memória do Host 5.\n",
      "2024-08-06 13:44:06,269: Qubit 52 criado com fidelidade inicial 0.19038921628858152 e adicionado à memória do Host 5.\n",
      "2024-08-06 13:44:06,271: Qubit 53 adicionado à memória do Host 5.\n",
      "2024-08-06 13:44:06,273: Qubit 53 criado com fidelidade inicial 0.5476816781342211 e adicionado à memória do Host 5.\n",
      "2024-08-06 13:44:06,274: Qubit 54 adicionado à memória do Host 5.\n",
      "2024-08-06 13:44:06,276: Qubit 54 criado com fidelidade inicial 0.9069032586085269 e adicionado à memória do Host 5.\n",
      "2024-08-06 13:44:06,278: Qubit 55 adicionado à memória do Host 5.\n",
      "2024-08-06 13:44:06,280: Qubit 55 criado com fidelidade inicial 0.6002233008022793 e adicionado à memória do Host 5.\n",
      "2024-08-06 13:44:06,284: Qubit 56 adicionado à memória do Host 5.\n",
      "2024-08-06 13:44:06,291: Qubit 56 criado com fidelidade inicial 0.029962288796492098 e adicionado à memória do Host 5.\n",
      "2024-08-06 13:44:06,295: Qubit 57 adicionado à memória do Host 5.\n",
      "2024-08-06 13:44:06,296: Qubit 57 criado com fidelidade inicial 0.7457687834835931 e adicionado à memória do Host 5.\n",
      "2024-08-06 13:44:06,297: Qubit 58 adicionado à memória do Host 5.\n",
      "2024-08-06 13:44:06,299: Qubit 58 criado com fidelidade inicial 0.8668313302327496 e adicionado à memória do Host 5.\n",
      "2024-08-06 13:44:06,300: Qubit 59 adicionado à memória do Host 5.\n",
      "2024-08-06 13:44:06,301: Qubit 59 criado com fidelidade inicial 0.2374109481908373 e adicionado à memória do Host 5.\n",
      "2024-08-06 13:44:06,307: Qubit 60 adicionado à memória do Host 6.\n",
      "2024-08-06 13:44:06,309: Qubit 60 criado com fidelidade inicial 0.15675856300640123 e adicionado à memória do Host 6.\n",
      "2024-08-06 13:44:06,310: Qubit 61 adicionado à memória do Host 6.\n",
      "2024-08-06 13:44:06,311: Qubit 61 criado com fidelidade inicial 0.3200627862998393 e adicionado à memória do Host 6.\n",
      "2024-08-06 13:44:06,312: Qubit 62 adicionado à memória do Host 6.\n",
      "2024-08-06 13:44:06,314: Qubit 62 criado com fidelidade inicial 0.30455361231889766 e adicionado à memória do Host 6.\n",
      "2024-08-06 13:44:06,316: Qubit 63 adicionado à memória do Host 6.\n",
      "2024-08-06 13:44:06,316: Qubit 63 criado com fidelidade inicial 0.42212119823411953 e adicionado à memória do Host 6.\n",
      "2024-08-06 13:44:06,317: Qubit 64 adicionado à memória do Host 6.\n",
      "2024-08-06 13:44:06,318: Qubit 64 criado com fidelidade inicial 0.3571324509982893 e adicionado à memória do Host 6.\n",
      "2024-08-06 13:44:06,318: Qubit 65 adicionado à memória do Host 6.\n",
      "2024-08-06 13:44:06,319: Qubit 65 criado com fidelidade inicial 0.4769058373856575 e adicionado à memória do Host 6.\n",
      "2024-08-06 13:44:06,323: Qubit 66 adicionado à memória do Host 6.\n",
      "2024-08-06 13:44:06,324: Qubit 66 criado com fidelidade inicial 0.9080954608401072 e adicionado à memória do Host 6.\n",
      "2024-08-06 13:44:06,327: Qubit 67 adicionado à memória do Host 6.\n",
      "2024-08-06 13:44:06,328: Qubit 67 criado com fidelidade inicial 0.3658200495731817 e adicionado à memória do Host 6.\n",
      "2024-08-06 13:44:06,329: Qubit 68 adicionado à memória do Host 6.\n",
      "2024-08-06 13:44:06,331: Qubit 68 criado com fidelidade inicial 0.5318400346052945 e adicionado à memória do Host 6.\n",
      "2024-08-06 13:44:06,332: Qubit 69 adicionado à memória do Host 6.\n",
      "2024-08-06 13:44:06,333: Qubit 69 criado com fidelidade inicial 0.1567186021150888 e adicionado à memória do Host 6.\n",
      "2024-08-06 13:44:06,335: Qubit 70 adicionado à memória do Host 7.\n",
      "2024-08-06 13:44:06,336: Qubit 70 criado com fidelidade inicial 0.19953232681512056 e adicionado à memória do Host 7.\n",
      "2024-08-06 13:44:06,337: Qubit 71 adicionado à memória do Host 7.\n",
      "2024-08-06 13:44:06,337: Qubit 71 criado com fidelidade inicial 0.5371375437914194 e adicionado à memória do Host 7.\n",
      "2024-08-06 13:44:06,338: Qubit 72 adicionado à memória do Host 7.\n",
      "2024-08-06 13:44:06,339: Qubit 72 criado com fidelidade inicial 0.3042891216589736 e adicionado à memória do Host 7.\n",
      "2024-08-06 13:44:06,340: Qubit 73 adicionado à memória do Host 7.\n",
      "2024-08-06 13:44:06,341: Qubit 73 criado com fidelidade inicial 0.6883013028831981 e adicionado à memória do Host 7.\n",
      "2024-08-06 13:44:06,342: Qubit 74 adicionado à memória do Host 7.\n",
      "2024-08-06 13:44:06,369: Qubit 74 criado com fidelidade inicial 0.6635593551733526 e adicionado à memória do Host 7.\n",
      "2024-08-06 13:44:06,371: Qubit 75 adicionado à memória do Host 7.\n",
      "2024-08-06 13:44:06,371: Qubit 75 criado com fidelidade inicial 0.2972516645019432 e adicionado à memória do Host 7.\n",
      "2024-08-06 13:44:06,373: Qubit 76 adicionado à memória do Host 7.\n",
      "2024-08-06 13:44:06,377: Qubit 76 criado com fidelidade inicial 0.035501259728721535 e adicionado à memória do Host 7.\n",
      "2024-08-06 13:44:06,378: Qubit 77 adicionado à memória do Host 7.\n",
      "2024-08-06 13:44:06,379: Qubit 77 criado com fidelidade inicial 0.7371528325447215 e adicionado à memória do Host 7.\n",
      "2024-08-06 13:44:06,380: Qubit 78 adicionado à memória do Host 7.\n",
      "2024-08-06 13:44:06,381: Qubit 78 criado com fidelidade inicial 0.3629370689025596 e adicionado à memória do Host 7.\n",
      "2024-08-06 13:44:06,382: Qubit 79 adicionado à memória do Host 7.\n",
      "2024-08-06 13:44:06,383: Qubit 79 criado com fidelidade inicial 0.656588416771592 e adicionado à memória do Host 7.\n",
      "2024-08-06 13:44:06,384: Qubit 80 adicionado à memória do Host 8.\n",
      "2024-08-06 13:44:06,385: Qubit 80 criado com fidelidade inicial 0.6606844633169148 e adicionado à memória do Host 8.\n",
      "2024-08-06 13:44:06,385: Qubit 81 adicionado à memória do Host 8.\n",
      "2024-08-06 13:44:06,386: Qubit 81 criado com fidelidade inicial 0.05110178414719402 e adicionado à memória do Host 8.\n",
      "2024-08-06 13:44:06,386: Qubit 82 adicionado à memória do Host 8.\n",
      "2024-08-06 13:44:06,387: Qubit 82 criado com fidelidade inicial 0.7217873481660207 e adicionado à memória do Host 8.\n",
      "2024-08-06 13:44:06,387: Qubit 83 adicionado à memória do Host 8.\n",
      "2024-08-06 13:44:06,388: Qubit 83 criado com fidelidade inicial 0.20872401479931768 e adicionado à memória do Host 8.\n",
      "2024-08-06 13:44:06,388: Qubit 84 adicionado à memória do Host 8.\n",
      "2024-08-06 13:44:06,389: Qubit 84 criado com fidelidade inicial 0.6044273864787596 e adicionado à memória do Host 8.\n",
      "2024-08-06 13:44:06,389: Qubit 85 adicionado à memória do Host 8.\n",
      "2024-08-06 13:44:06,393: Qubit 85 criado com fidelidade inicial 0.015676568226606458 e adicionado à memória do Host 8.\n",
      "2024-08-06 13:44:06,394: Qubit 86 adicionado à memória do Host 8.\n",
      "2024-08-06 13:44:06,394: Qubit 86 criado com fidelidade inicial 0.7672952638881356 e adicionado à memória do Host 8.\n",
      "2024-08-06 13:44:06,395: Qubit 87 adicionado à memória do Host 8.\n",
      "2024-08-06 13:44:06,396: Qubit 87 criado com fidelidade inicial 0.6340905701621181 e adicionado à memória do Host 8.\n",
      "2024-08-06 13:44:06,397: Qubit 88 adicionado à memória do Host 8.\n",
      "2024-08-06 13:44:06,401: Qubit 88 criado com fidelidade inicial 0.4925698502908171 e adicionado à memória do Host 8.\n",
      "2024-08-06 13:44:06,402: Qubit 89 adicionado à memória do Host 8.\n",
      "2024-08-06 13:44:06,404: Qubit 89 criado com fidelidade inicial 0.8683799672313123 e adicionado à memória do Host 8.\n",
      "2024-08-06 13:44:06,405: Par EPR <quantumnet.objects.epr.Epr object at 0x7f85549c97c0> adicionado ao canal.\n",
      "2024-08-06 13:44:06,406: Par EPR <quantumnet.objects.epr.Epr object at 0x7f853a6cd040> adicionado ao canal.\n",
      "2024-08-06 13:44:06,407: Par EPR <quantumnet.objects.epr.Epr object at 0x7f85549c9bb0> adicionado ao canal.\n",
      "2024-08-06 13:44:06,408: Par EPR <quantumnet.objects.epr.Epr object at 0x7f85549c4fa0> adicionado ao canal.\n",
      "2024-08-06 13:44:06,408: Par EPR <quantumnet.objects.epr.Epr object at 0x7f85549c4b50> adicionado ao canal.\n",
      "2024-08-06 13:44:06,409: Par EPR <quantumnet.objects.epr.Epr object at 0x7f85549c4ca0> adicionado ao canal.\n",
      "2024-08-06 13:44:06,410: Par EPR <quantumnet.objects.epr.Epr object at 0x7f85549c4df0> adicionado ao canal.\n",
      "2024-08-06 13:44:06,411: Par EPR <quantumnet.objects.epr.Epr object at 0x7f85549c4dc0> adicionado ao canal.\n",
      "2024-08-06 13:44:06,412: Par EPR <quantumnet.objects.epr.Epr object at 0x7f85549c4e20> adicionado ao canal.\n",
      "2024-08-06 13:44:06,413: Par EPR <quantumnet.objects.epr.Epr object at 0x7f85549c49a0> adicionado ao canal.\n",
      "2024-08-06 13:44:06,413: Par EPR <quantumnet.objects.epr.Epr object at 0x7f853a6cd190> adicionado ao canal.\n",
      "2024-08-06 13:44:06,414: Par EPR <quantumnet.objects.epr.Epr object at 0x7f85549c4b80> adicionado ao canal.\n",
      "2024-08-06 13:44:06,414: Par EPR <quantumnet.objects.epr.Epr object at 0x7f85549c4e80> adicionado ao canal.\n",
      "2024-08-06 13:44:06,417: Par EPR <quantumnet.objects.epr.Epr object at 0x7f85549c4d90> adicionado ao canal.\n",
      "2024-08-06 13:44:06,417: Par EPR <quantumnet.objects.epr.Epr object at 0x7f85549c4a60> adicionado ao canal.\n",
      "2024-08-06 13:44:06,418: Par EPR <quantumnet.objects.epr.Epr object at 0x7f853a6cd070> adicionado ao canal.\n",
      "2024-08-06 13:44:06,418: Par EPR <quantumnet.objects.epr.Epr object at 0x7f85549c4a90> adicionado ao canal.\n",
      "2024-08-06 13:44:06,419: Par EPR <quantumnet.objects.epr.Epr object at 0x7f85549c4c10> adicionado ao canal.\n",
      "2024-08-06 13:44:06,420: Par EPR <quantumnet.objects.epr.Epr object at 0x7f85549c9790> adicionado ao canal.\n",
      "2024-08-06 13:44:06,420: Par EPR <quantumnet.objects.epr.Epr object at 0x7f85549c4c40> adicionado ao canal.\n",
      "2024-08-06 13:44:06,421: Par EPR <quantumnet.objects.epr.Epr object at 0x7f85549c48b0> adicionado ao canal.\n",
      "2024-08-06 13:44:06,421: Par EPR <quantumnet.objects.epr.Epr object at 0x7f85549ce1c0> adicionado ao canal.\n",
      "2024-08-06 13:44:06,422: Par EPR <quantumnet.objects.epr.Epr object at 0x7f85549ce0a0> adicionado ao canal.\n",
      "2024-08-06 13:44:06,422: Par EPR <quantumnet.objects.epr.Epr object at 0x7f85549ce130> adicionado ao canal.\n",
      "2024-08-06 13:44:06,422: Par EPR <quantumnet.objects.epr.Epr object at 0x7f85549ce100> adicionado ao canal.\n",
      "2024-08-06 13:44:06,423: Par EPR <quantumnet.objects.epr.Epr object at 0x7f85549ce070> adicionado ao canal.\n",
      "2024-08-06 13:44:06,424: Par EPR <quantumnet.objects.epr.Epr object at 0x7f85549ceca0> adicionado ao canal.\n",
      "2024-08-06 13:44:06,424: Par EPR <quantumnet.objects.epr.Epr object at 0x7f85549cec40> adicionado ao canal.\n",
      "2024-08-06 13:44:06,425: Par EPR <quantumnet.objects.epr.Epr object at 0x7f85549cec10> adicionado ao canal.\n",
      "2024-08-06 13:44:06,426: Par EPR <quantumnet.objects.epr.Epr object at 0x7f85549ceb80> adicionado ao canal.\n",
      "2024-08-06 13:44:06,427: Par EPR <quantumnet.objects.epr.Epr object at 0x7f85549ce160> adicionado ao canal.\n",
      "2024-08-06 13:44:06,428: Par EPR <quantumnet.objects.epr.Epr object at 0x7f85549ceac0> adicionado ao canal.\n",
      "2024-08-06 13:44:06,429: Par EPR <quantumnet.objects.epr.Epr object at 0x7f85549ce9a0> adicionado ao canal.\n",
      "2024-08-06 13:44:06,431: Par EPR <quantumnet.objects.epr.Epr object at 0x7f85549cea60> adicionado ao canal.\n",
      "2024-08-06 13:44:06,432: Par EPR <quantumnet.objects.epr.Epr object at 0x7f85549ce970> adicionado ao canal.\n",
      "2024-08-06 13:44:06,433: Par EPR <quantumnet.objects.epr.Epr object at 0x7f85549ce910> adicionado ao canal.\n",
      "2024-08-06 13:44:06,434: Par EPR <quantumnet.objects.epr.Epr object at 0x7f85549ce8b0> adicionado ao canal.\n",
      "2024-08-06 13:44:06,434: Par EPR <quantumnet.objects.epr.Epr object at 0x7f85549ce850> adicionado ao canal.\n",
      "2024-08-06 13:44:06,435: Par EPR <quantumnet.objects.epr.Epr object at 0x7f85549ce1f0> adicionado ao canal.\n",
      "2024-08-06 13:44:06,435: Par EPR <quantumnet.objects.epr.Epr object at 0x7f85549ce5e0> adicionado ao canal.\n",
      "2024-08-06 13:44:06,438: Par EPR <quantumnet.objects.epr.Epr object at 0x7f85549ceb20> adicionado ao canal.\n",
      "2024-08-06 13:44:06,438: Par EPR <quantumnet.objects.epr.Epr object at 0x7f85549ce6a0> adicionado ao canal.\n",
      "2024-08-06 13:44:06,439: Par EPR <quantumnet.objects.epr.Epr object at 0x7f85549ce7c0> adicionado ao canal.\n",
      "2024-08-06 13:44:06,439: Par EPR <quantumnet.objects.epr.Epr object at 0x7f85549ce730> adicionado ao canal.\n",
      "2024-08-06 13:44:06,449: Par EPR <quantumnet.objects.epr.Epr object at 0x7f85549c4c70> adicionado ao canal.\n",
      "2024-08-06 13:44:06,450: Par EPR <quantumnet.objects.epr.Epr object at 0x7f853a537e80> adicionado ao canal.\n",
      "2024-08-06 13:44:06,451: Par EPR <quantumnet.objects.epr.Epr object at 0x7f85549ced30> adicionado ao canal.\n",
      "2024-08-06 13:44:06,451: Par EPR <quantumnet.objects.epr.Epr object at 0x7f85549cefa0> adicionado ao canal.\n",
      "2024-08-06 13:44:06,452: Par EPR <quantumnet.objects.epr.Epr object at 0x7f85549cef40> adicionado ao canal.\n",
      "2024-08-06 13:44:06,452: Par EPR <quantumnet.objects.epr.Epr object at 0x7f85549ce580> adicionado ao canal.\n",
      "2024-08-06 13:44:06,453: Par EPR <quantumnet.objects.epr.Epr object at 0x7f85549ce640> adicionado ao canal.\n",
      "2024-08-06 13:44:06,453: Par EPR <quantumnet.objects.epr.Epr object at 0x7f85549ce490> adicionado ao canal.\n",
      "2024-08-06 13:44:06,454: Par EPR <quantumnet.objects.epr.Epr object at 0x7f85549ce310> adicionado ao canal.\n",
      "2024-08-06 13:44:06,455: Par EPR <quantumnet.objects.epr.Epr object at 0x7f85549ce3a0> adicionado ao canal.\n",
      "2024-08-06 13:44:06,455: Par EPR <quantumnet.objects.epr.Epr object at 0x7f85549ce4f0> adicionado ao canal.\n",
      "2024-08-06 13:44:06,456: Par EPR <quantumnet.objects.epr.Epr object at 0x7f853a6cd0d0> adicionado ao canal.\n",
      "2024-08-06 13:44:06,457: Par EPR <quantumnet.objects.epr.Epr object at 0x7f85549ce280> adicionado ao canal.\n",
      "2024-08-06 13:44:06,457: Par EPR <quantumnet.objects.epr.Epr object at 0x7f85549ceee0> adicionado ao canal.\n",
      "2024-08-06 13:44:06,457: Par EPR <quantumnet.objects.epr.Epr object at 0x7f85549ce3d0> adicionado ao canal.\n",
      "2024-08-06 13:44:06,458: Par EPR <quantumnet.objects.epr.Epr object at 0x7f85549ced60> adicionado ao canal.\n",
      "2024-08-06 13:44:06,458: Par EPR <quantumnet.objects.epr.Epr object at 0x7f85549ce520> adicionado ao canal.\n",
      "2024-08-06 13:44:06,459: Par EPR <quantumnet.objects.epr.Epr object at 0x7f85549d4130> adicionado ao canal.\n",
      "2024-08-06 13:44:06,459: Par EPR <quantumnet.objects.epr.Epr object at 0x7f85549d4520> adicionado ao canal.\n",
      "2024-08-06 13:44:06,460: Par EPR <quantumnet.objects.epr.Epr object at 0x7f85549d4610> adicionado ao canal.\n",
      "2024-08-06 13:44:06,461: Par EPR <quantumnet.objects.epr.Epr object at 0x7f85549cef70> adicionado ao canal.\n",
      "2024-08-06 13:44:06,462: Par EPR <quantumnet.objects.epr.Epr object at 0x7f85549cefd0> adicionado ao canal.\n",
      "2024-08-06 13:44:06,462: Par EPR <quantumnet.objects.epr.Epr object at 0x7f85549d4070> adicionado ao canal.\n",
      "2024-08-06 13:44:06,463: Par EPR <quantumnet.objects.epr.Epr object at 0x7f85549d40d0> adicionado ao canal.\n",
      "2024-08-06 13:44:06,463: Par EPR <quantumnet.objects.epr.Epr object at 0x7f85549d4100> adicionado ao canal.\n",
      "2024-08-06 13:44:06,465: Par EPR <quantumnet.objects.epr.Epr object at 0x7f85549cee80> adicionado ao canal.\n",
      "2024-08-06 13:44:06,465: Par EPR <quantumnet.objects.epr.Epr object at 0x7f85549cef10> adicionado ao canal.\n",
      "2024-08-06 13:44:06,468: Par EPR <quantumnet.objects.epr.Epr object at 0x7f85549d4e80> adicionado ao canal.\n",
      "2024-08-06 13:44:06,468: Par EPR <quantumnet.objects.epr.Epr object at 0x7f85549d4e50> adicionado ao canal.\n",
      "2024-08-06 13:44:06,469: Par EPR <quantumnet.objects.epr.Epr object at 0x7f85549d4e20> adicionado ao canal.\n",
      "2024-08-06 13:44:06,472: Par EPR <quantumnet.objects.epr.Epr object at 0x7f85549d4d60> adicionado ao canal.\n",
      "2024-08-06 13:44:06,474: Par EPR <quantumnet.objects.epr.Epr object at 0x7f85549ce2b0> adicionado ao canal.\n",
      "2024-08-06 13:44:06,475: Par EPR <quantumnet.objects.epr.Epr object at 0x7f85549d4c70> adicionado ao canal.\n",
      "2024-08-06 13:44:06,476: Par EPR <quantumnet.objects.epr.Epr object at 0x7f85549d4dc0> adicionado ao canal.\n",
      "2024-08-06 13:44:06,477: Par EPR <quantumnet.objects.epr.Epr object at 0x7f85549d4b80> adicionado ao canal.\n",
      "2024-08-06 13:44:06,478: Par EPR <quantumnet.objects.epr.Epr object at 0x7f85549d4b20> adicionado ao canal.\n",
      "2024-08-06 13:44:06,484: Par EPR <quantumnet.objects.epr.Epr object at 0x7f85549d45b0> adicionado ao canal.\n",
      "2024-08-06 13:44:06,485: Par EPR <quantumnet.objects.epr.Epr object at 0x7f85549d4a90> adicionado ao canal.\n",
      "2024-08-06 13:44:06,486: Par EPR <quantumnet.objects.epr.Epr object at 0x7f85549d4d00> adicionado ao canal.\n",
      "2024-08-06 13:44:06,487: Par EPR <quantumnet.objects.epr.Epr object at 0x7f85549d4ac0> adicionado ao canal.\n",
      "2024-08-06 13:44:06,487: Par EPR <quantumnet.objects.epr.Epr object at 0x7f85549d4af0> adicionado ao canal.\n",
      "2024-08-06 13:44:06,489: Par EPR <quantumnet.objects.epr.Epr object at 0x7f85549d4a30> adicionado ao canal.\n",
      "2024-08-06 13:44:06,489: Par EPR <quantumnet.objects.epr.Epr object at 0x7f85549d4880> adicionado ao canal.\n",
      "2024-08-06 13:44:06,491: Par EPR <quantumnet.objects.epr.Epr object at 0x7f85549d4f10> adicionado ao canal.\n",
      "2024-08-06 13:44:06,491: Par EPR <quantumnet.objects.epr.Epr object at 0x7f85549d4790> adicionado ao canal.\n",
      "2024-08-06 13:44:06,492: Par EPR <quantumnet.objects.epr.Epr object at 0x7f85549d4760> adicionado ao canal.\n",
      "2024-08-06 13:44:06,495: Par EPR <quantumnet.objects.epr.Epr object at 0x7f85549d4df0> adicionado ao canal.\n",
      "2024-08-06 13:44:06,496: Par EPR <quantumnet.objects.epr.Epr object at 0x7f85549d4ee0> adicionado ao canal.\n",
      "2024-08-06 13:44:06,497: Par EPR <quantumnet.objects.epr.Epr object at 0x7f85549d4400> adicionado ao canal.\n",
      "2024-08-06 13:44:06,499: Par EPR <quantumnet.objects.epr.Epr object at 0x7f85549d4220> adicionado ao canal.\n",
      "2024-08-06 13:44:06,499: Par EPR <quantumnet.objects.epr.Epr object at 0x7f85549d4250> adicionado ao canal.\n",
      "2024-08-06 13:44:06,501: Par EPR <quantumnet.objects.epr.Epr object at 0x7f85549d48b0> adicionado ao canal.\n",
      "2024-08-06 13:44:06,501: Par EPR <quantumnet.objects.epr.Epr object at 0x7f85549d4340> adicionado ao canal.\n",
      "2024-08-06 13:44:06,502: Par EPR <quantumnet.objects.epr.Epr object at 0x7f85549d5fd0> adicionado ao canal.\n",
      "2024-08-06 13:44:06,503: Par EPR <quantumnet.objects.epr.Epr object at 0x7f85549d4730> adicionado ao canal.\n",
      "2024-08-06 13:44:06,504: Par EPR <quantumnet.objects.epr.Epr object at 0x7f85549d41f0> adicionado ao canal.\n",
      "2024-08-06 13:44:06,505: Par EPR <quantumnet.objects.epr.Epr object at 0x7f85549d4ca0> adicionado ao canal.\n",
      "2024-08-06 13:44:06,506: Par EPR <quantumnet.objects.epr.Epr object at 0x7f85549d46d0> adicionado ao canal.\n",
      "2024-08-06 13:44:06,510: Par EPR <quantumnet.objects.epr.Epr object at 0x7f85549d4be0> adicionado ao canal.\n",
      "2024-08-06 13:44:06,511: Par EPR <quantumnet.objects.epr.Epr object at 0x7f85549d56a0> adicionado ao canal.\n",
      "2024-08-06 13:44:06,512: Par EPR <quantumnet.objects.epr.Epr object at 0x7f85549d5b80> adicionado ao canal.\n",
      "2024-08-06 13:44:06,512: Par EPR <quantumnet.objects.epr.Epr object at 0x7f85549d5610> adicionado ao canal.\n",
      "2024-08-06 13:44:06,513: Par EPR <quantumnet.objects.epr.Epr object at 0x7f85549d5a90> adicionado ao canal.\n",
      "2024-08-06 13:44:06,515: Par EPR <quantumnet.objects.epr.Epr object at 0x7f85549d4550> adicionado ao canal.\n",
      "2024-08-06 13:44:06,521: Par EPR <quantumnet.objects.epr.Epr object at 0x7f85549d5460> adicionado ao canal.\n",
      "2024-08-06 13:44:06,523: Par EPR <quantumnet.objects.epr.Epr object at 0x7f85549d5700> adicionado ao canal.\n",
      "2024-08-06 13:44:06,524: Par EPR <quantumnet.objects.epr.Epr object at 0x7f85549d5d30> adicionado ao canal.\n",
      "2024-08-06 13:44:06,526: Par EPR <quantumnet.objects.epr.Epr object at 0x7f85549d54f0> adicionado ao canal.\n",
      "2024-08-06 13:44:06,527: Par EPR <quantumnet.objects.epr.Epr object at 0x7f85549d5430> adicionado ao canal.\n",
      "2024-08-06 13:44:06,527: Par EPR <quantumnet.objects.epr.Epr object at 0x7f85549d5820> adicionado ao canal.\n",
      "2024-08-06 13:44:06,528: Par EPR <quantumnet.objects.epr.Epr object at 0x7f85549d5520> adicionado ao canal.\n",
      "2024-08-06 13:44:06,528: Par EPR <quantumnet.objects.epr.Epr object at 0x7f85549d58e0> adicionado ao canal.\n",
      "2024-08-06 13:44:06,529: Par EPR <quantumnet.objects.epr.Epr object at 0x7f85549d5550> adicionado ao canal.\n",
      "2024-08-06 13:44:06,529: Par EPR <quantumnet.objects.epr.Epr object at 0x7f85549d5910> adicionado ao canal.\n",
      "2024-08-06 13:44:06,529: Par EPR <quantumnet.objects.epr.Epr object at 0x7f85549d54c0> adicionado ao canal.\n",
      "2024-08-06 13:44:06,530: Par EPR <quantumnet.objects.epr.Epr object at 0x7f85549d51c0> adicionado ao canal.\n"
     ]
    },
    {
     "name": "stdout",
     "output_type": "stream",
     "text": [
      "Hosts inicializados\n",
      "Canais inicializados\n",
      "Pares EPRs adicionados\n"
     ]
    },
    {
     "data": {
      "image/png": "[encoded data removed]",
      "text/plain": [
       "<Figure size 640x480 with 1 Axes>"
      ]
     },
     "metadata": {},
     "output_type": "display_data"
    }
   ],
   "source": [
    "rede = Network()\n",
    "rede.set_ready_topology(\"Grade\", 3,3)\n",
    "rede.draw()"
   ]
  },
  {
   "cell_type": "code",
   "execution_count": 3,
   "metadata": {},
   "outputs": [],
   "source": [
    "alice = rede.get_host(0)\n",
    "bob = rede.get_host(8)"
   ]
  },
  {
   "cell_type": "code",
   "execution_count": 4,
   "metadata": {},
   "outputs": [
    {
     "name": "stdout",
     "output_type": "stream",
     "text": [
      "memoria de alice: [<quantumnet.objects.qubit.Qubit object at 0x7f85549fb8e0>, <quantumnet.objects.qubit.Qubit object at 0x7f85500ef850>, <quantumnet.objects.qubit.Qubit object at 0x7f8550081b50>, <quantumnet.objects.qubit.Qubit object at 0x7f855390b130>, <quantumnet.objects.qubit.Qubit object at 0x7f8550081b80>, <quantumnet.objects.qubit.Qubit object at 0x7f8550081a60>, <quantumnet.objects.qubit.Qubit object at 0x7f853a7273d0>, <quantumnet.objects.qubit.Qubit object at 0x7f85549fb670>, <quantumnet.objects.qubit.Qubit object at 0x7f853a7271f0>, <quantumnet.objects.qubit.Qubit object at 0x7f853a727460>]\n",
      "memoria de bob: [<quantumnet.objects.qubit.Qubit object at 0x7f85549c9400>, <quantumnet.objects.qubit.Qubit object at 0x7f85549c9880>, <quantumnet.objects.qubit.Qubit object at 0x7f85549c97f0>, <quantumnet.objects.qubit.Qubit object at 0x7f85549c9760>, <quantumnet.objects.qubit.Qubit object at 0x7f85549c9820>, <quantumnet.objects.qubit.Qubit object at 0x7f85549c9850>, <quantumnet.objects.qubit.Qubit object at 0x7f85549c9520>, <quantumnet.objects.qubit.Qubit object at 0x7f8554a33c10>, <quantumnet.objects.qubit.Qubit object at 0x7f853a537f40>, <quantumnet.objects.qubit.Qubit object at 0x7f8554a20c70>]\n"
     ]
    }
   ],
   "source": [
    "print('memoria de alice:',(alice.memory))\n",
    "print('memoria de bob:',(bob.memory))"
   ]
  },
  {
   "cell_type": "code",
   "execution_count": 5,
   "metadata": {},
   "outputs": [
    {
     "name": "stderr",
     "output_type": "stream",
     "text": [
      "2024-08-06 13:44:35,135: Rota válida encontrada: [0, 3, 6, 7, 8]\n",
      "2024-08-06 13:44:35,136: Rota válida encontrada: [0, 3, 6, 7, 8]\n",
      "2024-08-06 13:44:35,137: Transmissão de 2 qubits entre 0 e 8 concluída com sucesso.\n"
     ]
    },
    {
     "data": {
      "text/plain": [
       "True"
      ]
     },
     "execution_count": 5,
     "metadata": {},
     "output_type": "execute_result"
    }
   ],
   "source": [
    "rede.transportlayer.request_transmission(0,8, 2)"
   ]
  },
  {
   "cell_type": "code",
   "execution_count": 6,
   "metadata": {},
   "outputs": [
    {
     "data": {
      "text/plain": [
       "[{'route': [0, 3, 6, 7, 8], 'alice_id': 0, 'bob_id': 8},\n",
       " {'route': [0, 3, 6, 7, 8], 'alice_id': 0, 'bob_id': 8}]"
      ]
     },
     "execution_count": 6,
     "metadata": {},
     "output_type": "execute_result"
    }
   ],
   "source": [
    "rede.transportlayer.get_transmitted_qubits()"
   ]
  },
  {
   "cell_type": "code",
   "execution_count": 7,
   "metadata": {},
   "outputs": [
    {
     "name": "stderr",
     "output_type": "stream",
     "text": [
      "2024-08-06 13:44:35,691: Rota válida encontrada: [0, 3, 6, 7, 8]\n",
      "2024-08-06 13:44:35,694: Teletransporte de qubit de 0 para 8 foi bem-sucedido com fidelidade final de 0.19309875576660646.\n"
     ]
    },
    {
     "data": {
      "text/plain": [
       "True"
      ]
     },
     "execution_count": 7,
     "metadata": {},
     "output_type": "execute_result"
    }
   ],
   "source": [
    "rede.transportlayer.teleportation_protocol(0,8)"
   ]
  },
  {
   "cell_type": "code",
   "execution_count": 8,
   "metadata": {},
   "outputs": [
    {
     "data": {
      "text/plain": [
       "[{'route': [0, 3, 6, 7, 8], 'alice_id': 0, 'bob_id': 8},\n",
       " {'route': [0, 3, 6, 7, 8], 'alice_id': 0, 'bob_id': 8},\n",
       " {'alice_id': 0,\n",
       "  'bob_id': 8,\n",
       "  'route': [0, 3, 6, 7, 8],\n",
       "  'fidelity_alice': 0.22236666327330223,\n",
       "  'fidelity_bob': 0.8683799672313123,\n",
       "  'fidelity_route': 1.0,\n",
       "  'F_final': 0.19309875576660646,\n",
       "  'qubit_alice': <quantumnet.objects.qubit.Qubit at 0x7f85549fb8e0>,\n",
       "  'qubit_bob': <quantumnet.objects.qubit.Qubit at 0x7f8554a20c70>,\n",
       "  'success': True}]"
      ]
     },
     "execution_count": 8,
     "metadata": {},
     "output_type": "execute_result"
    }
   ],
   "source": [
    "rede.transportlayer.get_teleported_qubits()"
   ]
  },
  {
   "cell_type": "code",
   "execution_count": 9,
   "metadata": {},
   "outputs": [
    {
     "name": "stdout",
     "output_type": "stream",
     "text": [
      "memoria de alice: [<quantumnet.objects.qubit.Qubit object at 0x7f85500ef850>, <quantumnet.objects.qubit.Qubit object at 0x7f8550081b50>, <quantumnet.objects.qubit.Qubit object at 0x7f855390b130>, <quantumnet.objects.qubit.Qubit object at 0x7f8550081b80>, <quantumnet.objects.qubit.Qubit object at 0x7f8550081a60>, <quantumnet.objects.qubit.Qubit object at 0x7f853a7273d0>, <quantumnet.objects.qubit.Qubit object at 0x7f85549fb670>, <quantumnet.objects.qubit.Qubit object at 0x7f853a7271f0>, <quantumnet.objects.qubit.Qubit object at 0x7f853a727460>]\n",
      "memoria de bob: [<quantumnet.objects.qubit.Qubit object at 0x7f85549c9400>, <quantumnet.objects.qubit.Qubit object at 0x7f85549c9880>, <quantumnet.objects.qubit.Qubit object at 0x7f85549c97f0>, <quantumnet.objects.qubit.Qubit object at 0x7f85549c9760>, <quantumnet.objects.qubit.Qubit object at 0x7f85549c9820>, <quantumnet.objects.qubit.Qubit object at 0x7f85549c9850>, <quantumnet.objects.qubit.Qubit object at 0x7f85549c9520>, <quantumnet.objects.qubit.Qubit object at 0x7f8554a33c10>, <quantumnet.objects.qubit.Qubit object at 0x7f853a537f40>, <quantumnet.objects.qubit.Qubit object at 0x7f85549fb8e0>]\n"
     ]
    }
   ],
   "source": [
    "print('memoria de alice:',(alice.memory))\n",
    "print('memoria de bob:',(bob.memory))"
   ]
  },
  {
   "cell_type": "code",
   "execution_count": 10,
   "metadata": {},
   "outputs": [
    {
     "name": "stderr",
     "output_type": "stream",
     "text": [
      "2024-08-06 13:44:36,116: Número insuficiente de qubits na memória de Alice (Host 0). Tentando transmitir os 9 qubits disponíveis.\n",
      "2024-08-06 13:44:36,117: Rota válida encontrada: [0, 3, 6, 7, 8]\n",
      "2024-08-06 13:44:36,118: Rota válida encontrada: [0, 3, 6, 7, 8]\n",
      "2024-08-06 13:44:36,119: Rota válida encontrada: [0, 3, 6, 7, 8]\n",
      "2024-08-06 13:44:36,120: Rota válida encontrada: [0, 3, 6, 7, 8]\n",
      "2024-08-06 13:44:36,121: Rota válida encontrada: [0, 3, 6, 7, 8]\n",
      "2024-08-06 13:44:36,122: Rota válida encontrada: [0, 3, 6, 7, 8]\n",
      "2024-08-06 13:44:36,122: Rota válida encontrada: [0, 3, 6, 7, 8]\n",
      "2024-08-06 13:44:36,123: Rota válida encontrada: [0, 3, 6, 7, 8]\n",
      "2024-08-06 13:44:36,124: Rota válida encontrada: [0, 3, 6, 7, 8]\n",
      "2024-08-06 13:44:36,125: Teletransporte de qubit de 0 para 8 foi bem-sucedido com fidelidade final de 0.023430932424871324.\n",
      "2024-08-06 13:44:36,127: Teletransporte de qubit de 0 para 8 foi bem-sucedido com fidelidade final de 0.02483094756786277.\n",
      "2024-08-06 13:44:36,129: Teletransporte de qubit de 0 para 8 foi bem-sucedido com fidelidade final de 0.4552625258981932.\n",
      "2024-08-06 13:44:36,130: Teletransporte de qubit de 0 para 8 foi bem-sucedido com fidelidade final de 0.18278974124093514.\n",
      "2024-08-06 13:44:36,131: Teletransporte de qubit de 0 para 8 foi bem-sucedido com fidelidade final de 0.5089881292437219.\n",
      "2024-08-06 13:44:36,132: Teletransporte de qubit de 0 para 8 foi bem-sucedido com fidelidade final de 0.002642554136158287.\n",
      "2024-08-06 13:44:36,133: Teletransporte de qubit de 0 para 8 foi bem-sucedido com fidelidade final de 0.3240365321346043.\n",
      "2024-08-06 13:44:36,134: Teletransporte de qubit de 0 para 8 foi bem-sucedido com fidelidade final de 0.3823856966017022.\n",
      "2024-08-06 13:44:36,137: Teletransporte de qubit de 0 para 8 foi bem-sucedido com fidelidade final de 0.474905392069846.\n",
      "2024-08-06 13:44:36,138: Transmissão e teletransporte de 9 qubits entre 0 e 8 concluídos com sucesso.\n"
     ]
    },
    {
     "data": {
      "text/plain": [
       "True"
      ]
     },
     "execution_count": 10,
     "metadata": {},
     "output_type": "execute_result"
    }
   ],
   "source": [
    "rede.transportlayer.run_transport_layer(0,8,11)"
   ]
  },
  {
   "cell_type": "code",
   "execution_count": 11,
   "metadata": {},
   "outputs": [
    {
     "data": {
      "text/plain": [
       "[{'route': [0, 3, 6, 7, 8], 'alice_id': 0, 'bob_id': 8},\n",
       " {'route': [0, 3, 6, 7, 8], 'alice_id': 0, 'bob_id': 8},\n",
       " {'alice_id': 0,\n",
       "  'bob_id': 8,\n",
       "  'route': [0, 3, 6, 7, 8],\n",
       "  'fidelity_alice': 0.22236666327330223,\n",
       "  'fidelity_bob': 0.8683799672313123,\n",
       "  'fidelity_route': 1.0,\n",
       "  'F_final': 0.19309875576660646,\n",
       "  'qubit_alice': <quantumnet.objects.qubit.Qubit at 0x7f85549fb8e0>,\n",
       "  'qubit_bob': <quantumnet.objects.qubit.Qubit at 0x7f8554a20c70>,\n",
       "  'success': True},\n",
       " {'alice_id': 0,\n",
       "  'bob_id': 8,\n",
       "  'route': [0, 3, 6, 7, 8],\n",
       "  'fidelity_alice': 0.03546463361229679,\n",
       "  'fidelity_bob': 0.6606844633169148,\n",
       "  'fidelity_route': 1.0,\n",
       "  'F_final': 0.023430932424871324,\n",
       "  'qubit_alice': <quantumnet.objects.qubit.Qubit at 0x7f85500ef850>,\n",
       "  'qubit_bob': <quantumnet.objects.qubit.Qubit at 0x7f85549c9400>,\n",
       "  'success': True},\n",
       " {'alice_id': 0,\n",
       "  'bob_id': 8,\n",
       "  'route': [0, 3, 6, 7, 8],\n",
       "  'fidelity_alice': 0.48591155831936306,\n",
       "  'fidelity_bob': 0.05110178414719402,\n",
       "  'fidelity_route': 1.0,\n",
       "  'F_final': 0.02483094756786277,\n",
       "  'qubit_alice': <quantumnet.objects.qubit.Qubit at 0x7f8550081b50>,\n",
       "  'qubit_bob': <quantumnet.objects.qubit.Qubit at 0x7f85549c9880>,\n",
       "  'success': True},\n",
       " {'alice_id': 0,\n",
       "  'bob_id': 8,\n",
       "  'route': [0, 3, 6, 7, 8],\n",
       "  'fidelity_alice': 0.6307432889409371,\n",
       "  'fidelity_bob': 0.7217873481660207,\n",
       "  'fidelity_route': 1.0,\n",
       "  'F_final': 0.4552625258981932,\n",
       "  'qubit_alice': <quantumnet.objects.qubit.Qubit at 0x7f855390b130>,\n",
       "  'qubit_bob': <quantumnet.objects.qubit.Qubit at 0x7f85549c97f0>,\n",
       "  'success': True},\n",
       " {'alice_id': 0,\n",
       "  'bob_id': 8,\n",
       "  'route': [0, 3, 6, 7, 8],\n",
       "  'fidelity_alice': 0.8757484921736599,\n",
       "  'fidelity_bob': 0.20872401479931768,\n",
       "  'fidelity_route': 1.0,\n",
       "  'F_final': 0.18278974124093514,\n",
       "  'qubit_alice': <quantumnet.objects.qubit.Qubit at 0x7f8550081b80>,\n",
       "  'qubit_bob': <quantumnet.objects.qubit.Qubit at 0x7f85549c9760>,\n",
       "  'success': True},\n",
       " {'alice_id': 0,\n",
       "  'bob_id': 8,\n",
       "  'route': [0, 3, 6, 7, 8],\n",
       "  'fidelity_alice': 0.8420997139275198,\n",
       "  'fidelity_bob': 0.6044273864787596,\n",
       "  'fidelity_route': 1.0,\n",
       "  'F_final': 0.5089881292437219,\n",
       "  'qubit_alice': <quantumnet.objects.qubit.Qubit at 0x7f8550081a60>,\n",
       "  'qubit_bob': <quantumnet.objects.qubit.Qubit at 0x7f85549c9820>,\n",
       "  'success': True},\n",
       " {'alice_id': 0,\n",
       "  'bob_id': 8,\n",
       "  'route': [0, 3, 6, 7, 8],\n",
       "  'fidelity_alice': 0.16856713140018187,\n",
       "  'fidelity_bob': 0.015676568226606458,\n",
       "  'fidelity_route': 1.0,\n",
       "  'F_final': 0.002642554136158287,\n",
       "  'qubit_alice': <quantumnet.objects.qubit.Qubit at 0x7f853a7273d0>,\n",
       "  'qubit_bob': <quantumnet.objects.qubit.Qubit at 0x7f85549c9850>,\n",
       "  'success': True},\n",
       " {'alice_id': 0,\n",
       "  'bob_id': 8,\n",
       "  'route': [0, 3, 6, 7, 8],\n",
       "  'fidelity_alice': 0.42231009024166966,\n",
       "  'fidelity_bob': 0.7672952638881356,\n",
       "  'fidelity_route': 1.0,\n",
       "  'F_final': 0.3240365321346043,\n",
       "  'qubit_alice': <quantumnet.objects.qubit.Qubit at 0x7f85549fb670>,\n",
       "  'qubit_bob': <quantumnet.objects.qubit.Qubit at 0x7f85549c9520>,\n",
       "  'success': True},\n",
       " {'alice_id': 0,\n",
       "  'bob_id': 8,\n",
       "  'route': [0, 3, 6, 7, 8],\n",
       "  'fidelity_alice': 0.6030458653626366,\n",
       "  'fidelity_bob': 0.6340905701621181,\n",
       "  'fidelity_route': 1.0,\n",
       "  'F_final': 0.3823856966017022,\n",
       "  'qubit_alice': <quantumnet.objects.qubit.Qubit at 0x7f853a7271f0>,\n",
       "  'qubit_bob': <quantumnet.objects.qubit.Qubit at 0x7f8554a33c10>,\n",
       "  'success': True},\n",
       " {'alice_id': 0,\n",
       "  'bob_id': 8,\n",
       "  'route': [0, 3, 6, 7, 8],\n",
       "  'fidelity_alice': 0.9641381659666302,\n",
       "  'fidelity_bob': 0.4925698502908171,\n",
       "  'fidelity_route': 1.0,\n",
       "  'F_final': 0.474905392069846,\n",
       "  'qubit_alice': <quantumnet.objects.qubit.Qubit at 0x7f853a727460>,\n",
       "  'qubit_bob': <quantumnet.objects.qubit.Qubit at 0x7f853a537f40>,\n",
       "  'success': True}]"
      ]
     },
     "execution_count": 11,
     "metadata": {},
     "output_type": "execute_result"
    }
   ],
   "source": [
    "rede.transportlayer.get_teleported_qubits()"
   ]
  },
  {
   "cell_type": "code",
   "execution_count": 12,
   "metadata": {},
   "outputs": [
    {
     "name": "stdout",
     "output_type": "stream",
     "text": [
      "memoria de alice: []\n",
      "memoria de bob: [<quantumnet.objects.qubit.Qubit object at 0x7f85549fb8e0>, <quantumnet.objects.qubit.Qubit object at 0x7f85500ef850>, <quantumnet.objects.qubit.Qubit object at 0x7f8550081b50>, <quantumnet.objects.qubit.Qubit object at 0x7f855390b130>, <quantumnet.objects.qubit.Qubit object at 0x7f8550081b80>, <quantumnet.objects.qubit.Qubit object at 0x7f8550081a60>, <quantumnet.objects.qubit.Qubit object at 0x7f853a7273d0>, <quantumnet.objects.qubit.Qubit object at 0x7f85549fb670>, <quantumnet.objects.qubit.Qubit object at 0x7f853a7271f0>, <quantumnet.objects.qubit.Qubit object at 0x7f853a727460>]\n"
     ]
    }
   ],
   "source": [
    "print('memoria de alice:',(alice.memory))\n",
    "print('memoria de bob:',(bob.memory))"
   ]
  }
 ],
 "metadata": {
  "kernelspec": {
   "display_name": "Python 3",
   "language": "python",
   "name": "python3"
  },
  "language_info": {
   "codemirror_mode": {
    "name": "ipython",
    "version": 3
   },
   "file_extension": ".py",
   "mimetype": "text/x-python",
   "name": "python",
   "nbconvert_exporter": "python",
   "pygments_lexer": "ipython3",
   "version": "3.9.2"
  }
 },
 "nbformat": 4,
 "nbformat_minor": 2
}
